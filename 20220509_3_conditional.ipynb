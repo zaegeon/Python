{
  "nbformat": 4,
  "nbformat_minor": 0,
  "metadata": {
    "colab": {
      "name": "20220509_3_conditional.ipynb",
      "provenance": [],
      "collapsed_sections": [],
      "authorship_tag": "ABX9TyMNOrb0+ur9ObZusbyueJHL",
      "include_colab_link": true
    },
    "kernelspec": {
      "name": "python3",
      "display_name": "Python 3"
    },
    "language_info": {
      "name": "python"
    }
  },
  "cells": [
    {
      "cell_type": "markdown",
      "metadata": {
        "id": "view-in-github",
        "colab_type": "text"
      },
      "source": [
        "<a href=\"https://colab.research.google.com/github/zaegeon/Python/blob/main/20220509_3_conditional.ipynb\" target=\"_parent\"><img src=\"https://colab.research.google.com/assets/colab-badge.svg\" alt=\"Open In Colab\"/></a>"
      ]
    },
    {
      "cell_type": "markdown",
      "source": [
        "# 조건문 (Conditional Statement)"
      ],
      "metadata": {
        "id": "bczQn8cOwloQ"
      }
    },
    {
      "cell_type": "markdown",
      "source": [
        "## else 없는 조건문\n",
        "```\n",
        "if 조건식 : \n",
        "  조건을 만족할 때 실행할 코드 블록(문장들).\n",
        "```\n",
        "\n",
        "*  `if 조건식` 뒤에는 반드시 콜론(:) 써야함. 블록 시작을 의미.\n",
        "*   if 블록은 반드시 들여쓰기(indentation)를 해야 함.\n",
        "*   들여쓰기의 크기는 일정해야 함."
      ],
      "metadata": {
        "id": "tselQc-vxZ1A"
      }
    },
    {
      "cell_type": "code",
      "source": [
        "age = 16\n",
        "if age >= 0:\n",
        "    print(f'당신의 나이는 {age}살 이군요.') # (1)\n",
        "print('End') # (2) if 블록이 끝났을 때 실행할 문장"
      ],
      "metadata": {
        "colab": {
          "base_uri": "https://localhost:8080/"
        },
        "id": "OwxwuJp4y-jB",
        "outputId": "5b746c78-daf6-486d-8935-da9ba65c4859"
      },
      "execution_count": null,
      "outputs": [
        {
          "output_type": "stream",
          "name": "stdout",
          "text": [
            "당신의 나이는 16살 이군요.\n",
            "End\n"
          ]
        }
      ]
    },
    {
      "cell_type": "markdown",
      "source": [
        "## else 있는 조건문\n",
        "\n",
        "```\n",
        "if 조건식:\n",
        "    조건식을 만족할 때 실행할 코드 블록\n",
        "else:\n",
        "    조건식을 만족하지 못할 때 실행할 코드 블록\n",
        "```\n",
        "\n",
        "* `if 조건식`과 `else` 뒤에는 반드시 콜론(:)을 써야 함.\n",
        "* if 블록과 else 블록은 반드시 들여쓰기를 해야 함.\n",
        "* 들여쓰기의 크기는 일정해야 함."
      ],
      "metadata": {
        "id": "e4wH0yGK3m_h"
      }
    },
    {
      "cell_type": "code",
      "source": [
        "age = 16\n",
        "if age >= 0:\n",
        "    print(f'정상적인 나이 입력값 : {age}') # (1)\n",
        "else:\n",
        "    print('Error!') # (2)\n",
        "print('End.') # (3)"
      ],
      "metadata": {
        "colab": {
          "base_uri": "https://localhost:8080/"
        },
        "id": "GoooXSMO47Mq",
        "outputId": "5f1c961b-9ec2-404a-898e-349fe415d1bc"
      },
      "execution_count": 3,
      "outputs": [
        {
          "output_type": "stream",
          "name": "stdout",
          "text": [
            "정상적인 나이 입력값 : 16\n",
            "End.\n"
          ]
        }
      ]
    },
    {
      "cell_type": "markdown",
      "source": [
        "## Chained Conditionals\n",
        "\n",
        "```\n",
        "if 조건식1:\n",
        "    (조건식1)을 만족할 때 실행할 코드 블록\n",
        "elif 조건식2:\n",
        "    (조건식2)를 만족할 때 실행할 코드 블록\n",
        "\n",
        "...\n",
        "\n",
        "else:\n",
        "    위의 모든 조건식을 만족하지 못할 때 실행할 코드 블록\n",
        "```\n",
        "*  모든 블록들은 들여쓰기를 해야 함.\n",
        "*  elif 블록은 2개 이상 있을 수 있음.\n",
        "*  else 블록은 생략 가능.\n"
      ],
      "metadata": {
        "id": "GN18X9nhg8Ts"
      }
    },
    {
      "cell_type": "code",
      "source": [
        "score1 = int(input('정수 입력>>> '))\n",
        "score2 = int(input('정수 입력>>> '))\n",
        "score3 = int(input('정수 입력>>> '))\n",
        "\n",
        "# 정수 3개 평균 계산하고 출력\n",
        "mean = (score1 + score2 + score3) / 3\n",
        "\n",
        "# A, B, C, F 결정\n",
        "print('평균 = ', round(mean,2))\n",
        "if mean >= 90:\n",
        "    print('A')\n",
        "elif mean >= 80:   # 80 <= mean < 90 라고 검사할 필요 없음.\n",
        "    print('B')\n",
        "elif mean >= 70:\n",
        "    print('C')\n",
        "else:\n",
        "    print('F')"
      ],
      "metadata": {
        "colab": {
          "base_uri": "https://localhost:8080/"
        },
        "id": "9P5Ospkrilez",
        "outputId": "31629d4d-1366-4de0-f750-6c2a0ed383dc"
      },
      "execution_count": null,
      "outputs": [
        {
          "output_type": "stream",
          "name": "stdout",
          "text": [
            "정수 입력>>> 90\n",
            "정수 입력>>> 75\n",
            "정수 입력>>> 100\n",
            "평균 =  88.33\n",
            "B\n"
          ]
        }
      ]
    },
    {
      "cell_type": "markdown",
      "source": [
        "* 숫자(실수) 1개를 입력받고 변수에 저장\n",
        "* 숫자 양수, 음수, 0인지를 출력"
      ],
      "metadata": {
        "id": "1vBHSh0zpa05"
      }
    },
    {
      "cell_type": "code",
      "source": [
        "number = float(input('숫자 입력>>> '))\n",
        "if number > 0:\n",
        "    print('양수')\n",
        "elif number == 0:\n",
        "    print('0')\n",
        "else:\n",
        "    print('음수')"
      ],
      "metadata": {
        "colab": {
          "base_uri": "https://localhost:8080/"
        },
        "id": "G93NpPjupdvP",
        "outputId": "9fb1f988-238f-4d7b-8420-1a77d7d5e56a"
      },
      "execution_count": 5,
      "outputs": [
        {
          "output_type": "stream",
          "name": "stdout",
          "text": [
            "숫자 입력>>> 0\n",
            "0\n"
          ]
        }
      ]
    },
    {
      "cell_type": "markdown",
      "source": [
        "## 중첩 조건문 (nested conditionals)\n",
        "* if 블록, elif 블록, else 블록 안에서 또 다른 조건문(if, if-else, if-elif-else)을 사용하는 것\n",
        "* 들여쓰기에 특히 주의! 들여쓰기 방법에 따라서 완전히 다른 실행 코드(로직)가 될 수 있음.\n",
        "* elif 또는 논리 연산자(and, or)를 사용하는 문장을 중첩 조건문으로 만들 수 있음.\n",
        "\n",
        "```\n",
        "if 조건식1:\n",
        "    if 조건식2:\n",
        "        코드 블록 (1)\n",
        "    else:\n",
        "        코드 블록 (2)\n",
        "```\n",
        "```\n",
        "if 조건식1:\n",
        "    코드 블록 (1)\n",
        "else:\n",
        "    if 조건식2:\n",
        "        코드 블록 (2)\n",
        "    else:\n",
        "        코드 블록 (3)\n",
        "```"
      ],
      "metadata": {
        "id": "jCeNKiwfqpp1"
      }
    },
    {
      "cell_type": "code",
      "source": [
        "number = float(input('숫자 입력>>> '))\n",
        "if number > 0:\n",
        "    print('positive number')\n",
        "else:   # number가 0보다 크지 않으면\n",
        "    if number == 0:\n",
        "        print('zero')\n",
        "    else:\n",
        "        print('negative number')"
      ],
      "metadata": {
        "colab": {
          "base_uri": "https://localhost:8080/"
        },
        "id": "Kk9JG5emtzl5",
        "outputId": "9ace72c5-0888-4a49-d57c-36ca033ad95f"
      },
      "execution_count": null,
      "outputs": [
        {
          "output_type": "stream",
          "name": "stdout",
          "text": [
            "숫자 입력>>> -30\n",
            "negative number\n"
          ]
        }
      ]
    },
    {
      "cell_type": "code",
      "source": [
        "x = int(input('정수 입력>>> '))\n",
        "y = int(input('정수 입력>>> '))\n",
        "z = int(input('정수 입력>>> '))\n",
        "\n",
        "mean = (x + y + z) / 3  # 평균\n",
        "print('mean =', mean)\n",
        "if mean >= 90:\n",
        "    print('A')\n",
        "else:\n",
        "    if mean >= 80:\n",
        "        print('B')\n",
        "    else:\n",
        "        if mean >= 70:\n",
        "            print('C')\n",
        "        else:\n",
        "            print('F')"
      ],
      "metadata": {
        "id": "bsxN3hGOdeOE",
        "colab": {
          "base_uri": "https://localhost:8080/"
        },
        "outputId": "0d92a787-b272-41e8-ca78-257194a4c721"
      },
      "execution_count": 6,
      "outputs": [
        {
          "output_type": "stream",
          "name": "stdout",
          "text": [
            "정수 입력>>> 74\n",
            "정수 입력>>> 80\n",
            "정수 입력>>> 92\n",
            "mean = 82.0\n",
            "B\n"
          ]
        }
      ]
    }
  ]
}