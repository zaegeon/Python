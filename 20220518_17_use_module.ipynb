{
  "nbformat": 4,
  "nbformat_minor": 0,
  "metadata": {
    "colab": {
      "name": "20220518_17_use_module.ipynb",
      "provenance": [],
      "collapsed_sections": [],
      "authorship_tag": "ABX9TyNha7u8NSNWdnj+qxlvKbDU",
      "include_colab_link": true
    },
    "kernelspec": {
      "name": "python3",
      "display_name": "Python 3"
    },
    "language_info": {
      "name": "python"
    }
  },
  "cells": [
    {
      "cell_type": "markdown",
      "metadata": {
        "id": "view-in-github",
        "colab_type": "text"
      },
      "source": [
        "<a href=\"https://colab.research.google.com/github/zaegeon/Python/blob/main/20220518_17_use_module.ipynb\" target=\"_parent\"><img src=\"https://colab.research.google.com/assets/colab-badge.svg\" alt=\"Open In Colab\"/></a>"
      ]
    },
    {
      "cell_type": "markdown",
      "source": [
        "# Google Drive 연결(mount, 마운트)"
      ],
      "metadata": {
        "id": "Ra9TGQWGaL_A"
      }
    },
    {
      "cell_type": "code",
      "source": [
        "from google.colab import drive\n",
        "drive.mount('/content/drive')"
      ],
      "metadata": {
        "id": "_26AkbEv_JFH"
      },
      "execution_count": null,
      "outputs": []
    },
    {
      "cell_type": "markdown",
      "source": [
        "# Python 실행 패스(path) 설정"
      ],
      "metadata": {
        "id": "3RQ9YRFJacZz"
      }
    },
    {
      "cell_type": "code",
      "execution_count": null,
      "metadata": {
        "id": "Xc3TlyCSY8zN"
      },
      "outputs": [],
      "source": [
        "import sys"
      ]
    },
    {
      "cell_type": "code",
      "source": [
        "# my_module.py 파일이 저장된 폴더 경로를 python이 인식할 수 있도록 path 설정.\n",
        "sys.path.append(\"/content/drive/MyDrive/ColabNotebooks/Lab_Python\")"
      ],
      "metadata": {
        "id": "JChRXsb4ay18"
      },
      "execution_count": null,
      "outputs": []
    },
    {
      "cell_type": "markdown",
      "source": [
        "# module import"
      ],
      "metadata": {
        "id": "gnl3RwBSbmd3"
      }
    },
    {
      "cell_type": "markdown",
      "source": [
        "모듈(module):\n",
        "\n",
        "* 파이썬 코드로 작성된 파일(*.py)\n",
        "* 함수 정의, 클래스 정의, 상수 값.\n"
      ],
      "metadata": {
        "id": "25Dlrc6vbz-e"
      }
    },
    {
      "cell_type": "markdown",
      "source": [
        "## 모듈 이름을 import"
      ],
      "metadata": {
        "id": "utXDSnMzctXA"
      }
    },
    {
      "cell_type": "code",
      "source": [
        "import my_module"
      ],
      "metadata": {
        "id": "60I8xDfQa8Kz"
      },
      "execution_count": null,
      "outputs": []
    },
    {
      "cell_type": "code",
      "source": [
        "my_module.add(1,2) # my_module.py 모듈에 작성된 add() 함수 호출"
      ],
      "metadata": {
        "colab": {
          "base_uri": "https://localhost:8080/"
        },
        "id": "QgVQrjp_crLC",
        "outputId": "a058463e-4f9e-41ce-c8a9-0010cd3734d6"
      },
      "execution_count": null,
      "outputs": [
        {
          "output_type": "execute_result",
          "data": {
            "text/plain": [
              "3"
            ]
          },
          "metadata": {},
          "execution_count": 14
        }
      ]
    },
    {
      "cell_type": "markdown",
      "source": [
        "## 모듈의 특정 함수/클래스 이름을 import"
      ],
      "metadata": {
        "id": "dhWwnTtIdBqM"
      }
    },
    {
      "cell_type": "code",
      "source": [
        "from my_module import subtract # my_module.py 파일에서 함수 subtract만 import"
      ],
      "metadata": {
        "id": "jTP6VzXgdQcK"
      },
      "execution_count": null,
      "outputs": []
    },
    {
      "cell_type": "code",
      "source": [
        "subtract(1,2)"
      ],
      "metadata": {
        "colab": {
          "base_uri": "https://localhost:8080/"
        },
        "id": "GuxFKwZ9dYOi",
        "outputId": "844daf04-f2a5-4737-85d0-0044ed7835e6"
      },
      "execution_count": null,
      "outputs": [
        {
          "output_type": "execute_result",
          "data": {
            "text/plain": [
              "-1"
            ]
          },
          "metadata": {},
          "execution_count": 16
        }
      ]
    },
    {
      "cell_type": "code",
      "source": [
        "t = my_module.Test('원기')\n",
        "t.hello()"
      ],
      "metadata": {
        "colab": {
          "base_uri": "https://localhost:8080/"
        },
        "id": "1TDXI0q8d9mc",
        "outputId": "ba63f5e7-002c-4bac-9495-8da3bf14f751"
      },
      "execution_count": null,
      "outputs": [
        {
          "output_type": "stream",
          "name": "stdout",
          "text": [
            "안녕하세요, 원기님!\n"
          ]
        }
      ]
    }
  ]
}