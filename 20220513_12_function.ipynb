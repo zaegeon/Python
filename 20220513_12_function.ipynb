{
  "nbformat": 4,
  "nbformat_minor": 0,
  "metadata": {
    "colab": {
      "name": "20220513_12_function.ipynb",
      "provenance": [],
      "collapsed_sections": [],
      "authorship_tag": "ABX9TyPTvtbEP8oRNLcpd742EKBc",
      "include_colab_link": true
    },
    "kernelspec": {
      "name": "python3",
      "display_name": "Python 3"
    },
    "language_info": {
      "name": "python"
    }
  },
  "cells": [
    {
      "cell_type": "markdown",
      "metadata": {
        "id": "view-in-github",
        "colab_type": "text"
      },
      "source": [
        "<a href=\"https://colab.research.google.com/github/zaegeon/Python/blob/main/20220513_12_function.ipynb\" target=\"_parent\"><img src=\"https://colab.research.google.com/assets/colab-badge.svg\" alt=\"Open In Colab\"/></a>"
      ]
    },
    {
      "cell_type": "markdown",
      "source": [
        "# 함수(Function)"
      ],
      "metadata": {
        "id": "jsqHCE8JKAzr"
      }
    },
    {
      "cell_type": "markdown",
      "source": [
        "* 함수(**function**) : 기능을 수행하는 코드 블록.\n",
        "* 인수(**argument**) : 함수가 기능을 수행하기 위해서 값이 필요한 경우 함수를 호출할 때 함수에게 전달하는 값(들).\n",
        "* 매개변수(**parameter**) : 함수를 호출할 때 전달하는 값들(argument) 저장하기 위해서 함수를 정의할 때 선언하는 변수.\n",
        "* 반환값(**return value**) : 함수가 기능을 수행한 후에 그 결과로 함수를 호출한 곳으로 반환해주는 값.\n",
        "    * 반환값이 있는 함수도 있고 반환값이 없는 함수도 있음."
      ],
      "metadata": {
        "id": "J5cLWNxnKXBZ"
      }
    },
    {
      "cell_type": "code",
      "execution_count": null,
      "metadata": {
        "colab": {
          "base_uri": "https://localhost:8080/"
        },
        "id": "iae2VSs-J868",
        "outputId": "3ea35ee1-ed5c-4dc8-9fd6-9b52ea4be826"
      },
      "outputs": [
        {
          "output_type": "stream",
          "name": "stdout",
          "text": [
            "5\n"
          ]
        }
      ],
      "source": [
        "result = len([1,2,3,4,5])\n",
        "print(result)\n",
        "\n",
        "# 함수 : len\n",
        "# argument : [1,2,3,4,5] → parameter에 저장되는 값.\n",
        "# 함수 호출 : len([1,2,3,4,5])\n",
        "# 반환값 : 5"
      ]
    },
    {
      "cell_type": "code",
      "source": [
        "result = print('안녕하세요')\n",
        "print(result) # None\n",
        "\n",
        "# 함수 : print\n",
        "# argument : '안녕하세요'\n",
        "# 함수 호출 : print('안녕하세요')\n",
        "# 반환값 : None - print 함수는 기능 수행 중 아무런 값도 반환하지 않음."
      ],
      "metadata": {
        "colab": {
          "base_uri": "https://localhost:8080/"
        },
        "id": "Ovqf8RXnOQtn",
        "outputId": "1aafc5fe-bb10-4eae-8ace-4d322c0934df"
      },
      "execution_count": null,
      "outputs": [
        {
          "output_type": "stream",
          "name": "stdout",
          "text": [
            "안녕하세요\n",
            "None\n"
          ]
        }
      ]
    },
    {
      "cell_type": "markdown",
      "source": [
        "# 함수 정의 방법"
      ],
      "metadata": {
        "id": "gHKMZh-wPP09"
      }
    },
    {
      "cell_type": "markdown",
      "source": [
        "```\n",
        "def function_name([param, ...]):\n",
        "    [\"\"\"문서화 주석(documentation) : 함수에 대한 설명\"\"\"]\n",
        "    함수가 수행하는 기능을 코드 블록으로 작성\n",
        "    [return 반환값]\n",
        "```"
      ],
      "metadata": {
        "id": "M5Jpt9xpPZsz"
      }
    },
    {
      "cell_type": "code",
      "source": [
        "def subtract(x, y):\n",
        "    \"\"\"숫자 2개를 전달받아서 x-y 결과를 반환\"\"\"\n",
        "    return x - y"
      ],
      "metadata": {
        "id": "r3IEeFyMQODS"
      },
      "execution_count": null,
      "outputs": []
    },
    {
      "cell_type": "code",
      "source": [
        "result = subtract(1, 2)\n",
        "print(result)"
      ],
      "metadata": {
        "colab": {
          "base_uri": "https://localhost:8080/"
        },
        "id": "oDWjhltUReWa",
        "outputId": "11dc9594-4ac4-41c7-a517-e9f47c1b6843"
      },
      "execution_count": null,
      "outputs": [
        {
          "output_type": "stream",
          "name": "stdout",
          "text": [
            "-1\n"
          ]
        }
      ]
    },
    {
      "cell_type": "code",
      "source": [
        "def add(x, y):\n",
        "    \"\"\"두 숫자 x + y의 결과를 반환.\"\"\"\n",
        "    return x+y"
      ],
      "metadata": {
        "id": "0ofEXOWSXoC2"
      },
      "execution_count": null,
      "outputs": []
    },
    {
      "cell_type": "code",
      "source": [
        "add(1,3)"
      ],
      "metadata": {
        "colab": {
          "base_uri": "https://localhost:8080/"
        },
        "id": "gXrplzxpXwtX",
        "outputId": "6c5b0462-58cf-451d-9edc-15fd73c730ad"
      },
      "execution_count": null,
      "outputs": [
        {
          "output_type": "execute_result",
          "data": {
            "text/plain": [
              "4"
            ]
          },
          "metadata": {},
          "execution_count": 7
        }
      ]
    },
    {
      "cell_type": "code",
      "source": [
        "# 2개 이상의 값을 반환하는 함수\n",
        "def plus_and_minus(x, y):\n",
        "    \"\"\"2개 숫자의 x + y 값과 x - y 값을 반환.\"\"\"\n",
        "    return x + y, x - y"
      ],
      "metadata": {
        "id": "YVdkIOJ-ZWL8"
      },
      "execution_count": null,
      "outputs": []
    },
    {
      "cell_type": "code",
      "source": [
        "result = plus_and_minus(1, 2)\n",
        "print(result) # (3, -1)\n",
        "print(type(result)) # <class 'tuple'>"
      ],
      "metadata": {
        "colab": {
          "base_uri": "https://localhost:8080/"
        },
        "id": "m6GGH1YBaHLU",
        "outputId": "453c3375-56ae-4458-e053-56f6bb1887dc"
      },
      "execution_count": null,
      "outputs": [
        {
          "output_type": "stream",
          "name": "stdout",
          "text": [
            "(3, -1)\n",
            "<class 'tuple'>\n"
          ]
        }
      ]
    },
    {
      "cell_type": "code",
      "source": [
        "a, b = plus_and_minus(1, 2) # tuple decomposition(분해) : a, b = (3, -1)\n",
        "print(a,b)"
      ],
      "metadata": {
        "colab": {
          "base_uri": "https://localhost:8080/"
        },
        "id": "wiBRNdsEbRqF",
        "outputId": "979b2391-c0b6-4208-e141-005a2dcce947"
      },
      "execution_count": null,
      "outputs": [
        {
          "output_type": "stream",
          "name": "stdout",
          "text": [
            "3 -1\n"
          ]
        }
      ]
    },
    {
      "cell_type": "markdown",
      "source": [
        "## 값을 반환하지 않는 함수"
      ],
      "metadata": {
        "id": "wBLKsNLzbnIZ"
      }
    },
    {
      "cell_type": "code",
      "source": [
        "def repeat_message(message, n):\n",
        "    \"\"\"message를 n번 반복해서 출력.\n",
        "    \n",
        "    @param message: str.\n",
        "    @param n: int. (n ≥ 0)\n",
        "    @return: None\n",
        "    \"\"\"\n",
        "    for _ in range(n):\n",
        "        print(message)\n",
        "\n",
        "    return None # 반환값이 없는 함수인 경우, 보통 return None 문장은 생략함."
      ],
      "metadata": {
        "id": "DzOfSxPLbs9R"
      },
      "execution_count": null,
      "outputs": []
    },
    {
      "cell_type": "code",
      "source": [
        "repeat_message('그림', 3)"
      ],
      "metadata": {
        "colab": {
          "base_uri": "https://localhost:8080/"
        },
        "id": "x0jt22jSd8S1",
        "outputId": "7d9bac1d-baff-452c-d991-91310fd601d1"
      },
      "execution_count": null,
      "outputs": [
        {
          "output_type": "stream",
          "name": "stdout",
          "text": [
            "그림\n",
            "그림\n",
            "그림\n"
          ]
        }
      ]
    },
    {
      "cell_type": "code",
      "source": [
        "repeat_message('Hello, Python!', 5)\n",
        "print('함수 호출 끝')"
      ],
      "metadata": {
        "colab": {
          "base_uri": "https://localhost:8080/"
        },
        "id": "hFOMMSDyfKEn",
        "outputId": "bd027377-af2d-477e-d893-79e5d78b29c3"
      },
      "execution_count": null,
      "outputs": [
        {
          "output_type": "stream",
          "name": "stdout",
          "text": [
            "Hello, Python!\n",
            "Hello, Python!\n",
            "Hello, Python!\n",
            "Hello, Python!\n",
            "Hello, Python!\n",
            "함수 호출 끝\n"
          ]
        }
      ]
    },
    {
      "cell_type": "markdown",
      "source": [
        "# 함수 정의 연습"
      ],
      "metadata": {
        "id": "LvkTOuuNg0E3"
      }
    },
    {
      "cell_type": "markdown",
      "source": [
        "* 함수 이름 : make_list\n",
        "* 기능 : [start, end) 범위의 정수 난수 n개를 갖는 리스트를 반환."
      ],
      "metadata": {
        "id": "TC5jYHwdg3qz"
      }
    },
    {
      "cell_type": "code",
      "source": [
        "import random as rd"
      ],
      "metadata": {
        "id": "-hNpO8ayiBUr"
      },
      "execution_count": null,
      "outputs": []
    },
    {
      "cell_type": "code",
      "source": [
        "def make_list(start, end, n):\n",
        "    x = [] # n개의 난수를 저장할 빈 리스트\n",
        "    for _ in range(n):\n",
        "        x.append(rd.randrange(start, end))\n",
        "\n",
        "    return x"
      ],
      "metadata": {
        "id": "98cT6fhZgzvI"
      },
      "execution_count": null,
      "outputs": []
    },
    {
      "cell_type": "code",
      "source": [
        "make_list(1, 46, 7)"
      ],
      "metadata": {
        "colab": {
          "base_uri": "https://localhost:8080/"
        },
        "id": "XU0sxkHuiDAe",
        "outputId": "50ecff73-f4b9-4c66-9ada-e2fccafa830c"
      },
      "execution_count": null,
      "outputs": [
        {
          "output_type": "execute_result",
          "data": {
            "text/plain": [
              "[3, 40, 20, 45, 31, 40, 21]"
            ]
          },
          "metadata": {},
          "execution_count": 27
        }
      ]
    },
    {
      "cell_type": "markdown",
      "source": [
        "* 식(expression): 값(literal), 연산의 결과, 함수 호출 결과\n",
        "    * 1, 'hello'\n",
        "    * 1 + 2, 1 > 2\n",
        "* 문장(statement) : 가장 작은 코드 실행 단위.\n",
        "    * `x = 1`\n",
        "    * `print(x)`\n",
        "* 식(expression)은 문장(statement)의 일부가 됨.\n",
        "    * `result = '짝수' if x % 2 == 0 else '홀수'`\n",
        "\n",
        "* Jupyter notebook : 코드 셀, 콘솔, 텍스트 셀\n",
        "    * Jupyter notebook의 편의 기능 중에 코드 셀에서 가장 마지막 줄이 식(expression)인 경우, 그 식을 평가(계산)해서 그 값을 콘솔 창에 출력해줌.\n",
        "    * 코드 셀의 가장 마지막이 아닌 줄에 문장이 아니라 식이 있으면 그 식의 결과는 출력되지 않음."
      ],
      "metadata": {
        "id": "-w7b8xxjm1VY"
      }
    },
    {
      "cell_type": "code",
      "source": [
        "print(1 + 2) # 식 1 + 2의 결과를 출력하세요."
      ],
      "metadata": {
        "colab": {
          "base_uri": "https://localhost:8080/"
        },
        "id": "v5r0YAH8pF9b",
        "outputId": "9b9f5baa-3ce7-487f-a2a3-9f2e3e8eecbc"
      },
      "execution_count": null,
      "outputs": [
        {
          "output_type": "stream",
          "name": "stdout",
          "text": [
            "3\n"
          ]
        }
      ]
    },
    {
      "cell_type": "code",
      "source": [
        "1 + 3 # 식 1 + 3"
      ],
      "metadata": {
        "colab": {
          "base_uri": "https://localhost:8080/"
        },
        "id": "Nr_4rVHYpfaB",
        "outputId": "22ba61de-0866-470c-a891-b239e2a0d40e"
      },
      "execution_count": null,
      "outputs": [
        {
          "output_type": "execute_result",
          "data": {
            "text/plain": [
              "4"
            ]
          },
          "metadata": {},
          "execution_count": 29
        }
      ]
    },
    {
      "cell_type": "code",
      "source": [
        "1 + 2 # 식\n",
        "1 + 3 # 식\n",
        "1 + 4 # 식\n",
        "# 마지막 줄의 식 결과만 출력 (5)"
      ],
      "metadata": {
        "colab": {
          "base_uri": "https://localhost:8080/"
        },
        "id": "Z7T_dIOLphkp",
        "outputId": "e4265e7a-a25a-4145-dddc-c786d3681205"
      },
      "execution_count": null,
      "outputs": [
        {
          "output_type": "execute_result",
          "data": {
            "text/plain": [
              "5"
            ]
          },
          "metadata": {},
          "execution_count": 31
        }
      ]
    },
    {
      "cell_type": "code",
      "source": [
        "print(1 + 2) # 문장\n",
        "print(1 + 3) # 문장\n",
        "1 + 4 # 식\n",
        "# 문장들 + 마지막 줄의 식 결과 출력 (3 / 4 / 5)"
      ],
      "metadata": {
        "colab": {
          "base_uri": "https://localhost:8080/"
        },
        "id": "-Jlu_XkXphfz",
        "outputId": "4be7f213-6482-4e25-8dfe-503595429da4"
      },
      "execution_count": null,
      "outputs": [
        {
          "output_type": "stream",
          "name": "stdout",
          "text": [
            "3\n",
            "4\n"
          ]
        },
        {
          "output_type": "execute_result",
          "data": {
            "text/plain": [
              "5"
            ]
          },
          "metadata": {},
          "execution_count": 32
        }
      ]
    },
    {
      "cell_type": "code",
      "source": [
        "result = sum([1, 2, 3, 4, 5]) # sum() 함수의 호출 결과를 변수 result에 저장하세요.\n",
        "print(result) # 변수 result에 저장된 값을 출력하세요.\n",
        "result # 식"
      ],
      "metadata": {
        "colab": {
          "base_uri": "https://localhost:8080/"
        },
        "id": "vsqG1i99q3MC",
        "outputId": "8c614268-0904-494d-d95d-7087002d2df7"
      },
      "execution_count": null,
      "outputs": [
        {
          "output_type": "stream",
          "name": "stdout",
          "text": [
            "15\n"
          ]
        },
        {
          "output_type": "execute_result",
          "data": {
            "text/plain": [
              "15"
            ]
          },
          "metadata": {},
          "execution_count": 34
        }
      ]
    }
  ]
}