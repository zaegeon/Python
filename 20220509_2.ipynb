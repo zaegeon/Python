{
  "nbformat": 4,
  "nbformat_minor": 0,
  "metadata": {
    "colab": {
      "name": "20220509_2.ipynb",
      "provenance": [],
      "collapsed_sections": [],
      "authorship_tag": "ABX9TyNb657F9PKX7RDKvctMO0PR",
      "include_colab_link": true
    },
    "kernelspec": {
      "name": "python3",
      "display_name": "Python 3"
    },
    "language_info": {
      "name": "python"
    }
  },
  "cells": [
    {
      "cell_type": "markdown",
      "metadata": {
        "id": "view-in-github",
        "colab_type": "text"
      },
      "source": [
        "<a href=\"https://colab.research.google.com/github/zaegeon/Python/blob/main/20220509_2.ipynb\" target=\"_parent\"><img src=\"https://colab.research.google.com/assets/colab-badge.svg\" alt=\"Open In Colab\"/></a>"
      ]
    },
    {
      "cell_type": "markdown",
      "source": [
        "# Python Data Type (자료 타입)\n",
        "\n",
        "*   숫자 타입\n",
        "    * 정수 (int)\n",
        "    * 실수 (float)\n",
        "*   문자열 (str)\n",
        "*   논리 타입 (bool) : True / False 두 가지 상태를 저장하는 변수.\n",
        "\n",
        "\n"
      ],
      "metadata": {
        "id": "tVvNiH6DyT4O"
      }
    },
    {
      "cell_type": "markdown",
      "source": [
        "## 숫자 타입"
      ],
      "metadata": {
        "id": "JgTe0eSIKF-Y"
      }
    },
    {
      "cell_type": "code",
      "execution_count": null,
      "metadata": {
        "colab": {
          "base_uri": "https://localhost:8080/"
        },
        "id": "bkZlp-JjxQq5",
        "outputId": "7fcfb1af-3e30-41cd-aa7c-7d92f1a14d56"
      },
      "outputs": [
        {
          "output_type": "stream",
          "name": "stdout",
          "text": [
            "<class 'int'>\n",
            "n = 100\n"
          ]
        }
      ],
      "source": [
        "n = 100 # 변수 = 값\n",
        "print(type(n)) # 'int'\n",
        "print('n =', n)"
      ]
    },
    {
      "cell_type": "code",
      "source": [
        "n = 3.14\n",
        "print(type(n)) # 'float'\n",
        "print('n=', n)"
      ],
      "metadata": {
        "colab": {
          "base_uri": "https://localhost:8080/"
        },
        "id": "64jB44HSKE_Z",
        "outputId": "1834dbd9-3cfe-4a39-aae7-7880d0b37c55"
      },
      "execution_count": null,
      "outputs": [
        {
          "output_type": "stream",
          "name": "stdout",
          "text": [
            "<class 'float'>\n",
            "n= 3.14\n"
          ]
        }
      ]
    },
    {
      "cell_type": "markdown",
      "source": [
        "## 문자열 타입"
      ],
      "metadata": {
        "id": "pk-1U1tuKRlJ"
      }
    },
    {
      "cell_type": "code",
      "source": [
        "s = '안녕하세요.'\n",
        "print(type(s)) # 'str'\n",
        "print(s)"
      ],
      "metadata": {
        "colab": {
          "base_uri": "https://localhost:8080/"
        },
        "id": "xNlJaCfaKUgR",
        "outputId": "ad8ca3ae-667a-4c9f-af06-c6988f13942f"
      },
      "execution_count": null,
      "outputs": [
        {
          "output_type": "stream",
          "name": "stdout",
          "text": [
            "<class 'str'>\n",
            "안녕하세요.\n"
          ]
        }
      ]
    },
    {
      "cell_type": "markdown",
      "source": [
        "파이썬에서 문자열은 작은 따옴표('') 와 큰따옴표(\"\")를 모두 사용할 수 있음.\n",
        " \n",
        "아래의 두문장은 같은 문장.\n",
        "\n",
        "\n",
        "```\n",
        "s = 'hello'\n",
        "s = \"hello\"\n",
        "```\n"
      ],
      "metadata": {
        "id": "BkcTYXvtLb_Q"
      }
    },
    {
      "cell_type": "markdown",
      "source": [
        "## 논리 타입"
      ],
      "metadata": {
        "id": "XHFe6Vb1NNKy"
      }
    },
    {
      "cell_type": "code",
      "source": [
        "b = True # 파이썬의 예약어(keyword)는 대소문자를 구분!\n",
        "print(type(b)) # 'bool'\n",
        "print(b)"
      ],
      "metadata": {
        "colab": {
          "base_uri": "https://localhost:8080/"
        },
        "id": "BOWhH845NX3C",
        "outputId": "dcdb7798-1252-44cb-b197-bf5f1a43ceed"
      },
      "execution_count": null,
      "outputs": [
        {
          "output_type": "stream",
          "name": "stdout",
          "text": [
            "<class 'bool'>\n",
            "True\n"
          ]
        }
      ]
    },
    {
      "cell_type": "code",
      "source": [
        "b = true # Error"
      ],
      "metadata": {
        "id": "B70V3zr0NlFy",
        "colab": {
          "base_uri": "https://localhost:8080/",
          "height": 174
        },
        "outputId": "bc58d9a6-e468-460c-ba83-61e76384f518"
      },
      "execution_count": null,
      "outputs": [
        {
          "output_type": "error",
          "ename": "NameError",
          "evalue": "ignored",
          "traceback": [
            "\u001b[0;31m---------------------------------------------------------------------------\u001b[0m",
            "\u001b[0;31mNameError\u001b[0m                                 Traceback (most recent call last)",
            "\u001b[0;32m<ipython-input-2-38ffdbac5880>\u001b[0m in \u001b[0;36m<module>\u001b[0;34m()\u001b[0m\n\u001b[0;32m----> 1\u001b[0;31m \u001b[0mb\u001b[0m \u001b[0;34m=\u001b[0m \u001b[0mtrue\u001b[0m \u001b[0;31m# Error\u001b[0m\u001b[0;34m\u001b[0m\u001b[0;34m\u001b[0m\u001b[0m\n\u001b[0m",
            "\u001b[0;31mNameError\u001b[0m: name 'true' is not defined"
          ]
        }
      ]
    },
    {
      "cell_type": "code",
      "source": [
        "x = 5\n",
        "result = x > 10\n",
        "print(result) # False"
      ],
      "metadata": {
        "colab": {
          "base_uri": "https://localhost:8080/"
        },
        "id": "4xY2GpVEOOTS",
        "outputId": "bcf45fdd-61a9-44e1-f022-9e53d26ea6d1"
      },
      "execution_count": null,
      "outputs": [
        {
          "output_type": "stream",
          "name": "stdout",
          "text": [
            "False\n"
          ]
        }
      ]
    },
    {
      "cell_type": "markdown",
      "source": [
        "## 명시적 타입 변환(explicit type conversion/casting)\n",
        "\n",
        "* `int(값)` : 값을 정수로 변환해서 리턴하는 함수\n",
        "* `float(값)` : 값을 실수로 변환해서 리턴하는 함수\n",
        "* `str(값)` : 값을 문자열로 변환해서 리턴하는 함수"
      ],
      "metadata": {
        "id": "_4kA0RaaPP8D"
      }
    },
    {
      "cell_type": "code",
      "source": [
        "n_str_1 = '123'\n",
        "n_str_2 = '100'\n",
        "print(type(n_str_1)) # 'str'\n",
        "print(n_str_1 + n_str_2) # '123100' # 문자열 + 문자열 ⇒ 문자열 이어붙이기(concatenate)"
      ],
      "metadata": {
        "colab": {
          "base_uri": "https://localhost:8080/"
        },
        "id": "NC5ey3a9PVAa",
        "outputId": "6271791e-d197-44f1-b48a-30133ca3ac21"
      },
      "execution_count": null,
      "outputs": [
        {
          "output_type": "stream",
          "name": "stdout",
          "text": [
            "<class 'str'>\n",
            "123100\n"
          ]
        }
      ]
    },
    {
      "cell_type": "code",
      "source": [
        "n1 = int(n_str_1) # n_str_1에 저장된 값 정수로 변환해서 변수 n1에 저장.\n",
        "n2 = int(n_str_2)\n",
        "print(type(n2)) # 'int'\n",
        "print(n1 + n2) # 223"
      ],
      "metadata": {
        "colab": {
          "base_uri": "https://localhost:8080/"
        },
        "id": "TJR6lKHUWvfD",
        "outputId": "948c80e3-45dc-4a27-8986-54db1aed2c95"
      },
      "execution_count": null,
      "outputs": [
        {
          "output_type": "stream",
          "name": "stdout",
          "text": [
            "<class 'int'>\n",
            "223\n"
          ]
        }
      ]
    },
    {
      "cell_type": "code",
      "source": [
        "pi = '3.14'\n",
        "print(type(pi)) # 'str'\n",
        "pi = float(pi)  # 변수 pi에 저장된 값을 실수(float) 타입으로 변환해서 다시 변수 pi에 저장.\n",
        "print(type(pi)) # 'float'"
      ],
      "metadata": {
        "colab": {
          "base_uri": "https://localhost:8080/"
        },
        "id": "7gXe8UAXYIEr",
        "outputId": "d6d3c9ef-dfea-4283-b0a6-a43583083ee0"
      },
      "execution_count": null,
      "outputs": [
        {
          "output_type": "stream",
          "name": "stdout",
          "text": [
            "<class 'str'>\n",
            "<class 'float'>\n"
          ]
        }
      ]
    },
    {
      "cell_type": "code",
      "source": [
        "number = input('숫자를 입력하세요>>> ')\n",
        "print(type(number)) # 'str'\n",
        "\n",
        "# number = float(number) 입력 시 print(type(number)) >> 'float'"
      ],
      "metadata": {
        "colab": {
          "base_uri": "https://localhost:8080/"
        },
        "id": "bicol53cY5pM",
        "outputId": "3b172a49-1bd6-448f-b1c4-43e474139f93"
      },
      "execution_count": null,
      "outputs": [
        {
          "output_type": "stream",
          "name": "stdout",
          "text": [
            "숫자를 입력하세요>>> 123\n",
            "<class 'str'>\n"
          ]
        }
      ]
    },
    {
      "cell_type": "code",
      "source": [
        "number = float(input('숫자를 입력하세요>>> '))\n",
        "print(type(number))"
      ],
      "metadata": {
        "colab": {
          "base_uri": "https://localhost:8080/"
        },
        "id": "5qDpwEiRaQu0",
        "outputId": "95a4b18c-445c-4a31-db61-472630802d23"
      },
      "execution_count": null,
      "outputs": [
        {
          "output_type": "stream",
          "name": "stdout",
          "text": [
            "숫자를 입력하세요>>> 123\n",
            "<class 'float'>\n"
          ]
        }
      ]
    },
    {
      "cell_type": "markdown",
      "source": [
        "# 연산자 (Operator)"
      ],
      "metadata": {
        "id": "m_cLz0DhbdBc"
      }
    },
    {
      "cell_type": "markdown",
      "source": [
        "## 산술 연산자 (arithmetic operators)\n",
        "\n",
        "*   종류 : `+, -, *, /, **, //, %`\n",
        "*   일반적으로 숫자 타입(int, float)의 값에서 사용 가능.\n"
      ],
      "metadata": {
        "id": "7LHvsWjQbrPk"
      }
    },
    {
      "cell_type": "code",
      "source": [
        "x, y = 10, 3\n",
        "print(f'{x} + {y} = {x + y}')\n",
        "print(f'{x} + {y} = {x - y}')\n",
        "print(f'{x} + {y} = {x * y}')\n",
        "print(f'{x} + {y} = {x / y}')\n",
        "print(f'{x}의 {y} 거듭제곱 = {x ** y}')\n",
        "print(f'{x}를 {y} 로 나눈 몫 = {x // y}')\n",
        "print(f'{x}를 {y} 로 나눈 나머지 = {x % y}')"
      ],
      "metadata": {
        "colab": {
          "base_uri": "https://localhost:8080/"
        },
        "id": "McR-5HEPctEN",
        "outputId": "51c63a17-68d1-4264-a470-0ef8762e2c22"
      },
      "execution_count": null,
      "outputs": [
        {
          "output_type": "stream",
          "name": "stdout",
          "text": [
            "10 + 3 = 13\n",
            "10 + 3 = 7\n",
            "10 + 3 = 30\n",
            "10 + 3 = 3.3333333333333335\n",
            "10의 3 거듭제곱 = 1000\n",
            "10를 3 로 나눈 몫 = 3\n",
            "10를 3 로 나눈 나머지 = 1\n"
          ]
        }
      ]
    },
    {
      "cell_type": "markdown",
      "source": [
        "문자열(str) 타입에서 사용할 수 있는 산술 연산자 :\n",
        "\n",
        "*  `+` : concatenate. 문자열 이어 붙이기\n",
        "*  `*` : replicate. 문자열을 곱한 숫자만큼 복제하기. str * int, int * str"
      ],
      "metadata": {
        "id": "r0JEGEF4iZB9"
      }
    },
    {
      "cell_type": "code",
      "source": [
        "print('Hello' + 'Python') # 'HelloPython'\n",
        "print('Hello' * 5) # 'HelloHelloHelloHelloHello'"
      ],
      "metadata": {
        "colab": {
          "base_uri": "https://localhost:8080/"
        },
        "id": "rvlciooWjKC_",
        "outputId": "44f82372-f5aa-46c7-e4ae-2242852d9914"
      },
      "execution_count": null,
      "outputs": [
        {
          "output_type": "stream",
          "name": "stdout",
          "text": [
            "HelloPython\n",
            "HelloHelloHelloHelloHello\n"
          ]
        }
      ]
    },
    {
      "cell_type": "markdown",
      "source": [
        "bool 타입의 값들을 산술 연산을 할 때는 True는 1, False는 0으로 자동 변환된 후\n",
        "산술 연산이 수행됨."
      ],
      "metadata": {
        "id": "suXsT5YtjjpW"
      }
    },
    {
      "cell_type": "code",
      "source": [
        "print(True + True) # 2"
      ],
      "metadata": {
        "colab": {
          "base_uri": "https://localhost:8080/"
        },
        "id": "GNEfB_zRjsj-",
        "outputId": "1cd30236-1f4f-4a69-fd96-078981f0cd53"
      },
      "execution_count": null,
      "outputs": [
        {
          "output_type": "stream",
          "name": "stdout",
          "text": [
            "2\n"
          ]
        }
      ]
    },
    {
      "cell_type": "code",
      "source": [
        "(True + True + True + False + True) / 5 # 0.8"
      ],
      "metadata": {
        "colab": {
          "base_uri": "https://localhost:8080/"
        },
        "id": "nvET0M0SkzMu",
        "outputId": "9420003f-0de9-4bf0-c300-ecbc2ef8aa3d"
      },
      "execution_count": null,
      "outputs": [
        {
          "output_type": "execute_result",
          "data": {
            "text/plain": [
              "0.8"
            ]
          },
          "metadata": {},
          "execution_count": 1
        }
      ]
    },
    {
      "cell_type": "markdown",
      "source": [
        "## 비교 연산자와 논리 연산자\n",
        "*  비교 연산자 : `==, !=, >, >=, <, <=`, ...\n",
        "*  논리 연산자 : `and, or, not`"
      ],
      "metadata": {
        "id": "opO4DBVsmABm"
      }
    },
    {
      "cell_type": "code",
      "source": [
        "x = 100\n",
        "print(x == 100) # True\n",
        "print(x != 100) # False\n",
        "print(x >= 0)   # True\n",
        "print(x <= 0)   # False"
      ],
      "metadata": {
        "colab": {
          "base_uri": "https://localhost:8080/"
        },
        "id": "gBtQbvn3nIZx",
        "outputId": "b1282ff6-786a-4ad9-a0ce-8499fa49a9e7"
      },
      "execution_count": null,
      "outputs": [
        {
          "output_type": "stream",
          "name": "stdout",
          "text": [
            "True\n",
            "False\n",
            "True\n",
            "False\n"
          ]
        }
      ]
    },
    {
      "cell_type": "code",
      "source": [
        "print((x > 50) and (x < 150)) # True\n",
        "print((x > 100) or (x < 0)) # False\n",
        "print( not (x > 100)) # True"
      ],
      "metadata": {
        "colab": {
          "base_uri": "https://localhost:8080/"
        },
        "id": "sR-l1wuInqZe",
        "outputId": "e3c03469-758c-4ce1-d00a-a4684575b071"
      },
      "execution_count": null,
      "outputs": [
        {
          "output_type": "stream",
          "name": "stdout",
          "text": [
            "True\n",
            "False\n",
            "True\n"
          ]
        }
      ]
    },
    {
      "cell_type": "markdown",
      "source": [
        "## 할당 연산자, 복합 할당 연산자\n",
        "\n",
        "* `=` : 할당 연산자. 왼쪽의 값을 오른쪽 변수에 저장\n",
        "*  복합 할당 연산자 : 산술 연산자와 할당 연산자가 합쳐서 만들어진 연산자\n",
        "    *   ` +=, -=, *=, /=, //=, %= ` , ..."
      ],
      "metadata": {
        "id": "lUW3JGscpTv4"
      }
    },
    {
      "cell_type": "code",
      "source": [
        "x = 1\n",
        "x += 1 # (1) x+1, (2) 결과를 변수 x에 저장(할당)\n",
        "print(x)"
      ],
      "metadata": {
        "colab": {
          "base_uri": "https://localhost:8080/"
        },
        "id": "bpEMO-pDqtno",
        "outputId": "aedfbd02-1484-4903-f5a1-d4d45554e9ca"
      },
      "execution_count": null,
      "outputs": [
        {
          "output_type": "stream",
          "name": "stdout",
          "text": [
            "2\n"
          ]
        }
      ]
    }
  ]
}