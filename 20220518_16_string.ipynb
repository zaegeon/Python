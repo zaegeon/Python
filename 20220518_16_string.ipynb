{
  "nbformat": 4,
  "nbformat_minor": 0,
  "metadata": {
    "colab": {
      "name": "20220518_16_string.ipynb",
      "provenance": [],
      "collapsed_sections": [],
      "authorship_tag": "ABX9TyNrymbtpiGRVTV5XAfdXCCO",
      "include_colab_link": true
    },
    "kernelspec": {
      "name": "python3",
      "display_name": "Python 3"
    },
    "language_info": {
      "name": "python"
    }
  },
  "cells": [
    {
      "cell_type": "markdown",
      "metadata": {
        "id": "view-in-github",
        "colab_type": "text"
      },
      "source": [
        "<a href=\"https://colab.research.google.com/github/zaegeon/Python/blob/main/20220518_16_string.ipynb\" target=\"_parent\"><img src=\"https://colab.research.google.com/assets/colab-badge.svg\" alt=\"Open In Colab\"/></a>"
      ]
    },
    {
      "cell_type": "markdown",
      "source": [
        "# str 클래스의 메서드"
      ],
      "metadata": {
        "id": "5cS6gCts-kse"
      }
    },
    {
      "cell_type": "code",
      "execution_count": null,
      "metadata": {
        "colab": {
          "base_uri": "https://localhost:8080/"
        },
        "id": "MYkOsZf47X9t",
        "outputId": "d5a1d189-ac34-43d6-f0af-8ece83daf389"
      },
      "outputs": [
        {
          "output_type": "stream",
          "name": "stdout",
          "text": [
            "<class 'str'>\n"
          ]
        }
      ],
      "source": [
        "s = 'heLLo pyThon!'\n",
        "print(type(s)) # class 'str'"
      ]
    },
    {
      "cell_type": "code",
      "source": [
        "result = s.lower() # 소문자로 변환된 \"새로운\" 문자열을 리턴.\n",
        "print(result)\n",
        "print(s)           # 원본 문자열은 변경되지 않음."
      ],
      "metadata": {
        "colab": {
          "base_uri": "https://localhost:8080/"
        },
        "id": "3lMbPmeR_baM",
        "outputId": "2a58937b-7a5f-4499-8284-5b9daf092400"
      },
      "execution_count": null,
      "outputs": [
        {
          "output_type": "stream",
          "name": "stdout",
          "text": [
            "hello python!\n",
            "heLLo pyThon!\n"
          ]
        }
      ]
    },
    {
      "cell_type": "code",
      "source": [
        "s.upper() # 대문자로 변환된 \"새로운\" 문자열을 리턴."
      ],
      "metadata": {
        "colab": {
          "base_uri": "https://localhost:8080/",
          "height": 35
        },
        "id": "Yr5ygavJANt6",
        "outputId": "fd81fe06-941c-413e-9d26-8c9ff6217d4d"
      },
      "execution_count": null,
      "outputs": [
        {
          "output_type": "execute_result",
          "data": {
            "text/plain": [
              "'HELLO PYTHON!'"
            ],
            "application/vnd.google.colaboratory.intrinsic+json": {
              "type": "string"
            }
          },
          "metadata": {},
          "execution_count": 15
        }
      ]
    },
    {
      "cell_type": "code",
      "source": [
        "s.lower().upper() # 메서드 연쇄 호출"
      ],
      "metadata": {
        "colab": {
          "base_uri": "https://localhost:8080/",
          "height": 35
        },
        "id": "h0ttqoNdBuHi",
        "outputId": "1fbc6221-d523-4103-c6ee-b761b7402e7e"
      },
      "execution_count": null,
      "outputs": [
        {
          "output_type": "execute_result",
          "data": {
            "text/plain": [
              "'HELLO PYTHON!'"
            ],
            "application/vnd.google.colaboratory.intrinsic+json": {
              "type": "string"
            }
          },
          "metadata": {},
          "execution_count": 16
        }
      ]
    },
    {
      "cell_type": "code",
      "source": [
        "s.count('P') # 대소문자 구별 O. 원본 문자열 s에서 문자열의 일부 sub가 몇 번 등장하는지를 리턴."
      ],
      "metadata": {
        "colab": {
          "base_uri": "https://localhost:8080/"
        },
        "id": "u347yjsmB1qF",
        "outputId": "f9c52c83-9c59-4e09-c5c2-38e6ab433fbc"
      },
      "execution_count": null,
      "outputs": [
        {
          "output_type": "execute_result",
          "data": {
            "text/plain": [
              "0"
            ]
          },
          "metadata": {},
          "execution_count": 24
        }
      ]
    },
    {
      "cell_type": "code",
      "source": [
        "url = 'https://www.google.com'\n",
        "url.startswith('http') # url이 'http' 문자열을 가지고 시작하는지를 물어보는 메서드."
      ],
      "metadata": {
        "colab": {
          "base_uri": "https://localhost:8080/"
        },
        "id": "7P76ohIbH4DO",
        "outputId": "92aaf174-c410-4985-a400-8cc00618e1ae"
      },
      "execution_count": null,
      "outputs": [
        {
          "output_type": "execute_result",
          "data": {
            "text/plain": [
              "True"
            ]
          },
          "metadata": {},
          "execution_count": 26
        }
      ]
    },
    {
      "cell_type": "code",
      "source": [
        "url.endswith('.co,kr') # 문자열이 패턴으로 끝나면 True, 그렇지 않으면 False를 리턴."
      ],
      "metadata": {
        "colab": {
          "base_uri": "https://localhost:8080/"
        },
        "id": "Ssr9FbbHJfZd",
        "outputId": "2e539321-5b29-4422-ef7b-057a9fa0f708"
      },
      "execution_count": null,
      "outputs": [
        {
          "output_type": "execute_result",
          "data": {
            "text/plain": [
              "False"
            ]
          },
          "metadata": {},
          "execution_count": 29
        }
      ]
    },
    {
      "cell_type": "code",
      "source": [
        "# str.find(패턴) : 문자열에서 패턴을 찾을 수 있는 가장 낮은(작은) 인덱스를 리턴.\n",
        "s = '안녕하세요, 파이썬 참 쉽죠? 파이썬 열심히 공부합시다!'\n",
        "s.find('파이썬')"
      ],
      "metadata": {
        "colab": {
          "base_uri": "https://localhost:8080/"
        },
        "id": "HCkZM0ecJ_AF",
        "outputId": "6c01e5d7-8a43-4983-b97f-0375df755f40"
      },
      "execution_count": null,
      "outputs": [
        {
          "output_type": "execute_result",
          "data": {
            "text/plain": [
              "7"
            ]
          },
          "metadata": {},
          "execution_count": 30
        }
      ]
    },
    {
      "cell_type": "code",
      "source": [
        "email = 'mylife1335@gmail.com'\n",
        "# email 주소에서 email ID와 email 도메인 주소를 찾아서 각각 출력\n",
        "idx = email.find('@')\n",
        "print(email[:idx])\n",
        "print(email[(idx + 1) :])"
      ],
      "metadata": {
        "colab": {
          "base_uri": "https://localhost:8080/"
        },
        "id": "V4DkY4-nLA7l",
        "outputId": "2866cb5d-792d-420d-c683-560b2f644f53"
      },
      "execution_count": 1,
      "outputs": [
        {
          "output_type": "stream",
          "name": "stdout",
          "text": [
            "mylife1335\n",
            "gmail.com\n"
          ]
        }
      ]
    },
    {
      "cell_type": "code",
      "source": [
        "# str.split() : 문자열을 공백(whitespace : space, tab, enter)을 기준으로\n",
        "# 문자열을 잘라서 만들어진 단어들의 리스트를 리턴.\n",
        "print(s)\n",
        "print(s.split())"
      ],
      "metadata": {
        "colab": {
          "base_uri": "https://localhost:8080/"
        },
        "id": "XnNbuTzpN4zW",
        "outputId": "05be09cf-dba9-413f-ed4b-c6cd804abd02"
      },
      "execution_count": null,
      "outputs": [
        {
          "output_type": "stream",
          "name": "stdout",
          "text": [
            "안녕하세요, 파이썬 참 쉽죠? 파이썬 열심히 공부합시다!\n",
            "['안녕하세요,', '파이썬', '참', '쉽죠?', '파이썬', '열심히', '공부합시다!']\n"
          ]
        }
      ]
    },
    {
      "cell_type": "code",
      "source": [
        "date = '2022-05-18'\n",
        "# 문자열 date에서 [년, 월, 일]을 갖는 리스트를 만듦.\n",
        "date.split('-')"
      ],
      "metadata": {
        "colab": {
          "base_uri": "https://localhost:8080/"
        },
        "id": "fMr1QFg9PLoM",
        "outputId": "e3c80174-9661-4957-aa8f-5cbe6d2a74cc"
      },
      "execution_count": null,
      "outputs": [
        {
          "output_type": "execute_result",
          "data": {
            "text/plain": [
              "['2022', '05', '18']"
            ]
          },
          "metadata": {},
          "execution_count": 35
        }
      ]
    },
    {
      "cell_type": "code",
      "source": [
        "csv = '홍길동,100,90,95' # CSV : comma-separated values\n",
        "# csv 내용을 쉼표(,)를 기준으로 자른 리스트\n",
        "csv.split(',')"
      ],
      "metadata": {
        "colab": {
          "base_uri": "https://localhost:8080/"
        },
        "id": "ZQIo-A1SQjdT",
        "outputId": "289f9670-72b7-4064-dffd-706de8bd061d"
      },
      "execution_count": null,
      "outputs": [
        {
          "output_type": "execute_result",
          "data": {
            "text/plain": [
              "['홍길동', '100', '90', '95']"
            ]
          },
          "metadata": {},
          "execution_count": 36
        }
      ]
    },
    {
      "cell_type": "code",
      "source": [
        "# str.join(iterable) : 문자열 str을 사용해서 iterable 안의 문자열을 이어붙임.\n",
        "print('.'.join(['ab','pq','rs']))\n",
        "print('/'.join(['2022','05','18']))"
      ],
      "metadata": {
        "colab": {
          "base_uri": "https://localhost:8080/"
        },
        "id": "UpbJVs-_Q2In",
        "outputId": "31ec2a97-0b74-41c7-c727-15fcdf1fc3c4"
      },
      "execution_count": null,
      "outputs": [
        {
          "output_type": "stream",
          "name": "stdout",
          "text": [
            "ab.pq.rs\n",
            "2022/05/18\n"
          ]
        }
      ]
    }
  ]
}