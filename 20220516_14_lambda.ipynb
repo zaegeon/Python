{
  "nbformat": 4,
  "nbformat_minor": 0,
  "metadata": {
    "colab": {
      "name": "20220516_14_lambda.ipynb",
      "provenance": [],
      "collapsed_sections": [],
      "authorship_tag": "ABX9TyNkUdQr7DLvPMp4XA9wzGxX",
      "include_colab_link": true
    },
    "kernelspec": {
      "name": "python3",
      "display_name": "Python 3"
    },
    "language_info": {
      "name": "python"
    }
  },
  "cells": [
    {
      "cell_type": "markdown",
      "metadata": {
        "id": "view-in-github",
        "colab_type": "text"
      },
      "source": [
        "<a href=\"https://colab.research.google.com/github/zaegeon/Python/blob/main/20220516_14_lambda.ipynb\" target=\"_parent\"><img src=\"https://colab.research.google.com/assets/colab-badge.svg\" alt=\"Open In Colab\"/></a>"
      ]
    },
    {
      "cell_type": "markdown",
      "source": [
        "# 1급 객체(first-class object)로서의 함수"
      ],
      "metadata": {
        "id": "XUFR6Kr51QPA"
      }
    },
    {
      "cell_type": "markdown",
      "source": [
        "함수(function)는 객체(object)이다.\n",
        "\n",
        "* 함수는 변수에 할당(저장)할 수 있음.\n",
        "* 함수의 argument로 다른 함수를 전달할 수 있음."
      ],
      "metadata": {
        "id": "P9qjgLP21iV4"
      }
    },
    {
      "cell_type": "code",
      "execution_count": null,
      "metadata": {
        "id": "UX5H4cpl1Lze"
      },
      "outputs": [],
      "source": [
        "# 숫자는 객체(object)다. → 숫자는 변수에 저장\n",
        "x = 1"
      ]
    },
    {
      "cell_type": "code",
      "source": [
        "print(x) # → 숫자는 함수의 argument로 전달할 수 있음."
      ],
      "metadata": {
        "colab": {
          "base_uri": "https://localhost:8080/"
        },
        "id": "1wP3s_cn3AGY",
        "outputId": "cb710574-6541-42e8-b82f-250a05f85eae"
      },
      "execution_count": null,
      "outputs": [
        {
          "output_type": "stream",
          "name": "stdout",
          "text": [
            "1\n"
          ]
        }
      ]
    },
    {
      "cell_type": "code",
      "source": [
        "def twice(x):\n",
        "    return 2 * x"
      ],
      "metadata": {
        "id": "SKszIcSI3Yl_"
      },
      "execution_count": null,
      "outputs": []
    },
    {
      "cell_type": "code",
      "source": [
        "twice # 함수 호출 X / twice라는 이름의 객체 출력."
      ],
      "metadata": {
        "colab": {
          "base_uri": "https://localhost:8080/"
        },
        "id": "5a-D_4jN3upv",
        "outputId": "b2700bec-fb5b-468c-fe75-013edc612e73"
      },
      "execution_count": null,
      "outputs": [
        {
          "output_type": "execute_result",
          "data": {
            "text/plain": [
              "<function __main__.twice>"
            ]
          },
          "metadata": {},
          "execution_count": 4
        }
      ]
    },
    {
      "cell_type": "code",
      "source": [
        "twice(2) # 함수 호출"
      ],
      "metadata": {
        "colab": {
          "base_uri": "https://localhost:8080/"
        },
        "id": "4aXuu8PP4pSY",
        "outputId": "a4df2055-371e-4c17-91a4-e07ff51f9104"
      },
      "execution_count": null,
      "outputs": [
        {
          "output_type": "execute_result",
          "data": {
            "text/plain": [
              "4"
            ]
          },
          "metadata": {},
          "execution_count": 5
        }
      ]
    },
    {
      "cell_type": "code",
      "source": [
        "result = twice(3) # 함수 twice()의 호출 결과를 변수 result에 저장.\n",
        "result"
      ],
      "metadata": {
        "colab": {
          "base_uri": "https://localhost:8080/"
        },
        "id": "k7xfsyry4rlf",
        "outputId": "216ec6ef-466e-4394-f4df-b58900e6f47b"
      },
      "execution_count": null,
      "outputs": [
        {
          "output_type": "execute_result",
          "data": {
            "text/plain": [
              "6"
            ]
          },
          "metadata": {},
          "execution_count": 6
        }
      ]
    },
    {
      "cell_type": "code",
      "source": [
        "double = twice # 함수 twice를 변수 double에 저장.\n",
        "double"
      ],
      "metadata": {
        "colab": {
          "base_uri": "https://localhost:8080/"
        },
        "id": "FttQmUBU5IBI",
        "outputId": "52dea6d9-f0ab-4c8c-a5bb-298db7eabd99"
      },
      "execution_count": null,
      "outputs": [
        {
          "output_type": "execute_result",
          "data": {
            "text/plain": [
              "<function __main__.twice>"
            ]
          },
          "metadata": {},
          "execution_count": 7
        }
      ]
    },
    {
      "cell_type": "code",
      "source": [
        "double(3) # 변수 double은 함수이므로 호출할 수 있음."
      ],
      "metadata": {
        "colab": {
          "base_uri": "https://localhost:8080/"
        },
        "id": "kKfhiSpD5cG4",
        "outputId": "ad78e3de-f27b-40c4-8d87-0a337bdb26b7"
      },
      "execution_count": null,
      "outputs": [
        {
          "output_type": "execute_result",
          "data": {
            "text/plain": [
              "6"
            ]
          },
          "metadata": {},
          "execution_count": 8
        }
      ]
    },
    {
      "cell_type": "code",
      "source": [
        "def calculate(x, y, fn):\n",
        "    \"\"\"\n",
        "    fn(x, y)의 결과를 리턴.\n",
        "    @param x : 숫자.\n",
        "    @param y : 숫자.\n",
        "    @param fn : 함수.\n",
        "    \"\"\"\n",
        "    result = fn(x, y)\n",
        "    return result"
      ],
      "metadata": {
        "id": "VNv-xOVx58P3"
      },
      "execution_count": null,
      "outputs": []
    },
    {
      "cell_type": "code",
      "source": [
        "def plus(x, y):\n",
        "    return x + y"
      ],
      "metadata": {
        "id": "mtRndC806fD_"
      },
      "execution_count": null,
      "outputs": []
    },
    {
      "cell_type": "code",
      "source": [
        "calculate(1, 2, plus)\n",
        "# calculate 함수를 호출할 때 파라미터 fn에 plus 함수를 argument로 전달."
      ],
      "metadata": {
        "colab": {
          "base_uri": "https://localhost:8080/"
        },
        "id": "LPOrVPPV63-_",
        "outputId": "8c2c570d-3b02-4fa5-c482-cb9fd5c78ebf"
      },
      "execution_count": null,
      "outputs": [
        {
          "output_type": "execute_result",
          "data": {
            "text/plain": [
              "3"
            ]
          },
          "metadata": {},
          "execution_count": 11
        }
      ]
    },
    {
      "cell_type": "code",
      "source": [
        "def minus(x, y):\n",
        "    return x - y"
      ],
      "metadata": {
        "id": "inLfb_1B8TJx"
      },
      "execution_count": null,
      "outputs": []
    },
    {
      "cell_type": "code",
      "source": [
        "calculate(1, 2, minus)"
      ],
      "metadata": {
        "colab": {
          "base_uri": "https://localhost:8080/"
        },
        "id": "1-q1WI9a8W7P",
        "outputId": "885c780b-3016-4055-ad90-39270afce157"
      },
      "execution_count": null,
      "outputs": [
        {
          "output_type": "execute_result",
          "data": {
            "text/plain": [
              "-1"
            ]
          },
          "metadata": {},
          "execution_count": 13
        }
      ]
    },
    {
      "cell_type": "markdown",
      "source": [
        "# 람다 표현식(Lambda expression)"
      ],
      "metadata": {
        "id": "s68YQzoZCNBB"
      }
    },
    {
      "cell_type": "markdown",
      "source": [
        "```\n",
        "lambda param1, param2, ... : expression\n",
        "```\n",
        "\n",
        "* 이름이 없는 함수.\n",
        "* 함수 이름을 만들지 않고 함수의 파라미터 선언과 함수의 반환 값(식)만으로 함수를 정의하는 방법.\n",
        "* 간단하게 정의할 수 있는 함수를 변수(파라미터)에 저장하기 위한 용도."
      ],
      "metadata": {
        "id": "J9lzC2kwCSXx"
      }
    },
    {
      "cell_type": "code",
      "source": [
        "plus_one = lambda x: x + 1 # argument x를 전달받아서 x+1을 리턴하는 함수."
      ],
      "metadata": {
        "id": "oTIJCY-4DZla"
      },
      "execution_count": null,
      "outputs": []
    },
    {
      "cell_type": "code",
      "source": [
        "plus_one(31)"
      ],
      "metadata": {
        "colab": {
          "base_uri": "https://localhost:8080/"
        },
        "id": "X9XTJA40DnLC",
        "outputId": "5b289054-8220-4b56-d137-a660d481b2ce"
      },
      "execution_count": null,
      "outputs": [
        {
          "output_type": "execute_result",
          "data": {
            "text/plain": [
              "32"
            ]
          },
          "metadata": {},
          "execution_count": 15
        }
      ]
    },
    {
      "cell_type": "code",
      "source": [
        "plus = lambda x, y: x + y # argument로 x, y를 전달받아서 x + y를 리턴하는 함수."
      ],
      "metadata": {
        "id": "MjP_URQOEf6R"
      },
      "execution_count": null,
      "outputs": []
    },
    {
      "cell_type": "code",
      "source": [
        "plus(1, 2)"
      ],
      "metadata": {
        "colab": {
          "base_uri": "https://localhost:8080/"
        },
        "id": "c1dfvq1zEnEa",
        "outputId": "d4ee68ee-493c-44a8-e8b2-1d9eec86ce03"
      },
      "execution_count": null,
      "outputs": [
        {
          "output_type": "execute_result",
          "data": {
            "text/plain": [
              "3"
            ]
          },
          "metadata": {},
          "execution_count": 17
        }
      ]
    },
    {
      "cell_type": "code",
      "source": [
        "# lambda 표현식은 argument로 다른 함수에 전달할 수 있음.\n",
        "calculate(1, 2, lambda x, y : x + y)"
      ],
      "metadata": {
        "colab": {
          "base_uri": "https://localhost:8080/"
        },
        "id": "gJknzpotEorx",
        "outputId": "421ff4fe-20ec-42ef-82db-37e56a6b4bb5"
      },
      "execution_count": null,
      "outputs": [
        {
          "output_type": "execute_result",
          "data": {
            "text/plain": [
              "3"
            ]
          },
          "metadata": {},
          "execution_count": 21
        }
      ]
    },
    {
      "cell_type": "code",
      "source": [
        "calculate(1, 2, lambda x,y : x - y)"
      ],
      "metadata": {
        "colab": {
          "base_uri": "https://localhost:8080/"
        },
        "id": "qpyoXHRnFsiq",
        "outputId": "9c85db17-d6f9-4182-9f31-287c7dcfd80d"
      },
      "execution_count": null,
      "outputs": [
        {
          "output_type": "execute_result",
          "data": {
            "text/plain": [
              "-1"
            ]
          },
          "metadata": {},
          "execution_count": 20
        }
      ]
    },
    {
      "cell_type": "markdown",
      "source": [
        "## lambda 식을 argument로 전달받는 함수의 예"
      ],
      "metadata": {
        "id": "NpFncjG8GFfa"
      }
    },
    {
      "cell_type": "code",
      "source": [
        "numbers = [1, -2, -3, 4, 5, -6]"
      ],
      "metadata": {
        "id": "5THyfaZcGKdC"
      },
      "execution_count": null,
      "outputs": []
    },
    {
      "cell_type": "code",
      "source": [
        "# numbers 리스트에서 양수들로만 이루어진 리스트 → filtering\n",
        "result = filter(lambda x: x > 0 , numbers)\n",
        "list(result) # filtering된 결과를 list로 만듦."
      ],
      "metadata": {
        "colab": {
          "base_uri": "https://localhost:8080/"
        },
        "id": "gNP0kGpPGwsK",
        "outputId": "0fd26c0a-9bb6-4fe9-8f29-1f9b4768f91d"
      },
      "execution_count": null,
      "outputs": [
        {
          "output_type": "execute_result",
          "data": {
            "text/plain": [
              "[1, 4, 5]"
            ]
          },
          "metadata": {},
          "execution_count": 27
        }
      ]
    },
    {
      "cell_type": "code",
      "source": [
        "# numbers 리스트에서 짝수들로만 이루어진 리스트 → filtering\n",
        "result2 = filter(lambda x: x % 2 == 0, numbers)\n",
        "list(result2)"
      ],
      "metadata": {
        "colab": {
          "base_uri": "https://localhost:8080/"
        },
        "id": "uG3a7z0GIYHr",
        "outputId": "120d7171-ea7c-4fcd-fafb-1d5a73de450d"
      },
      "execution_count": null,
      "outputs": [
        {
          "output_type": "execute_result",
          "data": {
            "text/plain": [
              "[-2, 4, -6]"
            ]
          },
          "metadata": {},
          "execution_count": 28
        }
      ]
    },
    {
      "cell_type": "markdown",
      "source": [
        "* mapping : 'Male' → 0, 'Female' → 1"
      ],
      "metadata": {
        "id": "ELH919npk7BK"
      }
    },
    {
      "cell_type": "code",
      "source": [
        "gender = ['Female', 'Male', 'Male', 'Female']"
      ],
      "metadata": {
        "id": "tPW-FrOalXD-"
      },
      "execution_count": null,
      "outputs": []
    },
    {
      "cell_type": "code",
      "source": [
        "result = map(lambda x: 0 if x == 'Male' else 1, gender)\n",
        "tuple(result)"
      ],
      "metadata": {
        "colab": {
          "base_uri": "https://localhost:8080/"
        },
        "id": "5pbt5KdUl09t",
        "outputId": "076695a9-92b5-465d-aaf5-4071d2ee7d27"
      },
      "execution_count": null,
      "outputs": [
        {
          "output_type": "execute_result",
          "data": {
            "text/plain": [
              "(1, 0, 0, 1)"
            ]
          },
          "metadata": {},
          "execution_count": 2
        }
      ]
    },
    {
      "cell_type": "markdown",
      "source": [
        "* [0, 100) 범위의 정수 10개를 저장하고 있는 리스트에서 원소가 짝수이면 'even', 홀수이면 'odd'를 갖는 새로운 리스트를 매핑\n",
        "\n",
        "```\n",
        "[10, 55, 90, ...] → ['even', 'odd', 'even', ...]\n",
        "```"
      ],
      "metadata": {
        "id": "jNnZlTN4rZ3p"
      }
    },
    {
      "cell_type": "code",
      "source": [
        "import random as rd"
      ],
      "metadata": {
        "id": "jMLUTcsgsepy"
      },
      "execution_count": null,
      "outputs": []
    },
    {
      "cell_type": "code",
      "source": [
        "numbers = [rd.randrange(100) for _ in range(10)]\n",
        "numbers"
      ],
      "metadata": {
        "colab": {
          "base_uri": "https://localhost:8080/"
        },
        "id": "VAqROHD6sl63",
        "outputId": "783a3a2b-3be6-473c-feee-5cf00f9dbc10"
      },
      "execution_count": null,
      "outputs": [
        {
          "output_type": "execute_result",
          "data": {
            "text/plain": [
              "[12, 40, 16, 34, 15, 80, 9, 12, 66, 56]"
            ]
          },
          "metadata": {},
          "execution_count": 4
        }
      ]
    },
    {
      "cell_type": "code",
      "source": [
        "result = map(lambda x: 'even' if x % 2 == 0 else 'odd', numbers)\n",
        "list(result)"
      ],
      "metadata": {
        "colab": {
          "base_uri": "https://localhost:8080/"
        },
        "id": "t1cloBVqs3Aq",
        "outputId": "3fd003d8-173a-410d-d297-81ca2db71d8b"
      },
      "execution_count": null,
      "outputs": [
        {
          "output_type": "execute_result",
          "data": {
            "text/plain": [
              "['even', 'even', 'even', 'even', 'odd', 'even', 'odd', 'even', 'even', 'even']"
            ]
          },
          "metadata": {},
          "execution_count": 6
        }
      ]
    },
    {
      "cell_type": "code",
      "source": [
        "# if-else 표현식에서 elif\n",
        "# 0 ~ 19 : teen / 20 ~ 59 : adult / 60 ~ : senior\n",
        "age = 72\n",
        "category = 'teen' if age < 20 else ( 'adult' if age < 60 else 'senior' )\n",
        "print(category)"
      ],
      "metadata": {
        "colab": {
          "base_uri": "https://localhost:8080/"
        },
        "id": "gLFGx4Ebu3ro",
        "outputId": "3210e730-6e76-46a0-f9a0-0036b9a6dcc3"
      },
      "execution_count": null,
      "outputs": [
        {
          "output_type": "stream",
          "name": "stdout",
          "text": [
            "senior\n"
          ]
        }
      ]
    },
    {
      "cell_type": "code",
      "source": [
        "age = [rd.randrange(100) for _ in range(10)]\n",
        "age"
      ],
      "metadata": {
        "colab": {
          "base_uri": "https://localhost:8080/"
        },
        "id": "5gE5pU6ixLSm",
        "outputId": "c2c49c67-426e-4b00-916c-4126143f9fce"
      },
      "execution_count": null,
      "outputs": [
        {
          "output_type": "execute_result",
          "data": {
            "text/plain": [
              "[2, 37, 93, 27, 78, 12, 35, 65, 41, 60]"
            ]
          },
          "metadata": {},
          "execution_count": 13
        }
      ]
    },
    {
      "cell_type": "code",
      "source": [
        "result = map(lambda x:'teen' if x < 20 else ( 'adult' if x < 60 else 'senior' ), age)\n",
        "list(result)"
      ],
      "metadata": {
        "colab": {
          "base_uri": "https://localhost:8080/"
        },
        "id": "pk8AqA51xfDt",
        "outputId": "4b6c73a1-7d09-4910-a6e4-6305e8e2a29b"
      },
      "execution_count": null,
      "outputs": [
        {
          "output_type": "execute_result",
          "data": {
            "text/plain": [
              "['teen',\n",
              " 'adult',\n",
              " 'senior',\n",
              " 'adult',\n",
              " 'senior',\n",
              " 'teen',\n",
              " 'adult',\n",
              " 'senior',\n",
              " 'adult',\n",
              " 'senior']"
            ]
          },
          "metadata": {},
          "execution_count": 15
        }
      ]
    },
    {
      "cell_type": "markdown",
      "source": [
        "### filtering 구현"
      ],
      "metadata": {
        "id": "x_veVZsowTKi"
      }
    },
    {
      "cell_type": "code",
      "source": [
        "def my_filter(iterable, fn):\n",
        "    \"\"\"\n",
        "    iterable의 원소들 중에서 함수 fn의 결과가 True가 되는 원소들로 이루어진 리스트를 리턴.\n",
        "    @param iterable : list, tuple.\n",
        "    @param fn : argument가 1개이고 True 또는 False를 리턴하는 함수.\n",
        "    \"\"\"\n",
        "#    result = []                 # 필터링 된 결과를 저장할 빈 리스트.\n",
        "#    for x in iterable:          # iterable에서 원소를 하나씩 꺼내면서 반복\n",
        "#        if fn(x):               # 함수 fn()의 리턴값이 True이면,\n",
        "#            result.append(x)    # 필터링 결과 리스트에 추가.\n",
        "    result = [x for x in iterable if fn(x)]\n",
        "    return result"
      ],
      "metadata": {
        "id": "5UjFvOirzUTT"
      },
      "execution_count": null,
      "outputs": []
    },
    {
      "cell_type": "code",
      "source": [
        "numbers = [rd.randrange(100) for _ in range(10)]\n",
        "print(numbers)\n",
        "\n",
        "result = my_filter(numbers, lambda x : x % 2 == 0) # 숫자들 중 짝수만 필터링\n",
        "print(result)"
      ],
      "metadata": {
        "colab": {
          "base_uri": "https://localhost:8080/"
        },
        "id": "R_qyZ9AY1ZcL",
        "outputId": "3e691f23-5cfe-4d7a-c188-f49773234ac4"
      },
      "execution_count": null,
      "outputs": [
        {
          "output_type": "stream",
          "name": "stdout",
          "text": [
            "[88, 34, 72, 5, 10, 40, 2, 16, 95, 54]\n",
            "[88, 34, 72, 10, 40, 2, 16, 54]\n"
          ]
        }
      ]
    },
    {
      "cell_type": "code",
      "source": [
        "age = [rd.randrange(100) for _ in range(10)]\n",
        "print(age)\n",
        "# age 원소들 중에서 미성년자(20세 미만)인 데이터들만 필터링\n",
        "\n",
        "result = my_filter(age, lambda x : x < 20)\n",
        "print(result)"
      ],
      "metadata": {
        "colab": {
          "base_uri": "https://localhost:8080/"
        },
        "id": "qlAJrge37c9p",
        "outputId": "e4f57eda-1fed-47e3-caf1-9fcb3f8d9b0a"
      },
      "execution_count": null,
      "outputs": [
        {
          "output_type": "stream",
          "name": "stdout",
          "text": [
            "[60, 48, 60, 21, 56, 95, 97, 4, 90, 74]\n",
            "[4]\n"
          ]
        }
      ]
    },
    {
      "cell_type": "markdown",
      "source": [
        "# mapping 구현"
      ],
      "metadata": {
        "id": "BXTYWHgg9gYZ"
      }
    },
    {
      "cell_type": "code",
      "source": [
        "def my_mapper1(iterable, fn):\n",
        "    \"\"\"\n",
        "    iterable의 원소를 함수 fn의 argument로 전달했을 때 그 리턴값들로 이루어진 리스트를 리턴.\n",
        "    @param iterable : list, tuple.\n",
        "    @param fn : argument가 1개이고 리턴값을 갖는 함수.\n",
        "    @return : list. [fn(x1), fn(x2), ...].\n",
        "    \"\"\"\n",
        "#    result = []\n",
        "#    for x in iterable:\n",
        "#        result.append(fn(x))\n",
        "    result = [fn(x) for x in iterable]\n",
        "    return result"
      ],
      "metadata": {
        "id": "seAE93yM9jjs"
      },
      "execution_count": null,
      "outputs": []
    },
    {
      "cell_type": "code",
      "source": [
        "# my_mapper1 test code\n",
        "numbers = [rd.randrange(10) for _ in range(10)]\n",
        "print(numbers)\n",
        "result = my_mapper1(numbers, lambda x : x ** 2)\n",
        "print(result)"
      ],
      "metadata": {
        "colab": {
          "base_uri": "https://localhost:8080/"
        },
        "id": "0da9cbP7-dZy",
        "outputId": "21dc96f8-df3b-4392-ca19-6eda34f51af5"
      },
      "execution_count": null,
      "outputs": [
        {
          "output_type": "stream",
          "name": "stdout",
          "text": [
            "[2, 2, 0, 9, 0, 6, 3, 9, 8, 6]\n",
            "[4, 4, 0, 81, 0, 36, 9, 81, 64, 36]\n"
          ]
        }
      ]
    },
    {
      "cell_type": "code",
      "source": [
        "# my_mapper1 test code\n",
        "gender = ['Female', 'Female', 'Male', 'Female', 'Male']\n",
        "print(gender)\n",
        "\n",
        "# 'Female' → 1, 'Male' → 0\n",
        "result = my_mapper1(gender, lambda x: 0 if x == 'Male' else 1)\n",
        "print(result)"
      ],
      "metadata": {
        "colab": {
          "base_uri": "https://localhost:8080/"
        },
        "id": "JRsrplOJVBSm",
        "outputId": "07111fb1-3a13-4007-a1f8-babaa624ac34"
      },
      "execution_count": null,
      "outputs": [
        {
          "output_type": "stream",
          "name": "stdout",
          "text": [
            "['Female', 'Female', 'Male', 'Female', 'Male']\n",
            "[1, 1, 0, 1, 0]\n"
          ]
        }
      ]
    },
    {
      "cell_type": "code",
      "source": [
        "# my_mapper1 test code\n",
        "# 문자열들의 리스트를 그 문자열의 길이를 갖는 리스트에 mapping\n",
        "# ['abc', 'apple', '안녕하세요!'] → [3, 5, 6]\n",
        "words = ['abc', 'apple', '안녕하세요!', 'Hello, Python.']\n",
        "result = my_mapper1(words, lambda x: len(x))\n",
        "print(result)"
      ],
      "metadata": {
        "colab": {
          "base_uri": "https://localhost:8080/"
        },
        "id": "kUcSxFcQW5zw",
        "outputId": "314d6cb9-c076-46d6-933e-4a47c181ca74"
      },
      "execution_count": null,
      "outputs": [
        {
          "output_type": "stream",
          "name": "stdout",
          "text": [
            "[3, 5, 6, 14]\n"
          ]
        }
      ]
    },
    {
      "cell_type": "code",
      "source": [
        "def my_mapper2(iterable, fn):\n",
        "    \"\"\"\n",
        "    iterable의 원소를 key로 하고 그 원소를 함수 fn에 전달했을 때의 리턴값을 value로 하는 dict를 리턴.\n",
        "    @param iterable : list, tuple.\n",
        "    @param fn : argument가 1개이고 리턴값을 갖는 함수.\n",
        "    @return : dict. { x1 : fn(x1), x2 : fn(x2), ... }.\n",
        "    \"\"\"\n",
        "#    result = {}\n",
        "#    for x in iterable:\n",
        "#        result[x] = fn(x)\n",
        "    result = {x:fn(x) for x in iterable}\n",
        "    return result"
      ],
      "metadata": {
        "id": "Yk6vHy-N-f3M"
      },
      "execution_count": null,
      "outputs": []
    },
    {
      "cell_type": "code",
      "source": [
        "# my_mapper2 test code\n",
        "numbers = [rd.randrange(10) for _ in range(10)]\n",
        "print(numbers)\n",
        "result = my_mapper2(numbers, lambda x : x ** 2)\n",
        "print(result)"
      ],
      "metadata": {
        "colab": {
          "base_uri": "https://localhost:8080/"
        },
        "id": "-UShaeIq_Pmm",
        "outputId": "fef5b2a7-e21a-447c-d113-cd5104b88e1c"
      },
      "execution_count": null,
      "outputs": [
        {
          "output_type": "stream",
          "name": "stdout",
          "text": [
            "[9, 3, 1, 4, 9, 0, 4, 8, 8, 7]\n",
            "{9: 81, 3: 9, 1: 1, 4: 16, 0: 0, 8: 64, 7: 49}\n"
          ]
        }
      ]
    },
    {
      "cell_type": "code",
      "source": [
        "# my_mapper2 test code\n",
        "packages = ['NumPy', 'pandas', 'matplotlib', 'seaborn', 'keras', 'tensorflow']\n",
        "result = my_mapper2(packages, lambda x: len(x))\n",
        "print(result)"
      ],
      "metadata": {
        "colab": {
          "base_uri": "https://localhost:8080/"
        },
        "id": "b3K67JJhWxmg",
        "outputId": "7141a206-b1c6-46e5-eee5-027fbf5a1c7c"
      },
      "execution_count": null,
      "outputs": [
        {
          "output_type": "stream",
          "name": "stdout",
          "text": [
            "{'NumPy': 5, 'pandas': 6, 'matplotlib': 10, 'seaborn': 7, 'keras': 5, 'tensorflow': 10}\n"
          ]
        }
      ]
    },
    {
      "cell_type": "code",
      "source": [
        "# my_mapper2 test code\n",
        "# [0, 100) 범위의 정수 난수 10개를 저장.\n",
        "# 20 미만인 경우 'A', 60 미만인 경우 'B', 60 이상인 경우 'C'를 매핑한 dict.\n",
        "\n",
        "numbers = [rd.randrange(100) for _ in range(10)]\n",
        "result = my_mapper2(numbers, lambda x: 'A' if x < 20 else ('B' if x < 60 else 'C'))\n",
        "print(result)"
      ],
      "metadata": {
        "colab": {
          "base_uri": "https://localhost:8080/"
        },
        "id": "s_kNP8gcadza",
        "outputId": "c93ee246-2301-4cb0-c75a-dcf985347f66"
      },
      "execution_count": null,
      "outputs": [
        {
          "output_type": "stream",
          "name": "stdout",
          "text": [
            "{69: 'C', 33: 'B', 40: 'B', 79: 'C', 85: 'C', 63: 'C', 5: 'A', 16: 'A'}\n"
          ]
        }
      ]
    }
  ]
}