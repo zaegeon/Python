{
  "nbformat": 4,
  "nbformat_minor": 0,
  "metadata": {
    "colab": {
      "name": "20220524_Exercise.ipynb",
      "provenance": [],
      "collapsed_sections": [],
      "authorship_tag": "ABX9TyOwJ0UQqmRyQKooTAI9g45H",
      "include_colab_link": true
    },
    "kernelspec": {
      "name": "python3",
      "display_name": "Python 3"
    },
    "language_info": {
      "name": "python"
    }
  },
  "cells": [
    {
      "cell_type": "markdown",
      "metadata": {
        "id": "view-in-github",
        "colab_type": "text"
      },
      "source": [
        "<a href=\"https://colab.research.google.com/github/zaegeon/Python/blob/main/20220524_Exercise.ipynb\" target=\"_parent\"><img src=\"https://colab.research.google.com/assets/colab-badge.svg\" alt=\"Open In Colab\"/></a>"
      ]
    },
    {
      "cell_type": "code",
      "source": [
        "import matplotlib.pyplot as plt\n",
        "import numpy as np             \n",
        "import pandas as pd            \n",
        "import seaborn as sns"
      ],
      "metadata": {
        "id": "xw36S3_fRLIh"
      },
      "execution_count": null,
      "outputs": []
    },
    {
      "cell_type": "code",
      "source": [
        "tips = sns.load_dataset('tips')"
      ],
      "metadata": {
        "id": "bP-UJa7kRRCu"
      },
      "execution_count": null,
      "outputs": []
    },
    {
      "cell_type": "code",
      "execution_count": null,
      "metadata": {
        "colab": {
          "base_uri": "https://localhost:8080/",
          "height": 266
        },
        "id": "6r8a7vV1REZ3",
        "outputId": "4e751d17-5cd6-43be-c217-23481077c181"
      },
      "outputs": [
        {
          "output_type": "display_data",
          "data": {
            "text/plain": [
              "<Figure size 432x288 with 1 Axes>"
            ],
            "image/png": "[encoded data removed]"
          },
          "metadata": {
            "needs_background": "light"
          }
        }
      ],
      "source": [
        "# 1개의 figure와 subplot 안에 total_bill의 boxplot과 tip의 boxplot을 시각화\n",
        "plt.boxplot(x=[tips.total_bill, tips.tip], labels = ['total_bill', 'tip'])\n",
        "plt.grid()\n",
        "plt.show()"
      ]
    },
    {
      "cell_type": "markdown",
      "source": [
        "* 성별별 tip의 box plot"
      ],
      "metadata": {
        "id": "k0d1LY1tRcVc"
      }
    },
    {
      "cell_type": "code",
      "source": [
        "np.warnings.filterwarnings('ignore', category=np.VisibleDeprecationWarning) # 오류 메시지 무시"
      ],
      "metadata": {
        "id": "Bk_YSNJhR_Hv"
      },
      "execution_count": null,
      "outputs": []
    },
    {
      "cell_type": "code",
      "source": [
        "male_tip = tips[tips['sex'] == 'Male']['tip']\n",
        "female_tip = tips[tips['sex'] == 'Female']['tip']\n",
        "\n",
        "plt.boxplot(x = [male_tip, female_tip])\n",
        "plt.ylabel('Tip')\n",
        "plt.grid()\n",
        "plt.xticks([1,2], ['male', 'female'])\n",
        "plt.show()"
      ],
      "metadata": {
        "colab": {
          "base_uri": "https://localhost:8080/",
          "height": 265
        },
        "id": "768j2p6yRfEv",
        "outputId": "4c67301d-4ef5-484f-9450-8f765d3d6801"
      },
      "execution_count": null,
      "outputs": [
        {
          "output_type": "display_data",
          "data": {
            "text/plain": [
              "<Figure size 432x288 with 1 Axes>"
            ],
            "image/png": "[encoded data removed]"
          },
          "metadata": {
            "needs_background": "light"
          }
        }
      ]
    },
    {
      "cell_type": "code",
      "source": [
        "# Another Method\n",
        "tips_by_sex = np.array([male_tip, female_tip], dtype='object') # ragged array → 객체들의 array로 변환 ⇒ Error 제거.\n",
        "plt.boxplot(x = tips_by_sex, labels=['Male', 'Female'])\n",
        "\n",
        "plt.ylabel('Tip')\n",
        "plt.title('Tips by Sex')\n",
        "plt.show()"
      ],
      "metadata": {
        "colab": {
          "base_uri": "https://localhost:8080/",
          "height": 281
        },
        "id": "608qijSB0Fup",
        "outputId": "28367e94-5602-4472-cf24-8f93ffcd09cb"
      },
      "execution_count": null,
      "outputs": [
        {
          "output_type": "display_data",
          "data": {
            "text/plain": [
              "<Figure size 432x288 with 1 Axes>"
            ],
            "image/png": "[encoded data removed]"
          },
          "metadata": {
            "needs_background": "light"
          }
        }
      ]
    },
    {
      "cell_type": "markdown",
      "source": [
        "* 시간별 tip의 box plot"
      ],
      "metadata": {
        "id": "0WxYMmWORh1F"
      }
    },
    {
      "cell_type": "code",
      "source": [
        "lunch_tip = tips[tips['time'] == 'Lunch']['tip']\n",
        "dinner_tip = tips[tips['time'] == 'Dinner']['tip']\n",
        "\n",
        "plt.boxplot(x = [lunch_tip, dinner_tip])\n",
        "plt.xticks([1,2], ['Lunch', 'Dinner'])\n",
        "plt.grid()\n",
        "plt.show()"
      ],
      "metadata": {
        "colab": {
          "base_uri": "https://localhost:8080/",
          "height": 265
        },
        "id": "RjGOR3ksRhaw",
        "outputId": "10448a6b-0b3f-432b-961a-6da2fa63f084"
      },
      "execution_count": null,
      "outputs": [
        {
          "output_type": "display_data",
          "data": {
            "text/plain": [
              "<Figure size 432x288 with 1 Axes>"
            ],
            "image/png": "[encoded data removed]"
          },
          "metadata": {
            "needs_background": "light"
          }
        }
      ]
    },
    {
      "cell_type": "code",
      "source": [
        "tips.time.unique() # 컬럼에서 중복되지 않는 값들로 이루어진 배열과 비슷한 객체."
      ],
      "metadata": {
        "colab": {
          "base_uri": "https://localhost:8080/"
        },
        "id": "Lp-_5Kx76tf0",
        "outputId": "16743818-6162-43e6-b6c7-706a29b3532f"
      },
      "execution_count": null,
      "outputs": [
        {
          "output_type": "execute_result",
          "data": {
            "text/plain": [
              "['Dinner', 'Lunch']\n",
              "Categories (2, object): ['Lunch', 'Dinner']"
            ]
          },
          "metadata": {},
          "execution_count": 10
        }
      ]
    },
    {
      "cell_type": "code",
      "source": [
        "plt.boxplot(x = [dinner_tip, lunch_tip], labels = tips.time.unique())\n",
        "plt.show()"
      ],
      "metadata": {
        "colab": {
          "base_uri": "https://localhost:8080/",
          "height": 265
        },
        "id": "s0GXKOGG8NAS",
        "outputId": "27b19733-c208-4afc-e47a-a24d98ca34e1"
      },
      "execution_count": null,
      "outputs": [
        {
          "output_type": "display_data",
          "data": {
            "text/plain": [
              "<Figure size 432x288 with 1 Axes>"
            ],
            "image/png": "[encoded data removed]"
          },
          "metadata": {
            "needs_background": "light"
          }
        }
      ]
    },
    {
      "cell_type": "markdown",
      "source": [
        "* 요일별 tip의 box plot"
      ],
      "metadata": {
        "id": "PwWJsCwcRmuh"
      }
    },
    {
      "cell_type": "code",
      "source": [
        "Thur_tip = tips[tips['day'] == 'Thur']['tip']\n",
        "Fri_tip = tips[tips['day'] == 'Fri']['tip']\n",
        "Sat_tip = tips[tips['day'] == 'Sat']['tip']\n",
        "Sun_tip = tips[tips['day'] == 'Sun']['tip']\n",
        "\n",
        "plt.boxplot( x = [Thur_tip, Fri_tip, Sat_tip, Sun_tip], labels = ['Thur', 'Fri', 'Sat', 'Sun'] )\n",
        "plt.grid()\n",
        "plt.show()"
      ],
      "metadata": {
        "colab": {
          "base_uri": "https://localhost:8080/",
          "height": 265
        },
        "id": "xTgPONUgRpG8",
        "outputId": "0b1e2dae-21a7-46d9-ef12-47f0be8063a4"
      },
      "execution_count": null,
      "outputs": [
        {
          "output_type": "display_data",
          "data": {
            "text/plain": [
              "<Figure size 432x288 with 1 Axes>"
            ],
            "image/png": "[encoded data removed]"
          },
          "metadata": {
            "needs_background": "light"
          }
        }
      ]
    },
    {
      "cell_type": "code",
      "source": [
        "days = tips.day.unique()\n",
        "tips_by_day = [] # 요일별 부분집합(DataFrame)의 tip 컬럼을 저장하기 위한 빈 리스트\n",
        "for d in days:\n",
        "    tips_by_day.append(tips[tips.day == d].tip)\n",
        "\n",
        "# list comprehension\n",
        "# tips_by_day = [tips[tips.day == x].tip for x in days]\n",
        "\n",
        "tips_by_day = np.array(tips_by_day, dtype='object') # 리스트를 ndarray로 변환"
      ],
      "metadata": {
        "id": "RrlvKGOf8kJr"
      },
      "execution_count": null,
      "outputs": []
    },
    {
      "cell_type": "code",
      "source": [
        "plt.boxplot(x=tips_by_day, labels=days)\n",
        "plt.show()"
      ],
      "metadata": {
        "colab": {
          "base_uri": "https://localhost:8080/",
          "height": 265
        },
        "id": "wsumftFv9-LT",
        "outputId": "d73e5d7a-af22-4c89-ebdc-5551fd146e6a"
      },
      "execution_count": null,
      "outputs": [
        {
          "output_type": "display_data",
          "data": {
            "text/plain": [
              "<Figure size 432x288 with 1 Axes>"
            ],
            "image/png": "[encoded data removed]"
          },
          "metadata": {
            "needs_background": "light"
          }
        }
      ]
    }
  ]
}