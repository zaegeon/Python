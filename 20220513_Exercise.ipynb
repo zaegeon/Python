{
  "nbformat": 4,
  "nbformat_minor": 0,
  "metadata": {
    "colab": {
      "name": "20220513_Exercise.ipynb",
      "provenance": [],
      "collapsed_sections": [],
      "authorship_tag": "ABX9TyOux9zQ4j47PA7E+S3GeNB+",
      "include_colab_link": true
    },
    "kernelspec": {
      "name": "python3",
      "display_name": "Python 3"
    },
    "language_info": {
      "name": "python"
    }
  },
  "cells": [
    {
      "cell_type": "markdown",
      "metadata": {
        "id": "view-in-github",
        "colab_type": "text"
      },
      "source": [
        "<a href=\"https://colab.research.google.com/github/zaegeon/Python/blob/main/20220513_Exercise.ipynb\" target=\"_parent\"><img src=\"https://colab.research.google.com/assets/colab-badge.svg\" alt=\"Open In Colab\"/></a>"
      ]
    },
    {
      "cell_type": "markdown",
      "source": [
        "# Exercise"
      ],
      "metadata": {
        "id": "PdxXO_RP6GTz"
      }
    },
    {
      "cell_type": "markdown",
      "source": [
        "* 함수 이름 : word_count\n",
        "* 기능 : 문자열들을 원소로 갖는 리스트를 전달받아서 리스트에 문자열이 몇 번 등장하는지를 key와 value로 갖는 dictionary를 리턴.\n",
        "\n",
        "```\n",
        "result = word_count(['list', 'dict', 'list', 'tuple', 'tuple', 'tuple'])\n",
        "print(result)\n",
        "\n",
        ">>> {'list' : 2, 'dict' : 1, 'tuple' : 3}\n",
        "```"
      ],
      "metadata": {
        "id": "qF0FV4p5tBKM"
      }
    },
    {
      "cell_type": "code",
      "source": [
        "def word_count(lst):\n",
        "    x = {}\n",
        "    for i in lst:\n",
        "        x[i] = lst.count(i)\n",
        "    return x"
      ],
      "metadata": {
        "id": "of5W8_6ndD5f"
      },
      "execution_count": null,
      "outputs": []
    },
    {
      "cell_type": "code",
      "source": [
        "result = word_count(['list', 'dict', 'list', 'tuple', 'tuple', 'tuple'])\n",
        "print(result)"
      ],
      "metadata": {
        "colab": {
          "base_uri": "https://localhost:8080/"
        },
        "id": "FRnpB00SdVyC",
        "outputId": "c10acddb-4941-4074-fa6b-2c35740cfee1"
      },
      "execution_count": null,
      "outputs": [
        {
          "output_type": "stream",
          "name": "stdout",
          "text": [
            "{'list': 2, 'dict': 1, 'tuple': 3}\n"
          ]
        }
      ]
    },
    {
      "cell_type": "code",
      "source": [
        "def word_count2(array):\n",
        "    counts = {}\n",
        "    for x in array:\n",
        "        if x in counts:\n",
        "            counts[x] += 1\n",
        "        else:\n",
        "            counts[x] = 1\n",
        "    return counts"
      ],
      "metadata": {
        "id": "chl3S7EYYV-v"
      },
      "execution_count": null,
      "outputs": []
    },
    {
      "cell_type": "code",
      "source": [
        "result = word_count2(['list', 'dict', 'list', 'tuple', 'tuple', 'tuple'])\n",
        "print(result)"
      ],
      "metadata": {
        "colab": {
          "base_uri": "https://localhost:8080/"
        },
        "id": "gXJTbCtIZ0bW",
        "outputId": "8ec0d191-7d32-4197-b288-d3b1eebcdf60"
      },
      "execution_count": null,
      "outputs": [
        {
          "output_type": "stream",
          "name": "stdout",
          "text": [
            "{'list': 2, 'dict': 1, 'tuple': 3}\n"
          ]
        }
      ]
    },
    {
      "cell_type": "code",
      "source": [
        "counts = {}\n",
        "try:        # 무조건 시도\n",
        "    counts['list'] += 1 # 에러가 발생하지 않는 경우 (dict에 'list'라는 키가 있는 경우)\n",
        "except:     # 시도(try)하다가 에러가 발생하면 (dict에 'list'라는 키가 없는 경우)\n",
        "    counts['list'] = 1  # 단어가 처음 등장하는 경우이므로 값을 1로 설정\n",
        "print(counts)"
      ],
      "metadata": {
        "colab": {
          "base_uri": "https://localhost:8080/"
        },
        "id": "8mD94IjZipdB",
        "outputId": "05a38d71-5265-426f-b07b-6442a785fe31"
      },
      "execution_count": null,
      "outputs": [
        {
          "output_type": "stream",
          "name": "stdout",
          "text": [
            "{'list': 1}\n"
          ]
        }
      ]
    },
    {
      "cell_type": "code",
      "source": [
        "def word_count3(str_list):\n",
        "    counts = {}\n",
        "    for x in str_list:\n",
        "        try:\n",
        "            counts[x] += 1\n",
        "        except:\n",
        "            counts[x] = 1\n",
        "    return counts"
      ],
      "metadata": {
        "id": "UUxtEG3QlBJp"
      },
      "execution_count": null,
      "outputs": []
    },
    {
      "cell_type": "code",
      "source": [
        "word_count3(['list', 'dict', 'list', 'tuple', 'tuple', 'tuple'])"
      ],
      "metadata": {
        "colab": {
          "base_uri": "https://localhost:8080/"
        },
        "id": "tYwHSQ7LlpCa",
        "outputId": "789f5b1a-23d6-4ed6-e975-c7cd7176aaf4"
      },
      "execution_count": null,
      "outputs": [
        {
          "output_type": "execute_result",
          "data": {
            "text/plain": [
              "{'dict': 1, 'list': 2, 'tuple': 3}"
            ]
          },
          "metadata": {},
          "execution_count": 14
        }
      ]
    }
  ]
}