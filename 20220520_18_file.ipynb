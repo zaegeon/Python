{
  "nbformat": 4,
  "nbformat_minor": 0,
  "metadata": {
    "colab": {
      "name": "20220520_18_file.ipynb",
      "provenance": [],
      "collapsed_sections": [],
      "authorship_tag": "ABX9TyMi24LCwqA/JqYZ77eEg/yd",
      "include_colab_link": true
    },
    "kernelspec": {
      "name": "python3",
      "display_name": "Python 3"
    },
    "language_info": {
      "name": "python"
    }
  },
  "cells": [
    {
      "cell_type": "markdown",
      "metadata": {
        "id": "view-in-github",
        "colab_type": "text"
      },
      "source": [
        "<a href=\"https://colab.research.google.com/github/zaegeon/Python/blob/main/20220520_18_file.ipynb\" target=\"_parent\"><img src=\"https://colab.research.google.com/assets/colab-badge.svg\" alt=\"Open In Colab\"/></a>"
      ]
    },
    {
      "cell_type": "markdown",
      "source": [
        "# 파일 쓰기(file write)"
      ],
      "metadata": {
        "id": "O2hU5jdqAy76"
      }
    },
    {
      "cell_type": "markdown",
      "source": [
        "1.파일 열기(open)\n",
        "\n",
        "2.파일 쓰기(write)\n",
        "\n",
        "3.파일 닫기(close)\n",
        "\n",
        "```\n",
        "open(file, mode, ...)\n",
        "```\n",
        "* `file` : 폴더(디렉토리) 이름을 포함한 전체 파일 이름(경로).\n",
        "    * 폴더 이름 없이 파일 이름만 사용한 경우에는 현재 작업 디렉토리의 파일을 의미함.\n",
        "* `mode` : \n",
        "    * r(read) : 읽기. 기본값.\n",
        "    * w(write) : 쓰기. 기존에 작성된 내용이 모두 삭제되고 처음부터 다시 쓰기 시작.\n",
        "    * a(append) : 추가. 기존에 작성된 내용 뒤에 이어서 쓰기.\n",
        "    * t(text) : 텍스트. 기본값.\n",
        "    * b(binary) : 이진 데이터(이미지, 동영상, ...).\n"
      ],
      "metadata": {
        "id": "MZIbJLl2BVI_"
      }
    },
    {
      "cell_type": "code",
      "execution_count": 1,
      "metadata": {
        "id": "JW6TvOkhAwKl"
      },
      "outputs": [],
      "source": [
        "# 1. 파일을 열고 그 결과를 변수에 저장\n",
        "f = open(file='hello.txt', mode='w')\n",
        "\n",
        "# 2. 열린 파일에 내용을 작성\n",
        "f.write('안녕하세요. \\n') # '\\n' : new line(줄바꿈)\n",
        "f.write('Hello\\n')\n",
        "f.write('Python\\n')\n",
        "\n",
        "# 3. 사용중이던 파일을 닫음.\n",
        "f.close()"
      ]
    },
    {
      "cell_type": "code",
      "source": [
        "# with-as 구문의 블록 안에서 파일 내용 읽기/쓰기만 작성하면\n",
        "#         파일 닫기(close 메서드)는 자동으로 실행됨.\n",
        "# with open(...) as 변수 :\n",
        "\n",
        "with open(file='hello.txt', mode='at') as f:        # at : append, text\n",
        "    f.write('파일 append 테스트\\n')\n",
        "    f.write('123 456 789 0\\n')"
      ],
      "metadata": {
        "id": "8ECakeljMuBM"
      },
      "execution_count": 2,
      "outputs": []
    },
    {
      "cell_type": "markdown",
      "source": [
        "파일을 open할 때 모드(mode)를 'w' 또는 'a'로 하는 경우에\n",
        "*    파일이 존재하지 않으면 새로운 파일을 만듦.\n",
        "*    파일이 존재하면 기존의 파일을 열어줌."
      ],
      "metadata": {
        "id": "-roYF9PBOgEM"
      }
    },
    {
      "cell_type": "markdown",
      "source": [
        "# 파일 읽기"
      ],
      "metadata": {
        "id": "r9vJQuoZPAZw"
      }
    },
    {
      "cell_type": "markdown",
      "source": [
        "1.   파일 열기(open)\n",
        "1.   파일 내용 읽기(read)\n",
        "1.   파일 닫기(close)\n",
        "\n",
        "`with-as` 구문을 사용하면 close() 메서드를 호출하지 않아도 자동으로 실행됨."
      ],
      "metadata": {
        "id": "rqRIFYDmPB7N"
      }
    },
    {
      "cell_type": "code",
      "source": [
        "with open(file='hello.txt', mode='rt') as f:\n",
        "    line = f.readline()\n",
        "    print(line)\n",
        "    line = f.readline()\n",
        "    print(line)"
      ],
      "metadata": {
        "colab": {
          "base_uri": "https://localhost:8080/"
        },
        "id": "f1o3FS6wP3-i",
        "outputId": "403dfa09-a365-4ce6-d37d-5bd6f6cbcccf"
      },
      "execution_count": 3,
      "outputs": [
        {
          "output_type": "stream",
          "name": "stdout",
          "text": [
            "안녕하세요. \n",
            "\n",
            "Hello\n",
            "\n"
          ]
        }
      ]
    },
    {
      "cell_type": "markdown",
      "source": [
        "파이썬의 파일 스트림(stream)은 반복 가능한 타입(iterable). 파이썬의 파일 스트림은 `for-in` 구문에서 사용 가능."
      ],
      "metadata": {
        "id": "Z8EiTUUmRwpt"
      }
    },
    {
      "cell_type": "code",
      "source": [
        "with open('hello.txt', mode='rt') as f:\n",
        "    for line in f:  \n",
        "    # 파일 스트림을 for-in 구문으로 사용하면 readline() 메서드가 자동으로 호출됨.\n",
        "        print(line.strip())\n",
        "        # str.strip() : 문자열의 처음과 끝에 있는 공백 문자들을 제거."
      ],
      "metadata": {
        "colab": {
          "base_uri": "https://localhost:8080/"
        },
        "id": "UV-CXfLyR6on",
        "outputId": "4b9b1b4e-f974-49e3-ff88-145535afc351"
      },
      "execution_count": 4,
      "outputs": [
        {
          "output_type": "stream",
          "name": "stdout",
          "text": [
            "안녕하세요.\n",
            "Hello\n",
            "Python\n",
            "파일 append 테스트\n",
            "123 456 789 0\n"
          ]
        }
      ]
    },
    {
      "cell_type": "markdown",
      "source": [
        "# Google Drive에서 파일 쓰기/읽기"
      ],
      "metadata": {
        "id": "KY8DPqMFc6aD"
      }
    },
    {
      "cell_type": "code",
      "source": [
        "from google.colab import drive\n",
        "drive.mount('/content/drive')"
      ],
      "metadata": {
        "colab": {
          "base_uri": "https://localhost:8080/"
        },
        "id": "U1tbRXkKmG8i",
        "outputId": "8688a6fc-4d78-4251-aa52-b8d4ee6157c0"
      },
      "execution_count": 9,
      "outputs": [
        {
          "output_type": "stream",
          "name": "stdout",
          "text": [
            "Mounted at /content/drive\n"
          ]
        }
      ]
    },
    {
      "cell_type": "code",
      "source": [
        "# 파일을 쓰고 읽기 위한 Google Drive 폴더(디렉토리) 경로\n",
        "dir_path = '/content/drive/MyDrive/ColabNotebooks/Lab_Python'\n",
        "\n",
        "# 작성할 파일 이름\n",
        "file_name = 'emails.txt'"
      ],
      "metadata": {
        "id": "bQPFLyD7c-fl"
      },
      "execution_count": 5,
      "outputs": []
    },
    {
      "cell_type": "code",
      "source": [
        "import os # os.path.join() 함수를 사용하기 위해서"
      ],
      "metadata": {
        "id": "Av8um57VbQ5t"
      },
      "execution_count": 6,
      "outputs": []
    },
    {
      "cell_type": "code",
      "source": [
        "# os.path.join(): 폴더의 이름과 파일을 이름을 해당 OS의 파일 구분자(/ 또는 \\)로 이어주는 함수.\n",
        "file_path = os.path.join(dir_path, file_name)\n",
        "print(file_path)"
      ],
      "metadata": {
        "colab": {
          "base_uri": "https://localhost:8080/"
        },
        "id": "7WsmYyu6cuSc",
        "outputId": "31ff17ba-6933-44c7-ae92-afc95344f607"
      },
      "execution_count": 7,
      "outputs": [
        {
          "output_type": "stream",
          "name": "stdout",
          "text": [
            "/content/drive/MyDrive/ColabNotebooks/Lab_Python/emails.txt\n"
          ]
        }
      ]
    },
    {
      "cell_type": "code",
      "source": [
        "with open(file_path, 'wt') as f:\n",
        "    f.write('hgd@naver.com\\n')\n",
        "    f.write('gildong@kakao.com\\n')\n",
        "    f.write('gildong.hong@google.com\\n')\n",
        "    f.write('hgd1004@outlook.com\\n')"
      ],
      "metadata": {
        "id": "HpxXLWhebXUf"
      },
      "execution_count": 10,
      "outputs": []
    },
    {
      "cell_type": "code",
      "source": [
        "with open(file_path, 'rt') as f:\n",
        "    for line in f:      # 파일 f에서 한 줄씩 읽으면서 파일 끝(EOF)까지 반복.\n",
        "        print(line.strip())"
      ],
      "metadata": {
        "id": "p8j9nFYxbov4",
        "colab": {
          "base_uri": "https://localhost:8080/"
        },
        "outputId": "088bf2b1-03b6-4e0c-a6b4-ff2173b54a24"
      },
      "execution_count": null,
      "outputs": [
        {
          "output_type": "stream",
          "name": "stdout",
          "text": [
            "hgd@naver.com\n",
            "gildong@kakao.com\n",
            "gildong.hong@google.com\n",
            "hgd1004@outlook.com\n"
          ]
        }
      ]
    },
    {
      "cell_type": "code",
      "source": [
        "# emails.txt 파일을 읽어서 이메일 도메인 주소들만 저장하는 리스트를 만들고 출력.\n",
        "with open(file_path, 'rt') as f:\n",
        "    domains = []\n",
        "    for email in f:\n",
        "        idx = email.find('@') # 파일에서 읽은 줄에서 '@'의 위치(인덱스)를 찾음.\n",
        "        domains.append(email[(idx+1):].strip()) # '@' 다음 위치부터 맨 끝의 '\\n' 제외하고 slicing.\n",
        "    print(domains)"
      ],
      "metadata": {
        "id": "GEUcDRVscAay",
        "colab": {
          "base_uri": "https://localhost:8080/"
        },
        "outputId": "9c3983a3-4c41-49c8-e389-8376f5fa1ce1"
      },
      "execution_count": 11,
      "outputs": [
        {
          "output_type": "stream",
          "name": "stdout",
          "text": [
            "['naver.com', 'kakao.com', 'google.com', 'outlook.com']\n"
          ]
        }
      ]
    },
    {
      "cell_type": "code",
      "source": [
        "with open(file_path, 'rt') as f:\n",
        "    domains = []\n",
        "    for line in f:\n",
        "        domains.append((line.strip()).split('@')[1])\n",
        "print(domains)"
      ],
      "metadata": {
        "colab": {
          "base_uri": "https://localhost:8080/"
        },
        "id": "jz9uOImLy6p0",
        "outputId": "6993022b-a845-46b5-fccf-cc18953f148c"
      },
      "execution_count": null,
      "outputs": [
        {
          "output_type": "stream",
          "name": "stdout",
          "text": [
            "['naver.com', 'kakao.com', 'google.com', 'outlook.com']\n"
          ]
        }
      ]
    },
    {
      "cell_type": "markdown",
      "source": [
        "# Binary File 쓰기/읽기"
      ],
      "metadata": {
        "id": "jzNgz8aaz8wS"
      }
    },
    {
      "cell_type": "markdown",
      "source": [
        "`pickle`\n",
        "* Python 객체(object) 타입을 이진 데이터(binary data) 형식으로 파일에 쓰거나 읽기 위해서 사용하는 타입.\n",
        "* Python의 dict 타입을 파일에 쓰고, 파일에서 이진 데이터를 읽어서 dict로 변환할 수 있음.\n",
        "* `pickle.dump(object, file)` : 객체(object)를 파일에 write.\n",
        "* `pickle.load(file)` : 파일에서 이진 데이터를 읽어서 객체(object)를 리턴."
      ],
      "metadata": {
        "id": "0IkfvJ4W0R0_"
      }
    },
    {
      "cell_type": "code",
      "source": [
        "import pickle"
      ],
      "metadata": {
        "id": "D9yWQwdk0AG8"
      },
      "execution_count": 13,
      "outputs": []
    },
    {
      "cell_type": "code",
      "source": [
        "# 파일에 write 할 dict 객체\n",
        "contact = {\n",
        "    'name' : 'NAME',\n",
        "    'company' : 'tistory',\n",
        "    'phone' : ['010-0000-0000', '02-1234-5678'],\n",
        "    'email' : {'company' : 'mylife1335@gmail.com', 'personal' : 'mapleditor@naver.com'}\n",
        "}\n",
        "print(contact)"
      ],
      "metadata": {
        "colab": {
          "base_uri": "https://localhost:8080/"
        },
        "id": "Q_F-nbuQ1g-f",
        "outputId": "7cbda135-988e-42b1-9355-8e71ff46a032"
      },
      "execution_count": 12,
      "outputs": [
        {
          "output_type": "stream",
          "name": "stdout",
          "text": [
            "{'name': 'NAME', 'company': 'tistory', 'phone': ['010-0000-0000', '02-1234-5678'], 'email': {'company': 'mylife1335@gmail.com', 'personal': 'mapleditor@naver.com'}}\n"
          ]
        }
      ]
    },
    {
      "cell_type": "code",
      "source": [
        "binary_file = 'contact.pkl'\n",
        "# 이진 데이터 형식을 파일에 쓸 때에는 open() 함수에서 mode='wb'를 반드시 전달해야 함.\n",
        "with open(binary_file, 'wb') as f:\n",
        "    pickle.dump(contact, f)"
      ],
      "metadata": {
        "id": "nH1y6jiG2GfD"
      },
      "execution_count": 14,
      "outputs": []
    },
    {
      "cell_type": "code",
      "source": [
        "# 이진 데이터 형식으로 작성된 파일에서 내용을 읽을 때는 mode='rb'를 반드시 명시.\n",
        "with open(binary_file, 'rb') as f:\n",
        "    obj = pickle.load(f)\n",
        "    print(obj)"
      ],
      "metadata": {
        "colab": {
          "base_uri": "https://localhost:8080/"
        },
        "id": "xKoPt_L-3ioY",
        "outputId": "76f466e0-b7d1-46c0-be05-149b77f56bbe"
      },
      "execution_count": 15,
      "outputs": [
        {
          "output_type": "stream",
          "name": "stdout",
          "text": [
            "{'name': 'NAME', 'company': 'tistory', 'phone': ['010-0000-0000', '02-1234-5678'], 'email': {'company': 'mylife1335@gmail.com', 'personal': 'mapleditor@naver.com'}}\n"
          ]
        }
      ]
    }
  ]
}