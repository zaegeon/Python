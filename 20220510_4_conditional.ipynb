{
  "nbformat": 4,
  "nbformat_minor": 0,
  "metadata": {
    "colab": {
      "name": "20220510_4_conditional.ipynb",
      "provenance": [],
      "collapsed_sections": [],
      "authorship_tag": "ABX9TyObSVf7xD3rY6RaRqSactsy",
      "include_colab_link": true
    },
    "kernelspec": {
      "name": "python3",
      "display_name": "Python 3"
    },
    "language_info": {
      "name": "python"
    }
  },
  "cells": [
    {
      "cell_type": "markdown",
      "metadata": {
        "id": "view-in-github",
        "colab_type": "text"
      },
      "source": [
        "<a href=\"https://colab.research.google.com/github/zaegeon/Python/blob/main/20220510_4_conditional.ipynb\" target=\"_parent\"><img src=\"https://colab.research.google.com/assets/colab-badge.svg\" alt=\"Open In Colab\"/></a>"
      ]
    },
    {
      "cell_type": "markdown",
      "source": [
        "# 난수(random number) 만드는 방법"
      ],
      "metadata": {
        "id": "V5KHB6dxd1XM"
      }
    },
    {
      "cell_type": "code",
      "execution_count": 2,
      "metadata": {
        "id": "t8uLXgFPdqBg"
      },
      "outputs": [],
      "source": [
        "import random # 난수를 만들어주는 함수들을 가지고 있는 모듈"
      ]
    },
    {
      "cell_type": "code",
      "source": [
        "random.random() # 0 ≤ x < 1 범위의 실수 난수를 생성"
      ],
      "metadata": {
        "colab": {
          "base_uri": "https://localhost:8080/"
        },
        "id": "r0f6rNMSd0cr",
        "outputId": "20fa4c3b-9943-4583-9c94-494e98786baf"
      },
      "execution_count": 5,
      "outputs": [
        {
          "output_type": "execute_result",
          "data": {
            "text/plain": [
              "0.8806295693798712"
            ]
          },
          "metadata": {},
          "execution_count": 5
        }
      ]
    },
    {
      "cell_type": "code",
      "source": [
        "random.randrange(1,4) # random.randrange(start, stop) : start ≤ x < stop 범위의 정수 난수를 생성"
      ],
      "metadata": {
        "colab": {
          "base_uri": "https://localhost:8080/"
        },
        "id": "TRlphUbgeE_N",
        "outputId": "11d66f91-c698-4525-b5e3-d95fba06413d"
      },
      "execution_count": 7,
      "outputs": [
        {
          "output_type": "execute_result",
          "data": {
            "text/plain": [
              "2"
            ]
          },
          "metadata": {},
          "execution_count": 7
        }
      ]
    },
    {
      "cell_type": "markdown",
      "source": [
        "# 가위,바위,보 승패 결정\n",
        "\n",
        "* 가위(1), 바위(2), 보(3)\n",
        "* 컴퓨터 - 1,2,3 중의 숫자 하나를 난수로 저장.\n",
        "* 사용자 - 1,2,3 중의 숫자 하나를 입력받아서 저장.\n",
        "* 가위/바위/보 게임 결과를 조건문을 사용해서 출력."
      ],
      "metadata": {
        "id": "PoaNV1afeS_q"
      }
    },
    {
      "cell_type": "code",
      "source": [
        "computer = random.randrange(1,4)\n",
        "print(computer)"
      ],
      "metadata": {
        "colab": {
          "base_uri": "https://localhost:8080/"
        },
        "id": "eidhsdl_emhi",
        "outputId": "361ce34a-3638-496b-b22c-fee66b420a76"
      },
      "execution_count": null,
      "outputs": [
        {
          "output_type": "stream",
          "name": "stdout",
          "text": [
            "1\n"
          ]
        }
      ]
    },
    {
      "cell_type": "code",
      "source": [
        "print('=== 가위/바위/보 ===')\n",
        "print('[1] 가위')\n",
        "print('[2] 바위')\n",
        "print('[3] 보')\n",
        "user = int(input('선택>>> '))"
      ],
      "metadata": {
        "id": "wOUzYQEpeov4"
      },
      "execution_count": null,
      "outputs": []
    },
    {
      "cell_type": "code",
      "source": [
        "print('=== 가위/바위/보 ===')\n",
        "print('[1] 가위')\n",
        "print('[2] 바위')\n",
        "print('[3] 보')\n",
        "user = int(input('선택>>> '))\n",
        "computer = random.randrange(1,4)\n",
        "\n",
        "if user == 1:\n",
        "    print('User : 가위')\n",
        "elif user == 2:\n",
        "    print('User : 바위')\n",
        "else:\n",
        "    print('User : 보')\n",
        "\n",
        "if computer == 1:\n",
        "    print('Computer : 가위')\n",
        "elif computer == 2:\n",
        "    print('Computer : 바위')\n",
        "else:\n",
        "    print('Computer : 보')\n",
        "\n",
        "if user == 1:\n",
        "    if computer == 1:\n",
        "        print('무승부')\n",
        "    elif computer == 2:\n",
        "        print('패')\n",
        "    else:\n",
        "        print('승')\n",
        "elif user == 2:\n",
        "    if computer == 1:\n",
        "        print('승')\n",
        "    elif computer == 2:\n",
        "        print('무승부')\n",
        "    else:\n",
        "        print('패')\n",
        "else:\n",
        "    if computer == 1:\n",
        "        print('패')\n",
        "    elif computer == 2:\n",
        "        print('승')\n",
        "    else:\n",
        "        print('무승부')"
      ],
      "metadata": {
        "colab": {
          "base_uri": "https://localhost:8080/"
        },
        "id": "pntjRL-oes-5",
        "outputId": "472b8f0c-057e-4504-c38f-f76004a2ae8d"
      },
      "execution_count": null,
      "outputs": [
        {
          "output_type": "stream",
          "name": "stdout",
          "text": [
            "=== 가위/바위/보 ===\n",
            "[1] 가위\n",
            "[2] 바위\n",
            "[3] 보\n",
            "선택>>> 3\n",
            "User : 보\n",
            "Computer : 가위\n",
            "패\n"
          ]
        }
      ]
    },
    {
      "cell_type": "code",
      "source": [
        "if user == computer:  # 비김\n",
        "    print('Tie')\n",
        "elif (user == 1 and computer == 3) or (user == 2 and computer == 1) or (user == 3 and computer == 2):  # user 이김\n",
        "    print('User win')\n",
        "else:  # computer 이김\n",
        "    print('Computer win')"
      ],
      "metadata": {
        "colab": {
          "base_uri": "https://localhost:8080/"
        },
        "id": "W_3bJZwXeyo7",
        "outputId": "b274f474-938f-4a70-d4fc-fd48def10968"
      },
      "execution_count": null,
      "outputs": [
        {
          "output_type": "stream",
          "name": "stdout",
          "text": [
            "Computer win\n"
          ]
        }
      ]
    },
    {
      "cell_type": "code",
      "source": [
        "result = user - computer\n",
        "if result == 0:\n",
        "    print('Tie')\n",
        "elif result == 1 or result == -2:\n",
        "    print('User win')\n",
        "else:\n",
        "    print('Computer win')"
      ],
      "metadata": {
        "id": "nKKMQFdufIgs"
      },
      "execution_count": null,
      "outputs": []
    },
    {
      "cell_type": "markdown",
      "source": [
        "## 무한 반복문과 break"
      ],
      "metadata": {
        "id": "sifL-XUu2Y8V"
      }
    },
    {
      "cell_type": "code",
      "source": [
        "while True:  # infinite loop\n",
        "    name = input('이름을 입력하세요. 끝내려면 Q를 입력하세요. ')\n",
        "    if name == 'Q':\n",
        "        print('종료합니다.')\n",
        "        break\n",
        "    print(f'안녕하세요, {name}님!')"
      ],
      "metadata": {
        "colab": {
          "base_uri": "https://localhost:8080/"
        },
        "id": "sit6KApY2bFM",
        "outputId": "a3c6b945-6bb4-4b28-9303-ba4e2c606b9a"
      },
      "execution_count": null,
      "outputs": [
        {
          "output_type": "stream",
          "name": "stdout",
          "text": [
            "이름을 입력하세요. 끝내려면 Q를 입력하세요. 안녕하세요\n",
            "안녕하세요, 안녕하세요님!\n",
            "이름을 입력하세요. 끝내려면 Q를 입력하세요. ㅁㄴㅁㄴㅌㅋ\n",
            "안녕하세요, ㅁㄴㅁㄴㅌㅋ님!\n",
            "이름을 입력하세요. 끝내려면 Q를 입력하세요. 마나토끼\n",
            "안녕하세요, 마나토끼님!\n",
            "이름을 입력하세요. 끝내려면 Q를 입력하세요. Q\n",
            "종료합니다.\n"
          ]
        }
      ]
    }
  ]
}