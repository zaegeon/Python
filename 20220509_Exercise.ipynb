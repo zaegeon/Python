{
  "nbformat": 4,
  "nbformat_minor": 0,
  "metadata": {
    "colab": {
      "name": "20220509_Exercise.ipynb",
      "provenance": [],
      "collapsed_sections": [],
      "authorship_tag": "ABX9TyPVDtDpzCFZiP/sy+Yp/PD4",
      "include_colab_link": true
    },
    "kernelspec": {
      "name": "python3",
      "display_name": "Python 3"
    },
    "language_info": {
      "name": "python"
    }
  },
  "cells": [
    {
      "cell_type": "markdown",
      "metadata": {
        "id": "view-in-github",
        "colab_type": "text"
      },
      "source": [
        "<a href=\"https://colab.research.google.com/github/zaegeon/Python/blob/main/20220509_Exercise.ipynb\" target=\"_parent\"><img src=\"https://colab.research.google.com/assets/colab-badge.svg\" alt=\"Open In Colab\"/></a>"
      ]
    },
    {
      "cell_type": "markdown",
      "source": [
        "Exercise\n",
        "* 정수 3개를 입력받고 변수에 저장\n",
        "* 정수 3개의 평균을 계산하고 출력\n",
        "* 평균이\n",
        "    * 90 이상이면 'A'\n",
        "    * 80 이상이면 'B'\n",
        "    * 70 이상이면 'C'\n",
        "    * 70 미만이면 'F' 출력"
      ],
      "metadata": {
        "id": "AQ2Owjcb_J-7"
      }
    },
    {
      "cell_type": "code",
      "source": [
        "n1 = float(input('점수 입력 >>>'))\n",
        "n2 = float(input('점수 입력 >>>'))\n",
        "n3 = float(input('점수 입력 >>>'))\n",
        "avg = (n1+n2+n3) / 3\n",
        "if avg >= 90:\n",
        "    print('A')\n",
        "elif avg >= 80:\n",
        "    print('B')\n",
        "elif avg >= 70:\n",
        "    print('C')\n",
        "else:\n",
        "    print('F')"
      ],
      "metadata": {
        "id": "K7TQ3Pb-FJMc"
      },
      "execution_count": null,
      "outputs": []
    }
  ]
}