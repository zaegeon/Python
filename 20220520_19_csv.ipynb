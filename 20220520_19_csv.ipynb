{
  "nbformat": 4,
  "nbformat_minor": 0,
  "metadata": {
    "colab": {
      "name": "20220520_19_csv.ipynb",
      "provenance": [],
      "collapsed_sections": [],
      "authorship_tag": "ABX9TyNTXJZ23BCaC85Fnm4DYKkd",
      "include_colab_link": true
    },
    "kernelspec": {
      "name": "python3",
      "display_name": "Python 3"
    },
    "language_info": {
      "name": "python"
    }
  },
  "cells": [
    {
      "cell_type": "markdown",
      "metadata": {
        "id": "view-in-github",
        "colab_type": "text"
      },
      "source": [
        "<a href=\"https://colab.research.google.com/github/zaegeon/Python/blob/main/20220520_19_csv.ipynb\" target=\"_parent\"><img src=\"https://colab.research.google.com/assets/colab-badge.svg\" alt=\"Open In Colab\"/></a>"
      ]
    },
    {
      "cell_type": "markdown",
      "source": [
        "* Google Drive에 exam.csv 파일을 업로드\n",
        "* Colab 연결 (세션 활성화)\n",
        "* Colab에 Google Drive 마운트(mount, 연결)"
      ],
      "metadata": {
        "id": "N7bACggn-rYK"
      }
    },
    {
      "cell_type": "code",
      "execution_count": null,
      "metadata": {
        "id": "TuxtywE3-OaI"
      },
      "outputs": [],
      "source": [
        "# 파일의 전체 경로\n",
        "file_path = '/content/drive/MyDrive/ColabNotebooks/Lab_Python/exam.csv'"
      ]
    },
    {
      "cell_type": "markdown",
      "source": [
        "1. exam.csv 파일을 open\n",
        "1. 파일의 첫 번째 줄은 컬럼 이름들이기 때문에 첫 번째 줄은 읽고 무시\n",
        "1. 파일의 두 번째 줄부터 파일 끝(EOF)까지 4번 내용을 반복.\n",
        "1. 각 줄에서 읽은 내용을 쉼표(,)로 분리한 리스트를 빈 리스트에 append.\n",
        "\n",
        "> `[['1', '1', '50', '98', '50'], ['2', '1', '60', '97', '60'], ... ] `\n",
        "\n",
        "5. 4번에서 만들어진 2차원 리스트는 문자열들을 저장하고 있는 리스트이기 때문에, 리스트의 모든 값들을 정수(int)로 변환\n",
        "> `[[1, 1, 50, 98, 50], [2, 1, 60, 97, 60], ... ]`\n",
        "1. 수학 점수들로만 이루어진 1차원 리스트를 만듦.\n",
        "> `[50, 60, ...]`\n",
        "1. 수학 점수의 최댓값, 최솟값, 평균 출력.\n",
        "1. 1반 학생들의 수학 점수 총점, 평균, 최댓값, 최솟값 출력."
      ],
      "metadata": {
        "id": "VPQOJZNU_eq2"
      }
    },
    {
      "cell_type": "code",
      "source": [
        "import os"
      ],
      "metadata": {
        "id": "UujZzfMXDD5t"
      },
      "execution_count": 3,
      "outputs": []
    },
    {
      "cell_type": "code",
      "source": [
        "dir_path = '/content/drive/MyDrive/ColabNotebooks/Lab_Python'\n",
        "file_name = 'exam.csv'\n",
        "file_path = os.path.join(dir_path, file_name)\n",
        "print(file_path)"
      ],
      "metadata": {
        "colab": {
          "base_uri": "https://localhost:8080/"
        },
        "id": "G7PvGkmbC569",
        "outputId": "65dc5540-619b-4275-d492-6400fc8ae72d"
      },
      "execution_count": 4,
      "outputs": [
        {
          "output_type": "stream",
          "name": "stdout",
          "text": [
            "/content/drive/MyDrive/ColabNotebooks/Lab_Python/exam.csv\n"
          ]
        }
      ]
    },
    {
      "cell_type": "code",
      "source": [
        "with open(file_path, mode='rt') as f:\n",
        "    f.readline()\n",
        "    score = []\n",
        "    for line in f:\n",
        "        score.append(line.strip().split(','))\n",
        "\n",
        "score"
      ],
      "metadata": {
        "colab": {
          "base_uri": "https://localhost:8080/"
        },
        "id": "i1v4sdjd_6EH",
        "outputId": "1081f20f-3ce0-451f-c8e8-bf253069770d"
      },
      "execution_count": null,
      "outputs": [
        {
          "output_type": "execute_result",
          "data": {
            "text/plain": [
              "[['1', '1', '50', '98', '50'],\n",
              " ['2', '1', '60', '97', '60'],\n",
              " ['3', '1', '45', '86', '78'],\n",
              " ['4', '1', '30', '98', '58'],\n",
              " ['5', '2', '25', '80', '65'],\n",
              " ['6', '2', '50', '89', '98'],\n",
              " ['7', '2', '80', '90', '45'],\n",
              " ['8', '2', '90', '78', '25'],\n",
              " ['9', '3', '20', '98', '15'],\n",
              " ['10', '3', '50', '98', '45'],\n",
              " ['11', '3', '65', '65', '65'],\n",
              " ['12', '3', '45', '85', '32'],\n",
              " ['13', '4', '46', '98', '65'],\n",
              " ['14', '4', '48', '87', '12'],\n",
              " ['15', '4', '75', '56', '78'],\n",
              " ['16', '4', '58', '98', '65'],\n",
              " ['17', '5', '65', '68', '98'],\n",
              " ['18', '5', '80', '78', '90'],\n",
              " ['19', '5', '89', '68', '87'],\n",
              " ['20', '5', '78', '83', '58']]"
            ]
          },
          "metadata": {},
          "execution_count": 159
        }
      ]
    },
    {
      "cell_type": "code",
      "source": [
        "array = ['12', '34', '56'] # → [12, 34, 56]\n",
        "for x in array:\n",
        "    x = int(x) # array의 원소가 변경되는 것이 아니라 변수 x의 값이 변경\n",
        "print(array)   # 원본 리스트 array는 변화 x"
      ],
      "metadata": {
        "id": "UIc9Y0f0T7ew"
      },
      "execution_count": null,
      "outputs": []
    },
    {
      "cell_type": "code",
      "source": [
        "for i, x in enumerate(array):\n",
        "    array[i] = int(x)\n",
        "print(array)"
      ],
      "metadata": {
        "colab": {
          "base_uri": "https://localhost:8080/"
        },
        "id": "RcOG9TXEb_vx",
        "outputId": "c6fed4c1-2041-4148-bfcf-f872cad2ea18"
      },
      "execution_count": null,
      "outputs": [
        {
          "output_type": "stream",
          "name": "stdout",
          "text": [
            "[12, 34, 56]\n"
          ]
        }
      ]
    },
    {
      "cell_type": "code",
      "source": [
        "for row in score:\n",
        "    for i, x in enumerate(row):\n",
        "        row[i] = int(x)\n",
        "score"
      ],
      "metadata": {
        "colab": {
          "base_uri": "https://localhost:8080/"
        },
        "id": "HiknY7hzdj33",
        "outputId": "34c2f869-ddd3-4fd2-9fa1-5a9b49285c33"
      },
      "execution_count": null,
      "outputs": [
        {
          "output_type": "execute_result",
          "data": {
            "text/plain": [
              "[[1, 1, 50, 98, 50],\n",
              " [2, 1, 60, 97, 60],\n",
              " [3, 1, 45, 86, 78],\n",
              " [4, 1, 30, 98, 58],\n",
              " [5, 2, 25, 80, 65],\n",
              " [6, 2, 50, 89, 98],\n",
              " [7, 2, 80, 90, 45],\n",
              " [8, 2, 90, 78, 25],\n",
              " [9, 3, 20, 98, 15],\n",
              " [10, 3, 50, 98, 45],\n",
              " [11, 3, 65, 65, 65],\n",
              " [12, 3, 45, 85, 32],\n",
              " [13, 4, 46, 98, 65],\n",
              " [14, 4, 48, 87, 12],\n",
              " [15, 4, 75, 56, 78],\n",
              " [16, 4, 58, 98, 65],\n",
              " [17, 5, 65, 68, 98],\n",
              " [18, 5, 80, 78, 90],\n",
              " [19, 5, 89, 68, 87],\n",
              " [20, 5, 78, 83, 58]]"
            ]
          },
          "metadata": {},
          "execution_count": 160
        }
      ]
    },
    {
      "cell_type": "code",
      "source": [
        "# math = [] # 수학 점수들을 저장할 빈 리스트.\n",
        "# for row in score:\n",
        "#     math.append(row[2]) # 1차원 리스트에서 인덱스 2번 위치의 원소가 수학점수.\n",
        "math = [row[2] for row in score] # list comprehension\n",
        "\n",
        "print(math)"
      ],
      "metadata": {
        "colab": {
          "base_uri": "https://localhost:8080/"
        },
        "id": "NfOHHiX4eEGO",
        "outputId": "e66ce0b2-b87d-43b3-833a-864f77016e33"
      },
      "execution_count": null,
      "outputs": [
        {
          "output_type": "stream",
          "name": "stdout",
          "text": [
            "[50, 60, 45, 30, 25, 50, 80, 90, 20, 50, 65, 45, 46, 48, 75, 58, 65, 80, 89, 78]\n"
          ]
        }
      ]
    },
    {
      "cell_type": "code",
      "source": [
        "print('max : ', max(math))\n",
        "print('min : ', min(math))\n",
        "print('mean : ', sum(math) / len(math))"
      ],
      "metadata": {
        "colab": {
          "base_uri": "https://localhost:8080/"
        },
        "id": "wwwG0LCrfOZW",
        "outputId": "f85bef4c-37bc-43af-d406-3a6c24fe1325"
      },
      "execution_count": null,
      "outputs": [
        {
          "output_type": "stream",
          "name": "stdout",
          "text": [
            "max :  90\n",
            "min :  20\n",
            "mean :  57.45\n"
          ]
        }
      ]
    },
    {
      "cell_type": "code",
      "source": [
        "class1_math = []\n",
        "for row in score:\n",
        "    if row[1] == 1:                   # 클래스 값이 1이면\n",
        "        class1_math.append(row[2])    # 수학 점수를 리스트에 추가.\n",
        "\n",
        "print(class1_math)"
      ],
      "metadata": {
        "colab": {
          "base_uri": "https://localhost:8080/"
        },
        "id": "Ue3zei5Uf3y8",
        "outputId": "8c8eb93e-18c3-4c6e-f3ce-e520fa85da8d"
      },
      "execution_count": null,
      "outputs": [
        {
          "output_type": "stream",
          "name": "stdout",
          "text": [
            "[50, 60, 45, 30]\n"
          ]
        }
      ]
    },
    {
      "cell_type": "code",
      "source": [
        "print('1반 수학 총점 : ', sum(class1_math))\n",
        "print('1반 수학 평균 : ', sum(class1_math) / len(class1_math))\n",
        "print('1반 수학 최댓값 : ', max(class1_math))\n",
        "print('1반 수학 최솟값 : ', min(class1_math))"
      ],
      "metadata": {
        "colab": {
          "base_uri": "https://localhost:8080/"
        },
        "id": "o8oaul-AjIZb",
        "outputId": "21b25433-3d04-4730-fc44-2270c47d9af4"
      },
      "execution_count": null,
      "outputs": [
        {
          "output_type": "stream",
          "name": "stdout",
          "text": [
            "1반 수학 총점 :  185\n",
            "1반 수학 평균 :  46.25\n",
            "1반 수학 최댓값 :  60\n",
            "1반 수학 최솟값 :  30\n"
          ]
        }
      ]
    }
  ]
}