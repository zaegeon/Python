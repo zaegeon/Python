{
  "nbformat": 4,
  "nbformat_minor": 0,
  "metadata": {
    "colab": {
      "name": "20220513_10_dict.ipynb",
      "provenance": [],
      "collapsed_sections": [],
      "authorship_tag": "ABX9TyOBoz7zkokwlGkpbbFq6/ll",
      "include_colab_link": true
    },
    "kernelspec": {
      "name": "python3",
      "display_name": "Python 3"
    },
    "language_info": {
      "name": "python"
    }
  },
  "cells": [
    {
      "cell_type": "markdown",
      "metadata": {
        "id": "view-in-github",
        "colab_type": "text"
      },
      "source": [
        "<a href=\"https://colab.research.google.com/github/zaegeon/Python/blob/main/20220513_10_dict.ipynb\" target=\"_parent\"><img src=\"https://colab.research.google.com/assets/colab-badge.svg\" alt=\"Open In Colab\"/></a>"
      ]
    },
    {
      "cell_type": "markdown",
      "source": [
        "# dict"
      ],
      "metadata": {
        "id": "DhEljw-m_Rw3"
      }
    },
    {
      "cell_type": "markdown",
      "source": [
        "## dict:\n",
        "* 사전(dictionary) 형식의 데이터 타입.\n",
        "* 키(key)를 기반으로 값(value)을 저장하는 데이터 타입.\n",
        "    * list, tuple : 인덱스(index)를 기반으로 값들을 저장하는 데이터 타입.\n",
        "    * dict 타입에서의 key의 역할은 list나 tuple에서의 인덱스와 마찬가지로 dict에 저장되어 있는 유일한 1개의 값을 참조하기 위한 용도.\n",
        "        * dict에서 key는 중복된 값을 허용하지 않음.\n"
      ],
      "metadata": {
        "id": "aozDmE58_UXp"
      }
    },
    {
      "cell_type": "code",
      "execution_count": null,
      "metadata": {
        "colab": {
          "base_uri": "https://localhost:8080/"
        },
        "id": "bFuQlRxg_Mxz",
        "outputId": "4e3aad37-5a37-4cbb-8fc5-ea1ba5d1ad7a"
      },
      "outputs": [
        {
          "output_type": "stream",
          "name": "stdout",
          "text": [
            "{100: '홍길동', 101: '오쌤', 200: 'Scott'}\n",
            "<class 'dict'>\n"
          ]
        }
      ],
      "source": [
        "students = {100 : '홍길동', 101 : '오쌤', 200 : 'Scott'}\n",
        "print(students)\n",
        "print(type(students)) # <class 'dict'>"
      ]
    },
    {
      "cell_type": "code",
      "source": [
        "print(students.values()) # dict_values(['홍길동', '오쌤', 'Scott'])\n",
        "print(students.items()) # dict_items([(100, '홍길동'), (101, '오쌤'), (200, 'Scott')])\n",
        "print(students.get(100)) # dict.get(key) : dict가 가지고 있는 key의 value 출력. / 홍길동"
      ],
      "metadata": {
        "colab": {
          "base_uri": "https://localhost:8080/"
        },
        "id": "7xQS65ftIHOx",
        "outputId": "3f91e069-4a15-4785-f896-43425b656547"
      },
      "execution_count": null,
      "outputs": [
        {
          "output_type": "stream",
          "name": "stdout",
          "text": [
            "dict_values(['홍길동', '오쌤', 'Scott'])\n",
            "dict_items([(100, '홍길동'), (101, '오쌤'), (200, 'Scott')])\n",
            "홍길동\n"
          ]
        }
      ]
    },
    {
      "cell_type": "markdown",
      "source": [
        "## dict의 아이템 추가/변경/삭제"
      ],
      "metadata": {
        "id": "DGk8avl8IkIQ"
      }
    },
    {
      "cell_type": "code",
      "source": [
        "students # 코드 셀에서 가장 마지막 라인이 식(또는 변수)이면 그 값이 콘솔창에 자동으로 출력됨."
      ],
      "metadata": {
        "colab": {
          "base_uri": "https://localhost:8080/"
        },
        "id": "S2h9R_mSIiod",
        "outputId": "9b08d5a3-996e-48a4-ae01-8138c95f14f2"
      },
      "execution_count": null,
      "outputs": [
        {
          "output_type": "execute_result",
          "data": {
            "text/plain": [
              "{100: '홍길동', 101: '오쌤', 200: 'Scott'}"
            ]
          },
          "metadata": {},
          "execution_count": 7
        }
      ]
    },
    {
      "cell_type": "code",
      "source": [
        "# dict[new_key] = new_value : 키에 해당하는 값 추가.\n",
        "students[300] = '홍길동'\n",
        "print(students) # {100: '홍길동', 101: '오쌤', 200: 'Scott', 300: '홍길동'}"
      ],
      "metadata": {
        "colab": {
          "base_uri": "https://localhost:8080/"
        },
        "id": "Ucn6dHSQJMc1",
        "outputId": "8196eb60-51ce-4650-ee28-66cd0914cd13"
      },
      "execution_count": null,
      "outputs": [
        {
          "output_type": "stream",
          "name": "stdout",
          "text": [
            "{100: '홍길동', 101: '오쌤', 200: 'Scott', 300: '홍길동'}\n"
          ]
        }
      ]
    },
    {
      "cell_type": "code",
      "source": [
        "# dict[key] = new_value : 기존 키의 값을 새로운 값으로 변경.\n",
        "students[100] = '김길동'\n",
        "print(students) # {100: '김길동', 101: '오쌤', 200: 'Scott', 300: '홍길동'}"
      ],
      "metadata": {
        "colab": {
          "base_uri": "https://localhost:8080/"
        },
        "id": "s1aCKkVGJwwc",
        "outputId": "2c003f45-a170-44bc-aa90-f135d1fe37ba"
      },
      "execution_count": null,
      "outputs": [
        {
          "output_type": "stream",
          "name": "stdout",
          "text": [
            "{100: '김길동', 101: '오쌤', 200: 'Scott', 300: '홍길동'}\n"
          ]
        }
      ]
    },
    {
      "cell_type": "code",
      "source": [
        "students.pop(101)\n",
        "students # {100: '김길동', 200: 'Scott', 300: '홍길동'}"
      ],
      "metadata": {
        "colab": {
          "base_uri": "https://localhost:8080/"
        },
        "id": "t6DQlLf4KMM5",
        "outputId": "e67d1305-3bd6-45ef-bedf-a5103b37096d"
      },
      "execution_count": null,
      "outputs": [
        {
          "output_type": "execute_result",
          "data": {
            "text/plain": [
              "{100: '김길동', 200: 'Scott', 300: '홍길동'}"
            ]
          },
          "metadata": {},
          "execution_count": 11
        }
      ]
    },
    {
      "cell_type": "markdown",
      "source": [
        "## dict와 for 반복문"
      ],
      "metadata": {
        "id": "Ej27Q_bKLHRH"
      }
    },
    {
      "cell_type": "code",
      "source": [
        "book = {'title' : '파이썬 라이브러리 데이터 분석',\n",
        "        'author' : '웨스 매키니', \n",
        "        'price' : 35_000}\n",
        "book"
      ],
      "metadata": {
        "colab": {
          "base_uri": "https://localhost:8080/"
        },
        "id": "SGhOFTIXLJCE",
        "outputId": "1f266fb0-38b4-4313-ccc6-eae48cff4c74"
      },
      "execution_count": null,
      "outputs": [
        {
          "output_type": "execute_result",
          "data": {
            "text/plain": [
              "{'author': '웨스 매키니', 'price': 35000, 'title': '파이썬 라이브러리 데이터 분석'}"
            ]
          },
          "metadata": {},
          "execution_count": 12
        }
      ]
    },
    {
      "cell_type": "code",
      "source": [
        "for k in book:\n",
        "    print(k)\n",
        "# for-in 구문에서 dict를 사용하면 key에 대해서 iteration(순회, 반복) 수행"
      ],
      "metadata": {
        "colab": {
          "base_uri": "https://localhost:8080/"
        },
        "id": "MhErZLseM96w",
        "outputId": "1534887b-6e7d-4a6c-bbc2-99aff999b714"
      },
      "execution_count": null,
      "outputs": [
        {
          "output_type": "stream",
          "name": "stdout",
          "text": [
            "title\n",
            "author\n",
            "price\n"
          ]
        }
      ]
    },
    {
      "cell_type": "code",
      "source": [
        "# for-in 구문으로 dict의 key와 value를 모두 출력\n",
        "for k in book:\n",
        "    print(k, ':', book[k])"
      ],
      "metadata": {
        "colab": {
          "base_uri": "https://localhost:8080/"
        },
        "id": "FZ_zAMmyNmPY",
        "outputId": "beada0fe-7e38-4576-f258-7ffb27b018e4"
      },
      "execution_count": null,
      "outputs": [
        {
          "output_type": "stream",
          "name": "stdout",
          "text": [
            "title : 파이썬 라이브러리 데이터 분석\n",
            "author : 웨스 매키니\n",
            "price : 35000\n"
          ]
        }
      ]
    },
    {
      "cell_type": "code",
      "source": [
        "for x in book.items():\n",
        "    print(x)"
      ],
      "metadata": {
        "colab": {
          "base_uri": "https://localhost:8080/"
        },
        "id": "7iMmWnGUOjyW",
        "outputId": "a85b82cf-31c2-480d-8380-81ed725d4042"
      },
      "execution_count": null,
      "outputs": [
        {
          "output_type": "stream",
          "name": "stdout",
          "text": [
            "('title', '파이썬 라이브러리 데이터 분석')\n",
            "('author', '웨스 매키니')\n",
            "('price', 35000)\n"
          ]
        }
      ]
    },
    {
      "cell_type": "code",
      "source": [
        "for k, v in book.items():\n",
        "    print(k, ':', v)"
      ],
      "metadata": {
        "colab": {
          "base_uri": "https://localhost:8080/"
        },
        "id": "nUFyKxHeO_Aj",
        "outputId": "9f3e9ba2-5d80-4518-d670-ee6ca18b7efa"
      },
      "execution_count": null,
      "outputs": [
        {
          "output_type": "stream",
          "name": "stdout",
          "text": [
            "title : 파이썬 라이브러리 데이터 분석\n",
            "author : 웨스 매키니\n",
            "price : 35000\n"
          ]
        }
      ]
    },
    {
      "cell_type": "markdown",
      "source": [
        "## 다양한 dict"
      ],
      "metadata": {
        "id": "8994IOUOSlJD"
      }
    },
    {
      "cell_type": "code",
      "source": [
        "contact = {'name' : '오쌤',\n",
        "           'phone' : ['010-1111-2222', '02-1234-5678'],\n",
        "           'group' : 1,\n",
        "           'email' : {'company' : 'jake@itwill.co.kr', 'personal':'jake@gmail.com'}}\n",
        "contact"
      ],
      "metadata": {
        "colab": {
          "base_uri": "https://localhost:8080/"
        },
        "id": "WgYziyLiSmpA",
        "outputId": "c76576c6-f293-4229-cadf-c1a5175e4fea"
      },
      "execution_count": null,
      "outputs": [
        {
          "output_type": "execute_result",
          "data": {
            "text/plain": [
              "{'email': {'company': 'jake@itwill.co.kr', 'personal': 'jake@gmail.com'},\n",
              " 'group': 1,\n",
              " 'name': '오쌤',\n",
              " 'phone': ['010-1111-2222', '02-1234-5678']}"
            ]
          },
          "metadata": {},
          "execution_count": 29
        }
      ]
    },
    {
      "cell_type": "code",
      "source": [
        "# contact에서 이름 출력\n",
        "contact['name'] # '오쌤'"
      ],
      "metadata": {
        "colab": {
          "base_uri": "https://localhost:8080/",
          "height": 35
        },
        "id": "CYCTtB09Um3D",
        "outputId": "f8c57d7d-793e-452f-fc6f-642d95bb0089"
      },
      "execution_count": null,
      "outputs": [
        {
          "output_type": "execute_result",
          "data": {
            "text/plain": [
              "'오쌤'"
            ],
            "application/vnd.google.colaboratory.intrinsic+json": {
              "type": "string"
            }
          },
          "metadata": {},
          "execution_count": 30
        }
      ]
    },
    {
      "cell_type": "code",
      "source": [
        "# contact에서 전화번호 출력\n",
        "print(contact['phone']) # ['010-1111-2222', '02-1234-5678']\n",
        "print(contact['phone'][0]) # 010-1111-2222"
      ],
      "metadata": {
        "colab": {
          "base_uri": "https://localhost:8080/"
        },
        "id": "EsSuWWpQUtr4",
        "outputId": "08eb09fd-1915-4409-9755-7720793452aa"
      },
      "execution_count": null,
      "outputs": [
        {
          "output_type": "stream",
          "name": "stdout",
          "text": [
            "['010-1111-2222', '02-1234-5678']\n",
            "010-1111-2222\n"
          ]
        }
      ]
    },
    {
      "cell_type": "code",
      "source": [
        "# contact에서 이메일 출력\n",
        "print(contact['email']) # {'company': 'jake@itwill.co.kr', 'personal': 'jake@gmail.com'}\n",
        "print(contact['email']['company']) # jake@itwill.co.kr"
      ],
      "metadata": {
        "colab": {
          "base_uri": "https://localhost:8080/"
        },
        "id": "7xt_-HisVhjO",
        "outputId": "007559b7-dc2c-4699-ecd3-dcdf758e28cb"
      },
      "execution_count": null,
      "outputs": [
        {
          "output_type": "stream",
          "name": "stdout",
          "text": [
            "{'company': 'jake@itwill.co.kr', 'personal': 'jake@gmail.com'}\n",
            "jake@itwill.co.kr\n"
          ]
        }
      ]
    },
    {
      "cell_type": "code",
      "source": [
        "employees = {\n",
        "    'emp_no' : [101, 102, 103, 105],\n",
        "    'emp_name' : ['Scott', 'David', 'Adam', 'Brown'],\n",
        "    'sal' : [100, 200, 150, 500],\n",
        "    'dept_no' : [10, 10, 20, 30]\n",
        "}\n",
        "employees"
      ],
      "metadata": {
        "colab": {
          "base_uri": "https://localhost:8080/"
        },
        "id": "7yoVSVt9XCNf",
        "outputId": "0f958787-2513-4870-be91-6fe151d7b2ca"
      },
      "execution_count": null,
      "outputs": [
        {
          "output_type": "execute_result",
          "data": {
            "text/plain": [
              "{'dept_no': [10, 10, 20, 30],\n",
              " 'emp_name': ['Scott', 'David', 'Adam', 'Brown'],\n",
              " 'emp_no': [101, 102, 103, 105],\n",
              " 'sal': [100, 200, 150, 500]}"
            ]
          },
          "metadata": {},
          "execution_count": 37
        }
      ]
    },
    {
      "cell_type": "code",
      "source": [
        "# 직원들의 이름만 출력 : select emp_name from employees;\n",
        "employees['emp_name'] # ['Scott', 'David', 'Adam', 'Brown']"
      ],
      "metadata": {
        "colab": {
          "base_uri": "https://localhost:8080/"
        },
        "id": "AW03bq2TXz7P",
        "outputId": "25162538-3542-403d-c486-db8ef9943a6e"
      },
      "execution_count": null,
      "outputs": [
        {
          "output_type": "execute_result",
          "data": {
            "text/plain": [
              "['Scott', 'David', 'Adam', 'Brown']"
            ]
          },
          "metadata": {},
          "execution_count": 38
        }
      ]
    },
    {
      "cell_type": "markdown",
      "source": [
        "## dictionary comprehension"
      ],
      "metadata": {
        "id": "RPcPSuZ1YkQq"
      }
    },
    {
      "cell_type": "code",
      "source": [
        "stu_no = [101, 201, 302] # 학번들의 리스트\n",
        "stu_name = ['홍길동', '허균', '오쌤'] # 학생 이름들의 리스트\n",
        "# 학번을 key로, 이름을 value로 하는 dict를 만듦.\n",
        "students = {} # \"학번: 이름\"을 아이템으로 저장할 빈 dict 생성.\n",
        "for k, v in zip(stu_no, stu_name):\n",
        "    students[k] = v\n",
        "print(students) # {101: '홍길동', 201: '허균', 302: '오쌤'}"
      ],
      "metadata": {
        "colab": {
          "base_uri": "https://localhost:8080/"
        },
        "id": "c8R1USPpYnPh",
        "outputId": "f0076b63-2298-4c22-e5c7-f17808d6b913"
      },
      "execution_count": null,
      "outputs": [
        {
          "output_type": "stream",
          "name": "stdout",
          "text": [
            "{101: '홍길동', 201: '허균', 302: '오쌤'}\n"
          ]
        }
      ]
    },
    {
      "cell_type": "code",
      "source": [
        "# dict_name = {key: value for x in ...}\n",
        "students2 = {k:v for k,v in zip(stu_no, stu_name)}\n",
        "students2 # {101: '홍길동', 201: '허균', 302: '오쌤'}"
      ],
      "metadata": {
        "colab": {
          "base_uri": "https://localhost:8080/"
        },
        "id": "nYkzfzBSbMXw",
        "outputId": "962ecc42-c30b-4250-f7c2-865d8f49ad0d"
      },
      "execution_count": null,
      "outputs": [
        {
          "output_type": "execute_result",
          "data": {
            "text/plain": [
              "{101: '홍길동', 201: '허균', 302: '오쌤'}"
            ]
          },
          "metadata": {},
          "execution_count": 42
        }
      ]
    },
    {
      "cell_type": "code",
      "source": [
        "fruits = ['apple', 'banana', 'cherry', 'pineapple', 'watermelon', '딸기']\n",
        "# 과일의 이름을 key, 이름의 길이를 value로 하는 dict 생성\n",
        "fruits_lengths = {}\n",
        "for x in fruits:\n",
        "    fruits_lengths[x] = len(x)\n",
        "print(fruits_lengths)"
      ],
      "metadata": {
        "colab": {
          "base_uri": "https://localhost:8080/"
        },
        "id": "a6b2IjxWbnJv",
        "outputId": "a227cbe8-7b74-48b3-94bc-06e86a306fa1"
      },
      "execution_count": null,
      "outputs": [
        {
          "output_type": "stream",
          "name": "stdout",
          "text": [
            "{'apple': 5, 'banana': 6, 'cherry': 6, 'pineapple': 9, 'watermelon': 10, '딸기': 2}\n"
          ]
        }
      ]
    },
    {
      "cell_type": "code",
      "source": [
        "fruits_lengths2 = {x: len(x) for x in fruits}\n",
        "print(fruits_lengths2)"
      ],
      "metadata": {
        "colab": {
          "base_uri": "https://localhost:8080/"
        },
        "id": "wm0sua0Qs4L8",
        "outputId": "c758c3aa-5c47-44e4-b99f-29a6a68de629"
      },
      "execution_count": null,
      "outputs": [
        {
          "output_type": "stream",
          "name": "stdout",
          "text": [
            "{'apple': 5, 'banana': 6, 'cherry': 6, 'pineapple': 9, 'watermelon': 10, '딸기': 2}\n"
          ]
        }
      ]
    }
  ]
}