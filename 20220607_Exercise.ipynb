{
  "nbformat": 4,
  "nbformat_minor": 0,
  "metadata": {
    "colab": {
      "name": "20220607_Exercise.ipynb",
      "provenance": [],
      "collapsed_sections": [],
      "toc_visible": true,
      "authorship_tag": "ABX9TyNJZj/03YiE0JH8u1sSk5QL",
      "include_colab_link": true
    },
    "kernelspec": {
      "name": "python3",
      "display_name": "Python 3"
    },
    "language_info": {
      "name": "python"
    }
  },
  "cells": [
    {
      "cell_type": "markdown",
      "metadata": {
        "id": "view-in-github",
        "colab_type": "text"
      },
      "source": [
        "<a href=\"https://colab.research.google.com/github/zaegeon/Python/blob/main/20220607_Exercise.ipynb\" target=\"_parent\"><img src=\"https://colab.research.google.com/assets/colab-badge.svg\" alt=\"Open In Colab\"/></a>"
      ]
    },
    {
      "cell_type": "markdown",
      "source": [
        "Exercises"
      ],
      "metadata": {
        "id": "o7xWGFMNP0Pc"
      }
    },
    {
      "cell_type": "markdown",
      "source": [
        "*  https://github.com/JakeOh/202205_itw_bd34/raw/main/datasets/banklist.csv 파일을 읽고 데이터 프레임 생성\n",
        "*  날짜시간(datetime) 타입으로 변환할 수 있는 모든 컬럼들을의 데이터 타입을 변환.\n",
        "*  연도별 파산한 은행 숫자를 찾고, 시각화\n",
        "*  분기별 파산한 은행 숫자를 찾고, 시각화\n",
        "    *  주기별 통계는 Closing Date를 기준으로."
      ],
      "metadata": {
        "id": "diAZRPE4P5QA"
      }
    },
    {
      "cell_type": "markdown",
      "source": [
        "# Imports"
      ],
      "metadata": {
        "id": "sAV3fNgRYccC"
      }
    },
    {
      "cell_type": "code",
      "source": [
        "import numpy as np\n",
        "import pandas as pd\n",
        "import matplotlib.pyplot as plt\n",
        "import seaborn as sns"
      ],
      "metadata": {
        "id": "Nca4cPO9Yd6s"
      },
      "execution_count": null,
      "outputs": []
    },
    {
      "cell_type": "code",
      "execution_count": null,
      "metadata": {
        "colab": {
          "base_uri": "https://localhost:8080/",
          "height": 424
        },
        "id": "Swj0QXU4PmmZ",
        "outputId": "1423e69a-1603-42f9-ed45-a67b4f1f423d"
      },
      "outputs": [
        {
          "output_type": "execute_result",
          "data": {
            "text/plain": [
              "                                             Bank Name         City  ST  \\\n",
              "0                  Washington Federal Bank for Savings      Chicago  IL   \n",
              "1      The Farmers and Merchants State Bank of Argonia      Argonia  KS   \n",
              "2                                  Fayette County Bank   Saint Elmo  IL   \n",
              "3    Guaranty Bank, (d/b/a BestBank in Georgia & Mi...    Milwaukee  WI   \n",
              "4                                       First NBC Bank  New Orleans  LA   \n",
              "..                                                 ...          ...  ..   \n",
              "550                                 Superior Bank, FSB     Hinsdale  IL   \n",
              "551                                Malta National Bank        Malta  OH   \n",
              "552                    First Alliance Bank & Trust Co.   Manchester  NH   \n",
              "553                  National State Bank of Metropolis   Metropolis  IL   \n",
              "554                                   Bank of Honolulu     Honolulu  HI   \n",
              "\n",
              "      CERT                Acquiring Institution Closing Date Updated Date  \n",
              "0    30570                   Royal Savings Bank   2017-12-15   2017-12-20  \n",
              "1    17719                          Conway Bank   2017-10-13   2017-10-20  \n",
              "2     1802            United Fidelity Bank, fsb   2017-05-26   2017-07-26  \n",
              "3    30003  First-Citizens Bank & Trust Company   2017-05-05   2017-07-26  \n",
              "4    58302                         Whitney Bank   2017-04-28   2017-12-05  \n",
              "..     ...                                  ...          ...          ...  \n",
              "550  32646                Superior Federal, FSB   2001-07-27   2014-08-19  \n",
              "551   6629                    North Valley Bank   2001-05-03   2002-11-18  \n",
              "552  34264  Southern New Hampshire Bank & Trust   2001-02-02   2003-02-18  \n",
              "553   3815              Banterra Bank of Marion   2000-12-14   2005-03-17  \n",
              "554  21029                   Bank of the Orient   2000-10-13   2005-03-17  \n",
              "\n",
              "[555 rows x 7 columns]"
            ],
            "text/html": [
              "\n",
              "  <div id=\"df-6b5eafa3-8daf-4d10-8cc5-5e9e0f745612\">\n",
              "    <div class=\"colab-df-container\">\n",
              "      <div>\n",
              "<style scoped>\n",
              "    .dataframe tbody tr th:only-of-type {\n",
              "        vertical-align: middle;\n",
              "    }\n",
              "\n",
              "    .dataframe tbody tr th {\n",
              "        vertical-align: top;\n",
              "    }\n",
              "\n",
              "    .dataframe thead th {\n",
              "        text-align: right;\n",
              "    }\n",
              "</style>\n",
              "<table border=\"1\" class=\"dataframe\">\n",
              "  <thead>\n",
              "    <tr style=\"text-align: right;\">\n",
              "      <th></th>\n",
              "      <th>Bank Name</th>\n",
              "      <th>City</th>\n",
              "      <th>ST</th>\n",
              "      <th>CERT</th>\n",
              "      <th>Acquiring Institution</th>\n",
              "      <th>Closing Date</th>\n",
              "      <th>Updated Date</th>\n",
              "    </tr>\n",
              "  </thead>\n",
              "  <tbody>\n",
              "    <tr>\n",
              "      <th>0</th>\n",
              "      <td>Washington Federal Bank for Savings</td>\n",
              "      <td>Chicago</td>\n",
              "      <td>IL</td>\n",
              "      <td>30570</td>\n",
              "      <td>Royal Savings Bank</td>\n",
              "      <td>2017-12-15</td>\n",
              "      <td>2017-12-20</td>\n",
              "    </tr>\n",
              "    <tr>\n",
              "      <th>1</th>\n",
              "      <td>The Farmers and Merchants State Bank of Argonia</td>\n",
              "      <td>Argonia</td>\n",
              "      <td>KS</td>\n",
              "      <td>17719</td>\n",
              "      <td>Conway Bank</td>\n",
              "      <td>2017-10-13</td>\n",
              "      <td>2017-10-20</td>\n",
              "    </tr>\n",
              "    <tr>\n",
              "      <th>2</th>\n",
              "      <td>Fayette County Bank</td>\n",
              "      <td>Saint Elmo</td>\n",
              "      <td>IL</td>\n",
              "      <td>1802</td>\n",
              "      <td>United Fidelity Bank, fsb</td>\n",
              "      <td>2017-05-26</td>\n",
              "      <td>2017-07-26</td>\n",
              "    </tr>\n",
              "    <tr>\n",
              "      <th>3</th>\n",
              "      <td>Guaranty Bank, (d/b/a BestBank in Georgia &amp; Mi...</td>\n",
              "      <td>Milwaukee</td>\n",
              "      <td>WI</td>\n",
              "      <td>30003</td>\n",
              "      <td>First-Citizens Bank &amp; Trust Company</td>\n",
              "      <td>2017-05-05</td>\n",
              "      <td>2017-07-26</td>\n",
              "    </tr>\n",
              "    <tr>\n",
              "      <th>4</th>\n",
              "      <td>First NBC Bank</td>\n",
              "      <td>New Orleans</td>\n",
              "      <td>LA</td>\n",
              "      <td>58302</td>\n",
              "      <td>Whitney Bank</td>\n",
              "      <td>2017-04-28</td>\n",
              "      <td>2017-12-05</td>\n",
              "    </tr>\n",
              "    <tr>\n",
              "      <th>...</th>\n",
              "      <td>...</td>\n",
              "      <td>...</td>\n",
              "      <td>...</td>\n",
              "      <td>...</td>\n",
              "      <td>...</td>\n",
              "      <td>...</td>\n",
              "      <td>...</td>\n",
              "    </tr>\n",
              "    <tr>\n",
              "      <th>550</th>\n",
              "      <td>Superior Bank, FSB</td>\n",
              "      <td>Hinsdale</td>\n",
              "      <td>IL</td>\n",
              "      <td>32646</td>\n",
              "      <td>Superior Federal, FSB</td>\n",
              "      <td>2001-07-27</td>\n",
              "      <td>2014-08-19</td>\n",
              "    </tr>\n",
              "    <tr>\n",
              "      <th>551</th>\n",
              "      <td>Malta National Bank</td>\n",
              "      <td>Malta</td>\n",
              "      <td>OH</td>\n",
              "      <td>6629</td>\n",
              "      <td>North Valley Bank</td>\n",
              "      <td>2001-05-03</td>\n",
              "      <td>2002-11-18</td>\n",
              "    </tr>\n",
              "    <tr>\n",
              "      <th>552</th>\n",
              "      <td>First Alliance Bank &amp; Trust Co.</td>\n",
              "      <td>Manchester</td>\n",
              "      <td>NH</td>\n",
              "      <td>34264</td>\n",
              "      <td>Southern New Hampshire Bank &amp; Trust</td>\n",
              "      <td>2001-02-02</td>\n",
              "      <td>2003-02-18</td>\n",
              "    </tr>\n",
              "    <tr>\n",
              "      <th>553</th>\n",
              "      <td>National State Bank of Metropolis</td>\n",
              "      <td>Metropolis</td>\n",
              "      <td>IL</td>\n",
              "      <td>3815</td>\n",
              "      <td>Banterra Bank of Marion</td>\n",
              "      <td>2000-12-14</td>\n",
              "      <td>2005-03-17</td>\n",
              "    </tr>\n",
              "    <tr>\n",
              "      <th>554</th>\n",
              "      <td>Bank of Honolulu</td>\n",
              "      <td>Honolulu</td>\n",
              "      <td>HI</td>\n",
              "      <td>21029</td>\n",
              "      <td>Bank of the Orient</td>\n",
              "      <td>2000-10-13</td>\n",
              "      <td>2005-03-17</td>\n",
              "    </tr>\n",
              "  </tbody>\n",
              "</table>\n",
              "<p>555 rows × 7 columns</p>\n",
              "</div>\n",
              "      <button class=\"colab-df-convert\" onclick=\"convertToInteractive('df-6b5eafa3-8daf-4d10-8cc5-5e9e0f745612')\"\n",
              "              title=\"Convert this dataframe to an interactive table.\"\n",
              "              style=\"display:none;\">\n",
              "        \n",
              "  <svg xmlns=\"http://www.w3.org/2000/svg\" height=\"24px\"viewBox=\"0 0 24 24\"\n",
              "       width=\"24px\">\n",
              "    <path d=\"M0 0h24v24H0V0z\" fill=\"none\"/>\n",
              "    <path d=\"M18.56 5.44l.94 2.06.94-2.06 2.06-.94-2.06-.94-.94-2.06-.94 2.06-2.06.94zm-11 1L8.5 8.5l.94-2.06 2.06-.94-2.06-.94L8.5 2.5l-.94 2.06-2.06.94zm10 10l.94 2.06.94-2.06 2.06-.94-2.06-.94-.94-2.06-.94 2.06-2.06.94z\"/><path d=\"M17.41 7.96l-1.37-1.37c-.4-.4-.92-.59-1.43-.59-.52 0-1.04.2-1.43.59L10.3 9.45l-7.72 7.72c-.78.78-.78 2.05 0 2.83L4 21.41c.39.39.9.59 1.41.59.51 0 1.02-.2 1.41-.59l7.78-7.78 2.81-2.81c.8-.78.8-2.07 0-2.86zM5.41 20L4 18.59l7.72-7.72 1.47 1.35L5.41 20z\"/>\n",
              "  </svg>\n",
              "      </button>\n",
              "      \n",
              "  <style>\n",
              "    .colab-df-container {\n",
              "      display:flex;\n",
              "      flex-wrap:wrap;\n",
              "      gap: 12px;\n",
              "    }\n",
              "\n",
              "    .colab-df-convert {\n",
              "      background-color: #E8F0FE;\n",
              "      border: none;\n",
              "      border-radius: 50%;\n",
              "      cursor: pointer;\n",
              "      display: none;\n",
              "      fill: #1967D2;\n",
              "      height: 32px;\n",
              "      padding: 0 0 0 0;\n",
              "      width: 32px;\n",
              "    }\n",
              "\n",
              "    .colab-df-convert:hover {\n",
              "      background-color: #E2EBFA;\n",
              "      box-shadow: 0px 1px 2px rgba(60, 64, 67, 0.3), 0px 1px 3px 1px rgba(60, 64, 67, 0.15);\n",
              "      fill: #174EA6;\n",
              "    }\n",
              "\n",
              "    [theme=dark] .colab-df-convert {\n",
              "      background-color: #3B4455;\n",
              "      fill: #D2E3FC;\n",
              "    }\n",
              "\n",
              "    [theme=dark] .colab-df-convert:hover {\n",
              "      background-color: #434B5C;\n",
              "      box-shadow: 0px 1px 3px 1px rgba(0, 0, 0, 0.15);\n",
              "      filter: drop-shadow(0px 1px 2px rgba(0, 0, 0, 0.3));\n",
              "      fill: #FFFFFF;\n",
              "    }\n",
              "  </style>\n",
              "\n",
              "      <script>\n",
              "        const buttonEl =\n",
              "          document.querySelector('#df-6b5eafa3-8daf-4d10-8cc5-5e9e0f745612 button.colab-df-convert');\n",
              "        buttonEl.style.display =\n",
              "          google.colab.kernel.accessAllowed ? 'block' : 'none';\n",
              "\n",
              "        async function convertToInteractive(key) {\n",
              "          const element = document.querySelector('#df-6b5eafa3-8daf-4d10-8cc5-5e9e0f745612');\n",
              "          const dataTable =\n",
              "            await google.colab.kernel.invokeFunction('convertToInteractive',\n",
              "                                                     [key], {});\n",
              "          if (!dataTable) return;\n",
              "\n",
              "          const docLinkHtml = 'Like what you see? Visit the ' +\n",
              "            '<a target=\"_blank\" href=https://colab.research.google.com/notebooks/data_table.ipynb>data table notebook</a>'\n",
              "            + ' to learn more about interactive tables.';\n",
              "          element.innerHTML = '';\n",
              "          dataTable['output_type'] = 'display_data';\n",
              "          await google.colab.output.renderOutput(dataTable, element);\n",
              "          const docLink = document.createElement('div');\n",
              "          docLink.innerHTML = docLinkHtml;\n",
              "          element.appendChild(docLink);\n",
              "        }\n",
              "      </script>\n",
              "    </div>\n",
              "  </div>\n",
              "  "
            ]
          },
          "metadata": {},
          "execution_count": 2
        }
      ],
      "source": [
        "banklist_csv = 'https://github.com/JakeOh/202205_itw_bd34/raw/main/datasets/banklist.csv'\n",
        "banklist = pd.read_csv(banklist_csv, parse_dates=['Closing Date', 'Updated Date'])\n",
        "banklist"
      ]
    },
    {
      "cell_type": "code",
      "source": [
        "banklist.info()"
      ],
      "metadata": {
        "colab": {
          "base_uri": "https://localhost:8080/"
        },
        "id": "5vI9MUvlY72J",
        "outputId": "86a19218-6ba3-457e-be90-71ee08428964"
      },
      "execution_count": null,
      "outputs": [
        {
          "output_type": "stream",
          "name": "stdout",
          "text": [
            "<class 'pandas.core.frame.DataFrame'>\n",
            "RangeIndex: 555 entries, 0 to 554\n",
            "Data columns (total 7 columns):\n",
            " #   Column                 Non-Null Count  Dtype         \n",
            "---  ------                 --------------  -----         \n",
            " 0   Bank Name              555 non-null    object        \n",
            " 1   City                   555 non-null    object        \n",
            " 2   ST                     555 non-null    object        \n",
            " 3   CERT                   555 non-null    int64         \n",
            " 4   Acquiring Institution  555 non-null    object        \n",
            " 5   Closing Date           555 non-null    datetime64[ns]\n",
            " 6   Updated Date           555 non-null    datetime64[ns]\n",
            "dtypes: datetime64[ns](2), int64(1), object(4)\n",
            "memory usage: 30.5+ KB\n"
          ]
        }
      ]
    },
    {
      "cell_type": "code",
      "source": [
        "# 'Closing Date' 컬럼을 인덱스로 변환\n",
        "banklist_with_index = banklist.set_index('Closing Date')\n",
        "banklist_with_index"
      ],
      "metadata": {
        "colab": {
          "base_uri": "https://localhost:8080/",
          "height": 455
        },
        "id": "b0NwkPwyZBfg",
        "outputId": "c1f7f239-321e-4961-804c-a0a60545386f"
      },
      "execution_count": null,
      "outputs": [
        {
          "output_type": "execute_result",
          "data": {
            "text/plain": [
              "                                                      Bank Name         City  \\\n",
              "Closing Date                                                                   \n",
              "2017-12-15                  Washington Federal Bank for Savings      Chicago   \n",
              "2017-10-13      The Farmers and Merchants State Bank of Argonia      Argonia   \n",
              "2017-05-26                                  Fayette County Bank   Saint Elmo   \n",
              "2017-05-05    Guaranty Bank, (d/b/a BestBank in Georgia & Mi...    Milwaukee   \n",
              "2017-04-28                                       First NBC Bank  New Orleans   \n",
              "...                                                         ...          ...   \n",
              "2001-07-27                                   Superior Bank, FSB     Hinsdale   \n",
              "2001-05-03                                  Malta National Bank        Malta   \n",
              "2001-02-02                      First Alliance Bank & Trust Co.   Manchester   \n",
              "2000-12-14                    National State Bank of Metropolis   Metropolis   \n",
              "2000-10-13                                     Bank of Honolulu     Honolulu   \n",
              "\n",
              "              ST   CERT                Acquiring Institution Updated Date  \n",
              "Closing Date                                                               \n",
              "2017-12-15    IL  30570                   Royal Savings Bank   2017-12-20  \n",
              "2017-10-13    KS  17719                          Conway Bank   2017-10-20  \n",
              "2017-05-26    IL   1802            United Fidelity Bank, fsb   2017-07-26  \n",
              "2017-05-05    WI  30003  First-Citizens Bank & Trust Company   2017-07-26  \n",
              "2017-04-28    LA  58302                         Whitney Bank   2017-12-05  \n",
              "...           ..    ...                                  ...          ...  \n",
              "2001-07-27    IL  32646                Superior Federal, FSB   2014-08-19  \n",
              "2001-05-03    OH   6629                    North Valley Bank   2002-11-18  \n",
              "2001-02-02    NH  34264  Southern New Hampshire Bank & Trust   2003-02-18  \n",
              "2000-12-14    IL   3815              Banterra Bank of Marion   2005-03-17  \n",
              "2000-10-13    HI  21029                   Bank of the Orient   2005-03-17  \n",
              "\n",
              "[555 rows x 6 columns]"
            ],
            "text/html": [
              "\n",
              "  <div id=\"df-a0cf94a1-208c-4375-8b92-02020cbec5c1\">\n",
              "    <div class=\"colab-df-container\">\n",
              "      <div>\n",
              "<style scoped>\n",
              "    .dataframe tbody tr th:only-of-type {\n",
              "        vertical-align: middle;\n",
              "    }\n",
              "\n",
              "    .dataframe tbody tr th {\n",
              "        vertical-align: top;\n",
              "    }\n",
              "\n",
              "    .dataframe thead th {\n",
              "        text-align: right;\n",
              "    }\n",
              "</style>\n",
              "<table border=\"1\" class=\"dataframe\">\n",
              "  <thead>\n",
              "    <tr style=\"text-align: right;\">\n",
              "      <th></th>\n",
              "      <th>Bank Name</th>\n",
              "      <th>City</th>\n",
              "      <th>ST</th>\n",
              "      <th>CERT</th>\n",
              "      <th>Acquiring Institution</th>\n",
              "      <th>Updated Date</th>\n",
              "    </tr>\n",
              "    <tr>\n",
              "      <th>Closing Date</th>\n",
              "      <th></th>\n",
              "      <th></th>\n",
              "      <th></th>\n",
              "      <th></th>\n",
              "      <th></th>\n",
              "      <th></th>\n",
              "    </tr>\n",
              "  </thead>\n",
              "  <tbody>\n",
              "    <tr>\n",
              "      <th>2017-12-15</th>\n",
              "      <td>Washington Federal Bank for Savings</td>\n",
              "      <td>Chicago</td>\n",
              "      <td>IL</td>\n",
              "      <td>30570</td>\n",
              "      <td>Royal Savings Bank</td>\n",
              "      <td>2017-12-20</td>\n",
              "    </tr>\n",
              "    <tr>\n",
              "      <th>2017-10-13</th>\n",
              "      <td>The Farmers and Merchants State Bank of Argonia</td>\n",
              "      <td>Argonia</td>\n",
              "      <td>KS</td>\n",
              "      <td>17719</td>\n",
              "      <td>Conway Bank</td>\n",
              "      <td>2017-10-20</td>\n",
              "    </tr>\n",
              "    <tr>\n",
              "      <th>2017-05-26</th>\n",
              "      <td>Fayette County Bank</td>\n",
              "      <td>Saint Elmo</td>\n",
              "      <td>IL</td>\n",
              "      <td>1802</td>\n",
              "      <td>United Fidelity Bank, fsb</td>\n",
              "      <td>2017-07-26</td>\n",
              "    </tr>\n",
              "    <tr>\n",
              "      <th>2017-05-05</th>\n",
              "      <td>Guaranty Bank, (d/b/a BestBank in Georgia &amp; Mi...</td>\n",
              "      <td>Milwaukee</td>\n",
              "      <td>WI</td>\n",
              "      <td>30003</td>\n",
              "      <td>First-Citizens Bank &amp; Trust Company</td>\n",
              "      <td>2017-07-26</td>\n",
              "    </tr>\n",
              "    <tr>\n",
              "      <th>2017-04-28</th>\n",
              "      <td>First NBC Bank</td>\n",
              "      <td>New Orleans</td>\n",
              "      <td>LA</td>\n",
              "      <td>58302</td>\n",
              "      <td>Whitney Bank</td>\n",
              "      <td>2017-12-05</td>\n",
              "    </tr>\n",
              "    <tr>\n",
              "      <th>...</th>\n",
              "      <td>...</td>\n",
              "      <td>...</td>\n",
              "      <td>...</td>\n",
              "      <td>...</td>\n",
              "      <td>...</td>\n",
              "      <td>...</td>\n",
              "    </tr>\n",
              "    <tr>\n",
              "      <th>2001-07-27</th>\n",
              "      <td>Superior Bank, FSB</td>\n",
              "      <td>Hinsdale</td>\n",
              "      <td>IL</td>\n",
              "      <td>32646</td>\n",
              "      <td>Superior Federal, FSB</td>\n",
              "      <td>2014-08-19</td>\n",
              "    </tr>\n",
              "    <tr>\n",
              "      <th>2001-05-03</th>\n",
              "      <td>Malta National Bank</td>\n",
              "      <td>Malta</td>\n",
              "      <td>OH</td>\n",
              "      <td>6629</td>\n",
              "      <td>North Valley Bank</td>\n",
              "      <td>2002-11-18</td>\n",
              "    </tr>\n",
              "    <tr>\n",
              "      <th>2001-02-02</th>\n",
              "      <td>First Alliance Bank &amp; Trust Co.</td>\n",
              "      <td>Manchester</td>\n",
              "      <td>NH</td>\n",
              "      <td>34264</td>\n",
              "      <td>Southern New Hampshire Bank &amp; Trust</td>\n",
              "      <td>2003-02-18</td>\n",
              "    </tr>\n",
              "    <tr>\n",
              "      <th>2000-12-14</th>\n",
              "      <td>National State Bank of Metropolis</td>\n",
              "      <td>Metropolis</td>\n",
              "      <td>IL</td>\n",
              "      <td>3815</td>\n",
              "      <td>Banterra Bank of Marion</td>\n",
              "      <td>2005-03-17</td>\n",
              "    </tr>\n",
              "    <tr>\n",
              "      <th>2000-10-13</th>\n",
              "      <td>Bank of Honolulu</td>\n",
              "      <td>Honolulu</td>\n",
              "      <td>HI</td>\n",
              "      <td>21029</td>\n",
              "      <td>Bank of the Orient</td>\n",
              "      <td>2005-03-17</td>\n",
              "    </tr>\n",
              "  </tbody>\n",
              "</table>\n",
              "<p>555 rows × 6 columns</p>\n",
              "</div>\n",
              "      <button class=\"colab-df-convert\" onclick=\"convertToInteractive('df-a0cf94a1-208c-4375-8b92-02020cbec5c1')\"\n",
              "              title=\"Convert this dataframe to an interactive table.\"\n",
              "              style=\"display:none;\">\n",
              "        \n",
              "  <svg xmlns=\"http://www.w3.org/2000/svg\" height=\"24px\"viewBox=\"0 0 24 24\"\n",
              "       width=\"24px\">\n",
              "    <path d=\"M0 0h24v24H0V0z\" fill=\"none\"/>\n",
              "    <path d=\"M18.56 5.44l.94 2.06.94-2.06 2.06-.94-2.06-.94-.94-2.06-.94 2.06-2.06.94zm-11 1L8.5 8.5l.94-2.06 2.06-.94-2.06-.94L8.5 2.5l-.94 2.06-2.06.94zm10 10l.94 2.06.94-2.06 2.06-.94-2.06-.94-.94-2.06-.94 2.06-2.06.94z\"/><path d=\"M17.41 7.96l-1.37-1.37c-.4-.4-.92-.59-1.43-.59-.52 0-1.04.2-1.43.59L10.3 9.45l-7.72 7.72c-.78.78-.78 2.05 0 2.83L4 21.41c.39.39.9.59 1.41.59.51 0 1.02-.2 1.41-.59l7.78-7.78 2.81-2.81c.8-.78.8-2.07 0-2.86zM5.41 20L4 18.59l7.72-7.72 1.47 1.35L5.41 20z\"/>\n",
              "  </svg>\n",
              "      </button>\n",
              "      \n",
              "  <style>\n",
              "    .colab-df-container {\n",
              "      display:flex;\n",
              "      flex-wrap:wrap;\n",
              "      gap: 12px;\n",
              "    }\n",
              "\n",
              "    .colab-df-convert {\n",
              "      background-color: #E8F0FE;\n",
              "      border: none;\n",
              "      border-radius: 50%;\n",
              "      cursor: pointer;\n",
              "      display: none;\n",
              "      fill: #1967D2;\n",
              "      height: 32px;\n",
              "      padding: 0 0 0 0;\n",
              "      width: 32px;\n",
              "    }\n",
              "\n",
              "    .colab-df-convert:hover {\n",
              "      background-color: #E2EBFA;\n",
              "      box-shadow: 0px 1px 2px rgba(60, 64, 67, 0.3), 0px 1px 3px 1px rgba(60, 64, 67, 0.15);\n",
              "      fill: #174EA6;\n",
              "    }\n",
              "\n",
              "    [theme=dark] .colab-df-convert {\n",
              "      background-color: #3B4455;\n",
              "      fill: #D2E3FC;\n",
              "    }\n",
              "\n",
              "    [theme=dark] .colab-df-convert:hover {\n",
              "      background-color: #434B5C;\n",
              "      box-shadow: 0px 1px 3px 1px rgba(0, 0, 0, 0.15);\n",
              "      filter: drop-shadow(0px 1px 2px rgba(0, 0, 0, 0.3));\n",
              "      fill: #FFFFFF;\n",
              "    }\n",
              "  </style>\n",
              "\n",
              "      <script>\n",
              "        const buttonEl =\n",
              "          document.querySelector('#df-a0cf94a1-208c-4375-8b92-02020cbec5c1 button.colab-df-convert');\n",
              "        buttonEl.style.display =\n",
              "          google.colab.kernel.accessAllowed ? 'block' : 'none';\n",
              "\n",
              "        async function convertToInteractive(key) {\n",
              "          const element = document.querySelector('#df-a0cf94a1-208c-4375-8b92-02020cbec5c1');\n",
              "          const dataTable =\n",
              "            await google.colab.kernel.invokeFunction('convertToInteractive',\n",
              "                                                     [key], {});\n",
              "          if (!dataTable) return;\n",
              "\n",
              "          const docLinkHtml = 'Like what you see? Visit the ' +\n",
              "            '<a target=\"_blank\" href=https://colab.research.google.com/notebooks/data_table.ipynb>data table notebook</a>'\n",
              "            + ' to learn more about interactive tables.';\n",
              "          element.innerHTML = '';\n",
              "          dataTable['output_type'] = 'display_data';\n",
              "          await google.colab.output.renderOutput(dataTable, element);\n",
              "          const docLink = document.createElement('div');\n",
              "          docLink.innerHTML = docLinkHtml;\n",
              "          element.appendChild(docLink);\n",
              "        }\n",
              "      </script>\n",
              "    </div>\n",
              "  </div>\n",
              "  "
            ]
          },
          "metadata": {},
          "execution_count": 4
        }
      ]
    },
    {
      "cell_type": "code",
      "source": [
        "# 연도별 파산한 은행 수\n",
        "bankrupt_year = banklist_with_index.resample('Y')['Bank Name'].count()\n",
        "bankrupt_year"
      ],
      "metadata": {
        "colab": {
          "base_uri": "https://localhost:8080/"
        },
        "id": "jNPjWZXCZPAB",
        "outputId": "95950f5d-3221-4799-892a-b4748a2d386f"
      },
      "execution_count": null,
      "outputs": [
        {
          "output_type": "execute_result",
          "data": {
            "text/plain": [
              "Closing Date\n",
              "2000-12-31      2\n",
              "2001-12-31      4\n",
              "2002-12-31     11\n",
              "2003-12-31      3\n",
              "2004-12-31      4\n",
              "2005-12-31      0\n",
              "2006-12-31      0\n",
              "2007-12-31      3\n",
              "2008-12-31     25\n",
              "2009-12-31    140\n",
              "2010-12-31    157\n",
              "2011-12-31     92\n",
              "2012-12-31     51\n",
              "2013-12-31     24\n",
              "2014-12-31     18\n",
              "2015-12-31      8\n",
              "2016-12-31      5\n",
              "2017-12-31      8\n",
              "Freq: A-DEC, Name: Bank Name, dtype: int64"
            ]
          },
          "metadata": {},
          "execution_count": 5
        }
      ]
    },
    {
      "cell_type": "code",
      "source": [
        "sns.barplot(x=bankrupt_year.index, y=bankrupt_year)\n",
        "plt.ylabel('Count')\n",
        "plt.xticks([0, 3, 6, 9, 12, 15, 17], labels=['2000', '2003', '2006', '2009', '2012', '2015', '2017'])\n",
        "plt.show()"
      ],
      "metadata": {
        "colab": {
          "base_uri": "https://localhost:8080/",
          "height": 279
        },
        "id": "z2VuMK7kZbqD",
        "outputId": "1f1d5ee2-b714-4eed-8f5e-4b9d015b31f5"
      },
      "execution_count": null,
      "outputs": [
        {
          "output_type": "display_data",
          "data": {
            "text/plain": [
              "<Figure size 432x288 with 1 Axes>"
            ],
            "image/png": "[encoded data removed]"
          },
          "metadata": {
            "needs_background": "light"
          }
        }
      ]
    },
    {
      "cell_type": "code",
      "source": [
        "plt.plot(bankrupt_year, marker='o')\n",
        "plt.ylabel('Count')\n",
        "plt.grid()\n",
        "plt.show()"
      ],
      "metadata": {
        "colab": {
          "base_uri": "https://localhost:8080/",
          "height": 265
        },
        "id": "yMSpcqyu27r1",
        "outputId": "808868b7-381e-4685-d18e-4dc3b6998ac0"
      },
      "execution_count": null,
      "outputs": [
        {
          "output_type": "display_data",
          "data": {
            "text/plain": [
              "<Figure size 432x288 with 1 Axes>"
            ],
            "image/png": "[encoded data removed]"
          },
          "metadata": {
            "needs_background": "light"
          }
        }
      ]
    },
    {
      "cell_type": "code",
      "source": [
        "# 분기별 파산한 은행 수\n",
        "bankrupt_quarter = banklist_with_index.resample('Q')['Bank Name'].count()\n",
        "bankrupt_quarter"
      ],
      "metadata": {
        "colab": {
          "base_uri": "https://localhost:8080/"
        },
        "id": "KjgOhisCcbCl",
        "outputId": "130c1bee-f094-4fa9-85c7-7a99ef7ac80f"
      },
      "execution_count": null,
      "outputs": [
        {
          "output_type": "execute_result",
          "data": {
            "text/plain": [
              "Closing Date\n",
              "2000-12-31    2\n",
              "2001-03-31    1\n",
              "2001-06-30    1\n",
              "2001-09-30    2\n",
              "2001-12-31    0\n",
              "             ..\n",
              "2016-12-31    0\n",
              "2017-03-31    3\n",
              "2017-06-30    3\n",
              "2017-09-30    0\n",
              "2017-12-31    2\n",
              "Freq: Q-DEC, Name: Bank Name, Length: 69, dtype: int64"
            ]
          },
          "metadata": {},
          "execution_count": 7
        }
      ]
    },
    {
      "cell_type": "code",
      "source": [
        "len(bankrupt_quarter)"
      ],
      "metadata": {
        "colab": {
          "base_uri": "https://localhost:8080/"
        },
        "id": "Grxel0F2c0Zz",
        "outputId": "31c5a3b7-cdad-4929-a8fd-4627768da3a0"
      },
      "execution_count": null,
      "outputs": [
        {
          "output_type": "execute_result",
          "data": {
            "text/plain": [
              "69"
            ]
          },
          "metadata": {},
          "execution_count": 8
        }
      ]
    },
    {
      "cell_type": "code",
      "source": [
        "sns.barplot(x=bankrupt_quarter.index, y=bankrupt_quarter)\n",
        "plt.ylabel('Count')\n",
        "plt.xticks(np.arange(0, 69, 12), labels=np.arange(2000, 2018, 3))\n",
        "plt.show()"
      ],
      "metadata": {
        "colab": {
          "base_uri": "https://localhost:8080/",
          "height": 279
        },
        "id": "f89lK7CrcrtV",
        "outputId": "1f6da959-ad76-4303-fb69-b88b9965e4bf"
      },
      "execution_count": null,
      "outputs": [
        {
          "output_type": "display_data",
          "data": {
            "text/plain": [
              "<Figure size 432x288 with 1 Axes>"
            ],
            "image/png": "[encoded data removed]"
          },
          "metadata": {
            "needs_background": "light"
          }
        }
      ]
    },
    {
      "cell_type": "code",
      "source": [
        "plt.plot(bankrupt_quarter, marker='o')\n",
        "plt.ylabel('Count')\n",
        "plt.grid()\n",
        "plt.show()"
      ],
      "metadata": {
        "colab": {
          "base_uri": "https://localhost:8080/",
          "height": 265
        },
        "id": "M0xDydyV4FLW",
        "outputId": "1a7145ea-b781-44d4-ee07-3d0eda933890"
      },
      "execution_count": null,
      "outputs": [
        {
          "output_type": "display_data",
          "data": {
            "text/plain": [
              "<Figure size 432x288 with 1 Axes>"
            ],
            "image/png": "[encoded data removed]"
          },
          "metadata": {
            "needs_background": "light"
          }
        }
      ]
    }
  ]
}