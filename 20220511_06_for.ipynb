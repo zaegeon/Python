{
  "nbformat": 4,
  "nbformat_minor": 0,
  "metadata": {
    "colab": {
      "name": "20220511_06_for.ipynb",
      "provenance": [],
      "collapsed_sections": [],
      "authorship_tag": "ABX9TyO38iYoMGUy4VSmngSCUsoz",
      "include_colab_link": true
    },
    "kernelspec": {
      "name": "python3",
      "display_name": "Python 3"
    },
    "language_info": {
      "name": "python"
    }
  },
  "cells": [
    {
      "cell_type": "markdown",
      "metadata": {
        "id": "view-in-github",
        "colab_type": "text"
      },
      "source": [
        "<a href=\"https://colab.research.google.com/github/zaegeon/Python/blob/main/20220511_06_for.ipynb\" target=\"_parent\"><img src=\"https://colab.research.google.com/assets/colab-badge.svg\" alt=\"Open In Colab\"/></a>"
      ]
    },
    {
      "cell_type": "markdown",
      "source": [
        "# For loop\n",
        "\n",
        "```\n",
        "for 변수 in iterable-type:\n",
        "    반복해서 실행할 코드 블록\n",
        "```\n",
        "\n",
        "* iterable-type : 반복(순회)이 가능한 데이터 타입.\n",
        "    * `str`, `range`, `list`, `tuple`, `dict`, ...\n",
        "* for 반복문은 iterable-type의 객체에서 원소들을 하나씩 꺼내서 변수에 저장하고, 코드 블록을 반복해서 실행.\n",
        "* iterable-type의 객체에서 더 이상 꺼낼 원소가 없을 때 반복문 종료.\n"
      ],
      "metadata": {
        "id": "-HeCJ34_4bvn"
      }
    },
    {
      "cell_type": "code",
      "source": [
        "'세' in '안녕하세요!' # True"
      ],
      "metadata": {
        "colab": {
          "base_uri": "https://localhost:8080/"
        },
        "id": "fgmQxLA2646E",
        "outputId": "a48bdf16-6b89-4376-f578-16272bbf650d"
      },
      "execution_count": null,
      "outputs": [
        {
          "output_type": "execute_result",
          "data": {
            "text/plain": [
              "True"
            ]
          },
          "metadata": {},
          "execution_count": 3
        }
      ]
    },
    {
      "cell_type": "code",
      "execution_count": null,
      "metadata": {
        "colab": {
          "base_uri": "https://localhost:8080/"
        },
        "id": "Vwabf5Tm4XTq",
        "outputId": "7ff2c9c3-bbd3-4bf8-ed98-5f2ee2c8a5e1"
      },
      "outputs": [
        {
          "output_type": "stream",
          "name": "stdout",
          "text": [
            "안\n",
            "녕\n",
            "하\n",
            "세\n",
            "요\n",
            "!\n"
          ]
        }
      ],
      "source": [
        "for x in '안녕하세요!':\n",
        "    print(x)"
      ]
    },
    {
      "cell_type": "markdown",
      "source": [
        "## range 함수와 for loop"
      ],
      "metadata": {
        "id": "tkMSvpZ2AFbk"
      }
    },
    {
      "cell_type": "code",
      "source": [
        "# range(start, stop, step) : start ≤ x < stop 범위의 step(양수)만큼씩 증가하는 정수들을 생성.\n",
        "for n in range(5, 0, -1):\n",
        "    print('*' * n)"
      ],
      "metadata": {
        "colab": {
          "base_uri": "https://localhost:8080/"
        },
        "id": "Bz4psBFUAH0w",
        "outputId": "8ed7c886-8fa9-41be-be20-5c5c4f937d00"
      },
      "execution_count": null,
      "outputs": [
        {
          "output_type": "stream",
          "name": "stdout",
          "text": [
            "*****\n",
            "****\n",
            "***\n",
            "**\n",
            "*\n"
          ]
        }
      ]
    },
    {
      "cell_type": "markdown",
      "source": [
        "## 중첩 for 반복문 (nested for loop)"
      ],
      "metadata": {
        "id": "P1WoY7zRa6xO"
      }
    },
    {
      "cell_type": "code",
      "source": [
        "for dan in range(2,10):\n",
        "    print('-' * 5, dan, \"단\", '-' * 5)\n",
        "    for n in range(1,10):\n",
        "        print(f'{dan} x {n} = {dan * n}')"
      ],
      "metadata": {
        "colab": {
          "base_uri": "https://localhost:8080/"
        },
        "id": "d-6pKfIFbAxK",
        "outputId": "b3e698eb-98b0-4426-a91c-16221d08efd1"
      },
      "execution_count": null,
      "outputs": [
        {
          "output_type": "stream",
          "name": "stdout",
          "text": [
            "----- 2 단 -----\n",
            "2 x 1 = 2\n",
            "2 x 2 = 4\n",
            "2 x 3 = 6\n",
            "2 x 4 = 8\n",
            "2 x 5 = 10\n",
            "2 x 6 = 12\n",
            "2 x 7 = 14\n",
            "2 x 8 = 16\n",
            "2 x 9 = 18\n",
            "----- 3 단 -----\n",
            "3 x 1 = 3\n",
            "3 x 2 = 6\n",
            "3 x 3 = 9\n",
            "3 x 4 = 12\n",
            "3 x 5 = 15\n",
            "3 x 6 = 18\n",
            "3 x 7 = 21\n",
            "3 x 8 = 24\n",
            "3 x 9 = 27\n",
            "----- 4 단 -----\n",
            "4 x 1 = 4\n",
            "4 x 2 = 8\n",
            "4 x 3 = 12\n",
            "4 x 4 = 16\n",
            "4 x 5 = 20\n",
            "4 x 6 = 24\n",
            "4 x 7 = 28\n",
            "4 x 8 = 32\n",
            "4 x 9 = 36\n",
            "----- 5 단 -----\n",
            "5 x 1 = 5\n",
            "5 x 2 = 10\n",
            "5 x 3 = 15\n",
            "5 x 4 = 20\n",
            "5 x 5 = 25\n",
            "5 x 6 = 30\n",
            "5 x 7 = 35\n",
            "5 x 8 = 40\n",
            "5 x 9 = 45\n",
            "----- 6 단 -----\n",
            "6 x 1 = 6\n",
            "6 x 2 = 12\n",
            "6 x 3 = 18\n",
            "6 x 4 = 24\n",
            "6 x 5 = 30\n",
            "6 x 6 = 36\n",
            "6 x 7 = 42\n",
            "6 x 8 = 48\n",
            "6 x 9 = 54\n",
            "----- 7 단 -----\n",
            "7 x 1 = 7\n",
            "7 x 2 = 14\n",
            "7 x 3 = 21\n",
            "7 x 4 = 28\n",
            "7 x 5 = 35\n",
            "7 x 6 = 42\n",
            "7 x 7 = 49\n",
            "7 x 8 = 56\n",
            "7 x 9 = 63\n",
            "----- 8 단 -----\n",
            "8 x 1 = 8\n",
            "8 x 2 = 16\n",
            "8 x 3 = 24\n",
            "8 x 4 = 32\n",
            "8 x 5 = 40\n",
            "8 x 6 = 48\n",
            "8 x 7 = 56\n",
            "8 x 8 = 64\n",
            "8 x 9 = 72\n",
            "----- 9 단 -----\n",
            "9 x 1 = 9\n",
            "9 x 2 = 18\n",
            "9 x 3 = 27\n",
            "9 x 4 = 36\n",
            "9 x 5 = 45\n",
            "9 x 6 = 54\n",
            "9 x 7 = 63\n",
            "9 x 8 = 72\n",
            "9 x 9 = 81\n"
          ]
        }
      ]
    },
    {
      "cell_type": "markdown",
      "source": [
        "## `break`와 `continue`\n",
        "\n",
        "* `break` : iteration(반복)을 종료.\n",
        "* `continue` : (현재 작업을 멈추고) 다음 iteration(반복)을 수행."
      ],
      "metadata": {
        "id": "Sa9Hw9tYdLzE"
      }
    },
    {
      "cell_type": "code",
      "source": [
        "for x in range(5):\n",
        "    if x == 2:\n",
        "        break\n",
        "    print(x)       # 0 1"
      ],
      "metadata": {
        "colab": {
          "base_uri": "https://localhost:8080/"
        },
        "id": "QeeW23YOdorG",
        "outputId": "beac171b-cc92-416d-e8b6-dbd95f9555a8"
      },
      "execution_count": null,
      "outputs": [
        {
          "output_type": "stream",
          "name": "stdout",
          "text": [
            "0\n",
            "1\n"
          ]
        }
      ]
    },
    {
      "cell_type": "code",
      "source": [
        "for x in range(5):\n",
        "    if x == 2:\n",
        "        continue\n",
        "    print(x)       # 0 1 3 4"
      ],
      "metadata": {
        "colab": {
          "base_uri": "https://localhost:8080/"
        },
        "id": "WDH1oClhelcX",
        "outputId": "f94a9494-633f-4bd0-c20d-e782ad1af6b2"
      },
      "execution_count": null,
      "outputs": [
        {
          "output_type": "stream",
          "name": "stdout",
          "text": [
            "0\n",
            "1\n",
            "3\n",
            "4\n"
          ]
        }
      ]
    },
    {
      "cell_type": "code",
      "source": [
        "# 구구단 2단은 2x2까지, 3단은 3x3까지, ... 출력\n",
        "\n",
        "for dan in range(2, 10):\n",
        "    for x in range(1, 10):\n",
        "        print(f'{dan} x {x} = {dan * x}')\n",
        "        if dan == x:\n",
        "            break\n",
        "    print('-' * 20)"
      ],
      "metadata": {
        "colab": {
          "base_uri": "https://localhost:8080/"
        },
        "id": "IDT1LhRsfBdd",
        "outputId": "fc638016-e188-48b8-839a-e25cc24577a0"
      },
      "execution_count": null,
      "outputs": [
        {
          "output_type": "stream",
          "name": "stdout",
          "text": [
            "2 x 1 = 2\n",
            "2 x 2 = 4\n",
            "--------------------\n",
            "3 x 1 = 3\n",
            "3 x 2 = 6\n",
            "3 x 3 = 9\n",
            "--------------------\n",
            "4 x 1 = 4\n",
            "4 x 2 = 8\n",
            "4 x 3 = 12\n",
            "4 x 4 = 16\n",
            "--------------------\n",
            "5 x 1 = 5\n",
            "5 x 2 = 10\n",
            "5 x 3 = 15\n",
            "5 x 4 = 20\n",
            "5 x 5 = 25\n",
            "--------------------\n",
            "6 x 1 = 6\n",
            "6 x 2 = 12\n",
            "6 x 3 = 18\n",
            "6 x 4 = 24\n",
            "6 x 5 = 30\n",
            "6 x 6 = 36\n",
            "--------------------\n",
            "7 x 1 = 7\n",
            "7 x 2 = 14\n",
            "7 x 3 = 21\n",
            "7 x 4 = 28\n",
            "7 x 5 = 35\n",
            "7 x 6 = 42\n",
            "7 x 7 = 49\n",
            "--------------------\n",
            "8 x 1 = 8\n",
            "8 x 2 = 16\n",
            "8 x 3 = 24\n",
            "8 x 4 = 32\n",
            "8 x 5 = 40\n",
            "8 x 6 = 48\n",
            "8 x 7 = 56\n",
            "8 x 8 = 64\n",
            "--------------------\n",
            "9 x 1 = 9\n",
            "9 x 2 = 18\n",
            "9 x 3 = 27\n",
            "9 x 4 = 36\n",
            "9 x 5 = 45\n",
            "9 x 6 = 54\n",
            "9 x 7 = 63\n",
            "9 x 8 = 72\n",
            "9 x 9 = 81\n",
            "--------------------\n"
          ]
        }
      ]
    },
    {
      "cell_type": "code",
      "source": [
        "# Another method\n",
        "for x in range(2, 10):\n",
        "    for y in range(1, x+1):\n",
        "        print(f'{x} x {y} = {x*y}')\n",
        "    print('-' * 20)"
      ],
      "metadata": {
        "colab": {
          "base_uri": "https://localhost:8080/"
        },
        "id": "aj4lTgCPhg31",
        "outputId": "c19a4c33-4c3c-40a1-81ab-ed9d3e8349ec"
      },
      "execution_count": null,
      "outputs": [
        {
          "output_type": "stream",
          "name": "stdout",
          "text": [
            "2 x 1 = 2\n",
            "2 x 2 = 4\n",
            "--------------------\n",
            "3 x 1 = 3\n",
            "3 x 2 = 6\n",
            "3 x 3 = 9\n",
            "--------------------\n",
            "4 x 1 = 4\n",
            "4 x 2 = 8\n",
            "4 x 3 = 12\n",
            "4 x 4 = 16\n",
            "--------------------\n",
            "5 x 1 = 5\n",
            "5 x 2 = 10\n",
            "5 x 3 = 15\n",
            "5 x 4 = 20\n",
            "5 x 5 = 25\n",
            "--------------------\n",
            "6 x 1 = 6\n",
            "6 x 2 = 12\n",
            "6 x 3 = 18\n",
            "6 x 4 = 24\n",
            "6 x 5 = 30\n",
            "6 x 6 = 36\n",
            "--------------------\n",
            "7 x 1 = 7\n",
            "7 x 2 = 14\n",
            "7 x 3 = 21\n",
            "7 x 4 = 28\n",
            "7 x 5 = 35\n",
            "7 x 6 = 42\n",
            "7 x 7 = 49\n",
            "--------------------\n",
            "8 x 1 = 8\n",
            "8 x 2 = 16\n",
            "8 x 3 = 24\n",
            "8 x 4 = 32\n",
            "8 x 5 = 40\n",
            "8 x 6 = 48\n",
            "8 x 7 = 56\n",
            "8 x 8 = 64\n",
            "--------------------\n",
            "9 x 1 = 9\n",
            "9 x 2 = 18\n",
            "9 x 3 = 27\n",
            "9 x 4 = 36\n",
            "9 x 5 = 45\n",
            "9 x 6 = 54\n",
            "9 x 7 = 63\n",
            "9 x 8 = 72\n",
            "9 x 9 = 81\n",
            "--------------------\n"
          ]
        }
      ]
    },
    {
      "cell_type": "markdown",
      "source": [
        "# `print()` 함수\n",
        "\n",
        "* 문자열을 출력할 때 함께 사용되는 특수 기호\n",
        "    * '\\t' : 탭(tab)\n",
        "    * '\\n' : 줄바꿈 (new line)\n",
        "* `print()` 함수의 파라미터(parameter)\n",
        "    * `end` : print 함수의 argument들을 콘솔에 출력한 후 어떤 동작을 할 것인지를 설정. 기본값은 줄바꿈 ('\\n')\n",
        "    * `sep` : seperator(구분자). print 함수의 argument들을 출력할 때 각각의 argument들을 구분하기 위한 문자를 설정. 기본값은 공백 한 칸(' ').\n",
        "    \n"
      ],
      "metadata": {
        "id": "lxyMPLKfhtnN"
      }
    },
    {
      "cell_type": "code",
      "source": [
        "print('안녕 Hello Bon Jour')\n",
        "print('안녕\\tHello\\tBon Jour')\n",
        "print('안녕\\nHello\\nBon Jour')"
      ],
      "metadata": {
        "colab": {
          "base_uri": "https://localhost:8080/"
        },
        "id": "cyinT8H3kiwy",
        "outputId": "f804d29f-e0db-410f-b458-45599a269c52"
      },
      "execution_count": null,
      "outputs": [
        {
          "output_type": "stream",
          "name": "stdout",
          "text": [
            "안녕 Hello Bon Jour\n",
            "안녕\tHello\tBon Jour\n",
            "안녕\n",
            "Hello\n",
            "Bon Jour\n"
          ]
        }
      ]
    },
    {
      "cell_type": "code",
      "source": [
        "print('안녕', 'Hello', 123, sep=',')"
      ],
      "metadata": {
        "colab": {
          "base_uri": "https://localhost:8080/"
        },
        "id": "oc19rt1DqhWD",
        "outputId": "0147a151-a422-4dd2-eda0-62f6ebf57f0c"
      },
      "execution_count": null,
      "outputs": [
        {
          "output_type": "stream",
          "name": "stdout",
          "text": [
            "안녕,Hello,123\n"
          ]
        }
      ]
    },
    {
      "cell_type": "code",
      "source": [
        "print('안녕', end='\\t')\n",
        "print('Hello') # end = '\\n' : 기본값\n",
        "print(123)"
      ],
      "metadata": {
        "colab": {
          "base_uri": "https://localhost:8080/"
        },
        "id": "srRI26c9r80t",
        "outputId": "ae95718c-5554-46a9-dfca-62152c0ee11b"
      },
      "execution_count": null,
      "outputs": [
        {
          "output_type": "stream",
          "name": "stdout",
          "text": [
            "안녕\tHello\n",
            "123\n"
          ]
        }
      ]
    },
    {
      "cell_type": "markdown",
      "source": [
        "## 1. 아래와 같이 출력되는 코드를 작성하세요.\n",
        "\n",
        "```\n",
        "1 little 2 little 3 little indian\n",
        "4 little 5 little 6 little indian\n",
        "7 little 8 little 9 little indian\n",
        "10 little indian boys!\n",
        "```"
      ],
      "metadata": {
        "id": "7lKvFTTAs33M"
      }
    },
    {
      "cell_type": "code",
      "source": [
        "for i in range(1,11):\n",
        "    print(f'{i} little', end=' ')\n",
        "    if i % 3 == 0:\n",
        "        print('indian')\n",
        "print('indian boys!')"
      ],
      "metadata": {
        "colab": {
          "base_uri": "https://localhost:8080/"
        },
        "id": "fMFT5OhBt4fU",
        "outputId": "cfbb3ceb-8f82-4db2-9d77-f8b4048f2d55"
      },
      "execution_count": null,
      "outputs": [
        {
          "output_type": "stream",
          "name": "stdout",
          "text": [
            "1 little 2 little 3 little indian\n",
            "4 little 5 little 6 little indian\n",
            "7 little 8 little 9 little indian\n",
            "10 little indian boys!\n"
          ]
        }
      ]
    },
    {
      "cell_type": "markdown",
      "source": [
        "## 2. 아래와 같이 출력되는 코드를 작성하세요.\n",
        "```\n",
        "1 2 * 4 5 * 7 8 * 10\n",
        "11 12 * 14 15 * 17 18 * 20\n",
        "21 22 * 24 25 * 27 28 * *\n",
        "* * * * * * * * * 40\n",
        "...\n",
        "81 82 * 84 85 * 87 88 * *\n",
        "* * * * * * * * * 100\n",
        "```"
      ],
      "metadata": {
        "id": "L-YBfdH0tF8f"
      }
    },
    {
      "cell_type": "code",
      "source": [
        "for n in range(1, 101):\n",
        "    if (n % 10 == 3) or (n % 10 == 6) or (n % 10 == 9):\n",
        "        print('*', end=' ')\n",
        "    elif (n // 10 == 3) or (n // 10 == 6) or (n // 10 == 9):\n",
        "        print('*', end=' ')\n",
        "    else:\n",
        "        print(n, end= ' ')\n",
        "    if n % 10 == 0:\n",
        "        print()"
      ],
      "metadata": {
        "colab": {
          "base_uri": "https://localhost:8080/"
        },
        "id": "DDTsVM80BuVQ",
        "outputId": "13f527f4-e135-428a-e5f0-634663508ce9"
      },
      "execution_count": null,
      "outputs": [
        {
          "output_type": "stream",
          "name": "stdout",
          "text": [
            "1 2 * 4 5 * 7 8 * 10 \n",
            "11 12 * 14 15 * 17 18 * 20 \n",
            "21 22 * 24 25 * 27 28 * * \n",
            "* * * * * * * * * 40 \n",
            "41 42 * 44 45 * 47 48 * 50 \n",
            "51 52 * 54 55 * 57 58 * * \n",
            "* * * * * * * * * 70 \n",
            "71 72 * 74 75 * 77 78 * 80 \n",
            "81 82 * 84 85 * 87 88 * * \n",
            "* * * * * * * * * 100 \n"
          ]
        }
      ]
    },
    {
      "cell_type": "code",
      "source": [
        "for n in range(1, 101):\n",
        "    n_str = str(n)\n",
        "    if ('3' in n_str) or ('6' in n_str) or ('9' in n_str):\n",
        "        print('*', end='\\t')\n",
        "    else:\n",
        "        print(n, end='\\t')\n",
        "    if n % 10 == 0:\n",
        "        print()"
      ],
      "metadata": {
        "colab": {
          "base_uri": "https://localhost:8080/"
        },
        "id": "qdPp9HvkuYTb",
        "outputId": "40c9f426-7b30-4fac-bb86-0e91b407d578"
      },
      "execution_count": null,
      "outputs": [
        {
          "output_type": "stream",
          "name": "stdout",
          "text": [
            "1\t2\t*\t4\t5\t*\t7\t8\t*\t10\t\n",
            "11\t12\t*\t14\t15\t*\t17\t18\t*\t20\t\n",
            "21\t22\t*\t24\t25\t*\t27\t28\t*\t*\t\n",
            "*\t*\t*\t*\t*\t*\t*\t*\t*\t40\t\n",
            "41\t42\t*\t44\t45\t*\t47\t48\t*\t50\t\n",
            "51\t52\t*\t54\t55\t*\t57\t58\t*\t*\t\n",
            "*\t*\t*\t*\t*\t*\t*\t*\t*\t70\t\n",
            "71\t72\t*\t74\t75\t*\t77\t78\t*\t80\t\n",
            "81\t82\t*\t84\t85\t*\t87\t88\t*\t*\t\n",
            "*\t*\t*\t*\t*\t*\t*\t*\t*\t100\t\n"
          ]
        }
      ]
    },
    {
      "cell_type": "code",
      "source": [
        "for i in range(0, 10):\n",
        "    for j in range(1, 11):\n",
        "        if j % 3 == 0:\n",
        "            print('*', end='\\t')\n",
        "        elif (i*10 + j) == 30 or (i*10+j) == 60 or (i*10+j) == 90:\n",
        "            print('*', end='\\t')\n",
        "        elif i % 3 == 0 and i != 0 and j != 10:\n",
        "            print('*', end='\\t')        \n",
        "        else:\n",
        "            print(i*10 + j, end='\\t')\n",
        "        if j % 10 == 0:\n",
        "            print()"
      ],
      "metadata": {
        "colab": {
          "base_uri": "https://localhost:8080/"
        },
        "id": "H0RtfX2HDq8X",
        "outputId": "73c6b0d8-adf5-42f5-9277-daab7a6116b7"
      },
      "execution_count": null,
      "outputs": [
        {
          "output_type": "stream",
          "name": "stdout",
          "text": [
            "1\t2\t*\t4\t5\t*\t7\t8\t*\t10\t\n",
            "11\t12\t*\t14\t15\t*\t17\t18\t*\t20\t\n",
            "21\t22\t*\t24\t25\t*\t27\t28\t*\t*\t\n",
            "*\t*\t*\t*\t*\t*\t*\t*\t*\t40\t\n",
            "41\t42\t*\t44\t45\t*\t47\t48\t*\t50\t\n",
            "51\t52\t*\t54\t55\t*\t57\t58\t*\t*\t\n",
            "*\t*\t*\t*\t*\t*\t*\t*\t*\t70\t\n",
            "71\t72\t*\t74\t75\t*\t77\t78\t*\t80\t\n",
            "81\t82\t*\t84\t85\t*\t87\t88\t*\t*\t\n",
            "*\t*\t*\t*\t*\t*\t*\t*\t*\t100\t\n"
          ]
        }
      ]
    }
  ]
}