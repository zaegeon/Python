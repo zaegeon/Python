{
  "nbformat": 4,
  "nbformat_minor": 0,
  "metadata": {
    "colab": {
      "name": "20220613_ML03_train_test_scaling.ipynb",
      "provenance": [],
      "collapsed_sections": [],
      "toc_visible": true,
      "authorship_tag": "ABX9TyNaPslBKltwBBlK7e++QiQ2",
      "include_colab_link": true
    },
    "kernelspec": {
      "name": "python3",
      "display_name": "Python 3"
    },
    "language_info": {
      "name": "python"
    }
  },
  "cells": [
    {
      "cell_type": "markdown",
      "metadata": {
        "id": "view-in-github",
        "colab_type": "text"
      },
      "source": [
        "<a href=\"https://colab.research.google.com/github/zaegeon/Python/blob/main/ML/20220613_ML03_train_test_scaling.ipynb\" target=\"_parent\"><img src=\"https://colab.research.google.com/assets/colab-badge.svg\" alt=\"Open In Colab\"/></a>"
      ]
    },
    {
      "cell_type": "markdown",
      "source": [
        "*  훈련 셋과 테스트 셋을 나누는 방법\n",
        "    *  순차적 추출(sequential sampling)\n",
        "    *  임의 추출(random sampling)\n",
        "    *  층화 추출(stratified sampling)\n",
        "*  분류 모델 평가 지표(metrics)\n",
        "    *  정확도(accuracy)\n",
        "    *  정밀도(precision)\n",
        "    *  재현율(recall)\n",
        "    *  F1-score\n",
        "*  특성 스케일링(feature scaling)\n",
        "    *  표준화(standardization)\n",
        "    *  정규화(normalization)"
      ],
      "metadata": {
        "id": "oB9e5ojWi0IU"
      }
    },
    {
      "cell_type": "markdown",
      "source": [
        "# Imports"
      ],
      "metadata": {
        "id": "cPI6fLidjvbd"
      }
    },
    {
      "cell_type": "code",
      "execution_count": null,
      "metadata": {
        "id": "QA5P5lFwiraa"
      },
      "outputs": [],
      "source": [
        "import numpy as np\n",
        "import pandas as pd\n",
        "import matplotlib.pyplot as plt\n",
        "import seaborn as sns\n",
        "\n",
        "from sklearn.neighbors import KNeighborsClassifier # KNN 분류기(모델)\n",
        "from sklearn.model_selection import train_test_split # 훈련/테스트 셋 분리 함수\n",
        "from sklearn.metrics import confusion_matrix, classification_report\n",
        "from sklearn.metrics import accuracy_score, precision_score, recall_score, f1_score\n",
        "from sklearn.preprocessing import StandardScaler, MinMaxScaler # 변환기(특성 스케일링) "
      ]
    },
    {
      "cell_type": "markdown",
      "source": [
        "# 데이터 준비"
      ],
      "metadata": {
        "id": "Ac6WdqmIl6VP"
      }
    },
    {
      "cell_type": "code",
      "source": [
        "# fish 데이터 셋\n",
        "fish_csv = 'https://github.com/rickiepark/hg-mldl/raw/master/fish.csv'"
      ],
      "metadata": {
        "id": "_rnT2wUZlJfN"
      },
      "execution_count": null,
      "outputs": []
    },
    {
      "cell_type": "code",
      "source": [
        "fish = pd.read_csv(fish_csv)"
      ],
      "metadata": {
        "id": "nblKMY1Gl_xV"
      },
      "execution_count": null,
      "outputs": []
    },
    {
      "cell_type": "code",
      "source": [
        "fish.head()"
      ],
      "metadata": {
        "colab": {
          "base_uri": "https://localhost:8080/",
          "height": 206
        },
        "id": "YuGhSsuDmEN1",
        "outputId": "a99f2423-3d1b-4ab2-afc5-de857eb0b5f1"
      },
      "execution_count": null,
      "outputs": [
        {
          "output_type": "execute_result",
          "data": {
            "text/plain": [
              "  Species  Weight  Length  Diagonal   Height   Width\n",
              "0   Bream   242.0    25.4      30.0  11.5200  4.0200\n",
              "1   Bream   290.0    26.3      31.2  12.4800  4.3056\n",
              "2   Bream   340.0    26.5      31.1  12.3778  4.6961\n",
              "3   Bream   363.0    29.0      33.5  12.7300  4.4555\n",
              "4   Bream   430.0    29.0      34.0  12.4440  5.1340"
            ],
            "text/html": [
              "\n",
              "  <div id=\"df-ed530ba8-3be4-462e-a79d-59699462f474\">\n",
              "    <div class=\"colab-df-container\">\n",
              "      <div>\n",
              "<style scoped>\n",
              "    .dataframe tbody tr th:only-of-type {\n",
              "        vertical-align: middle;\n",
              "    }\n",
              "\n",
              "    .dataframe tbody tr th {\n",
              "        vertical-align: top;\n",
              "    }\n",
              "\n",
              "    .dataframe thead th {\n",
              "        text-align: right;\n",
              "    }\n",
              "</style>\n",
              "<table border=\"1\" class=\"dataframe\">\n",
              "  <thead>\n",
              "    <tr style=\"text-align: right;\">\n",
              "      <th></th>\n",
              "      <th>Species</th>\n",
              "      <th>Weight</th>\n",
              "      <th>Length</th>\n",
              "      <th>Diagonal</th>\n",
              "      <th>Height</th>\n",
              "      <th>Width</th>\n",
              "    </tr>\n",
              "  </thead>\n",
              "  <tbody>\n",
              "    <tr>\n",
              "      <th>0</th>\n",
              "      <td>Bream</td>\n",
              "      <td>242.0</td>\n",
              "      <td>25.4</td>\n",
              "      <td>30.0</td>\n",
              "      <td>11.5200</td>\n",
              "      <td>4.0200</td>\n",
              "    </tr>\n",
              "    <tr>\n",
              "      <th>1</th>\n",
              "      <td>Bream</td>\n",
              "      <td>290.0</td>\n",
              "      <td>26.3</td>\n",
              "      <td>31.2</td>\n",
              "      <td>12.4800</td>\n",
              "      <td>4.3056</td>\n",
              "    </tr>\n",
              "    <tr>\n",
              "      <th>2</th>\n",
              "      <td>Bream</td>\n",
              "      <td>340.0</td>\n",
              "      <td>26.5</td>\n",
              "      <td>31.1</td>\n",
              "      <td>12.3778</td>\n",
              "      <td>4.6961</td>\n",
              "    </tr>\n",
              "    <tr>\n",
              "      <th>3</th>\n",
              "      <td>Bream</td>\n",
              "      <td>363.0</td>\n",
              "      <td>29.0</td>\n",
              "      <td>33.5</td>\n",
              "      <td>12.7300</td>\n",
              "      <td>4.4555</td>\n",
              "    </tr>\n",
              "    <tr>\n",
              "      <th>4</th>\n",
              "      <td>Bream</td>\n",
              "      <td>430.0</td>\n",
              "      <td>29.0</td>\n",
              "      <td>34.0</td>\n",
              "      <td>12.4440</td>\n",
              "      <td>5.1340</td>\n",
              "    </tr>\n",
              "  </tbody>\n",
              "</table>\n",
              "</div>\n",
              "      <button class=\"colab-df-convert\" onclick=\"convertToInteractive('df-ed530ba8-3be4-462e-a79d-59699462f474')\"\n",
              "              title=\"Convert this dataframe to an interactive table.\"\n",
              "              style=\"display:none;\">\n",
              "        \n",
              "  <svg xmlns=\"http://www.w3.org/2000/svg\" height=\"24px\"viewBox=\"0 0 24 24\"\n",
              "       width=\"24px\">\n",
              "    <path d=\"M0 0h24v24H0V0z\" fill=\"none\"/>\n",
              "    <path d=\"M18.56 5.44l.94 2.06.94-2.06 2.06-.94-2.06-.94-.94-2.06-.94 2.06-2.06.94zm-11 1L8.5 8.5l.94-2.06 2.06-.94-2.06-.94L8.5 2.5l-.94 2.06-2.06.94zm10 10l.94 2.06.94-2.06 2.06-.94-2.06-.94-.94-2.06-.94 2.06-2.06.94z\"/><path d=\"M17.41 7.96l-1.37-1.37c-.4-.4-.92-.59-1.43-.59-.52 0-1.04.2-1.43.59L10.3 9.45l-7.72 7.72c-.78.78-.78 2.05 0 2.83L4 21.41c.39.39.9.59 1.41.59.51 0 1.02-.2 1.41-.59l7.78-7.78 2.81-2.81c.8-.78.8-2.07 0-2.86zM5.41 20L4 18.59l7.72-7.72 1.47 1.35L5.41 20z\"/>\n",
              "  </svg>\n",
              "      </button>\n",
              "      \n",
              "  <style>\n",
              "    .colab-df-container {\n",
              "      display:flex;\n",
              "      flex-wrap:wrap;\n",
              "      gap: 12px;\n",
              "    }\n",
              "\n",
              "    .colab-df-convert {\n",
              "      background-color: #E8F0FE;\n",
              "      border: none;\n",
              "      border-radius: 50%;\n",
              "      cursor: pointer;\n",
              "      display: none;\n",
              "      fill: #1967D2;\n",
              "      height: 32px;\n",
              "      padding: 0 0 0 0;\n",
              "      width: 32px;\n",
              "    }\n",
              "\n",
              "    .colab-df-convert:hover {\n",
              "      background-color: #E2EBFA;\n",
              "      box-shadow: 0px 1px 2px rgba(60, 64, 67, 0.3), 0px 1px 3px 1px rgba(60, 64, 67, 0.15);\n",
              "      fill: #174EA6;\n",
              "    }\n",
              "\n",
              "    [theme=dark] .colab-df-convert {\n",
              "      background-color: #3B4455;\n",
              "      fill: #D2E3FC;\n",
              "    }\n",
              "\n",
              "    [theme=dark] .colab-df-convert:hover {\n",
              "      background-color: #434B5C;\n",
              "      box-shadow: 0px 1px 3px 1px rgba(0, 0, 0, 0.15);\n",
              "      filter: drop-shadow(0px 1px 2px rgba(0, 0, 0, 0.3));\n",
              "      fill: #FFFFFF;\n",
              "    }\n",
              "  </style>\n",
              "\n",
              "      <script>\n",
              "        const buttonEl =\n",
              "          document.querySelector('#df-ed530ba8-3be4-462e-a79d-59699462f474 button.colab-df-convert');\n",
              "        buttonEl.style.display =\n",
              "          google.colab.kernel.accessAllowed ? 'block' : 'none';\n",
              "\n",
              "        async function convertToInteractive(key) {\n",
              "          const element = document.querySelector('#df-ed530ba8-3be4-462e-a79d-59699462f474');\n",
              "          const dataTable =\n",
              "            await google.colab.kernel.invokeFunction('convertToInteractive',\n",
              "                                                     [key], {});\n",
              "          if (!dataTable) return;\n",
              "\n",
              "          const docLinkHtml = 'Like what you see? Visit the ' +\n",
              "            '<a target=\"_blank\" href=https://colab.research.google.com/notebooks/data_table.ipynb>data table notebook</a>'\n",
              "            + ' to learn more about interactive tables.';\n",
              "          element.innerHTML = '';\n",
              "          dataTable['output_type'] = 'display_data';\n",
              "          await google.colab.output.renderOutput(dataTable, element);\n",
              "          const docLink = document.createElement('div');\n",
              "          docLink.innerHTML = docLinkHtml;\n",
              "          element.appendChild(docLink);\n",
              "        }\n",
              "      </script>\n",
              "    </div>\n",
              "  </div>\n",
              "  "
            ]
          },
          "metadata": {},
          "execution_count": 99
        }
      ]
    },
    {
      "cell_type": "markdown",
      "source": [
        "*  이진 분류 : Bream(도미) vs. Smelt(빙어)\n",
        "*  독립변수 : Weight, Length"
      ],
      "metadata": {
        "id": "J-gRe9eOmGq9"
      }
    },
    {
      "cell_type": "code",
      "source": [
        "# 데이터 - 물고기의 무게와 길이를 저장한 2차원 배열\n",
        "X = fish.loc[fish.Species.isin(['Bream', 'Smelt']), ['Weight', 'Length']].values"
      ],
      "metadata": {
        "id": "x1v5E9dKmePf"
      },
      "execution_count": null,
      "outputs": []
    },
    {
      "cell_type": "code",
      "source": [
        "X.shape"
      ],
      "metadata": {
        "colab": {
          "base_uri": "https://localhost:8080/"
        },
        "id": "oeDD6JYCnCJ3",
        "outputId": "b9d3932c-6fb6-4b93-c138-0ab069913dad"
      },
      "execution_count": null,
      "outputs": [
        {
          "output_type": "execute_result",
          "data": {
            "text/plain": [
              "(49, 2)"
            ]
          },
          "metadata": {},
          "execution_count": 101
        }
      ]
    },
    {
      "cell_type": "code",
      "source": [
        "X[:5]"
      ],
      "metadata": {
        "colab": {
          "base_uri": "https://localhost:8080/"
        },
        "id": "4iYb0ZqtnDjR",
        "outputId": "fa4d0a9e-7002-4d66-cfea-6c3e204f6be8"
      },
      "execution_count": null,
      "outputs": [
        {
          "output_type": "execute_result",
          "data": {
            "text/plain": [
              "array([[242. ,  25.4],\n",
              "       [290. ,  26.3],\n",
              "       [340. ,  26.5],\n",
              "       [363. ,  29. ],\n",
              "       [430. ,  29. ]])"
            ]
          },
          "metadata": {},
          "execution_count": 102
        }
      ]
    },
    {
      "cell_type": "code",
      "source": [
        "# 타겟(레이블, 종속변수, 관심변수) - 물고기 종류를 저장한 1차원 배열\n",
        "y = fish.loc[fish.Species.isin(['Bream', 'Smelt']), 'Species'].values"
      ],
      "metadata": {
        "id": "uCq2UcuwnXy-"
      },
      "execution_count": null,
      "outputs": []
    },
    {
      "cell_type": "code",
      "source": [
        "y.shape"
      ],
      "metadata": {
        "colab": {
          "base_uri": "https://localhost:8080/"
        },
        "id": "8236_ymKnu_d",
        "outputId": "33c8300c-b511-43ee-a979-0e84eebd9090"
      },
      "execution_count": null,
      "outputs": [
        {
          "output_type": "execute_result",
          "data": {
            "text/plain": [
              "(49,)"
            ]
          },
          "metadata": {},
          "execution_count": 104
        }
      ]
    },
    {
      "cell_type": "code",
      "source": [
        "y[:5]"
      ],
      "metadata": {
        "colab": {
          "base_uri": "https://localhost:8080/"
        },
        "id": "W0BvQ085nwuP",
        "outputId": "b3f086ec-0313-4bea-b044-f8e1690344fe"
      },
      "execution_count": null,
      "outputs": [
        {
          "output_type": "execute_result",
          "data": {
            "text/plain": [
              "array(['Bream', 'Bream', 'Bream', 'Bream', 'Bream'], dtype=object)"
            ]
          },
          "metadata": {},
          "execution_count": 105
        }
      ]
    },
    {
      "cell_type": "markdown",
      "source": [
        "# 훈련 셋 / 테스트 셋 분리"
      ],
      "metadata": {
        "id": "A1KKgHRiqCEB"
      }
    },
    {
      "cell_type": "markdown",
      "source": [
        "## 순차적 추출(Sequential Sampling)"
      ],
      "metadata": {
        "id": "0eVIwOoYtTLH"
      }
    },
    {
      "cell_type": "code",
      "source": [
        "# 훈련 셋과 테스트 셋의 비율을 7:3 비율로 나눔.\n",
        "num_trains = 35 # 훈련 셋의 샘플 개수"
      ],
      "metadata": {
        "id": "Su7P74Y0qFO0"
      },
      "execution_count": null,
      "outputs": []
    },
    {
      "cell_type": "code",
      "source": [
        "X_train = X[:num_trains]\n",
        "X_test = X[num_trains:]\n",
        "y_train = y[:num_trains]\n",
        "y_test = y[num_trains:]"
      ],
      "metadata": {
        "id": "A3y0MSzguwYp"
      },
      "execution_count": null,
      "outputs": []
    },
    {
      "cell_type": "code",
      "source": [
        "np.unique(y_train, return_counts=True)\n",
        "# y_train 배열에서 unique한 값들로 이루어진 배열, unique한 값들의 개수들의 배열"
      ],
      "metadata": {
        "colab": {
          "base_uri": "https://localhost:8080/"
        },
        "id": "10kqtBSnvkLZ",
        "outputId": "7fae95e4-4047-4b49-f190-bc6b3ee38e42"
      },
      "execution_count": null,
      "outputs": [
        {
          "output_type": "execute_result",
          "data": {
            "text/plain": [
              "(array(['Bream'], dtype=object), array([35]))"
            ]
          },
          "metadata": {},
          "execution_count": 108
        }
      ]
    },
    {
      "cell_type": "code",
      "source": [
        "np.unique(y_test, return_counts=True)"
      ],
      "metadata": {
        "colab": {
          "base_uri": "https://localhost:8080/"
        },
        "id": "g2iDWjOtwI2W",
        "outputId": "4831eb81-d477-4c75-df74-2ccc2113831e"
      },
      "execution_count": null,
      "outputs": [
        {
          "output_type": "execute_result",
          "data": {
            "text/plain": [
              "(array(['Smelt'], dtype=object), array([14]))"
            ]
          },
          "metadata": {},
          "execution_count": 109
        }
      ]
    },
    {
      "cell_type": "markdown",
      "source": [
        "특성 행렬(데이터)이 무작위로 섞여있지 않고 물고기 종류에 대해서 정렬된 상태였기 때문에 훈련 셋과 훈련 레이블에는 도미(Bream)만 선택됐고, 테스트 셋과 테스트 레이블에는 빙어(Smelt)만 선택됨. ⇒ **샘플링 편향(Sampling bias)**"
      ],
      "metadata": {
        "id": "nHezoFEiwgY3"
      }
    },
    {
      "cell_type": "markdown",
      "source": [
        "### KNN 모델을 훈련, 평가"
      ],
      "metadata": {
        "id": "NaMIfr9Dw_4e"
      }
    },
    {
      "cell_type": "code",
      "source": [
        "knn = KNeighborsClassifier() # 모델 생성"
      ],
      "metadata": {
        "id": "Qlcs0du7w-9T"
      },
      "execution_count": null,
      "outputs": []
    },
    {
      "cell_type": "code",
      "source": [
        "knn.fit(X_train, y_train) # 모델 훈련"
      ],
      "metadata": {
        "colab": {
          "base_uri": "https://localhost:8080/"
        },
        "id": "Vxg5FbhgxKPj",
        "outputId": "311f8256-1b0b-49e8-a031-07e711baa248"
      },
      "execution_count": null,
      "outputs": [
        {
          "output_type": "execute_result",
          "data": {
            "text/plain": [
              "KNeighborsClassifier()"
            ]
          },
          "metadata": {},
          "execution_count": 111
        }
      ]
    },
    {
      "cell_type": "code",
      "source": [
        "train_acc = knn.score(X_train, y_train) # 훈련 셋에서의 정확도\n",
        "train_acc"
      ],
      "metadata": {
        "colab": {
          "base_uri": "https://localhost:8080/"
        },
        "id": "8m4g4rlxxfFQ",
        "outputId": "e6737b46-555e-4a2d-80c7-ad07cd0c60c5"
      },
      "execution_count": null,
      "outputs": [
        {
          "output_type": "execute_result",
          "data": {
            "text/plain": [
              "1.0"
            ]
          },
          "metadata": {},
          "execution_count": 112
        }
      ]
    },
    {
      "cell_type": "code",
      "source": [
        "test_acc = knn.score(X_test, y_test) # 테스트 셋에서의 정확도\n",
        "test_acc"
      ],
      "metadata": {
        "colab": {
          "base_uri": "https://localhost:8080/"
        },
        "id": "G4IZBoxZxsEX",
        "outputId": "f51760ee-f441-4a79-9eb9-9f8f057b51fb"
      },
      "execution_count": null,
      "outputs": [
        {
          "output_type": "execute_result",
          "data": {
            "text/plain": [
              "0.0"
            ]
          },
          "metadata": {},
          "execution_count": 113
        }
      ]
    },
    {
      "cell_type": "code",
      "source": [
        "knn.predict(X_test)"
      ],
      "metadata": {
        "colab": {
          "base_uri": "https://localhost:8080/"
        },
        "id": "S3Kx4A4DyYpR",
        "outputId": "05b71392-38b6-40f3-acb6-daa3ef4a83d5"
      },
      "execution_count": null,
      "outputs": [
        {
          "output_type": "execute_result",
          "data": {
            "text/plain": [
              "array(['Bream', 'Bream', 'Bream', 'Bream', 'Bream', 'Bream', 'Bream',\n",
              "       'Bream', 'Bream', 'Bream', 'Bream', 'Bream', 'Bream', 'Bream'],\n",
              "      dtype=object)"
            ]
          },
          "metadata": {},
          "execution_count": 114
        }
      ]
    },
    {
      "cell_type": "code",
      "source": [
        "X_train, X_test, y_train, y_test = train_test_split(X, y,\n",
        "                                                    train_size = 35, # 훈련 셋 샘플 개수\n",
        "                                                                     # (정수 : 샘플 개수, 0~1 사이의 실수 : 샘플 비율)\n",
        "                                                    shuffle = False) # 데이터 무작위로 섞을 것인지\n",
        "# Shuffle = False : 순차 추출"
      ],
      "metadata": {
        "id": "2xzarJ5EzigB"
      },
      "execution_count": null,
      "outputs": []
    },
    {
      "cell_type": "code",
      "source": [
        "X_train.shape, X_test.shape, y_train.shape, y_test.shape"
      ],
      "metadata": {
        "colab": {
          "base_uri": "https://localhost:8080/"
        },
        "id": "MOKw8Y8S08dJ",
        "outputId": "4e4c8a0b-1ec6-4592-89b7-0ee0fae6a5f7"
      },
      "execution_count": null,
      "outputs": [
        {
          "output_type": "execute_result",
          "data": {
            "text/plain": [
              "((35, 2), (14, 2), (35,), (14,))"
            ]
          },
          "metadata": {},
          "execution_count": 116
        }
      ]
    },
    {
      "cell_type": "code",
      "source": [
        "np.unique(y_train, return_counts=True)"
      ],
      "metadata": {
        "colab": {
          "base_uri": "https://localhost:8080/"
        },
        "id": "7xU8261e4Ths",
        "outputId": "3b48ec9c-d957-4796-9d2d-8c81cbe467e2"
      },
      "execution_count": null,
      "outputs": [
        {
          "output_type": "execute_result",
          "data": {
            "text/plain": [
              "(array(['Bream'], dtype=object), array([35]))"
            ]
          },
          "metadata": {},
          "execution_count": 117
        }
      ]
    },
    {
      "cell_type": "code",
      "source": [
        "np.unique(y_test, return_counts=True)"
      ],
      "metadata": {
        "colab": {
          "base_uri": "https://localhost:8080/"
        },
        "id": "oUD2k2BC4Y9S",
        "outputId": "bd37f982-bbfd-489d-889b-9bebf27ae34b"
      },
      "execution_count": null,
      "outputs": [
        {
          "output_type": "execute_result",
          "data": {
            "text/plain": [
              "(array(['Smelt'], dtype=object), array([14]))"
            ]
          },
          "metadata": {},
          "execution_count": 118
        }
      ]
    },
    {
      "cell_type": "markdown",
      "source": [
        "## 임의 추출(Random Sampling)"
      ],
      "metadata": {
        "id": "GvXF_wXh2Ukp"
      }
    },
    {
      "cell_type": "code",
      "source": [
        "idx = np.arange(49)\n",
        "print(idx)\n",
        "\n",
        "np.random.seed(1)\n",
        "np.random.shuffle(idx) # 배열 idx를 무작위로 섞음\n",
        "print(idx)"
      ],
      "metadata": {
        "colab": {
          "base_uri": "https://localhost:8080/"
        },
        "id": "Rg306TE_2dyB",
        "outputId": "ddd3f1fd-c55e-4900-ab99-f7ab8632322f"
      },
      "execution_count": null,
      "outputs": [
        {
          "output_type": "stream",
          "name": "stdout",
          "text": [
            "[ 0  1  2  3  4  5  6  7  8  9 10 11 12 13 14 15 16 17 18 19 20 21 22 23\n",
            " 24 25 26 27 28 29 30 31 32 33 34 35 36 37 38 39 40 41 42 43 44 45 46 47\n",
            " 48]\n",
            "[27 34 39 48  2  3 42 29 45 30 31 38 21 35 19 41 36 26 22 13 40 17 44 24\n",
            " 23  4 32 14 10 28 47 33 18 20 25  6  7 46  1 16  0 15  5 11  9  8 12 43\n",
            " 37]\n"
          ]
        }
      ]
    },
    {
      "cell_type": "code",
      "source": [
        "train_idx = idx[:35]\n",
        "print(train_idx)\n",
        "test_idx = idx[35:]\n",
        "print(test_idx)"
      ],
      "metadata": {
        "colab": {
          "base_uri": "https://localhost:8080/"
        },
        "id": "Fk4s7gAE3tUl",
        "outputId": "11c382dc-ab13-4a2a-d937-a2514964dc06"
      },
      "execution_count": null,
      "outputs": [
        {
          "output_type": "stream",
          "name": "stdout",
          "text": [
            "[27 34 39 48  2  3 42 29 45 30 31 38 21 35 19 41 36 26 22 13 40 17 44 24\n",
            " 23  4 32 14 10 28 47 33 18 20 25]\n",
            "[ 6  7 46  1 16  0 15  5 11  9  8 12 43 37]\n"
          ]
        }
      ]
    },
    {
      "cell_type": "code",
      "source": [
        "X_train = X[train_idx] # 훈련 셋\n",
        "y_train = y[train_idx] # 훈련 레이블"
      ],
      "metadata": {
        "id": "3RtjNPlz2nEl"
      },
      "execution_count": null,
      "outputs": []
    },
    {
      "cell_type": "code",
      "source": [
        "np.unique(y_train, return_counts=True)"
      ],
      "metadata": {
        "colab": {
          "base_uri": "https://localhost:8080/"
        },
        "id": "0MxYFADa3BMj",
        "outputId": "05b3bd13-17d5-4bbf-c34c-ae18defcfbae"
      },
      "execution_count": null,
      "outputs": [
        {
          "output_type": "execute_result",
          "data": {
            "text/plain": [
              "(array(['Bream', 'Smelt'], dtype=object), array([24, 11]))"
            ]
          },
          "metadata": {},
          "execution_count": 122
        }
      ]
    },
    {
      "cell_type": "code",
      "source": [
        "X_test = X[test_idx] # 테스트 셋\n",
        "y_test = y[test_idx] # 테스트 레이블"
      ],
      "metadata": {
        "id": "S0umuRL-3FKG"
      },
      "execution_count": null,
      "outputs": []
    },
    {
      "cell_type": "code",
      "source": [
        "np.unique(y_test, return_counts=True)"
      ],
      "metadata": {
        "colab": {
          "base_uri": "https://localhost:8080/"
        },
        "id": "mddsxawi3RxA",
        "outputId": "87f03b0c-3af5-4a74-aceb-98ee424234cd"
      },
      "execution_count": null,
      "outputs": [
        {
          "output_type": "execute_result",
          "data": {
            "text/plain": [
              "(array(['Bream', 'Smelt'], dtype=object), array([11,  3]))"
            ]
          },
          "metadata": {},
          "execution_count": 124
        }
      ]
    },
    {
      "cell_type": "code",
      "source": [
        "X_train, X_test, y_train, y_test = train_test_split(X, y,\n",
        "                                                    train_size = 35,\n",
        "                                                    random_state = 1, # 난수 seed 설정\n",
        "                                                    shuffle = True)   # 임의 추출"
      ],
      "metadata": {
        "id": "lBZawuNn8QYK"
      },
      "execution_count": null,
      "outputs": []
    },
    {
      "cell_type": "code",
      "source": [
        "X_train.shape, X_test.shape, y_train.shape, y_test.shape"
      ],
      "metadata": {
        "colab": {
          "base_uri": "https://localhost:8080/"
        },
        "id": "2VZmBF1-8l5D",
        "outputId": "23f2c826-66c8-41a1-aa9d-bd35d1e8ac10"
      },
      "execution_count": null,
      "outputs": [
        {
          "output_type": "execute_result",
          "data": {
            "text/plain": [
              "((35, 2), (14, 2), (35,), (14,))"
            ]
          },
          "metadata": {},
          "execution_count": 126
        }
      ]
    },
    {
      "cell_type": "code",
      "source": [
        "np.unique(y_train, return_counts=True)"
      ],
      "metadata": {
        "colab": {
          "base_uri": "https://localhost:8080/"
        },
        "id": "vlntTZx38tni",
        "outputId": "adc110c0-57e2-427c-c151-370bb3eef1cf"
      },
      "execution_count": null,
      "outputs": [
        {
          "output_type": "execute_result",
          "data": {
            "text/plain": [
              "(array(['Bream', 'Smelt'], dtype=object), array([27,  8]))"
            ]
          },
          "metadata": {},
          "execution_count": 127
        }
      ]
    },
    {
      "cell_type": "code",
      "source": [
        "np.unique(y_test, return_counts=True)"
      ],
      "metadata": {
        "colab": {
          "base_uri": "https://localhost:8080/"
        },
        "id": "MXmcabZs9DLo",
        "outputId": "eaddb027-434c-4ba1-a5bd-1c439f994def"
      },
      "execution_count": null,
      "outputs": [
        {
          "output_type": "execute_result",
          "data": {
            "text/plain": [
              "(array(['Bream', 'Smelt'], dtype=object), array([8, 6]))"
            ]
          },
          "metadata": {},
          "execution_count": 128
        }
      ]
    },
    {
      "cell_type": "markdown",
      "source": [
        "### 임의 추출 샘플에서 KNN 훈련, 평가"
      ],
      "metadata": {
        "id": "tx308OOt9hxi"
      }
    },
    {
      "cell_type": "code",
      "source": [
        "knn = KNeighborsClassifier() # 모델 생성"
      ],
      "metadata": {
        "id": "MvU7f6Oa9GyM"
      },
      "execution_count": null,
      "outputs": []
    },
    {
      "cell_type": "code",
      "source": [
        "knn.fit(X_train, y_train) # 모델 훈련 - 지도 학습"
      ],
      "metadata": {
        "colab": {
          "base_uri": "https://localhost:8080/"
        },
        "id": "JFRayCV19sDS",
        "outputId": "b01d3516-3e68-4ffd-cecb-5bc0b87aa0fe"
      },
      "execution_count": null,
      "outputs": [
        {
          "output_type": "execute_result",
          "data": {
            "text/plain": [
              "KNeighborsClassifier()"
            ]
          },
          "metadata": {},
          "execution_count": 130
        }
      ]
    },
    {
      "cell_type": "code",
      "source": [
        "knn.score(X_train, y_train) # 훈련 셋에서의 정확도"
      ],
      "metadata": {
        "colab": {
          "base_uri": "https://localhost:8080/"
        },
        "id": "RKswqjN79v72",
        "outputId": "28eb2d82-5c95-45c1-d51e-65e721fc0042"
      },
      "execution_count": null,
      "outputs": [
        {
          "output_type": "execute_result",
          "data": {
            "text/plain": [
              "1.0"
            ]
          },
          "metadata": {},
          "execution_count": 131
        }
      ]
    },
    {
      "cell_type": "code",
      "source": [
        "knn.score(X_test, y_test) # 테스트 셋에서의 정확도"
      ],
      "metadata": {
        "colab": {
          "base_uri": "https://localhost:8080/"
        },
        "id": "d5reBvlP9zER",
        "outputId": "44fdd6e3-a8de-4f27-dc20-fef84a24de43"
      },
      "execution_count": null,
      "outputs": [
        {
          "output_type": "execute_result",
          "data": {
            "text/plain": [
              "1.0"
            ]
          },
          "metadata": {},
          "execution_count": 132
        }
      ]
    },
    {
      "cell_type": "code",
      "source": [
        "# 훈련 셋과 테스트 셋 시각화\n",
        "plt.scatter(X_train[:, 1], X_train[:, 0], label='Train', alpha=0.4)\n",
        "plt.scatter(X_test[:, 1], X_test[:, 0], label='Test', alpha=0.4)\n",
        "\n",
        "plt.legend()\n",
        "plt.xlabel('Length (cm)')\n",
        "plt.ylabel('Weight (g)')\n",
        "plt.show()"
      ],
      "metadata": {
        "colab": {
          "base_uri": "https://localhost:8080/",
          "height": 279
        },
        "id": "c3QFl_HF93Vs",
        "outputId": "eabfc0dc-19ef-4cf2-fe3a-714f8108c388"
      },
      "execution_count": null,
      "outputs": [
        {
          "output_type": "display_data",
          "data": {
            "text/plain": [
              "<Figure size 432x288 with 1 Axes>"
            ],
            "image/png": "[encoded data removed]"
          },
          "metadata": {
            "needs_background": "light"
          }
        }
      ]
    },
    {
      "cell_type": "markdown",
      "source": [
        "### 임의 추출의 문제점"
      ],
      "metadata": {
        "id": "nANeNkpCADxx"
      }
    },
    {
      "cell_type": "code",
      "source": [
        "species, counts = np.unique(y, return_counts=True)\n",
        "print(species)\n",
        "print(counts)"
      ],
      "metadata": {
        "colab": {
          "base_uri": "https://localhost:8080/"
        },
        "id": "fIxxSmKnAFr2",
        "outputId": "13ce486c-186e-4c3c-924a-3bbab63a86c7"
      },
      "execution_count": null,
      "outputs": [
        {
          "output_type": "stream",
          "name": "stdout",
          "text": [
            "['Bream' 'Smelt']\n",
            "[35 14]\n"
          ]
        }
      ]
    },
    {
      "cell_type": "code",
      "source": [
        "counts / 49 # 전체 샘플에서 도미(Bream)와 빙어(Smelt)의 비율"
      ],
      "metadata": {
        "colab": {
          "base_uri": "https://localhost:8080/"
        },
        "id": "l2-O3pzJBAz_",
        "outputId": "9d34fb17-e685-44f5-e8b4-b577799ea11c"
      },
      "execution_count": null,
      "outputs": [
        {
          "output_type": "execute_result",
          "data": {
            "text/plain": [
              "array([0.71428571, 0.28571429])"
            ]
          },
          "metadata": {},
          "execution_count": 135
        }
      ]
    },
    {
      "cell_type": "code",
      "source": [
        "tr_species, tr_counts = np.unique(y_train, return_counts=True)\n",
        "print(tr_species)\n",
        "print(tr_counts)"
      ],
      "metadata": {
        "colab": {
          "base_uri": "https://localhost:8080/"
        },
        "id": "8l-dUGQoAa64",
        "outputId": "17de6470-289e-4716-b08e-0cc5bdcee027"
      },
      "execution_count": null,
      "outputs": [
        {
          "output_type": "stream",
          "name": "stdout",
          "text": [
            "['Bream' 'Smelt']\n",
            "[27  8]\n"
          ]
        }
      ]
    },
    {
      "cell_type": "code",
      "source": [
        "tr_counts / 35 # 훈련 셋에서 도미(Bream)와 빙어(Smelt)의 비율"
      ],
      "metadata": {
        "colab": {
          "base_uri": "https://localhost:8080/"
        },
        "id": "rv9otmN0Arrv",
        "outputId": "4fc8c3c2-1225-4b81-d9e5-20efab9ce549"
      },
      "execution_count": null,
      "outputs": [
        {
          "output_type": "execute_result",
          "data": {
            "text/plain": [
              "array([0.77142857, 0.22857143])"
            ]
          },
          "metadata": {},
          "execution_count": 137
        }
      ]
    },
    {
      "cell_type": "code",
      "source": [
        "te_species, te_counts = np.unique(y_test, return_counts=True)\n",
        "print(te_species)\n",
        "print(te_counts)"
      ],
      "metadata": {
        "colab": {
          "base_uri": "https://localhost:8080/"
        },
        "id": "rt3dCO5EAjMG",
        "outputId": "bbb3ba36-1254-4993-df88-8ad06982193e"
      },
      "execution_count": null,
      "outputs": [
        {
          "output_type": "stream",
          "name": "stdout",
          "text": [
            "['Bream' 'Smelt']\n",
            "[8 6]\n"
          ]
        }
      ]
    },
    {
      "cell_type": "code",
      "source": [
        "te_counts / 14 # 테스트 셋에서 도미(Bream)와 빙어(Smelt)의 비율"
      ],
      "metadata": {
        "colab": {
          "base_uri": "https://localhost:8080/"
        },
        "id": "wHVjUT5ZBaGc",
        "outputId": "edd2acf3-27c4-454d-f863-4c819143dccd"
      },
      "execution_count": null,
      "outputs": [
        {
          "output_type": "execute_result",
          "data": {
            "text/plain": [
              "array([0.57142857, 0.42857143])"
            ]
          },
          "metadata": {},
          "execution_count": 139
        }
      ]
    },
    {
      "cell_type": "markdown",
      "source": [
        "임의 추출에서는 전체 샘플에서 각 클래스(도미, 빙어)의 비율이 훈련 셋과 테스트 셋에서 유지되지 않을 수도 있음.\n",
        "\n",
        "그런 경우, 머신 러닝의 성능이 안 좋아질 수 있음.\n",
        "\n",
        "전체 샘플에서 각 클래스의 비율이 훈련 셋과 테스트 셋에서도 비슷하게 유지되도록 샘플링하는 것이 중요."
      ],
      "metadata": {
        "id": "S8ZmPVitCvuW"
      }
    },
    {
      "cell_type": "markdown",
      "source": [
        "## 층화 추출(Stratified Sampling)"
      ],
      "metadata": {
        "id": "REG--95DC_T7"
      }
    },
    {
      "cell_type": "code",
      "source": [
        "X_train, X_test, y_train, y_test = train_test_split(X, y,\n",
        "                                                    test_size = 0.3,\n",
        "                                                    random_state = 1,\n",
        "                                                    shuffle=True,\n",
        "                                                    stratify=y)\n",
        "# train_test_split 함수의 파라미터 :\n",
        "#   X, y : 훈련 / 테스트로 나눌 배열들\n",
        "#   test_size : 정수이면 테스트 셋의 샘플 개수, 0~1 사이의 실수이면 테스트 셋의 비율\n",
        "#   train_size : 정수이면 훈련 셋의 샘플 개수, 0~1 사이의 실수이면 훈련 셋의 비율\n",
        "#   (test_size 또는 train_size 둘 중 하나가 결정되면 나머지 하나는 자동으로 계산됨)\n",
        "#   shuffle : True이면 샘플들을 무작위로 섞음(Default) / False이면 샘플을 섞지 않음(순차적 추출)\n",
        "#   stratify : 층화추출의 기본이 되는 (각 클래스의 비율을 알 수 있는) 1차원 배열\n",
        "#   random_state : 난수 seed 설정값"
      ],
      "metadata": {
        "id": "eTBQUW_PC-PO"
      },
      "execution_count": null,
      "outputs": []
    },
    {
      "cell_type": "code",
      "source": [
        "X_train.shape, X_test.shape, y_train.shape, y_test.shape"
      ],
      "metadata": {
        "colab": {
          "base_uri": "https://localhost:8080/"
        },
        "id": "pveLRtxLD1Rw",
        "outputId": "7c704cd5-4b09-461f-a280-525f7d226a47"
      },
      "execution_count": null,
      "outputs": [
        {
          "output_type": "execute_result",
          "data": {
            "text/plain": [
              "((34, 2), (15, 2), (34,), (15,))"
            ]
          },
          "metadata": {},
          "execution_count": 141
        }
      ]
    },
    {
      "cell_type": "code",
      "source": [
        "tr_species, tr_counts = np.unique(y_train, return_counts=True)\n",
        "print(tr_species)\n",
        "print(tr_counts)"
      ],
      "metadata": {
        "colab": {
          "base_uri": "https://localhost:8080/"
        },
        "id": "b3U-feDkD6Ix",
        "outputId": "7d2f59a6-96fd-4912-a056-345f0eeaf6af"
      },
      "execution_count": null,
      "outputs": [
        {
          "output_type": "stream",
          "name": "stdout",
          "text": [
            "['Bream' 'Smelt']\n",
            "[24 10]\n"
          ]
        }
      ]
    },
    {
      "cell_type": "code",
      "source": [
        "tr_counts / 34"
      ],
      "metadata": {
        "colab": {
          "base_uri": "https://localhost:8080/"
        },
        "id": "r7_lzuUaEO_a",
        "outputId": "ccc5ce37-4231-4843-99e5-34dba4d60ffd"
      },
      "execution_count": null,
      "outputs": [
        {
          "output_type": "execute_result",
          "data": {
            "text/plain": [
              "array([0.70588235, 0.29411765])"
            ]
          },
          "metadata": {},
          "execution_count": 143
        }
      ]
    },
    {
      "cell_type": "code",
      "source": [
        "te_species, te_counts = np.unique(y_test, return_counts=True)\n",
        "print(te_species)\n",
        "print(te_counts)"
      ],
      "metadata": {
        "colab": {
          "base_uri": "https://localhost:8080/"
        },
        "id": "im46h9uSELxL",
        "outputId": "30900edb-8c32-48c2-e490-b05a47147552"
      },
      "execution_count": null,
      "outputs": [
        {
          "output_type": "stream",
          "name": "stdout",
          "text": [
            "['Bream' 'Smelt']\n",
            "[11  4]\n"
          ]
        }
      ]
    },
    {
      "cell_type": "code",
      "source": [
        "te_counts / 15"
      ],
      "metadata": {
        "colab": {
          "base_uri": "https://localhost:8080/"
        },
        "id": "XAk_foqEER7P",
        "outputId": "4e766e22-b20f-4533-9c13-34c8c23f3797"
      },
      "execution_count": null,
      "outputs": [
        {
          "output_type": "execute_result",
          "data": {
            "text/plain": [
              "array([0.73333333, 0.26666667])"
            ]
          },
          "metadata": {},
          "execution_count": 145
        }
      ]
    },
    {
      "cell_type": "markdown",
      "source": [
        "### 층화 추출 샘플에서 KNN 훈련, 평가"
      ],
      "metadata": {
        "id": "RFN61QQsYuwo"
      }
    },
    {
      "cell_type": "code",
      "source": [
        "knn = KNeighborsClassifier() # 모델 생성"
      ],
      "metadata": {
        "id": "7NO7vVASYujG"
      },
      "execution_count": null,
      "outputs": []
    },
    {
      "cell_type": "code",
      "source": [
        "knn.fit(X_train, y_train) # 모델 훈련"
      ],
      "metadata": {
        "colab": {
          "base_uri": "https://localhost:8080/"
        },
        "id": "GG7O6bQsY2_Q",
        "outputId": "83bf4d5a-756a-424e-c993-053ef53f0199"
      },
      "execution_count": null,
      "outputs": [
        {
          "output_type": "execute_result",
          "data": {
            "text/plain": [
              "KNeighborsClassifier()"
            ]
          },
          "metadata": {},
          "execution_count": 147
        }
      ]
    },
    {
      "cell_type": "code",
      "source": [
        "knn.score(X_train, y_train) # 훈련 셋에서의 정확도"
      ],
      "metadata": {
        "colab": {
          "base_uri": "https://localhost:8080/"
        },
        "id": "-OfPpP_WY6vN",
        "outputId": "be03a3ac-fe7d-47e6-f95d-03e34709acbe"
      },
      "execution_count": null,
      "outputs": [
        {
          "output_type": "execute_result",
          "data": {
            "text/plain": [
              "1.0"
            ]
          },
          "metadata": {},
          "execution_count": 148
        }
      ]
    },
    {
      "cell_type": "code",
      "source": [
        "knn.score(X_test, y_test) # 테스트 셋에서의 정확도"
      ],
      "metadata": {
        "colab": {
          "base_uri": "https://localhost:8080/"
        },
        "id": "2StuTo9lZBWn",
        "outputId": "8c96daf2-8dc0-42a9-a28d-4e209fda9535"
      },
      "execution_count": null,
      "outputs": [
        {
          "output_type": "execute_result",
          "data": {
            "text/plain": [
              "1.0"
            ]
          },
          "metadata": {},
          "execution_count": 149
        }
      ]
    },
    {
      "cell_type": "markdown",
      "source": [
        "# 분류 평가 지표"
      ],
      "metadata": {
        "id": "WOBReQjYZtHj"
      }
    },
    {
      "cell_type": "code",
      "source": [
        "test_pred = knn.predict(X_test)     # 테스트 셋의 예측값\n",
        "confusion_matrix(y_test, test_pred) # 테스트 셋에서의 오차 행렬(혼동 행렬)"
      ],
      "metadata": {
        "colab": {
          "base_uri": "https://localhost:8080/"
        },
        "id": "sjCsDpyVZu79",
        "outputId": "69b6a10c-ad10-41d6-93fc-89cdaed48b4e"
      },
      "execution_count": null,
      "outputs": [
        {
          "output_type": "execute_result",
          "data": {
            "text/plain": [
              "array([[11,  0],\n",
              "       [ 0,  4]])"
            ]
          },
          "metadata": {},
          "execution_count": 150
        }
      ]
    },
    {
      "cell_type": "markdown",
      "source": [
        "__분류 평가 지표(Classification Metrics)__\n",
        "\n",
        "* 용어 정리\n",
        "    * TP(True-Positive, 진짜 양성) : 실제 양성인 것을 양성으로 맞게 예측한 것.\n",
        "    * FN(False-Negative, 가짜 음성) : 실제 양성인 것을 음성으로 틀리게 예측한 것.\n",
        "    * FP(False-Positive, 가짜 양성) : 실제 음성인 것을 양성으로 틀리게 예측한 것.\n",
        "    * TN(True-Negative, 진짜 음성) : 실제 음성인 것을 음성으로 맞게 예측한 것.\n",
        "\n",
        "* 정확도(Accuracy) : 샘플들을 정확하게 분류한 비율. 전체 샘플들 중에서 정답의 비율.\n",
        "> Accuracy : (TP + TN) / (TP + FN + FP + TN)\n",
        "\n",
        "* 정밀도(Precision) : 양성 예측들 중에서 정답의 비율.\n",
        "> Precision : TP / (TP + FP)\n",
        "\n",
        "* 재현율(Recall) : 실제 양성 샘플들 중에서 정답의 비율.\n",
        "> Recall : TP / (TP + FN)\n",
        "\n",
        "* F1-Score : 정밀도와 재현율의 조화 평균(역수들의 평균의 역수)\n",
        "> F1-Score : $ \\frac{2}{\\frac{1}{Precision} + \\frac{1}{Recall}} = 2 \\times \\frac{Precision \\times Recall}{Precision + Recall}$"
      ],
      "metadata": {
        "id": "io2H9zSbbweN"
      }
    },
    {
      "cell_type": "code",
      "source": [
        "clf_report = classification_report(y_test, test_pred)\n",
        "print(clf_report)"
      ],
      "metadata": {
        "colab": {
          "base_uri": "https://localhost:8080/"
        },
        "id": "tytezFeDaOVB",
        "outputId": "63c9c726-c3c3-47db-acff-bed1349a086a"
      },
      "execution_count": null,
      "outputs": [
        {
          "output_type": "stream",
          "name": "stdout",
          "text": [
            "              precision    recall  f1-score   support\n",
            "\n",
            "       Bream       1.00      1.00      1.00        11\n",
            "       Smelt       1.00      1.00      1.00         4\n",
            "\n",
            "    accuracy                           1.00        15\n",
            "   macro avg       1.00      1.00      1.00        15\n",
            "weighted avg       1.00      1.00      1.00        15\n",
            "\n"
          ]
        }
      ]
    },
    {
      "cell_type": "code",
      "source": [
        "precision_score(y_test, test_pred, pos_label='Bream')\n",
        "# pos_label : positive(양성)로 취급할 레이블."
      ],
      "metadata": {
        "colab": {
          "base_uri": "https://localhost:8080/"
        },
        "id": "-Qo5gDWGmejG",
        "outputId": "10b611d0-3aab-4af1-afa6-abe6178710af"
      },
      "execution_count": null,
      "outputs": [
        {
          "output_type": "execute_result",
          "data": {
            "text/plain": [
              "1.0"
            ]
          },
          "metadata": {},
          "execution_count": 152
        }
      ]
    },
    {
      "cell_type": "code",
      "source": [
        "precision_score(y_test, test_pred, pos_label='Smelt')"
      ],
      "metadata": {
        "colab": {
          "base_uri": "https://localhost:8080/"
        },
        "id": "pHW-WfHBoCWg",
        "outputId": "a6bf3f12-266c-4cc7-d212-03803832f6e5"
      },
      "execution_count": null,
      "outputs": [
        {
          "output_type": "execute_result",
          "data": {
            "text/plain": [
              "1.0"
            ]
          },
          "metadata": {},
          "execution_count": 153
        }
      ]
    },
    {
      "cell_type": "markdown",
      "source": [
        "# 특성 스케일링(Feature Scaling)"
      ],
      "metadata": {
        "id": "HrLcXYOpqEaN"
      }
    },
    {
      "cell_type": "code",
      "source": [
        "# 훈련 셋(X_train)을 시각화\n",
        "plt.scatter(X_train[:, 1], X_train[:, 0], label='Train')\n",
        "\n",
        "# 가상의 물고기 데이터 (150g, 25cm)\n",
        "unknown = [[150, 25]]\n",
        "plt.scatter(25, 150, label='Unknown', marker='v')\n",
        "\n",
        "plt.xlabel('Length (cm)')\n",
        "plt.ylabel('Weight (g)')\n",
        "plt.legend()\n",
        "plt.show()"
      ],
      "metadata": {
        "colab": {
          "base_uri": "https://localhost:8080/",
          "height": 279
        },
        "id": "IjXycADdqIeh",
        "outputId": "c0568686-22a9-454f-8603-ce10a11b8a95"
      },
      "execution_count": null,
      "outputs": [
        {
          "output_type": "display_data",
          "data": {
            "text/plain": [
              "<Figure size 432x288 with 1 Axes>"
            ],
            "image/png": "[encoded data removed]"
          },
          "metadata": {
            "needs_background": "light"
          }
        }
      ]
    },
    {
      "cell_type": "code",
      "source": [
        "# 가상의 물고기 \n",
        "knn.predict(unknown)"
      ],
      "metadata": {
        "colab": {
          "base_uri": "https://localhost:8080/"
        },
        "id": "YXgRhDnirjxQ",
        "outputId": "50e67c1b-1962-4ce5-9a81-76bfa615e287"
      },
      "execution_count": null,
      "outputs": [
        {
          "output_type": "execute_result",
          "data": {
            "text/plain": [
              "array(['Smelt'], dtype=object)"
            ]
          },
          "metadata": {},
          "execution_count": 155
        }
      ]
    },
    {
      "cell_type": "code",
      "source": [
        "neighbor_index = knn.kneighbors(unknown, return_distance=False)\n",
        "neighbor_index"
      ],
      "metadata": {
        "colab": {
          "base_uri": "https://localhost:8080/"
        },
        "id": "s4uRHVXctWUJ",
        "outputId": "d4fbed40-c72d-4e32-d7ef-02fce9eb91aa"
      },
      "execution_count": null,
      "outputs": [
        {
          "output_type": "execute_result",
          "data": {
            "text/plain": [
              "array([[ 7,  5, 15, 26,  2]])"
            ]
          },
          "metadata": {},
          "execution_count": 156
        }
      ]
    },
    {
      "cell_type": "code",
      "source": [
        "y_train[neighbor_index[0]]"
      ],
      "metadata": {
        "colab": {
          "base_uri": "https://localhost:8080/"
        },
        "id": "7rJ7Zs1xteLj",
        "outputId": "f06374ea-d766-4ca3-d35e-864e97525685"
      },
      "execution_count": null,
      "outputs": [
        {
          "output_type": "execute_result",
          "data": {
            "text/plain": [
              "array(['Smelt', 'Smelt', 'Smelt', 'Smelt', 'Smelt'], dtype=object)"
            ]
          },
          "metadata": {},
          "execution_count": 157
        }
      ]
    },
    {
      "cell_type": "markdown",
      "source": [
        "*  생선의 두 특성(길이, 무게)는 서로 단위(cm, g)가 다르기 때문에, 값의 범위도 매우 다름.\n",
        "    * 길이 범위: 0 ~ 50 cm, 무게 범위: 0 ~ 1,000 g\n",
        "    * 특성(변수)들의 스케일이 다름!\n",
        "    * 가장 가까운 이웃을 찾기 위해서 거리를 계산할 때, 생선의 길이가 거리에 미치는 영향은 생선의 무게가 거리에 미치는 영향에 비해 작음.\n",
        "    * 예측을 할 때 거리 계산에 영향이 적은 변수(특성)는 무시되기 쉬움.\n",
        "    * 예측 결과가 부정확해 질 수 있음.\n",
        "    * 따라서, 모든 특성(변수)들이 거리 계산에 비슷한 영향을 미칠 수 있도록 스케일을 변환할 필요가 있음.\n",
        "* KNN과 같이 거리 기반의 머신 러닝 알고리즘에서는, 모델을 훈련하기 전에 모든 특성(변수)들을 비슷한 스케일이 되도록 전처리(preprocessing)를 할 필요가 있음!\n",
        "    * __표준화(standardization)__: *훈련 셋*의 평균과 표준편차를 사용해서, 평균이 0이 되고 표준편차가 1이 되도록 스케일을 변환하는 것.\n",
        "    * __정규화(normalization)__: *훈련 셋*의 최솟값과 최댓값을 사용해서, 최솟값은 0이 되고 최댓값은 1이 되도록 스케일을 변환하는 것."
      ],
      "metadata": {
        "id": "IAEUEMxByxYP"
      }
    },
    {
      "cell_type": "markdown",
      "source": [
        "## 표준화"
      ],
      "metadata": {
        "id": "2Cp9HRMb0Gny"
      }
    },
    {
      "cell_type": "code",
      "source": [
        "std_scaler = StandardScaler() # 표준화 특성 스케일 변환기 생성"
      ],
      "metadata": {
        "id": "fIC2tsc10F3t"
      },
      "execution_count": null,
      "outputs": []
    },
    {
      "cell_type": "code",
      "source": [
        "std_scaler.fit(X_train) # 훈련 셋의 평균과 표준편차를 찾음"
      ],
      "metadata": {
        "colab": {
          "base_uri": "https://localhost:8080/"
        },
        "id": "OcQdtsFV1WRq",
        "outputId": "546f8c5f-19e7-470f-8536-382d14afe5e8"
      },
      "execution_count": null,
      "outputs": [
        {
          "output_type": "execute_result",
          "data": {
            "text/plain": [
              "StandardScaler()"
            ]
          },
          "metadata": {},
          "execution_count": 159
        }
      ]
    },
    {
      "cell_type": "code",
      "source": [
        "std_scaler.mean_ # [X_train Weigth 평균, X_train Length 평균]"
      ],
      "metadata": {
        "colab": {
          "base_uri": "https://localhost:8080/"
        },
        "id": "ybZqsFru1fL2",
        "outputId": "bdaed969-2a1b-4899-d908-f3498b43b5aa"
      },
      "execution_count": null,
      "outputs": [
        {
          "output_type": "execute_result",
          "data": {
            "text/plain": [
              "array([475.36470588,  27.59705882])"
            ]
          },
          "metadata": {},
          "execution_count": 160
        }
      ]
    },
    {
      "cell_type": "code",
      "source": [
        "std_scaler.var_ # [X_train Weigth 분산, X_train Length 분산]"
      ],
      "metadata": {
        "colab": {
          "base_uri": "https://localhost:8080/"
        },
        "id": "1PuZFRj92XYn",
        "outputId": "8ddcce18-088a-4158-e94d-20721b6ebd98"
      },
      "execution_count": null,
      "outputs": [
        {
          "output_type": "execute_result",
          "data": {
            "text/plain": [
              "array([1.16589375e+05, 1.10007344e+02])"
            ]
          },
          "metadata": {},
          "execution_count": 161
        }
      ]
    },
    {
      "cell_type": "code",
      "source": [
        "np.mean(X_train, axis=0)"
      ],
      "metadata": {
        "colab": {
          "base_uri": "https://localhost:8080/"
        },
        "id": "f96apPjB2pCD",
        "outputId": "ec2714a2-b95c-424f-8763-f0c0944e6909"
      },
      "execution_count": null,
      "outputs": [
        {
          "output_type": "execute_result",
          "data": {
            "text/plain": [
              "array([475.36470588,  27.59705882])"
            ]
          },
          "metadata": {},
          "execution_count": 162
        }
      ]
    },
    {
      "cell_type": "code",
      "source": [
        "np.var(X_train, axis=0)"
      ],
      "metadata": {
        "colab": {
          "base_uri": "https://localhost:8080/"
        },
        "id": "-KDEA3y624FF",
        "outputId": "e540dc3f-bd02-4385-dc7c-1e613d50e897"
      },
      "execution_count": null,
      "outputs": [
        {
          "output_type": "execute_result",
          "data": {
            "text/plain": [
              "array([1.16589375e+05, 1.10007344e+02])"
            ]
          },
          "metadata": {},
          "execution_count": 163
        }
      ]
    },
    {
      "cell_type": "code",
      "source": [
        "X_train_std = std_scaler.transform(X_train) # 훈련 셋을 표준화"
      ],
      "metadata": {
        "id": "hA65mnEn3M73"
      },
      "execution_count": null,
      "outputs": []
    },
    {
      "cell_type": "code",
      "source": [
        "X_train[:5]"
      ],
      "metadata": {
        "colab": {
          "base_uri": "https://localhost:8080/"
        },
        "id": "Gx4FoLWb3YaH",
        "outputId": "b738c332-e312-4b4b-99ea-71d5e3eface6"
      },
      "execution_count": null,
      "outputs": [
        {
          "output_type": "execute_result",
          "data": {
            "text/plain": [
              "array([[  8.7,  11.3],\n",
              "       [500. ,  29.7],\n",
              "       [  9.9,  11.8],\n",
              "       [850. ,  36. ],\n",
              "       [  7. ,  10.6]])"
            ]
          },
          "metadata": {},
          "execution_count": 165
        }
      ]
    },
    {
      "cell_type": "code",
      "source": [
        "X_train_std[:5]"
      ],
      "metadata": {
        "colab": {
          "base_uri": "https://localhost:8080/"
        },
        "id": "Sd0Qj3oZ3bpp",
        "outputId": "4aa12ce3-3935-4da2-9e42-715233f5841b"
      },
      "execution_count": null,
      "outputs": [
        {
          "output_type": "execute_result",
          "data": {
            "text/plain": [
              "array([[-1.36670716, -1.55381172],\n",
              "       [ 0.07214866,  0.20050088],\n",
              "       [-1.36319275, -1.50614018],\n",
              "       [ 1.09718333,  0.80116226],\n",
              "       [-1.3716859 , -1.62055187]])"
            ]
          },
          "metadata": {},
          "execution_count": 166
        }
      ]
    },
    {
      "cell_type": "code",
      "source": [
        "# (훈련 셋에서 찾은 평균과 표준편차를 사용해서) 테스트 셋을 스케일링\n",
        "X_test_std = std_scaler.transform(X_test)"
      ],
      "metadata": {
        "id": "UwCiUuyC38PZ"
      },
      "execution_count": null,
      "outputs": []
    },
    {
      "cell_type": "code",
      "source": [
        "X_test[:5]"
      ],
      "metadata": {
        "colab": {
          "base_uri": "https://localhost:8080/"
        },
        "id": "gdtTAsR84aSY",
        "outputId": "8a835246-cf3b-4599-a4ee-61a9aafa8d5a"
      },
      "execution_count": null,
      "outputs": [
        {
          "output_type": "execute_result",
          "data": {
            "text/plain": [
              "array([[  6.7,   9.8],\n",
              "       [ 19.7,  14.3],\n",
              "       [  7.5,  10.5],\n",
              "       [600. ,  32. ],\n",
              "       [500. ,  31.5]])"
            ]
          },
          "metadata": {},
          "execution_count": 168
        }
      ]
    },
    {
      "cell_type": "code",
      "source": [
        "X_test_std[:5]"
      ],
      "metadata": {
        "colab": {
          "base_uri": "https://localhost:8080/"
        },
        "id": "d6HLsm1a4c3T",
        "outputId": "e1a7037a-922c-4da1-eaa8-2cf1f295fea9"
      },
      "execution_count": null,
      "outputs": [
        {
          "output_type": "execute_result",
          "data": {
            "text/plain": [
              "array([[-1.3725645 , -1.69682633],\n",
              "       [-1.33449178, -1.26778249],\n",
              "       [-1.37022156, -1.63008618],\n",
              "       [ 0.36501571,  0.41978996],\n",
              "       [ 0.07214866,  0.37211842]])"
            ]
          },
          "metadata": {},
          "execution_count": 169
        }
      ]
    },
    {
      "cell_type": "code",
      "source": [
        "std_scaler.fit_transform(X_train)\n",
        "# (1) std_scaler.fit(X_train)\n",
        "# (2) std_scaler.transform(X_train) 동시에 적용하는 메서드.\n",
        "# fit_transform() 메서드는 훈련 셋에서만 사용해야 함.\n",
        "# 테스트 셋에서는 transform() 메서드만 사용해야 함."
      ],
      "metadata": {
        "colab": {
          "base_uri": "https://localhost:8080/"
        },
        "id": "SomCryKu5Dnc",
        "outputId": "fe63099f-e86c-4397-86b6-82246685791d"
      },
      "execution_count": null,
      "outputs": [
        {
          "output_type": "execute_result",
          "data": {
            "text/plain": [
              "array([[-1.36670716e+00, -1.55381172e+00],\n",
              "       [ 7.21486591e-02,  2.00500881e-01],\n",
              "       [-1.36319275e+00, -1.50614018e+00],\n",
              "       [ 1.09718333e+00,  8.01162260e-01],\n",
              "       [-1.37168590e+00, -1.62055187e+00],\n",
              "       [-1.35294241e+00, -1.44893434e+00],\n",
              "       [ 5.11449234e-01,  5.62804570e-01],\n",
              "       [-1.33390605e+00, -1.20104234e+00],\n",
              "       [ 7.16456169e-01,  7.05819184e-01],\n",
              "       [ 5.99309349e-01,  7.05819184e-01],\n",
              "       [ 6.57882759e-01,  5.15133032e-01],\n",
              "       [-3.96438621e-01,  4.19789956e-01],\n",
              "       [ 6.98884146e-01,  8.01162260e-01],\n",
              "       [-3.29079199e-01,  1.33760727e-01],\n",
              "       [ 6.13952701e-01,  6.10476108e-01],\n",
              "       [-1.35645681e+00, -1.39172849e+00],\n",
              "       [ 3.65015709e-01,  4.19789956e-01],\n",
              "       [ 7.31099521e-01,  7.05819184e-01],\n",
              "       [ 1.31683362e+00,  1.13486303e+00],\n",
              "       [ 1.30219027e+00,  1.03951995e+00],\n",
              "       [-3.96438621e-01, -1.04596963e-01],\n",
              "       [-1.06810336e-03,  3.24446880e-01],\n",
              "       [ 2.91798947e-01,  6.10476108e-01],\n",
              "       [-1.32858276e-01,  1.33760727e-01],\n",
              "       [ 6.57882759e-01,  7.05819184e-01],\n",
              "       [-1.36377849e+00, -1.58241464e+00],\n",
              "       [-1.36289989e+00, -1.50614018e+00],\n",
              "       [ 1.46326715e+00,  1.27787764e+00],\n",
              "       [-1.36348562e+00, -1.48707157e+00],\n",
              "       [-1.36348562e+00, -1.56334603e+00],\n",
              "       [ 1.40469374e+00,  1.03951995e+00],\n",
              "       [ 3.94302414e-01,  5.62804570e-01],\n",
              "       [ 4.23589119e-01,  6.58147646e-01],\n",
              "       [ 1.53648391e+00,  8.96505336e-01]])"
            ]
          },
          "metadata": {},
          "execution_count": 170
        }
      ]
    },
    {
      "cell_type": "markdown",
      "source": [
        "scikit-learn 클래스 :\n",
        "* 예측기(Estimator)\n",
        "    * 머신 러닝 모델 : `e.g.` KNeighborsClassifier\n",
        "    * 생성자 호출 → fit(훈련 셋) → predict(예측)\n",
        "* 변환기(Transformer)\n",
        "    * 전처리 : `e.g.` StandardScaler\n",
        "    * 생성자 호출 → fit(훈련 셋) → transform(변환)"
      ],
      "metadata": {
        "id": "E8DJtyck7ASj"
      }
    },
    {
      "cell_type": "markdown",
      "source": [
        "### 스케일링된 훈련 셋으로 모델 훈련"
      ],
      "metadata": {
        "id": "ReJDiP8w8Xu3"
      }
    },
    {
      "cell_type": "code",
      "source": [
        "knn = KNeighborsClassifier() # 모델 생성"
      ],
      "metadata": {
        "id": "SBsd4c856_r3"
      },
      "execution_count": null,
      "outputs": []
    },
    {
      "cell_type": "code",
      "source": [
        "knn.fit(X_train_std, y_train) # 모델 훈련"
      ],
      "metadata": {
        "colab": {
          "base_uri": "https://localhost:8080/"
        },
        "id": "PVXuFvHy8elL",
        "outputId": "b2029cdd-04f9-4ae5-9e5e-590d04f351ef"
      },
      "execution_count": null,
      "outputs": [
        {
          "output_type": "execute_result",
          "data": {
            "text/plain": [
              "KNeighborsClassifier()"
            ]
          },
          "metadata": {},
          "execution_count": 172
        }
      ]
    },
    {
      "cell_type": "code",
      "source": [
        "train_pred = knn.predict(X_train_std) # 스케일링된 훈련 셋의 예측값\n",
        "train_pred"
      ],
      "metadata": {
        "colab": {
          "base_uri": "https://localhost:8080/"
        },
        "id": "2f7ZqGka8isw",
        "outputId": "49ef532d-f69b-47bd-8711-fd4b4c6444c0"
      },
      "execution_count": null,
      "outputs": [
        {
          "output_type": "execute_result",
          "data": {
            "text/plain": [
              "array(['Smelt', 'Bream', 'Smelt', 'Bream', 'Smelt', 'Smelt', 'Bream',\n",
              "       'Smelt', 'Bream', 'Bream', 'Bream', 'Bream', 'Bream', 'Bream',\n",
              "       'Bream', 'Smelt', 'Bream', 'Bream', 'Bream', 'Bream', 'Bream',\n",
              "       'Bream', 'Bream', 'Bream', 'Bream', 'Smelt', 'Smelt', 'Bream',\n",
              "       'Smelt', 'Smelt', 'Bream', 'Bream', 'Bream', 'Bream'], dtype=object)"
            ]
          },
          "metadata": {},
          "execution_count": 173
        }
      ]
    },
    {
      "cell_type": "code",
      "source": [
        "test_pred = knn.predict(X_test_std)\n",
        "test_pred"
      ],
      "metadata": {
        "colab": {
          "base_uri": "https://localhost:8080/"
        },
        "id": "QZpbvQpC8uPf",
        "outputId": "b4a2dfc2-6c2f-43c4-97b1-835efb847b1d"
      },
      "execution_count": null,
      "outputs": [
        {
          "output_type": "execute_result",
          "data": {
            "text/plain": [
              "array(['Smelt', 'Smelt', 'Smelt', 'Bream', 'Bream', 'Bream', 'Smelt',\n",
              "       'Bream', 'Bream', 'Bream', 'Bream', 'Bream', 'Bream', 'Bream',\n",
              "       'Bream'], dtype=object)"
            ]
          },
          "metadata": {},
          "execution_count": 174
        }
      ]
    },
    {
      "cell_type": "code",
      "source": [
        "knn.score(X_train_std, y_train)"
      ],
      "metadata": {
        "colab": {
          "base_uri": "https://localhost:8080/"
        },
        "id": "ri43EyiF85jT",
        "outputId": "f89fc687-a1c0-426d-ea39-7f7df6819e5b"
      },
      "execution_count": null,
      "outputs": [
        {
          "output_type": "execute_result",
          "data": {
            "text/plain": [
              "1.0"
            ]
          },
          "metadata": {},
          "execution_count": 175
        }
      ]
    },
    {
      "cell_type": "code",
      "source": [
        "knn.score(X_test_std, y_test)"
      ],
      "metadata": {
        "colab": {
          "base_uri": "https://localhost:8080/"
        },
        "id": "Ytj8Qw3YCq9O",
        "outputId": "e0fe8473-b0b2-4cbb-fd4b-38624f62e040"
      },
      "execution_count": null,
      "outputs": [
        {
          "output_type": "execute_result",
          "data": {
            "text/plain": [
              "1.0"
            ]
          },
          "metadata": {},
          "execution_count": 176
        }
      ]
    },
    {
      "cell_type": "code",
      "source": [
        "# 150g, 25cm인 가상의 물고기의 스케일 변환\n",
        "unknown_std = std_scaler.transform(unknown)\n",
        "unknown_std"
      ],
      "metadata": {
        "colab": {
          "base_uri": "https://localhost:8080/"
        },
        "id": "C6463VdWCtYC",
        "outputId": "5a4cdf40-54d7-4447-9ccd-80b9d3502ce1"
      },
      "execution_count": null,
      "outputs": [
        {
          "output_type": "execute_result",
          "data": {
            "text/plain": [
              "array([[-0.95288602, -0.24761158]])"
            ]
          },
          "metadata": {},
          "execution_count": 177
        }
      ]
    },
    {
      "cell_type": "code",
      "source": [
        "# 표준화 스케일링이 끝난 훈련 셋 시각화\n",
        "plt.scatter(X_train_std[:, 1], X_train_std[:, 0], label='Train')\n",
        "\n",
        "# 표준화 스케일링이 끝난 가상의 물고기 시각화\n",
        "plt.scatter(unknown_std[:, 1], unknown_std[:, 0], label='Unknown', marker='v')\n",
        "\n",
        "plt.xlabel('Length')\n",
        "plt.ylabel('Weight')\n",
        "plt.legend()\n",
        "plt.show()"
      ],
      "metadata": {
        "colab": {
          "base_uri": "https://localhost:8080/",
          "height": 279
        },
        "id": "kBsHZs75DMBN",
        "outputId": "9a345d90-0c58-4328-edbf-56ed2e3985ac"
      },
      "execution_count": null,
      "outputs": [
        {
          "output_type": "display_data",
          "data": {
            "text/plain": [
              "<Figure size 432x288 with 1 Axes>"
            ],
            "image/png": "[encoded data removed]"
          },
          "metadata": {
            "needs_background": "light"
          }
        }
      ]
    },
    {
      "cell_type": "code",
      "source": [
        "# 스케일 변환된 가상의 물고기 데이터의 가장 가까운 이웃 5개\n",
        "neighbor_index = knn.kneighbors(unknown_std, return_distance=False)\n",
        "neighbor_index"
      ],
      "metadata": {
        "colab": {
          "base_uri": "https://localhost:8080/"
        },
        "id": "Zt-SA7oFEV3J",
        "outputId": "a4188ee4-2507-48ac-8214-08aa20d4a3b8"
      },
      "execution_count": null,
      "outputs": [
        {
          "output_type": "execute_result",
          "data": {
            "text/plain": [
              "array([[20, 13, 11, 23,  7]])"
            ]
          },
          "metadata": {},
          "execution_count": 179
        }
      ]
    },
    {
      "cell_type": "code",
      "source": [
        "# 가장 가까운 이웃들의 레이블\n",
        "y_train[neighbor_index[0]]"
      ],
      "metadata": {
        "colab": {
          "base_uri": "https://localhost:8080/"
        },
        "id": "Zc98UMxpEi0o",
        "outputId": "016bcd37-7a23-457a-df0f-cf90d5627b91"
      },
      "execution_count": null,
      "outputs": [
        {
          "output_type": "execute_result",
          "data": {
            "text/plain": [
              "array(['Bream', 'Bream', 'Bream', 'Bream', 'Smelt'], dtype=object)"
            ]
          },
          "metadata": {},
          "execution_count": 180
        }
      ]
    },
    {
      "cell_type": "code",
      "source": [
        "knn.predict(unknown_std)"
      ],
      "metadata": {
        "colab": {
          "base_uri": "https://localhost:8080/"
        },
        "id": "gcnEc9iIE1Vu",
        "outputId": "7caea90f-a4b6-4a46-dbee-8bcfb9f34736"
      },
      "execution_count": null,
      "outputs": [
        {
          "output_type": "execute_result",
          "data": {
            "text/plain": [
              "array(['Bream'], dtype=object)"
            ]
          },
          "metadata": {},
          "execution_count": 181
        }
      ]
    },
    {
      "cell_type": "markdown",
      "source": [
        "## 정규화. Min-Max Scaling."
      ],
      "metadata": {
        "id": "JdmNGVQDFMwQ"
      }
    },
    {
      "cell_type": "markdown",
      "source": [
        "* Min-Max Scaler 객체 생성\n",
        "* 훈련 셋의 최솟값/최댓값을 찾아서 훈련 셋과 테스트 셋의 스케일을 변환\n",
        "* KNN 분류기 객체 생성\n",
        "* 모델 훈련\n",
        "* 훈련 셋 예측값, 정확도\n",
        "* 테스트 셋 예측값, 정확도\n",
        "* (150g, 25cm) 가상의 물고기 데이터를 Min-Max Scaling.\n",
        "    * 스케일 변환된 훈련 셋과 가상의 물고기 데이터를 시각화.\n",
        "    * 가상의 물고기의 예측값.\n",
        "    "
      ],
      "metadata": {
        "id": "dLrwNxbGFRMx"
      }
    },
    {
      "cell_type": "code",
      "source": [
        "minmax_scaler = MinMaxScaler() # 모델 생성"
      ],
      "metadata": {
        "id": "i8DyEia2FQQC"
      },
      "execution_count": null,
      "outputs": []
    },
    {
      "cell_type": "code",
      "source": [
        "minmax_scaler.fit(X_train) # 모델 훈련"
      ],
      "metadata": {
        "colab": {
          "base_uri": "https://localhost:8080/"
        },
        "id": "WYBwFeL5Hsu1",
        "outputId": "0637e8af-db42-4f85-afef-3879c59339fd"
      },
      "execution_count": null,
      "outputs": [
        {
          "output_type": "execute_result",
          "data": {
            "text/plain": [
              "MinMaxScaler()"
            ]
          },
          "metadata": {},
          "execution_count": 183
        }
      ]
    },
    {
      "cell_type": "code",
      "source": [
        "minmax_scaler.data_max_, minmax_scaler.data_min_"
      ],
      "metadata": {
        "colab": {
          "base_uri": "https://localhost:8080/"
        },
        "id": "s6n_-iWfs2Xj",
        "outputId": "95142f4d-cf79-4e80-b08b-4d596262e063"
      },
      "execution_count": null,
      "outputs": [
        {
          "output_type": "execute_result",
          "data": {
            "text/plain": [
              "(array([1000.,   41.]), array([ 7. , 10.6]))"
            ]
          },
          "metadata": {},
          "execution_count": 184
        }
      ]
    },
    {
      "cell_type": "code",
      "source": [
        "# (훈련 셋에서 찾은 최솟값과 최댓값을 사용해서) 트레인 셋을 스케일링\n",
        "X_train_mm = minmax_scaler.transform(X_train)\n",
        "\n",
        "# (훈련 셋에서 찾은 최솟값과 최댓값을 사용해서) 테스트 셋을 스케일링\n",
        "X_test_mm = minmax_scaler.transform(X_test)"
      ],
      "metadata": {
        "id": "RqoaIhrRH2r2"
      },
      "execution_count": null,
      "outputs": []
    },
    {
      "cell_type": "code",
      "source": [
        "knn = KNeighborsClassifier() # KNN 분류기 생성"
      ],
      "metadata": {
        "id": "pBoq98LhH5G8"
      },
      "execution_count": null,
      "outputs": []
    },
    {
      "cell_type": "code",
      "source": [
        "knn.fit(X_train_mm, y_train) # KNN 모델 훈련(학습)"
      ],
      "metadata": {
        "colab": {
          "base_uri": "https://localhost:8080/"
        },
        "id": "40s-qP0OIFL6",
        "outputId": "2af47253-3c4a-4ab0-f24b-43fc10f1c17c"
      },
      "execution_count": null,
      "outputs": [
        {
          "output_type": "execute_result",
          "data": {
            "text/plain": [
              "KNeighborsClassifier()"
            ]
          },
          "metadata": {},
          "execution_count": 197
        }
      ]
    },
    {
      "cell_type": "code",
      "source": [
        "train_pred = knn.predict(X_train_mm) # 스케일링된 훈련 셋의 예측값\n",
        "train_pred"
      ],
      "metadata": {
        "colab": {
          "base_uri": "https://localhost:8080/"
        },
        "id": "Ih-B_KJHInmP",
        "outputId": "07e48792-bc83-4d15-a5a9-1ddda84645a1"
      },
      "execution_count": null,
      "outputs": [
        {
          "output_type": "execute_result",
          "data": {
            "text/plain": [
              "array(['Smelt', 'Bream', 'Smelt', 'Bream', 'Smelt', 'Smelt', 'Bream',\n",
              "       'Smelt', 'Bream', 'Bream', 'Bream', 'Bream', 'Bream', 'Bream',\n",
              "       'Bream', 'Smelt', 'Bream', 'Bream', 'Bream', 'Bream', 'Bream',\n",
              "       'Bream', 'Bream', 'Bream', 'Bream', 'Smelt', 'Smelt', 'Bream',\n",
              "       'Smelt', 'Smelt', 'Bream', 'Bream', 'Bream', 'Bream'], dtype=object)"
            ]
          },
          "metadata": {},
          "execution_count": 188
        }
      ]
    },
    {
      "cell_type": "code",
      "source": [
        "# 훈련 셋 정확도\n",
        "knn.score(X_train_mm, y_train)"
      ],
      "metadata": {
        "colab": {
          "base_uri": "https://localhost:8080/"
        },
        "id": "M8WIAwMZIzCC",
        "outputId": "369ae7cb-d354-4532-e8bb-b28c3bb9d13f"
      },
      "execution_count": null,
      "outputs": [
        {
          "output_type": "execute_result",
          "data": {
            "text/plain": [
              "1.0"
            ]
          },
          "metadata": {},
          "execution_count": 189
        }
      ]
    },
    {
      "cell_type": "code",
      "source": [
        "accuracy_score(y_train, train_pred)"
      ],
      "metadata": {
        "colab": {
          "base_uri": "https://localhost:8080/"
        },
        "id": "IiwENMFkt_f4",
        "outputId": "0ed3c280-38d3-4825-9334-8ddf6a40a050"
      },
      "execution_count": null,
      "outputs": [
        {
          "output_type": "execute_result",
          "data": {
            "text/plain": [
              "1.0"
            ]
          },
          "metadata": {},
          "execution_count": 198
        }
      ]
    },
    {
      "cell_type": "code",
      "source": [
        "test_pred = knn.predict(X_test_mm) # 스케일링된 테스트 셋의 예측값\n",
        "test_pred"
      ],
      "metadata": {
        "colab": {
          "base_uri": "https://localhost:8080/"
        },
        "id": "n97ARWfYIuvr",
        "outputId": "7c234b43-86dd-4194-ee26-5b9597d6969c"
      },
      "execution_count": null,
      "outputs": [
        {
          "output_type": "execute_result",
          "data": {
            "text/plain": [
              "array(['Smelt', 'Smelt', 'Smelt', 'Bream', 'Bream', 'Bream', 'Smelt',\n",
              "       'Bream', 'Bream', 'Bream', 'Bream', 'Bream', 'Bream', 'Bream',\n",
              "       'Bream'], dtype=object)"
            ]
          },
          "metadata": {},
          "execution_count": 190
        }
      ]
    },
    {
      "cell_type": "code",
      "source": [
        "# 테스트 셋 정확도\n",
        "knn.score(X_test_mm, y_test)"
      ],
      "metadata": {
        "colab": {
          "base_uri": "https://localhost:8080/"
        },
        "id": "m42A4l62I_WY",
        "outputId": "951b8b3c-4d1c-4f65-ba88-99933d0b0f26"
      },
      "execution_count": null,
      "outputs": [
        {
          "output_type": "execute_result",
          "data": {
            "text/plain": [
              "1.0"
            ]
          },
          "metadata": {},
          "execution_count": 191
        }
      ]
    },
    {
      "cell_type": "code",
      "source": [
        "accuracy_score(y_test, test_pred)"
      ],
      "metadata": {
        "colab": {
          "base_uri": "https://localhost:8080/"
        },
        "id": "4gB4Z3u1u7DL",
        "outputId": "903e81cb-1e8d-484c-cdf6-82a09880d876"
      },
      "execution_count": null,
      "outputs": [
        {
          "output_type": "execute_result",
          "data": {
            "text/plain": [
              "1.0"
            ]
          },
          "metadata": {},
          "execution_count": 199
        }
      ]
    },
    {
      "cell_type": "code",
      "source": [
        "# 150g, 25cm인 가상의 물고기의 스케일 변환\n",
        "unknown_mm = minmax_scaler.transform(unknown)\n",
        "unknown_mm"
      ],
      "metadata": {
        "colab": {
          "base_uri": "https://localhost:8080/"
        },
        "id": "kqFuBZuyJCOr",
        "outputId": "ce54c961-ee97-4215-eaa1-eb4a6a1a2df2"
      },
      "execution_count": null,
      "outputs": [
        {
          "output_type": "execute_result",
          "data": {
            "text/plain": [
              "array([[0.14400806, 0.47368421]])"
            ]
          },
          "metadata": {},
          "execution_count": 192
        }
      ]
    },
    {
      "cell_type": "code",
      "source": [
        "# Min-Max 스케일링이 끝난 훈련 셋 시각화\n",
        "plt.scatter(X_train_mm[:, 1], X_train_mm[:, 0], label='Train')\n",
        "\n",
        "# Min-Max 스케일링이 끝난 가상의 물고기 시각화\n",
        "plt.scatter(unknown_mm[:, 1], unknown_mm[:, 0], label='Unknown', marker='v')\n",
        "\n",
        "plt.legend()\n",
        "plt.xlabel('Length')\n",
        "plt.ylabel('Weight')\n",
        "plt.show()"
      ],
      "metadata": {
        "colab": {
          "base_uri": "https://localhost:8080/",
          "height": 279
        },
        "id": "zSimex6fJO41",
        "outputId": "7b82444e-c30b-420c-ed37-cf1575e0b734"
      },
      "execution_count": null,
      "outputs": [
        {
          "output_type": "display_data",
          "data": {
            "text/plain": [
              "<Figure size 432x288 with 1 Axes>"
            ],
            "image/png": "[encoded data removed]"
          },
          "metadata": {
            "needs_background": "light"
          }
        }
      ]
    },
    {
      "cell_type": "code",
      "source": [
        "# 스케일 변환된 가상의 물고기 데이터의 가장 가까운 이웃 5개\n",
        "neighbor_index = knn.kneighbors(unknown_mm, return_distance=False)\n",
        "neighbor_index"
      ],
      "metadata": {
        "colab": {
          "base_uri": "https://localhost:8080/"
        },
        "id": "COM4avjlJxef",
        "outputId": "3f1a8365-9dc0-42c1-bcbe-ce3a247ca3db"
      },
      "execution_count": null,
      "outputs": [
        {
          "output_type": "execute_result",
          "data": {
            "text/plain": [
              "array([[20, 13, 11, 23,  7]])"
            ]
          },
          "metadata": {},
          "execution_count": 194
        }
      ]
    },
    {
      "cell_type": "code",
      "source": [
        "# 가장 가까운 이웃들의 레이블\n",
        "y_train[neighbor_index[0]]"
      ],
      "metadata": {
        "colab": {
          "base_uri": "https://localhost:8080/"
        },
        "id": "C66AdKWvJ5bE",
        "outputId": "4d325277-097d-451f-cf6e-bf35a0878382"
      },
      "execution_count": null,
      "outputs": [
        {
          "output_type": "execute_result",
          "data": {
            "text/plain": [
              "array(['Bream', 'Bream', 'Bream', 'Bream', 'Smelt'], dtype=object)"
            ]
          },
          "metadata": {},
          "execution_count": 195
        }
      ]
    },
    {
      "cell_type": "code",
      "source": [
        "knn.predict(unknown_mm)"
      ],
      "metadata": {
        "colab": {
          "base_uri": "https://localhost:8080/"
        },
        "id": "LQEJiJJrJ_ig",
        "outputId": "cce761df-38a4-4ada-995f-997dd92b538f"
      },
      "execution_count": null,
      "outputs": [
        {
          "output_type": "execute_result",
          "data": {
            "text/plain": [
              "array(['Bream'], dtype=object)"
            ]
          },
          "metadata": {},
          "execution_count": 196
        }
      ]
    }
  ]
}