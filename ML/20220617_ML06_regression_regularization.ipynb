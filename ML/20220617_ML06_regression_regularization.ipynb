{
  "nbformat": 4,
  "nbformat_minor": 0,
  "metadata": {
    "colab": {
      "name": "20220617_ML06_regression_regularization.ipynb",
      "provenance": [],
      "collapsed_sections": [],
      "toc_visible": true,
      "authorship_tag": "ABX9TyM+wRNPtVITTY4ePpjACSVN",
      "include_colab_link": true
    },
    "kernelspec": {
      "name": "python3",
      "display_name": "Python 3"
    },
    "language_info": {
      "name": "python"
    }
  },
  "cells": [
    {
      "cell_type": "markdown",
      "metadata": {
        "id": "view-in-github",
        "colab_type": "text"
      },
      "source": [
        "<a href=\"https://colab.research.google.com/github/zaegeon/Python/blob/main/ML/20220617_ML06_regression_regularization.ipynb\" target=\"_parent\"><img src=\"https://colab.research.google.com/assets/colab-badge.svg\" alt=\"Open In Colab\"/></a>"
      ]
    },
    {
      "cell_type": "markdown",
      "source": [
        "# Imports"
      ],
      "metadata": {
        "id": "JQRRkH-sHOF-"
      }
    },
    {
      "cell_type": "code",
      "execution_count": null,
      "metadata": {
        "id": "FIYhcgvyHHnu"
      },
      "outputs": [],
      "source": [
        "import numpy as np\n",
        "import pandas as pd\n",
        "import matplotlib.pyplot as plt\n",
        "import seaborn as sns\n",
        "\n",
        "from sklearn.model_selection import train_test_split\n",
        "from sklearn.preprocessing import PolynomialFeatures, StandardScaler\n",
        "from sklearn.pipeline import Pipeline\n",
        "from sklearn.neighbors import KNeighborsRegressor\n",
        "from sklearn.linear_model import LinearRegression, Ridge, Lasso, ElasticNet\n",
        "from sklearn.metrics import r2_score, mean_squared_error"
      ]
    },
    {
      "cell_type": "code",
      "source": [
        "fish_csv = 'https://github.com/rickiepark/hg-mldl/raw/master/fish.csv'\n",
        "fish = pd.read_csv(fish_csv)"
      ],
      "metadata": {
        "id": "4NUxfbKQIUFD"
      },
      "execution_count": null,
      "outputs": []
    },
    {
      "cell_type": "markdown",
      "source": [
        "물고기(Perch, 농어)의 무게 예측\n",
        "\n",
        "`Weight ~ Length + Diagonal + Height + Width`"
      ],
      "metadata": {
        "id": "XuPqAPxtI6QQ"
      }
    },
    {
      "cell_type": "code",
      "source": [
        "perch = fish[fish.Species == 'Perch']"
      ],
      "metadata": {
        "id": "4tmCZhqfIl6d"
      },
      "execution_count": null,
      "outputs": []
    },
    {
      "cell_type": "code",
      "source": [
        "perch.head()"
      ],
      "metadata": {
        "colab": {
          "base_uri": "https://localhost:8080/",
          "height": 206
        },
        "id": "ZLxCAuCnJsLK",
        "outputId": "c3e4d6bd-a524-4e6c-8bf0-989b1d0f1129"
      },
      "execution_count": null,
      "outputs": [
        {
          "output_type": "execute_result",
          "data": {
            "text/plain": [
              "   Species  Weight  Length  Diagonal  Height   Width\n",
              "72   Perch     5.9     8.4       8.8  2.1120  1.4080\n",
              "73   Perch    32.0    13.7      14.7  3.5280  1.9992\n",
              "74   Perch    40.0    15.0      16.0  3.8240  2.4320\n",
              "75   Perch    51.5    16.2      17.2  4.5924  2.6316\n",
              "76   Perch    70.0    17.4      18.5  4.5880  2.9415"
            ],
            "text/html": [
              "\n",
              "  <div id=\"df-54dc0fa4-11d0-4dfc-9d80-5420a41d7b9e\">\n",
              "    <div class=\"colab-df-container\">\n",
              "      <div>\n",
              "<style scoped>\n",
              "    .dataframe tbody tr th:only-of-type {\n",
              "        vertical-align: middle;\n",
              "    }\n",
              "\n",
              "    .dataframe tbody tr th {\n",
              "        vertical-align: top;\n",
              "    }\n",
              "\n",
              "    .dataframe thead th {\n",
              "        text-align: right;\n",
              "    }\n",
              "</style>\n",
              "<table border=\"1\" class=\"dataframe\">\n",
              "  <thead>\n",
              "    <tr style=\"text-align: right;\">\n",
              "      <th></th>\n",
              "      <th>Species</th>\n",
              "      <th>Weight</th>\n",
              "      <th>Length</th>\n",
              "      <th>Diagonal</th>\n",
              "      <th>Height</th>\n",
              "      <th>Width</th>\n",
              "    </tr>\n",
              "  </thead>\n",
              "  <tbody>\n",
              "    <tr>\n",
              "      <th>72</th>\n",
              "      <td>Perch</td>\n",
              "      <td>5.9</td>\n",
              "      <td>8.4</td>\n",
              "      <td>8.8</td>\n",
              "      <td>2.1120</td>\n",
              "      <td>1.4080</td>\n",
              "    </tr>\n",
              "    <tr>\n",
              "      <th>73</th>\n",
              "      <td>Perch</td>\n",
              "      <td>32.0</td>\n",
              "      <td>13.7</td>\n",
              "      <td>14.7</td>\n",
              "      <td>3.5280</td>\n",
              "      <td>1.9992</td>\n",
              "    </tr>\n",
              "    <tr>\n",
              "      <th>74</th>\n",
              "      <td>Perch</td>\n",
              "      <td>40.0</td>\n",
              "      <td>15.0</td>\n",
              "      <td>16.0</td>\n",
              "      <td>3.8240</td>\n",
              "      <td>2.4320</td>\n",
              "    </tr>\n",
              "    <tr>\n",
              "      <th>75</th>\n",
              "      <td>Perch</td>\n",
              "      <td>51.5</td>\n",
              "      <td>16.2</td>\n",
              "      <td>17.2</td>\n",
              "      <td>4.5924</td>\n",
              "      <td>2.6316</td>\n",
              "    </tr>\n",
              "    <tr>\n",
              "      <th>76</th>\n",
              "      <td>Perch</td>\n",
              "      <td>70.0</td>\n",
              "      <td>17.4</td>\n",
              "      <td>18.5</td>\n",
              "      <td>4.5880</td>\n",
              "      <td>2.9415</td>\n",
              "    </tr>\n",
              "  </tbody>\n",
              "</table>\n",
              "</div>\n",
              "      <button class=\"colab-df-convert\" onclick=\"convertToInteractive('df-54dc0fa4-11d0-4dfc-9d80-5420a41d7b9e')\"\n",
              "              title=\"Convert this dataframe to an interactive table.\"\n",
              "              style=\"display:none;\">\n",
              "        \n",
              "  <svg xmlns=\"http://www.w3.org/2000/svg\" height=\"24px\"viewBox=\"0 0 24 24\"\n",
              "       width=\"24px\">\n",
              "    <path d=\"M0 0h24v24H0V0z\" fill=\"none\"/>\n",
              "    <path d=\"M18.56 5.44l.94 2.06.94-2.06 2.06-.94-2.06-.94-.94-2.06-.94 2.06-2.06.94zm-11 1L8.5 8.5l.94-2.06 2.06-.94-2.06-.94L8.5 2.5l-.94 2.06-2.06.94zm10 10l.94 2.06.94-2.06 2.06-.94-2.06-.94-.94-2.06-.94 2.06-2.06.94z\"/><path d=\"M17.41 7.96l-1.37-1.37c-.4-.4-.92-.59-1.43-.59-.52 0-1.04.2-1.43.59L10.3 9.45l-7.72 7.72c-.78.78-.78 2.05 0 2.83L4 21.41c.39.39.9.59 1.41.59.51 0 1.02-.2 1.41-.59l7.78-7.78 2.81-2.81c.8-.78.8-2.07 0-2.86zM5.41 20L4 18.59l7.72-7.72 1.47 1.35L5.41 20z\"/>\n",
              "  </svg>\n",
              "      </button>\n",
              "      \n",
              "  <style>\n",
              "    .colab-df-container {\n",
              "      display:flex;\n",
              "      flex-wrap:wrap;\n",
              "      gap: 12px;\n",
              "    }\n",
              "\n",
              "    .colab-df-convert {\n",
              "      background-color: #E8F0FE;\n",
              "      border: none;\n",
              "      border-radius: 50%;\n",
              "      cursor: pointer;\n",
              "      display: none;\n",
              "      fill: #1967D2;\n",
              "      height: 32px;\n",
              "      padding: 0 0 0 0;\n",
              "      width: 32px;\n",
              "    }\n",
              "\n",
              "    .colab-df-convert:hover {\n",
              "      background-color: #E2EBFA;\n",
              "      box-shadow: 0px 1px 2px rgba(60, 64, 67, 0.3), 0px 1px 3px 1px rgba(60, 64, 67, 0.15);\n",
              "      fill: #174EA6;\n",
              "    }\n",
              "\n",
              "    [theme=dark] .colab-df-convert {\n",
              "      background-color: #3B4455;\n",
              "      fill: #D2E3FC;\n",
              "    }\n",
              "\n",
              "    [theme=dark] .colab-df-convert:hover {\n",
              "      background-color: #434B5C;\n",
              "      box-shadow: 0px 1px 3px 1px rgba(0, 0, 0, 0.15);\n",
              "      filter: drop-shadow(0px 1px 2px rgba(0, 0, 0, 0.3));\n",
              "      fill: #FFFFFF;\n",
              "    }\n",
              "  </style>\n",
              "\n",
              "      <script>\n",
              "        const buttonEl =\n",
              "          document.querySelector('#df-54dc0fa4-11d0-4dfc-9d80-5420a41d7b9e button.colab-df-convert');\n",
              "        buttonEl.style.display =\n",
              "          google.colab.kernel.accessAllowed ? 'block' : 'none';\n",
              "\n",
              "        async function convertToInteractive(key) {\n",
              "          const element = document.querySelector('#df-54dc0fa4-11d0-4dfc-9d80-5420a41d7b9e');\n",
              "          const dataTable =\n",
              "            await google.colab.kernel.invokeFunction('convertToInteractive',\n",
              "                                                     [key], {});\n",
              "          if (!dataTable) return;\n",
              "\n",
              "          const docLinkHtml = 'Like what you see? Visit the ' +\n",
              "            '<a target=\"_blank\" href=https://colab.research.google.com/notebooks/data_table.ipynb>data table notebook</a>'\n",
              "            + ' to learn more about interactive tables.';\n",
              "          element.innerHTML = '';\n",
              "          dataTable['output_type'] = 'display_data';\n",
              "          await google.colab.output.renderOutput(dataTable, element);\n",
              "          const docLink = document.createElement('div');\n",
              "          docLink.innerHTML = docLinkHtml;\n",
              "          element.appendChild(docLink);\n",
              "        }\n",
              "      </script>\n",
              "    </div>\n",
              "  </div>\n",
              "  "
            ]
          },
          "metadata": {},
          "execution_count": 4
        }
      ]
    },
    {
      "cell_type": "code",
      "source": [
        "pd.options.display.max_rows = 10"
      ],
      "metadata": {
        "id": "zSfWy5v2KHww"
      },
      "execution_count": null,
      "outputs": []
    },
    {
      "cell_type": "code",
      "source": [
        "perch[['Length', 'Diagonal', 'Height', 'Width']]"
      ],
      "metadata": {
        "colab": {
          "base_uri": "https://localhost:8080/",
          "height": 424
        },
        "id": "ubBoKPxGKLwU",
        "outputId": "8e211fa8-b612-4d2c-caf7-710122bbbb50"
      },
      "execution_count": null,
      "outputs": [
        {
          "output_type": "execute_result",
          "data": {
            "text/plain": [
              "     Length  Diagonal   Height   Width\n",
              "72      8.4       8.8   2.1120  1.4080\n",
              "73     13.7      14.7   3.5280  1.9992\n",
              "74     15.0      16.0   3.8240  2.4320\n",
              "75     16.2      17.2   4.5924  2.6316\n",
              "76     17.4      18.5   4.5880  2.9415\n",
              "..      ...       ...      ...     ...\n",
              "123    42.0      44.6  12.8002  6.8684\n",
              "124    43.0      45.2  11.9328  7.2772\n",
              "125    43.0      45.5  12.5125  7.4165\n",
              "126    43.5      46.0  12.6040  8.1420\n",
              "127    44.0      46.6  12.4888  7.5958\n",
              "\n",
              "[56 rows x 4 columns]"
            ],
            "text/html": [
              "\n",
              "  <div id=\"df-9ade4d63-b7c2-4fc5-9daf-2761a88de0e4\">\n",
              "    <div class=\"colab-df-container\">\n",
              "      <div>\n",
              "<style scoped>\n",
              "    .dataframe tbody tr th:only-of-type {\n",
              "        vertical-align: middle;\n",
              "    }\n",
              "\n",
              "    .dataframe tbody tr th {\n",
              "        vertical-align: top;\n",
              "    }\n",
              "\n",
              "    .dataframe thead th {\n",
              "        text-align: right;\n",
              "    }\n",
              "</style>\n",
              "<table border=\"1\" class=\"dataframe\">\n",
              "  <thead>\n",
              "    <tr style=\"text-align: right;\">\n",
              "      <th></th>\n",
              "      <th>Length</th>\n",
              "      <th>Diagonal</th>\n",
              "      <th>Height</th>\n",
              "      <th>Width</th>\n",
              "    </tr>\n",
              "  </thead>\n",
              "  <tbody>\n",
              "    <tr>\n",
              "      <th>72</th>\n",
              "      <td>8.4</td>\n",
              "      <td>8.8</td>\n",
              "      <td>2.1120</td>\n",
              "      <td>1.4080</td>\n",
              "    </tr>\n",
              "    <tr>\n",
              "      <th>73</th>\n",
              "      <td>13.7</td>\n",
              "      <td>14.7</td>\n",
              "      <td>3.5280</td>\n",
              "      <td>1.9992</td>\n",
              "    </tr>\n",
              "    <tr>\n",
              "      <th>74</th>\n",
              "      <td>15.0</td>\n",
              "      <td>16.0</td>\n",
              "      <td>3.8240</td>\n",
              "      <td>2.4320</td>\n",
              "    </tr>\n",
              "    <tr>\n",
              "      <th>75</th>\n",
              "      <td>16.2</td>\n",
              "      <td>17.2</td>\n",
              "      <td>4.5924</td>\n",
              "      <td>2.6316</td>\n",
              "    </tr>\n",
              "    <tr>\n",
              "      <th>76</th>\n",
              "      <td>17.4</td>\n",
              "      <td>18.5</td>\n",
              "      <td>4.5880</td>\n",
              "      <td>2.9415</td>\n",
              "    </tr>\n",
              "    <tr>\n",
              "      <th>...</th>\n",
              "      <td>...</td>\n",
              "      <td>...</td>\n",
              "      <td>...</td>\n",
              "      <td>...</td>\n",
              "    </tr>\n",
              "    <tr>\n",
              "      <th>123</th>\n",
              "      <td>42.0</td>\n",
              "      <td>44.6</td>\n",
              "      <td>12.8002</td>\n",
              "      <td>6.8684</td>\n",
              "    </tr>\n",
              "    <tr>\n",
              "      <th>124</th>\n",
              "      <td>43.0</td>\n",
              "      <td>45.2</td>\n",
              "      <td>11.9328</td>\n",
              "      <td>7.2772</td>\n",
              "    </tr>\n",
              "    <tr>\n",
              "      <th>125</th>\n",
              "      <td>43.0</td>\n",
              "      <td>45.5</td>\n",
              "      <td>12.5125</td>\n",
              "      <td>7.4165</td>\n",
              "    </tr>\n",
              "    <tr>\n",
              "      <th>126</th>\n",
              "      <td>43.5</td>\n",
              "      <td>46.0</td>\n",
              "      <td>12.6040</td>\n",
              "      <td>8.1420</td>\n",
              "    </tr>\n",
              "    <tr>\n",
              "      <th>127</th>\n",
              "      <td>44.0</td>\n",
              "      <td>46.6</td>\n",
              "      <td>12.4888</td>\n",
              "      <td>7.5958</td>\n",
              "    </tr>\n",
              "  </tbody>\n",
              "</table>\n",
              "<p>56 rows × 4 columns</p>\n",
              "</div>\n",
              "      <button class=\"colab-df-convert\" onclick=\"convertToInteractive('df-9ade4d63-b7c2-4fc5-9daf-2761a88de0e4')\"\n",
              "              title=\"Convert this dataframe to an interactive table.\"\n",
              "              style=\"display:none;\">\n",
              "        \n",
              "  <svg xmlns=\"http://www.w3.org/2000/svg\" height=\"24px\"viewBox=\"0 0 24 24\"\n",
              "       width=\"24px\">\n",
              "    <path d=\"M0 0h24v24H0V0z\" fill=\"none\"/>\n",
              "    <path d=\"M18.56 5.44l.94 2.06.94-2.06 2.06-.94-2.06-.94-.94-2.06-.94 2.06-2.06.94zm-11 1L8.5 8.5l.94-2.06 2.06-.94-2.06-.94L8.5 2.5l-.94 2.06-2.06.94zm10 10l.94 2.06.94-2.06 2.06-.94-2.06-.94-.94-2.06-.94 2.06-2.06.94z\"/><path d=\"M17.41 7.96l-1.37-1.37c-.4-.4-.92-.59-1.43-.59-.52 0-1.04.2-1.43.59L10.3 9.45l-7.72 7.72c-.78.78-.78 2.05 0 2.83L4 21.41c.39.39.9.59 1.41.59.51 0 1.02-.2 1.41-.59l7.78-7.78 2.81-2.81c.8-.78.8-2.07 0-2.86zM5.41 20L4 18.59l7.72-7.72 1.47 1.35L5.41 20z\"/>\n",
              "  </svg>\n",
              "      </button>\n",
              "      \n",
              "  <style>\n",
              "    .colab-df-container {\n",
              "      display:flex;\n",
              "      flex-wrap:wrap;\n",
              "      gap: 12px;\n",
              "    }\n",
              "\n",
              "    .colab-df-convert {\n",
              "      background-color: #E8F0FE;\n",
              "      border: none;\n",
              "      border-radius: 50%;\n",
              "      cursor: pointer;\n",
              "      display: none;\n",
              "      fill: #1967D2;\n",
              "      height: 32px;\n",
              "      padding: 0 0 0 0;\n",
              "      width: 32px;\n",
              "    }\n",
              "\n",
              "    .colab-df-convert:hover {\n",
              "      background-color: #E2EBFA;\n",
              "      box-shadow: 0px 1px 2px rgba(60, 64, 67, 0.3), 0px 1px 3px 1px rgba(60, 64, 67, 0.15);\n",
              "      fill: #174EA6;\n",
              "    }\n",
              "\n",
              "    [theme=dark] .colab-df-convert {\n",
              "      background-color: #3B4455;\n",
              "      fill: #D2E3FC;\n",
              "    }\n",
              "\n",
              "    [theme=dark] .colab-df-convert:hover {\n",
              "      background-color: #434B5C;\n",
              "      box-shadow: 0px 1px 3px 1px rgba(0, 0, 0, 0.15);\n",
              "      filter: drop-shadow(0px 1px 2px rgba(0, 0, 0, 0.3));\n",
              "      fill: #FFFFFF;\n",
              "    }\n",
              "  </style>\n",
              "\n",
              "      <script>\n",
              "        const buttonEl =\n",
              "          document.querySelector('#df-9ade4d63-b7c2-4fc5-9daf-2761a88de0e4 button.colab-df-convert');\n",
              "        buttonEl.style.display =\n",
              "          google.colab.kernel.accessAllowed ? 'block' : 'none';\n",
              "\n",
              "        async function convertToInteractive(key) {\n",
              "          const element = document.querySelector('#df-9ade4d63-b7c2-4fc5-9daf-2761a88de0e4');\n",
              "          const dataTable =\n",
              "            await google.colab.kernel.invokeFunction('convertToInteractive',\n",
              "                                                     [key], {});\n",
              "          if (!dataTable) return;\n",
              "\n",
              "          const docLinkHtml = 'Like what you see? Visit the ' +\n",
              "            '<a target=\"_blank\" href=https://colab.research.google.com/notebooks/data_table.ipynb>data table notebook</a>'\n",
              "            + ' to learn more about interactive tables.';\n",
              "          element.innerHTML = '';\n",
              "          dataTable['output_type'] = 'display_data';\n",
              "          await google.colab.output.renderOutput(dataTable, element);\n",
              "          const docLink = document.createElement('div');\n",
              "          docLink.innerHTML = docLinkHtml;\n",
              "          element.appendChild(docLink);\n",
              "        }\n",
              "      </script>\n",
              "    </div>\n",
              "  </div>\n",
              "  "
            ]
          },
          "metadata": {},
          "execution_count": 6
        }
      ]
    },
    {
      "cell_type": "code",
      "source": [
        "# 특성 배열\n",
        "X = perch.iloc[:, 2:].values.copy()"
      ],
      "metadata": {
        "id": "nprZqdjgKQxq"
      },
      "execution_count": null,
      "outputs": []
    },
    {
      "cell_type": "code",
      "source": [
        "# 타겟 배열\n",
        "y = perch['Weight'].values.copy()"
      ],
      "metadata": {
        "id": "l_HpMqMPLMco"
      },
      "execution_count": null,
      "outputs": []
    },
    {
      "cell_type": "markdown",
      "source": [
        "# train/test split"
      ],
      "metadata": {
        "id": "ia6mqP7lLQgG"
      }
    },
    {
      "cell_type": "code",
      "source": [
        "X_tr, X_te, y_tr, y_te = train_test_split(X, y,\n",
        "                                          test_size=0.25,\n",
        "                                          random_state=42)"
      ],
      "metadata": {
        "id": "eEn2Bww-LV14"
      },
      "execution_count": null,
      "outputs": []
    },
    {
      "cell_type": "code",
      "source": [
        "X_tr.shape, X_te.shape, y_tr.shape, y_te.shape"
      ],
      "metadata": {
        "colab": {
          "base_uri": "https://localhost:8080/"
        },
        "id": "f9dORkn_L1iL",
        "outputId": "3db4ab5d-a2e8-40b6-c661-05c6654716cf"
      },
      "execution_count": null,
      "outputs": [
        {
          "output_type": "execute_result",
          "data": {
            "text/plain": [
              "((42, 4), (14, 4), (42,), (14,))"
            ]
          },
          "metadata": {},
          "execution_count": 10
        }
      ]
    },
    {
      "cell_type": "markdown",
      "source": [
        "# 1차항만 고려한 회귀"
      ],
      "metadata": {
        "id": "WlYRvrGUMGFE"
      }
    },
    {
      "cell_type": "markdown",
      "source": [
        "## KNN Regressor"
      ],
      "metadata": {
        "id": "RfW6ITdTMKw5"
      }
    },
    {
      "cell_type": "code",
      "source": [
        "knn = KNeighborsRegressor()"
      ],
      "metadata": {
        "id": "pxTg2QRYMD25"
      },
      "execution_count": null,
      "outputs": []
    },
    {
      "cell_type": "code",
      "source": [
        "knn.fit(X_tr, y_tr)"
      ],
      "metadata": {
        "colab": {
          "base_uri": "https://localhost:8080/"
        },
        "id": "KAU7J946M13-",
        "outputId": "6d12b725-a39c-4983-f708-4244f43eb489"
      },
      "execution_count": null,
      "outputs": [
        {
          "output_type": "execute_result",
          "data": {
            "text/plain": [
              "KNeighborsRegressor()"
            ]
          },
          "metadata": {},
          "execution_count": 12
        }
      ]
    },
    {
      "cell_type": "code",
      "source": [
        "tr_pred = knn.predict(X_tr)"
      ],
      "metadata": {
        "id": "gKMUSUOoMzii"
      },
      "execution_count": null,
      "outputs": []
    },
    {
      "cell_type": "code",
      "source": [
        "# 훈련 셋 평가점수 : MSE, R2 score\n",
        "print('MSE :', mean_squared_error(y_tr, tr_pred))\n",
        "print('r2 :', r2_score(y_tr, tr_pred))"
      ],
      "metadata": {
        "colab": {
          "base_uri": "https://localhost:8080/"
        },
        "id": "Rg59tukhM7Xm",
        "outputId": "bf211b87-9f8c-43e4-b302-25e1635ec82e"
      },
      "execution_count": null,
      "outputs": [
        {
          "output_type": "stream",
          "name": "stdout",
          "text": [
            "MSE : 2986.5723809523806\n",
            "r2 : 0.97579760182756\n"
          ]
        }
      ]
    },
    {
      "cell_type": "code",
      "source": [
        "# 학습에 사용되지 않은 테스트 셋의 예측값\n",
        "te_pred = knn.predict(X_te)\n",
        "te_pred"
      ],
      "metadata": {
        "colab": {
          "base_uri": "https://localhost:8080/"
        },
        "id": "S2wL_fOpNvxG",
        "outputId": "b093f008-7d7f-4370-b18e-7b6341cec924"
      },
      "execution_count": null,
      "outputs": [
        {
          "output_type": "execute_result",
          "data": {
            "text/plain": [
              "array([  60. ,   79.6,  248. ,  122. ,  130. ,  847. ,  311.4,  183.4,\n",
              "        847. ,  118. , 1043. ,   60. ,  248. ,  248. ])"
            ]
          },
          "metadata": {},
          "execution_count": 15
        }
      ]
    },
    {
      "cell_type": "code",
      "source": [
        "# 테스트 셋 평가점수 : MSE, R2 score\n",
        "print('MSE :', mean_squared_error(y_te, te_pred))\n",
        "print('r2 :', r2_score(y_te, te_pred))"
      ],
      "metadata": {
        "colab": {
          "base_uri": "https://localhost:8080/"
        },
        "id": "D-MR2If4N28k",
        "outputId": "8ffb9697-2ee5-4f64-840c-ac58519c5d3e"
      },
      "execution_count": null,
      "outputs": [
        {
          "output_type": "stream",
          "name": "stdout",
          "text": [
            "MSE : 837.3100000000001\n",
            "r2 : 0.9916579819676246\n"
          ]
        }
      ]
    },
    {
      "cell_type": "markdown",
      "source": [
        "테스트 셋에서의 평가 점수가 훈련 셋에서의 점수보다 좋음 → 과소적합"
      ],
      "metadata": {
        "id": "97dXyx2tOr6_"
      }
    },
    {
      "cell_type": "markdown",
      "source": [
        "# Linear Regression"
      ],
      "metadata": {
        "id": "Pj121RzIPO_g"
      }
    },
    {
      "cell_type": "markdown",
      "source": [
        "$$\n",
        "y = w_0 + w_1 \\times x_1 + w_2 \\times x_2 + w_3 \\times x_3 + w_4 \\times x_4\n",
        "$$"
      ],
      "metadata": {
        "id": "LFOcAzpePRok"
      }
    },
    {
      "cell_type": "code",
      "source": [
        "lin_reg = LinearRegression() # 선형 회귀 모델 생성"
      ],
      "metadata": {
        "id": "cjMX5h5AOrWW"
      },
      "execution_count": null,
      "outputs": []
    },
    {
      "cell_type": "code",
      "source": [
        "lin_reg.fit(X_tr, y_tr) # 모델 훈련"
      ],
      "metadata": {
        "colab": {
          "base_uri": "https://localhost:8080/"
        },
        "id": "M-M_I1_BQJMx",
        "outputId": "7fb77730-790c-477c-886d-9453e844a58e"
      },
      "execution_count": null,
      "outputs": [
        {
          "output_type": "execute_result",
          "data": {
            "text/plain": [
              "LinearRegression()"
            ]
          },
          "metadata": {},
          "execution_count": 18
        }
      ]
    },
    {
      "cell_type": "code",
      "source": [
        "lin_reg.intercept_ # 선형회귀식에서 w0"
      ],
      "metadata": {
        "colab": {
          "base_uri": "https://localhost:8080/"
        },
        "id": "acaUXFoQQOwU",
        "outputId": "0afc1ce2-c8e0-460e-9d3b-da673b955515"
      },
      "execution_count": null,
      "outputs": [
        {
          "output_type": "execute_result",
          "data": {
            "text/plain": [
              "-610.0275364260515"
            ]
          },
          "metadata": {},
          "execution_count": 19
        }
      ]
    },
    {
      "cell_type": "code",
      "source": [
        "lin_reg.coef_ # 선형회귀식에서 w1~w4"
      ],
      "metadata": {
        "colab": {
          "base_uri": "https://localhost:8080/"
        },
        "id": "ctWE60bSQUdS",
        "outputId": "0de354ba-aa50-4f66-d5c0-6bbc14799747"
      },
      "execution_count": null,
      "outputs": [
        {
          "output_type": "execute_result",
          "data": {
            "text/plain": [
              "array([-40.18338554,  47.80681727,  67.34086612,  35.34904264])"
            ]
          },
          "metadata": {},
          "execution_count": 20
        }
      ]
    },
    {
      "cell_type": "code",
      "source": [
        "# 훈련 셋 예측값\n",
        "tr_pred = lin_reg.predict(X_tr)"
      ],
      "metadata": {
        "id": "SqSP32noQXok"
      },
      "execution_count": null,
      "outputs": []
    },
    {
      "cell_type": "code",
      "source": [
        "# 훈련 셋 평가 점수\n",
        "print('MSE :', mean_squared_error(y_tr, tr_pred))\n",
        "print('r2 :', r2_score(y_tr, tr_pred))"
      ],
      "metadata": {
        "colab": {
          "base_uri": "https://localhost:8080/"
        },
        "id": "2mQ7WZvSQ0yK",
        "outputId": "0c54fe56-4075-4527-ab00-9de18961949b"
      },
      "execution_count": null,
      "outputs": [
        {
          "output_type": "stream",
          "name": "stdout",
          "text": [
            "MSE : 5340.176566753986\n",
            "r2 : 0.9567246116638569\n"
          ]
        }
      ]
    },
    {
      "cell_type": "code",
      "source": [
        "# 테스트 셋 예측값\n",
        "te_pred = lin_reg.predict(X_te)"
      ],
      "metadata": {
        "id": "8I3o_onMRMdY"
      },
      "execution_count": null,
      "outputs": []
    },
    {
      "cell_type": "code",
      "source": [
        "# 테스트 셋 평가 점수\n",
        "print('MSE :', mean_squared_error(y_te, te_pred))\n",
        "print('r2 :', r2_score(y_te, te_pred))"
      ],
      "metadata": {
        "colab": {
          "base_uri": "https://localhost:8080/"
        },
        "id": "aJeYek1kRP8H",
        "outputId": "d75f1772-4d37-4a12-cfb6-940e98385a5f"
      },
      "execution_count": null,
      "outputs": [
        {
          "output_type": "stream",
          "name": "stdout",
          "text": [
            "MSE : 12140.410523504848\n",
            "r2 : 0.8790465615990273\n"
          ]
        }
      ]
    },
    {
      "cell_type": "markdown",
      "source": [
        "훈련 셋의 점수가 테스트 셋의 점수보다 좋음 → 과대적합"
      ],
      "metadata": {
        "id": "W55MI29wRYGd"
      }
    },
    {
      "cell_type": "markdown",
      "source": [
        "# 2차항을 고려한 선형 회귀"
      ],
      "metadata": {
        "id": "yOltoTX0WNDT"
      }
    },
    {
      "cell_type": "markdown",
      "source": [
        "$$\n",
        "\\hat{y} = w_0 + w_1 \\times x_1 + \\cdots + w_4 \\times x_4 + w_5 \\times {x_1}^2 + w_6 \\times {x_2}^2 + w_7 \\times x_1 x_2 + \\cdots\n",
        "$$"
      ],
      "metadata": {
        "id": "CE-DaJDjWO7t"
      }
    },
    {
      "cell_type": "code",
      "source": [
        "poly = PolynomialFeatures(include_bias=False)\n",
        "# degree=2 : 기본값. 2차항까지만 고려.\n",
        "# interaction_only=Fasle : 기본값. x1^2, x2^2, x1x2, ... 등을 모두 추가\n",
        "#   True로 설정하면 제곱항들은 무시되고 interaction 항들만 추가됨."
      ],
      "metadata": {
        "id": "jEz_LrBCRbnl"
      },
      "execution_count": null,
      "outputs": []
    },
    {
      "cell_type": "code",
      "source": [
        "result = poly.fit_transform(X_tr)"
      ],
      "metadata": {
        "id": "L-sfzbC7YbpQ"
      },
      "execution_count": null,
      "outputs": []
    },
    {
      "cell_type": "code",
      "source": [
        "result[:2]"
      ],
      "metadata": {
        "colab": {
          "base_uri": "https://localhost:8080/"
        },
        "id": "cqWD7OgTYj21",
        "outputId": "412154bf-b011-4898-db67-32bc73b3e869"
      },
      "execution_count": null,
      "outputs": [
        {
          "output_type": "execute_result",
          "data": {
            "text/plain": [
              "array([[ 19.6       ,  20.8       ,   5.1376    ,   3.0368    ,\n",
              "        384.16      , 407.68      , 100.69696   ,  59.52128   ,\n",
              "        432.64      , 106.86208   ,  63.16544   ,  26.39493376,\n",
              "         15.60186368,   9.22215424],\n",
              "       [ 22.        ,  23.5       ,   5.875     ,   3.525     ,\n",
              "        484.        , 517.        , 129.25      ,  77.55      ,\n",
              "        552.25      , 138.0625    ,  82.8375    ,  34.515625  ,\n",
              "         20.709375  ,  12.425625  ]])"
            ]
          },
          "metadata": {},
          "execution_count": 27
        }
      ]
    },
    {
      "cell_type": "code",
      "source": [
        "poly.get_feature_names_out()"
      ],
      "metadata": {
        "colab": {
          "base_uri": "https://localhost:8080/"
        },
        "id": "pvocs8m3Yl6H",
        "outputId": "e151effe-e5b2-429d-94bb-14848adfc59d"
      },
      "execution_count": null,
      "outputs": [
        {
          "output_type": "execute_result",
          "data": {
            "text/plain": [
              "array(['x0', 'x1', 'x2', 'x3', 'x0^2', 'x0 x1', 'x0 x2', 'x0 x3', 'x1^2',\n",
              "       'x1 x2', 'x1 x3', 'x2^2', 'x2 x3', 'x3^2'], dtype=object)"
            ]
          },
          "metadata": {},
          "execution_count": 28
        }
      ]
    },
    {
      "cell_type": "code",
      "source": [
        "poly = PolynomialFeatures(include_bias=False, interaction_only=True)"
      ],
      "metadata": {
        "id": "q_7SwzGuYyjZ"
      },
      "execution_count": null,
      "outputs": []
    },
    {
      "cell_type": "code",
      "source": [
        "result = poly.fit_transform(X_tr)\n",
        "result[:2]"
      ],
      "metadata": {
        "colab": {
          "base_uri": "https://localhost:8080/"
        },
        "id": "TPkg9GhJZ7rj",
        "outputId": "ce9ea907-9228-48ee-bd67-1466e4a7e3f6"
      },
      "execution_count": null,
      "outputs": [
        {
          "output_type": "execute_result",
          "data": {
            "text/plain": [
              "array([[ 19.6       ,  20.8       ,   5.1376    ,   3.0368    ,\n",
              "        407.68      , 100.69696   ,  59.52128   , 106.86208   ,\n",
              "         63.16544   ,  15.60186368],\n",
              "       [ 22.        ,  23.5       ,   5.875     ,   3.525     ,\n",
              "        517.        , 129.25      ,  77.55      , 138.0625    ,\n",
              "         82.8375    ,  20.709375  ]])"
            ]
          },
          "metadata": {},
          "execution_count": 30
        }
      ]
    },
    {
      "cell_type": "markdown",
      "source": [
        "## 2차항 추가, Scaling 하지 않는 경우"
      ],
      "metadata": {
        "id": "q6sBhRzUaeGB"
      }
    },
    {
      "cell_type": "code",
      "source": [
        "poly = PolynomialFeatures(include_bias=False) # 변환기(Transformer) - fit, transform\n",
        "lin_reg = LinearRegression() # 예측기(Estimator) - fit, predict, score\n",
        "# 변환기와 예측기 연결된 파이프라인 → 머신 러닝 모델\n",
        "model = Pipeline([('poly', poly), ('lin_reg', lin_reg)])"
      ],
      "metadata": {
        "id": "ZeoNv506alsZ"
      },
      "execution_count": null,
      "outputs": []
    },
    {
      "cell_type": "code",
      "source": [
        "model.fit(X_tr, y_tr) # 모델 훈련\n",
        "# (1) poly.fit_transform() → (2) lin_reg.fit(X_tr_trans, y_tr)"
      ],
      "metadata": {
        "colab": {
          "base_uri": "https://localhost:8080/"
        },
        "id": "Mb4MBX73b4Fc",
        "outputId": "06525aee-cc4e-4ea1-a99c-716962992c61"
      },
      "execution_count": null,
      "outputs": [
        {
          "output_type": "execute_result",
          "data": {
            "text/plain": [
              "Pipeline(steps=[('poly', PolynomialFeatures(include_bias=False)),\n",
              "                ('lin_reg', LinearRegression())])"
            ]
          },
          "metadata": {},
          "execution_count": 32
        }
      ]
    },
    {
      "cell_type": "code",
      "source": [
        "model['poly'].get_feature_names_out()"
      ],
      "metadata": {
        "colab": {
          "base_uri": "https://localhost:8080/"
        },
        "id": "JiqFcPlJb7Gf",
        "outputId": "959f6720-fd3c-4d2c-dcdb-e91a166f8b31"
      },
      "execution_count": null,
      "outputs": [
        {
          "output_type": "execute_result",
          "data": {
            "text/plain": [
              "array(['x0', 'x1', 'x2', 'x3', 'x0^2', 'x0 x1', 'x0 x2', 'x0 x3', 'x1^2',\n",
              "       'x1 x2', 'x1 x3', 'x2^2', 'x2 x3', 'x3^2'], dtype=object)"
            ]
          },
          "metadata": {},
          "execution_count": 33
        }
      ]
    },
    {
      "cell_type": "code",
      "source": [
        "model['lin_reg'].coef_"
      ],
      "metadata": {
        "colab": {
          "base_uri": "https://localhost:8080/"
        },
        "id": "oYNsxQaZcnTi",
        "outputId": "b3de250d-52cd-45c6-88bb-c2f41ecdcc6f"
      },
      "execution_count": null,
      "outputs": [
        {
          "output_type": "execute_result",
          "data": {
            "text/plain": [
              "array([ -50.78509594,  124.88041222, -226.27583652, -211.15974936,\n",
              "        219.94801311, -378.27754255, -310.06984107,  301.69060933,\n",
              "        155.92749428,  315.3374506 , -269.45161891,   24.76034853,\n",
              "       -176.24019353,  126.39216926])"
            ]
          },
          "metadata": {},
          "execution_count": 34
        }
      ]
    },
    {
      "cell_type": "code",
      "source": [
        "# 훈련 셋 예측값\n",
        "tr_pred = model.predict(X_tr)\n",
        "# (1) poly.transform(X_tr) → (2) lin_reg.predict(X_tr_trans)"
      ],
      "metadata": {
        "id": "trXB8QB6cqGk"
      },
      "execution_count": null,
      "outputs": []
    },
    {
      "cell_type": "code",
      "source": [
        "# 훈련 셋 평가 점수\n",
        "print('MSE :', mean_squared_error(y_tr, tr_pred))\n",
        "print('r2 :', r2_score(y_tr, tr_pred))"
      ],
      "metadata": {
        "colab": {
          "base_uri": "https://localhost:8080/"
        },
        "id": "LKNC2Wh_eNMV",
        "outputId": "f2f72db2-6b28-467d-f364-2f9906ca1426"
      },
      "execution_count": null,
      "outputs": [
        {
          "output_type": "stream",
          "name": "stdout",
          "text": [
            "MSE : 986.5134830835684\n",
            "r2 : 0.9920055538341062\n"
          ]
        }
      ]
    },
    {
      "cell_type": "code",
      "source": [
        "# 테스트 셋 예측값\n",
        "te_pred = model.predict(X_te)"
      ],
      "metadata": {
        "id": "4pwbPB4_eUGp"
      },
      "execution_count": null,
      "outputs": []
    },
    {
      "cell_type": "code",
      "source": [
        "# 테스트 셋 평가 점수\n",
        "print('MSE :', mean_squared_error(y_te, te_pred))\n",
        "print('r2 :', r2_score(y_te, te_pred))"
      ],
      "metadata": {
        "colab": {
          "base_uri": "https://localhost:8080/"
        },
        "id": "xfuU8MkYeYZV",
        "outputId": "2c19d2f5-d57c-4602-d04d-b10f4a66ef99"
      },
      "execution_count": null,
      "outputs": [
        {
          "output_type": "stream",
          "name": "stdout",
          "text": [
            "MSE : 5092.809112559572\n",
            "r2 : 0.9492609601552375\n"
          ]
        }
      ]
    },
    {
      "cell_type": "markdown",
      "source": [
        "## 2차항 추가, Scaling 하는 경우"
      ],
      "metadata": {
        "id": "XAZhO73CiHAg"
      }
    },
    {
      "cell_type": "code",
      "source": [
        "# pipeline = poly + scaler + regressor\n",
        "poly = PolynomialFeatures(include_bias=False) # 변환기(Transformer) - fit, transform\n",
        "lin_reg = LinearRegression() # 예측기(Estimator) - fit, predict, score\n",
        "# 변환기와 예측기 연결된 파이프라인 → 머신 러닝 모델\n",
        "model = Pipeline([('poly', poly), ('scaler', StandardScaler()), ('reg', lin_reg)])"
      ],
      "metadata": {
        "id": "uRNHXz_QiKQg"
      },
      "execution_count": null,
      "outputs": []
    },
    {
      "cell_type": "code",
      "source": [
        "# 모델 훈련 : poly.fit_transform(X_tr) → scaler.fit_transform(X_tr_p) → reg.fit(X_tr_p, y_tr)\n",
        "model.fit(X_tr, y_tr)"
      ],
      "metadata": {
        "colab": {
          "base_uri": "https://localhost:8080/"
        },
        "id": "HS7WgKlmjDJd",
        "outputId": "2c01567f-91d6-4ae8-c195-d96d52648ef1"
      },
      "execution_count": null,
      "outputs": [
        {
          "output_type": "execute_result",
          "data": {
            "text/plain": [
              "Pipeline(steps=[('poly', PolynomialFeatures(include_bias=False)),\n",
              "                ('scaler', StandardScaler()), ('reg', LinearRegression())])"
            ]
          },
          "metadata": {},
          "execution_count": 40
        }
      ]
    },
    {
      "cell_type": "code",
      "source": [
        "# 훈련 셋 예측값\n",
        "# poly.transform(X_tr) → scaler.transform(X_tr_p) → reg.predict(X_tr_p_s)\n",
        "tr_pred = model.predict(X_tr)"
      ],
      "metadata": {
        "id": "h3XH_IL1jFUJ"
      },
      "execution_count": null,
      "outputs": []
    },
    {
      "cell_type": "code",
      "source": [
        "# 훈련 셋 평가 점수\n",
        "print('MSE :', mean_squared_error(y_tr, tr_pred))\n",
        "print('r2 :', r2_score(y_tr, tr_pred))"
      ],
      "metadata": {
        "colab": {
          "base_uri": "https://localhost:8080/"
        },
        "id": "ZHyARLYhjHpN",
        "outputId": "719c64f6-78ef-4294-b6c2-6a8f9a1789b2"
      },
      "execution_count": null,
      "outputs": [
        {
          "output_type": "stream",
          "name": "stdout",
          "text": [
            "MSE : 986.5134830823616\n",
            "r2 : 0.9920055538341159\n"
          ]
        }
      ]
    },
    {
      "cell_type": "code",
      "source": [
        "# 테스트 셋 예측값\n",
        "te_pred = model.predict(X_te)"
      ],
      "metadata": {
        "id": "mnuL_gX-jJg0"
      },
      "execution_count": null,
      "outputs": []
    },
    {
      "cell_type": "code",
      "source": [
        "# 테스트 셋 평가 점수\n",
        "print('MSE :', mean_squared_error(y_te, te_pred))\n",
        "print('r2 :', r2_score(y_te, te_pred))"
      ],
      "metadata": {
        "colab": {
          "base_uri": "https://localhost:8080/"
        },
        "id": "RNqos_zyjLCR",
        "outputId": "22ad0743-df2f-4770-a002-b45c79a79806"
      },
      "execution_count": null,
      "outputs": [
        {
          "output_type": "stream",
          "name": "stdout",
          "text": [
            "MSE : 5092.809112554763\n",
            "r2 : 0.9492609601552854\n"
          ]
        }
      ]
    },
    {
      "cell_type": "markdown",
      "source": [
        "# 5차항까지 추가, Scaling하는 경우"
      ],
      "metadata": {
        "id": "4Dv9i3NrihAJ"
      }
    },
    {
      "cell_type": "code",
      "source": [
        "poly = PolynomialFeatures(degree=5, include_bias=False)\n",
        "lin_reg = LinearRegression()\n",
        "model = Pipeline([('poly', poly), ('scaler', StandardScaler()), ('lin_reg', lin_reg)])"
      ],
      "metadata": {
        "id": "S5LQW4gMjN6d"
      },
      "execution_count": null,
      "outputs": []
    },
    {
      "cell_type": "code",
      "source": [
        "model.fit(X_tr, y_tr) # 모델 훈련"
      ],
      "metadata": {
        "colab": {
          "base_uri": "https://localhost:8080/"
        },
        "id": "eQVjzkwUjT9A",
        "outputId": "bfd6f518-0d7a-4706-cfbc-d17aee34a500"
      },
      "execution_count": null,
      "outputs": [
        {
          "output_type": "execute_result",
          "data": {
            "text/plain": [
              "Pipeline(steps=[('poly', PolynomialFeatures(degree=5, include_bias=False)),\n",
              "                ('scaler', StandardScaler()), ('lin_reg', LinearRegression())])"
            ]
          },
          "metadata": {},
          "execution_count": 46
        }
      ]
    },
    {
      "cell_type": "code",
      "source": [
        "model['poly'].get_feature_names_out()"
      ],
      "metadata": {
        "colab": {
          "base_uri": "https://localhost:8080/"
        },
        "id": "9aRitbP6jWBv",
        "outputId": "13115598-4e90-453b-e47f-f66b5d0c3c49"
      },
      "execution_count": null,
      "outputs": [
        {
          "output_type": "execute_result",
          "data": {
            "text/plain": [
              "array(['x0', 'x1', 'x2', 'x3', 'x0^2', 'x0 x1', 'x0 x2', 'x0 x3', 'x1^2',\n",
              "       'x1 x2', 'x1 x3', 'x2^2', 'x2 x3', 'x3^2', 'x0^3', 'x0^2 x1',\n",
              "       'x0^2 x2', 'x0^2 x3', 'x0 x1^2', 'x0 x1 x2', 'x0 x1 x3', 'x0 x2^2',\n",
              "       'x0 x2 x3', 'x0 x3^2', 'x1^3', 'x1^2 x2', 'x1^2 x3', 'x1 x2^2',\n",
              "       'x1 x2 x3', 'x1 x3^2', 'x2^3', 'x2^2 x3', 'x2 x3^2', 'x3^3',\n",
              "       'x0^4', 'x0^3 x1', 'x0^3 x2', 'x0^3 x3', 'x0^2 x1^2', 'x0^2 x1 x2',\n",
              "       'x0^2 x1 x3', 'x0^2 x2^2', 'x0^2 x2 x3', 'x0^2 x3^2', 'x0 x1^3',\n",
              "       'x0 x1^2 x2', 'x0 x1^2 x3', 'x0 x1 x2^2', 'x0 x1 x2 x3',\n",
              "       'x0 x1 x3^2', 'x0 x2^3', 'x0 x2^2 x3', 'x0 x2 x3^2', 'x0 x3^3',\n",
              "       'x1^4', 'x1^3 x2', 'x1^3 x3', 'x1^2 x2^2', 'x1^2 x2 x3',\n",
              "       'x1^2 x3^2', 'x1 x2^3', 'x1 x2^2 x3', 'x1 x2 x3^2', 'x1 x3^3',\n",
              "       'x2^4', 'x2^3 x3', 'x2^2 x3^2', 'x2 x3^3', 'x3^4', 'x0^5',\n",
              "       'x0^4 x1', 'x0^4 x2', 'x0^4 x3', 'x0^3 x1^2', 'x0^3 x1 x2',\n",
              "       'x0^3 x1 x3', 'x0^3 x2^2', 'x0^3 x2 x3', 'x0^3 x3^2', 'x0^2 x1^3',\n",
              "       'x0^2 x1^2 x2', 'x0^2 x1^2 x3', 'x0^2 x1 x2^2', 'x0^2 x1 x2 x3',\n",
              "       'x0^2 x1 x3^2', 'x0^2 x2^3', 'x0^2 x2^2 x3', 'x0^2 x2 x3^2',\n",
              "       'x0^2 x3^3', 'x0 x1^4', 'x0 x1^3 x2', 'x0 x1^3 x3', 'x0 x1^2 x2^2',\n",
              "       'x0 x1^2 x2 x3', 'x0 x1^2 x3^2', 'x0 x1 x2^3', 'x0 x1 x2^2 x3',\n",
              "       'x0 x1 x2 x3^2', 'x0 x1 x3^3', 'x0 x2^4', 'x0 x2^3 x3',\n",
              "       'x0 x2^2 x3^2', 'x0 x2 x3^3', 'x0 x3^4', 'x1^5', 'x1^4 x2',\n",
              "       'x1^4 x3', 'x1^3 x2^2', 'x1^3 x2 x3', 'x1^3 x3^2', 'x1^2 x2^3',\n",
              "       'x1^2 x2^2 x3', 'x1^2 x2 x3^2', 'x1^2 x3^3', 'x1 x2^4',\n",
              "       'x1 x2^3 x3', 'x1 x2^2 x3^2', 'x1 x2 x3^3', 'x1 x3^4', 'x2^5',\n",
              "       'x2^4 x3', 'x2^3 x3^2', 'x2^2 x3^3', 'x2 x3^4', 'x3^5'],\n",
              "      dtype=object)"
            ]
          },
          "metadata": {},
          "execution_count": 47
        }
      ]
    },
    {
      "cell_type": "code",
      "source": [
        "# 훈련 셋 예측값\n",
        "tr_pred = model.predict(X_tr)"
      ],
      "metadata": {
        "id": "TxdreeDFjZOO"
      },
      "execution_count": null,
      "outputs": []
    },
    {
      "cell_type": "code",
      "source": [
        "# 훈련 셋 평가 점수\n",
        "print('MSE :', mean_squared_error(y_tr, tr_pred))\n",
        "print('r2 :', r2_score(y_tr, tr_pred))"
      ],
      "metadata": {
        "colab": {
          "base_uri": "https://localhost:8080/"
        },
        "id": "qiqYWIHjjdLJ",
        "outputId": "6b23733a-6047-4a5f-d32e-ae3b807a6767"
      },
      "execution_count": null,
      "outputs": [
        {
          "output_type": "stream",
          "name": "stdout",
          "text": [
            "MSE : 4.351506028418873e-17\n",
            "r2 : 1.0\n"
          ]
        }
      ]
    },
    {
      "cell_type": "code",
      "source": [
        "# 테스트 셋 예측값\n",
        "te_pred = model.predict(X_te)"
      ],
      "metadata": {
        "id": "P1rTUswojexT"
      },
      "execution_count": null,
      "outputs": []
    },
    {
      "cell_type": "code",
      "source": [
        "# 테스트 셋 평가 점수\n",
        "print('MSE :', mean_squared_error(y_te, te_pred))\n",
        "print('r2 :', r2_score(y_te, te_pred))"
      ],
      "metadata": {
        "colab": {
          "base_uri": "https://localhost:8080/"
        },
        "id": "xooyJTYsjgIE",
        "outputId": "3ebe753d-d892-4d47-e847-b350e20646ad"
      },
      "execution_count": null,
      "outputs": [
        {
          "output_type": "stream",
          "name": "stdout",
          "text": [
            "MSE : 14199476.804941649\n",
            "r2 : -140.46766616560245\n"
          ]
        }
      ]
    },
    {
      "cell_type": "markdown",
      "source": [
        "5차항까지 고려했을 때 선형 회귀 모델은 과대적합이 너무 심한 모델.\n",
        "\n",
        "→ 일반화 성능이 안 좋음."
      ],
      "metadata": {
        "id": "RxMkHvoD_6Es"
      }
    },
    {
      "cell_type": "markdown",
      "source": [
        "# 규제가 없는 선형회귀 - 과대적합"
      ],
      "metadata": {
        "id": "xacre40pBiQZ"
      }
    },
    {
      "cell_type": "code",
      "source": [
        "X = perch[['Length']].values.copy()\n",
        "y = perch['Weight'].values.copy()"
      ],
      "metadata": {
        "id": "SoXqKDEEAPQ-"
      },
      "execution_count": null,
      "outputs": []
    },
    {
      "cell_type": "code",
      "source": [
        "X.shape, y.shape"
      ],
      "metadata": {
        "colab": {
          "base_uri": "https://localhost:8080/"
        },
        "id": "c35mkIOSBuQQ",
        "outputId": "fc336dd2-6f91-4640-fec5-9cdbc36f731b"
      },
      "execution_count": null,
      "outputs": [
        {
          "output_type": "execute_result",
          "data": {
            "text/plain": [
              "((56, 1), (56,))"
            ]
          },
          "metadata": {},
          "execution_count": 53
        }
      ]
    },
    {
      "cell_type": "code",
      "source": [
        "X_tr, X_te, y_tr, y_te = train_test_split(X, y,\n",
        "                                          test_size=0.25,\n",
        "                                          random_state=42)"
      ],
      "metadata": {
        "id": "nEnJe2mFB1xj"
      },
      "execution_count": null,
      "outputs": []
    },
    {
      "cell_type": "code",
      "source": [
        "# 모델 생성\n",
        "model = Pipeline([('poly', PolynomialFeatures(degree=1, include_bias=False)),\n",
        "                  ('Scaler', StandardScaler()),\n",
        "                  ('reg', LinearRegression())])"
      ],
      "metadata": {
        "id": "caIoV6wAB9rG"
      },
      "execution_count": null,
      "outputs": []
    },
    {
      "cell_type": "code",
      "source": [
        "# 모델 훈련\n",
        "model.fit(X_tr, y_tr)"
      ],
      "metadata": {
        "colab": {
          "base_uri": "https://localhost:8080/"
        },
        "id": "zk-NTKD0C7z3",
        "outputId": "f74a5422-9c80-4f60-c7b3-118085f7b49f"
      },
      "execution_count": null,
      "outputs": [
        {
          "output_type": "execute_result",
          "data": {
            "text/plain": [
              "Pipeline(steps=[('poly', PolynomialFeatures(degree=1, include_bias=False)),\n",
              "                ('Scaler', StandardScaler()), ('reg', LinearRegression())])"
            ]
          },
          "metadata": {},
          "execution_count": 56
        }
      ]
    },
    {
      "cell_type": "code",
      "source": [
        "model['reg'].coef_"
      ],
      "metadata": {
        "colab": {
          "base_uri": "https://localhost:8080/"
        },
        "id": "dY97xGuSDAE0",
        "outputId": "4e1c4191-005a-4bda-87b6-fdb8b2cbdb35"
      },
      "execution_count": null,
      "outputs": [
        {
          "output_type": "execute_result",
          "data": {
            "text/plain": [
              "array([340.55381311])"
            ]
          },
          "metadata": {},
          "execution_count": 57
        }
      ]
    },
    {
      "cell_type": "code",
      "source": [
        "# 훈련 셋 산점도\n",
        "plt.scatter(X_tr, y_tr, alpha=0.5, label='train', color='gray')\n",
        "\n",
        "# 테스트 셋 산점도\n",
        "plt.scatter(X_te, y_te, alpha=0.5, label='test', color='crimson')\n",
        "\n",
        "# 선형 회귀 곡선 시각화\n",
        "X_vals = np.arange(10, 45, 0.001).reshape((-1, 1))\n",
        "y_vals = model.predict(X_vals)\n",
        "plt.plot(X_vals, y_vals)\n",
        "\n",
        "plt.legend()\n",
        "plt.show()"
      ],
      "metadata": {
        "colab": {
          "base_uri": "https://localhost:8080/",
          "height": 265
        },
        "id": "cn8Rt2g0Dgf0",
        "outputId": "7dcf0a75-882d-4aa0-fdcc-d0a4a420eebf"
      },
      "execution_count": null,
      "outputs": [
        {
          "output_type": "display_data",
          "data": {
            "text/plain": [
              "<Figure size 432x288 with 1 Axes>"
            ],
            "image/png": "[encoded data removed]"
          },
          "metadata": {
            "needs_background": "light"
          }
        }
      ]
    },
    {
      "cell_type": "code",
      "source": [
        "def visualize_regression(X_tr, y_tr, X_te, y_te, degrees, estimator):\n",
        "    plt.figure(figsize=(10, 10))\n",
        "\n",
        "    # 훈련 셋 산점도\n",
        "    plt.scatter(X_tr, y_tr, alpha=0.5, label='train', color='darkgray')\n",
        "\n",
        "    # 테스트 셋 산점도\n",
        "    plt.scatter(X_te, y_te, alpha=0.5, label='test', color='orange')\n",
        "\n",
        "    for d in degrees:\n",
        "        # Pipeline(PolynomialFeatures → StandardScaler → LinearRegressor) 생성\n",
        "        model = Pipeline([('poly', PolynomialFeatures(degree=d, include_bias=False)),\n",
        "                        ('scaler', StandardScaler()),\n",
        "                        ('reg', estimator)])\n",
        "        # 모델을 훈련 데이터로 학습시킴.\n",
        "        model.fit(X_tr, y_tr)\n",
        "        print('degree =', d, ':', model['reg'].coef_)\n",
        "        # 회귀식 시각화하기 위해서\n",
        "        X_vals = np.arange(10, 45, 0.001).reshape((-1, 1)) # 회귀식 시각화에 필요한 x좌표\n",
        "        y_vals = model.predict(X_vals) # 회귀식 시각화에 필요한 y좌표\n",
        "        plt.plot(X_vals, y_vals, label=f'degree={d}')\n",
        "\n",
        "    plt.ylim((-100, 1200))\n",
        "    plt.grid()\n",
        "    plt.legend()\n",
        "    plt.show()"
      ],
      "metadata": {
        "id": "A9Some4ANd4O"
      },
      "execution_count": null,
      "outputs": []
    },
    {
      "cell_type": "code",
      "source": [
        "degrees = (1, 2, 5, 50)\n",
        "estimator = LinearRegression()\n",
        "visualize_regression(X_tr, y_tr, X_te, y_te, degrees, estimator)"
      ],
      "metadata": {
        "colab": {
          "base_uri": "https://localhost:8080/",
          "height": 908
        },
        "id": "jWzdOH2nVqaP",
        "outputId": "fac6a036-ac69-4fb1-96a9-28826481b366"
      },
      "execution_count": null,
      "outputs": [
        {
          "output_type": "stream",
          "name": "stdout",
          "text": [
            "degree = 1 : [340.55381311]\n",
            "degree = 2 : [-188.16429447  532.30423546]\n",
            "degree = 5 : [ 1090.51349849 -4377.12096334  5960.80924384 -2038.47216236\n",
            "  -298.04297802]\n",
            "degree = 50 : [ 6.98882833e+11 -1.00258489e+13  6.60296042e+13 -2.55034855e+14\n",
            "  6.09952960e+14 -8.49257804e+14  4.52273759e+14  4.19689312e+14\n",
            " -5.51591443e+14 -3.28854741e+14  4.59197104e+14  4.64717683e+14\n",
            " -2.50299728e+14 -5.52393976e+14 -1.60092632e+14  3.91786172e+14\n",
            "  5.11210317e+14  7.31510052e+13 -3.53270642e+14 -4.94712910e+14\n",
            " -1.96230307e+14  2.13080773e+14  4.96213319e+14  3.80309385e+14\n",
            "  1.75066814e+13 -3.44230648e+14 -4.87250016e+14 -3.02344800e+14\n",
            "  2.62593791e+13  3.30040038e+14  4.73494550e+14  3.40422044e+14\n",
            "  2.18521947e+13 -3.08247209e+14 -4.73280892e+14 -3.86850938e+14\n",
            " -8.61310505e+13  2.56242683e+14  4.63841120e+14  4.23130930e+14\n",
            "  1.23033768e+14 -2.34060437e+14 -4.83471867e+14 -4.17931846e+14\n",
            " -4.03199922e+13  4.12817710e+14  5.76576966e+14  1.26944300e+13\n",
            " -7.83101811e+14  3.32763612e+14]\n"
          ]
        },
        {
          "output_type": "display_data",
          "data": {
            "text/plain": [
              "<Figure size 720x720 with 1 Axes>"
            ],
            "image/png": "[encoded data removed]"
          },
          "metadata": {
            "needs_background": "light"
          }
        }
      ]
    },
    {
      "cell_type": "markdown",
      "source": [
        "# 규제 (regularization)"
      ],
      "metadata": {
        "id": "hKLN8jwPZA7W"
      }
    },
    {
      "cell_type": "markdown",
      "source": [
        "*  머신 러닝의 목적은 목적 함수(objective function)/비용 함수(cost function)/손실 함수(loss function)을 최소화하는 것.\n",
        "*  선형 회귀(linear regression)의 목적은 MSE(mean_squared_error)를 최소로 만드는 계수들($ w_0, ... , w_m $)을 찾는 것. 즉, 선형 회귀의 목적 함수는 MSE(w).\n",
        "$$\n",
        "J(w) = MSE(w) = \\frac{1}{N}\\sum^{N}_{i=1}(y_i - \\hat{y_i})^2 = \\frac{1}{N}\\sum^{N}_{i=1}(y_i - (w_0 + \\sum^{m}_{j=1} w_{j} \\cdot x_{ij} ))^2\n",
        "$$\n",
        "    * $N$: 샘플의 개수(DataFrame의 row의 개수)\n",
        "    * $m$: 특성의 개수(DataFrame의 column의 개수)\n",
        "    * $y_i$: $i$번째 샘플의 실젯값\n",
        "    * $\\hat{y_i}$: $i$번째 샘플의 예측값\n",
        "    * $x_{ij}$: $i$번째 샘플의 $j$번째 특성 값\n",
        "    * $w_{j}$: $j$번째 특성에 곱해주는 계수(기울기)\n",
        "\n",
        "\n",
        "* Ridge(`l2`) 규제의 목적은 아래의 비용 함수를 최소로 만드는 계수들($ w_0, ... , w_m $)을 찾는 것.\n",
        "\n",
        "$$\n",
        "J(w) = MSE(w) + \\frac{\\alpha}{2} ||w||^2\n",
        "$$\n",
        "\n",
        "> Ridge 규제의 효과는 고차항들의 계수(coefficients, 기울기)를 작게 만들어서 곡선의 기울기를 완만하게 만들어 주게 됨. overfitting(과대적합)을 줄여주게 됨.\n",
        "\n",
        "* Lasso(`l1`) 규제의 목적은 아래의 비용 함수를 최소로 만드는 계수들($ w_0, ... , w_m $)을 찾는 것.\n",
        "\n",
        "$$\n",
        "J(w) = MSE(w) + \\alpha ||w||\n",
        "$$\n",
        "\n",
        "> Lasso 규제는 중요하지 않은 고차항들의 계수를 0으로 만들어 줌으로써, 곡선을 완만하게 만들어 주는 효과가 생김. 과대적합을 줄여주는 효과.\n",
        "\n",
        "* ElasticNet 규제의 목적은 아래의 비용 함수를 최소로 만드는 계수들($ w_0, ... , w_m $)을 찾는 것.\n",
        "\n",
        "$$\n",
        "J(w) = MSE(w) + r\\alpha ||w|| + \\frac{1-r}{2} \\alpha ||w||^2\n",
        "$$\n",
        "\n",
        ">ElasticNet은 Ridge 규제와 Lasso 규제의 효과를 모두 가지고 있음.\n",
        "\n",
        "* Ridge, Lasso에서 $\\alpha$ 값이 크면 규제가 강해지고, $\\alpha$ 값이 작으면 규제가 약해짐($\\alpha \\geq 0$).\n",
        "* ElasticNet에서 $\\alpha$는 규제의 크기를 의미하고, $r$은 `l1` 규제의 비율($ 0 \\leq r \\leq 1$)을 의미함."
      ],
      "metadata": {
        "id": "p9FXWNd_ZEJG"
      }
    },
    {
      "cell_type": "markdown",
      "source": [
        "## l2 규제 : Ridge"
      ],
      "metadata": {
        "id": "sAp67a9cdyne"
      }
    },
    {
      "cell_type": "code",
      "source": [
        "estimator = Ridge()\n",
        "visualize_regression(X_tr, y_tr, X_te, y_te, degrees, estimator)"
      ],
      "metadata": {
        "colab": {
          "base_uri": "https://localhost:8080/",
          "height": 816
        },
        "id": "KzAk5mZad0cu",
        "outputId": "fedf0d9f-6e00-4fed-f3dc-bb8e8a3cce5a"
      },
      "execution_count": null,
      "outputs": [
        {
          "output_type": "stream",
          "name": "stdout",
          "text": [
            "degree = 1 : [332.63395699]\n",
            "degree = 2 : [ 90.58971122 249.48800198]\n",
            "degree = 5 : [71.46390274 95.36902828 90.24481144 64.15690222 24.69095831]\n",
            "degree = 50 : [57.071767   71.05492103 71.65634347 63.87632    51.92887907 38.82686003\n",
            " 26.45737388 15.82631359  7.32628255  0.96590695 -3.45871369 -6.24793939\n",
            " -7.72662807 -8.20357587 -7.95156044 -7.19999236 -6.13474486 -4.9016977\n",
            " -3.61189738 -2.34712978 -1.16525955 -0.10502713  0.80981179  1.56701183\n",
            "  2.16298141  2.6004731   2.88674253  3.03210024  3.04878761  2.95011641\n",
            "  2.74982088  2.46157898  2.09866767  1.67372291  1.19858097  0.68418227\n",
            "  0.14052254 -0.42336072 -0.99937571 -1.58034537 -2.1599636  -2.73274316\n",
            " -3.29395867 -3.83958717 -4.36624834 -4.87114565 -5.35200944 -5.8070427\n",
            " -6.23486993 -6.63448935]\n"
          ]
        },
        {
          "output_type": "display_data",
          "data": {
            "text/plain": [
              "<Figure size 720x720 with 1 Axes>"
            ],
            "image/png": "[encoded data removed]"
          },
          "metadata": {
            "needs_background": "light"
          }
        }
      ]
    },
    {
      "cell_type": "code",
      "source": [
        "model = Pipeline([('poly', PolynomialFeatures(degree=50, include_bias=False)),\n",
        "                  ('scaler', StandardScaler()),\n",
        "                  ('reg', Ridge())])"
      ],
      "metadata": {
        "id": "6NK-jiXMffWJ"
      },
      "execution_count": null,
      "outputs": []
    },
    {
      "cell_type": "code",
      "source": [
        "model.fit(X_tr, y_tr)"
      ],
      "metadata": {
        "colab": {
          "base_uri": "https://localhost:8080/"
        },
        "id": "wCMTDuhAfwKE",
        "outputId": "589a4c50-d365-4836-8973-a6f860c364e0"
      },
      "execution_count": null,
      "outputs": [
        {
          "output_type": "execute_result",
          "data": {
            "text/plain": [
              "Pipeline(steps=[('poly', PolynomialFeatures(degree=50, include_bias=False)),\n",
              "                ('scaler', StandardScaler()), ('reg', Ridge())])"
            ]
          },
          "metadata": {},
          "execution_count": 63
        }
      ]
    },
    {
      "cell_type": "code",
      "source": [
        "print('train r2:', model.score(X_tr, y_tr))\n",
        "print('test r2:', model.score(X_te, y_te))"
      ],
      "metadata": {
        "colab": {
          "base_uri": "https://localhost:8080/"
        },
        "id": "neug438qfyKz",
        "outputId": "f6ee37a3-baf3-413b-c1dd-ffa05dbdefcc"
      },
      "execution_count": null,
      "outputs": [
        {
          "output_type": "stream",
          "name": "stdout",
          "text": [
            "train r2: 0.9739229136053733\n",
            "test r2: 0.9813385255457554\n"
          ]
        }
      ]
    },
    {
      "cell_type": "markdown",
      "source": [
        "## l1 규제 : Lasso"
      ],
      "metadata": {
        "id": "ItQLKmD5go4G"
      }
    },
    {
      "cell_type": "code",
      "source": [
        "estimator = Lasso(max_iter=10_000, tol=0.001)\n",
        "visualize_regression(X_tr, y_tr, X_te, y_te, degrees, estimator)"
      ],
      "metadata": {
        "colab": {
          "base_uri": "https://localhost:8080/",
          "height": 835
        },
        "id": "ODkl4BZ0goTD",
        "outputId": "d1d7a79c-d49a-4b97-91a7-f9c73ab39c26"
      },
      "execution_count": null,
      "outputs": [
        {
          "output_type": "stream",
          "name": "stdout",
          "text": [
            "degree = 1 : [339.55381311]\n",
            "degree = 2 : [-24.15886941 368.40371318]\n",
            "degree = 5 : [  0.         187.45257639 157.89610691   0.           0.        ]\n",
            "degree = 50 : [  0.          96.03631633 194.22723322  72.8858871    0.\n",
            "   0.           0.           0.           0.           0.\n",
            "  -0.          -0.          -0.          -0.          -0.\n",
            "  -0.          -0.          -0.          -0.          -0.\n",
            "  -0.          -0.          -0.          -0.          -0.\n",
            "  -0.          -0.          -0.          -0.          -0.\n",
            "  -0.          -0.          -0.          -0.          -0.\n",
            "  -0.          -0.          -0.          -0.          -0.\n",
            "  -0.          -0.          -0.          -0.          -0.\n",
            "  -0.          -0.          -6.24744375 -13.90628201 -13.30554271]\n"
          ]
        },
        {
          "output_type": "display_data",
          "data": {
            "text/plain": [
              "<Figure size 720x720 with 1 Axes>"
            ],
            "image/png": "[encoded data removed]"
          },
          "metadata": {
            "needs_background": "light"
          }
        }
      ]
    },
    {
      "cell_type": "markdown",
      "source": [
        "# 규제 크기($\\alpha$)에 따른 결정 계수의 변화"
      ],
      "metadata": {
        "id": "U1Pw5-CUofWD"
      }
    },
    {
      "cell_type": "markdown",
      "source": [
        "5차항까지 포함, StandardScalar 사용, 훈련 셋/테스트 셋에서의 r2 score를 계산, 시각화"
      ],
      "metadata": {
        "id": "zMndPlrio12M"
      }
    },
    {
      "cell_type": "code",
      "source": [
        "train_scores = [] # 훈련 셋에서 계산한 결정계수를 저장할 리스트\n",
        "test_scores = [] # 테스트 셋에서 계산한 결정계수를 저장할 리스트\n",
        "alphas = [10 ** x for x in range(-3, 3)] # [0.001, 0.01, 0.1, 1, 10, 100]\n",
        "\n",
        "for a in alphas:\n",
        "    poly = PolynomialFeatures(degree=5, include_bias=False)\n",
        "    scaler = StandardScaler()\n",
        "    estimator = ElasticNet(alpha=a)\n",
        "    model = Pipeline([('poly', poly), ('scaler', scaler), ('reg', estimator)])\n",
        "    model.fit(X_tr, y_tr)\n",
        "    train_r2 = model.score(X_tr, y_tr) # 훈련 셋 결정계수\n",
        "    train_scores.append(train_r2)\n",
        "    test_r2 = model.score(X_te, y_te) # 테스트 셋 결정계수\n",
        "    test_scores.append(test_r2)\n",
        "\n",
        "plt.plot(np.log(alphas), train_scores, 'bo-', label='train scores')\n",
        "plt.plot(np.log(alphas), test_scores, 'ro:', label='test scores')\n",
        "plt.grid()\n",
        "plt.legend()\n",
        "\n",
        "print('train scores :', train_scores)\n",
        "print('test scores :', test_scores)"
      ],
      "metadata": {
        "colab": {
          "base_uri": "https://localhost:8080/",
          "height": 395
        },
        "id": "XmpYqHF0ofMr",
        "outputId": "64cf6692-13fe-4b05-8528-414e7c8183a4"
      },
      "execution_count": null,
      "outputs": [
        {
          "output_type": "stream",
          "name": "stdout",
          "text": [
            "train scores : [0.9729318909719307, 0.9694267645740603, 0.9669667595405638, 0.9574099753809557, 0.7128959260018337, 0.1419437414816156]\n",
            "test scores : [0.9792791927855977, 0.9717021238527076, 0.9675102498277163, 0.9741613969257316, 0.7439362036454651, 0.10755935075190703]\n"
          ]
        },
        {
          "output_type": "stream",
          "name": "stderr",
          "text": [
            "/usr/local/lib/python3.7/dist-packages/sklearn/linear_model/_coordinate_descent.py:648: ConvergenceWarning: Objective did not converge. You might want to increase the number of iterations, check the scale of the features or consider increasing regularisation. Duality gap: 7.319e+04, tolerance: 5.183e+02\n",
            "  coef_, l1_reg, l2_reg, X, y, max_iter, tol, rng, random, positive\n",
            "/usr/local/lib/python3.7/dist-packages/sklearn/linear_model/_coordinate_descent.py:648: ConvergenceWarning: Objective did not converge. You might want to increase the number of iterations, check the scale of the features or consider increasing regularisation. Duality gap: 8.688e+02, tolerance: 5.183e+02\n",
            "  coef_, l1_reg, l2_reg, X, y, max_iter, tol, rng, random, positive\n"
          ]
        },
        {
          "output_type": "display_data",
          "data": {
            "text/plain": [
              "<Figure size 432x288 with 1 Axes>"
            ],
            "image/png": "[encoded data removed]"
          },
          "metadata": {
            "needs_background": "light"
          }
        }
      ]
    },
    {
      "cell_type": "markdown",
      "source": [
        "규제를 사용하면 과대적합을 줄이면서(없애면서) 일반화 성능을 좋게 만들고 있음."
      ],
      "metadata": {
        "id": "6WhbZgWrwSX6"
      }
    },
    {
      "cell_type": "markdown",
      "source": [
        "## 농어 데이터의 모든 컬럼을 변수로 사용, Ridge, Lasso, ElasticNet 규제 크기에 따른 결정 계수 그래프."
      ],
      "metadata": {
        "id": "t39mxvB7w5wI"
      }
    },
    {
      "cell_type": "code",
      "source": [
        "X = perch.iloc[:, 2:].values.copy()\n",
        "y = perch['Weight'].values.copy()"
      ],
      "metadata": {
        "id": "LdzPLwREwW4p"
      },
      "execution_count": null,
      "outputs": []
    },
    {
      "cell_type": "code",
      "source": [
        "X_tr, X_te, y_tr, y_te = train_test_split(X, y,\n",
        "                                          test_size=0.25,\n",
        "                                          random_state=42)"
      ],
      "metadata": {
        "id": "9ewTCOFR2uUo"
      },
      "execution_count": null,
      "outputs": []
    },
    {
      "cell_type": "code",
      "source": [
        "X_tr.shape, X_te.shape, y_tr.shape, y_te.shape"
      ],
      "metadata": {
        "colab": {
          "base_uri": "https://localhost:8080/"
        },
        "id": "pdAhB8Jh3JrU",
        "outputId": "d0f2a61e-2ae4-4766-953b-88580349de36"
      },
      "execution_count": null,
      "outputs": [
        {
          "output_type": "execute_result",
          "data": {
            "text/plain": [
              "((42, 4), (14, 4), (42,), (14,))"
            ]
          },
          "metadata": {},
          "execution_count": 69
        }
      ]
    },
    {
      "cell_type": "code",
      "source": [
        "train_scores = [] # 훈련 셋에서 계산한 결정계수를 저장할 리스트\n",
        "test_scores = [] # 테스트 셋에서 계산한 결정계수를 저장할 리스트\n",
        "alphas = [10 ** x for x in range(-3, 3)] # [0.001, 0.01, 0.1, 1, 10, 100]\n",
        "for a in alphas:\n",
        "    poly = PolynomialFeatures(degree=5, include_bias=False)\n",
        "    scaler = StandardScaler()\n",
        "    estimator = Ridge(alpha=a)\n",
        "    model = Pipeline([('poly', poly), ('scaler', scaler), ('reg', estimator)])\n",
        "    model.fit(X_tr, y_tr)\n",
        "    train_r2 = model.score(X_tr, y_tr) # 훈련 셋 결정계수\n",
        "    train_scores.append(train_r2)\n",
        "    test_r2 = model.score(X_te, y_te) # 테스트 셋 결정계수\n",
        "    test_scores.append(test_r2)\n",
        "\n",
        "plt.plot(np.log(alphas), train_scores, 'bo-', label='train scores')\n",
        "plt.plot(np.log(alphas), test_scores, 'ro:', label='test scores')\n",
        "plt.grid()\n",
        "plt.legend()\n",
        "\n",
        "print('train scores :', train_scores)\n",
        "print('test scores :', test_scores)"
      ],
      "metadata": {
        "colab": {
          "base_uri": "https://localhost:8080/",
          "height": 306
        },
        "id": "cYyOyGZf2u2A",
        "outputId": "21dd8650-3e66-4cf5-ffb6-db13323fd17d"
      },
      "execution_count": null,
      "outputs": [
        {
          "output_type": "stream",
          "name": "stdout",
          "text": [
            "train scores : [0.9946716964073975, 0.9926658847510959, 0.9906588529802888, 0.9898642966685524, 0.9891003605036942, 0.9847161412052865]\n",
            "test scores : [0.8805517581588203, 0.9675695452678644, 0.9829891528180518, 0.9805647119266162, 0.9749015716532, 0.9620345864309697]\n"
          ]
        },
        {
          "output_type": "display_data",
          "data": {
            "text/plain": [
              "<Figure size 432x288 with 1 Axes>"
            ],
            "image/png": "[encoded data removed]"
          },
          "metadata": {
            "needs_background": "light"
          }
        }
      ]
    },
    {
      "cell_type": "code",
      "source": [
        "train_scores = [] # 훈련 셋에서 계산한 결정계수를 저장할 리스트\n",
        "test_scores = [] # 테스트 셋에서 계산한 결정계수를 저장할 리스트\n",
        "alphas = [10 ** x for x in range(-3, 3)] # [0.001, 0.01, 0.1, 1, 10, 100]\n",
        "for a in alphas:\n",
        "    poly = PolynomialFeatures(degree=5, include_bias=False)\n",
        "    scaler = StandardScaler()\n",
        "    estimator = Lasso(alpha=a, max_iter=100_000, tol=0.001)\n",
        "    model = Pipeline([('poly', poly), ('scaler', scaler), ('reg', estimator)])\n",
        "    model.fit(X_tr, y_tr)\n",
        "    train_r2 = model.score(X_tr, y_tr) # 훈련 셋 결정계수\n",
        "    train_scores.append(train_r2)\n",
        "    test_r2 = model.score(X_te, y_te) # 테스트 셋 결정계수\n",
        "    test_scores.append(test_r2)\n",
        "\n",
        "plt.plot(np.log(alphas), train_scores, 'bo-', label='train scores')\n",
        "plt.plot(np.log(alphas), test_scores, 'ro:', label='test scores')\n",
        "plt.grid()\n",
        "plt.legend()\n",
        "\n",
        "print('train scores :', train_scores)\n",
        "print('test scores :', test_scores)"
      ],
      "metadata": {
        "colab": {
          "base_uri": "https://localhost:8080/",
          "height": 358
        },
        "id": "uWPf7j8q5glg",
        "outputId": "84ad1f9c-b5eb-44d1-c856-967317930fe9"
      },
      "execution_count": null,
      "outputs": [
        {
          "output_type": "stream",
          "name": "stderr",
          "text": [
            "/usr/local/lib/python3.7/dist-packages/sklearn/linear_model/_coordinate_descent.py:648: ConvergenceWarning: Objective did not converge. You might want to increase the number of iterations, check the scale of the features or consider increasing regularisation. Duality gap: 1.120e+04, tolerance: 5.183e+03\n",
            "  coef_, l1_reg, l2_reg, X, y, max_iter, tol, rng, random, positive\n"
          ]
        },
        {
          "output_type": "stream",
          "name": "stdout",
          "text": [
            "train scores : [0.995299628429997, 0.9940725023435732, 0.9900933902196672, 0.9898000130537604, 0.9888486217703013, 0.9079687985326612]\n",
            "test scores : [0.8362618256216907, 0.913262304058171, 0.9803174736331131, 0.9798508231795158, 0.9824280305768478, 0.9074703909908151]\n"
          ]
        },
        {
          "output_type": "display_data",
          "data": {
            "text/plain": [
              "<Figure size 432x288 with 1 Axes>"
            ],
            "image/png": "[encoded data removed]"
          },
          "metadata": {
            "needs_background": "light"
          }
        }
      ]
    },
    {
      "cell_type": "code",
      "source": [
        "train_scores = [] # 훈련 셋에서 계산한 결정계수를 저장할 리스트\n",
        "test_scores = [] # 테스트 셋에서 계산한 결정계수를 저장할 리스트\n",
        "alphas = [10 ** x for x in range(-3, 3)] # [0.001, 0.01, 0.1, 1, 10, 100]\n",
        "for a in alphas:\n",
        "    poly = PolynomialFeatures(degree=5, include_bias=False)\n",
        "    scaler = StandardScaler()\n",
        "    estimator = ElasticNet(alpha=a, max_iter=100_000)\n",
        "    model = Pipeline([('poly', poly), ('scaler', scaler), ('reg', estimator)])\n",
        "    model.fit(X_tr, y_tr)\n",
        "    train_r2 = model.score(X_tr, y_tr) # 훈련 셋 결정계수\n",
        "    train_scores.append(train_r2)\n",
        "    test_r2 = model.score(X_te, y_te) # 테스트 셋 결정계수\n",
        "    test_scores.append(test_r2)\n",
        "\n",
        "plt.plot(np.log(alphas), train_scores, 'bo-', label='train scores')\n",
        "plt.plot(np.log(alphas), test_scores, 'ro:', label='test scores')\n",
        "plt.grid()\n",
        "plt.legend()\n",
        "\n",
        "print('train scores :', train_scores)\n",
        "print('test scores :', test_scores)"
      ],
      "metadata": {
        "colab": {
          "base_uri": "https://localhost:8080/",
          "height": 395
        },
        "id": "r1G41F3G5nXz",
        "outputId": "0ad8c4de-a4ef-4297-9d23-ef0479b3f38a"
      },
      "execution_count": null,
      "outputs": [
        {
          "output_type": "stream",
          "name": "stderr",
          "text": [
            "/usr/local/lib/python3.7/dist-packages/sklearn/linear_model/_coordinate_descent.py:648: ConvergenceWarning: Objective did not converge. You might want to increase the number of iterations, check the scale of the features or consider increasing regularisation. Duality gap: 1.659e+04, tolerance: 5.183e+02\n",
            "  coef_, l1_reg, l2_reg, X, y, max_iter, tol, rng, random, positive\n",
            "/usr/local/lib/python3.7/dist-packages/sklearn/linear_model/_coordinate_descent.py:648: ConvergenceWarning: Objective did not converge. You might want to increase the number of iterations, check the scale of the features or consider increasing regularisation. Duality gap: 2.034e+03, tolerance: 5.183e+02\n",
            "  coef_, l1_reg, l2_reg, X, y, max_iter, tol, rng, random, positive\n"
          ]
        },
        {
          "output_type": "stream",
          "name": "stdout",
          "text": [
            "train scores : [0.9918680069055825, 0.9902982877266575, 0.9896451841030244, 0.9882895517028185, 0.9807297352710089, 0.8298002302295657]\n",
            "test scores : [0.9780983353813979, 0.9826123398654909, 0.9788098964778946, 0.971406441339297, 0.9615684464630995, 0.8421891080992795]\n"
          ]
        },
        {
          "output_type": "display_data",
          "data": {
            "text/plain": [
              "<Figure size 432x288 with 1 Axes>"
            ],
            "image/png": "[encoded data removed]"
          },
          "metadata": {
            "needs_background": "light"
          }
        }
      ]
    },
    {
      "cell_type": "code",
      "source": [
        "ridge_train_scores = []\n",
        "ridge_test_scores = []\n",
        "lasso_train_scores = []\n",
        "lasso_test_scores = []\n",
        "elasticnet_train_scores = []\n",
        "elasticnet_test_scores = []\n",
        "alphas = [10 ** x for x in range(-3, 3)] # [0.001, 0.01, 0.1, 1, 10, 100]\n",
        "reg = ['Ridge', 'Lasso', 'ElasticNet']\n",
        "for a in alphas:\n",
        "    poly = PolynomialFeatures(degree=5, include_bias=False)\n",
        "    scaler = StandardScaler()\n",
        "    for r in reg:\n",
        "        if r == 'Ridge':\n",
        "            estimator = Ridge(alpha=a)\n",
        "        elif r == 'Lasso':\n",
        "            estimator = Lasso(alpha=a, max_iter=100_000, tol=0.001)\n",
        "        elif r == 'ElasticNet':\n",
        "            estimator = ElasticNet(alpha=a, max_iter=100_000)\n",
        "        model = Pipeline([('poly', poly), ('scaler', scaler), ('reg', estimator)])\n",
        "        model.fit(X_tr, y_tr)\n",
        "        train_r2 = model.score(X_tr, y_tr) # 훈련 셋 결정계수\n",
        "        test_r2 = model.score(X_te, y_te) # 테스트 셋 결정계수\n",
        "        if r == 'Ridge':\n",
        "            ridge_train_scores.append(train_r2)\n",
        "            ridge_test_scores.append(test_r2)\n",
        "        elif r == 'Lasso':\n",
        "            lasso_train_scores.append(train_r2)\n",
        "            lasso_test_scores.append(test_r2)\n",
        "        elif r == 'ElasticNet':\n",
        "            elasticnet_train_scores.append(train_r2)\n",
        "            elasticnet_test_scores.append(test_r2)\n",
        "print('Ridge train :', ridge_train_scores)\n",
        "print('Ridge test :', ridge_test_scores)\n",
        "print('Lasso train :', lasso_train_scores)\n",
        "print('Lasso test :', lasso_test_scores)\n",
        "print('ElasticNet train :', elasticnet_train_scores)\n",
        "print('ElasticNet test :', elasticnet_test_scores)\n",
        "\n",
        "plt.plot(np.log(alphas), ridge_train_scores, 'bo-', label='Ridge train scores')\n",
        "plt.plot(np.log(alphas), ridge_test_scores, 'ro:', label='Ridge test scores')\n",
        "plt.plot(np.log(alphas), lasso_train_scores, 'gv-', label='Lasso train scores')\n",
        "plt.plot(np.log(alphas), lasso_test_scores, color='violet', marker='v', linestyle=':', label='Lasso test scores')\n",
        "plt.plot(np.log(alphas), elasticnet_train_scores, color = 'gray', marker='x', linestyle='-', label='Elasticnet train scores')\n",
        "plt.plot(np.log(alphas), elasticnet_test_scores, color='pink', marker='x', linestyle=':', label='Elasticnet test scores')\n",
        "\n",
        "plt.legend()\n",
        "plt.grid()\n",
        "plt.show()"
      ],
      "metadata": {
        "colab": {
          "base_uri": "https://localhost:8080/",
          "height": 505
        },
        "id": "P0OoPZVOpEvp",
        "outputId": "5164b6ef-73ee-4951-f23d-74ed637ccd73"
      },
      "execution_count": null,
      "outputs": [
        {
          "output_type": "stream",
          "name": "stderr",
          "text": [
            "/usr/local/lib/python3.7/dist-packages/sklearn/linear_model/_coordinate_descent.py:648: ConvergenceWarning: Objective did not converge. You might want to increase the number of iterations, check the scale of the features or consider increasing regularisation. Duality gap: 1.120e+04, tolerance: 5.183e+03\n",
            "  coef_, l1_reg, l2_reg, X, y, max_iter, tol, rng, random, positive\n",
            "/usr/local/lib/python3.7/dist-packages/sklearn/linear_model/_coordinate_descent.py:648: ConvergenceWarning: Objective did not converge. You might want to increase the number of iterations, check the scale of the features or consider increasing regularisation. Duality gap: 1.659e+04, tolerance: 5.183e+02\n",
            "  coef_, l1_reg, l2_reg, X, y, max_iter, tol, rng, random, positive\n",
            "/usr/local/lib/python3.7/dist-packages/sklearn/linear_model/_coordinate_descent.py:648: ConvergenceWarning: Objective did not converge. You might want to increase the number of iterations, check the scale of the features or consider increasing regularisation. Duality gap: 2.034e+03, tolerance: 5.183e+02\n",
            "  coef_, l1_reg, l2_reg, X, y, max_iter, tol, rng, random, positive\n"
          ]
        },
        {
          "output_type": "stream",
          "name": "stdout",
          "text": [
            "Ridge train : [0.9946716964073975, 0.9926658847510959, 0.9906588529802888, 0.9898642966685524, 0.9891003605036942, 0.9847161412052865]\n",
            "Ridge test : [0.8805517581588203, 0.9675695452678644, 0.9829891528180518, 0.9805647119266162, 0.9749015716532, 0.9620345864309697]\n",
            "Lasso train : [0.995299628429997, 0.9940725023435732, 0.9900933902196672, 0.9898000130537604, 0.9888486217703013, 0.9079687985326612]\n",
            "Lasso test : [0.8362618256216907, 0.913262304058171, 0.9803174736331131, 0.9798508231795158, 0.9824280305768478, 0.9074703909908151]\n",
            "ElasticNet train : [0.9918680069055825, 0.9902982877266575, 0.9896451841030244, 0.9882895517028185, 0.9807297352710089, 0.8298002302295657]\n",
            "ElasticNet test : [0.9780983353813979, 0.9826123398654909, 0.9788098964778946, 0.971406441339297, 0.9615684464630995, 0.8421891080992795]\n"
          ]
        },
        {
          "output_type": "display_data",
          "data": {
            "text/plain": [
              "<Figure size 432x288 with 1 Axes>"
            ],
            "image/png": "[encoded data removed]"
          },
          "metadata": {
            "needs_background": "light"
          }
        }
      ]
    },
    {
      "cell_type": "code",
      "source": [
        "def visualize_r2_score(estimator, X_tr, y_tr, X_te, y_te):\n",
        "    train_scores = [] # 규제 크기에 따른 훈련 셋에서 계산한 결정계수를 저장할 리스트\n",
        "    test_scores = [] # 규제 크기에 따른 테스트 셋에서 계산한 결정계수를 저장할 리스트\n",
        "    alphas = [10 ** x for x in range(-3, 3)] # 규제 크기 : [0.001, 0.01, 0.1, 1, 10, 100]\n",
        "    for a in alphas:\n",
        "        # 머신 러닝 모델 생성 (Polynomial → Scaler → Estimator)\n",
        "        poly = PolynomialFeatures(degree=5, include_bias=False)\n",
        "        scaler = StandardScaler()\n",
        "        if estimator == 'l1':\n",
        "            reg = Lasso(alpha=a)\n",
        "        elif estimator == 'l2':\n",
        "            reg = Ridge(alpha=a)\n",
        "        elif estimator == 'elastic':\n",
        "            reg = ElasticNet(alpha=a)\n",
        "        else:\n",
        "            raise ValueError('estimator는 \"l1\", \"l2\", 또는 \"elastic\"이어야 함!')\n",
        "\n",
        "        model = Pipeline([('poly', poly), ('scaler', scaler), ('reg', reg)])\n",
        "        model.fit(X_tr, y_tr) # 모델 훈련\n",
        "        train_r2 = model.score(X_tr, y_tr) # 훈련 셋에서의 결정계수\n",
        "        train_scores.append(train_r2)\n",
        "        test_r2 = model.score(X_te, y_te) # 테스트 셋에서의 결정계수\n",
        "        test_scores.append(test_r2)\n",
        "    \n",
        "    # 리스트 내용 출력\n",
        "    print('train scores :', train_scores)\n",
        "    print('test scores :', test_scores)\n",
        "\n",
        "    # 리스트 내용 선 그래프로 시각화\n",
        "    plt.plot(np.log10(alphas), train_scores, 'bo-', label='train $r^2$')\n",
        "    plt.plot(np.log10(alphas), test_scores, 'r^:', label='test $r^2$')\n",
        "    plt.legend()\n",
        "    plt.grid()\n",
        "    plt.xlabel('alphas (log scale)')\n",
        "    plt.ylabel('$R^2$ score')\n",
        "    plt.show()"
      ],
      "metadata": {
        "id": "P4Tvlgw4t5jI"
      },
      "execution_count": null,
      "outputs": []
    },
    {
      "cell_type": "code",
      "source": [
        "visualize_r2_score('l1', X_tr, y_tr, X_te, y_te)"
      ],
      "metadata": {
        "colab": {
          "base_uri": "https://localhost:8080/",
          "height": 446
        },
        "id": "JpGfJcc7whCV",
        "outputId": "4d20a0c2-789d-4f14-b19a-a678020d5057"
      },
      "execution_count": null,
      "outputs": [
        {
          "output_type": "stream",
          "name": "stderr",
          "text": [
            "/usr/local/lib/python3.7/dist-packages/sklearn/linear_model/_coordinate_descent.py:648: ConvergenceWarning: Objective did not converge. You might want to increase the number of iterations, check the scale of the features or consider increasing regularisation. Duality gap: 2.223e+04, tolerance: 5.183e+02\n",
            "  coef_, l1_reg, l2_reg, X, y, max_iter, tol, rng, random, positive\n",
            "/usr/local/lib/python3.7/dist-packages/sklearn/linear_model/_coordinate_descent.py:648: ConvergenceWarning: Objective did not converge. You might want to increase the number of iterations, check the scale of the features or consider increasing regularisation. Duality gap: 1.931e+04, tolerance: 5.183e+02\n",
            "  coef_, l1_reg, l2_reg, X, y, max_iter, tol, rng, random, positive\n",
            "/usr/local/lib/python3.7/dist-packages/sklearn/linear_model/_coordinate_descent.py:648: ConvergenceWarning: Objective did not converge. You might want to increase the number of iterations, check the scale of the features or consider increasing regularisation. Duality gap: 1.286e+03, tolerance: 5.183e+02\n",
            "  coef_, l1_reg, l2_reg, X, y, max_iter, tol, rng, random, positive\n"
          ]
        },
        {
          "output_type": "stream",
          "name": "stdout",
          "text": [
            "train scores : [0.9913081624751734, 0.991160616711604, 0.9902163474611422, 0.9898350521155961, 0.9888395046087162, 0.9079164370253793]\n",
            "test scores : [0.9824626792817299, 0.9828352217966845, 0.9822471480638032, 0.9800927355337123, 0.9825423368999452, 0.9092831899445631]\n"
          ]
        },
        {
          "output_type": "display_data",
          "data": {
            "text/plain": [
              "<Figure size 432x288 with 1 Axes>"
            ],
            "image/png": "[encoded data removed]"
          },
          "metadata": {
            "needs_background": "light"
          }
        }
      ]
    },
    {
      "cell_type": "code",
      "source": [
        "visualize_r2_score('l2', X_tr, y_tr, X_te, y_te)"
      ],
      "metadata": {
        "colab": {
          "base_uri": "https://localhost:8080/",
          "height": 320
        },
        "id": "8NSy61htxhPp",
        "outputId": "5b7df904-a3ee-4ba3-a422-a04cd8793409"
      },
      "execution_count": null,
      "outputs": [
        {
          "output_type": "stream",
          "name": "stdout",
          "text": [
            "train scores : [0.9946716964073975, 0.9926658847510959, 0.9906588529802888, 0.9898642966685524, 0.9891003605036942, 0.9847161412052865]\n",
            "test scores : [0.8805517581588203, 0.9675695452678644, 0.9829891528180518, 0.9805647119266162, 0.9749015716532, 0.9620345864309697]\n"
          ]
        },
        {
          "output_type": "display_data",
          "data": {
            "text/plain": [
              "<Figure size 432x288 with 1 Axes>"
            ],
            "image/png": "[encoded data removed]"
          },
          "metadata": {
            "needs_background": "light"
          }
        }
      ]
    },
    {
      "cell_type": "code",
      "source": [
        "visualize_r2_score('elastic', X_tr, y_tr, X_te, y_te)"
      ],
      "metadata": {
        "colab": {
          "base_uri": "https://localhost:8080/",
          "height": 483
        },
        "id": "iCAfSxunxi7N",
        "outputId": "1e067e25-9948-4f2e-c226-e7d94e8630b7"
      },
      "execution_count": null,
      "outputs": [
        {
          "output_type": "stream",
          "name": "stderr",
          "text": [
            "/usr/local/lib/python3.7/dist-packages/sklearn/linear_model/_coordinate_descent.py:648: ConvergenceWarning: Objective did not converge. You might want to increase the number of iterations, check the scale of the features or consider increasing regularisation. Duality gap: 2.363e+04, tolerance: 5.183e+02\n",
            "  coef_, l1_reg, l2_reg, X, y, max_iter, tol, rng, random, positive\n",
            "/usr/local/lib/python3.7/dist-packages/sklearn/linear_model/_coordinate_descent.py:648: ConvergenceWarning: Objective did not converge. You might want to increase the number of iterations, check the scale of the features or consider increasing regularisation. Duality gap: 2.377e+04, tolerance: 5.183e+02\n",
            "  coef_, l1_reg, l2_reg, X, y, max_iter, tol, rng, random, positive\n",
            "/usr/local/lib/python3.7/dist-packages/sklearn/linear_model/_coordinate_descent.py:648: ConvergenceWarning: Objective did not converge. You might want to increase the number of iterations, check the scale of the features or consider increasing regularisation. Duality gap: 1.638e+04, tolerance: 5.183e+02\n",
            "  coef_, l1_reg, l2_reg, X, y, max_iter, tol, rng, random, positive\n",
            "/usr/local/lib/python3.7/dist-packages/sklearn/linear_model/_coordinate_descent.py:648: ConvergenceWarning: Objective did not converge. You might want to increase the number of iterations, check the scale of the features or consider increasing regularisation. Duality gap: 1.046e+04, tolerance: 5.183e+02\n",
            "  coef_, l1_reg, l2_reg, X, y, max_iter, tol, rng, random, positive\n"
          ]
        },
        {
          "output_type": "stream",
          "name": "stdout",
          "text": [
            "train scores : [0.9911600197718459, 0.9903065264301221, 0.9896515210383674, 0.9883866962961532, 0.9807297352710089, 0.8298002302295657]\n",
            "test scores : [0.9828728562837419, 0.9826006657730557, 0.9792857127589776, 0.9719870935292817, 0.9615684464630995, 0.8421891080992795]\n"
          ]
        },
        {
          "output_type": "display_data",
          "data": {
            "text/plain": [
              "<Figure size 432x288 with 1 Axes>"
            ],
            "image/png": "[encoded data removed]"
          },
          "metadata": {
            "needs_background": "light"
          }
        }
      ]
    }
  ]
}