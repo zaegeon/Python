{
  "nbformat": 4,
  "nbformat_minor": 0,
  "metadata": {
    "colab": {
      "name": "20220613_Exercise.ipynb",
      "provenance": [],
      "collapsed_sections": [],
      "authorship_tag": "ABX9TyP7j8wmvHhC/ykC7NNwSwwO",
      "include_colab_link": true
    },
    "kernelspec": {
      "name": "python3",
      "display_name": "Python 3"
    },
    "language_info": {
      "name": "python"
    }
  },
  "cells": [
    {
      "cell_type": "markdown",
      "metadata": {
        "id": "view-in-github",
        "colab_type": "text"
      },
      "source": [
        "<a href=\"https://colab.research.google.com/github/zaegeon/Python/blob/main/ML/20220613_Exercise.ipynb\" target=\"_parent\"><img src=\"https://colab.research.google.com/assets/colab-badge.svg\" alt=\"Open In Colab\"/></a>"
      ]
    },
    {
      "cell_type": "markdown",
      "source": [
        "# Imports"
      ],
      "metadata": {
        "id": "mdBUoiKfLpLq"
      }
    },
    {
      "cell_type": "code",
      "source": [
        "import numpy as np\n",
        "import pandas as pd\n",
        "import matplotlib.pyplot as plt\n",
        "import seaborn as sns\n",
        "\n",
        "from sklearn.neighbors import KNeighborsClassifier # KNN 분류기(모델)\n",
        "from sklearn.model_selection import train_test_split # 훈련/테스트 셋 분리 함수\n",
        "from sklearn.metrics import confusion_matrix, classification_report\n",
        "from sklearn.metrics import accuracy_score, precision_score, recall_score, f1_score # 평가지표\n",
        "from sklearn.preprocessing import StandardScaler, MinMaxScaler # 변환기(특성 스케일링) "
      ],
      "metadata": {
        "id": "yFKbr4kjLpvV"
      },
      "execution_count": null,
      "outputs": []
    },
    {
      "cell_type": "markdown",
      "source": [
        "# iris 데이터 셋"
      ],
      "metadata": {
        "id": "NC0BJ_ScLw64"
      }
    },
    {
      "cell_type": "code",
      "execution_count": null,
      "metadata": {
        "id": "2f5eVQqELe6Y"
      },
      "outputs": [],
      "source": [
        "# sklearn 패키지에서 datasets 모듈을 import\n",
        "from sklearn import datasets"
      ]
    },
    {
      "cell_type": "code",
      "source": [
        "iris = datasets.load_iris()"
      ],
      "metadata": {
        "id": "0Ma4WCWuLz6p"
      },
      "execution_count": null,
      "outputs": []
    },
    {
      "cell_type": "code",
      "source": [
        "type(iris) # Bunch"
      ],
      "metadata": {
        "colab": {
          "base_uri": "https://localhost:8080/"
        },
        "id": "BTbVWnHK3DB-",
        "outputId": "877789b0-f936-4c21-bb5f-a40d30daa682"
      },
      "execution_count": null,
      "outputs": [
        {
          "output_type": "execute_result",
          "data": {
            "text/plain": [
              "sklearn.utils.Bunch"
            ]
          },
          "metadata": {},
          "execution_count": 57
        }
      ]
    },
    {
      "cell_type": "markdown",
      "source": [
        "`bunch` : Python의 `dict` 클래스와 비슷. \n",
        "\n",
        "*  `key : value` 형식으로 아이템들을 저장하는 데이터 타입.\n",
        "*  `bunch['key']` 또는 `bunch.key` 형식으로 value들을 사용할 수 있음."
      ],
      "metadata": {
        "id": "xOXrBiXH3GDU"
      }
    },
    {
      "cell_type": "code",
      "source": [
        "iris.keys() # Bunch 객체의 key들의 집합을 리턴."
      ],
      "metadata": {
        "colab": {
          "base_uri": "https://localhost:8080/"
        },
        "id": "PXFL6Fiq3b5c",
        "outputId": "0e155c76-02cd-4a02-d326-44084636c0f2"
      },
      "execution_count": null,
      "outputs": [
        {
          "output_type": "execute_result",
          "data": {
            "text/plain": [
              "dict_keys(['data', 'target', 'frame', 'target_names', 'DESCR', 'feature_names', 'filename', 'data_module'])"
            ]
          },
          "metadata": {},
          "execution_count": 58
        }
      ]
    },
    {
      "cell_type": "code",
      "source": [
        "iris_data = iris.data\n",
        "feature_names = iris.feature_names\n",
        "target = iris.target\n",
        "target_names = iris.target_names"
      ],
      "metadata": {
        "id": "i21gIndEL1O6"
      },
      "execution_count": null,
      "outputs": []
    },
    {
      "cell_type": "code",
      "source": [
        "X = iris_data\n",
        "y = target"
      ],
      "metadata": {
        "id": "eRp2w7p1Ni6b"
      },
      "execution_count": null,
      "outputs": []
    },
    {
      "cell_type": "code",
      "source": [
        "# Bunch 객체의 속성들 중에서 특성 배열(X), 타겟 배열(y)만 리턴.\n",
        "X, y = datasets.load_iris(return_X_y=True)"
      ],
      "metadata": {
        "id": "_bZaq4an6VSn"
      },
      "execution_count": null,
      "outputs": []
    },
    {
      "cell_type": "code",
      "source": [
        "# Bunch 객체의 속성들 중에서 특성 배열(X)을 DataFrame으로, 타겟 배열(y)을 Series로 리턴.\n",
        "X, y = datasets.load_iris(return_X_y=True, as_frame=True)"
      ],
      "metadata": {
        "id": "lBy4j0Wx6i8l"
      },
      "execution_count": null,
      "outputs": []
    },
    {
      "cell_type": "markdown",
      "source": [
        "# 훈련 셋 / 테스트 셋 분리"
      ],
      "metadata": {
        "id": "3QwB1x_0MB7w"
      }
    },
    {
      "cell_type": "code",
      "source": [
        "X_train, X_test, y_train, y_test = train_test_split(X, y,\n",
        "                                                    test_size = 0.2,\n",
        "                                                    random_state = 1,\n",
        "                                                    shuffle=True,\n",
        "                                                    stratify=y)"
      ],
      "metadata": {
        "id": "dbeHtxjlL_oi"
      },
      "execution_count": null,
      "outputs": []
    },
    {
      "cell_type": "code",
      "source": [
        "X_train.shape, X_test.shape, y_train.shape, y_test.shape"
      ],
      "metadata": {
        "colab": {
          "base_uri": "https://localhost:8080/"
        },
        "id": "leyJ4fv7NnUi",
        "outputId": "ef350222-285b-417f-b006-e9ca96c0effc"
      },
      "execution_count": null,
      "outputs": [
        {
          "output_type": "execute_result",
          "data": {
            "text/plain": [
              "((120, 4), (30, 4), (120,), (30,))"
            ]
          },
          "metadata": {},
          "execution_count": 64
        }
      ]
    },
    {
      "cell_type": "code",
      "source": [
        "knn = KNeighborsClassifier() # 모델 생성\n",
        "knn.fit(X_train, y_train) # 모델 훈련\n",
        "print('Train acc :', knn.score(X_train, y_train)) # 훈련 셋에서의 정확도\n",
        "print('Test acc :', knn.score(X_test, y_test)) # 테스트 셋에서의 정확도"
      ],
      "metadata": {
        "colab": {
          "base_uri": "https://localhost:8080/"
        },
        "id": "0O-1m0ZKN4Gi",
        "outputId": "122c13a1-6ed3-477b-987e-66547507cc2c"
      },
      "execution_count": null,
      "outputs": [
        {
          "output_type": "stream",
          "name": "stdout",
          "text": [
            "Train acc : 0.9666666666666667\n",
            "Test acc : 0.9666666666666667\n"
          ]
        }
      ]
    },
    {
      "cell_type": "code",
      "source": [
        "std_scaler = StandardScaler() # 표준화 특성 스케일 변환기 생성\n",
        "std_scaler.fit(X_train) # 훈련 셋의 평균과 표준편차를 찾음\n",
        "X_train_std = std_scaler.transform(X_train) # 훈련 셋을 표준화\n",
        "\n",
        "# (훈련 셋에서 찾은 평균과 표준편차를 사용해서) 테스트 셋을 스케일링\n",
        "X_test_std = std_scaler.transform(X_test)"
      ],
      "metadata": {
        "id": "nOq9L_8bTdRv"
      },
      "execution_count": null,
      "outputs": []
    },
    {
      "cell_type": "code",
      "source": [
        "knn = KNeighborsClassifier() # 모델 생성\n",
        "knn.fit(X_train_std, y_train) # 모델 훈련\n",
        "train_pred = knn.predict(X_train_std) # 스케일링된 훈련 셋의 예측값\n",
        "train_pred"
      ],
      "metadata": {
        "colab": {
          "base_uri": "https://localhost:8080/"
        },
        "id": "6T89vlViUQAQ",
        "outputId": "17dc3996-9270-403c-814a-e868fb7097ce"
      },
      "execution_count": null,
      "outputs": [
        {
          "output_type": "execute_result",
          "data": {
            "text/plain": [
              "array([0, 0, 2, 1, 1, 1, 1, 1, 2, 1, 2, 0, 1, 2, 2, 0, 2, 1, 1, 0, 0, 2,\n",
              "       2, 1, 2, 2, 0, 0, 2, 0, 0, 0, 0, 2, 0, 1, 2, 1, 2, 2, 2, 1, 2, 2,\n",
              "       1, 1, 2, 1, 1, 0, 2, 0, 2, 0, 0, 1, 0, 1, 2, 0, 2, 0, 0, 2, 1, 0,\n",
              "       1, 0, 0, 1, 2, 1, 1, 0, 0, 1, 2, 1, 1, 2, 1, 2, 0, 1, 2, 1, 1, 0,\n",
              "       0, 2, 1, 2, 1, 0, 1, 2, 2, 0, 0, 2, 2, 0, 2, 1, 1, 1, 2, 0, 2, 1,\n",
              "       2, 0, 2, 0, 1, 0, 1, 0, 0, 0])"
            ]
          },
          "metadata": {},
          "execution_count": 67
        }
      ]
    },
    {
      "cell_type": "code",
      "source": [
        "test_pred = knn.predict(X_test_std) # 스케일링된 훈련 셋의 예측값"
      ],
      "metadata": {
        "id": "eVXFcih_Uvqd"
      },
      "execution_count": null,
      "outputs": []
    },
    {
      "cell_type": "code",
      "source": [
        "knn.score(X_train_std, y_train)"
      ],
      "metadata": {
        "colab": {
          "base_uri": "https://localhost:8080/"
        },
        "id": "0-YmGKEFT8Ys",
        "outputId": "acbf7045-329d-46e2-e130-5025bdda2574"
      },
      "execution_count": null,
      "outputs": [
        {
          "output_type": "execute_result",
          "data": {
            "text/plain": [
              "0.9666666666666667"
            ]
          },
          "metadata": {},
          "execution_count": 69
        }
      ]
    },
    {
      "cell_type": "code",
      "source": [
        "knn.score(X_test_std, y_test)"
      ],
      "metadata": {
        "colab": {
          "base_uri": "https://localhost:8080/"
        },
        "id": "zNYRXPQTUKGt",
        "outputId": "7ee16cfb-7c8c-41cf-a365-2d48cc864fdb"
      },
      "execution_count": null,
      "outputs": [
        {
          "output_type": "execute_result",
          "data": {
            "text/plain": [
              "0.9666666666666667"
            ]
          },
          "metadata": {},
          "execution_count": 70
        }
      ]
    },
    {
      "cell_type": "code",
      "source": [
        "iris_cm = confusion_matrix(y_test, test_pred)\n",
        "iris_cm"
      ],
      "metadata": {
        "colab": {
          "base_uri": "https://localhost:8080/"
        },
        "id": "tu89lhCBUZtx",
        "outputId": "cc80c6b2-8f79-4df7-b4c0-782ca49b83e9"
      },
      "execution_count": null,
      "outputs": [
        {
          "output_type": "execute_result",
          "data": {
            "text/plain": [
              "array([[10,  0,  0],\n",
              "       [ 0, 10,  0],\n",
              "       [ 0,  1,  9]])"
            ]
          },
          "metadata": {},
          "execution_count": 71
        }
      ]
    },
    {
      "cell_type": "code",
      "source": [
        "# 정확도 계산\n",
        "print('Accuracy :', round((iris_cm[0][0] + iris_cm[1][1] + iris_cm[2][2]) / 30, 4) )"
      ],
      "metadata": {
        "colab": {
          "base_uri": "https://localhost:8080/"
        },
        "id": "_W5F-hxGU2YO",
        "outputId": "ee4a98e0-4bbf-480e-98e4-899299fe0f0b"
      },
      "execution_count": null,
      "outputs": [
        {
          "output_type": "stream",
          "name": "stdout",
          "text": [
            "Accuracy : 0.9667\n"
          ]
        }
      ]
    },
    {
      "cell_type": "markdown",
      "source": [
        "# 이진 분류 : Setosa, Setosa가 아닌 것 분류"
      ],
      "metadata": {
        "id": "Oln1dfUIXuVH"
      }
    },
    {
      "cell_type": "code",
      "source": [
        "is_setosa = (target_names[target] == 'setosa')\n",
        "X = iris_data\n",
        "y = is_setosa"
      ],
      "metadata": {
        "id": "iEgsLYPnX1bo"
      },
      "execution_count": null,
      "outputs": []
    },
    {
      "cell_type": "code",
      "source": [
        "np.unique(y, return_counts=True)"
      ],
      "metadata": {
        "colab": {
          "base_uri": "https://localhost:8080/"
        },
        "id": "LdJaW_7Q9WDv",
        "outputId": "3b7f1512-39e7-473b-9d5b-730e4aa88570"
      },
      "execution_count": null,
      "outputs": [
        {
          "output_type": "execute_result",
          "data": {
            "text/plain": [
              "(array([False,  True]), array([100,  50]))"
            ]
          },
          "metadata": {},
          "execution_count": 74
        }
      ]
    },
    {
      "cell_type": "markdown",
      "source": [
        "## 훈련 셋 / 테스트 셋 분리"
      ],
      "metadata": {
        "id": "xtawxBaH9cj-"
      }
    },
    {
      "cell_type": "code",
      "source": [
        "X_train, X_test, y_train, y_test = train_test_split(X, y,\n",
        "                                                    test_size = 0.2,\n",
        "                                                    random_state = 1,\n",
        "                                                    shuffle=True,\n",
        "                                                    stratify=y)"
      ],
      "metadata": {
        "id": "TSgrk7n4X3bW"
      },
      "execution_count": null,
      "outputs": []
    },
    {
      "cell_type": "markdown",
      "source": [
        "## Feature Scaling"
      ],
      "metadata": {
        "id": "YGM52Ws1-Z76"
      }
    },
    {
      "cell_type": "code",
      "source": [
        "std_scaler = StandardScaler() # 표준화 특성 스케일 변환기 생성\n",
        "std_scaler.fit(X_train) # 훈련 셋의 평균과 표준편차를 찾음\n",
        "X_train_std = std_scaler.transform(X_train) # 훈련 셋을 표준화\n",
        "\n",
        "# (훈련 셋에서 찾은 평균과 표준편차를 사용해서) 테스트 셋을 스케일링\n",
        "X_test_std = std_scaler.transform(X_test)"
      ],
      "metadata": {
        "id": "sHbakrBZYEJj"
      },
      "execution_count": null,
      "outputs": []
    },
    {
      "cell_type": "markdown",
      "source": [
        "## KNN 모델 훈련"
      ],
      "metadata": {
        "id": "e3AgQGbq_idz"
      }
    },
    {
      "cell_type": "code",
      "source": [
        "knn = KNeighborsClassifier() # 모델 생성\n",
        "knn.fit(X_train, y_train) # 모델 훈련\n",
        "print('Train acc :', knn.score(X_train, y_train)) # 훈련 셋에서의 정확도\n",
        "print('Test acc :', knn.score(X_test, y_test)) # 테스트 셋에서의 정확도"
      ],
      "metadata": {
        "colab": {
          "base_uri": "https://localhost:8080/"
        },
        "id": "lqv0RxftYA20",
        "outputId": "04f81f55-ccbb-44c7-c4b6-59155f480b35"
      },
      "execution_count": null,
      "outputs": [
        {
          "output_type": "stream",
          "name": "stdout",
          "text": [
            "Train acc : 1.0\n",
            "Test acc : 1.0\n"
          ]
        }
      ]
    },
    {
      "cell_type": "code",
      "source": [
        "knn = KNeighborsClassifier() # 모델 생성\n",
        "knn.fit(X_train_std, y_train) # 모델 훈련\n",
        "train_pred = knn.predict(X_train_std) # 스케일링된 훈련 셋의 예측값\n",
        "train_pred"
      ],
      "metadata": {
        "colab": {
          "base_uri": "https://localhost:8080/"
        },
        "id": "uFW1GmpaYHHL",
        "outputId": "718f8bb9-579f-447e-d36c-4533eadad6bb"
      },
      "execution_count": null,
      "outputs": [
        {
          "output_type": "execute_result",
          "data": {
            "text/plain": [
              "array([False,  True,  True, False, False, False, False,  True, False,\n",
              "       False, False,  True, False, False, False, False,  True, False,\n",
              "       False, False,  True,  True, False, False, False, False, False,\n",
              "        True, False, False,  True, False, False, False,  True, False,\n",
              "       False,  True,  True,  True,  True,  True, False,  True,  True,\n",
              "       False, False, False,  True, False, False,  True, False, False,\n",
              "       False, False,  True, False, False, False,  True, False,  True,\n",
              "       False, False,  True, False, False, False, False, False,  True,\n",
              "       False, False, False, False, False,  True,  True, False, False,\n",
              "        True, False,  True, False, False,  True, False, False, False,\n",
              "       False, False, False,  True, False, False, False,  True,  True,\n",
              "       False, False,  True,  True, False,  True, False, False, False,\n",
              "        True, False,  True, False,  True,  True, False,  True, False,\n",
              "       False, False, False])"
            ]
          },
          "metadata": {},
          "execution_count": 78
        }
      ]
    },
    {
      "cell_type": "code",
      "source": [
        "test_pred = knn.predict(X_test_std) # 스케일링된 훈련 셋의 예측값\n",
        "test_pred"
      ],
      "metadata": {
        "colab": {
          "base_uri": "https://localhost:8080/"
        },
        "id": "7_8rOCgIYJyk",
        "outputId": "4cf1e24d-4e5c-4071-f8f4-566899f234d5"
      },
      "execution_count": null,
      "outputs": [
        {
          "output_type": "execute_result",
          "data": {
            "text/plain": [
              "array([ True, False, False, False, False, False,  True,  True,  True,\n",
              "       False, False, False,  True, False,  True, False,  True, False,\n",
              "       False,  True, False, False, False, False,  True,  True, False,\n",
              "       False, False, False])"
            ]
          },
          "metadata": {},
          "execution_count": 79
        }
      ]
    },
    {
      "cell_type": "code",
      "source": [
        "# 트레인 셋의 정확도\n",
        "knn.score(X_train_std, y_train)"
      ],
      "metadata": {
        "colab": {
          "base_uri": "https://localhost:8080/"
        },
        "id": "fRvVtureYMDZ",
        "outputId": "ae138d00-b2c9-497f-8a4f-932a24549d0b"
      },
      "execution_count": null,
      "outputs": [
        {
          "output_type": "execute_result",
          "data": {
            "text/plain": [
              "1.0"
            ]
          },
          "metadata": {},
          "execution_count": 80
        }
      ]
    },
    {
      "cell_type": "code",
      "source": [
        "# 테스트 셋의 정확도\n",
        "knn.score(X_test_std, y_test)"
      ],
      "metadata": {
        "colab": {
          "base_uri": "https://localhost:8080/"
        },
        "id": "JPJk6DWIYQXz",
        "outputId": "57f56e8d-4352-4ba0-f60e-765572816c68"
      },
      "execution_count": null,
      "outputs": [
        {
          "output_type": "execute_result",
          "data": {
            "text/plain": [
              "1.0"
            ]
          },
          "metadata": {},
          "execution_count": 81
        }
      ]
    },
    {
      "cell_type": "code",
      "source": [
        "# 정밀도(species = 'Setosa')\n",
        "precision_score(y_test, test_pred, pos_label=True)"
      ],
      "metadata": {
        "colab": {
          "base_uri": "https://localhost:8080/"
        },
        "id": "tb9Re4IxYfFX",
        "outputId": "57ad6463-e77d-4c32-9260-3a1c21410392"
      },
      "execution_count": null,
      "outputs": [
        {
          "output_type": "execute_result",
          "data": {
            "text/plain": [
              "1.0"
            ]
          },
          "metadata": {},
          "execution_count": 82
        }
      ]
    },
    {
      "cell_type": "code",
      "source": [
        "# 정밀도(species != 'Setosa')\n",
        "precision_score(y_test, test_pred, pos_label=False)"
      ],
      "metadata": {
        "colab": {
          "base_uri": "https://localhost:8080/"
        },
        "id": "HH_75DUPZBoF",
        "outputId": "18c6aacc-8bd2-43bd-e381-aba940adf4ad"
      },
      "execution_count": null,
      "outputs": [
        {
          "output_type": "execute_result",
          "data": {
            "text/plain": [
              "1.0"
            ]
          },
          "metadata": {},
          "execution_count": 83
        }
      ]
    },
    {
      "cell_type": "markdown",
      "source": [
        "## k값의 변화에 따른 테스트 셋의 정확도"
      ],
      "metadata": {
        "id": "CJUtODCbA8Cj"
      }
    },
    {
      "cell_type": "code",
      "source": [
        "accuracies = []                               # 테스트 셋 정확도 저장할 리스트\n",
        "k_values = np.arange(1, 121)                  # k 값 범위\n",
        "for k in k_values:\n",
        "    knn = KNeighborsClassifier(n_neighbors=k) # 모델 생성\n",
        "    knn.fit(X_train_std, y_train)             # 모델 훈련\n",
        "    acc = knn.score(X_test_std, y_test)\n",
        "    accuracies.append(acc)\n",
        "print(accuracies)"
      ],
      "metadata": {
        "colab": {
          "base_uri": "https://localhost:8080/"
        },
        "id": "7w4pVNQrBHbF",
        "outputId": "66c88f79-8ca9-456e-8fea-cfc2d376c2f6"
      },
      "execution_count": null,
      "outputs": [
        {
          "output_type": "stream",
          "name": "stdout",
          "text": [
            "[1.0, 1.0, 1.0, 1.0, 1.0, 1.0, 1.0, 1.0, 1.0, 1.0, 1.0, 1.0, 1.0, 1.0, 1.0, 1.0, 1.0, 1.0, 1.0, 1.0, 1.0, 1.0, 1.0, 1.0, 1.0, 1.0, 1.0, 1.0, 1.0, 1.0, 1.0, 1.0, 1.0, 1.0, 1.0, 1.0, 1.0, 1.0, 1.0, 1.0, 1.0, 1.0, 1.0, 1.0, 1.0, 1.0, 1.0, 1.0, 1.0, 1.0, 1.0, 1.0, 1.0, 1.0, 1.0, 1.0, 1.0, 1.0, 1.0, 1.0, 1.0, 1.0, 1.0, 1.0, 1.0, 1.0, 1.0, 1.0, 1.0, 1.0, 1.0, 1.0, 1.0, 1.0, 1.0, 1.0, 1.0, 1.0, 1.0, 0.6666666666666666, 0.6666666666666666, 0.6666666666666666, 0.6666666666666666, 0.6666666666666666, 0.6666666666666666, 0.6666666666666666, 0.6666666666666666, 0.6666666666666666, 0.6666666666666666, 0.6666666666666666, 0.6666666666666666, 0.6666666666666666, 0.6666666666666666, 0.6666666666666666, 0.6666666666666666, 0.6666666666666666, 0.6666666666666666, 0.6666666666666666, 0.6666666666666666, 0.6666666666666666, 0.6666666666666666, 0.6666666666666666, 0.6666666666666666, 0.6666666666666666, 0.6666666666666666, 0.6666666666666666, 0.6666666666666666, 0.6666666666666666, 0.6666666666666666, 0.6666666666666666, 0.6666666666666666, 0.6666666666666666, 0.6666666666666666, 0.6666666666666666, 0.6666666666666666, 0.6666666666666666, 0.6666666666666666, 0.6666666666666666, 0.6666666666666666, 0.6666666666666666]\n"
          ]
        }
      ]
    },
    {
      "cell_type": "code",
      "source": [
        "plt.plot(accuracies, marker='o')\n",
        "plt.show()"
      ],
      "metadata": {
        "colab": {
          "base_uri": "https://localhost:8080/",
          "height": 265
        },
        "id": "kGhY7ejKDGNK",
        "outputId": "fb16d654-ffeb-49f6-f1fa-69f0a6daa523"
      },
      "execution_count": null,
      "outputs": [
        {
          "output_type": "display_data",
          "data": {
            "text/plain": [
              "<Figure size 432x288 with 1 Axes>"
            ],
            "image/png": "[encoded data removed]"
          },
          "metadata": {
            "needs_background": "light"
          }
        }
      ]
    },
    {
      "cell_type": "markdown",
      "source": [
        "# 다중 클래스 분류(Multi Classification)"
      ],
      "metadata": {
        "id": "ZmYsyJsnG_JG"
      }
    },
    {
      "cell_type": "code",
      "source": [
        "X = iris.data.copy()\n",
        "y = iris.target.copy()"
      ],
      "metadata": {
        "id": "wxG_5GzyHofh"
      },
      "execution_count": null,
      "outputs": []
    },
    {
      "cell_type": "markdown",
      "source": [
        "## Train / test split"
      ],
      "metadata": {
        "id": "I5u5RrCYHFUF"
      }
    },
    {
      "cell_type": "code",
      "source": [
        "X_tr, X_te, y_tr, y_te = train_test_split(X, y,\n",
        "                                          test_size=0.2,\n",
        "                                          random_state=42,\n",
        "                                          stratify=y)"
      ],
      "metadata": {
        "id": "-eAgnN-UHEqs"
      },
      "execution_count": null,
      "outputs": []
    },
    {
      "cell_type": "code",
      "source": [
        "np.unique(y_tr, return_counts=True)"
      ],
      "metadata": {
        "colab": {
          "base_uri": "https://localhost:8080/"
        },
        "id": "vIxISdA9HkKV",
        "outputId": "6e68092d-d554-4dc9-e559-e231915cfc13"
      },
      "execution_count": null,
      "outputs": [
        {
          "output_type": "execute_result",
          "data": {
            "text/plain": [
              "(array([0, 1, 2]), array([40, 40, 40]))"
            ]
          },
          "metadata": {},
          "execution_count": 88
        }
      ]
    },
    {
      "cell_type": "code",
      "source": [
        "np.unique(y_te, return_counts=True)"
      ],
      "metadata": {
        "colab": {
          "base_uri": "https://localhost:8080/"
        },
        "id": "kbTanz4hHtR6",
        "outputId": "43ca817f-394a-4d24-c0bb-f9bf4ce99237"
      },
      "execution_count": null,
      "outputs": [
        {
          "output_type": "execute_result",
          "data": {
            "text/plain": [
              "(array([0, 1, 2]), array([10, 10, 10]))"
            ]
          },
          "metadata": {},
          "execution_count": 89
        }
      ]
    },
    {
      "cell_type": "markdown",
      "source": [
        "## Feature Scaling"
      ],
      "metadata": {
        "id": "ilNQcEWvHxPG"
      }
    },
    {
      "cell_type": "code",
      "source": [
        "scaler = StandardScaler() # Scaler 생성"
      ],
      "metadata": {
        "id": "fGBmlvOWHwaG"
      },
      "execution_count": null,
      "outputs": []
    },
    {
      "cell_type": "code",
      "source": [
        "X_tr_scaled = scaler.fit_transform(X_tr) # 훈련 셋 스케일링"
      ],
      "metadata": {
        "id": "qaEMhdugH2MR"
      },
      "execution_count": null,
      "outputs": []
    },
    {
      "cell_type": "code",
      "source": [
        "X_te_scaled = scaler.transform(X_te) # 테스트 셋 스케일링"
      ],
      "metadata": {
        "id": "6igjlHrEH61A"
      },
      "execution_count": null,
      "outputs": []
    },
    {
      "cell_type": "markdown",
      "source": [
        "## KNN 모델 훈련, 평가"
      ],
      "metadata": {
        "id": "87MRE7vKIPCq"
      }
    },
    {
      "cell_type": "code",
      "source": [
        "knn = KNeighborsClassifier() # 모델 생성"
      ],
      "metadata": {
        "id": "e2FmQRwOICHe"
      },
      "execution_count": null,
      "outputs": []
    },
    {
      "cell_type": "code",
      "source": [
        "knn.fit(X_tr_scaled, y_tr) # 모델 훈련(학습)"
      ],
      "metadata": {
        "colab": {
          "base_uri": "https://localhost:8080/"
        },
        "id": "1tunkk6bICAm",
        "outputId": "79ba1b64-7f8a-4ff9-9364-3472b35852ff"
      },
      "execution_count": null,
      "outputs": [
        {
          "output_type": "execute_result",
          "data": {
            "text/plain": [
              "KNeighborsClassifier()"
            ]
          },
          "metadata": {},
          "execution_count": 94
        }
      ]
    },
    {
      "cell_type": "code",
      "source": [
        "tr_pred = knn.predict(X_tr_scaled) # 훈련 셋 예측값 → shape : (120,)\n",
        "tr_pred[:6]"
      ],
      "metadata": {
        "colab": {
          "base_uri": "https://localhost:8080/"
        },
        "id": "8KIS5k3ZIjQ_",
        "outputId": "955717a4-a156-4380-f86e-4b27452ac607"
      },
      "execution_count": null,
      "outputs": [
        {
          "output_type": "execute_result",
          "data": {
            "text/plain": [
              "array([0, 1, 1, 0, 1, 2])"
            ]
          },
          "metadata": {},
          "execution_count": 95
        }
      ]
    },
    {
      "cell_type": "code",
      "source": [
        "te_pred = knn.predict(X_te_scaled)"
      ],
      "metadata": {
        "id": "BBMWD-w_Ni8H"
      },
      "execution_count": null,
      "outputs": []
    },
    {
      "cell_type": "code",
      "source": [
        "tr_proba = knn.predict_proba(X_tr_scaled) # 훈련 셋 예측 확률 → shape : (120, 3)\n",
        "tr_proba[:6]"
      ],
      "metadata": {
        "colab": {
          "base_uri": "https://localhost:8080/"
        },
        "id": "pHFk8LmhIpOw",
        "outputId": "e2716bc9-f1c4-4706-8f0f-cd3f03b01645"
      },
      "execution_count": null,
      "outputs": [
        {
          "output_type": "execute_result",
          "data": {
            "text/plain": [
              "array([[1. , 0. , 0. ],\n",
              "       [0. , 0.8, 0.2],\n",
              "       [0. , 0.8, 0.2],\n",
              "       [1. , 0. , 0. ],\n",
              "       [0. , 1. , 0. ],\n",
              "       [0. , 0.2, 0.8]])"
            ]
          },
          "metadata": {},
          "execution_count": 97
        }
      ]
    },
    {
      "cell_type": "code",
      "source": [
        "accuracy_score(y_tr, tr_pred)"
      ],
      "metadata": {
        "colab": {
          "base_uri": "https://localhost:8080/"
        },
        "id": "59RYf7Y0KK-l",
        "outputId": "0e2473f9-689b-418b-d38c-381cd233a352"
      },
      "execution_count": null,
      "outputs": [
        {
          "output_type": "execute_result",
          "data": {
            "text/plain": [
              "0.975"
            ]
          },
          "metadata": {},
          "execution_count": 98
        }
      ]
    },
    {
      "cell_type": "code",
      "source": [
        "confusion_matrix(y_tr, tr_pred) # 오차 행렬(혼동 행렬, 혼돈 행렬)"
      ],
      "metadata": {
        "colab": {
          "base_uri": "https://localhost:8080/"
        },
        "id": "iPWeeZPqKOXY",
        "outputId": "9b27d3a6-94b1-41b5-fc9e-e54838d5b970"
      },
      "execution_count": null,
      "outputs": [
        {
          "output_type": "execute_result",
          "data": {
            "text/plain": [
              "array([[40,  0,  0],\n",
              "       [ 0, 39,  1],\n",
              "       [ 0,  2, 38]])"
            ]
          },
          "metadata": {},
          "execution_count": 99
        }
      ]
    },
    {
      "cell_type": "markdown",
      "source": [
        "실제 Versicolor 40개 중에서 1개는 Virginica로 잘못 예측.\n",
        "\n",
        "실제 Virginica 40개 중에서 2개는 Versicolor로 잘못 예측."
      ],
      "metadata": {
        "id": "Y4glIUenLNtf"
      }
    },
    {
      "cell_type": "code",
      "source": [
        "report = classification_report(y_tr, tr_pred)\n",
        "print(report)"
      ],
      "metadata": {
        "colab": {
          "base_uri": "https://localhost:8080/"
        },
        "id": "P4cp-4yJLXAQ",
        "outputId": "5c4a67ef-1367-4e97-e1a5-893bac1fe8b9"
      },
      "execution_count": null,
      "outputs": [
        {
          "output_type": "stream",
          "name": "stdout",
          "text": [
            "              precision    recall  f1-score   support\n",
            "\n",
            "           0       1.00      1.00      1.00        40\n",
            "           1       0.95      0.97      0.96        40\n",
            "           2       0.97      0.95      0.96        40\n",
            "\n",
            "    accuracy                           0.97       120\n",
            "   macro avg       0.98      0.97      0.97       120\n",
            "weighted avg       0.98      0.97      0.97       120\n",
            "\n"
          ]
        }
      ]
    },
    {
      "cell_type": "code",
      "source": [
        "accuracy_score(y_te, te_pred) # 테스트 셋 예측값"
      ],
      "metadata": {
        "colab": {
          "base_uri": "https://localhost:8080/"
        },
        "id": "J511rTTlNcvL",
        "outputId": "fad5cbaa-afa7-4792-9e67-db1ba057c8da"
      },
      "execution_count": null,
      "outputs": [
        {
          "output_type": "execute_result",
          "data": {
            "text/plain": [
              "0.9333333333333333"
            ]
          },
          "metadata": {},
          "execution_count": 101
        }
      ]
    },
    {
      "cell_type": "code",
      "source": [
        "confusion_matrix(y_te, te_pred) # 테스트 셋 오차 행렬"
      ],
      "metadata": {
        "colab": {
          "base_uri": "https://localhost:8080/"
        },
        "id": "F7fJc3U3Nm-j",
        "outputId": "5c5a78b7-3d98-4eb6-971f-ce868f85f40d"
      },
      "execution_count": null,
      "outputs": [
        {
          "output_type": "execute_result",
          "data": {
            "text/plain": [
              "array([[10,  0,  0],\n",
              "       [ 0, 10,  0],\n",
              "       [ 0,  2,  8]])"
            ]
          },
          "metadata": {},
          "execution_count": 102
        }
      ]
    },
    {
      "cell_type": "code",
      "source": [
        "precision_score(y_te, te_pred, average=None)"
      ],
      "metadata": {
        "colab": {
          "base_uri": "https://localhost:8080/"
        },
        "id": "_bmFAmWTOdBH",
        "outputId": "b4c28199-c2ce-4184-cf43-014fa4c6854b"
      },
      "execution_count": null,
      "outputs": [
        {
          "output_type": "execute_result",
          "data": {
            "text/plain": [
              "array([1.        , 0.83333333, 1.        ])"
            ]
          },
          "metadata": {},
          "execution_count": 103
        }
      ]
    },
    {
      "cell_type": "markdown",
      "source": [
        "* __과(대)적합(overfitting)__ : \n",
        "    * 훈련 셋에서의 평가 점수가 테스트 셋에서의 평가 점수보다 높은 경우.\n",
        "    * 과대적합이 너무 크면 학습되지 않은 데이터에서는 오차가 크게 발생.\n",
        "    * 일반적으로 지도학습에서는 과대적합이 발생하는 경우가 많음.\n",
        "    * 과적합의 크기(정도)가 작은 모델일수록 좋은 모델.\n",
        "    * 과적합을 줄이기 위한 방법 → *규제(regulation)* 적용\n",
        "\n",
        "* __과소적합(underfitting)__ :\n",
        "    * 훈련 셋에서의 평가 점수가 테스트 셋에서의 평가 점수보다 낮은 경우.\n",
        "    * 보통 훈련 샘플의 개수가 적은 경우에 과소적합이 발생하는 경우가 많음.\n",
        "    * 훈련 샘플을 더 많이 수집해서 모델을 훈련시키면 과소적합을 해결할 수 있음.\n",
        "    * *교차검증(cross validation)*을 사용해서 훈련 샘플의 크기를 늘려주는 효과를 줄 수 있음."
      ],
      "metadata": {
        "id": "g0eCGzrLipyT"
      }
    },
    {
      "cell_type": "markdown",
      "source": [
        "## k값 변화에 따른 훈련 셋과 테스트 셋의 정확도 그래프"
      ],
      "metadata": {
        "id": "ELxoPzTilCcH"
      }
    },
    {
      "cell_type": "code",
      "source": [
        "k_values = np.arange(1, 41)\n",
        "tr_scores = [] # 훈련 셋에서 계산한 정확도를 저장할 리스트\n",
        "te_scores = [] # 테스트 셋에서 계산한 정확도를 저장할 리스트\n",
        "for k in k_values:\n",
        "    knn = KNeighborsClassifier(n_neighbors=k)   # KNN 모델 생성\n",
        "    knn.fit(X_tr_scaled, y_tr)                  # 모델 훈련\n",
        "    tr_acc = knn.score(X_tr_scaled, y_tr)       # 훈련 셋 예측값\n",
        "    tr_scores.append(tr_acc)\n",
        "    te_acc = knn.score(X_te_scaled, y_te)       # 테스트 셋 예측값\n",
        "    te_scores.append(te_acc)\n",
        "print(tr_scores)\n",
        "print(te_scores)"
      ],
      "metadata": {
        "colab": {
          "base_uri": "https://localhost:8080/"
        },
        "id": "0gbua7X8lBW8",
        "outputId": "8485ec22-7503-45a9-e080-3dfac0b72aa6"
      },
      "execution_count": null,
      "outputs": [
        {
          "output_type": "stream",
          "name": "stdout",
          "text": [
            "[1.0, 0.9666666666666667, 0.9583333333333334, 0.9583333333333334, 0.975, 0.9583333333333334, 0.975, 0.9583333333333334, 0.9583333333333334, 0.9583333333333334, 0.9583333333333334, 0.9583333333333334, 0.9583333333333334, 0.9666666666666667, 0.9666666666666667, 0.9666666666666667, 0.9583333333333334, 0.9666666666666667, 0.9416666666666667, 0.9583333333333334, 0.95, 0.9583333333333334, 0.9583333333333334, 0.95, 0.9583333333333334, 0.9333333333333333, 0.9333333333333333, 0.925, 0.9166666666666666, 0.9166666666666666, 0.9, 0.8916666666666667, 0.8916666666666667, 0.8833333333333333, 0.875, 0.8833333333333333, 0.8833333333333333, 0.8916666666666667, 0.8916666666666667, 0.8916666666666667]\n",
            "[0.9666666666666667, 0.9333333333333333, 0.9333333333333333, 0.9333333333333333, 0.9333333333333333, 0.9333333333333333, 0.9666666666666667, 0.9333333333333333, 0.9666666666666667, 0.9666666666666667, 0.9666666666666667, 0.9666666666666667, 0.9666666666666667, 0.9666666666666667, 0.9666666666666667, 0.9666666666666667, 0.9666666666666667, 0.9666666666666667, 0.9666666666666667, 0.9666666666666667, 0.9666666666666667, 0.9333333333333333, 0.9333333333333333, 0.9, 0.9, 0.8666666666666667, 0.8666666666666667, 0.8666666666666667, 0.8666666666666667, 0.8666666666666667, 0.8666666666666667, 0.8666666666666667, 0.8666666666666667, 0.8666666666666667, 0.8666666666666667, 0.8666666666666667, 0.8666666666666667, 0.8666666666666667, 0.8666666666666667, 0.8666666666666667]\n"
          ]
        }
      ]
    },
    {
      "cell_type": "code",
      "source": [
        "plt.plot(k_values, tr_scores, 'bo-', label='Train Acc.') # 훈련 셋 정확도 시각화\n",
        "plt.plot(k_values, te_scores, 'ro:', label='Test Acc.')  # 테스트 셋 정확도 시각화\n",
        "\n",
        "plt.legend()\n",
        "plt.xlabel('k')\n",
        "plt.ylabel('Accuracy')\n",
        "plt.grid()\n",
        "plt.show()"
      ],
      "metadata": {
        "colab": {
          "base_uri": "https://localhost:8080/",
          "height": 279
        },
        "id": "kPxX8zcGpbic",
        "outputId": "65b7d102-625a-46fb-d0b1-81823fcde451"
      },
      "execution_count": null,
      "outputs": [
        {
          "output_type": "display_data",
          "data": {
            "text/plain": [
              "<Figure size 432x288 with 1 Axes>"
            ],
            "image/png": "[encoded data removed]"
          },
          "metadata": {
            "needs_background": "light"
          }
        }
      ]
    }
  ]
}
