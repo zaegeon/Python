{
  "nbformat": 4,
  "nbformat_minor": 0,
  "metadata": {
    "colab": {
      "name": "20220629_ML15_ann.ipynb",
      "provenance": [],
      "collapsed_sections": [],
      "toc_visible": true,
      "authorship_tag": "ABX9TyN3vXxJipketjx1Fm7CX3If",
      "include_colab_link": true
    },
    "kernelspec": {
      "name": "python3",
      "display_name": "Python 3"
    },
    "language_info": {
      "name": "python"
    },
    "accelerator": "GPU",
    "gpuClass": "standard"
  },
  "cells": [
    {
      "cell_type": "markdown",
      "metadata": {
        "id": "view-in-github",
        "colab_type": "text"
      },
      "source": [
        "<a href=\"https://colab.research.google.com/github/zaegeon/Python/blob/main/ML/20220629_ML15_ann.ipynb\" target=\"_parent\"><img src=\"https://colab.research.google.com/assets/colab-badge.svg\" alt=\"Open In Colab\"/></a>"
      ]
    },
    {
      "cell_type": "markdown",
      "source": [
        "ANN(Artificial Neural Network, 인공신경망)"
      ],
      "metadata": {
        "id": "6xkG481n2Syu"
      }
    },
    {
      "cell_type": "markdown",
      "source": [
        "# Imports"
      ],
      "metadata": {
        "id": "LcD1Bk534J8E"
      }
    },
    {
      "cell_type": "code",
      "execution_count": 1,
      "metadata": {
        "id": "nKdua5Mp2Nx3"
      },
      "outputs": [],
      "source": [
        "import numpy as np\n",
        "import matplotlib.pyplot as plt\n",
        "\n",
        "from sklearn import datasets\n",
        "from sklearn.linear_model import SGDClassifier\n",
        "from sklearn.model_selection import train_test_split\n",
        "\n",
        "# tensorflow, keras\n",
        "import tensorflow as tf\n",
        "from tensorflow import keras"
      ]
    },
    {
      "cell_type": "code",
      "source": [
        "tf.__version__ # Google Colab에 설치된 Tensorflow 버전"
      ],
      "metadata": {
        "colab": {
          "base_uri": "https://localhost:8080/",
          "height": 35
        },
        "id": "CO2qkssk6qM0",
        "outputId": "1160d085-f08b-406f-943f-53c1ceeb230b"
      },
      "execution_count": 2,
      "outputs": [
        {
          "output_type": "execute_result",
          "data": {
            "text/plain": [
              "'2.8.2'"
            ],
            "application/vnd.google.colaboratory.intrinsic+json": {
              "type": "string"
            }
          },
          "metadata": {},
          "execution_count": 2
        }
      ]
    },
    {
      "cell_type": "code",
      "source": [
        "keras.__version__ # Google Colab에 설치된 Keras 버전"
      ],
      "metadata": {
        "colab": {
          "base_uri": "https://localhost:8080/",
          "height": 35
        },
        "id": "c82M2ZRt6uEO",
        "outputId": "924823ee-b3d5-4217-dbf3-bb7ccbb43ee2"
      },
      "execution_count": 3,
      "outputs": [
        {
          "output_type": "execute_result",
          "data": {
            "text/plain": [
              "'2.8.0'"
            ],
            "application/vnd.google.colaboratory.intrinsic+json": {
              "type": "string"
            }
          },
          "metadata": {},
          "execution_count": 3
        }
      ]
    },
    {
      "cell_type": "markdown",
      "source": [
        "# Iris 데이터 셋"
      ],
      "metadata": {
        "id": "IGbPwS8_-l_c"
      }
    },
    {
      "cell_type": "code",
      "source": [
        "data, target = datasets.load_iris(return_X_y = True)"
      ],
      "metadata": {
        "id": "GVBpAvdC6yME"
      },
      "execution_count": 4,
      "outputs": []
    },
    {
      "cell_type": "code",
      "source": [
        "data[:5]"
      ],
      "metadata": {
        "colab": {
          "base_uri": "https://localhost:8080/"
        },
        "id": "-v2YPgLl-24c",
        "outputId": "6b1bbfa4-f661-4f19-88eb-33f04237968d"
      },
      "execution_count": 5,
      "outputs": [
        {
          "output_type": "execute_result",
          "data": {
            "text/plain": [
              "array([[5.1, 3.5, 1.4, 0.2],\n",
              "       [4.9, 3. , 1.4, 0.2],\n",
              "       [4.7, 3.2, 1.3, 0.2],\n",
              "       [4.6, 3.1, 1.5, 0.2],\n",
              "       [5. , 3.6, 1.4, 0.2]])"
            ]
          },
          "metadata": {},
          "execution_count": 5
        }
      ]
    },
    {
      "cell_type": "code",
      "source": [
        "target[:5]"
      ],
      "metadata": {
        "colab": {
          "base_uri": "https://localhost:8080/"
        },
        "id": "Q4kdd0Qj-4il",
        "outputId": "9ca09b34-81d1-4c56-c873-dd0c20e2a77e"
      },
      "execution_count": 6,
      "outputs": [
        {
          "output_type": "execute_result",
          "data": {
            "text/plain": [
              "array([0, 0, 0, 0, 0])"
            ]
          },
          "metadata": {},
          "execution_count": 6
        }
      ]
    },
    {
      "cell_type": "markdown",
      "source": [
        "## petal_length, petal_width 변수만 선택한 이진 분류"
      ],
      "metadata": {
        "id": "yp_XzmFP_JbV"
      }
    },
    {
      "cell_type": "code",
      "source": [
        "X = data[:, 2:].copy()\n",
        "y = (target != 0).astype('int').copy()"
      ],
      "metadata": {
        "id": "Xe1NoteX-__s"
      },
      "execution_count": 7,
      "outputs": []
    },
    {
      "cell_type": "code",
      "source": [
        "y"
      ],
      "metadata": {
        "colab": {
          "base_uri": "https://localhost:8080/"
        },
        "id": "MT9qGW2T_zCr",
        "outputId": "4b901764-5a37-451a-f55f-5c8a4ebcd3b6"
      },
      "execution_count": 8,
      "outputs": [
        {
          "output_type": "execute_result",
          "data": {
            "text/plain": [
              "array([0, 0, 0, 0, 0, 0, 0, 0, 0, 0, 0, 0, 0, 0, 0, 0, 0, 0, 0, 0, 0, 0,\n",
              "       0, 0, 0, 0, 0, 0, 0, 0, 0, 0, 0, 0, 0, 0, 0, 0, 0, 0, 0, 0, 0, 0,\n",
              "       0, 0, 0, 0, 0, 0, 1, 1, 1, 1, 1, 1, 1, 1, 1, 1, 1, 1, 1, 1, 1, 1,\n",
              "       1, 1, 1, 1, 1, 1, 1, 1, 1, 1, 1, 1, 1, 1, 1, 1, 1, 1, 1, 1, 1, 1,\n",
              "       1, 1, 1, 1, 1, 1, 1, 1, 1, 1, 1, 1, 1, 1, 1, 1, 1, 1, 1, 1, 1, 1,\n",
              "       1, 1, 1, 1, 1, 1, 1, 1, 1, 1, 1, 1, 1, 1, 1, 1, 1, 1, 1, 1, 1, 1,\n",
              "       1, 1, 1, 1, 1, 1, 1, 1, 1, 1, 1, 1, 1, 1, 1, 1, 1, 1])"
            ]
          },
          "metadata": {},
          "execution_count": 8
        }
      ]
    },
    {
      "cell_type": "markdown",
      "source": [
        "### SGD Classifier"
      ],
      "metadata": {
        "id": "U2IHJXYcANwV"
      }
    },
    {
      "cell_type": "code",
      "source": [
        "sgd = SGDClassifier(loss='log', n_jobs=-1, random_state=42)"
      ],
      "metadata": {
        "id": "A9tYyToZ_0cT"
      },
      "execution_count": 9,
      "outputs": []
    },
    {
      "cell_type": "code",
      "source": [
        "sgd.fit(X, y)"
      ],
      "metadata": {
        "colab": {
          "base_uri": "https://localhost:8080/"
        },
        "id": "WoIkipxwAifF",
        "outputId": "4cd840f7-bd4b-4c93-bf30-b949d421ca49"
      },
      "execution_count": 10,
      "outputs": [
        {
          "output_type": "execute_result",
          "data": {
            "text/plain": [
              "SGDClassifier(loss='log', n_jobs=-1, random_state=42)"
            ]
          },
          "metadata": {},
          "execution_count": 10
        }
      ]
    },
    {
      "cell_type": "code",
      "source": [
        "sgd.coef_"
      ],
      "metadata": {
        "colab": {
          "base_uri": "https://localhost:8080/"
        },
        "id": "SA8W3TYiAkYG",
        "outputId": "6a88c412-c740-40f9-eead-e7c6c92a3b32"
      },
      "execution_count": 11,
      "outputs": [
        {
          "output_type": "execute_result",
          "data": {
            "text/plain": [
              "array([[9.29310825, 9.5046378 ]])"
            ]
          },
          "metadata": {},
          "execution_count": 11
        }
      ]
    },
    {
      "cell_type": "code",
      "source": [
        "sgd.intercept_"
      ],
      "metadata": {
        "colab": {
          "base_uri": "https://localhost:8080/"
        },
        "id": "nggB8cJGA0KT",
        "outputId": "9f8903f4-be86-44fa-cf78-062a134496eb"
      },
      "execution_count": 12,
      "outputs": [
        {
          "output_type": "execute_result",
          "data": {
            "text/plain": [
              "array([-33.65502003])"
            ]
          },
          "metadata": {},
          "execution_count": 12
        }
      ]
    },
    {
      "cell_type": "code",
      "source": [
        "pred_prob = sgd.predict_proba(X)\n",
        "pred_prob[:5]"
      ],
      "metadata": {
        "colab": {
          "base_uri": "https://localhost:8080/"
        },
        "id": "ZUeFwigeA12T",
        "outputId": "cf566492-dd38-4804-a978-11444a3cefbc"
      },
      "execution_count": 13,
      "outputs": [
        {
          "output_type": "execute_result",
          "data": {
            "text/plain": [
              "array([[9.99999993e-01, 7.23930287e-09],\n",
              "       [9.99999993e-01, 7.23930287e-09],\n",
              "       [9.99999997e-01, 2.85826298e-09],\n",
              "       [9.99999982e-01, 1.83354387e-08],\n",
              "       [9.99999993e-01, 7.23930287e-09]])"
            ]
          },
          "metadata": {},
          "execution_count": 13
        }
      ]
    },
    {
      "cell_type": "code",
      "source": [
        "pred = sgd.predict(X)\n",
        "pred[:5]"
      ],
      "metadata": {
        "colab": {
          "base_uri": "https://localhost:8080/"
        },
        "id": "mRdaRxQTCJQb",
        "outputId": "2f76f1b9-d2c4-42fe-ef72-3942e52ee717"
      },
      "execution_count": 14,
      "outputs": [
        {
          "output_type": "execute_result",
          "data": {
            "text/plain": [
              "array([0, 0, 0, 0, 0])"
            ]
          },
          "metadata": {},
          "execution_count": 14
        }
      ]
    },
    {
      "cell_type": "code",
      "source": [
        "np.mean(y == pred)"
      ],
      "metadata": {
        "colab": {
          "base_uri": "https://localhost:8080/"
        },
        "id": "sloKwKIaCMCU",
        "outputId": "3e62b282-3cb2-4c2d-b311-1b3598763376"
      },
      "execution_count": 15,
      "outputs": [
        {
          "output_type": "execute_result",
          "data": {
            "text/plain": [
              "1.0"
            ]
          },
          "metadata": {},
          "execution_count": 15
        }
      ]
    },
    {
      "cell_type": "markdown",
      "source": [
        "### Neural Network"
      ],
      "metadata": {
        "id": "KmCLUpxNCsKz"
      }
    },
    {
      "cell_type": "code",
      "source": [
        "# 신경망 모델 생성\n",
        "model = keras.Sequential(layers=[keras.layers.Dense(units=1,               # hidden layer Node 수\n",
        "                                                    activation='sigmoid',  # 활성함수\n",
        "                                                    input_shape=(2, ))],   # 독립변수 개수\n",
        "                         name='iris_binary_single_layer')"
      ],
      "metadata": {
        "id": "EFv-0C3dCt5L"
      },
      "execution_count": 16,
      "outputs": []
    },
    {
      "cell_type": "code",
      "source": [
        "# 신경망 모델 요약 정보 : layers, parameters\n",
        "model.summary()"
      ],
      "metadata": {
        "colab": {
          "base_uri": "https://localhost:8080/"
        },
        "id": "g-kdulS2E3B9",
        "outputId": "ce3e6176-19f5-4a55-bf62-1b7bdde988f4"
      },
      "execution_count": 17,
      "outputs": [
        {
          "output_type": "stream",
          "name": "stdout",
          "text": [
            "Model: \"iris_binary_single_layer\"\n",
            "_________________________________________________________________\n",
            " Layer (type)                Output Shape              Param #   \n",
            "=================================================================\n",
            " dense (Dense)               (None, 1)                 3         \n",
            "                                                                 \n",
            "=================================================================\n",
            "Total params: 3\n",
            "Trainable params: 3\n",
            "Non-trainable params: 0\n",
            "_________________________________________________________________\n"
          ]
        }
      ]
    },
    {
      "cell_type": "code",
      "source": [
        "# 신경망 모델 컴파일 : optimizer, loss(손실 함수), metrics(평가 점수 함수) 설정\n",
        "model.compile(optimizer='sgd',\n",
        "              loss=keras.losses.binary_crossentropy,\n",
        "              metrics=keras.metrics.binary_accuracy)"
      ],
      "metadata": {
        "id": "kUlgfUeAGRo0"
      },
      "execution_count": 18,
      "outputs": []
    },
    {
      "cell_type": "code",
      "source": [
        "# 신경망 훈련\n",
        "model.fit(X, y, epochs=10, batch_size=1)"
      ],
      "metadata": {
        "colab": {
          "base_uri": "https://localhost:8080/"
        },
        "id": "rBN1LDAlHSU0",
        "outputId": "59aef90b-6ec0-4c8a-ad15-c202d48ee617"
      },
      "execution_count": 19,
      "outputs": [
        {
          "output_type": "stream",
          "name": "stdout",
          "text": [
            "Epoch 1/10\n",
            "150/150 [==============================] - 3s 4ms/step - loss: 0.5736 - binary_accuracy: 0.6067\n",
            "Epoch 2/10\n",
            "150/150 [==============================] - 0s 3ms/step - loss: 0.4402 - binary_accuracy: 0.6667\n",
            "Epoch 3/10\n",
            "150/150 [==============================] - 0s 3ms/step - loss: 0.4037 - binary_accuracy: 0.6667\n",
            "Epoch 4/10\n",
            "150/150 [==============================] - 1s 4ms/step - loss: 0.3712 - binary_accuracy: 0.6667\n",
            "Epoch 5/10\n",
            "150/150 [==============================] - 0s 3ms/step - loss: 0.3423 - binary_accuracy: 0.6800\n",
            "Epoch 6/10\n",
            "150/150 [==============================] - 1s 4ms/step - loss: 0.3152 - binary_accuracy: 0.7600\n",
            "Epoch 7/10\n",
            "150/150 [==============================] - 0s 3ms/step - loss: 0.2938 - binary_accuracy: 0.8067\n",
            "Epoch 8/10\n",
            "150/150 [==============================] - 0s 3ms/step - loss: 0.2738 - binary_accuracy: 0.9533\n",
            "Epoch 9/10\n",
            "150/150 [==============================] - 1s 4ms/step - loss: 0.2553 - binary_accuracy: 0.9800\n",
            "Epoch 10/10\n",
            "150/150 [==============================] - 0s 3ms/step - loss: 0.2400 - binary_accuracy: 0.9867\n"
          ]
        },
        {
          "output_type": "execute_result",
          "data": {
            "text/plain": [
              "<keras.callbacks.History at 0x7fd3c4704550>"
            ]
          },
          "metadata": {},
          "execution_count": 19
        }
      ]
    },
    {
      "cell_type": "code",
      "source": [
        "model.weights"
      ],
      "metadata": {
        "colab": {
          "base_uri": "https://localhost:8080/"
        },
        "id": "y8GBav4sRWlT",
        "outputId": "974bd702-1893-461d-81f0-edcbdffaa9a7"
      },
      "execution_count": 20,
      "outputs": [
        {
          "output_type": "execute_result",
          "data": {
            "text/plain": [
              "[<tf.Variable 'dense/kernel:0' shape=(2, 1) dtype=float32, numpy=\n",
              " array([[0.8811966 ],\n",
              "        [0.03100113]], dtype=float32)>,\n",
              " <tf.Variable 'dense/bias:0' shape=(1,) dtype=float32, numpy=array([-1.6520957], dtype=float32)>]"
            ]
          },
          "metadata": {},
          "execution_count": 20
        }
      ]
    },
    {
      "cell_type": "code",
      "source": [
        "pred = model.predict(X) # 이진 분류에서 predict()는 양성(1)이 될 확률\n",
        "pred.shape"
      ],
      "metadata": {
        "colab": {
          "base_uri": "https://localhost:8080/"
        },
        "id": "YStskFH5RYxz",
        "outputId": "98413b67-28b5-44d8-885f-1581114ada10"
      },
      "execution_count": 21,
      "outputs": [
        {
          "output_type": "execute_result",
          "data": {
            "text/plain": [
              "(150, 1)"
            ]
          },
          "metadata": {},
          "execution_count": 21
        }
      ]
    },
    {
      "cell_type": "code",
      "source": [
        "pred[:5]"
      ],
      "metadata": {
        "colab": {
          "base_uri": "https://localhost:8080/"
        },
        "id": "8_FmjRDJRcfz",
        "outputId": "4e504082-0dd8-4e8d-9ef0-490c536b9353"
      },
      "execution_count": 22,
      "outputs": [
        {
          "output_type": "execute_result",
          "data": {
            "text/plain": [
              "array([[0.39837986],\n",
              "       [0.39837986],\n",
              "       [0.37746084],\n",
              "       [0.41967675],\n",
              "       [0.39837986]], dtype=float32)"
            ]
          },
          "metadata": {},
          "execution_count": 22
        }
      ]
    },
    {
      "cell_type": "code",
      "source": [
        "# 예측값(0 or 1)을 계산하기 위해서는 ＊확률 > 0.5＊ 비교해야 함.\n",
        "pred_label = (pred > 0.5).astype('int').reshape((-1, ))\n",
        "pred_label"
      ],
      "metadata": {
        "colab": {
          "base_uri": "https://localhost:8080/"
        },
        "id": "ochaXM6HStqT",
        "outputId": "993b0375-7258-453d-b83e-cd4999854dda"
      },
      "execution_count": 23,
      "outputs": [
        {
          "output_type": "execute_result",
          "data": {
            "text/plain": [
              "array([0, 0, 0, 0, 0, 0, 0, 0, 0, 0, 0, 0, 0, 0, 0, 0, 0, 0, 0, 0, 0, 0,\n",
              "       0, 0, 1, 0, 0, 0, 0, 0, 0, 0, 0, 0, 0, 0, 0, 0, 0, 0, 0, 0, 0, 0,\n",
              "       1, 0, 0, 0, 0, 0, 1, 1, 1, 1, 1, 1, 1, 1, 1, 1, 1, 1, 1, 1, 1, 1,\n",
              "       1, 1, 1, 1, 1, 1, 1, 1, 1, 1, 1, 1, 1, 1, 1, 1, 1, 1, 1, 1, 1, 1,\n",
              "       1, 1, 1, 1, 1, 1, 1, 1, 1, 1, 1, 1, 1, 1, 1, 1, 1, 1, 1, 1, 1, 1,\n",
              "       1, 1, 1, 1, 1, 1, 1, 1, 1, 1, 1, 1, 1, 1, 1, 1, 1, 1, 1, 1, 1, 1,\n",
              "       1, 1, 1, 1, 1, 1, 1, 1, 1, 1, 1, 1, 1, 1, 1, 1, 1, 1])"
            ]
          },
          "metadata": {},
          "execution_count": 23
        }
      ]
    },
    {
      "cell_type": "code",
      "source": [
        "np.mean(y == pred_label) # 정확도 : 실젯값과 예측값 비교"
      ],
      "metadata": {
        "colab": {
          "base_uri": "https://localhost:8080/"
        },
        "id": "-iihsgpuTa90",
        "outputId": "12f4bba9-cdd9-4bc6-fdc7-aa7724706bbc"
      },
      "execution_count": 24,
      "outputs": [
        {
          "output_type": "execute_result",
          "data": {
            "text/plain": [
              "0.9866666666666667"
            ]
          },
          "metadata": {},
          "execution_count": 24
        }
      ]
    },
    {
      "cell_type": "markdown",
      "source": [
        "## 모든 변수(sl, sw, pl, pw)를 사용한 이진 분류"
      ],
      "metadata": {
        "id": "smKxAzAmTt9T"
      }
    },
    {
      "cell_type": "code",
      "source": [
        "X = data.copy()\n",
        "# y = (target != 0).astype('int').copy()"
      ],
      "metadata": {
        "id": "Wt5dgEBOTxh7"
      },
      "execution_count": 25,
      "outputs": []
    },
    {
      "cell_type": "markdown",
      "source": [
        "### SGD"
      ],
      "metadata": {
        "id": "HsNJ97l0UB9j"
      }
    },
    {
      "cell_type": "code",
      "source": [
        "sgd = SGDClassifier(loss='log', n_jobs=-1, random_state=42, max_iter=10)"
      ],
      "metadata": {
        "id": "VAFKTXeTT5YD"
      },
      "execution_count": 26,
      "outputs": []
    },
    {
      "cell_type": "code",
      "source": [
        "sgd.fit(X, y)"
      ],
      "metadata": {
        "colab": {
          "base_uri": "https://localhost:8080/"
        },
        "id": "BVY0N5snUDMs",
        "outputId": "cc2ab292-91ec-43b2-8ac8-e36367a18f5e"
      },
      "execution_count": 27,
      "outputs": [
        {
          "output_type": "execute_result",
          "data": {
            "text/plain": [
              "SGDClassifier(loss='log', max_iter=10, n_jobs=-1, random_state=42)"
            ]
          },
          "metadata": {},
          "execution_count": 27
        }
      ]
    },
    {
      "cell_type": "code",
      "source": [
        "pred = sgd.predict(X) # 예측값(0 or 1)"
      ],
      "metadata": {
        "id": "X8sFmXTIUMor"
      },
      "execution_count": 28,
      "outputs": []
    },
    {
      "cell_type": "code",
      "source": [
        "np.mean(y == pred)"
      ],
      "metadata": {
        "colab": {
          "base_uri": "https://localhost:8080/"
        },
        "id": "CfSCtffYUZy0",
        "outputId": "64b036d3-ce96-4090-9608-92752f6648ce"
      },
      "execution_count": 29,
      "outputs": [
        {
          "output_type": "execute_result",
          "data": {
            "text/plain": [
              "1.0"
            ]
          },
          "metadata": {},
          "execution_count": 29
        }
      ]
    },
    {
      "cell_type": "markdown",
      "source": [
        "### Neural Network"
      ],
      "metadata": {
        "id": "wvqYekDjUh7z"
      }
    },
    {
      "cell_type": "code",
      "source": [
        "model = keras.Sequential(layers=[keras.layers.Dense(units=1,\n",
        "                                                    activation='sigmoid',\n",
        "                                                    input_shape=(4,))])"
      ],
      "metadata": {
        "id": "Pf6uDTNmUhmk"
      },
      "execution_count": 30,
      "outputs": []
    },
    {
      "cell_type": "code",
      "source": [
        "model.summary()"
      ],
      "metadata": {
        "colab": {
          "base_uri": "https://localhost:8080/"
        },
        "id": "sI1sRVLYVjZr",
        "outputId": "edf777ae-b4dc-4d14-a84c-b2cf36d18e9d"
      },
      "execution_count": 31,
      "outputs": [
        {
          "output_type": "stream",
          "name": "stdout",
          "text": [
            "Model: \"sequential\"\n",
            "_________________________________________________________________\n",
            " Layer (type)                Output Shape              Param #   \n",
            "=================================================================\n",
            " dense_1 (Dense)             (None, 1)                 5         \n",
            "                                                                 \n",
            "=================================================================\n",
            "Total params: 5\n",
            "Trainable params: 5\n",
            "Non-trainable params: 0\n",
            "_________________________________________________________________\n"
          ]
        }
      ]
    },
    {
      "cell_type": "code",
      "source": [
        "model.compile(optimizer=keras.optimizers.SGD(),\n",
        "              loss=keras.losses.binary_crossentropy,\n",
        "              metrics=keras.metrics.binary_accuracy)"
      ],
      "metadata": {
        "id": "vOwrvxOuVmjb"
      },
      "execution_count": 32,
      "outputs": []
    },
    {
      "cell_type": "code",
      "source": [
        "model.fit(X, y, batch_size=1, epochs=10)"
      ],
      "metadata": {
        "colab": {
          "base_uri": "https://localhost:8080/"
        },
        "id": "bXPkBYcCWpnT",
        "outputId": "c3f56636-d0f0-4a31-e7c5-f999cc15fd9e"
      },
      "execution_count": 33,
      "outputs": [
        {
          "output_type": "stream",
          "name": "stdout",
          "text": [
            "Epoch 1/10\n",
            "150/150 [==============================] - 1s 3ms/step - loss: 0.8464 - binary_accuracy: 0.5933\n",
            "Epoch 2/10\n",
            "150/150 [==============================] - 1s 3ms/step - loss: 0.3360 - binary_accuracy: 0.8867\n",
            "Epoch 3/10\n",
            "150/150 [==============================] - 0s 3ms/step - loss: 0.1843 - binary_accuracy: 0.9933\n",
            "Epoch 4/10\n",
            "150/150 [==============================] - 0s 3ms/step - loss: 0.1271 - binary_accuracy: 1.0000\n",
            "Epoch 5/10\n",
            "150/150 [==============================] - 1s 4ms/step - loss: 0.0969 - binary_accuracy: 1.0000\n",
            "Epoch 6/10\n",
            "150/150 [==============================] - 0s 3ms/step - loss: 0.0787 - binary_accuracy: 1.0000\n",
            "Epoch 7/10\n",
            "150/150 [==============================] - 0s 3ms/step - loss: 0.0664 - binary_accuracy: 1.0000\n",
            "Epoch 8/10\n",
            "150/150 [==============================] - 0s 3ms/step - loss: 0.0567 - binary_accuracy: 1.0000\n",
            "Epoch 9/10\n",
            "150/150 [==============================] - 1s 4ms/step - loss: 0.0508 - binary_accuracy: 1.0000\n",
            "Epoch 10/10\n",
            "150/150 [==============================] - 1s 4ms/step - loss: 0.0454 - binary_accuracy: 1.0000\n"
          ]
        },
        {
          "output_type": "execute_result",
          "data": {
            "text/plain": [
              "<keras.callbacks.History at 0x7fd3c4680110>"
            ]
          },
          "metadata": {},
          "execution_count": 33
        }
      ]
    },
    {
      "cell_type": "code",
      "source": [
        "# 신경망이 학습 데이터를 훈련하면 가중치들을 찾음.\n",
        "model.weights"
      ],
      "metadata": {
        "colab": {
          "base_uri": "https://localhost:8080/"
        },
        "id": "S3WrWuCcMchK",
        "outputId": "7c608c51-c1a3-44cf-9f83-14c2f36d3ae3"
      },
      "execution_count": 34,
      "outputs": [
        {
          "output_type": "execute_result",
          "data": {
            "text/plain": [
              "[<tf.Variable 'dense_1/kernel:0' shape=(4, 1) dtype=float32, numpy=\n",
              " array([[-0.08057658],\n",
              "        [-1.2953609 ],\n",
              "        [ 1.5915805 ],\n",
              "        [ 0.6151149 ]], dtype=float32)>,\n",
              " <tf.Variable 'dense_1/bias:0' shape=(1,) dtype=float32, numpy=array([-0.3449899], dtype=float32)>]"
            ]
          },
          "metadata": {},
          "execution_count": 34
        }
      ]
    },
    {
      "cell_type": "code",
      "source": [
        "pred = model.predict(X)\n",
        "pred[:5]"
      ],
      "metadata": {
        "colab": {
          "base_uri": "https://localhost:8080/"
        },
        "id": "zV0o1e03Mdjm",
        "outputId": "dcd52f6f-4fc4-4719-d919-a4aa3ca55383"
      },
      "execution_count": 35,
      "outputs": [
        {
          "output_type": "execute_result",
          "data": {
            "text/plain": [
              "array([[0.05028484],\n",
              "       [0.0932433 ],\n",
              "       [0.06435768],\n",
              "       [0.09789219],\n",
              "       [0.04479042]], dtype=float32)"
            ]
          },
          "metadata": {},
          "execution_count": 35
        }
      ]
    },
    {
      "cell_type": "code",
      "source": [
        "pred_label = (pred > 0.5).astype('int').reshape((-1,))\n",
        "pred_label[:5]"
      ],
      "metadata": {
        "colab": {
          "base_uri": "https://localhost:8080/"
        },
        "id": "zGRdd7QZMjJT",
        "outputId": "18716d6a-c132-41b0-ad01-d9be88583060"
      },
      "execution_count": 36,
      "outputs": [
        {
          "output_type": "execute_result",
          "data": {
            "text/plain": [
              "array([0, 0, 0, 0, 0])"
            ]
          },
          "metadata": {},
          "execution_count": 36
        }
      ]
    },
    {
      "cell_type": "code",
      "source": [
        "np.mean(y == pred_label)  # 훈련 셋 정확도"
      ],
      "metadata": {
        "colab": {
          "base_uri": "https://localhost:8080/"
        },
        "id": "wDJ7_ckHMmUw",
        "outputId": "0ff20e84-008e-4bd5-cba2-2d5f870f64ca"
      },
      "execution_count": 37,
      "outputs": [
        {
          "output_type": "execute_result",
          "data": {
            "text/plain": [
              "1.0"
            ]
          },
          "metadata": {},
          "execution_count": 37
        }
      ]
    },
    {
      "cell_type": "markdown",
      "source": [
        "## Iris 다중 클래스 분류"
      ],
      "metadata": {
        "id": "OYQzoC1pbL5s"
      }
    },
    {
      "cell_type": "code",
      "source": [
        "data[:5]"
      ],
      "metadata": {
        "colab": {
          "base_uri": "https://localhost:8080/"
        },
        "id": "ErH9p8CAbN3U",
        "outputId": "16c8b1c3-6170-4a81-fcd8-1ba8f9b6ca55"
      },
      "execution_count": 156,
      "outputs": [
        {
          "output_type": "execute_result",
          "data": {
            "text/plain": [
              "array([[5.1, 3.5, 1.4, 0.2],\n",
              "       [4.9, 3. , 1.4, 0.2],\n",
              "       [4.7, 3.2, 1.3, 0.2],\n",
              "       [4.6, 3.1, 1.5, 0.2],\n",
              "       [5. , 3.6, 1.4, 0.2]])"
            ]
          },
          "metadata": {},
          "execution_count": 156
        }
      ]
    },
    {
      "cell_type": "code",
      "source": [
        "target"
      ],
      "metadata": {
        "colab": {
          "base_uri": "https://localhost:8080/"
        },
        "id": "BlOweBycbQjp",
        "outputId": "81ed38fc-1852-4ad2-a141-f1dc9f4fd945"
      },
      "execution_count": 157,
      "outputs": [
        {
          "output_type": "execute_result",
          "data": {
            "text/plain": [
              "array([0, 0, 0, 0, 0, 0, 0, 0, 0, 0, 0, 0, 0, 0, 0, 0, 0, 0, 0, 0, 0, 0,\n",
              "       0, 0, 0, 0, 0, 0, 0, 0, 0, 0, 0, 0, 0, 0, 0, 0, 0, 0, 0, 0, 0, 0,\n",
              "       0, 0, 0, 0, 0, 0, 1, 1, 1, 1, 1, 1, 1, 1, 1, 1, 1, 1, 1, 1, 1, 1,\n",
              "       1, 1, 1, 1, 1, 1, 1, 1, 1, 1, 1, 1, 1, 1, 1, 1, 1, 1, 1, 1, 1, 1,\n",
              "       1, 1, 1, 1, 1, 1, 1, 1, 1, 1, 1, 1, 2, 2, 2, 2, 2, 2, 2, 2, 2, 2,\n",
              "       2, 2, 2, 2, 2, 2, 2, 2, 2, 2, 2, 2, 2, 2, 2, 2, 2, 2, 2, 2, 2, 2,\n",
              "       2, 2, 2, 2, 2, 2, 2, 2, 2, 2, 2, 2, 2, 2, 2, 2, 2, 2])"
            ]
          },
          "metadata": {},
          "execution_count": 157
        }
      ]
    },
    {
      "cell_type": "markdown",
      "source": [
        "### SGD Classifier"
      ],
      "metadata": {
        "id": "JkB-hMQhbTFM"
      }
    },
    {
      "cell_type": "code",
      "source": [
        "sgd = SGDClassifier(loss='log', max_iter=10, n_jobs=-1, random_state=42)"
      ],
      "metadata": {
        "id": "tTfUKzjUbSTo"
      },
      "execution_count": 159,
      "outputs": []
    },
    {
      "cell_type": "code",
      "source": [
        "sgd.fit(X=data, y=target)"
      ],
      "metadata": {
        "colab": {
          "base_uri": "https://localhost:8080/"
        },
        "id": "5qHeOKOubVx6",
        "outputId": "b91ada44-e2cc-4e65-8a24-025d239ab32c"
      },
      "execution_count": 160,
      "outputs": [
        {
          "output_type": "stream",
          "name": "stderr",
          "text": [
            "/usr/local/lib/python3.7/dist-packages/sklearn/linear_model/_stochastic_gradient.py:700: ConvergenceWarning: Maximum number of iteration reached before convergence. Consider increasing max_iter to improve the fit.\n",
            "  ConvergenceWarning,\n"
          ]
        },
        {
          "output_type": "execute_result",
          "data": {
            "text/plain": [
              "SGDClassifier(loss='log', max_iter=10, n_jobs=-1, random_state=42)"
            ]
          },
          "metadata": {},
          "execution_count": 160
        }
      ]
    },
    {
      "cell_type": "code",
      "source": [
        "sgd.coef_  # (n_classes, n_features)"
      ],
      "metadata": {
        "colab": {
          "base_uri": "https://localhost:8080/"
        },
        "id": "v7mw0lGTbXSU",
        "outputId": "c0248b40-1542-42d1-c62f-83fbb21cd6d8"
      },
      "execution_count": 161,
      "outputs": [
        {
          "output_type": "execute_result",
          "data": {
            "text/plain": [
              "array([[   7.32064421,   13.17715959,  -27.57442655,  -12.68911664],\n",
              "       [  51.85595122, -145.56864647,   40.12103144, -111.8071359 ],\n",
              "       [-122.62126983, -110.20331528,  189.91857208,  159.89458444]])"
            ]
          },
          "metadata": {},
          "execution_count": 161
        }
      ]
    },
    {
      "cell_type": "code",
      "source": [
        "sgd.intercept_"
      ],
      "metadata": {
        "colab": {
          "base_uri": "https://localhost:8080/"
        },
        "id": "RHnJmKwwbZPK",
        "outputId": "f86f363a-def8-4ecc-c99c-4a8eddaa3481"
      },
      "execution_count": 162,
      "outputs": [
        {
          "output_type": "execute_result",
          "data": {
            "text/plain": [
              "array([   4.97012943,   87.73116955, -122.93221386])"
            ]
          },
          "metadata": {},
          "execution_count": 162
        }
      ]
    },
    {
      "cell_type": "code",
      "source": [
        "# 훈련 셋 예측 확률\n",
        "pred_prob = sgd.predict_proba(X=data)\n",
        "pred_prob[:5]"
      ],
      "metadata": {
        "colab": {
          "base_uri": "https://localhost:8080/"
        },
        "id": "MtBMCrdvbaqc",
        "outputId": "95e78c23-95a5-44b2-9b2c-225d4ce02da4"
      },
      "execution_count": 163,
      "outputs": [
        {
          "output_type": "execute_result",
          "data": {
            "text/plain": [
              "array([[1.00000000e+00, 2.34871875e-54, 0.00000000e+00],\n",
              "       [1.00000000e+00, 2.99578244e-27, 0.00000000e+00],\n",
              "       [1.00000000e+00, 3.85472447e-46, 0.00000000e+00],\n",
              "       [1.00000000e+00, 1.38277811e-38, 0.00000000e+00],\n",
              "       [1.00000000e+00, 6.26310478e-63, 0.00000000e+00]])"
            ]
          },
          "metadata": {},
          "execution_count": 163
        }
      ]
    },
    {
      "cell_type": "code",
      "source": [
        "pred_prob[-5:]"
      ],
      "metadata": {
        "colab": {
          "base_uri": "https://localhost:8080/"
        },
        "id": "WJMtfElubc5b",
        "outputId": "3c7581b4-b72c-41c6-a4dc-8cef1480b412"
      },
      "execution_count": 164,
      "outputs": [
        {
          "output_type": "execute_result",
          "data": {
            "text/plain": [
              "array([[4.79904210e-35, 1.80385537e-22, 1.00000000e+00],\n",
              "       [7.02140712e-35, 5.00000000e-01, 5.00000000e-01],\n",
              "       [4.99499990e-34, 2.08553589e-12, 1.00000000e+00],\n",
              "       [9.67207569e-37, 1.55894047e-55, 1.00000000e+00],\n",
              "       [1.23211445e-33, 5.96727101e-18, 1.00000000e+00]])"
            ]
          },
          "metadata": {},
          "execution_count": 164
        }
      ]
    },
    {
      "cell_type": "code",
      "source": [
        "pred_target = np.argmax(pred_prob, axis=1)\n",
        "pred_target"
      ],
      "metadata": {
        "colab": {
          "base_uri": "https://localhost:8080/"
        },
        "id": "_sSi7Hb0beZn",
        "outputId": "ea104b08-4219-4d48-cfc5-c3e8d30fdc55"
      },
      "execution_count": 165,
      "outputs": [
        {
          "output_type": "execute_result",
          "data": {
            "text/plain": [
              "array([0, 0, 0, 0, 0, 0, 0, 0, 0, 0, 0, 0, 0, 0, 0, 0, 0, 0, 0, 0, 0, 0,\n",
              "       0, 0, 0, 0, 0, 0, 0, 0, 0, 0, 0, 0, 0, 0, 0, 0, 0, 0, 0, 0, 0, 0,\n",
              "       0, 0, 0, 0, 0, 0, 1, 1, 1, 1, 1, 1, 0, 1, 1, 1, 1, 1, 1, 1, 0, 1,\n",
              "       2, 1, 1, 1, 2, 1, 1, 1, 1, 1, 1, 1, 1, 1, 1, 1, 1, 2, 2, 0, 1, 1,\n",
              "       1, 1, 1, 1, 1, 1, 1, 1, 1, 1, 1, 1, 2, 2, 2, 2, 2, 1, 2, 1, 1, 2,\n",
              "       2, 2, 2, 2, 2, 2, 2, 2, 1, 1, 2, 2, 1, 2, 2, 2, 2, 2, 2, 1, 1, 2,\n",
              "       2, 1, 1, 1, 2, 2, 2, 2, 2, 2, 2, 2, 2, 2, 1, 2, 2, 2])"
            ]
          },
          "metadata": {},
          "execution_count": 165
        }
      ]
    },
    {
      "cell_type": "code",
      "source": [
        "np.mean(target == pred_target)"
      ],
      "metadata": {
        "colab": {
          "base_uri": "https://localhost:8080/"
        },
        "id": "d6diJjMq0UAX",
        "outputId": "ac42d270-cb25-486b-e0e9-3c2d1bcfaa68"
      },
      "execution_count": 169,
      "outputs": [
        {
          "output_type": "execute_result",
          "data": {
            "text/plain": [
              "0.8733333333333333"
            ]
          },
          "metadata": {},
          "execution_count": 169
        }
      ]
    },
    {
      "cell_type": "code",
      "source": [
        "pred_label = sgd.predict(X=data)\n",
        "pred_label"
      ],
      "metadata": {
        "colab": {
          "base_uri": "https://localhost:8080/"
        },
        "id": "I5aX1pg3bgAI",
        "outputId": "0039ef69-7e60-4eac-8756-1d6669ea8291"
      },
      "execution_count": 166,
      "outputs": [
        {
          "output_type": "execute_result",
          "data": {
            "text/plain": [
              "array([0, 0, 0, 0, 0, 0, 0, 0, 0, 0, 0, 0, 0, 0, 0, 0, 0, 0, 0, 0, 0, 0,\n",
              "       0, 0, 0, 0, 0, 0, 0, 0, 0, 0, 0, 0, 0, 0, 0, 0, 0, 0, 0, 0, 0, 0,\n",
              "       0, 0, 0, 0, 0, 0, 1, 1, 1, 1, 1, 1, 0, 1, 1, 1, 1, 1, 1, 1, 0, 1,\n",
              "       2, 1, 1, 1, 2, 1, 1, 1, 1, 1, 1, 1, 1, 1, 1, 1, 1, 2, 2, 0, 1, 1,\n",
              "       1, 1, 1, 1, 1, 1, 1, 1, 1, 1, 1, 1, 2, 2, 2, 2, 2, 2, 2, 2, 2, 2,\n",
              "       2, 2, 2, 2, 2, 2, 2, 2, 2, 1, 2, 2, 2, 2, 2, 2, 2, 2, 2, 1, 2, 2,\n",
              "       2, 1, 2, 2, 2, 2, 2, 2, 2, 2, 2, 2, 2, 2, 2, 2, 2, 2])"
            ]
          },
          "metadata": {},
          "execution_count": 166
        }
      ]
    },
    {
      "cell_type": "code",
      "source": [
        "np.mean(target == pred_label)"
      ],
      "metadata": {
        "colab": {
          "base_uri": "https://localhost:8080/"
        },
        "id": "t51DqDtjblLv",
        "outputId": "a55c7622-7098-4c92-c9fd-5d9365268355"
      },
      "execution_count": 167,
      "outputs": [
        {
          "output_type": "execute_result",
          "data": {
            "text/plain": [
              "0.9333333333333333"
            ]
          },
          "metadata": {},
          "execution_count": 167
        }
      ]
    },
    {
      "cell_type": "markdown",
      "source": [
        "### NN"
      ],
      "metadata": {
        "id": "2fFYqnEWbnvu"
      }
    },
    {
      "cell_type": "code",
      "source": [
        "model = keras.Sequential()\n",
        "model.add(keras.layers.Dense(units=3,\n",
        "                             activation=keras.activations.softmax,\n",
        "                             input_shape=(4,)))"
      ],
      "metadata": {
        "id": "ICMA_h8hbm4y"
      },
      "execution_count": 170,
      "outputs": []
    },
    {
      "cell_type": "code",
      "source": [
        "model.summary()"
      ],
      "metadata": {
        "colab": {
          "base_uri": "https://localhost:8080/"
        },
        "id": "DCp2tjJDbqdW",
        "outputId": "5ddf41c5-e3eb-45c7-f7d6-ba0bd67682b8"
      },
      "execution_count": 171,
      "outputs": [
        {
          "output_type": "stream",
          "name": "stdout",
          "text": [
            "Model: \"sequential_14\"\n",
            "_________________________________________________________________\n",
            " Layer (type)                Output Shape              Param #   \n",
            "=================================================================\n",
            " dense_26 (Dense)            (None, 3)                 15        \n",
            "                                                                 \n",
            "=================================================================\n",
            "Total params: 15\n",
            "Trainable params: 15\n",
            "Non-trainable params: 0\n",
            "_________________________________________________________________\n"
          ]
        }
      ]
    },
    {
      "cell_type": "code",
      "source": [
        "model.compile(optimizer=keras.optimizers.SGD(),\n",
        "              loss=keras.losses.sparse_categorical_crossentropy,\n",
        "              metrics=keras.metrics.sparse_categorical_accuracy)\n",
        "# optimizer='sgd', loss='sparse_categorical_crossentropy', metrics='...'"
      ],
      "metadata": {
        "id": "1SgsbUQobscD"
      },
      "execution_count": 172,
      "outputs": []
    },
    {
      "cell_type": "code",
      "source": [
        "model.fit(x=data, y=target, batch_size=1, epochs=10)"
      ],
      "metadata": {
        "colab": {
          "base_uri": "https://localhost:8080/"
        },
        "id": "_7t5vycxbuZA",
        "outputId": "e6e3332a-287e-4984-c5cd-47d76131e464"
      },
      "execution_count": 173,
      "outputs": [
        {
          "output_type": "stream",
          "name": "stdout",
          "text": [
            "Epoch 1/10\n",
            "150/150 [==============================] - 0s 2ms/step - loss: 0.9975 - sparse_categorical_accuracy: 0.5533\n",
            "Epoch 2/10\n",
            "150/150 [==============================] - 0s 2ms/step - loss: 0.6793 - sparse_categorical_accuracy: 0.6667\n",
            "Epoch 3/10\n",
            "150/150 [==============================] - 0s 2ms/step - loss: 0.5976 - sparse_categorical_accuracy: 0.6867\n",
            "Epoch 4/10\n",
            "150/150 [==============================] - 0s 2ms/step - loss: 0.5348 - sparse_categorical_accuracy: 0.7200\n",
            "Epoch 5/10\n",
            "150/150 [==============================] - 0s 2ms/step - loss: 0.4933 - sparse_categorical_accuracy: 0.7667\n",
            "Epoch 6/10\n",
            "150/150 [==============================] - 0s 2ms/step - loss: 0.4693 - sparse_categorical_accuracy: 0.7667\n",
            "Epoch 7/10\n",
            "150/150 [==============================] - 0s 2ms/step - loss: 0.4280 - sparse_categorical_accuracy: 0.7933\n",
            "Epoch 8/10\n",
            "150/150 [==============================] - 0s 2ms/step - loss: 0.4079 - sparse_categorical_accuracy: 0.8133\n",
            "Epoch 9/10\n",
            "150/150 [==============================] - 0s 2ms/step - loss: 0.3858 - sparse_categorical_accuracy: 0.8067\n",
            "Epoch 10/10\n",
            "150/150 [==============================] - 0s 2ms/step - loss: 0.3735 - sparse_categorical_accuracy: 0.8467\n"
          ]
        },
        {
          "output_type": "execute_result",
          "data": {
            "text/plain": [
              "<keras.callbacks.History at 0x7fd39ca71790>"
            ]
          },
          "metadata": {},
          "execution_count": 173
        }
      ]
    },
    {
      "cell_type": "code",
      "source": [
        "# 신경망 모델이 훈련을 통해서 찾은 가중치 : (n_inputs, n_units) & (n_units,)\n",
        "model.weights"
      ],
      "metadata": {
        "colab": {
          "base_uri": "https://localhost:8080/"
        },
        "id": "TbGjZzU3fYuz",
        "outputId": "59ceaa17-15fb-404d-b9ca-46033da90f7f"
      },
      "execution_count": 174,
      "outputs": [
        {
          "output_type": "execute_result",
          "data": {
            "text/plain": [
              "[<tf.Variable 'dense_26/kernel:0' shape=(4, 3) dtype=float32, numpy=\n",
              " array([[-0.36465174, -0.0349853 , -0.5350403 ],\n",
              "        [ 1.5644417 , -0.21448012, -1.381727  ],\n",
              "        [-1.6385518 , -0.31259605,  0.600194  ],\n",
              "        [-0.48637643, -0.03981762,  1.0587455 ]], dtype=float32)>,\n",
              " <tf.Variable 'dense_26/bias:0' shape=(3,) dtype=float32, numpy=array([ 0.17249429,  0.24549456, -0.41798848], dtype=float32)>]"
            ]
          },
          "metadata": {},
          "execution_count": 174
        }
      ]
    },
    {
      "cell_type": "code",
      "source": [
        "# 다중 클래스 분류 신경망 모델의 predict() : 각 클래스가 될 확률들  \n",
        "pred = model.predict(x=data)"
      ],
      "metadata": {
        "id": "6LgHuYSPg1Qc"
      },
      "execution_count": 175,
      "outputs": []
    },
    {
      "cell_type": "code",
      "source": [
        "pred[:5]"
      ],
      "metadata": {
        "colab": {
          "base_uri": "https://localhost:8080/"
        },
        "id": "bIAUumVeg9TE",
        "outputId": "e4a4636d-0b7d-4abd-c259-8d49995f66cf"
      },
      "execution_count": 176,
      "outputs": [
        {
          "output_type": "execute_result",
          "data": {
            "text/plain": [
              "array([[9.2575639e-01, 7.4019872e-02, 2.2376131e-04],\n",
              "       [8.4511352e-01, 1.5396442e-01, 9.2205225e-04],\n",
              "       [9.0484792e-01, 9.4699055e-02, 4.5298864e-04],\n",
              "       [8.6297071e-01, 1.3610609e-01, 9.2323753e-04],\n",
              "       [9.3902123e-01, 6.0806815e-02, 1.7195426e-04]], dtype=float32)"
            ]
          },
          "metadata": {},
          "execution_count": 176
        }
      ]
    },
    {
      "cell_type": "code",
      "source": [
        "pred.shape # 신경망에서 최종 output의 shape"
      ],
      "metadata": {
        "colab": {
          "base_uri": "https://localhost:8080/"
        },
        "id": "9cCxb8slhfpk",
        "outputId": "80ade9ae-5bfb-4189-c6d8-0571004683bb"
      },
      "execution_count": 177,
      "outputs": [
        {
          "output_type": "execute_result",
          "data": {
            "text/plain": [
              "(150, 3)"
            ]
          },
          "metadata": {},
          "execution_count": 177
        }
      ]
    },
    {
      "cell_type": "code",
      "source": [
        "pred_label = np.argmax(pred, axis=1)\n",
        "pred_label"
      ],
      "metadata": {
        "colab": {
          "base_uri": "https://localhost:8080/"
        },
        "id": "2eOufEXdhzFP",
        "outputId": "16855e2e-940b-428f-95d1-92f3c219606d"
      },
      "execution_count": 179,
      "outputs": [
        {
          "output_type": "execute_result",
          "data": {
            "text/plain": [
              "array([0, 0, 0, 0, 0, 0, 0, 0, 0, 0, 0, 0, 0, 0, 0, 0, 0, 0, 0, 0, 0, 0,\n",
              "       0, 0, 0, 0, 0, 0, 0, 0, 0, 0, 0, 0, 0, 0, 0, 0, 0, 0, 0, 0, 0, 0,\n",
              "       0, 0, 0, 0, 0, 0, 1, 1, 1, 1, 1, 1, 1, 1, 1, 1, 1, 1, 1, 1, 1, 1,\n",
              "       1, 1, 1, 1, 1, 1, 1, 1, 1, 1, 1, 1, 1, 1, 1, 1, 1, 1, 1, 1, 1, 1,\n",
              "       1, 1, 1, 1, 1, 1, 1, 1, 1, 1, 1, 1, 2, 2, 1, 1, 2, 2, 1, 2, 2, 1,\n",
              "       1, 1, 1, 2, 2, 1, 1, 1, 2, 1, 1, 1, 2, 1, 1, 1, 1, 1, 2, 1, 2, 1,\n",
              "       2, 1, 1, 2, 1, 1, 1, 1, 2, 1, 2, 2, 2, 1, 1, 1, 1, 1])"
            ]
          },
          "metadata": {},
          "execution_count": 179
        }
      ]
    },
    {
      "cell_type": "markdown",
      "source": [
        "# Fashion MNIST datasets"
      ],
      "metadata": {
        "id": "I7hXuKPJi_2n"
      }
    },
    {
      "cell_type": "code",
      "source": [
        "(X_tr, y_tr), (X_te, y_te) = keras.datasets.fashion_mnist.load_data()"
      ],
      "metadata": {
        "colab": {
          "base_uri": "https://localhost:8080/"
        },
        "id": "8KikynAkjCaT",
        "outputId": "1dc8f5d1-6b54-4d55-d72a-b58a0b7d73e1"
      },
      "execution_count": 58,
      "outputs": [
        {
          "output_type": "stream",
          "name": "stdout",
          "text": [
            "Downloading data from https://storage.googleapis.com/tensorflow/tf-keras-datasets/train-labels-idx1-ubyte.gz\n",
            "32768/29515 [=================================] - 0s 0us/step\n",
            "40960/29515 [=========================================] - 0s 0us/step\n",
            "Downloading data from https://storage.googleapis.com/tensorflow/tf-keras-datasets/train-images-idx3-ubyte.gz\n",
            "26427392/26421880 [==============================] - 1s 0us/step\n",
            "26435584/26421880 [==============================] - 1s 0us/step\n",
            "Downloading data from https://storage.googleapis.com/tensorflow/tf-keras-datasets/t10k-labels-idx1-ubyte.gz\n",
            "16384/5148 [===============================================================================================] - 0s 0us/step\n",
            "Downloading data from https://storage.googleapis.com/tensorflow/tf-keras-datasets/t10k-images-idx3-ubyte.gz\n",
            "4423680/4422102 [==============================] - 0s 0us/step\n",
            "4431872/4422102 [==============================] - 0s 0us/step\n"
          ]
        }
      ]
    },
    {
      "cell_type": "code",
      "source": [
        "X_tr.shape, y_tr.shape"
      ],
      "metadata": {
        "colab": {
          "base_uri": "https://localhost:8080/"
        },
        "id": "APZitDNTjTRz",
        "outputId": "c2c4ee35-8dc8-44d1-86ee-26c235df5b42"
      },
      "execution_count": 59,
      "outputs": [
        {
          "output_type": "execute_result",
          "data": {
            "text/plain": [
              "((60000, 28, 28), (60000,))"
            ]
          },
          "metadata": {},
          "execution_count": 59
        }
      ]
    },
    {
      "cell_type": "code",
      "source": [
        "img = X_tr[0]\n",
        "plt.imshow(img, cmap='binary')\n",
        "plt.show()"
      ],
      "metadata": {
        "colab": {
          "base_uri": "https://localhost:8080/",
          "height": 265
        },
        "id": "o2TTE3drjtCo",
        "outputId": "07c6ad02-096c-4fdc-bfb7-d28876f99121"
      },
      "execution_count": 60,
      "outputs": [
        {
          "output_type": "display_data",
          "data": {
            "text/plain": [
              "<Figure size 432x288 with 1 Axes>"
            ],
            "image/png": "[encoded data removed]"
          },
          "metadata": {
            "needs_background": "light"
          }
        }
      ]
    },
    {
      "cell_type": "code",
      "source": [
        "y_tr[0]"
      ],
      "metadata": {
        "colab": {
          "base_uri": "https://localhost:8080/"
        },
        "id": "EqO06FMyj9dr",
        "outputId": "f1f55a40-554e-41ec-d0aa-da070c729329"
      },
      "execution_count": 61,
      "outputs": [
        {
          "output_type": "execute_result",
          "data": {
            "text/plain": [
              "9"
            ]
          },
          "metadata": {},
          "execution_count": 61
        }
      ]
    },
    {
      "cell_type": "code",
      "source": [
        "np.unique(y_tr, return_counts=True)"
      ],
      "metadata": {
        "colab": {
          "base_uri": "https://localhost:8080/"
        },
        "id": "S9lDXwu9kLxI",
        "outputId": "0287073b-7fd2-4b87-8e13-5de8b81a7636"
      },
      "execution_count": 62,
      "outputs": [
        {
          "output_type": "execute_result",
          "data": {
            "text/plain": [
              "(array([0, 1, 2, 3, 4, 5, 6, 7, 8, 9], dtype=uint8),\n",
              " array([6000, 6000, 6000, 6000, 6000, 6000, 6000, 6000, 6000, 6000]))"
            ]
          },
          "metadata": {},
          "execution_count": 62
        }
      ]
    },
    {
      "cell_type": "code",
      "source": [
        "img = X_te[0]\n",
        "plt.imshow(img, cmap='binary')\n",
        "plt.show()"
      ],
      "metadata": {
        "colab": {
          "base_uri": "https://localhost:8080/",
          "height": 265
        },
        "id": "doJxKLtqkg1s",
        "outputId": "e0d66346-e3e6-4b0b-cb72-156b34a98560"
      },
      "execution_count": 63,
      "outputs": [
        {
          "output_type": "display_data",
          "data": {
            "text/plain": [
              "<Figure size 432x288 with 1 Axes>"
            ],
            "image/png": "[encoded data removed]"
          },
          "metadata": {
            "needs_background": "light"
          }
        }
      ]
    },
    {
      "cell_type": "code",
      "source": [
        "y_te[0]"
      ],
      "metadata": {
        "colab": {
          "base_uri": "https://localhost:8080/"
        },
        "id": "ywQbodwCkjJV",
        "outputId": "2557c3ee-7620-4f52-df3a-7313ca8f88a6"
      },
      "execution_count": 64,
      "outputs": [
        {
          "output_type": "execute_result",
          "data": {
            "text/plain": [
              "9"
            ]
          },
          "metadata": {},
          "execution_count": 64
        }
      ]
    },
    {
      "cell_type": "code",
      "source": [
        "np.unique(y_te, return_counts=True)"
      ],
      "metadata": {
        "colab": {
          "base_uri": "https://localhost:8080/"
        },
        "id": "wY3sj3E146WX",
        "outputId": "5c60af00-7dbf-46f9-bc54-2ede016083a3"
      },
      "execution_count": 65,
      "outputs": [
        {
          "output_type": "execute_result",
          "data": {
            "text/plain": [
              "(array([0, 1, 2, 3, 4, 5, 6, 7, 8, 9], dtype=uint8),\n",
              " array([1000, 1000, 1000, 1000, 1000, 1000, 1000, 1000, 1000, 1000]))"
            ]
          },
          "metadata": {},
          "execution_count": 65
        }
      ]
    },
    {
      "cell_type": "code",
      "source": [
        "def plot_fashion_mnist(arr, ncols=10):\n",
        "    n = len(arr)        # arr의 원소의 개수, 샘플의 개수\n",
        "    nrows = int(np.ceil(n / ncols)) # subplot의 row 개수\n",
        "    fig, ax = plt.subplots(nrows, ncols, figsize=(10, 10))\n",
        "    for i in range(nrows):\n",
        "        for j in range(ncols):\n",
        "            idx = i * ncols + j # arr에서 선택할 샘플의 인덱스\n",
        "            if nrows == 1 or ncols == 1:    # ax가 1차원 배열인 경우\n",
        "                if idx < n:\n",
        "                    ax[idx].imshow(arr[idx], cmap=plt.cm.binary)\n",
        "                ax[idx].axis('off')\n",
        "            else:                           # ax가 2차원 배열인 경우\n",
        "                if idx < n:\n",
        "                    ax[i, j].imshow(arr[idx], cmap=plt.cm.binary)\n",
        "                ax[i, j].axis('off')\n",
        "    plt.show()"
      ],
      "metadata": {
        "id": "dS0Eo4Dx5A0O"
      },
      "execution_count": 66,
      "outputs": []
    },
    {
      "cell_type": "code",
      "source": [
        "plot_fashion_mnist(X_tr[:100])"
      ],
      "metadata": {
        "colab": {
          "base_uri": "https://localhost:8080/",
          "height": 574
        },
        "id": "c6vTXd3u7Pj6",
        "outputId": "e66d6b03-1001-4d22-b6be-99c9d3d84aa1"
      },
      "execution_count": 67,
      "outputs": [
        {
          "output_type": "display_data",
          "data": {
            "text/plain": [
              "<Figure size 720x720 with 100 Axes>"
            ],
            "image/png": "[encoded data removed]"
          },
          "metadata": {
            "needs_background": "light"
          }
        }
      ]
    },
    {
      "cell_type": "markdown",
      "source": [
        "데이터 셋 전처리 :\n",
        "\n",
        "훈련 셋과 테스트 셋은 0 ~ 255 스케일 → 0 ~ 1 스케일로 변환."
      ],
      "metadata": {
        "id": "2PTkHHK78NVB"
      }
    },
    {
      "cell_type": "code",
      "source": [
        "X_tr_scaled = X_tr / 255\n",
        "X_te_scaled = X_te / 255"
      ],
      "metadata": {
        "id": "cDSXnpiR8O7n"
      },
      "execution_count": 68,
      "outputs": []
    },
    {
      "cell_type": "markdown",
      "source": [
        "훈련 셋을 훈련/검증 셋으로 분리"
      ],
      "metadata": {
        "id": "rhKkxtGe9Skc"
      }
    },
    {
      "cell_type": "code",
      "source": [
        "tr_data, val_data, tr_target, val_target = train_test_split(X_tr_scaled, y_tr,\n",
        "                                                            test_size=0.2, \n",
        "                                                            random_state=42,\n",
        "                                                            stratify=y_tr)"
      ],
      "metadata": {
        "id": "G6r-01WZ9VBi"
      },
      "execution_count": 69,
      "outputs": []
    },
    {
      "cell_type": "code",
      "source": [
        "tr_data = tr_data.reshape((48000, -1))   # (48000, 28, 28) → (48000, 784)\n",
        "val_data = val_data.reshape((12000, -1)) # (12000, 28, 28) → (12000, 784)"
      ],
      "metadata": {
        "id": "fucpvi2r-c4D"
      },
      "execution_count": 70,
      "outputs": []
    },
    {
      "cell_type": "markdown",
      "source": [
        "## SGD Classifier"
      ],
      "metadata": {
        "id": "tfFeo1-b9sH8"
      }
    },
    {
      "cell_type": "code",
      "source": [
        "sgd = SGDClassifier(loss='log', max_iter=10, n_jobs=-1, random_state=42)"
      ],
      "metadata": {
        "id": "XwNZGN2T9uG2"
      },
      "execution_count": 71,
      "outputs": []
    },
    {
      "cell_type": "code",
      "source": [
        "sgd.fit(tr_data, tr_target)"
      ],
      "metadata": {
        "colab": {
          "base_uri": "https://localhost:8080/"
        },
        "id": "BpLYYySc-ES_",
        "outputId": "ff24054c-878b-4b10-9cfe-2e03f09244ca"
      },
      "execution_count": 72,
      "outputs": [
        {
          "output_type": "stream",
          "name": "stderr",
          "text": [
            "/usr/local/lib/python3.7/dist-packages/sklearn/linear_model/_stochastic_gradient.py:700: ConvergenceWarning: Maximum number of iteration reached before convergence. Consider increasing max_iter to improve the fit.\n",
            "  ConvergenceWarning,\n"
          ]
        },
        {
          "output_type": "execute_result",
          "data": {
            "text/plain": [
              "SGDClassifier(loss='log', max_iter=10, n_jobs=-1, random_state=42)"
            ]
          },
          "metadata": {},
          "execution_count": 72
        }
      ]
    },
    {
      "cell_type": "code",
      "source": [
        "# 훈련 결과로 찾은 계수들(coefficients)과 절편들(intercepts)\n",
        "sgd.coef_.shape, sgd.intercept_.shape # (n_classes, n_features), (n_classes,)"
      ],
      "metadata": {
        "colab": {
          "base_uri": "https://localhost:8080/"
        },
        "id": "LdwDKZnL-5zW",
        "outputId": "cdc7d4f9-cdd7-4aca-d524-b0eb783bcffb"
      },
      "execution_count": 73,
      "outputs": [
        {
          "output_type": "execute_result",
          "data": {
            "text/plain": [
              "((10, 784), (10,))"
            ]
          },
          "metadata": {},
          "execution_count": 73
        }
      ]
    },
    {
      "cell_type": "code",
      "source": [
        "# 훈련 셋 예측 확률\n",
        "tr_prob = sgd.predict_proba(tr_data)\n",
        "tr_prob[:5]"
      ],
      "metadata": {
        "colab": {
          "base_uri": "https://localhost:8080/"
        },
        "id": "7VVboPodApoU",
        "outputId": "78ee7db6-4e55-4fed-d7bc-c4e3875cbe05"
      },
      "execution_count": 74,
      "outputs": [
        {
          "output_type": "execute_result",
          "data": {
            "text/plain": [
              "array([[3.46103829e-03, 1.98675755e-06, 4.82667555e-01, 5.02729471e-05,\n",
              "        5.48912955e-04, 3.15719188e-12, 5.03987179e-01, 2.65192156e-18,\n",
              "        9.28305521e-03, 3.96124972e-35],\n",
              "       [7.55523103e-01, 3.54977754e-05, 3.87606154e-05, 1.08699705e-05,\n",
              "        5.89136288e-03, 1.79628081e-19, 2.37639589e-01, 9.02758217e-16,\n",
              "        8.60816116e-04, 2.98418435e-33],\n",
              "       [7.97566128e-04, 1.45330661e-04, 4.22729884e-04, 9.60294932e-01,\n",
              "        1.55868192e-06, 2.10671858e-13, 3.83331593e-02, 3.59903550e-06,\n",
              "        1.12473819e-06, 3.41043524e-27],\n",
              "       [1.25158255e-02, 1.15572089e-02, 3.29383853e-03, 9.72464894e-01,\n",
              "        3.91064660e-06, 2.34330697e-08, 1.12412979e-04, 6.58855217e-08,\n",
              "        5.18206161e-05, 3.69130082e-23],\n",
              "       [9.55929510e-01, 3.04957677e-07, 2.88578564e-02, 2.67622081e-09,\n",
              "        3.14834992e-09, 5.39027905e-22, 1.38535303e-02, 3.00496410e-16,\n",
              "        1.35879227e-03, 6.54101447e-22]])"
            ]
          },
          "metadata": {},
          "execution_count": 74
        }
      ]
    },
    {
      "cell_type": "code",
      "source": [
        "tr_pred = sgd.predict(tr_data)\n",
        "tr_pred[:5]"
      ],
      "metadata": {
        "colab": {
          "base_uri": "https://localhost:8080/"
        },
        "id": "t399vt6fAyX4",
        "outputId": "39119f64-3d50-4fd6-fee0-84cb74bf2d9c"
      },
      "execution_count": 75,
      "outputs": [
        {
          "output_type": "execute_result",
          "data": {
            "text/plain": [
              "array([6, 0, 3, 3, 0], dtype=uint8)"
            ]
          },
          "metadata": {},
          "execution_count": 75
        }
      ]
    },
    {
      "cell_type": "code",
      "source": [
        "# 훈련 셋에서의 정확도\n",
        "sgd.score(tr_data, tr_target)"
      ],
      "metadata": {
        "colab": {
          "base_uri": "https://localhost:8080/"
        },
        "id": "AckS6D3xBNzn",
        "outputId": "7691fa33-7850-4df5-d488-c8ed609b3ffc"
      },
      "execution_count": 76,
      "outputs": [
        {
          "output_type": "execute_result",
          "data": {
            "text/plain": [
              "0.8447291666666666"
            ]
          },
          "metadata": {},
          "execution_count": 76
        }
      ]
    },
    {
      "cell_type": "code",
      "source": [
        "# 검증 셋에서의 정확도\n",
        "sgd.score(val_data, val_target)"
      ],
      "metadata": {
        "colab": {
          "base_uri": "https://localhost:8080/"
        },
        "id": "L9FqTvPkBSIk",
        "outputId": "8d20006a-d429-42c3-d516-242663c279bd"
      },
      "execution_count": 77,
      "outputs": [
        {
          "output_type": "execute_result",
          "data": {
            "text/plain": [
              "0.8380833333333333"
            ]
          },
          "metadata": {},
          "execution_count": 77
        }
      ]
    },
    {
      "cell_type": "markdown",
      "source": [
        "## Neural Network"
      ],
      "metadata": {
        "id": "I6P_R8qEBsR4"
      }
    },
    {
      "cell_type": "code",
      "source": [
        "model = keras.Sequential()\n",
        "model.add(keras.layers.Dense(units=10,\n",
        "                             activation=keras.activations.softmax,\n",
        "                             input_shape=(784,)))"
      ],
      "metadata": {
        "id": "fXj4o00PBt0z"
      },
      "execution_count": 78,
      "outputs": []
    },
    {
      "cell_type": "code",
      "source": [
        "model.summary()"
      ],
      "metadata": {
        "colab": {
          "base_uri": "https://localhost:8080/"
        },
        "id": "_g4VpoMPDU1K",
        "outputId": "5c3a582f-7181-475a-be28-a90e272d18d2"
      },
      "execution_count": 79,
      "outputs": [
        {
          "output_type": "stream",
          "name": "stdout",
          "text": [
            "Model: \"sequential_2\"\n",
            "_________________________________________________________________\n",
            " Layer (type)                Output Shape              Param #   \n",
            "=================================================================\n",
            " dense_3 (Dense)             (None, 10)                7850      \n",
            "                                                                 \n",
            "=================================================================\n",
            "Total params: 7,850\n",
            "Trainable params: 7,850\n",
            "Non-trainable params: 0\n",
            "_________________________________________________________________\n"
          ]
        }
      ]
    },
    {
      "cell_type": "code",
      "source": [
        "model.compile(optimizer=keras.optimizers.SGD(),\n",
        "              loss=keras.losses.sparse_categorical_crossentropy,\n",
        "              metrics=keras.metrics.sparse_categorical_accuracy)"
      ],
      "metadata": {
        "id": "3K28uiDDDjc4"
      },
      "execution_count": 80,
      "outputs": []
    },
    {
      "cell_type": "code",
      "source": [
        "model.fit(tr_data, tr_target, epochs=10)\n",
        "# batch_size = None일 때, batch_size의 기본값은 32."
      ],
      "metadata": {
        "colab": {
          "base_uri": "https://localhost:8080/"
        },
        "id": "xDIB9xlCEMhQ",
        "outputId": "0f570fcd-8d8e-408b-b2a4-458bf1492c4a"
      },
      "execution_count": 81,
      "outputs": [
        {
          "output_type": "stream",
          "name": "stdout",
          "text": [
            "Epoch 1/10\n",
            "1500/1500 [==============================] - 3s 2ms/step - loss: 0.8768 - sparse_categorical_accuracy: 0.7192\n",
            "Epoch 2/10\n",
            "1500/1500 [==============================] - 3s 2ms/step - loss: 0.6217 - sparse_categorical_accuracy: 0.7974\n",
            "Epoch 3/10\n",
            "1500/1500 [==============================] - 3s 2ms/step - loss: 0.5663 - sparse_categorical_accuracy: 0.8150\n",
            "Epoch 4/10\n",
            "1500/1500 [==============================] - 3s 2ms/step - loss: 0.5368 - sparse_categorical_accuracy: 0.8234\n",
            "Epoch 5/10\n",
            "1500/1500 [==============================] - 3s 2ms/step - loss: 0.5172 - sparse_categorical_accuracy: 0.8279\n",
            "Epoch 6/10\n",
            "1500/1500 [==============================] - 3s 2ms/step - loss: 0.5031 - sparse_categorical_accuracy: 0.8328\n",
            "Epoch 7/10\n",
            "1500/1500 [==============================] - 3s 2ms/step - loss: 0.4927 - sparse_categorical_accuracy: 0.8349\n",
            "Epoch 8/10\n",
            "1500/1500 [==============================] - 3s 2ms/step - loss: 0.4838 - sparse_categorical_accuracy: 0.8372\n",
            "Epoch 9/10\n",
            "1500/1500 [==============================] - 3s 2ms/step - loss: 0.4764 - sparse_categorical_accuracy: 0.8399\n",
            "Epoch 10/10\n",
            "1500/1500 [==============================] - 3s 2ms/step - loss: 0.4704 - sparse_categorical_accuracy: 0.8418\n"
          ]
        },
        {
          "output_type": "execute_result",
          "data": {
            "text/plain": [
              "<keras.callbacks.History at 0x7fd39c227390>"
            ]
          },
          "metadata": {},
          "execution_count": 81
        }
      ]
    },
    {
      "cell_type": "code",
      "source": [
        "model.weights[0].shape"
      ],
      "metadata": {
        "colab": {
          "base_uri": "https://localhost:8080/"
        },
        "id": "rHbxXwnOElYV",
        "outputId": "121ae0fe-41ea-47aa-d897-fa0c1bcc3419"
      },
      "execution_count": 82,
      "outputs": [
        {
          "output_type": "execute_result",
          "data": {
            "text/plain": [
              "TensorShape([784, 10])"
            ]
          },
          "metadata": {},
          "execution_count": 82
        }
      ]
    },
    {
      "cell_type": "code",
      "source": [
        "model.weights[1].shape"
      ],
      "metadata": {
        "colab": {
          "base_uri": "https://localhost:8080/"
        },
        "id": "t_sJXlIOL5H7",
        "outputId": "ab06d99b-8e93-441c-dea3-0495bf1cca8e"
      },
      "execution_count": 83,
      "outputs": [
        {
          "output_type": "execute_result",
          "data": {
            "text/plain": [
              "TensorShape([10])"
            ]
          },
          "metadata": {},
          "execution_count": 83
        }
      ]
    },
    {
      "cell_type": "code",
      "source": [
        "model.evaluate(tr_data, tr_target)"
      ],
      "metadata": {
        "colab": {
          "base_uri": "https://localhost:8080/"
        },
        "id": "F2NRun_tL7Qn",
        "outputId": "fc71c146-8646-435a-a4ca-faed0fd42b2d"
      },
      "execution_count": 84,
      "outputs": [
        {
          "output_type": "stream",
          "name": "stdout",
          "text": [
            "1500/1500 [==============================] - 4s 3ms/step - loss: 0.4696 - sparse_categorical_accuracy: 0.8407\n"
          ]
        },
        {
          "output_type": "execute_result",
          "data": {
            "text/plain": [
              "[0.4696374833583832, 0.840666651725769]"
            ]
          },
          "metadata": {},
          "execution_count": 84
        }
      ]
    },
    {
      "cell_type": "code",
      "source": [
        "model.evaluate(val_data, val_target)"
      ],
      "metadata": {
        "colab": {
          "base_uri": "https://localhost:8080/"
        },
        "id": "kJLie7VmMquY",
        "outputId": "d0b595e4-cf5b-437f-9273-6673510de741"
      },
      "execution_count": 85,
      "outputs": [
        {
          "output_type": "stream",
          "name": "stdout",
          "text": [
            "375/375 [==============================] - 1s 3ms/step - loss: 0.4611 - sparse_categorical_accuracy: 0.8436\n"
          ]
        },
        {
          "output_type": "execute_result",
          "data": {
            "text/plain": [
              "[0.46111705899238586, 0.843583345413208]"
            ]
          },
          "metadata": {},
          "execution_count": 85
        }
      ]
    },
    {
      "cell_type": "markdown",
      "source": [
        "## Deep Neural Network(심층 신경망)"
      ],
      "metadata": {
        "id": "0V74PZhgOCVZ"
      }
    },
    {
      "cell_type": "markdown",
      "source": [
        "* Deep learing: DNN을 훈련시키는 머신 러닝 학습 방법.\n",
        "\n",
        "* layer를 2개 이상 연결하는 신경망을 만들 경우:\n",
        "\n",
        "    * 첫번째 layer에서만 input_shape을 지정하면 됨.\n",
        "        * 두번째 layer부터는 그 이전 layer의 출력의 개수(unit의 개수)가 input_shape이 됨.\n",
        "    * 마지막 layer(출력층)를 제외한 중간 layer들의 units, activation 파라미터는 훈련을 통해서 최적의 값을 찾아야 하는 하이퍼 파라미터.\n",
        "* 출력층의 units, activation 파라미터는 문제에 따라서 결정됨.\n",
        "    * 이진 분류: units=1, activation='sigmoid'\n",
        "    * 다중 클래스 분류: units=n_classes, activation='softmax'"
      ],
      "metadata": {
        "id": "9W-VU9YsWJjl"
      }
    },
    {
      "cell_type": "code",
      "source": [
        "model = keras.Sequential()\n",
        "model.add(keras.layers.Dense(units=100,\n",
        "                             activation=keras.activations.sigmoid,\n",
        "                             input_shape=(784,)))\n",
        "model.add(keras.layers.Dense(units=10,\n",
        "                             activation=keras.activations.softmax))\n",
        "# input_shape 지정할 필요 X\n",
        "# 첫 번째 layer에서만 input_shape을 지정하면 됨.\n",
        "# 두 번째 layer부터는 그 이전 layer의 출력의 개수(unit의 개수)가 input_shape이 됨."
      ],
      "metadata": {
        "id": "bWpVGUF3OFHM"
      },
      "execution_count": 86,
      "outputs": []
    },
    {
      "cell_type": "code",
      "source": [
        "model.summary()"
      ],
      "metadata": {
        "colab": {
          "base_uri": "https://localhost:8080/"
        },
        "id": "1X2Hhf85PcpB",
        "outputId": "9ddf6815-bbd9-4c33-f2e7-5ba31074a40c"
      },
      "execution_count": 87,
      "outputs": [
        {
          "output_type": "stream",
          "name": "stdout",
          "text": [
            "Model: \"sequential_3\"\n",
            "_________________________________________________________________\n",
            " Layer (type)                Output Shape              Param #   \n",
            "=================================================================\n",
            " dense_4 (Dense)             (None, 100)               78500     \n",
            "                                                                 \n",
            " dense_5 (Dense)             (None, 10)                1010      \n",
            "                                                                 \n",
            "=================================================================\n",
            "Total params: 79,510\n",
            "Trainable params: 79,510\n",
            "Non-trainable params: 0\n",
            "_________________________________________________________________\n"
          ]
        }
      ]
    },
    {
      "cell_type": "code",
      "source": [
        "model.compile(optimizer=keras.optimizers.SGD(),\n",
        "              loss=keras.losses.sparse_categorical_crossentropy,\n",
        "              metrics=keras.metrics.sparse_categorical_accuracy)"
      ],
      "metadata": {
        "id": "ELiI6Cq6Ra74"
      },
      "execution_count": 88,
      "outputs": []
    },
    {
      "cell_type": "code",
      "source": [
        "model.fit(tr_data, tr_target, epochs=10)"
      ],
      "metadata": {
        "colab": {
          "base_uri": "https://localhost:8080/"
        },
        "id": "03WihfoARmfI",
        "outputId": "835070c2-e8b3-48ec-fdf6-118ad55d9a5c"
      },
      "execution_count": 89,
      "outputs": [
        {
          "output_type": "stream",
          "name": "stdout",
          "text": [
            "Epoch 1/10\n",
            "1500/1500 [==============================] - 6s 4ms/step - loss: 1.3739 - sparse_categorical_accuracy: 0.6390\n",
            "Epoch 2/10\n",
            "1500/1500 [==============================] - 6s 4ms/step - loss: 0.8324 - sparse_categorical_accuracy: 0.7429\n",
            "Epoch 3/10\n",
            "1500/1500 [==============================] - 6s 4ms/step - loss: 0.7066 - sparse_categorical_accuracy: 0.7631\n",
            "Epoch 4/10\n",
            "1500/1500 [==============================] - 5s 3ms/step - loss: 0.6442 - sparse_categorical_accuracy: 0.7790\n",
            "Epoch 5/10\n",
            "1500/1500 [==============================] - 5s 3ms/step - loss: 0.6033 - sparse_categorical_accuracy: 0.7933\n",
            "Epoch 6/10\n",
            "1500/1500 [==============================] - 4s 3ms/step - loss: 0.5737 - sparse_categorical_accuracy: 0.8035\n",
            "Epoch 7/10\n",
            "1500/1500 [==============================] - 5s 3ms/step - loss: 0.5512 - sparse_categorical_accuracy: 0.8095\n",
            "Epoch 8/10\n",
            "1500/1500 [==============================] - 5s 3ms/step - loss: 0.5335 - sparse_categorical_accuracy: 0.8153\n",
            "Epoch 9/10\n",
            "1500/1500 [==============================] - 5s 4ms/step - loss: 0.5190 - sparse_categorical_accuracy: 0.8202\n",
            "Epoch 10/10\n",
            "1500/1500 [==============================] - 5s 3ms/step - loss: 0.5071 - sparse_categorical_accuracy: 0.8241\n"
          ]
        },
        {
          "output_type": "execute_result",
          "data": {
            "text/plain": [
              "<keras.callbacks.History at 0x7fd39b971d50>"
            ]
          },
          "metadata": {},
          "execution_count": 89
        }
      ]
    },
    {
      "cell_type": "code",
      "source": [
        "# 훈련 셋에서의 손실 & 정확도\n",
        "model.evaluate(tr_data, tr_target)"
      ],
      "metadata": {
        "colab": {
          "base_uri": "https://localhost:8080/"
        },
        "id": "0fDKNszCWBpg",
        "outputId": "71eaa623-1573-488d-b835-69cf57dcbe1b"
      },
      "execution_count": 90,
      "outputs": [
        {
          "output_type": "stream",
          "name": "stdout",
          "text": [
            "1500/1500 [==============================] - 3s 2ms/step - loss: 0.5014 - sparse_categorical_accuracy: 0.8261\n"
          ]
        },
        {
          "output_type": "execute_result",
          "data": {
            "text/plain": [
              "[0.5013630986213684, 0.8261041641235352]"
            ]
          },
          "metadata": {},
          "execution_count": 90
        }
      ]
    },
    {
      "cell_type": "code",
      "source": [
        "# 테스트 셋에서의 손실 & 정확도\n",
        "model.evaluate(val_data, val_target)"
      ],
      "metadata": {
        "colab": {
          "base_uri": "https://localhost:8080/"
        },
        "id": "dqrF-UZzsmfn",
        "outputId": "37092647-7c3d-4fa1-cdf7-cd7734fef8ec"
      },
      "execution_count": 91,
      "outputs": [
        {
          "output_type": "stream",
          "name": "stdout",
          "text": [
            "375/375 [==============================] - 1s 2ms/step - loss: 0.4910 - sparse_categorical_accuracy: 0.8265\n"
          ]
        },
        {
          "output_type": "execute_result",
          "data": {
            "text/plain": [
              "[0.4910455048084259, 0.8264999985694885]"
            ]
          },
          "metadata": {},
          "execution_count": 91
        }
      ]
    },
    {
      "cell_type": "markdown",
      "source": [
        "# Activation Function(활성화 함수)"
      ],
      "metadata": {
        "id": "ZbJjhRtDXqoF"
      }
    },
    {
      "cell_type": "markdown",
      "source": [
        "## sigmoid(logistic) 함수\n",
        "\n",
        "$\n",
        "\\sigma(x) = \\frac{1}{1+e^{-x}}\n",
        "$"
      ],
      "metadata": {
        "id": "LBnblU5HX5A5"
      }
    },
    {
      "cell_type": "code",
      "source": [
        "xvals = np.arange(-5, 5, 0.0001)"
      ],
      "metadata": {
        "id": "gNQlcQXyYM7b"
      },
      "execution_count": 92,
      "outputs": []
    },
    {
      "cell_type": "code",
      "source": [
        "def sigmoid(x):\n",
        "    return 1 / (1 + np.exp(-x))"
      ],
      "metadata": {
        "id": "QlAq-XmMYiP5"
      },
      "execution_count": 93,
      "outputs": []
    },
    {
      "cell_type": "code",
      "source": [
        "yvals = sigmoid(xvals)\n",
        "plt.plot(xvals, yvals)\n",
        "plt.grid()\n",
        "plt.show()"
      ],
      "metadata": {
        "colab": {
          "base_uri": "https://localhost:8080/",
          "height": 265
        },
        "id": "fxO5KnXiYvB5",
        "outputId": "2549eb8a-ca28-4ce8-f281-40a357455a6f"
      },
      "execution_count": 94,
      "outputs": [
        {
          "output_type": "display_data",
          "data": {
            "text/plain": [
              "<Figure size 432x288 with 1 Axes>"
            ],
            "image/png": "[encoded data removed]"
          },
          "metadata": {
            "needs_background": "light"
          }
        }
      ]
    },
    {
      "cell_type": "markdown",
      "source": [
        "## Hyperbolic tangent"
      ],
      "metadata": {
        "id": "BVt1Vb2KalsR"
      }
    },
    {
      "cell_type": "code",
      "source": [
        "yvals = np.tanh(xvals)\n",
        "plt.plot(xvals, yvals)\n",
        "plt.grid()\n",
        "plt.show()"
      ],
      "metadata": {
        "colab": {
          "base_uri": "https://localhost:8080/",
          "height": 265
        },
        "id": "XI2wrHEMap8v",
        "outputId": "0d91ac20-1776-4337-8546-27033b57dd93"
      },
      "execution_count": 95,
      "outputs": [
        {
          "output_type": "display_data",
          "data": {
            "text/plain": [
              "<Figure size 432x288 with 1 Axes>"
            ],
            "image/png": "[encoded data removed]"
          },
          "metadata": {
            "needs_background": "light"
          }
        }
      ]
    },
    {
      "cell_type": "markdown",
      "source": [
        "## ReLU(Rectified Linear Unit)\n",
        "\n",
        "$\n",
        "\\text{ReLU}(x) = \n",
        "\\begin{cases}\n",
        "    x & \\text{for } x \\ge 0 \\\\\n",
        "    0 & \\text{otherwise}\n",
        "\\end{cases}\n",
        "$"
      ],
      "metadata": {
        "id": "_mjY_fDrbq1Z"
      }
    },
    {
      "cell_type": "code",
      "source": [
        "def relu(x):\n",
        "    return np.maximum(x, 0)"
      ],
      "metadata": {
        "id": "YviGwbkqdCdJ"
      },
      "execution_count": 96,
      "outputs": []
    },
    {
      "cell_type": "code",
      "source": [
        "yvals = relu(xvals)\n",
        "plt.plot(xvals, yvals)\n",
        "plt.grid()\n",
        "plt.title('ReLU')\n",
        "plt.show()"
      ],
      "metadata": {
        "colab": {
          "base_uri": "https://localhost:8080/",
          "height": 281
        },
        "id": "a7JpB6CwdHDF",
        "outputId": "0c65b0fa-b02f-4d81-f39c-2d423cee30d7"
      },
      "execution_count": 97,
      "outputs": [
        {
          "output_type": "display_data",
          "data": {
            "text/plain": [
              "<Figure size 432x288 with 1 Axes>"
            ],
            "image/png": "[encoded data removed]"
          },
          "metadata": {
            "needs_background": "light"
          }
        }
      ]
    },
    {
      "cell_type": "markdown",
      "source": [
        "## Leaky ReLU"
      ],
      "metadata": {
        "id": "BQTP8jUqjO6a"
      }
    },
    {
      "cell_type": "markdown",
      "source": [
        "$\n",
        "\\text{LeakyReLU}(x, \\alpha) = \n",
        "\\begin{cases} x & \\text{for } x \\geq 0\\\\\n",
        "\\alpha x & \\text{otherwise}\n",
        "\\end{cases}\n",
        "$"
      ],
      "metadata": {
        "id": "hKB60hE6jTFt"
      }
    },
    {
      "cell_type": "code",
      "source": [
        "def leaky_relu(x, alpha=0.01):\n",
        "    return np.maximum(x, alpha * x)"
      ],
      "metadata": {
        "id": "64nDxk_7jRSx"
      },
      "execution_count": 98,
      "outputs": []
    },
    {
      "cell_type": "code",
      "source": [
        "xvals = np.arange(-5, 2)\n",
        "yvals = leaky_relu(xvals, alpha=0.01)\n",
        "plt.plot(xvals, yvals)\n",
        "plt.grid()\n",
        "plt.title('Leaky ReLU')\n",
        "plt.show()"
      ],
      "metadata": {
        "colab": {
          "base_uri": "https://localhost:8080/",
          "height": 281
        },
        "id": "PMaJ4SnJj0k_",
        "outputId": "757b98ba-83a9-4b4f-f683-94707b1f0cee"
      },
      "execution_count": 99,
      "outputs": [
        {
          "output_type": "display_data",
          "data": {
            "text/plain": [
              "<Figure size 432x288 with 1 Axes>"
            ],
            "image/png": "[encoded data removed]"
          },
          "metadata": {
            "needs_background": "light"
          }
        }
      ]
    },
    {
      "cell_type": "markdown",
      "source": [
        "## ELU(Exponential Linear Unit)\n",
        "\n",
        "$\n",
        "\\text{ELU}(x, \\alpha) = \n",
        "\\begin{cases} x & \\text{for  } x \\geq 0 \\\\\n",
        "\\alpha (e^{x} - 1) & \\text{otherwise}\n",
        "\\end{cases} \n",
        "$"
      ],
      "metadata": {
        "id": "txnLEcaYgyTY"
      }
    },
    {
      "cell_type": "code",
      "source": [
        "def elu(x, alpha=1):\n",
        "    return np.maximum(x, alpha * (np.exp(x) - 1))"
      ],
      "metadata": {
        "id": "v-Oft9w6h2rs"
      },
      "execution_count": 100,
      "outputs": []
    },
    {
      "cell_type": "code",
      "source": [
        "xvals = np.arange(-5, 3, 0.001)\n",
        "yvals = elu(xvals)\n",
        "plt.plot(xvals, yvals)\n",
        "plt.grid()\n",
        "plt.title('ELU')\n",
        "plt.show()"
      ],
      "metadata": {
        "colab": {
          "base_uri": "https://localhost:8080/",
          "height": 281
        },
        "id": "lOuGlsrdjEey",
        "outputId": "40f80a50-640b-4869-a9b4-a964c5433fb2"
      },
      "execution_count": 101,
      "outputs": [
        {
          "output_type": "display_data",
          "data": {
            "text/plain": [
              "<Figure size 432x288 with 1 Axes>"
            ],
            "image/png": "[encoded data removed]"
          },
          "metadata": {
            "needs_background": "light"
          }
        }
      ]
    },
    {
      "cell_type": "markdown",
      "source": [
        "Activation 함수 적용 : ELU → Leaky ReLU → ReLU → Logistic(sigmoid)"
      ],
      "metadata": {
        "id": "0HzFRibPh3s0"
      }
    },
    {
      "cell_type": "markdown",
      "source": [
        "## 첫 번째 layer 활성화함수 : ELU"
      ],
      "metadata": {
        "id": "wKohjZWZiM5r"
      }
    },
    {
      "cell_type": "code",
      "source": [
        "model = keras.Sequential()\n",
        "# model.add(keras.layers.Flatten(input_shape=(28, 28))) # (28, 28) 모양의 2차원 배열 → (28*28,) 모양의 1차원 배열로 변환\n",
        "# hidden layer(은닉층)\n",
        "model.add(keras.layers.Dense(units=100,\n",
        "                             activation=keras.activations.elu,\n",
        "                             input_shape=(784,)))\n",
        "# output layer(출력층)\n",
        "model.add(keras.layers.Dense(units=10,\n",
        "                             activation=keras.activations.softmax))"
      ],
      "metadata": {
        "id": "Mot4i2Exibh5"
      },
      "execution_count": 102,
      "outputs": []
    },
    {
      "cell_type": "code",
      "source": [
        "model.compile(optimizer=keras.optimizers.SGD(),\n",
        "              loss=keras.losses.sparse_categorical_crossentropy,\n",
        "              metrics=keras.metrics.sparse_categorical_accuracy)"
      ],
      "metadata": {
        "id": "BwrWteXRpM81"
      },
      "execution_count": 103,
      "outputs": []
    },
    {
      "cell_type": "code",
      "source": [
        "model.fit(tr_data, tr_target, epochs=10)"
      ],
      "metadata": {
        "colab": {
          "base_uri": "https://localhost:8080/"
        },
        "id": "QzZSq22Vousn",
        "outputId": "c210a9fc-fd69-465e-e6b9-d1a2fe624e23"
      },
      "execution_count": 104,
      "outputs": [
        {
          "output_type": "stream",
          "name": "stdout",
          "text": [
            "Epoch 1/10\n",
            "1500/1500 [==============================] - 3s 2ms/step - loss: 0.7429 - sparse_categorical_accuracy: 0.7572\n",
            "Epoch 2/10\n",
            "1500/1500 [==============================] - 3s 2ms/step - loss: 0.5289 - sparse_categorical_accuracy: 0.8185\n",
            "Epoch 3/10\n",
            "1500/1500 [==============================] - 3s 2ms/step - loss: 0.4859 - sparse_categorical_accuracy: 0.8320\n",
            "Epoch 4/10\n",
            "1500/1500 [==============================] - 3s 2ms/step - loss: 0.4633 - sparse_categorical_accuracy: 0.8382\n",
            "Epoch 5/10\n",
            "1500/1500 [==============================] - 3s 2ms/step - loss: 0.4467 - sparse_categorical_accuracy: 0.8439\n",
            "Epoch 6/10\n",
            "1500/1500 [==============================] - 3s 2ms/step - loss: 0.4355 - sparse_categorical_accuracy: 0.8482\n",
            "Epoch 7/10\n",
            "1500/1500 [==============================] - 3s 2ms/step - loss: 0.4252 - sparse_categorical_accuracy: 0.8511\n",
            "Epoch 8/10\n",
            "1500/1500 [==============================] - 3s 2ms/step - loss: 0.4168 - sparse_categorical_accuracy: 0.8540\n",
            "Epoch 9/10\n",
            "1500/1500 [==============================] - 3s 2ms/step - loss: 0.4091 - sparse_categorical_accuracy: 0.8571\n",
            "Epoch 10/10\n",
            "1500/1500 [==============================] - 3s 2ms/step - loss: 0.4021 - sparse_categorical_accuracy: 0.8591\n"
          ]
        },
        {
          "output_type": "execute_result",
          "data": {
            "text/plain": [
              "<keras.callbacks.History at 0x7fd39b627bd0>"
            ]
          },
          "metadata": {},
          "execution_count": 104
        }
      ]
    },
    {
      "cell_type": "code",
      "source": [
        "model.evaluate(tr_data, tr_target)"
      ],
      "metadata": {
        "colab": {
          "base_uri": "https://localhost:8080/"
        },
        "id": "G0uge6cOroso",
        "outputId": "1a7794ea-bb2e-42e7-a373-3201a36ed15f"
      },
      "execution_count": 105,
      "outputs": [
        {
          "output_type": "stream",
          "name": "stdout",
          "text": [
            "1500/1500 [==============================] - 3s 2ms/step - loss: 0.3991 - sparse_categorical_accuracy: 0.8596\n"
          ]
        },
        {
          "output_type": "execute_result",
          "data": {
            "text/plain": [
              "[0.39910465478897095, 0.8596041798591614]"
            ]
          },
          "metadata": {},
          "execution_count": 105
        }
      ]
    },
    {
      "cell_type": "code",
      "source": [
        "model.evaluate(val_data, val_target)"
      ],
      "metadata": {
        "colab": {
          "base_uri": "https://localhost:8080/"
        },
        "id": "Hyi0rP-bruYk",
        "outputId": "efe0c57a-8358-46b2-914e-08982acba63f"
      },
      "execution_count": 106,
      "outputs": [
        {
          "output_type": "stream",
          "name": "stdout",
          "text": [
            "375/375 [==============================] - 1s 2ms/step - loss: 0.4012 - sparse_categorical_accuracy: 0.8612\n"
          ]
        },
        {
          "output_type": "execute_result",
          "data": {
            "text/plain": [
              "[0.40117236971855164, 0.8611666560173035]"
            ]
          },
          "metadata": {},
          "execution_count": 106
        }
      ]
    },
    {
      "cell_type": "markdown",
      "source": [
        "## 첫 번째 layer 활성화함수 : Leaky ReLU"
      ],
      "metadata": {
        "id": "9JADyr73iUeH"
      }
    },
    {
      "cell_type": "code",
      "source": [
        "model = keras.Sequential()\n",
        "model.add(keras.layers.Dense(units=100,\n",
        "                             activation='LeakyReLU',\n",
        "                             input_shape=(784,)))\n",
        "model.add(keras.layers.Dense(units=10,\n",
        "                             activation=keras.activations.softmax))"
      ],
      "metadata": {
        "id": "goaE7VuHib_w"
      },
      "execution_count": 107,
      "outputs": []
    },
    {
      "cell_type": "code",
      "source": [
        "model.summary()"
      ],
      "metadata": {
        "colab": {
          "base_uri": "https://localhost:8080/"
        },
        "id": "Os9xiiZdgRHN",
        "outputId": "9c084296-96fe-4d9e-ae37-5e32655e5092"
      },
      "execution_count": 108,
      "outputs": [
        {
          "output_type": "stream",
          "name": "stdout",
          "text": [
            "Model: \"sequential_5\"\n",
            "_________________________________________________________________\n",
            " Layer (type)                Output Shape              Param #   \n",
            "=================================================================\n",
            " dense_8 (Dense)             (None, 100)               78500     \n",
            "                                                                 \n",
            " dense_9 (Dense)             (None, 10)                1010      \n",
            "                                                                 \n",
            "=================================================================\n",
            "Total params: 79,510\n",
            "Trainable params: 79,510\n",
            "Non-trainable params: 0\n",
            "_________________________________________________________________\n"
          ]
        }
      ]
    },
    {
      "cell_type": "code",
      "source": [
        "model.compile(optimizer=keras.optimizers.SGD(),\n",
        "              loss=keras.losses.sparse_categorical_crossentropy,\n",
        "              metrics=keras.metrics.sparse_categorical_accuracy)"
      ],
      "metadata": {
        "id": "5rLquoXNrC4x"
      },
      "execution_count": 109,
      "outputs": []
    },
    {
      "cell_type": "code",
      "source": [
        "model.fit(tr_data, tr_target, epochs=10)"
      ],
      "metadata": {
        "colab": {
          "base_uri": "https://localhost:8080/"
        },
        "id": "P43dV3F5rDRo",
        "outputId": "c2944837-8aba-423d-c0b1-ed9bfcf38cde"
      },
      "execution_count": 110,
      "outputs": [
        {
          "output_type": "stream",
          "name": "stdout",
          "text": [
            "Epoch 1/10\n",
            "1500/1500 [==============================] - 3s 2ms/step - loss: 0.7961 - sparse_categorical_accuracy: 0.7390\n",
            "Epoch 2/10\n",
            "1500/1500 [==============================] - 3s 2ms/step - loss: 0.5411 - sparse_categorical_accuracy: 0.8174\n",
            "Epoch 3/10\n",
            "1500/1500 [==============================] - 3s 2ms/step - loss: 0.4945 - sparse_categorical_accuracy: 0.8295\n",
            "Epoch 4/10\n",
            "1500/1500 [==============================] - 3s 2ms/step - loss: 0.4693 - sparse_categorical_accuracy: 0.8366\n",
            "Epoch 5/10\n",
            "1500/1500 [==============================] - 3s 2ms/step - loss: 0.4528 - sparse_categorical_accuracy: 0.8435\n",
            "Epoch 6/10\n",
            "1500/1500 [==============================] - 3s 2ms/step - loss: 0.4396 - sparse_categorical_accuracy: 0.8472\n",
            "Epoch 7/10\n",
            "1500/1500 [==============================] - 4s 2ms/step - loss: 0.4297 - sparse_categorical_accuracy: 0.8509\n",
            "Epoch 8/10\n",
            "1500/1500 [==============================] - 3s 2ms/step - loss: 0.4202 - sparse_categorical_accuracy: 0.8536\n",
            "Epoch 9/10\n",
            "1500/1500 [==============================] - 3s 2ms/step - loss: 0.4134 - sparse_categorical_accuracy: 0.8551\n",
            "Epoch 10/10\n",
            "1500/1500 [==============================] - 3s 2ms/step - loss: 0.4070 - sparse_categorical_accuracy: 0.8586\n"
          ]
        },
        {
          "output_type": "execute_result",
          "data": {
            "text/plain": [
              "<keras.callbacks.History at 0x7fd39b570190>"
            ]
          },
          "metadata": {},
          "execution_count": 110
        }
      ]
    },
    {
      "cell_type": "code",
      "source": [
        "model.evaluate(tr_data, tr_target)"
      ],
      "metadata": {
        "colab": {
          "base_uri": "https://localhost:8080/"
        },
        "id": "tNF6fF_5rybb",
        "outputId": "b188e851-d3ac-4bf9-9dea-e0e57e860d1e"
      },
      "execution_count": 111,
      "outputs": [
        {
          "output_type": "stream",
          "name": "stdout",
          "text": [
            "1500/1500 [==============================] - 3s 2ms/step - loss: 0.4048 - sparse_categorical_accuracy: 0.8594\n"
          ]
        },
        {
          "output_type": "execute_result",
          "data": {
            "text/plain": [
              "[0.4047605097293854, 0.859375]"
            ]
          },
          "metadata": {},
          "execution_count": 111
        }
      ]
    },
    {
      "cell_type": "code",
      "source": [
        "model.evaluate(val_data, val_target)"
      ],
      "metadata": {
        "colab": {
          "base_uri": "https://localhost:8080/"
        },
        "id": "BTBNQKdkrzND",
        "outputId": "fc950596-642b-4150-f291-b5403d97fcb6"
      },
      "execution_count": 112,
      "outputs": [
        {
          "output_type": "stream",
          "name": "stdout",
          "text": [
            "375/375 [==============================] - 1s 2ms/step - loss: 0.4074 - sparse_categorical_accuracy: 0.8580\n"
          ]
        },
        {
          "output_type": "execute_result",
          "data": {
            "text/plain": [
              "[0.4074051082134247, 0.8579999804496765]"
            ]
          },
          "metadata": {},
          "execution_count": 112
        }
      ]
    },
    {
      "cell_type": "code",
      "source": [
        "model = keras.Sequential()\n",
        "model.add(keras.layers.Dense(units=100))\n",
        "# Leaky Layer (activation)\n",
        "model.add(keras.layers.LeakyReLU())\n",
        "model.add(keras.layers.Dense(units=10,\n",
        "                             activation=keras.activations.softmax))"
      ],
      "metadata": {
        "id": "lMbFl_v8f4FV"
      },
      "execution_count": 113,
      "outputs": []
    },
    {
      "cell_type": "code",
      "source": [
        "model.compile(optimizer=keras.optimizers.SGD(),\n",
        "              loss=keras.losses.sparse_categorical_crossentropy,\n",
        "              metrics=keras.metrics.sparse_categorical_accuracy)"
      ],
      "metadata": {
        "id": "z3xK-S_pjoD0"
      },
      "execution_count": 114,
      "outputs": []
    },
    {
      "cell_type": "code",
      "source": [
        "model.fit(tr_data, tr_target, epochs=10)"
      ],
      "metadata": {
        "colab": {
          "base_uri": "https://localhost:8080/"
        },
        "id": "YoyMsCN9jrbQ",
        "outputId": "fdd16c85-2d1d-454e-cb8a-20a8ee3f893a"
      },
      "execution_count": 115,
      "outputs": [
        {
          "output_type": "stream",
          "name": "stdout",
          "text": [
            "Epoch 1/10\n",
            "1500/1500 [==============================] - 3s 2ms/step - loss: 0.7788 - sparse_categorical_accuracy: 0.7498\n",
            "Epoch 2/10\n",
            "1500/1500 [==============================] - 3s 2ms/step - loss: 0.5400 - sparse_categorical_accuracy: 0.8188\n",
            "Epoch 3/10\n",
            "1500/1500 [==============================] - 3s 2ms/step - loss: 0.4941 - sparse_categorical_accuracy: 0.8308\n",
            "Epoch 4/10\n",
            "1500/1500 [==============================] - 3s 2ms/step - loss: 0.4689 - sparse_categorical_accuracy: 0.8399\n",
            "Epoch 5/10\n",
            "1500/1500 [==============================] - 3s 2ms/step - loss: 0.4510 - sparse_categorical_accuracy: 0.8441\n",
            "Epoch 6/10\n",
            "1500/1500 [==============================] - 3s 2ms/step - loss: 0.4385 - sparse_categorical_accuracy: 0.8487\n",
            "Epoch 7/10\n",
            "1500/1500 [==============================] - 3s 2ms/step - loss: 0.4276 - sparse_categorical_accuracy: 0.8524\n",
            "Epoch 8/10\n",
            "1500/1500 [==============================] - 4s 2ms/step - loss: 0.4185 - sparse_categorical_accuracy: 0.8548\n",
            "Epoch 9/10\n",
            "1500/1500 [==============================] - 3s 2ms/step - loss: 0.4110 - sparse_categorical_accuracy: 0.8577\n",
            "Epoch 10/10\n",
            "1500/1500 [==============================] - 3s 2ms/step - loss: 0.4043 - sparse_categorical_accuracy: 0.8593\n"
          ]
        },
        {
          "output_type": "execute_result",
          "data": {
            "text/plain": [
              "<keras.callbacks.History at 0x7fd39b37ac90>"
            ]
          },
          "metadata": {},
          "execution_count": 115
        }
      ]
    },
    {
      "cell_type": "code",
      "source": [
        "model.evaluate(tr_data, tr_target)"
      ],
      "metadata": {
        "colab": {
          "base_uri": "https://localhost:8080/"
        },
        "id": "wtEkv4xLjsgL",
        "outputId": "8a71a25c-cc97-4dc4-f26a-e5464e126681"
      },
      "execution_count": 116,
      "outputs": [
        {
          "output_type": "stream",
          "name": "stdout",
          "text": [
            "1500/1500 [==============================] - 3s 2ms/step - loss: 0.3915 - sparse_categorical_accuracy: 0.8652\n"
          ]
        },
        {
          "output_type": "execute_result",
          "data": {
            "text/plain": [
              "[0.39145156741142273, 0.8651666641235352]"
            ]
          },
          "metadata": {},
          "execution_count": 116
        }
      ]
    },
    {
      "cell_type": "code",
      "source": [
        "model.evaluate(val_data, val_target)"
      ],
      "metadata": {
        "colab": {
          "base_uri": "https://localhost:8080/"
        },
        "id": "Q4Va2kQqjveG",
        "outputId": "4f8be174-faa4-4e85-a2ac-6f2df6da8c49"
      },
      "execution_count": 117,
      "outputs": [
        {
          "output_type": "stream",
          "name": "stdout",
          "text": [
            "375/375 [==============================] - 1s 2ms/step - loss: 0.3944 - sparse_categorical_accuracy: 0.8663\n"
          ]
        },
        {
          "output_type": "execute_result",
          "data": {
            "text/plain": [
              "[0.39438357949256897, 0.8663333058357239]"
            ]
          },
          "metadata": {},
          "execution_count": 117
        }
      ]
    },
    {
      "cell_type": "markdown",
      "source": [
        "# Optimizers"
      ],
      "metadata": {
        "id": "pkyO323Npngp"
      }
    },
    {
      "cell_type": "markdown",
      "source": [
        "손실(비용, 목적)함수를 최적화하는 알고리즘.\n",
        "\n",
        "* SGD → Momentum → Nesterov\n",
        "* 적응형 학습(adaptive learning rate) : RMSProp, Adam(Adaptive Momentum), Nadam, AdaGrad, ..."
      ],
      "metadata": {
        "id": "PvjrZrGpppqN"
      }
    },
    {
      "cell_type": "code",
      "source": [
        "# Flatten → Hidden layer(100, ELU) → Output layer(10, softmax)\n",
        "def build_model():\n",
        "    model = keras.Sequential()\n",
        "    model.add(keras.layers.Flatten(input_shape=(28, 28)))\n",
        "    model.add(keras.layers.Dense(units=100,\n",
        "                                 activation=keras.activations.elu))\n",
        "    model.add(keras.layers.Dense(units=10,\n",
        "                                 activation=keras.activations.softmax))\n",
        "    \n",
        "    return model"
      ],
      "metadata": {
        "id": "9sghhO8crQzF"
      },
      "execution_count": 118,
      "outputs": []
    },
    {
      "cell_type": "code",
      "source": [
        "tr_data, val_data, tr_target, val_target = train_test_split(X_tr_scaled, y_tr,\n",
        "                                                            test_size=0.2, \n",
        "                                                            random_state=42,\n",
        "                                                            stratify=y_tr)"
      ],
      "metadata": {
        "id": "xSXE6p-btnPO"
      },
      "execution_count": 119,
      "outputs": []
    },
    {
      "cell_type": "code",
      "source": [
        "model = build_model()\n",
        "model.summary()"
      ],
      "metadata": {
        "colab": {
          "base_uri": "https://localhost:8080/"
        },
        "id": "ojqKWrM-ttkh",
        "outputId": "ad4d10fe-a568-4b3a-e0e8-f2951db8be25"
      },
      "execution_count": 120,
      "outputs": [
        {
          "output_type": "stream",
          "name": "stdout",
          "text": [
            "Model: \"sequential_7\"\n",
            "_________________________________________________________________\n",
            " Layer (type)                Output Shape              Param #   \n",
            "=================================================================\n",
            " flatten (Flatten)           (None, 784)               0         \n",
            "                                                                 \n",
            " dense_12 (Dense)            (None, 100)               78500     \n",
            "                                                                 \n",
            " dense_13 (Dense)            (None, 10)                1010      \n",
            "                                                                 \n",
            "=================================================================\n",
            "Total params: 79,510\n",
            "Trainable params: 79,510\n",
            "Non-trainable params: 0\n",
            "_________________________________________________________________\n"
          ]
        }
      ]
    },
    {
      "cell_type": "markdown",
      "source": [
        "## RMSProp"
      ],
      "metadata": {
        "id": "LKiCthYFty0y"
      }
    },
    {
      "cell_type": "code",
      "source": [
        "model.compile(optimizer=keras.optimizers.RMSprop(),\n",
        "              loss=keras.losses.sparse_categorical_crossentropy,\n",
        "              metrics=keras.metrics.sparse_categorical_accuracy)\n",
        "model.fit(tr_data, tr_target, epochs=10)"
      ],
      "metadata": {
        "colab": {
          "base_uri": "https://localhost:8080/"
        },
        "id": "x165RI6utx45",
        "outputId": "103f85aa-ef7d-4be1-b484-b9179dfa9c88"
      },
      "execution_count": 121,
      "outputs": [
        {
          "output_type": "stream",
          "name": "stdout",
          "text": [
            "Epoch 1/10\n",
            "1500/1500 [==============================] - 4s 2ms/step - loss: 0.5265 - sparse_categorical_accuracy: 0.8125\n",
            "Epoch 2/10\n",
            "1500/1500 [==============================] - 3s 2ms/step - loss: 0.3981 - sparse_categorical_accuracy: 0.8564\n",
            "Epoch 3/10\n",
            "1500/1500 [==============================] - 3s 2ms/step - loss: 0.3602 - sparse_categorical_accuracy: 0.8686\n",
            "Epoch 4/10\n",
            "1500/1500 [==============================] - 3s 2ms/step - loss: 0.3369 - sparse_categorical_accuracy: 0.8777\n",
            "Epoch 5/10\n",
            "1500/1500 [==============================] - 3s 2ms/step - loss: 0.3190 - sparse_categorical_accuracy: 0.8836\n",
            "Epoch 6/10\n",
            "1500/1500 [==============================] - 3s 2ms/step - loss: 0.3062 - sparse_categorical_accuracy: 0.8874\n",
            "Epoch 7/10\n",
            "1500/1500 [==============================] - 3s 2ms/step - loss: 0.2941 - sparse_categorical_accuracy: 0.8942\n",
            "Epoch 8/10\n",
            "1500/1500 [==============================] - 3s 2ms/step - loss: 0.2846 - sparse_categorical_accuracy: 0.8967\n",
            "Epoch 9/10\n",
            "1500/1500 [==============================] - 3s 2ms/step - loss: 0.2758 - sparse_categorical_accuracy: 0.8995\n",
            "Epoch 10/10\n",
            "1500/1500 [==============================] - 3s 2ms/step - loss: 0.2687 - sparse_categorical_accuracy: 0.9018\n"
          ]
        },
        {
          "output_type": "execute_result",
          "data": {
            "text/plain": [
              "<keras.callbacks.History at 0x7fd39b7dcfd0>"
            ]
          },
          "metadata": {},
          "execution_count": 121
        }
      ]
    },
    {
      "cell_type": "code",
      "source": [
        "model.evaluate(tr_data, tr_target)"
      ],
      "metadata": {
        "colab": {
          "base_uri": "https://localhost:8080/"
        },
        "id": "kQ8eiHkuv4pw",
        "outputId": "16685a97-8b33-48a6-9beb-12adea14717f"
      },
      "execution_count": 122,
      "outputs": [
        {
          "output_type": "stream",
          "name": "stdout",
          "text": [
            "1500/1500 [==============================] - 3s 2ms/step - loss: 0.2514 - sparse_categorical_accuracy: 0.9090\n"
          ]
        },
        {
          "output_type": "execute_result",
          "data": {
            "text/plain": [
              "[0.25135013461112976, 0.9090208411216736]"
            ]
          },
          "metadata": {},
          "execution_count": 122
        }
      ]
    },
    {
      "cell_type": "code",
      "source": [
        "model.evaluate(val_data, val_target)"
      ],
      "metadata": {
        "colab": {
          "base_uri": "https://localhost:8080/"
        },
        "id": "i3ImWMaKv7N6",
        "outputId": "03a58a3f-a13c-49ff-b0e5-26bb4a6ade3f"
      },
      "execution_count": 123,
      "outputs": [
        {
          "output_type": "stream",
          "name": "stdout",
          "text": [
            "375/375 [==============================] - 1s 2ms/step - loss: 0.3212 - sparse_categorical_accuracy: 0.8877\n"
          ]
        },
        {
          "output_type": "execute_result",
          "data": {
            "text/plain": [
              "[0.32121285796165466, 0.887666642665863]"
            ]
          },
          "metadata": {},
          "execution_count": 123
        }
      ]
    },
    {
      "cell_type": "markdown",
      "source": [
        "## Adam"
      ],
      "metadata": {
        "id": "40fPPB_rvFaJ"
      }
    },
    {
      "cell_type": "code",
      "source": [
        "model = build_model()\n",
        "model.compile(optimizer=keras.optimizers.Adam(),\n",
        "              loss=keras.losses.sparse_categorical_crossentropy,\n",
        "              metrics=keras.metrics.sparse_categorical_accuracy)\n",
        "model.fit(tr_data, tr_target, epochs=10)"
      ],
      "metadata": {
        "colab": {
          "base_uri": "https://localhost:8080/"
        },
        "id": "m9cgmS20vGsp",
        "outputId": "05a87077-c545-428f-db81-1b654be4aacc"
      },
      "execution_count": 124,
      "outputs": [
        {
          "output_type": "stream",
          "name": "stdout",
          "text": [
            "Epoch 1/10\n",
            "1500/1500 [==============================] - 3s 2ms/step - loss: 0.5171 - sparse_categorical_accuracy: 0.8189\n",
            "Epoch 2/10\n",
            "1500/1500 [==============================] - 3s 2ms/step - loss: 0.3962 - sparse_categorical_accuracy: 0.8568\n",
            "Epoch 3/10\n",
            "1500/1500 [==============================] - 3s 2ms/step - loss: 0.3585 - sparse_categorical_accuracy: 0.8688\n",
            "Epoch 4/10\n",
            "1500/1500 [==============================] - 3s 2ms/step - loss: 0.3336 - sparse_categorical_accuracy: 0.8759\n",
            "Epoch 5/10\n",
            "1500/1500 [==============================] - 3s 2ms/step - loss: 0.3126 - sparse_categorical_accuracy: 0.8853\n",
            "Epoch 6/10\n",
            "1500/1500 [==============================] - 3s 2ms/step - loss: 0.2958 - sparse_categorical_accuracy: 0.8906\n",
            "Epoch 7/10\n",
            "1500/1500 [==============================] - 3s 2ms/step - loss: 0.2805 - sparse_categorical_accuracy: 0.8956\n",
            "Epoch 8/10\n",
            "1500/1500 [==============================] - 3s 2ms/step - loss: 0.2693 - sparse_categorical_accuracy: 0.8996\n",
            "Epoch 9/10\n",
            "1500/1500 [==============================] - 3s 2ms/step - loss: 0.2573 - sparse_categorical_accuracy: 0.9042\n",
            "Epoch 10/10\n",
            "1500/1500 [==============================] - 3s 2ms/step - loss: 0.2482 - sparse_categorical_accuracy: 0.9072\n"
          ]
        },
        {
          "output_type": "execute_result",
          "data": {
            "text/plain": [
              "<keras.callbacks.History at 0x7fd3c468cc90>"
            ]
          },
          "metadata": {},
          "execution_count": 124
        }
      ]
    },
    {
      "cell_type": "code",
      "source": [
        "model.evaluate(tr_data, tr_target)"
      ],
      "metadata": {
        "colab": {
          "base_uri": "https://localhost:8080/"
        },
        "id": "g8SyEkGvvxOe",
        "outputId": "a9bbb70f-20f3-4a7a-a6a0-feef66bd3d65"
      },
      "execution_count": 125,
      "outputs": [
        {
          "output_type": "stream",
          "name": "stdout",
          "text": [
            "1500/1500 [==============================] - 3s 2ms/step - loss: 0.2365 - sparse_categorical_accuracy: 0.9105\n"
          ]
        },
        {
          "output_type": "execute_result",
          "data": {
            "text/plain": [
              "[0.23650990426540375, 0.9104583263397217]"
            ]
          },
          "metadata": {},
          "execution_count": 125
        }
      ]
    },
    {
      "cell_type": "code",
      "source": [
        "model.evaluate(val_data, val_target)"
      ],
      "metadata": {
        "colab": {
          "base_uri": "https://localhost:8080/"
        },
        "id": "1bwOPBdQv1Ea",
        "outputId": "09a7f2a3-17d6-4832-ab6c-be8fe20346fa"
      },
      "execution_count": 126,
      "outputs": [
        {
          "output_type": "stream",
          "name": "stdout",
          "text": [
            "375/375 [==============================] - 1s 2ms/step - loss: 0.3160 - sparse_categorical_accuracy: 0.8878\n"
          ]
        },
        {
          "output_type": "execute_result",
          "data": {
            "text/plain": [
              "[0.31595608592033386, 0.8878333568572998]"
            ]
          },
          "metadata": {},
          "execution_count": 126
        }
      ]
    },
    {
      "cell_type": "markdown",
      "source": [
        "## 훈련 epoch 횟수에 따른 평가(손실, 정확도)"
      ],
      "metadata": {
        "id": "1mQKraTxFUgj"
      }
    },
    {
      "cell_type": "code",
      "source": [
        "model = build_model()"
      ],
      "metadata": {
        "id": "OVJh88v_FYb9"
      },
      "execution_count": 127,
      "outputs": []
    },
    {
      "cell_type": "code",
      "source": [
        "model.compile(optimizer=keras.optimizers.RMSprop(),\n",
        "              loss=keras.losses.sparse_categorical_crossentropy,\n",
        "              metrics=keras.metrics.sparse_categorical_accuracy)"
      ],
      "metadata": {
        "id": "QK5yuY4sGo3i"
      },
      "execution_count": 128,
      "outputs": []
    },
    {
      "cell_type": "code",
      "source": [
        "history = model.fit(x=tr_data, y=tr_target, epochs=20,\n",
        "                    validation_data=(val_data, val_target))"
      ],
      "metadata": {
        "colab": {
          "base_uri": "https://localhost:8080/"
        },
        "id": "rDrnRPfAGzIv",
        "outputId": "996ba69b-7f26-4d3c-dbc9-c4e406ab400d"
      },
      "execution_count": 129,
      "outputs": [
        {
          "output_type": "stream",
          "name": "stdout",
          "text": [
            "Epoch 1/20\n",
            "1500/1500 [==============================] - 5s 3ms/step - loss: 0.5262 - sparse_categorical_accuracy: 0.8121 - val_loss: 0.3956 - val_sparse_categorical_accuracy: 0.8616\n",
            "Epoch 2/20\n",
            "1500/1500 [==============================] - 4s 3ms/step - loss: 0.3955 - sparse_categorical_accuracy: 0.8579 - val_loss: 0.3737 - val_sparse_categorical_accuracy: 0.8681\n",
            "Epoch 3/20\n",
            "1500/1500 [==============================] - 4s 3ms/step - loss: 0.3593 - sparse_categorical_accuracy: 0.8700 - val_loss: 0.3454 - val_sparse_categorical_accuracy: 0.8773\n",
            "Epoch 4/20\n",
            "1500/1500 [==============================] - 4s 3ms/step - loss: 0.3379 - sparse_categorical_accuracy: 0.8758 - val_loss: 0.3475 - val_sparse_categorical_accuracy: 0.8781\n",
            "Epoch 5/20\n",
            "1500/1500 [==============================] - 4s 3ms/step - loss: 0.3208 - sparse_categorical_accuracy: 0.8834 - val_loss: 0.3390 - val_sparse_categorical_accuracy: 0.8789\n",
            "Epoch 6/20\n",
            "1500/1500 [==============================] - 4s 3ms/step - loss: 0.3074 - sparse_categorical_accuracy: 0.8878 - val_loss: 0.3431 - val_sparse_categorical_accuracy: 0.8767\n",
            "Epoch 7/20\n",
            "1500/1500 [==============================] - 4s 3ms/step - loss: 0.2975 - sparse_categorical_accuracy: 0.8916 - val_loss: 0.3400 - val_sparse_categorical_accuracy: 0.8808\n",
            "Epoch 8/20\n",
            "1500/1500 [==============================] - 4s 3ms/step - loss: 0.2870 - sparse_categorical_accuracy: 0.8952 - val_loss: 0.3259 - val_sparse_categorical_accuracy: 0.8867\n",
            "Epoch 9/20\n",
            "1500/1500 [==============================] - 4s 3ms/step - loss: 0.2786 - sparse_categorical_accuracy: 0.8989 - val_loss: 0.3331 - val_sparse_categorical_accuracy: 0.8855\n",
            "Epoch 10/20\n",
            "1500/1500 [==============================] - 4s 3ms/step - loss: 0.2726 - sparse_categorical_accuracy: 0.9009 - val_loss: 0.3061 - val_sparse_categorical_accuracy: 0.8946\n",
            "Epoch 11/20\n",
            "1500/1500 [==============================] - 4s 3ms/step - loss: 0.2634 - sparse_categorical_accuracy: 0.9042 - val_loss: 0.3292 - val_sparse_categorical_accuracy: 0.8893\n",
            "Epoch 12/20\n",
            "1500/1500 [==============================] - 5s 3ms/step - loss: 0.2586 - sparse_categorical_accuracy: 0.9054 - val_loss: 0.3425 - val_sparse_categorical_accuracy: 0.8823\n",
            "Epoch 13/20\n",
            "1500/1500 [==============================] - 4s 3ms/step - loss: 0.2520 - sparse_categorical_accuracy: 0.9081 - val_loss: 0.3669 - val_sparse_categorical_accuracy: 0.8797\n",
            "Epoch 14/20\n",
            "1500/1500 [==============================] - 4s 3ms/step - loss: 0.2462 - sparse_categorical_accuracy: 0.9119 - val_loss: 0.3497 - val_sparse_categorical_accuracy: 0.8853\n",
            "Epoch 15/20\n",
            "1500/1500 [==============================] - 4s 3ms/step - loss: 0.2411 - sparse_categorical_accuracy: 0.9131 - val_loss: 0.3330 - val_sparse_categorical_accuracy: 0.8914\n",
            "Epoch 16/20\n",
            "1500/1500 [==============================] - 4s 3ms/step - loss: 0.2363 - sparse_categorical_accuracy: 0.9152 - val_loss: 0.3535 - val_sparse_categorical_accuracy: 0.8866\n",
            "Epoch 17/20\n",
            "1500/1500 [==============================] - 4s 3ms/step - loss: 0.2325 - sparse_categorical_accuracy: 0.9158 - val_loss: 0.3374 - val_sparse_categorical_accuracy: 0.8926\n",
            "Epoch 18/20\n",
            "1500/1500 [==============================] - 4s 3ms/step - loss: 0.2269 - sparse_categorical_accuracy: 0.9190 - val_loss: 0.3266 - val_sparse_categorical_accuracy: 0.8951\n",
            "Epoch 19/20\n",
            "1500/1500 [==============================] - 4s 3ms/step - loss: 0.2216 - sparse_categorical_accuracy: 0.9197 - val_loss: 0.3411 - val_sparse_categorical_accuracy: 0.8897\n",
            "Epoch 20/20\n",
            "1500/1500 [==============================] - 4s 3ms/step - loss: 0.2190 - sparse_categorical_accuracy: 0.9206 - val_loss: 0.3513 - val_sparse_categorical_accuracy: 0.8875\n"
          ]
        }
      ]
    },
    {
      "cell_type": "code",
      "source": [
        "type(history)"
      ],
      "metadata": {
        "colab": {
          "base_uri": "https://localhost:8080/"
        },
        "id": "vVlLz4v8ImME",
        "outputId": "60d7f31e-9d88-423e-cdd5-7d7b8ab94205"
      },
      "execution_count": 130,
      "outputs": [
        {
          "output_type": "execute_result",
          "data": {
            "text/plain": [
              "keras.callbacks.History"
            ]
          },
          "metadata": {},
          "execution_count": 130
        }
      ]
    },
    {
      "cell_type": "code",
      "source": [
        "type(history.history) # history 객체의 history 속성(property)"
      ],
      "metadata": {
        "colab": {
          "base_uri": "https://localhost:8080/"
        },
        "id": "_gArBWBaIn3n",
        "outputId": "7117aee6-9399-4ca0-9058-0bcace106b4e"
      },
      "execution_count": 131,
      "outputs": [
        {
          "output_type": "execute_result",
          "data": {
            "text/plain": [
              "dict"
            ]
          },
          "metadata": {},
          "execution_count": 131
        }
      ]
    },
    {
      "cell_type": "code",
      "source": [
        "history.history.keys()"
      ],
      "metadata": {
        "colab": {
          "base_uri": "https://localhost:8080/"
        },
        "id": "0xjzZh6pIteK",
        "outputId": "a251b063-60af-41a7-c827-9e739f2771f3"
      },
      "execution_count": 132,
      "outputs": [
        {
          "output_type": "execute_result",
          "data": {
            "text/plain": [
              "dict_keys(['loss', 'sparse_categorical_accuracy', 'val_loss', 'val_sparse_categorical_accuracy'])"
            ]
          },
          "metadata": {},
          "execution_count": 132
        }
      ]
    },
    {
      "cell_type": "code",
      "source": [
        "# 신경망 모델이 epoch마다 계산한 훈련 셋에서의 cross entropy\n",
        "train_loss = history.history['loss']\n",
        "# 신경망 모델이 epoch마다 계산한 훈련 셋에서의 정확도\n",
        "train_acc = history.history['sparse_categorical_accuracy']\n",
        "\n",
        "# 훈련 셋의 학습 곡선\n",
        "epochs = np.arange(1, 21)\n",
        "plt.plot(epochs, train_loss, 'ro-', label='Train Loss')\n",
        "plt.plot(epochs, train_acc, 'bo-', label='Train Accuracy')\n",
        "plt.grid()\n",
        "plt.legend()\n",
        "\n",
        "plt.show()"
      ],
      "metadata": {
        "colab": {
          "base_uri": "https://localhost:8080/",
          "height": 265
        },
        "id": "pUqGPCBsIwtS",
        "outputId": "a6f61488-02e0-4484-bc4b-c8c7d2249e57"
      },
      "execution_count": 133,
      "outputs": [
        {
          "output_type": "display_data",
          "data": {
            "text/plain": [
              "<Figure size 432x288 with 1 Axes>"
            ],
            "image/png": "[encoded data removed]"
          },
          "metadata": {
            "needs_background": "light"
          }
        }
      ]
    },
    {
      "cell_type": "code",
      "source": [
        "# 신경망 모델이 epoch마다 계산한 검증 셋에서의 손실\n",
        "val_loss = history.history['val_loss']\n",
        "# 신경망 모델이 epoch마다 계산한 검증 셋에서의 정확도\n",
        "val_acc = history.history['val_sparse_categorical_accuracy']\n",
        "\n",
        "# 검증 셋의 학습 곡선\n",
        "epochs = np.arange(1, 21)\n",
        "plt.plot(epochs, val_loss, 'ro-', label='Validation Loss')\n",
        "plt.plot(epochs, val_acc, 'bo-', label='Validation Accuracy')\n",
        "plt.grid()\n",
        "plt.legend()\n",
        "\n",
        "plt.show()"
      ],
      "metadata": {
        "colab": {
          "base_uri": "https://localhost:8080/",
          "height": 265
        },
        "id": "g1ZhjjcuKr5O",
        "outputId": "62924656-6f96-4c6d-8c1f-99f68716b865"
      },
      "execution_count": 134,
      "outputs": [
        {
          "output_type": "display_data",
          "data": {
            "text/plain": [
              "<Figure size 432x288 with 1 Axes>"
            ],
            "image/png": "[encoded data removed]"
          },
          "metadata": {
            "needs_background": "light"
          }
        }
      ]
    },
    {
      "cell_type": "code",
      "source": [
        "plt.plot(epochs, train_loss, 'ro-', label='Train Loss')\n",
        "plt.plot(epochs, train_acc, 'bo-', label='Train Accuracy')\n",
        "\n",
        "plt.plot(epochs, val_loss, 'yo:', label='Validation Loss')\n",
        "plt.plot(epochs, val_acc, 'go:', label='Validation Accuracy')\n",
        "\n",
        "plt.grid()\n",
        "plt.legend()\n",
        "\n",
        "plt.show()"
      ],
      "metadata": {
        "colab": {
          "base_uri": "https://localhost:8080/",
          "height": 265
        },
        "id": "9mgC7HSaL5-k",
        "outputId": "4785007c-30d0-42fd-fb24-5596c8810406"
      },
      "execution_count": 135,
      "outputs": [
        {
          "output_type": "display_data",
          "data": {
            "text/plain": [
              "<Figure size 432x288 with 1 Axes>"
            ],
            "image/png": "[encoded data removed]"
          },
          "metadata": {
            "needs_background": "light"
          }
        }
      ]
    },
    {
      "cell_type": "markdown",
      "source": [
        "# 규제 : Dropout"
      ],
      "metadata": {
        "id": "9APPnHuYQkbP"
      }
    },
    {
      "cell_type": "code",
      "source": [
        "model = build_model()\n",
        "model.compile(optimizer=keras.optimizers.Adam(),\n",
        "              loss=keras.losses.sparse_categorical_crossentropy,\n",
        "              metrics=keras.metrics.sparse_categorical_accuracy)\n",
        "result_non_dropout = model.fit(tr_data, tr_target, epochs=20,\n",
        "                               validation_data=(val_data, val_target))"
      ],
      "metadata": {
        "colab": {
          "base_uri": "https://localhost:8080/"
        },
        "id": "NWWp1WTqRQtZ",
        "outputId": "2d6a1135-b3ab-4af5-8063-0e589b4f2def"
      },
      "execution_count": 136,
      "outputs": [
        {
          "output_type": "stream",
          "name": "stdout",
          "text": [
            "Epoch 1/20\n",
            "1500/1500 [==============================] - 4s 3ms/step - loss: 0.5132 - sparse_categorical_accuracy: 0.8181 - val_loss: 0.3959 - val_sparse_categorical_accuracy: 0.8566\n",
            "Epoch 2/20\n",
            "1500/1500 [==============================] - 4s 2ms/step - loss: 0.3921 - sparse_categorical_accuracy: 0.8577 - val_loss: 0.3844 - val_sparse_categorical_accuracy: 0.8631\n",
            "Epoch 3/20\n",
            "1500/1500 [==============================] - 4s 3ms/step - loss: 0.3531 - sparse_categorical_accuracy: 0.8708 - val_loss: 0.3665 - val_sparse_categorical_accuracy: 0.8678\n",
            "Epoch 4/20\n",
            "1500/1500 [==============================] - 4s 2ms/step - loss: 0.3281 - sparse_categorical_accuracy: 0.8780 - val_loss: 0.3275 - val_sparse_categorical_accuracy: 0.8799\n",
            "Epoch 5/20\n",
            "1500/1500 [==============================] - 4s 2ms/step - loss: 0.3076 - sparse_categorical_accuracy: 0.8863 - val_loss: 0.3169 - val_sparse_categorical_accuracy: 0.8854\n",
            "Epoch 6/20\n",
            "1500/1500 [==============================] - 4s 2ms/step - loss: 0.2913 - sparse_categorical_accuracy: 0.8914 - val_loss: 0.3187 - val_sparse_categorical_accuracy: 0.8823\n",
            "Epoch 7/20\n",
            "1500/1500 [==============================] - 4s 2ms/step - loss: 0.2788 - sparse_categorical_accuracy: 0.8953 - val_loss: 0.3134 - val_sparse_categorical_accuracy: 0.8913\n",
            "Epoch 8/20\n",
            "1500/1500 [==============================] - 4s 2ms/step - loss: 0.2658 - sparse_categorical_accuracy: 0.9008 - val_loss: 0.3034 - val_sparse_categorical_accuracy: 0.8932\n",
            "Epoch 9/20\n",
            "1500/1500 [==============================] - 4s 2ms/step - loss: 0.2544 - sparse_categorical_accuracy: 0.9046 - val_loss: 0.3040 - val_sparse_categorical_accuracy: 0.8916\n",
            "Epoch 10/20\n",
            "1500/1500 [==============================] - 4s 2ms/step - loss: 0.2463 - sparse_categorical_accuracy: 0.9080 - val_loss: 0.3044 - val_sparse_categorical_accuracy: 0.8924\n",
            "Epoch 11/20\n",
            "1500/1500 [==============================] - 4s 3ms/step - loss: 0.2346 - sparse_categorical_accuracy: 0.9123 - val_loss: 0.3169 - val_sparse_categorical_accuracy: 0.8863\n",
            "Epoch 12/20\n",
            "1500/1500 [==============================] - 4s 2ms/step - loss: 0.2284 - sparse_categorical_accuracy: 0.9143 - val_loss: 0.3240 - val_sparse_categorical_accuracy: 0.8883\n",
            "Epoch 13/20\n",
            "1500/1500 [==============================] - 4s 2ms/step - loss: 0.2202 - sparse_categorical_accuracy: 0.9176 - val_loss: 0.3251 - val_sparse_categorical_accuracy: 0.8867\n",
            "Epoch 14/20\n",
            "1500/1500 [==============================] - 4s 2ms/step - loss: 0.2130 - sparse_categorical_accuracy: 0.9190 - val_loss: 0.3022 - val_sparse_categorical_accuracy: 0.8944\n",
            "Epoch 15/20\n",
            "1500/1500 [==============================] - 4s 2ms/step - loss: 0.2066 - sparse_categorical_accuracy: 0.9221 - val_loss: 0.3102 - val_sparse_categorical_accuracy: 0.8944\n",
            "Epoch 16/20\n",
            "1500/1500 [==============================] - 4s 2ms/step - loss: 0.1995 - sparse_categorical_accuracy: 0.9246 - val_loss: 0.3095 - val_sparse_categorical_accuracy: 0.8931\n",
            "Epoch 17/20\n",
            "1500/1500 [==============================] - 4s 2ms/step - loss: 0.1964 - sparse_categorical_accuracy: 0.9254 - val_loss: 0.3221 - val_sparse_categorical_accuracy: 0.8915\n",
            "Epoch 18/20\n",
            "1500/1500 [==============================] - 4s 2ms/step - loss: 0.1887 - sparse_categorical_accuracy: 0.9289 - val_loss: 0.3097 - val_sparse_categorical_accuracy: 0.8968\n",
            "Epoch 19/20\n",
            "1500/1500 [==============================] - 4s 3ms/step - loss: 0.1852 - sparse_categorical_accuracy: 0.9302 - val_loss: 0.3233 - val_sparse_categorical_accuracy: 0.8914\n",
            "Epoch 20/20\n",
            "1500/1500 [==============================] - 4s 2ms/step - loss: 0.1792 - sparse_categorical_accuracy: 0.9329 - val_loss: 0.3304 - val_sparse_categorical_accuracy: 0.8920\n"
          ]
        }
      ]
    },
    {
      "cell_type": "code",
      "source": [
        "# epoch 변화에 따른 정확도 곡선\n",
        "train_acc = result_non_dropout.history['sparse_categorical_accuracy']\n",
        "val_acc = result_non_dropout.history['val_sparse_categorical_accuracy']\n",
        "\n",
        "plt.plot(epochs, train_acc, 'bo-', label='Train acc.')\n",
        "plt.plot(epochs, val_acc, 'rv-', label='Validation acc.')\n",
        "plt.legend()\n",
        "plt.grid()\n",
        "plt.show()"
      ],
      "metadata": {
        "colab": {
          "base_uri": "https://localhost:8080/",
          "height": 265
        },
        "id": "Z7Ku3tYxS0HE",
        "outputId": "98da2d8b-cd3f-4bc9-9db0-a2c3bbe17284"
      },
      "execution_count": 137,
      "outputs": [
        {
          "output_type": "display_data",
          "data": {
            "text/plain": [
              "<Figure size 432x288 with 1 Axes>"
            ],
            "image/png": "[encoded data removed]"
          },
          "metadata": {
            "needs_background": "light"
          }
        }
      ]
    },
    {
      "cell_type": "code",
      "source": [
        "def build_dropout_model():\n",
        "    model = keras.Sequential()\n",
        "    # flatten layer\n",
        "    model.add(keras.layers.Flatten(input_shape=(28, 28)))\n",
        "    # hidden layer\n",
        "    model.add(keras.layers.Dense(units=100,\n",
        "                                 activation=keras.activations.elu))\n",
        "    # drop out layer\n",
        "    model.add(keras.layers.Dropout(rate=0.3))\n",
        "    # output layer\n",
        "    model.add(keras.layers.Dense(units=10,\n",
        "                                 activation=keras.activations.softmax))\n",
        "    \n",
        "    return model"
      ],
      "metadata": {
        "id": "9QhpEXsnU89Y"
      },
      "execution_count": 138,
      "outputs": []
    },
    {
      "cell_type": "code",
      "source": [
        "model = build_dropout_model()\n",
        "model.summary()"
      ],
      "metadata": {
        "colab": {
          "base_uri": "https://localhost:8080/"
        },
        "id": "7mUNNif2V7M-",
        "outputId": "52a8e8cd-eb71-4a15-9d33-f424d4bd432b"
      },
      "execution_count": 139,
      "outputs": [
        {
          "output_type": "stream",
          "name": "stdout",
          "text": [
            "Model: \"sequential_11\"\n",
            "_________________________________________________________________\n",
            " Layer (type)                Output Shape              Param #   \n",
            "=================================================================\n",
            " flatten_4 (Flatten)         (None, 784)               0         \n",
            "                                                                 \n",
            " dense_20 (Dense)            (None, 100)               78500     \n",
            "                                                                 \n",
            " dropout (Dropout)           (None, 100)               0         \n",
            "                                                                 \n",
            " dense_21 (Dense)            (None, 10)                1010      \n",
            "                                                                 \n",
            "=================================================================\n",
            "Total params: 79,510\n",
            "Trainable params: 79,510\n",
            "Non-trainable params: 0\n",
            "_________________________________________________________________\n"
          ]
        }
      ]
    },
    {
      "cell_type": "code",
      "source": [
        "model.compile(optimizer=keras.optimizers.Adam(),\n",
        "              loss=keras.losses.sparse_categorical_crossentropy,\n",
        "              metrics=keras.metrics.sparse_categorical_accuracy)"
      ],
      "metadata": {
        "id": "wTj8pXhgW5Rd"
      },
      "execution_count": 140,
      "outputs": []
    },
    {
      "cell_type": "code",
      "source": [
        "result_dropout = model.fit(tr_data, tr_target, epochs=20,\n",
        "                           validation_data=(val_data, val_target))"
      ],
      "metadata": {
        "colab": {
          "base_uri": "https://localhost:8080/"
        },
        "id": "FF_8ldnyW5MH",
        "outputId": "35d9f939-c4a8-44b9-e3f9-f2f69a071b27"
      },
      "execution_count": 141,
      "outputs": [
        {
          "output_type": "stream",
          "name": "stdout",
          "text": [
            "Epoch 1/20\n",
            "1500/1500 [==============================] - 4s 3ms/step - loss: 0.5738 - sparse_categorical_accuracy: 0.7976 - val_loss: 0.4255 - val_sparse_categorical_accuracy: 0.8460\n",
            "Epoch 2/20\n",
            "1500/1500 [==============================] - 4s 2ms/step - loss: 0.4525 - sparse_categorical_accuracy: 0.8356 - val_loss: 0.4022 - val_sparse_categorical_accuracy: 0.8521\n",
            "Epoch 3/20\n",
            "1500/1500 [==============================] - 4s 2ms/step - loss: 0.4184 - sparse_categorical_accuracy: 0.8461 - val_loss: 0.3803 - val_sparse_categorical_accuracy: 0.8623\n",
            "Epoch 4/20\n",
            "1500/1500 [==============================] - 4s 3ms/step - loss: 0.3973 - sparse_categorical_accuracy: 0.8545 - val_loss: 0.3604 - val_sparse_categorical_accuracy: 0.8717\n",
            "Epoch 5/20\n",
            "1500/1500 [==============================] - 4s 2ms/step - loss: 0.3833 - sparse_categorical_accuracy: 0.8593 - val_loss: 0.3498 - val_sparse_categorical_accuracy: 0.8723\n",
            "Epoch 6/20\n",
            "1500/1500 [==============================] - 4s 3ms/step - loss: 0.3674 - sparse_categorical_accuracy: 0.8644 - val_loss: 0.3338 - val_sparse_categorical_accuracy: 0.8772\n",
            "Epoch 7/20\n",
            "1500/1500 [==============================] - 5s 3ms/step - loss: 0.3555 - sparse_categorical_accuracy: 0.8689 - val_loss: 0.3265 - val_sparse_categorical_accuracy: 0.8834\n",
            "Epoch 8/20\n",
            "1500/1500 [==============================] - 4s 3ms/step - loss: 0.3465 - sparse_categorical_accuracy: 0.8712 - val_loss: 0.3587 - val_sparse_categorical_accuracy: 0.8678\n",
            "Epoch 9/20\n",
            "1500/1500 [==============================] - 4s 2ms/step - loss: 0.3408 - sparse_categorical_accuracy: 0.8742 - val_loss: 0.3286 - val_sparse_categorical_accuracy: 0.8803\n",
            "Epoch 10/20\n",
            "1500/1500 [==============================] - 4s 2ms/step - loss: 0.3304 - sparse_categorical_accuracy: 0.8773 - val_loss: 0.3303 - val_sparse_categorical_accuracy: 0.8785\n",
            "Epoch 11/20\n",
            "1500/1500 [==============================] - 4s 3ms/step - loss: 0.3281 - sparse_categorical_accuracy: 0.8785 - val_loss: 0.3261 - val_sparse_categorical_accuracy: 0.8836\n",
            "Epoch 12/20\n",
            "1500/1500 [==============================] - 4s 2ms/step - loss: 0.3222 - sparse_categorical_accuracy: 0.8802 - val_loss: 0.3209 - val_sparse_categorical_accuracy: 0.8831\n",
            "Epoch 13/20\n",
            "1500/1500 [==============================] - 4s 2ms/step - loss: 0.3111 - sparse_categorical_accuracy: 0.8834 - val_loss: 0.3104 - val_sparse_categorical_accuracy: 0.8885\n",
            "Epoch 14/20\n",
            "1500/1500 [==============================] - 4s 2ms/step - loss: 0.3102 - sparse_categorical_accuracy: 0.8842 - val_loss: 0.3107 - val_sparse_categorical_accuracy: 0.8900\n",
            "Epoch 15/20\n",
            "1500/1500 [==============================] - 4s 3ms/step - loss: 0.3076 - sparse_categorical_accuracy: 0.8851 - val_loss: 0.3061 - val_sparse_categorical_accuracy: 0.8886\n",
            "Epoch 16/20\n",
            "1500/1500 [==============================] - 4s 3ms/step - loss: 0.3002 - sparse_categorical_accuracy: 0.8863 - val_loss: 0.3099 - val_sparse_categorical_accuracy: 0.8888\n",
            "Epoch 17/20\n",
            "1500/1500 [==============================] - 4s 3ms/step - loss: 0.2970 - sparse_categorical_accuracy: 0.8883 - val_loss: 0.3188 - val_sparse_categorical_accuracy: 0.8852\n",
            "Epoch 18/20\n",
            "1500/1500 [==============================] - 4s 2ms/step - loss: 0.2926 - sparse_categorical_accuracy: 0.8905 - val_loss: 0.3064 - val_sparse_categorical_accuracy: 0.8891\n",
            "Epoch 19/20\n",
            "1500/1500 [==============================] - 4s 3ms/step - loss: 0.2883 - sparse_categorical_accuracy: 0.8917 - val_loss: 0.3036 - val_sparse_categorical_accuracy: 0.8932\n",
            "Epoch 20/20\n",
            "1500/1500 [==============================] - 4s 3ms/step - loss: 0.2848 - sparse_categorical_accuracy: 0.8931 - val_loss: 0.3037 - val_sparse_categorical_accuracy: 0.8942\n"
          ]
        }
      ]
    },
    {
      "cell_type": "code",
      "source": [
        "train_acc = result_dropout.history['sparse_categorical_accuracy']\n",
        "val_acc = result_dropout.history['val_sparse_categorical_accuracy']\n",
        "\n",
        "plt.plot(epochs, train_acc, 'bo-', label='Train Acc.')\n",
        "plt.plot(epochs, val_acc, 'ro-', label='Validation Acc.')\n",
        "\n",
        "plt.grid()\n",
        "plt.legend()\n",
        "plt.show()"
      ],
      "metadata": {
        "colab": {
          "base_uri": "https://localhost:8080/",
          "height": 265
        },
        "id": "gvpwWgw7X03s",
        "outputId": "f77b0d98-38b1-4563-93f3-981366a7cd9e"
      },
      "execution_count": 142,
      "outputs": [
        {
          "output_type": "display_data",
          "data": {
            "text/plain": [
              "<Figure size 432x288 with 1 Axes>"
            ],
            "image/png": "[encoded data removed]"
          },
          "metadata": {
            "needs_background": "light"
          }
        }
      ]
    },
    {
      "cell_type": "markdown",
      "source": [
        "# 훈련된 모델 저장과 복원"
      ],
      "metadata": {
        "id": "F4OLOu4eZbW8"
      }
    },
    {
      "cell_type": "markdown",
      "source": [
        "Google 세션에 저장하면, 세션이 만료됐을 때 저장된 파일은 삭제됨.\n",
        "\n",
        "Google Drive를 마운트해서 저장하는 게 더 좋음."
      ],
      "metadata": {
        "id": "EOrKCFCcaQ34"
      }
    },
    {
      "cell_type": "code",
      "source": [
        "# 훈련된 모델의 파라미터들만 저장\n",
        "model.save_weights('dropout_model_weights.h5')"
      ],
      "metadata": {
        "id": "Ag7Yyhk1Y7DA"
      },
      "execution_count": 143,
      "outputs": []
    },
    {
      "cell_type": "code",
      "source": [
        "# 훈련된 모델을 저장\n",
        "model.save('dropout_model.h5')"
      ],
      "metadata": {
        "id": "NGg4Zo9ibPYc"
      },
      "execution_count": 144,
      "outputs": []
    },
    {
      "cell_type": "markdown",
      "source": [
        "파라미터만 저장된 파일에서 모델을 복원하려면, 저장 당시의 모델과 동일한 모델을 먼저 생성한 후 파라미터를 load하면 됨."
      ],
      "metadata": {
        "id": "pvhD8-bQgARI"
      }
    },
    {
      "cell_type": "code",
      "source": [
        "model2 = build_dropout_model() # 저장된 파라미터와 동일한 모델 생성\n",
        "model2.load_weights('dropout_model_weights.h5') # 생성된 모델에서 파라미터들을 로드"
      ],
      "metadata": {
        "id": "NCNxKwmbgQFH"
      },
      "execution_count": 145,
      "outputs": []
    },
    {
      "cell_type": "markdown",
      "source": [
        "파라미터들만 로드한 경우에는 optimizer, loss, metrics 등이 compile되지 않은 상태이므로 evaluate를 호출할 수 없음."
      ],
      "metadata": {
        "id": "n3wGh2DXg5IV"
      }
    },
    {
      "cell_type": "code",
      "source": [
        "pred_prob = model2.predict(val_data)        # 각 레이블이 될 확률\n",
        "pred_label = np.argmax(pred_prob, axis=1)   # 예측값\n",
        "pred_acc = np.mean(val_target == pred_label)# 정확도\n",
        "pred_acc"
      ],
      "metadata": {
        "colab": {
          "base_uri": "https://localhost:8080/"
        },
        "id": "ALGt8jN5gxnO",
        "outputId": "5d297abc-eb5f-454e-aa20-039806efeddb"
      },
      "execution_count": 146,
      "outputs": [
        {
          "output_type": "execute_result",
          "data": {
            "text/plain": [
              "0.89425"
            ]
          },
          "metadata": {},
          "execution_count": 146
        }
      ]
    },
    {
      "cell_type": "markdown",
      "source": [
        "저장된 모델을 로드하는 경우 :"
      ],
      "metadata": {
        "id": "BxVr90j0irIG"
      }
    },
    {
      "cell_type": "code",
      "source": [
        "model3 = keras.models.load_model('dropout_model.h5')"
      ],
      "metadata": {
        "id": "1qI53JPRityP"
      },
      "execution_count": 147,
      "outputs": []
    },
    {
      "cell_type": "code",
      "source": [
        "model3.evaluate(val_data, val_target) # model load → evaluate OK."
      ],
      "metadata": {
        "colab": {
          "base_uri": "https://localhost:8080/"
        },
        "id": "JyUpm0yei11r",
        "outputId": "b8a9b809-8196-438b-9213-d8af1a92dae1"
      },
      "execution_count": 148,
      "outputs": [
        {
          "output_type": "stream",
          "name": "stdout",
          "text": [
            "375/375 [==============================] - 1s 2ms/step - loss: 0.3037 - sparse_categorical_accuracy: 0.8942\n"
          ]
        },
        {
          "output_type": "execute_result",
          "data": {
            "text/plain": [
              "[0.3037395775318146, 0.8942499756813049]"
            ]
          },
          "metadata": {},
          "execution_count": 148
        }
      ]
    },
    {
      "cell_type": "markdown",
      "source": [
        "# Early Stopping(조기 종료) Callback"
      ],
      "metadata": {
        "id": "rLA25eKdjYIA"
      }
    },
    {
      "cell_type": "code",
      "source": [
        "model = build_dropout_model()\n",
        "model.compile(optimizer=keras.optimizers.Adam(),\n",
        "              loss=keras.losses.sparse_categorical_crossentropy,\n",
        "              metrics=keras.metrics.sparse_categorical_accuracy)\n",
        "checkpoint_cb = keras.callbacks.ModelCheckpoint('best_model.h5')\n",
        "early_stop_cb = keras.callbacks.EarlyStopping(patience=3, restore_best_weights=True)\n",
        "result = model.fit(x=tr_data, y=tr_target, epochs=100,\n",
        "                   callbacks=[checkpoint_cb, early_stop_cb],\n",
        "                   validation_data=(val_data, val_target))"
      ],
      "metadata": {
        "colab": {
          "base_uri": "https://localhost:8080/"
        },
        "id": "_J_PEPJejbJt",
        "outputId": "6de471ec-eefb-46b8-bd67-6d3f8efbebb8"
      },
      "execution_count": 149,
      "outputs": [
        {
          "output_type": "stream",
          "name": "stdout",
          "text": [
            "Epoch 1/100\n",
            "1500/1500 [==============================] - 4s 3ms/step - loss: 0.5781 - sparse_categorical_accuracy: 0.7957 - val_loss: 0.4148 - val_sparse_categorical_accuracy: 0.8547\n",
            "Epoch 2/100\n",
            "1500/1500 [==============================] - 4s 2ms/step - loss: 0.4485 - sparse_categorical_accuracy: 0.8403 - val_loss: 0.3842 - val_sparse_categorical_accuracy: 0.8611\n",
            "Epoch 3/100\n",
            "1500/1500 [==============================] - 4s 2ms/step - loss: 0.4152 - sparse_categorical_accuracy: 0.8505 - val_loss: 0.3602 - val_sparse_categorical_accuracy: 0.8684\n",
            "Epoch 4/100\n",
            "1500/1500 [==============================] - 4s 3ms/step - loss: 0.3936 - sparse_categorical_accuracy: 0.8556 - val_loss: 0.3576 - val_sparse_categorical_accuracy: 0.8708\n",
            "Epoch 5/100\n",
            "1500/1500 [==============================] - 4s 2ms/step - loss: 0.3748 - sparse_categorical_accuracy: 0.8623 - val_loss: 0.3451 - val_sparse_categorical_accuracy: 0.8740\n",
            "Epoch 6/100\n",
            "1500/1500 [==============================] - 4s 3ms/step - loss: 0.3644 - sparse_categorical_accuracy: 0.8666 - val_loss: 0.3524 - val_sparse_categorical_accuracy: 0.8712\n",
            "Epoch 7/100\n",
            "1500/1500 [==============================] - 4s 2ms/step - loss: 0.3554 - sparse_categorical_accuracy: 0.8684 - val_loss: 0.3225 - val_sparse_categorical_accuracy: 0.8854\n",
            "Epoch 8/100\n",
            "1500/1500 [==============================] - 4s 2ms/step - loss: 0.3448 - sparse_categorical_accuracy: 0.8725 - val_loss: 0.3384 - val_sparse_categorical_accuracy: 0.8783\n",
            "Epoch 9/100\n",
            "1500/1500 [==============================] - 4s 3ms/step - loss: 0.3404 - sparse_categorical_accuracy: 0.8733 - val_loss: 0.3221 - val_sparse_categorical_accuracy: 0.8838\n",
            "Epoch 10/100\n",
            "1500/1500 [==============================] - 4s 2ms/step - loss: 0.3315 - sparse_categorical_accuracy: 0.8787 - val_loss: 0.3472 - val_sparse_categorical_accuracy: 0.8757\n",
            "Epoch 11/100\n",
            "1500/1500 [==============================] - 4s 2ms/step - loss: 0.3279 - sparse_categorical_accuracy: 0.8795 - val_loss: 0.3207 - val_sparse_categorical_accuracy: 0.8872\n",
            "Epoch 12/100\n",
            "1500/1500 [==============================] - 4s 3ms/step - loss: 0.3178 - sparse_categorical_accuracy: 0.8824 - val_loss: 0.3140 - val_sparse_categorical_accuracy: 0.8864\n",
            "Epoch 13/100\n",
            "1500/1500 [==============================] - 4s 2ms/step - loss: 0.3146 - sparse_categorical_accuracy: 0.8817 - val_loss: 0.3077 - val_sparse_categorical_accuracy: 0.8917\n",
            "Epoch 14/100\n",
            "1500/1500 [==============================] - 4s 3ms/step - loss: 0.3086 - sparse_categorical_accuracy: 0.8848 - val_loss: 0.3081 - val_sparse_categorical_accuracy: 0.8875\n",
            "Epoch 15/100\n",
            "1500/1500 [==============================] - 4s 3ms/step - loss: 0.3023 - sparse_categorical_accuracy: 0.8875 - val_loss: 0.3091 - val_sparse_categorical_accuracy: 0.8883\n",
            "Epoch 16/100\n",
            "1500/1500 [==============================] - 4s 2ms/step - loss: 0.3018 - sparse_categorical_accuracy: 0.8864 - val_loss: 0.3147 - val_sparse_categorical_accuracy: 0.8865\n"
          ]
        }
      ]
    },
    {
      "cell_type": "code",
      "source": [
        "early_stop_cb.stopped_epoch"
      ],
      "metadata": {
        "colab": {
          "base_uri": "https://localhost:8080/"
        },
        "id": "AHGNvOFQrl98",
        "outputId": "a0e9710d-ce32-49d5-a465-85417d03522e"
      },
      "execution_count": 150,
      "outputs": [
        {
          "output_type": "execute_result",
          "data": {
            "text/plain": [
              "15"
            ]
          },
          "metadata": {},
          "execution_count": 150
        }
      ]
    },
    {
      "cell_type": "code",
      "source": [
        "train_loss = result.history['loss']\n",
        "val_loss = result.history['val_loss']"
      ],
      "metadata": {
        "id": "bMx1HH1vq1Bk"
      },
      "execution_count": 151,
      "outputs": []
    },
    {
      "cell_type": "code",
      "source": [
        "plt.plot(train_loss, 'bo-', label='Train Loss')\n",
        "plt.plot(val_loss, 'ro-', label='Validation Loss')\n",
        "plt.grid()\n",
        "plt.xlabel('epoch')\n",
        "plt.ylabel('loss')\n",
        "plt.legend()\n",
        "plt.show()"
      ],
      "metadata": {
        "colab": {
          "base_uri": "https://localhost:8080/",
          "height": 279
        },
        "id": "6RgqXONnqcrs",
        "outputId": "1a747a11-d2af-4eb1-ef71-d311c7362885"
      },
      "execution_count": 152,
      "outputs": [
        {
          "output_type": "display_data",
          "data": {
            "text/plain": [
              "<Figure size 432x288 with 1 Axes>"
            ],
            "image/png": "[encoded data removed]"
          },
          "metadata": {
            "needs_background": "light"
          }
        }
      ]
    }
  ]
}