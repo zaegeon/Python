{
  "nbformat": 4,
  "nbformat_minor": 0,
  "metadata": {
    "colab": {
      "name": "20220624_ML12_ensemble.ipynb",
      "provenance": [],
      "collapsed_sections": [],
      "toc_visible": true,
      "authorship_tag": "ABX9TyNaIGgeApZsaRI2y/47rToe",
      "include_colab_link": true
    },
    "kernelspec": {
      "name": "python3",
      "display_name": "Python 3"
    },
    "language_info": {
      "name": "python"
    }
  },
  "cells": [
    {
      "cell_type": "markdown",
      "metadata": {
        "id": "view-in-github",
        "colab_type": "text"
      },
      "source": [
        "<a href=\"https://colab.research.google.com/github/zaegeon/Python/blob/main/ML/20220624_ML12_ensemble.ipynb\" target=\"_parent\"><img src=\"https://colab.research.google.com/assets/colab-badge.svg\" alt=\"Open In Colab\"/></a>"
      ]
    },
    {
      "cell_type": "markdown",
      "source": [
        "# Ensemble Learning(앙상블 학습 방법)"
      ],
      "metadata": {
        "id": "os1pA3Uy_0P4"
      }
    },
    {
      "cell_type": "markdown",
      "source": [
        "* 앙상블(Ensemble) : 머신 러닝에서 사용되는 일련 모델(알고리즘)들.\n",
        "    * 서로 다른 모델 여러 개를 학습시키는 방법.\n",
        "    * 한 가지 모델을 서로 다른 훈련 셋에서 학습시키는 방법.\n",
        "* 앙상블 학습 방법 : 앙상블을 사용한 머신 러닝 방법.\n",
        "    * 투표(voting) 방식 : 여러 개의 모델을 학습시켜서 각각의 예측값을 투표(다수결, 최빈값) 또는 평균값으로 예측하는 방법.\n",
        "    * __Bagging(Bootstrap Aggregating)__ : **중복을 허용**해서 샘플링한 훈련 셋의 부분집합들을 하나의 알고리즘에 학습시켜서 예측(최빈값, 평균)하는 학습 방법.\n",
        "    * Pasting : 중복을 허용하지 않고 샘플링한 훈련 셋의 부분집합들을 알고리즘에 학습시켜서 예측하는 방법.\n",
        "    * __Boosting__ : 약한 학습기를 순차적으로 연결해서 강한 학습기를 만드는 ensemble 학습 방법.\n",
        "        * AdaBoost(Adactive Boosting) : 과소적합됐던 훈련 샘플들의 가중치를 높여서 다음 훈련에 순차적으로 사용하는 boosting 방법.\n",
        "        * Gradient Boost : 잔여 오차(residual errors)들을 다음 훈련에서 학습시켜서 강한 학습기를 만드는 boosting 방법.\n",
        "* __Random Forest__ : Bagging을 사용한 Decision Tree들의 ensemble 학습 방법."
      ],
      "metadata": {
        "id": "gWePRY-L_3D5"
      }
    },
    {
      "cell_type": "markdown",
      "source": [
        "# Imports"
      ],
      "metadata": {
        "id": "BE8-NwY-C7a7"
      }
    },
    {
      "cell_type": "code",
      "execution_count": null,
      "metadata": {
        "id": "C2zYb8_U_vNk"
      },
      "outputs": [],
      "source": [
        "import numpy as np\n",
        "import pandas as pd\n",
        "import matplotlib.pyplot as plt\n",
        "import scipy\n",
        "\n",
        "from sklearn import datasets\n",
        "from sklearn.model_selection import train_test_split, cross_validate, cross_val_score\n",
        "from sklearn.neighbors import KNeighborsClassifier\n",
        "from sklearn.tree import DecisionTreeClassifier\n",
        "from sklearn.linear_model import LogisticRegression, SGDClassifier\n",
        "from sklearn.svm import SVC # SVM(Support Vector Machine) 알고리즘을 사용한 분류기\n",
        "from sklearn.ensemble import VotingClassifier, BaggingClassifier, RandomForestClassifier"
      ]
    },
    {
      "cell_type": "markdown",
      "source": [
        "# Dataset 준비"
      ],
      "metadata": {
        "id": "y7fx1sINEXQh"
      }
    },
    {
      "cell_type": "markdown",
      "source": [
        "2개의 특성(x1, x2)과 2개의 클래스(0, 1)를 갖는 가상의 데이터 셋을 생성."
      ],
      "metadata": {
        "id": "fgik3OyAEaOt"
      }
    },
    {
      "cell_type": "code",
      "source": [
        "# X : 특성 배열(Features) / y : 타겟 배열(Target)\n",
        "X, y = datasets.make_moons(n_samples=500, noise=0.3, random_state=42)"
      ],
      "metadata": {
        "id": "knbNNUJ2EUyU"
      },
      "execution_count": null,
      "outputs": []
    },
    {
      "cell_type": "code",
      "source": [
        "X.shape, y.shape"
      ],
      "metadata": {
        "colab": {
          "base_uri": "https://localhost:8080/"
        },
        "id": "KZpOKDnYFvDd",
        "outputId": "5ae35949-01f2-425d-c771-89053126bdc5"
      },
      "execution_count": null,
      "outputs": [
        {
          "output_type": "execute_result",
          "data": {
            "text/plain": [
              "((500, 2), (500,))"
            ]
          },
          "metadata": {},
          "execution_count": 461
        }
      ]
    },
    {
      "cell_type": "code",
      "source": [
        "np.unique(y, return_counts=True)"
      ],
      "metadata": {
        "colab": {
          "base_uri": "https://localhost:8080/"
        },
        "id": "lHCYWFSsF-e3",
        "outputId": "c74c5291-ecf0-4c70-a551-bdcec60f9c4c"
      },
      "execution_count": null,
      "outputs": [
        {
          "output_type": "execute_result",
          "data": {
            "text/plain": [
              "(array([0, 1]), array([250, 250]))"
            ]
          },
          "metadata": {},
          "execution_count": 462
        }
      ]
    },
    {
      "cell_type": "code",
      "source": [
        "# X, y를 시각화\n",
        "plt.scatter(X[y==0, 0], X[y==0, 1], label='class-0', alpha=0.5)\n",
        "plt.scatter(X[y==1, 0], X[y==1, 1], label='class-1', alpha=0.5)\n",
        "\n",
        "plt.legend()\n",
        "plt.grid()\n",
        "plt.xlabel('x1')\n",
        "plt.ylabel('y1')\n",
        "plt.show()"
      ],
      "metadata": {
        "colab": {
          "base_uri": "https://localhost:8080/",
          "height": 279
        },
        "id": "Oly85vCwGCas",
        "outputId": "db471abe-9773-4727-a19b-6a00011c5520"
      },
      "execution_count": null,
      "outputs": [
        {
          "output_type": "display_data",
          "data": {
            "text/plain": [
              "<Figure size 432x288 with 1 Axes>"
            ],
            "image/png": "[encoded data removed]"
          },
          "metadata": {
            "needs_background": "light"
          }
        }
      ]
    },
    {
      "cell_type": "code",
      "source": [
        "# train/test split\n",
        "X_tr, X_te, y_tr, y_te = train_test_split(X, y, test_size=0.2, random_state=42, stratify=y)"
      ],
      "metadata": {
        "id": "9Q9e_RbpHzqu"
      },
      "execution_count": null,
      "outputs": []
    },
    {
      "cell_type": "code",
      "source": [
        "X_tr.shape, X_te.shape, y_tr.shape, y_te.shape"
      ],
      "metadata": {
        "colab": {
          "base_uri": "https://localhost:8080/"
        },
        "id": "H4OoqO_9IDrK",
        "outputId": "c66551e4-cd15-4358-e366-185e87bed6d2"
      },
      "execution_count": null,
      "outputs": [
        {
          "output_type": "execute_result",
          "data": {
            "text/plain": [
              "((400, 2), (100, 2), (400,), (100,))"
            ]
          },
          "metadata": {},
          "execution_count": 465
        }
      ]
    },
    {
      "cell_type": "markdown",
      "source": [
        "# 머신 러닝 모델의 성능 비교"
      ],
      "metadata": {
        "id": "CJW5fEf8IIN3"
      }
    },
    {
      "cell_type": "markdown",
      "source": [
        "* 5개의 머신 러닝 모델 생성\n",
        "    * KNN, Decision Tree, Logistic Regression, SGD, SVM\n",
        "        * SGDClassifier의 파라미터 중에서 `loss='log'`를 사용.\n",
        "        * SVC의 파라미터 중에서 `probability=True`를 사용.\n",
        "* 5개의 모델을 훈련 셋으로 학습\n",
        "* 5개 모델의 점수(정확도)를 훈련 셋 / 테스트 셋에서 계산 후 비교"
      ],
      "metadata": {
        "id": "9n_i9vpKIMVD"
      }
    },
    {
      "cell_type": "code",
      "source": [
        "knn = KNeighborsClassifier(n_jobs=-1)\n",
        "tree = DecisionTreeClassifier(random_state=42)\n",
        "logistic = LogisticRegression(random_state=42, n_jobs=-1)\n",
        "SGD = SGDClassifier(loss='log', random_state=42, n_jobs=-1)\n",
        "#> loss='log' : 각 클래스가 될 확률을 계산해서 예측하기 위함.\n",
        "SVM = SVC(probability=True, random_state=42)\n",
        "#> probability=True : 각 클래스가 될 확률을 계산해서 예측하기 위함."
      ],
      "metadata": {
        "id": "KGXacW7FILlZ"
      },
      "execution_count": null,
      "outputs": []
    },
    {
      "cell_type": "code",
      "source": [
        "classifiers = [knn, tree, logistic, SGD, SVM] # 반복문에서 사용하기 위한 리스트 생성\n",
        "for c in classifiers:\n",
        "    c.fit(X_tr, y_tr)              # 분류기를 훈련 데이터에 학습시킴\n",
        "    tr_score = c.score(X_tr, y_tr) # 훈련 셋 정확도\n",
        "    te_score = c.score(X_te, y_te) # 테스트 셋 정확도\n",
        "    print(f'{c.__class__.__name__} - train acc : {tr_score}, test acc : {te_score}')"
      ],
      "metadata": {
        "colab": {
          "base_uri": "https://localhost:8080/"
        },
        "id": "fmwd3zy8ORrs",
        "outputId": "b104e6e6-2783-412c-8bbe-f9e255d9d68a"
      },
      "execution_count": null,
      "outputs": [
        {
          "output_type": "stream",
          "name": "stdout",
          "text": [
            "KNeighborsClassifier - train acc : 0.93, test acc : 0.93\n",
            "DecisionTreeClassifier - train acc : 1.0, test acc : 0.84\n",
            "LogisticRegression - train acc : 0.8475, test acc : 0.81\n",
            "SGDClassifier - train acc : 0.8425, test acc : 0.81\n",
            "SVC - train acc : 0.9275, test acc : 0.93\n"
          ]
        }
      ]
    },
    {
      "cell_type": "markdown",
      "source": [
        "# Voting Ensemble"
      ],
      "metadata": {
        "id": "xPGIIwE_Rqxs"
      }
    },
    {
      "cell_type": "code",
      "source": [
        "vote_clf = VotingClassifier(estimators=[('knn', knn),\n",
        "                                        ('tree', tree),\n",
        "                                        ('logistic', logistic),\n",
        "                                        ('sgd', SGD),\n",
        "                                        ('svm', SVM)],\n",
        "                            voting='soft',\n",
        "                            n_jobs=-1)\n",
        "#> estimators : VotingEnsemble을 만들기 위한 ML 모델 ('모델 이름', 모델 객체) tuple들의 리스트.\n",
        "#> voting : 투표 방식\n",
        "#>>> voting='hard' : 기본값. 앙상블의 각 모델들이 동일하게 1표씩 행사. 예측 확률이 필요 없음!\n",
        "#>>> voting='soft' : 앙상블의 각 모델의 예측값에 예측 확률을 가중치로 곱한 값을 사용해서 예측.\n",
        "#>>> 일반적으로는 soft voting 방식의 성능이 더 좋다고 알려져 있음."
      ],
      "metadata": {
        "id": "ikKjY2b3Rsqb"
      },
      "execution_count": null,
      "outputs": []
    },
    {
      "cell_type": "code",
      "source": [
        "# voting ensemble을 훈련\n",
        "vote_clf.fit(X_tr, y_tr)"
      ],
      "metadata": {
        "colab": {
          "base_uri": "https://localhost:8080/"
        },
        "id": "uJxbFWy4UsTO",
        "outputId": "8af64d87-4997-43f0-da67-a9521f78559d"
      },
      "execution_count": null,
      "outputs": [
        {
          "output_type": "execute_result",
          "data": {
            "text/plain": [
              "VotingClassifier(estimators=[('knn', KNeighborsClassifier(n_jobs=-1)),\n",
              "                             ('tree', DecisionTreeClassifier(random_state=42)),\n",
              "                             ('logistic',\n",
              "                              LogisticRegression(n_jobs=-1, random_state=42)),\n",
              "                             ('sgd',\n",
              "                              SGDClassifier(loss='log', n_jobs=-1,\n",
              "                                            random_state=42)),\n",
              "                             ('svm', SVC(probability=True, random_state=42))],\n",
              "                 n_jobs=-1, voting='soft')"
            ]
          },
          "metadata": {},
          "execution_count": 469
        }
      ]
    },
    {
      "cell_type": "code",
      "source": [
        "# 훈련/테스트 셋 정확도\n",
        "print('train acc :', vote_clf.score(X_tr, y_tr))\n",
        "print('test acc :', vote_clf.score(X_te, y_te))"
      ],
      "metadata": {
        "colab": {
          "base_uri": "https://localhost:8080/"
        },
        "id": "RyDj_9pJU1_G",
        "outputId": "eda96887-0c60-4fc9-eb32-e004958d73a3"
      },
      "execution_count": null,
      "outputs": [
        {
          "output_type": "stream",
          "name": "stdout",
          "text": [
            "train acc : 0.94\n",
            "test acc : 0.92\n"
          ]
        }
      ]
    },
    {
      "cell_type": "markdown",
      "source": [
        "# Bagging Ensemble"
      ],
      "metadata": {
        "id": "rxwp0G2JV6kX"
      }
    },
    {
      "cell_type": "code",
      "source": [
        "bagging_clf = BaggingClassifier(\n",
        "    base_estimator=DecisionTreeClassifier(random_state=42),\n",
        "    n_estimators=50,\n",
        "    max_samples=100,\n",
        "    bootstrap=True,\n",
        "    oob_score=True,\n",
        "    n_jobs=-1,\n",
        "    random_state=42\n",
        "    )"
      ],
      "metadata": {
        "id": "muEC6VFAVrne"
      },
      "execution_count": null,
      "outputs": []
    },
    {
      "cell_type": "markdown",
      "source": [
        "BaggingClassifier의 파라미터들:\n",
        "\n",
        "* base_estimator : 기본 추정기(예측기). 머신 러닝 모델 객체.\n",
        "* n_estimators : 추정기(예측기)의 개수. 기본값 10.\n",
        "* max_samples : 훈련 셋의 부분 집합이 가질 수 있는 최대 샘플 개수(정수) 또는 비율(0 ~ 1.0). 기본값은 1.0.\n",
        "* bootstrap : True(중복 허용 샘플링, bagging). False(중복 불허 샘플링, pasting). 기본값은 True.\n",
        "* oob_score : True(OOB 샘플로 평가 점수 계산). False(OOB 샘플로 평가 점수를 계산하지 않음). 기본값은 False.\n",
        "    * OOB(Out-Of-Bagging) 샘플 : 중복 허용 샘플링을 하는 동안 한 번도 샘플링되지 못하고 남아 있는 훈련 셋의 샘플.\n",
        "    * OOB sample은 validation set 역할을 할 수 있음."
      ],
      "metadata": {
        "id": "3Ja35ecsX_A7"
      }
    },
    {
      "cell_type": "code",
      "source": [
        "bagging_clf.fit(X_tr, y_tr) # 모델 훈련"
      ],
      "metadata": {
        "colab": {
          "base_uri": "https://localhost:8080/"
        },
        "id": "ei87G3yJZSZQ",
        "outputId": "e8865c63-5419-45b7-d484-dc80e3f4d8a6"
      },
      "execution_count": null,
      "outputs": [
        {
          "output_type": "execute_result",
          "data": {
            "text/plain": [
              "BaggingClassifier(base_estimator=DecisionTreeClassifier(random_state=42),\n",
              "                  max_samples=100, n_estimators=50, n_jobs=-1, oob_score=True,\n",
              "                  random_state=42)"
            ]
          },
          "metadata": {},
          "execution_count": 472
        }
      ]
    },
    {
      "cell_type": "code",
      "source": [
        "bagging_clf.oob_score_\n",
        "# OOB(Out-Of-Bagging) 샘플들로 계산한 점수(정확도)\n",
        "# OOB score는 일반적으로 테스트 셋 점수보다 약간 좋거나 비슷."
      ],
      "metadata": {
        "colab": {
          "base_uri": "https://localhost:8080/"
        },
        "id": "ktXglXQ2fGPQ",
        "outputId": "9837cebe-376f-41b3-af70-5451766d29ee"
      },
      "execution_count": null,
      "outputs": [
        {
          "output_type": "execute_result",
          "data": {
            "text/plain": [
              "0.91"
            ]
          },
          "metadata": {},
          "execution_count": 473
        }
      ]
    },
    {
      "cell_type": "code",
      "source": [
        "print('train acc :', bagging_clf.score(X_tr, y_tr))\n",
        "print('test acc :', bagging_clf.score(X_te, y_te))"
      ],
      "metadata": {
        "colab": {
          "base_uri": "https://localhost:8080/"
        },
        "id": "rokQvOXKcsJ6",
        "outputId": "8d6245a7-b197-4398-ba62-4c40dbcfdd95"
      },
      "execution_count": null,
      "outputs": [
        {
          "output_type": "stream",
          "name": "stdout",
          "text": [
            "train acc : 0.9425\n",
            "test acc : 0.9\n"
          ]
        }
      ]
    },
    {
      "cell_type": "code",
      "source": [
        "# n_estimator=100, max_samples=1.0 설정해서 교차 검증(cross_validate)\n",
        "bagging_clf = BaggingClassifier(\n",
        "    base_estimator=DecisionTreeClassifier(random_state=42),\n",
        "    n_estimators=100,\n",
        "    max_samples=1.0,\n",
        "    bootstrap=True,\n",
        "    oob_score=True,\n",
        "    n_jobs=-1,\n",
        "    random_state=42\n",
        ")"
      ],
      "metadata": {
        "id": "FMzVPxJ-dPo5"
      },
      "execution_count": null,
      "outputs": []
    },
    {
      "cell_type": "code",
      "source": [
        "cv = cross_validate(bagging_clf, X_tr, y_tr, n_jobs=-1, return_train_score=True)"
      ],
      "metadata": {
        "id": "_hQQ0W0QgZog"
      },
      "execution_count": null,
      "outputs": []
    },
    {
      "cell_type": "code",
      "source": [
        "print('train acc :', np.mean(cv['train_score']))\n",
        "print('test acc :', np.mean(cv['test_score']))"
      ],
      "metadata": {
        "colab": {
          "base_uri": "https://localhost:8080/"
        },
        "id": "5Xl7JS7-ezP3",
        "outputId": "2ed319c6-9390-45ab-bbd6-54e070dfb38b"
      },
      "execution_count": null,
      "outputs": [
        {
          "output_type": "stream",
          "name": "stdout",
          "text": [
            "train acc : 1.0\n",
            "test acc : 0.9075\n"
          ]
        }
      ]
    },
    {
      "cell_type": "markdown",
      "source": [
        "# Random Forest"
      ],
      "metadata": {
        "id": "EI8TRqKjg3W6"
      }
    },
    {
      "cell_type": "code",
      "source": [
        "forest_clf = RandomForestClassifier(n_estimators=50, max_samples=100, oob_score=True,\n",
        "                                    random_state=42, n_jobs=-1)"
      ],
      "metadata": {
        "id": "Im90PWsHhG2D"
      },
      "execution_count": null,
      "outputs": []
    },
    {
      "cell_type": "code",
      "source": [
        "forest_clf.fit(X_tr, y_tr)"
      ],
      "metadata": {
        "colab": {
          "base_uri": "https://localhost:8080/"
        },
        "id": "799ViIaGhjZT",
        "outputId": "ea825787-039a-4d4b-fba3-75ffa31a3079"
      },
      "execution_count": null,
      "outputs": [
        {
          "output_type": "execute_result",
          "data": {
            "text/plain": [
              "RandomForestClassifier(max_samples=100, n_estimators=50, n_jobs=-1,\n",
              "                       oob_score=True, random_state=42)"
            ]
          },
          "metadata": {},
          "execution_count": 479
        }
      ]
    },
    {
      "cell_type": "code",
      "source": [
        "forest_clf.oob_score_"
      ],
      "metadata": {
        "colab": {
          "base_uri": "https://localhost:8080/"
        },
        "id": "5XYWVqXxhmOt",
        "outputId": "d2ac3406-32a8-4e21-e901-1a31696aee39"
      },
      "execution_count": null,
      "outputs": [
        {
          "output_type": "execute_result",
          "data": {
            "text/plain": [
              "0.9125"
            ]
          },
          "metadata": {},
          "execution_count": 480
        }
      ]
    },
    {
      "cell_type": "code",
      "source": [
        "print('train acc :', forest_clf.score(X_tr, y_tr))\n",
        "print('test acc :', forest_clf.score(X_te, y_te))"
      ],
      "metadata": {
        "colab": {
          "base_uri": "https://localhost:8080/"
        },
        "id": "PK9RwktVhrPI",
        "outputId": "d8bf8900-f6a6-4d98-c969-70591b35f168"
      },
      "execution_count": null,
      "outputs": [
        {
          "output_type": "stream",
          "name": "stdout",
          "text": [
            "train acc : 0.9475\n",
            "test acc : 0.91\n"
          ]
        }
      ]
    },
    {
      "cell_type": "markdown",
      "source": [
        "Random Forest : Decision Tree를 사용하는 bagging ensemble 학습 방법.\n",
        "\n",
        "* DecisionTree의 파라미터와 Bagging의 파라미터를 가짐.\n",
        "* GridSearchCV, RandomizedSearchCV을 사용해서 tree와 bagging의 하이퍼파라미터들을 튜닝할 수 있음."
      ],
      "metadata": {
        "id": "81mI-V7ciSAl"
      }
    },
    {
      "cell_type": "markdown",
      "source": [
        "# RandomForest를 사용한 wine datasets 분류"
      ],
      "metadata": {
        "id": "8BfJ8wdijDo3"
      }
    },
    {
      "cell_type": "code",
      "source": [
        "# wine datasets\n",
        "wine_csv = 'https://bit.ly/wine_csv_data'\n",
        "wine = pd.read_csv(wine_csv)"
      ],
      "metadata": {
        "id": "ENSr8ABZjC9a"
      },
      "execution_count": null,
      "outputs": []
    },
    {
      "cell_type": "code",
      "source": [
        "wine.head()"
      ],
      "metadata": {
        "colab": {
          "base_uri": "https://localhost:8080/",
          "height": 206
        },
        "id": "TiWIw6uukwZn",
        "outputId": "c8c90858-50ad-423d-a6bd-ddfc110038fd"
      },
      "execution_count": null,
      "outputs": [
        {
          "output_type": "execute_result",
          "data": {
            "text/plain": [
              "   alcohol  sugar    pH  class\n",
              "0      9.4    1.9  3.51    0.0\n",
              "1      9.8    2.6  3.20    0.0\n",
              "2      9.8    2.3  3.26    0.0\n",
              "3      9.8    1.9  3.16    0.0\n",
              "4      9.4    1.9  3.51    0.0"
            ],
            "text/html": [
              "\n",
              "  <div id=\"df-178ee89d-a8a5-4827-bb08-54c2620c77eb\">\n",
              "    <div class=\"colab-df-container\">\n",
              "      <div>\n",
              "<style scoped>\n",
              "    .dataframe tbody tr th:only-of-type {\n",
              "        vertical-align: middle;\n",
              "    }\n",
              "\n",
              "    .dataframe tbody tr th {\n",
              "        vertical-align: top;\n",
              "    }\n",
              "\n",
              "    .dataframe thead th {\n",
              "        text-align: right;\n",
              "    }\n",
              "</style>\n",
              "<table border=\"1\" class=\"dataframe\">\n",
              "  <thead>\n",
              "    <tr style=\"text-align: right;\">\n",
              "      <th></th>\n",
              "      <th>alcohol</th>\n",
              "      <th>sugar</th>\n",
              "      <th>pH</th>\n",
              "      <th>class</th>\n",
              "    </tr>\n",
              "  </thead>\n",
              "  <tbody>\n",
              "    <tr>\n",
              "      <th>0</th>\n",
              "      <td>9.4</td>\n",
              "      <td>1.9</td>\n",
              "      <td>3.51</td>\n",
              "      <td>0.0</td>\n",
              "    </tr>\n",
              "    <tr>\n",
              "      <th>1</th>\n",
              "      <td>9.8</td>\n",
              "      <td>2.6</td>\n",
              "      <td>3.20</td>\n",
              "      <td>0.0</td>\n",
              "    </tr>\n",
              "    <tr>\n",
              "      <th>2</th>\n",
              "      <td>9.8</td>\n",
              "      <td>2.3</td>\n",
              "      <td>3.26</td>\n",
              "      <td>0.0</td>\n",
              "    </tr>\n",
              "    <tr>\n",
              "      <th>3</th>\n",
              "      <td>9.8</td>\n",
              "      <td>1.9</td>\n",
              "      <td>3.16</td>\n",
              "      <td>0.0</td>\n",
              "    </tr>\n",
              "    <tr>\n",
              "      <th>4</th>\n",
              "      <td>9.4</td>\n",
              "      <td>1.9</td>\n",
              "      <td>3.51</td>\n",
              "      <td>0.0</td>\n",
              "    </tr>\n",
              "  </tbody>\n",
              "</table>\n",
              "</div>\n",
              "      <button class=\"colab-df-convert\" onclick=\"convertToInteractive('df-178ee89d-a8a5-4827-bb08-54c2620c77eb')\"\n",
              "              title=\"Convert this dataframe to an interactive table.\"\n",
              "              style=\"display:none;\">\n",
              "        \n",
              "  <svg xmlns=\"http://www.w3.org/2000/svg\" height=\"24px\"viewBox=\"0 0 24 24\"\n",
              "       width=\"24px\">\n",
              "    <path d=\"M0 0h24v24H0V0z\" fill=\"none\"/>\n",
              "    <path d=\"M18.56 5.44l.94 2.06.94-2.06 2.06-.94-2.06-.94-.94-2.06-.94 2.06-2.06.94zm-11 1L8.5 8.5l.94-2.06 2.06-.94-2.06-.94L8.5 2.5l-.94 2.06-2.06.94zm10 10l.94 2.06.94-2.06 2.06-.94-2.06-.94-.94-2.06-.94 2.06-2.06.94z\"/><path d=\"M17.41 7.96l-1.37-1.37c-.4-.4-.92-.59-1.43-.59-.52 0-1.04.2-1.43.59L10.3 9.45l-7.72 7.72c-.78.78-.78 2.05 0 2.83L4 21.41c.39.39.9.59 1.41.59.51 0 1.02-.2 1.41-.59l7.78-7.78 2.81-2.81c.8-.78.8-2.07 0-2.86zM5.41 20L4 18.59l7.72-7.72 1.47 1.35L5.41 20z\"/>\n",
              "  </svg>\n",
              "      </button>\n",
              "      \n",
              "  <style>\n",
              "    .colab-df-container {\n",
              "      display:flex;\n",
              "      flex-wrap:wrap;\n",
              "      gap: 12px;\n",
              "    }\n",
              "\n",
              "    .colab-df-convert {\n",
              "      background-color: #E8F0FE;\n",
              "      border: none;\n",
              "      border-radius: 50%;\n",
              "      cursor: pointer;\n",
              "      display: none;\n",
              "      fill: #1967D2;\n",
              "      height: 32px;\n",
              "      padding: 0 0 0 0;\n",
              "      width: 32px;\n",
              "    }\n",
              "\n",
              "    .colab-df-convert:hover {\n",
              "      background-color: #E2EBFA;\n",
              "      box-shadow: 0px 1px 2px rgba(60, 64, 67, 0.3), 0px 1px 3px 1px rgba(60, 64, 67, 0.15);\n",
              "      fill: #174EA6;\n",
              "    }\n",
              "\n",
              "    [theme=dark] .colab-df-convert {\n",
              "      background-color: #3B4455;\n",
              "      fill: #D2E3FC;\n",
              "    }\n",
              "\n",
              "    [theme=dark] .colab-df-convert:hover {\n",
              "      background-color: #434B5C;\n",
              "      box-shadow: 0px 1px 3px 1px rgba(0, 0, 0, 0.15);\n",
              "      filter: drop-shadow(0px 1px 2px rgba(0, 0, 0, 0.3));\n",
              "      fill: #FFFFFF;\n",
              "    }\n",
              "  </style>\n",
              "\n",
              "      <script>\n",
              "        const buttonEl =\n",
              "          document.querySelector('#df-178ee89d-a8a5-4827-bb08-54c2620c77eb button.colab-df-convert');\n",
              "        buttonEl.style.display =\n",
              "          google.colab.kernel.accessAllowed ? 'block' : 'none';\n",
              "\n",
              "        async function convertToInteractive(key) {\n",
              "          const element = document.querySelector('#df-178ee89d-a8a5-4827-bb08-54c2620c77eb');\n",
              "          const dataTable =\n",
              "            await google.colab.kernel.invokeFunction('convertToInteractive',\n",
              "                                                     [key], {});\n",
              "          if (!dataTable) return;\n",
              "\n",
              "          const docLinkHtml = 'Like what you see? Visit the ' +\n",
              "            '<a target=\"_blank\" href=https://colab.research.google.com/notebooks/data_table.ipynb>data table notebook</a>'\n",
              "            + ' to learn more about interactive tables.';\n",
              "          element.innerHTML = '';\n",
              "          dataTable['output_type'] = 'display_data';\n",
              "          await google.colab.output.renderOutput(dataTable, element);\n",
              "          const docLink = document.createElement('div');\n",
              "          docLink.innerHTML = docLinkHtml;\n",
              "          element.appendChild(docLink);\n",
              "        }\n",
              "      </script>\n",
              "    </div>\n",
              "  </div>\n",
              "  "
            ]
          },
          "metadata": {},
          "execution_count": 483
        }
      ]
    },
    {
      "cell_type": "code",
      "source": [
        "X1 = wine.iloc[:, :3].values.copy()\n",
        "y1 = wine['class'].values.astype('int').copy()"
      ],
      "metadata": {
        "id": "K8BOMVogkxzz"
      },
      "execution_count": null,
      "outputs": []
    },
    {
      "cell_type": "code",
      "source": [
        "X1_tr, X1_te, y1_tr, y1_te = train_test_split(X1, y1, test_size=0.2, random_state=42, stratify=y1)"
      ],
      "metadata": {
        "id": "3BYCrRerk36l"
      },
      "execution_count": null,
      "outputs": []
    },
    {
      "cell_type": "code",
      "source": [
        "X1_tr.shape, X1_te.shape, y1_tr.shape, y1_te.shape"
      ],
      "metadata": {
        "colab": {
          "base_uri": "https://localhost:8080/"
        },
        "id": "ax28FXDergGe",
        "outputId": "4ef6789d-cb32-4149-9678-2968176e6bb4"
      },
      "execution_count": null,
      "outputs": [
        {
          "output_type": "execute_result",
          "data": {
            "text/plain": [
              "((5197, 3), (1300, 3), (5197,), (1300,))"
            ]
          },
          "metadata": {},
          "execution_count": 486
        }
      ]
    },
    {
      "cell_type": "code",
      "source": [
        "params1 = {'n_estimators' : np.arange(1, 11),\n",
        "          'max_samples' : np.arange(0.1, 1.01, 0.1)}"
      ],
      "metadata": {
        "id": "dHBi33OW6wDM"
      },
      "execution_count": null,
      "outputs": []
    },
    {
      "cell_type": "code",
      "source": [
        "grid_cv = GridSearchCV(estimator=RandomForestClassifier(oob_score=True, random_state=42),\n",
        "                       param_grid=params1, n_jobs=-1)"
      ],
      "metadata": {
        "id": "eaJnie9B8Pu4"
      },
      "execution_count": null,
      "outputs": []
    },
    {
      "cell_type": "code",
      "source": [
        "grid_cv.fit(X1_tr, y1_tr)"
      ],
      "metadata": {
        "colab": {
          "base_uri": "https://localhost:8080/"
        },
        "id": "-HXYhU-18u5Z",
        "outputId": "9ce46a7f-a15b-4a74-f201-12f48d92c302"
      },
      "execution_count": null,
      "outputs": [
        {
          "output_type": "stream",
          "name": "stderr",
          "text": [
            "/usr/local/lib/python3.7/dist-packages/sklearn/ensemble/_forest.py:564: UserWarning: Some inputs do not have OOB scores. This probably means too few trees were used to compute any reliable OOB estimates.\n",
            "  UserWarning,\n"
          ]
        },
        {
          "output_type": "execute_result",
          "data": {
            "text/plain": [
              "GridSearchCV(estimator=RandomForestClassifier(oob_score=True, random_state=42),\n",
              "             n_jobs=-1,\n",
              "             param_grid={'max_samples': array([0.1, 0.2, 0.3, 0.4, 0.5, 0.6, 0.7, 0.8, 0.9, 1. ]),\n",
              "                         'n_estimators': array([ 1,  2,  3,  4,  5,  6,  7,  8,  9, 10])})"
            ]
          },
          "metadata": {},
          "execution_count": 489
        }
      ]
    },
    {
      "cell_type": "code",
      "source": [
        "grid_cv.best_params_"
      ],
      "metadata": {
        "colab": {
          "base_uri": "https://localhost:8080/"
        },
        "id": "WX6XKIN6804m",
        "outputId": "b5ef4dc1-27f6-4068-efea-000e6f774cf5"
      },
      "execution_count": null,
      "outputs": [
        {
          "output_type": "execute_result",
          "data": {
            "text/plain": [
              "{'max_samples': 1.0, 'n_estimators': 9}"
            ]
          },
          "metadata": {},
          "execution_count": 490
        }
      ]
    },
    {
      "cell_type": "code",
      "source": [
        "grid_cv.best_score_"
      ],
      "metadata": {
        "colab": {
          "base_uri": "https://localhost:8080/"
        },
        "id": "fbQz9lUW82Zz",
        "outputId": "6f951657-5dcc-4781-b955-5aa2960e3244"
      },
      "execution_count": null,
      "outputs": [
        {
          "output_type": "execute_result",
          "data": {
            "text/plain": [
              "0.8874339231509587"
            ]
          },
          "metadata": {},
          "execution_count": 491
        }
      ]
    },
    {
      "cell_type": "code",
      "source": [
        "best_rf = grid_cv.best_estimator_\n",
        "best_rf"
      ],
      "metadata": {
        "colab": {
          "base_uri": "https://localhost:8080/"
        },
        "id": "LWNGKBt38w0R",
        "outputId": "e279417a-8eeb-4eb7-e292-923b91ce3885"
      },
      "execution_count": null,
      "outputs": [
        {
          "output_type": "execute_result",
          "data": {
            "text/plain": [
              "RandomForestClassifier(max_samples=1.0, n_estimators=9, oob_score=True,\n",
              "                       random_state=42)"
            ]
          },
          "metadata": {},
          "execution_count": 492
        }
      ]
    },
    {
      "cell_type": "code",
      "source": [
        "print('Best Train Score :', best_rf.score(X1_tr, y1_tr))\n",
        "print('Best Test Score :', best_rf.score(X1_te, y1_te))"
      ],
      "metadata": {
        "colab": {
          "base_uri": "https://localhost:8080/"
        },
        "id": "0hCkLW4L9Gd4",
        "outputId": "8a0f134f-f6e6-4be5-c08b-64ad10c67d82"
      },
      "execution_count": null,
      "outputs": [
        {
          "output_type": "stream",
          "name": "stdout",
          "text": [
            "Best Train Score : 0.9880700404079277\n",
            "Best Test Score : 0.8830769230769231\n"
          ]
        }
      ]
    },
    {
      "cell_type": "code",
      "source": [
        "params_r1 = {'n_estimators' : scipy.stats.randint(1, 11),\n",
        "             'max_samples' : scipy.stats.uniform(0, 0.1)}"
      ],
      "metadata": {
        "id": "ucytIBQE9Qxk"
      },
      "execution_count": null,
      "outputs": []
    },
    {
      "cell_type": "code",
      "source": [
        "rand_cv = RandomizedSearchCV(estimator=RandomForestClassifier(oob_score=True, random_state=42),\n",
        "                             param_distributions=params_r1, # 파라미터들의 확률분포\n",
        "                             n_iter=100, # 파라미터 조합의 개수\n",
        "                             n_jobs=-1)"
      ],
      "metadata": {
        "id": "uX_EGmkV938G"
      },
      "execution_count": null,
      "outputs": []
    },
    {
      "cell_type": "code",
      "source": [
        "rand_cv.fit(X1_tr, y1_tr)"
      ],
      "metadata": {
        "colab": {
          "base_uri": "https://localhost:8080/"
        },
        "id": "InOYE0Mx-Cxx",
        "outputId": "68d4cc26-17f2-4c78-eb0c-842ac01c5c2d"
      },
      "execution_count": null,
      "outputs": [
        {
          "output_type": "execute_result",
          "data": {
            "text/plain": [
              "RandomizedSearchCV(estimator=RandomForestClassifier(oob_score=True,\n",
              "                                                    random_state=42),\n",
              "                   n_iter=100, n_jobs=-1,\n",
              "                   param_distributions={'max_samples': <scipy.stats._distn_infrastructure.rv_frozen object at 0x7fb3d8026c10>,\n",
              "                                        'n_estimators': <scipy.stats._distn_infrastructure.rv_frozen object at 0x7fb3d8026d10>})"
            ]
          },
          "metadata": {},
          "execution_count": 496
        }
      ]
    },
    {
      "cell_type": "code",
      "source": [
        "rand_cv.best_params_"
      ],
      "metadata": {
        "colab": {
          "base_uri": "https://localhost:8080/"
        },
        "id": "VhJhNTAA-E9c",
        "outputId": "51a6999d-55a0-4f47-990a-37e92945c3d4"
      },
      "execution_count": null,
      "outputs": [
        {
          "output_type": "execute_result",
          "data": {
            "text/plain": [
              "{'max_samples': 0.08626715851607705, 'n_estimators': 9}"
            ]
          },
          "metadata": {},
          "execution_count": 497
        }
      ]
    },
    {
      "cell_type": "code",
      "source": [
        "rand_cv.best_score_"
      ],
      "metadata": {
        "colab": {
          "base_uri": "https://localhost:8080/"
        },
        "id": "oRqhpQql-PZY",
        "outputId": "fad9a09e-d84d-4a29-a4a1-61e1f669b68b"
      },
      "execution_count": null,
      "outputs": [
        {
          "output_type": "execute_result",
          "data": {
            "text/plain": [
              "0.8622234767157769"
            ]
          },
          "metadata": {},
          "execution_count": 498
        }
      ]
    },
    {
      "cell_type": "code",
      "source": [
        "best_rf = rand_cv.best_estimator_\n",
        "best_rf"
      ],
      "metadata": {
        "colab": {
          "base_uri": "https://localhost:8080/"
        },
        "id": "iSA70Lg_-RsI",
        "outputId": "bad0e166-19c1-472c-f386-3c708a46ec98"
      },
      "execution_count": null,
      "outputs": [
        {
          "output_type": "execute_result",
          "data": {
            "text/plain": [
              "RandomForestClassifier(max_samples=0.08626715851607705, n_estimators=9,\n",
              "                       oob_score=True, random_state=42)"
            ]
          },
          "metadata": {},
          "execution_count": 499
        }
      ]
    },
    {
      "cell_type": "code",
      "source": [
        "print(\"Best Train Score :\", best_rf.score(X1_tr, y1_tr))\n",
        "print(\"Best Test Score :\", best_rf.score(X1_te, y1_te))"
      ],
      "metadata": {
        "colab": {
          "base_uri": "https://localhost:8080/"
        },
        "id": "KvoQHsGV-eas",
        "outputId": "5bda04ed-c60e-4066-a467-de5f35264e77"
      },
      "execution_count": null,
      "outputs": [
        {
          "output_type": "stream",
          "name": "stdout",
          "text": [
            "Best Train Score : 0.885510871656725\n",
            "Best Test Score : 0.8553846153846154\n"
          ]
        }
      ]
    },
    {
      "cell_type": "markdown",
      "source": [
        "# RandomForest를 사용한 breast-cancer 분류"
      ],
      "metadata": {
        "id": "Ezn9mOCfjaLr"
      }
    },
    {
      "cell_type": "code",
      "source": [
        "cancer = datasets.load_breast_cancer()"
      ],
      "metadata": {
        "id": "WsgNxRpHjdmX"
      },
      "execution_count": null,
      "outputs": []
    },
    {
      "cell_type": "code",
      "source": [
        "cancer_df = pd.DataFrame(data=cancer.data, columns=cancer.feature_names)\n",
        "cancer_df.head()"
      ],
      "metadata": {
        "colab": {
          "base_uri": "https://localhost:8080/",
          "height": 334
        },
        "id": "GmF-bplYp1xy",
        "outputId": "4bf22dcf-923e-4910-89c7-c5aa4387afa6"
      },
      "execution_count": null,
      "outputs": [
        {
          "output_type": "execute_result",
          "data": {
            "text/plain": [
              "   mean radius  mean texture  mean perimeter  mean area  mean smoothness  \\\n",
              "0        17.99         10.38          122.80     1001.0          0.11840   \n",
              "1        20.57         17.77          132.90     1326.0          0.08474   \n",
              "2        19.69         21.25          130.00     1203.0          0.10960   \n",
              "3        11.42         20.38           77.58      386.1          0.14250   \n",
              "4        20.29         14.34          135.10     1297.0          0.10030   \n",
              "\n",
              "   mean compactness  mean concavity  mean concave points  mean symmetry  \\\n",
              "0           0.27760          0.3001              0.14710         0.2419   \n",
              "1           0.07864          0.0869              0.07017         0.1812   \n",
              "2           0.15990          0.1974              0.12790         0.2069   \n",
              "3           0.28390          0.2414              0.10520         0.2597   \n",
              "4           0.13280          0.1980              0.10430         0.1809   \n",
              "\n",
              "   mean fractal dimension  ...  worst radius  worst texture  worst perimeter  \\\n",
              "0                 0.07871  ...         25.38          17.33           184.60   \n",
              "1                 0.05667  ...         24.99          23.41           158.80   \n",
              "2                 0.05999  ...         23.57          25.53           152.50   \n",
              "3                 0.09744  ...         14.91          26.50            98.87   \n",
              "4                 0.05883  ...         22.54          16.67           152.20   \n",
              "\n",
              "   worst area  worst smoothness  worst compactness  worst concavity  \\\n",
              "0      2019.0            0.1622             0.6656           0.7119   \n",
              "1      1956.0            0.1238             0.1866           0.2416   \n",
              "2      1709.0            0.1444             0.4245           0.4504   \n",
              "3       567.7            0.2098             0.8663           0.6869   \n",
              "4      1575.0            0.1374             0.2050           0.4000   \n",
              "\n",
              "   worst concave points  worst symmetry  worst fractal dimension  \n",
              "0                0.2654          0.4601                  0.11890  \n",
              "1                0.1860          0.2750                  0.08902  \n",
              "2                0.2430          0.3613                  0.08758  \n",
              "3                0.2575          0.6638                  0.17300  \n",
              "4                0.1625          0.2364                  0.07678  \n",
              "\n",
              "[5 rows x 30 columns]"
            ],
            "text/html": [
              "\n",
              "  <div id=\"df-03915113-6235-49b0-ba1b-d9c1ac9f9180\">\n",
              "    <div class=\"colab-df-container\">\n",
              "      <div>\n",
              "<style scoped>\n",
              "    .dataframe tbody tr th:only-of-type {\n",
              "        vertical-align: middle;\n",
              "    }\n",
              "\n",
              "    .dataframe tbody tr th {\n",
              "        vertical-align: top;\n",
              "    }\n",
              "\n",
              "    .dataframe thead th {\n",
              "        text-align: right;\n",
              "    }\n",
              "</style>\n",
              "<table border=\"1\" class=\"dataframe\">\n",
              "  <thead>\n",
              "    <tr style=\"text-align: right;\">\n",
              "      <th></th>\n",
              "      <th>mean radius</th>\n",
              "      <th>mean texture</th>\n",
              "      <th>mean perimeter</th>\n",
              "      <th>mean area</th>\n",
              "      <th>mean smoothness</th>\n",
              "      <th>mean compactness</th>\n",
              "      <th>mean concavity</th>\n",
              "      <th>mean concave points</th>\n",
              "      <th>mean symmetry</th>\n",
              "      <th>mean fractal dimension</th>\n",
              "      <th>...</th>\n",
              "      <th>worst radius</th>\n",
              "      <th>worst texture</th>\n",
              "      <th>worst perimeter</th>\n",
              "      <th>worst area</th>\n",
              "      <th>worst smoothness</th>\n",
              "      <th>worst compactness</th>\n",
              "      <th>worst concavity</th>\n",
              "      <th>worst concave points</th>\n",
              "      <th>worst symmetry</th>\n",
              "      <th>worst fractal dimension</th>\n",
              "    </tr>\n",
              "  </thead>\n",
              "  <tbody>\n",
              "    <tr>\n",
              "      <th>0</th>\n",
              "      <td>17.99</td>\n",
              "      <td>10.38</td>\n",
              "      <td>122.80</td>\n",
              "      <td>1001.0</td>\n",
              "      <td>0.11840</td>\n",
              "      <td>0.27760</td>\n",
              "      <td>0.3001</td>\n",
              "      <td>0.14710</td>\n",
              "      <td>0.2419</td>\n",
              "      <td>0.07871</td>\n",
              "      <td>...</td>\n",
              "      <td>25.38</td>\n",
              "      <td>17.33</td>\n",
              "      <td>184.60</td>\n",
              "      <td>2019.0</td>\n",
              "      <td>0.1622</td>\n",
              "      <td>0.6656</td>\n",
              "      <td>0.7119</td>\n",
              "      <td>0.2654</td>\n",
              "      <td>0.4601</td>\n",
              "      <td>0.11890</td>\n",
              "    </tr>\n",
              "    <tr>\n",
              "      <th>1</th>\n",
              "      <td>20.57</td>\n",
              "      <td>17.77</td>\n",
              "      <td>132.90</td>\n",
              "      <td>1326.0</td>\n",
              "      <td>0.08474</td>\n",
              "      <td>0.07864</td>\n",
              "      <td>0.0869</td>\n",
              "      <td>0.07017</td>\n",
              "      <td>0.1812</td>\n",
              "      <td>0.05667</td>\n",
              "      <td>...</td>\n",
              "      <td>24.99</td>\n",
              "      <td>23.41</td>\n",
              "      <td>158.80</td>\n",
              "      <td>1956.0</td>\n",
              "      <td>0.1238</td>\n",
              "      <td>0.1866</td>\n",
              "      <td>0.2416</td>\n",
              "      <td>0.1860</td>\n",
              "      <td>0.2750</td>\n",
              "      <td>0.08902</td>\n",
              "    </tr>\n",
              "    <tr>\n",
              "      <th>2</th>\n",
              "      <td>19.69</td>\n",
              "      <td>21.25</td>\n",
              "      <td>130.00</td>\n",
              "      <td>1203.0</td>\n",
              "      <td>0.10960</td>\n",
              "      <td>0.15990</td>\n",
              "      <td>0.1974</td>\n",
              "      <td>0.12790</td>\n",
              "      <td>0.2069</td>\n",
              "      <td>0.05999</td>\n",
              "      <td>...</td>\n",
              "      <td>23.57</td>\n",
              "      <td>25.53</td>\n",
              "      <td>152.50</td>\n",
              "      <td>1709.0</td>\n",
              "      <td>0.1444</td>\n",
              "      <td>0.4245</td>\n",
              "      <td>0.4504</td>\n",
              "      <td>0.2430</td>\n",
              "      <td>0.3613</td>\n",
              "      <td>0.08758</td>\n",
              "    </tr>\n",
              "    <tr>\n",
              "      <th>3</th>\n",
              "      <td>11.42</td>\n",
              "      <td>20.38</td>\n",
              "      <td>77.58</td>\n",
              "      <td>386.1</td>\n",
              "      <td>0.14250</td>\n",
              "      <td>0.28390</td>\n",
              "      <td>0.2414</td>\n",
              "      <td>0.10520</td>\n",
              "      <td>0.2597</td>\n",
              "      <td>0.09744</td>\n",
              "      <td>...</td>\n",
              "      <td>14.91</td>\n",
              "      <td>26.50</td>\n",
              "      <td>98.87</td>\n",
              "      <td>567.7</td>\n",
              "      <td>0.2098</td>\n",
              "      <td>0.8663</td>\n",
              "      <td>0.6869</td>\n",
              "      <td>0.2575</td>\n",
              "      <td>0.6638</td>\n",
              "      <td>0.17300</td>\n",
              "    </tr>\n",
              "    <tr>\n",
              "      <th>4</th>\n",
              "      <td>20.29</td>\n",
              "      <td>14.34</td>\n",
              "      <td>135.10</td>\n",
              "      <td>1297.0</td>\n",
              "      <td>0.10030</td>\n",
              "      <td>0.13280</td>\n",
              "      <td>0.1980</td>\n",
              "      <td>0.10430</td>\n",
              "      <td>0.1809</td>\n",
              "      <td>0.05883</td>\n",
              "      <td>...</td>\n",
              "      <td>22.54</td>\n",
              "      <td>16.67</td>\n",
              "      <td>152.20</td>\n",
              "      <td>1575.0</td>\n",
              "      <td>0.1374</td>\n",
              "      <td>0.2050</td>\n",
              "      <td>0.4000</td>\n",
              "      <td>0.1625</td>\n",
              "      <td>0.2364</td>\n",
              "      <td>0.07678</td>\n",
              "    </tr>\n",
              "  </tbody>\n",
              "</table>\n",
              "<p>5 rows × 30 columns</p>\n",
              "</div>\n",
              "      <button class=\"colab-df-convert\" onclick=\"convertToInteractive('df-03915113-6235-49b0-ba1b-d9c1ac9f9180')\"\n",
              "              title=\"Convert this dataframe to an interactive table.\"\n",
              "              style=\"display:none;\">\n",
              "        \n",
              "  <svg xmlns=\"http://www.w3.org/2000/svg\" height=\"24px\"viewBox=\"0 0 24 24\"\n",
              "       width=\"24px\">\n",
              "    <path d=\"M0 0h24v24H0V0z\" fill=\"none\"/>\n",
              "    <path d=\"M18.56 5.44l.94 2.06.94-2.06 2.06-.94-2.06-.94-.94-2.06-.94 2.06-2.06.94zm-11 1L8.5 8.5l.94-2.06 2.06-.94-2.06-.94L8.5 2.5l-.94 2.06-2.06.94zm10 10l.94 2.06.94-2.06 2.06-.94-2.06-.94-.94-2.06-.94 2.06-2.06.94z\"/><path d=\"M17.41 7.96l-1.37-1.37c-.4-.4-.92-.59-1.43-.59-.52 0-1.04.2-1.43.59L10.3 9.45l-7.72 7.72c-.78.78-.78 2.05 0 2.83L4 21.41c.39.39.9.59 1.41.59.51 0 1.02-.2 1.41-.59l7.78-7.78 2.81-2.81c.8-.78.8-2.07 0-2.86zM5.41 20L4 18.59l7.72-7.72 1.47 1.35L5.41 20z\"/>\n",
              "  </svg>\n",
              "      </button>\n",
              "      \n",
              "  <style>\n",
              "    .colab-df-container {\n",
              "      display:flex;\n",
              "      flex-wrap:wrap;\n",
              "      gap: 12px;\n",
              "    }\n",
              "\n",
              "    .colab-df-convert {\n",
              "      background-color: #E8F0FE;\n",
              "      border: none;\n",
              "      border-radius: 50%;\n",
              "      cursor: pointer;\n",
              "      display: none;\n",
              "      fill: #1967D2;\n",
              "      height: 32px;\n",
              "      padding: 0 0 0 0;\n",
              "      width: 32px;\n",
              "    }\n",
              "\n",
              "    .colab-df-convert:hover {\n",
              "      background-color: #E2EBFA;\n",
              "      box-shadow: 0px 1px 2px rgba(60, 64, 67, 0.3), 0px 1px 3px 1px rgba(60, 64, 67, 0.15);\n",
              "      fill: #174EA6;\n",
              "    }\n",
              "\n",
              "    [theme=dark] .colab-df-convert {\n",
              "      background-color: #3B4455;\n",
              "      fill: #D2E3FC;\n",
              "    }\n",
              "\n",
              "    [theme=dark] .colab-df-convert:hover {\n",
              "      background-color: #434B5C;\n",
              "      box-shadow: 0px 1px 3px 1px rgba(0, 0, 0, 0.15);\n",
              "      filter: drop-shadow(0px 1px 2px rgba(0, 0, 0, 0.3));\n",
              "      fill: #FFFFFF;\n",
              "    }\n",
              "  </style>\n",
              "\n",
              "      <script>\n",
              "        const buttonEl =\n",
              "          document.querySelector('#df-03915113-6235-49b0-ba1b-d9c1ac9f9180 button.colab-df-convert');\n",
              "        buttonEl.style.display =\n",
              "          google.colab.kernel.accessAllowed ? 'block' : 'none';\n",
              "\n",
              "        async function convertToInteractive(key) {\n",
              "          const element = document.querySelector('#df-03915113-6235-49b0-ba1b-d9c1ac9f9180');\n",
              "          const dataTable =\n",
              "            await google.colab.kernel.invokeFunction('convertToInteractive',\n",
              "                                                     [key], {});\n",
              "          if (!dataTable) return;\n",
              "\n",
              "          const docLinkHtml = 'Like what you see? Visit the ' +\n",
              "            '<a target=\"_blank\" href=https://colab.research.google.com/notebooks/data_table.ipynb>data table notebook</a>'\n",
              "            + ' to learn more about interactive tables.';\n",
              "          element.innerHTML = '';\n",
              "          dataTable['output_type'] = 'display_data';\n",
              "          await google.colab.output.renderOutput(dataTable, element);\n",
              "          const docLink = document.createElement('div');\n",
              "          docLink.innerHTML = docLinkHtml;\n",
              "          element.appendChild(docLink);\n",
              "        }\n",
              "      </script>\n",
              "    </div>\n",
              "  </div>\n",
              "  "
            ]
          },
          "metadata": {},
          "execution_count": 502
        }
      ]
    },
    {
      "cell_type": "code",
      "source": [
        "X2 = cancer.data.copy()  # cancer['data']\n",
        "y2 = cancer.target.copy()  # cancer['target']"
      ],
      "metadata": {
        "id": "8qqRKpu0nWKm"
      },
      "execution_count": null,
      "outputs": []
    },
    {
      "cell_type": "code",
      "source": [
        "X2_tr, X2_te, y2_tr, y2_te = train_test_split(X2, y2, test_size=0.2, random_state=42, stratify=y2)"
      ],
      "metadata": {
        "id": "mUxKHUPgnXLE"
      },
      "execution_count": null,
      "outputs": []
    },
    {
      "cell_type": "code",
      "source": [
        "X2_tr.shape, X2_te.shape, y2_tr.shape, y2_te.shape"
      ],
      "metadata": {
        "colab": {
          "base_uri": "https://localhost:8080/"
        },
        "id": "fjaY4M7Xv3jS",
        "outputId": "18449ef4-ae35-43fa-a5ff-4958a0631e5d"
      },
      "execution_count": null,
      "outputs": [
        {
          "output_type": "execute_result",
          "data": {
            "text/plain": [
              "((455, 30), (114, 30), (455,), (114,))"
            ]
          },
          "metadata": {},
          "execution_count": 505
        }
      ]
    },
    {
      "cell_type": "code",
      "source": [
        "grid_cv = GridSearchCV(estimator=RandomForestClassifier(oob_score=True, random_state=42),\n",
        "                       param_grid=params1, n_jobs=-1)"
      ],
      "metadata": {
        "id": "iIiPPyb4-mnB"
      },
      "execution_count": null,
      "outputs": []
    },
    {
      "cell_type": "code",
      "source": [
        "grid_cv.fit(X2_tr, y2_tr)"
      ],
      "metadata": {
        "colab": {
          "base_uri": "https://localhost:8080/"
        },
        "id": "GqVHu7Jw-5e1",
        "outputId": "510f2046-0bae-4494-f172-294fa2a2007b"
      },
      "execution_count": null,
      "outputs": [
        {
          "output_type": "execute_result",
          "data": {
            "text/plain": [
              "GridSearchCV(estimator=RandomForestClassifier(oob_score=True, random_state=42),\n",
              "             n_jobs=-1,\n",
              "             param_grid={'max_samples': array([0.1, 0.2, 0.3, 0.4, 0.5, 0.6, 0.7, 0.8, 0.9, 1. ]),\n",
              "                         'n_estimators': array([ 1,  2,  3,  4,  5,  6,  7,  8,  9, 10])})"
            ]
          },
          "metadata": {},
          "execution_count": 507
        }
      ]
    },
    {
      "cell_type": "code",
      "source": [
        "grid_cv.best_params_"
      ],
      "metadata": {
        "colab": {
          "base_uri": "https://localhost:8080/"
        },
        "id": "vZ-U3-wY-9_c",
        "outputId": "bfb2b3db-d1b5-4f51-e9a9-58c046d5a9cb"
      },
      "execution_count": null,
      "outputs": [
        {
          "output_type": "execute_result",
          "data": {
            "text/plain": [
              "{'max_samples': 0.2, 'n_estimators': 9}"
            ]
          },
          "metadata": {},
          "execution_count": 508
        }
      ]
    },
    {
      "cell_type": "code",
      "source": [
        "grid_cv.best_score_"
      ],
      "metadata": {
        "colab": {
          "base_uri": "https://localhost:8080/"
        },
        "id": "2JxBFZK5_DBB",
        "outputId": "ac147667-0ebe-45e1-9ebd-38f416118f7d"
      },
      "execution_count": null,
      "outputs": [
        {
          "output_type": "execute_result",
          "data": {
            "text/plain": [
              "0.956043956043956"
            ]
          },
          "metadata": {},
          "execution_count": 509
        }
      ]
    },
    {
      "cell_type": "code",
      "source": [
        "best_rf = grid_cv.best_estimator_\n",
        "best_rf"
      ],
      "metadata": {
        "colab": {
          "base_uri": "https://localhost:8080/"
        },
        "id": "uSClQ0q4_DSd",
        "outputId": "a0f8e616-cd45-49dc-ec83-e819f80e59a6"
      },
      "execution_count": null,
      "outputs": [
        {
          "output_type": "execute_result",
          "data": {
            "text/plain": [
              "RandomForestClassifier(max_samples=0.2, n_estimators=9, oob_score=True,\n",
              "                       random_state=42)"
            ]
          },
          "metadata": {},
          "execution_count": 510
        }
      ]
    },
    {
      "cell_type": "code",
      "source": [
        "print(\"Best Train Score :\", best_rf.score(X2_tr, y2_tr))\n",
        "print(\"Best Test Score :\", best_rf.score(X2_te, y2_te))"
      ],
      "metadata": {
        "colab": {
          "base_uri": "https://localhost:8080/"
        },
        "id": "BBBpkRZ9_E_n",
        "outputId": "891091d9-071c-4ad6-e334-b6fc285ec4f1"
      },
      "execution_count": null,
      "outputs": [
        {
          "output_type": "stream",
          "name": "stdout",
          "text": [
            "Best Train Score : 0.9538461538461539\n",
            "Best Test Score : 0.9298245614035088\n"
          ]
        }
      ]
    },
    {
      "cell_type": "code",
      "source": [
        "rand_cv = RandomizedSearchCV(estimator=RandomForestClassifier(oob_score=True, random_state=42),\n",
        "                             param_distributions=params_r1, # 파라미터들의 확률분포\n",
        "                             n_iter=100, # 파라미터 조합의 개수\n",
        "                             n_jobs=-1)"
      ],
      "metadata": {
        "id": "NgSx6xba_H_b"
      },
      "execution_count": null,
      "outputs": []
    },
    {
      "cell_type": "code",
      "source": [
        "rand_cv.fit(X2_tr, y2_tr)"
      ],
      "metadata": {
        "colab": {
          "base_uri": "https://localhost:8080/"
        },
        "id": "vypiiQIO_Ntk",
        "outputId": "a9113f45-ea31-4a86-8515-0cad0a96d975"
      },
      "execution_count": null,
      "outputs": [
        {
          "output_type": "execute_result",
          "data": {
            "text/plain": [
              "RandomizedSearchCV(estimator=RandomForestClassifier(oob_score=True,\n",
              "                                                    random_state=42),\n",
              "                   n_iter=100, n_jobs=-1,\n",
              "                   param_distributions={'max_samples': <scipy.stats._distn_infrastructure.rv_frozen object at 0x7fb3d8026c10>,\n",
              "                                        'n_estimators': <scipy.stats._distn_infrastructure.rv_frozen object at 0x7fb3d8026d10>})"
            ]
          },
          "metadata": {},
          "execution_count": 513
        }
      ]
    },
    {
      "cell_type": "code",
      "source": [
        "rand_cv.best_params_"
      ],
      "metadata": {
        "colab": {
          "base_uri": "https://localhost:8080/"
        },
        "id": "JmgjUz9G_QM-",
        "outputId": "a57e2fd1-6088-477a-b861-34bfa846343b"
      },
      "execution_count": null,
      "outputs": [
        {
          "output_type": "execute_result",
          "data": {
            "text/plain": [
              "{'max_samples': 0.06869184768070863, 'n_estimators': 10}"
            ]
          },
          "metadata": {},
          "execution_count": 514
        }
      ]
    },
    {
      "cell_type": "code",
      "source": [
        "rand_cv.best_score_"
      ],
      "metadata": {
        "colab": {
          "base_uri": "https://localhost:8080/"
        },
        "id": "wSu5NcYU_Sev",
        "outputId": "850d06c0-6d1a-41c7-995b-18d6a06e165c"
      },
      "execution_count": null,
      "outputs": [
        {
          "output_type": "execute_result",
          "data": {
            "text/plain": [
              "0.9428571428571428"
            ]
          },
          "metadata": {},
          "execution_count": 515
        }
      ]
    },
    {
      "cell_type": "code",
      "source": [
        "best_rf = rand_cv.best_estimator_\n",
        "best_rf"
      ],
      "metadata": {
        "colab": {
          "base_uri": "https://localhost:8080/"
        },
        "id": "DvPFdzEj_VO2",
        "outputId": "6ed62e53-8fa3-40b1-d048-8da627e27527"
      },
      "execution_count": null,
      "outputs": [
        {
          "output_type": "execute_result",
          "data": {
            "text/plain": [
              "RandomForestClassifier(max_samples=0.06869184768070863, n_estimators=10,\n",
              "                       oob_score=True, random_state=42)"
            ]
          },
          "metadata": {},
          "execution_count": 516
        }
      ]
    },
    {
      "cell_type": "code",
      "source": [
        "print(\"Best Train Score :\", best_rf.score(X2_tr, y2_tr))\n",
        "print(\"Best Test Score :\", best_rf.score(X2_te, y2_te))"
      ],
      "metadata": {
        "colab": {
          "base_uri": "https://localhost:8080/"
        },
        "id": "TRWID8TQ_Vgo",
        "outputId": "ffb65549-5993-4931-ff46-a170c47e8f8a"
      },
      "execution_count": null,
      "outputs": [
        {
          "output_type": "stream",
          "name": "stdout",
          "text": [
            "Best Train Score : 0.9406593406593406\n",
            "Best Test Score : 0.9385964912280702\n"
          ]
        }
      ]
    }
  ]
}