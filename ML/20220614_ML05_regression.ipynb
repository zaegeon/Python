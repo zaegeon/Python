{
  "nbformat": 4,
  "nbformat_minor": 0,
  "metadata": {
    "colab": {
      "name": "20220614_ML05_regression.ipynb",
      "provenance": [],
      "collapsed_sections": [],
      "toc_visible": true,
      "authorship_tag": "ABX9TyNLQSoY6eDB2w+y9vzxdQ/X",
      "include_colab_link": true
    },
    "kernelspec": {
      "name": "python3",
      "display_name": "Python 3"
    },
    "language_info": {
      "name": "python"
    }
  },
  "cells": [
    {
      "cell_type": "markdown",
      "metadata": {
        "id": "view-in-github",
        "colab_type": "text"
      },
      "source": [
        "<a href=\"https://colab.research.google.com/github/zaegeon/Python/blob/main/ML/20220614_ML05_regression.ipynb\" target=\"_parent\"><img src=\"https://colab.research.google.com/assets/colab-badge.svg\" alt=\"Open In Colab\"/></a>"
      ]
    },
    {
      "cell_type": "markdown",
      "source": [
        "* Machine Learning(기계 학습):\n",
        "    * 지도학습(Supervised learning) : 레이블이 있는 데이터를 학습.\n",
        "        * 분류(classification) : 클래스를 분류.\n",
        "        * 회귀(regression) : 숫자 예측.\n",
        "    * 비지도학습(Unsupervised learning) : 레이블이 없는 데이터를 학습.\n",
        "    * 준지도학습(Semi-supervised learning) : 비지도학습 + 전문가 시스템.\n",
        "    * 강화학습(Reinforcement learning) : 보상과 벌칙을 통해서 학습."
      ],
      "metadata": {
        "id": "reRa6OA_v69c"
      }
    },
    {
      "cell_type": "markdown",
      "source": [
        "# Objectives\n",
        "\n",
        "fish 데이터 셋에서 물고기의 무게(Weight) 예측.\n",
        "* Perch(농어)의 무게를 길이 특성만으로 예측.\n",
        "    * Weight(관심 변수, 종속 변수, 레이블) ~ Length(독립 변수, 특성)\n",
        "    * KNN, Linear Regression\n",
        "* Perch(농어)의 무게를 모든 특성들을 사용해서 예측.\n",
        "    * Weight ~ Length + Diagonal + Height + Width\n",
        "    * Linear Regression"
      ],
      "metadata": {
        "id": "n7EE9bQIxlnt"
      }
    },
    {
      "cell_type": "markdown",
      "source": [
        "# Imports"
      ],
      "metadata": {
        "id": "FrxKWSLgzLKe"
      }
    },
    {
      "cell_type": "code",
      "execution_count": 1,
      "metadata": {
        "id": "XmGb3zemv211"
      },
      "outputs": [],
      "source": [
        "import numpy as np\n",
        "import pandas as pd\n",
        "import matplotlib.pyplot as plt\n",
        "import seaborn as sns\n",
        "\n",
        "from sklearn.model_selection import train_test_split # 훈련 / 테스트 셋 분리\n",
        "from sklearn.preprocessing import StandardScaler # 특성 스케일링(표준화)\n",
        "from sklearn.preprocessing import PolynomialFeatures # 다차항을 추가해주는 변환기\n",
        "from sklearn.pipeline import Pipeline # Transformer(변환기)와 Estimator(예측기)를 연결해주는 \n",
        "from sklearn.neighbors import KNeighborsRegressor # KNN 알고리즘을 사용한 숫자 예측\n",
        "from sklearn.linear_model import LinearRegression # 선형 회귀를 사용한 숫자 예측\n",
        "from sklearn.metrics import mean_absolute_error, mean_squared_error, r2_score # 회귀 평가 지표들"
      ]
    },
    {
      "cell_type": "markdown",
      "source": [
        "# 데이터 준비"
      ],
      "metadata": {
        "id": "bk7ibXbH2tWm"
      }
    },
    {
      "cell_type": "code",
      "source": [
        "# fish 데이터 셋\n",
        "fish_csv = 'https://github.com/rickiepark/hg-mldl/raw/master/fish.csv'\n",
        "fish = pd.read_csv(fish_csv)"
      ],
      "metadata": {
        "id": "3Jl05m2D2vWt"
      },
      "execution_count": 2,
      "outputs": []
    },
    {
      "cell_type": "code",
      "source": [
        "# perch(농어) 데이터 셋\n",
        "perch = fish[fish.Species == 'Perch']"
      ],
      "metadata": {
        "id": "sjakoIjO3I5a"
      },
      "execution_count": 3,
      "outputs": []
    },
    {
      "cell_type": "code",
      "source": [
        "perch.head()"
      ],
      "metadata": {
        "colab": {
          "base_uri": "https://localhost:8080/",
          "height": 206
        },
        "id": "ScFmAo_g3fis",
        "outputId": "5277b24a-c559-4054-ee3a-892d82ae99f1"
      },
      "execution_count": 4,
      "outputs": [
        {
          "output_type": "execute_result",
          "data": {
            "text/plain": [
              "   Species  Weight  Length  Diagonal  Height   Width\n",
              "72   Perch     5.9     8.4       8.8  2.1120  1.4080\n",
              "73   Perch    32.0    13.7      14.7  3.5280  1.9992\n",
              "74   Perch    40.0    15.0      16.0  3.8240  2.4320\n",
              "75   Perch    51.5    16.2      17.2  4.5924  2.6316\n",
              "76   Perch    70.0    17.4      18.5  4.5880  2.9415"
            ],
            "text/html": [
              "\n",
              "  <div id=\"df-be33a4e4-5088-4372-9038-ff286129d3d2\">\n",
              "    <div class=\"colab-df-container\">\n",
              "      <div>\n",
              "<style scoped>\n",
              "    .dataframe tbody tr th:only-of-type {\n",
              "        vertical-align: middle;\n",
              "    }\n",
              "\n",
              "    .dataframe tbody tr th {\n",
              "        vertical-align: top;\n",
              "    }\n",
              "\n",
              "    .dataframe thead th {\n",
              "        text-align: right;\n",
              "    }\n",
              "</style>\n",
              "<table border=\"1\" class=\"dataframe\">\n",
              "  <thead>\n",
              "    <tr style=\"text-align: right;\">\n",
              "      <th></th>\n",
              "      <th>Species</th>\n",
              "      <th>Weight</th>\n",
              "      <th>Length</th>\n",
              "      <th>Diagonal</th>\n",
              "      <th>Height</th>\n",
              "      <th>Width</th>\n",
              "    </tr>\n",
              "  </thead>\n",
              "  <tbody>\n",
              "    <tr>\n",
              "      <th>72</th>\n",
              "      <td>Perch</td>\n",
              "      <td>5.9</td>\n",
              "      <td>8.4</td>\n",
              "      <td>8.8</td>\n",
              "      <td>2.1120</td>\n",
              "      <td>1.4080</td>\n",
              "    </tr>\n",
              "    <tr>\n",
              "      <th>73</th>\n",
              "      <td>Perch</td>\n",
              "      <td>32.0</td>\n",
              "      <td>13.7</td>\n",
              "      <td>14.7</td>\n",
              "      <td>3.5280</td>\n",
              "      <td>1.9992</td>\n",
              "    </tr>\n",
              "    <tr>\n",
              "      <th>74</th>\n",
              "      <td>Perch</td>\n",
              "      <td>40.0</td>\n",
              "      <td>15.0</td>\n",
              "      <td>16.0</td>\n",
              "      <td>3.8240</td>\n",
              "      <td>2.4320</td>\n",
              "    </tr>\n",
              "    <tr>\n",
              "      <th>75</th>\n",
              "      <td>Perch</td>\n",
              "      <td>51.5</td>\n",
              "      <td>16.2</td>\n",
              "      <td>17.2</td>\n",
              "      <td>4.5924</td>\n",
              "      <td>2.6316</td>\n",
              "    </tr>\n",
              "    <tr>\n",
              "      <th>76</th>\n",
              "      <td>Perch</td>\n",
              "      <td>70.0</td>\n",
              "      <td>17.4</td>\n",
              "      <td>18.5</td>\n",
              "      <td>4.5880</td>\n",
              "      <td>2.9415</td>\n",
              "    </tr>\n",
              "  </tbody>\n",
              "</table>\n",
              "</div>\n",
              "      <button class=\"colab-df-convert\" onclick=\"convertToInteractive('df-be33a4e4-5088-4372-9038-ff286129d3d2')\"\n",
              "              title=\"Convert this dataframe to an interactive table.\"\n",
              "              style=\"display:none;\">\n",
              "        \n",
              "  <svg xmlns=\"http://www.w3.org/2000/svg\" height=\"24px\"viewBox=\"0 0 24 24\"\n",
              "       width=\"24px\">\n",
              "    <path d=\"M0 0h24v24H0V0z\" fill=\"none\"/>\n",
              "    <path d=\"M18.56 5.44l.94 2.06.94-2.06 2.06-.94-2.06-.94-.94-2.06-.94 2.06-2.06.94zm-11 1L8.5 8.5l.94-2.06 2.06-.94-2.06-.94L8.5 2.5l-.94 2.06-2.06.94zm10 10l.94 2.06.94-2.06 2.06-.94-2.06-.94-.94-2.06-.94 2.06-2.06.94z\"/><path d=\"M17.41 7.96l-1.37-1.37c-.4-.4-.92-.59-1.43-.59-.52 0-1.04.2-1.43.59L10.3 9.45l-7.72 7.72c-.78.78-.78 2.05 0 2.83L4 21.41c.39.39.9.59 1.41.59.51 0 1.02-.2 1.41-.59l7.78-7.78 2.81-2.81c.8-.78.8-2.07 0-2.86zM5.41 20L4 18.59l7.72-7.72 1.47 1.35L5.41 20z\"/>\n",
              "  </svg>\n",
              "      </button>\n",
              "      \n",
              "  <style>\n",
              "    .colab-df-container {\n",
              "      display:flex;\n",
              "      flex-wrap:wrap;\n",
              "      gap: 12px;\n",
              "    }\n",
              "\n",
              "    .colab-df-convert {\n",
              "      background-color: #E8F0FE;\n",
              "      border: none;\n",
              "      border-radius: 50%;\n",
              "      cursor: pointer;\n",
              "      display: none;\n",
              "      fill: #1967D2;\n",
              "      height: 32px;\n",
              "      padding: 0 0 0 0;\n",
              "      width: 32px;\n",
              "    }\n",
              "\n",
              "    .colab-df-convert:hover {\n",
              "      background-color: #E2EBFA;\n",
              "      box-shadow: 0px 1px 2px rgba(60, 64, 67, 0.3), 0px 1px 3px 1px rgba(60, 64, 67, 0.15);\n",
              "      fill: #174EA6;\n",
              "    }\n",
              "\n",
              "    [theme=dark] .colab-df-convert {\n",
              "      background-color: #3B4455;\n",
              "      fill: #D2E3FC;\n",
              "    }\n",
              "\n",
              "    [theme=dark] .colab-df-convert:hover {\n",
              "      background-color: #434B5C;\n",
              "      box-shadow: 0px 1px 3px 1px rgba(0, 0, 0, 0.15);\n",
              "      filter: drop-shadow(0px 1px 2px rgba(0, 0, 0, 0.3));\n",
              "      fill: #FFFFFF;\n",
              "    }\n",
              "  </style>\n",
              "\n",
              "      <script>\n",
              "        const buttonEl =\n",
              "          document.querySelector('#df-be33a4e4-5088-4372-9038-ff286129d3d2 button.colab-df-convert');\n",
              "        buttonEl.style.display =\n",
              "          google.colab.kernel.accessAllowed ? 'block' : 'none';\n",
              "\n",
              "        async function convertToInteractive(key) {\n",
              "          const element = document.querySelector('#df-be33a4e4-5088-4372-9038-ff286129d3d2');\n",
              "          const dataTable =\n",
              "            await google.colab.kernel.invokeFunction('convertToInteractive',\n",
              "                                                     [key], {});\n",
              "          if (!dataTable) return;\n",
              "\n",
              "          const docLinkHtml = 'Like what you see? Visit the ' +\n",
              "            '<a target=\"_blank\" href=https://colab.research.google.com/notebooks/data_table.ipynb>data table notebook</a>'\n",
              "            + ' to learn more about interactive tables.';\n",
              "          element.innerHTML = '';\n",
              "          dataTable['output_type'] = 'display_data';\n",
              "          await google.colab.output.renderOutput(dataTable, element);\n",
              "          const docLink = document.createElement('div');\n",
              "          docLink.innerHTML = docLinkHtml;\n",
              "          element.appendChild(docLink);\n",
              "        }\n",
              "      </script>\n",
              "    </div>\n",
              "  </div>\n",
              "  "
            ]
          },
          "metadata": {},
          "execution_count": 4
        }
      ]
    },
    {
      "cell_type": "markdown",
      "source": [
        "농어의 무게(Weight)를 길이(Length)만으로 예측할 수 있을까?\n",
        "*  특성(feature), 독립 변수 : Length\n",
        "*  타겟(target), 레이블(label), 종속(관심) 변수 : Weight"
      ],
      "metadata": {
        "id": "Xx1I-uTE4B4C"
      }
    },
    {
      "cell_type": "code",
      "source": [
        "# X : 특성 (2차원) 배열 - 독립 변수, y : 타겟 (1차원) 배열 - 종속 변수\n",
        "X = perch[['Length']].values.copy() # (56, 1) shape의 2차원 배열\n",
        "y = perch['Weight'].values.copy() # (56,) shape의 1차원 배열"
      ],
      "metadata": {
        "id": "9UXkYoLi3wMM"
      },
      "execution_count": 5,
      "outputs": []
    },
    {
      "cell_type": "code",
      "source": [
        "X.shape, y.shape"
      ],
      "metadata": {
        "colab": {
          "base_uri": "https://localhost:8080/"
        },
        "id": "X6uWbHmk-y3X",
        "outputId": "366b5e42-675c-4a4b-cceb-97dd6932f5e4"
      },
      "execution_count": 6,
      "outputs": [
        {
          "output_type": "execute_result",
          "data": {
            "text/plain": [
              "((56, 1), (56,))"
            ]
          },
          "metadata": {},
          "execution_count": 6
        }
      ]
    },
    {
      "cell_type": "markdown",
      "source": [
        "# Train / Test Split"
      ],
      "metadata": {
        "id": "TF9Ttby1-7Gr"
      }
    },
    {
      "cell_type": "code",
      "source": [
        "X_tr, X_te, y_tr, y_te = train_test_split(X, y,\n",
        "                                          test_size=0.25,\n",
        "                                          random_state=42)"
      ],
      "metadata": {
        "id": "pXZspJ1S-2PT"
      },
      "execution_count": 7,
      "outputs": []
    },
    {
      "cell_type": "code",
      "source": [
        "X_tr.shape, X_te.shape, y_tr.shape, y_te.shape"
      ],
      "metadata": {
        "colab": {
          "base_uri": "https://localhost:8080/"
        },
        "id": "C9OJkt9K_X7K",
        "outputId": "6af269f8-1b22-4fe6-bf0c-41af177801eb"
      },
      "execution_count": 8,
      "outputs": [
        {
          "output_type": "execute_result",
          "data": {
            "text/plain": [
              "((42, 1), (14, 1), (42,), (14,))"
            ]
          },
          "metadata": {},
          "execution_count": 8
        }
      ]
    },
    {
      "cell_type": "code",
      "source": [
        "# Weight ~ Length 시각화. 훈련 셋 / 테스트 셋의 색깔을 다르게.\n",
        "plt.scatter(X_tr, y_tr, label='Train', color='red', alpha=0.5)\n",
        "plt.scatter(X_te, y_te, label='Test', color='blue', alpha=0.5)\n",
        "\n",
        "plt.legend()\n",
        "plt.grid()\n",
        "plt.xlabel('Length (cm)')\n",
        "plt.ylabel('Weight (g)')\n",
        "plt.title('Perch')\n",
        "plt.show()"
      ],
      "metadata": {
        "colab": {
          "base_uri": "https://localhost:8080/",
          "height": 295
        },
        "id": "OVtAjKZx_23b",
        "outputId": "17cdaf0d-9768-45b2-ffb8-c9eb9fb70628"
      },
      "execution_count": 9,
      "outputs": [
        {
          "output_type": "display_data",
          "data": {
            "text/plain": [
              "<Figure size 432x288 with 1 Axes>"
            ],
            "image/png": "[encoded data removed]"
          },
          "metadata": {
            "needs_background": "light"
          }
        }
      ]
    },
    {
      "cell_type": "markdown",
      "source": [
        "# KNN Regressor Model 훈련, 평가"
      ],
      "metadata": {
        "id": "llX6is5rBXqI"
      }
    },
    {
      "cell_type": "markdown",
      "source": [
        "KNN(k-Nearest Neighbors) Regressor : 가장 가까운 k개의 이웃들의 레이블(타겟)의 평균값으로 숫자를 예측하는 모델."
      ],
      "metadata": {
        "id": "KNDjSZghCeD3"
      }
    },
    {
      "cell_type": "code",
      "source": [
        "knn_reg = KNeighborsRegressor() # k=5인 KNN 회귀 모델을 생성"
      ],
      "metadata": {
        "id": "M8U1Xkv7BYiO"
      },
      "execution_count": 10,
      "outputs": []
    },
    {
      "cell_type": "code",
      "source": [
        "knn_reg.fit(X_tr, y_tr) # 모델 훈련"
      ],
      "metadata": {
        "colab": {
          "base_uri": "https://localhost:8080/"
        },
        "id": "Q9FAlfJYC_QP",
        "outputId": "f62c1094-4f4d-4a9a-93d6-7a547689a31e"
      },
      "execution_count": 11,
      "outputs": [
        {
          "output_type": "execute_result",
          "data": {
            "text/plain": [
              "KNeighborsRegressor()"
            ]
          },
          "metadata": {},
          "execution_count": 11
        }
      ]
    },
    {
      "cell_type": "code",
      "source": [
        "tr_pred = knn_reg.predict(X_tr) # 훈련 셋 예측값 - 훈련 셋 농어의 무게\n",
        "tr_pred"
      ],
      "metadata": {
        "colab": {
          "base_uri": "https://localhost:8080/"
        },
        "id": "g4uAvoCtDiGc",
        "outputId": "08e3b235-0a3f-4d0f-9bb1-97ceb3cf0f0f"
      },
      "execution_count": 12,
      "outputs": [
        {
          "output_type": "execute_result",
          "data": {
            "text/plain": [
              "array([  88.6,  123. ,   79.6,   70.6,  723. ,  193. ,  847. ,  847. ,\n",
              "       1010. ,  123. ,   95. ,  123. ,  174. ,  248. , 1010. ,  847. ,\n",
              "        174. ,  113. ,  248. ,  847. ,  659. ,  224. ,  723. ,   60. ,\n",
              "        140. ,   60. ,  719. ,  694.2,  248. ,  167. ,  847. ,  113. ,\n",
              "        168. ,  123. , 1010. ,  136. ,   79.6,  719. ,  123. ,  193. ,\n",
              "        990. ,  659. ])"
            ]
          },
          "metadata": {},
          "execution_count": 12
        }
      ]
    },
    {
      "cell_type": "code",
      "source": [
        "y_tr"
      ],
      "metadata": {
        "colab": {
          "base_uri": "https://localhost:8080/"
        },
        "id": "HW6lAksUZXNo",
        "outputId": "033d7689-0f8e-4d76-9c65-809f9ee9ca2d"
      },
      "execution_count": 13,
      "outputs": [
        {
          "output_type": "execute_result",
          "data": {
            "text/plain": [
              "array([  85.,  135.,   78.,   70.,  700.,  180.,  850.,  820., 1000.,\n",
              "        120.,   85.,  130.,  225.,  260., 1100.,  900.,  145.,  115.,\n",
              "        265., 1015.,  514.,  218.,  685.,   32.,  145.,   40.,  690.,\n",
              "        840.,  300.,  170.,  650.,  110.,  150.,  110., 1000.,  150.,\n",
              "         80.,  700.,  120.,  197., 1100.,  556.])"
            ]
          },
          "metadata": {},
          "execution_count": 13
        }
      ]
    },
    {
      "cell_type": "code",
      "source": [
        "# 0번 훈련 셋 샘플의 가장 가까운 이웃 5개\n",
        "neighbor_index = knn_reg.kneighbors(X_tr[0].reshape((1, -1)), return_distance=False)\n",
        "neighbor_index"
      ],
      "metadata": {
        "colab": {
          "base_uri": "https://localhost:8080/"
        },
        "id": "O_uTr7OQFCuF",
        "outputId": "e3133df0-f322-4617-8ff1-fc73f9c2d97d"
      },
      "execution_count": 88,
      "outputs": [
        {
          "output_type": "execute_result",
          "data": {
            "text/plain": [
              "array([[ 0, 10, 36,  2, 31]])"
            ]
          },
          "metadata": {},
          "execution_count": 88
        }
      ]
    },
    {
      "cell_type": "code",
      "source": [
        "y_tr[neighbor_index[0]].mean()"
      ],
      "metadata": {
        "colab": {
          "base_uri": "https://localhost:8080/"
        },
        "id": "QCOudV1zFy7k",
        "outputId": "3dd143c3-033c-431b-e5d8-ad44052ee6f7"
      },
      "execution_count": 15,
      "outputs": [
        {
          "output_type": "execute_result",
          "data": {
            "text/plain": [
              "88.6"
            ]
          },
          "metadata": {},
          "execution_count": 15
        }
      ]
    },
    {
      "cell_type": "code",
      "source": [
        "# 테스트 셋의 예측값\n",
        "te_pred = knn_reg.predict(X_te)\n",
        "te_pred"
      ],
      "metadata": {
        "colab": {
          "base_uri": "https://localhost:8080/"
        },
        "id": "uSqVMU8vGg7-",
        "outputId": "c4bad861-01d4-4612-8bb6-ba076cf65c39"
      },
      "execution_count": 16,
      "outputs": [
        {
          "output_type": "execute_result",
          "data": {
            "text/plain": [
              "array([  60. ,   79.6,  248. ,  122. ,  136. ,  847. ,  311.4,  183.4,\n",
              "        847. ,  113. , 1010. ,   60. ,  248. ,  248. ])"
            ]
          },
          "metadata": {},
          "execution_count": 16
        }
      ]
    },
    {
      "cell_type": "code",
      "source": [
        "# 테스트 셋의 실젯값\n",
        "y_te"
      ],
      "metadata": {
        "colab": {
          "base_uri": "https://localhost:8080/"
        },
        "id": "1dg9_blOZl3b",
        "outputId": "3f13dbbc-1399-4cae-a8e2-972c2ad89d72"
      },
      "execution_count": 17,
      "outputs": [
        {
          "output_type": "execute_result",
          "data": {
            "text/plain": [
              "array([   5.9,  100. ,  250. ,  130. ,  130. ,  820. ,  320. ,  188. ,\n",
              "        900. ,  125. , 1000. ,   51.5,  250. ,  300. ])"
            ]
          },
          "metadata": {},
          "execution_count": 17
        }
      ]
    },
    {
      "cell_type": "code",
      "source": [
        "neighbor_index = knn_reg.kneighbors(X_te[0].reshape((1, -1)), return_distance=False)\n",
        "neighbor_index"
      ],
      "metadata": {
        "colab": {
          "base_uri": "https://localhost:8080/"
        },
        "id": "9s1Y52fxGmCx",
        "outputId": "da64c9bd-06fe-446c-88be-fdf6b54d3d86"
      },
      "execution_count": 18,
      "outputs": [
        {
          "output_type": "execute_result",
          "data": {
            "text/plain": [
              "array([[23, 25,  3,  2, 36]])"
            ]
          },
          "metadata": {},
          "execution_count": 18
        }
      ]
    },
    {
      "cell_type": "markdown",
      "source": [
        "# 회귀 모델 평가 지표"
      ],
      "metadata": {
        "id": "CAywbsTRLuVb"
      }
    },
    {
      "cell_type": "markdown",
      "source": [
        "*  MSE(Mean Squared Errors) : 오차들의 제곱의 평균\n",
        "*  RMSE(Root Mean Squared Errors) : MSE의 제곱근\n",
        "*  MAE(Mean Absolute Errors) : 오차들의 절댓값의 평균\n",
        "*  MSE, RMSE, MAE는 값이 작을 수록 좋은 점수, 더 성능이 좋은(오차가 작은) 회귀 모델.\n",
        "    * 평가 지표는 일반적으로 값이 클 수록 좋은 점수, 값이 작을 수록 나쁜 점수.\n",
        "    * 회귀에서도 오차가 작을 수록 값이 커지고, 오차가 커질 수록 값이 작아지는 평가지표를 개발 → R2 Score"
      ],
      "metadata": {
        "id": "v7G4IfdzLxPU"
      }
    },
    {
      "cell_type": "code",
      "source": [
        "# 훈련 셋의 MSE\n",
        "mean_squared_error(y_tr, tr_pred)"
      ],
      "metadata": {
        "colab": {
          "base_uri": "https://localhost:8080/"
        },
        "id": "Zuue6chrLwXx",
        "outputId": "78a52f9a-38b6-47b8-a974-efdb4894e177"
      },
      "execution_count": 19,
      "outputs": [
        {
          "output_type": "execute_result",
          "data": {
            "text/plain": [
              "3716.5161904761903"
            ]
          },
          "metadata": {},
          "execution_count": 19
        }
      ]
    },
    {
      "cell_type": "code",
      "source": [
        "# 훈련 셋의 RMSE\n",
        "np.sqrt(mean_squared_error(y_tr, tr_pred))"
      ],
      "metadata": {
        "colab": {
          "base_uri": "https://localhost:8080/"
        },
        "id": "e2Pv4JpBOa6K",
        "outputId": "01938220-7cf6-4e5a-d28e-4faf79029d0c"
      },
      "execution_count": 20,
      "outputs": [
        {
          "output_type": "execute_result",
          "data": {
            "text/plain": [
              "60.96323638453089"
            ]
          },
          "metadata": {},
          "execution_count": 20
        }
      ]
    },
    {
      "cell_type": "code",
      "source": [
        "# R2 score - 오차가 전혀 없는 경우 1. 오차가 있으면 1보다 작아짐.\n",
        "r2_score(y_tr, tr_pred)"
      ],
      "metadata": {
        "colab": {
          "base_uri": "https://localhost:8080/"
        },
        "id": "n9eWfHU6OlCk",
        "outputId": "2716046a-e0fc-40ef-d921-8341e378fffd"
      },
      "execution_count": 21,
      "outputs": [
        {
          "output_type": "execute_result",
          "data": {
            "text/plain": [
              "0.9698823289099254"
            ]
          },
          "metadata": {},
          "execution_count": 21
        }
      ]
    },
    {
      "cell_type": "code",
      "source": [
        "knn_reg.score(X_tr, y_tr) # 회귀 모델의 score() 메서드는 r2-score를 계산함."
      ],
      "metadata": {
        "colab": {
          "base_uri": "https://localhost:8080/"
        },
        "id": "YSKf6ULeO4nP",
        "outputId": "894fd9ff-90c3-48a5-c076-1520b1dcfa0d"
      },
      "execution_count": 22,
      "outputs": [
        {
          "output_type": "execute_result",
          "data": {
            "text/plain": [
              "0.9698823289099254"
            ]
          },
          "metadata": {},
          "execution_count": 22
        }
      ]
    },
    {
      "cell_type": "code",
      "source": [
        "# 테스트 셋 MSE\n",
        "mean_squared_error(y_te, te_pred)"
      ],
      "metadata": {
        "colab": {
          "base_uri": "https://localhost:8080/"
        },
        "id": "VrZu0793QTGJ",
        "outputId": "1a6d29d4-7dba-4f09-853f-ee7f76a7d5de"
      },
      "execution_count": 23,
      "outputs": [
        {
          "output_type": "execute_result",
          "data": {
            "text/plain": [
              "721.7385714285714"
            ]
          },
          "metadata": {},
          "execution_count": 23
        }
      ]
    },
    {
      "cell_type": "code",
      "source": [
        "# 테스트 셋 RMSE\n",
        "np.sqrt(mean_squared_error(y_te, te_pred))"
      ],
      "metadata": {
        "colab": {
          "base_uri": "https://localhost:8080/"
        },
        "id": "VnhRBabsQvKx",
        "outputId": "38683a26-8132-48ff-b110-4a7de05bfb82"
      },
      "execution_count": 24,
      "outputs": [
        {
          "output_type": "execute_result",
          "data": {
            "text/plain": [
              "26.865192562655704"
            ]
          },
          "metadata": {},
          "execution_count": 24
        }
      ]
    },
    {
      "cell_type": "code",
      "source": [
        "# 테스트 셋 R2 score\n",
        "r2_score(y_te, te_pred)"
      ],
      "metadata": {
        "colab": {
          "base_uri": "https://localhost:8080/"
        },
        "id": "zsaGS_g5Q0K4",
        "outputId": "f17d20bb-f971-484f-e78a-df5543a47c6b"
      },
      "execution_count": 25,
      "outputs": [
        {
          "output_type": "execute_result",
          "data": {
            "text/plain": [
              "0.992809406101064"
            ]
          },
          "metadata": {},
          "execution_count": 25
        }
      ]
    },
    {
      "cell_type": "code",
      "source": [
        "knn_reg.score(X_te, y_te)"
      ],
      "metadata": {
        "colab": {
          "base_uri": "https://localhost:8080/"
        },
        "id": "EE_t-__g8EuS",
        "outputId": "b830c79b-e2f1-4faa-f391-063a4b9c5dac"
      },
      "execution_count": 26,
      "outputs": [
        {
          "output_type": "execute_result",
          "data": {
            "text/plain": [
              "0.992809406101064"
            ]
          },
          "metadata": {},
          "execution_count": 26
        }
      ]
    },
    {
      "cell_type": "markdown",
      "source": [
        "* $y_{i}$ : $i$번째 샘플의 실제값(label)\n",
        "* $\\hat{y_{i}}$ : $i$번째 샘플의 예측값\n",
        "* $\\bar{y}$ : 타겟의 평균값\n",
        "* $n$ : 샘플 개수\n",
        "\n",
        "* MAE(Mean Absolute Errors)\n",
        "\n",
        "$$ MAE = \\frac{1}{n} \\sum^{n}_{i=1} |y_i - \\hat{y_i}| $$\n",
        "\n",
        "* MSE(Mean Squared Errors)\n",
        "\n",
        "$$ MSE = \\frac{1}{n} \\sum^{n}_{i=1} (y_i - \\hat{y_i})^2 $$\n",
        "\n",
        "* RMSE(Root Mean Squared Errors)\n",
        "\n",
        "$$ RMSE = \\sqrt{\\frac{1}{n} \\sum^{n}_{i=1} (y_i - \\hat{y_i})^2} $$\n",
        "\n",
        "* $R^2$ score(Coefficient of determinant, 결정 계수)\n",
        "$$ R^2 = 1 - \\frac{\\sum^{n}_{i=1}(y_i - \\hat{y_i})^2}{\\sum^{n}_{i=1}(y_i - \\bar {y})^2} $$\n",
        "\n",
        "    *   결정 계수는 최댓값이 1이 되도록 만든 평가 지표.\n",
        "    *   모델이 타겟을 오차없이 정확하게 예측하면, 실제값 - 예측값 = 0 이므로, 결정 계수는 최댓값 1이 됨.\n",
        "    *   모델이 타겟을 매우 비슷하게 예측하면, 오차가 매우 작으면 분자가 0에 가까운 값이 되므로, 결정 계수는 1보다는 작지만 1에 가까운 값이 됨.\n",
        "    *   모델이 타겟의 평균으로만 예측하는 정도라면, (분자) = (분모) 이므로, 결정 계수는 0이 됨.\n",
        "    *   모델이 타겟의 평균 정도도 예측하지 못하면(오차가 매우 크면), (분자) > (분모)일 수 있고, 그런 경우 결정 계수는 음수가 될 수 있음."
      ],
      "metadata": {
        "id": "O6-yQIvjWrVr"
      }
    },
    {
      "cell_type": "markdown",
      "source": [
        "# KNN Regressor 문제점"
      ],
      "metadata": {
        "id": "-QgrkG62DHVp"
      }
    },
    {
      "cell_type": "code",
      "source": [
        "# 훈련 셋 시각화\n",
        "plt.scatter(X_tr, y_tr, alpha=0.5)\n",
        "\n",
        "# 가상의 물고기(농어) : 길이 50cm, 무게 1500g\n",
        "plt.scatter(50, 1500, color='red', marker='v')\n",
        "\n",
        "plt.xlabel('Length (cm)')\n",
        "plt.ylabel('Weight (g)')\n",
        "plt.grid()\n",
        "plt.show()"
      ],
      "metadata": {
        "colab": {
          "base_uri": "https://localhost:8080/",
          "height": 279
        },
        "id": "83lNJvmDDJG5",
        "outputId": "61304546-2d6b-4ac3-c9f3-58dcd9655068"
      },
      "execution_count": 27,
      "outputs": [
        {
          "output_type": "display_data",
          "data": {
            "text/plain": [
              "<Figure size 432x288 with 1 Axes>"
            ],
            "image/png": "[encoded data removed]"
          },
          "metadata": {
            "needs_background": "light"
          }
        }
      ]
    },
    {
      "cell_type": "markdown",
      "source": [
        "그림에서 알 수 있듯이, 훈련 데이터(농어 길이)의 최댓값 또는 최솟값에서 많이 벗어난 테스트 셋인 경우(outlier), 예측값을 가까운 이웃들의 평균값으로만 예측하기 때문에 그 평균값이 실제값과는 많이 다를 수 있음(오차가 클 수 있음)."
      ],
      "metadata": {
        "id": "mJ3_AVLhEw_h"
      }
    },
    {
      "cell_type": "code",
      "source": [
        "# 길이 50cm인 가상의 물고기의 무게 예측값\n",
        "prediction = knn_reg.predict([[50]])\n",
        "prediction"
      ],
      "metadata": {
        "colab": {
          "base_uri": "https://localhost:8080/"
        },
        "id": "zm4e-r_SFLE1",
        "outputId": "54f4ee23-2449-4ff2-94e5-fd87d3ae34bb"
      },
      "execution_count": 28,
      "outputs": [
        {
          "output_type": "execute_result",
          "data": {
            "text/plain": [
              "array([1010.])"
            ]
          },
          "metadata": {},
          "execution_count": 28
        }
      ]
    },
    {
      "cell_type": "code",
      "source": [
        "index = knn_reg.kneighbors([[50]], return_distance=False)\n",
        "index # 50cm 물고기에서 가장 가까운 훈련셋 샘플 5개의 인덱스"
      ],
      "metadata": {
        "colab": {
          "base_uri": "https://localhost:8080/"
        },
        "id": "2BKH7E-mFqzg",
        "outputId": "7f6d8c8f-0243-46dc-c038-20916ff3ba71"
      },
      "execution_count": 29,
      "outputs": [
        {
          "output_type": "execute_result",
          "data": {
            "text/plain": [
              "array([[34, 14,  8, 40,  6]])"
            ]
          },
          "metadata": {},
          "execution_count": 29
        }
      ]
    },
    {
      "cell_type": "code",
      "source": [
        "y_tr[index[0]]"
      ],
      "metadata": {
        "colab": {
          "base_uri": "https://localhost:8080/"
        },
        "id": "LlFXGVJ9GTLU",
        "outputId": "cc6ead70-c75c-4093-9fb0-c42162363e36"
      },
      "execution_count": 30,
      "outputs": [
        {
          "output_type": "execute_result",
          "data": {
            "text/plain": [
              "array([1000., 1100., 1000., 1100.,  850.])"
            ]
          },
          "metadata": {},
          "execution_count": 30
        }
      ]
    },
    {
      "cell_type": "code",
      "source": [
        "y_tr[index[0]].mean() # 50cm 물고기의 무게 예측값"
      ],
      "metadata": {
        "colab": {
          "base_uri": "https://localhost:8080/"
        },
        "id": "IaQfPsGEGq0T",
        "outputId": "e82dff10-8816-4eef-e14a-9562c60a34d1"
      },
      "execution_count": 31,
      "outputs": [
        {
          "output_type": "execute_result",
          "data": {
            "text/plain": [
              "1010.0"
            ]
          },
          "metadata": {},
          "execution_count": 31
        }
      ]
    },
    {
      "cell_type": "markdown",
      "source": [
        "머신 러닝 알고리즘 :\n",
        "\n",
        "*  사례 기반 학습(instance-based learning) : KNN(k-Nearest Neighbors), ...\n",
        "    * 수학적인 모델을 만들지 않고 훈련 셋 데이터의 특징들을 사용해서 예측.\n",
        "    * outlier들이 많은 경우에는 성능이 떨어질 수 있음.\n",
        "*  모델 기반 학습(model-based learning) : Linear Regression, ...\n",
        "    * 훈련 셋을 사용해서 수학적인 모델을 만들고 그 수학적인 모델로 예측값을 계산."
      ],
      "metadata": {
        "id": "LhksT_KqHLen"
      }
    },
    {
      "cell_type": "markdown",
      "source": [
        "# Linear Regression"
      ],
      "metadata": {
        "id": "P7TKtZvtIfpu"
      }
    },
    {
      "cell_type": "code",
      "source": [
        "lin_reg = LinearRegression() # 선형 회귀 머신 러닝 모델 생성"
      ],
      "metadata": {
        "id": "rrG0MI_PGuxn"
      },
      "execution_count": 32,
      "outputs": []
    },
    {
      "cell_type": "code",
      "source": [
        "lin_reg.fit(X_tr, y_tr) # 모델 학습(훈련) : y = ax + b 방정식의 계수(a, b)를 찾음."
      ],
      "metadata": {
        "colab": {
          "base_uri": "https://localhost:8080/"
        },
        "id": "3Nu4KjEPI8ga",
        "outputId": "d92725f5-694a-4562-b235-46c8d988d8a5"
      },
      "execution_count": 33,
      "outputs": [
        {
          "output_type": "execute_result",
          "data": {
            "text/plain": [
              "LinearRegression()"
            ]
          },
          "metadata": {},
          "execution_count": 33
        }
      ]
    },
    {
      "cell_type": "code",
      "source": [
        "# 선형 회귀 모델 학습 결과 (1) : 직선의 기울기. y=ax+b에서 a.\n",
        "lin_reg.coef_"
      ],
      "metadata": {
        "colab": {
          "base_uri": "https://localhost:8080/"
        },
        "id": "4V127aD6JfAz",
        "outputId": "6fb62260-37af-476e-f25c-b64db7098af7"
      },
      "execution_count": 34,
      "outputs": [
        {
          "output_type": "execute_result",
          "data": {
            "text/plain": [
              "array([39.01714496])"
            ]
          },
          "metadata": {},
          "execution_count": 34
        }
      ]
    },
    {
      "cell_type": "code",
      "source": [
        "# 선형 회귀 모델 학습 결과 (2) : 직선의 y절편. y=ax+b에서 b.\n",
        "lin_reg.intercept_"
      ],
      "metadata": {
        "colab": {
          "base_uri": "https://localhost:8080/"
        },
        "id": "wmbBmajsJ1EO",
        "outputId": "bd9d5e22-f987-4a1a-be17-5a81bb867ae0"
      },
      "execution_count": 35,
      "outputs": [
        {
          "output_type": "execute_result",
          "data": {
            "text/plain": [
              "-709.0186449535477"
            ]
          },
          "metadata": {},
          "execution_count": 35
        }
      ]
    },
    {
      "cell_type": "code",
      "source": [
        "39 * 50 - 709 # 50cm 물고기의 무게 예측값"
      ],
      "metadata": {
        "colab": {
          "base_uri": "https://localhost:8080/"
        },
        "id": "eQ0Nbja2KFlM",
        "outputId": "1599829c-c1fb-4566-81f3-1efdd29f1686"
      },
      "execution_count": 36,
      "outputs": [
        {
          "output_type": "execute_result",
          "data": {
            "text/plain": [
              "1241"
            ]
          },
          "metadata": {},
          "execution_count": 36
        }
      ]
    },
    {
      "cell_type": "code",
      "source": [
        "# 훈련 셋의 예측값\n",
        "tr_pred = lin_reg.predict(X_tr)\n",
        "tr_pred[:4]"
      ],
      "metadata": {
        "colab": {
          "base_uri": "https://localhost:8080/"
        },
        "id": "mq7C-wghK3Zj",
        "outputId": "e7be1280-e664-43d3-a257-e87b9802e6f7"
      },
      "execution_count": 37,
      "outputs": [
        {
          "output_type": "execute_result",
          "data": {
            "text/plain": [
              "array([ 55.71739633, 149.35854425,  20.60196587, -30.12032259])"
            ]
          },
          "metadata": {},
          "execution_count": 37
        }
      ]
    },
    {
      "cell_type": "code",
      "source": [
        "y_tr[:4]"
      ],
      "metadata": {
        "colab": {
          "base_uri": "https://localhost:8080/"
        },
        "id": "VFi_LiHELDkl",
        "outputId": "12ddf37f-e12a-4401-8f3d-7715f0ed55ec"
      },
      "execution_count": 38,
      "outputs": [
        {
          "output_type": "execute_result",
          "data": {
            "text/plain": [
              "array([ 85., 135.,  78.,  70.])"
            ]
          },
          "metadata": {},
          "execution_count": 38
        }
      ]
    },
    {
      "cell_type": "code",
      "source": [
        "mean_squared_error(y_tr, tr_pred) # KNN보다 오차가 더 큼."
      ],
      "metadata": {
        "colab": {
          "base_uri": "https://localhost:8080/"
        },
        "id": "4FvjPt0uLcBt",
        "outputId": "d744c4bb-d022-4951-f9e7-f7cfa97cf39c"
      },
      "execution_count": 39,
      "outputs": [
        {
          "output_type": "execute_result",
          "data": {
            "text/plain": [
              "7422.953552609781"
            ]
          },
          "metadata": {},
          "execution_count": 39
        }
      ]
    },
    {
      "cell_type": "code",
      "source": [
        "r2_score(y_tr, tr_pred)"
      ],
      "metadata": {
        "colab": {
          "base_uri": "https://localhost:8080/"
        },
        "id": "BvSfsSJULh8V",
        "outputId": "feb32ddd-7031-487c-e64c-76928c94dd7a"
      },
      "execution_count": 40,
      "outputs": [
        {
          "output_type": "execute_result",
          "data": {
            "text/plain": [
              "0.939846333997604"
            ]
          },
          "metadata": {},
          "execution_count": 40
        }
      ]
    },
    {
      "cell_type": "code",
      "source": [
        "lin_reg.score(X_tr, y_tr)"
      ],
      "metadata": {
        "colab": {
          "base_uri": "https://localhost:8080/"
        },
        "id": "EU64_Fv7Lojs",
        "outputId": "3f31a5b8-2b98-4cc9-ad9c-77d88319c9f5"
      },
      "execution_count": 41,
      "outputs": [
        {
          "output_type": "execute_result",
          "data": {
            "text/plain": [
              "0.939846333997604"
            ]
          },
          "metadata": {},
          "execution_count": 41
        }
      ]
    },
    {
      "cell_type": "code",
      "source": [
        "te_pred = lin_reg.predict(X_te) # 테스트 셋 예측값\n",
        "te_pred"
      ],
      "metadata": {
        "colab": {
          "base_uri": "https://localhost:8080/"
        },
        "id": "m2NWStC9P9NV",
        "outputId": "c2f12518-1cf1-4048-e003-14bc13c514be"
      },
      "execution_count": 42,
      "outputs": [
        {
          "output_type": "execute_result",
          "data": {
            "text/plain": [
              "array([-381.27462726,   -6.71003561,  363.95284155,  122.04654277,\n",
              "        168.86711673,  851.66715359,  461.49570396,  250.80312115,\n",
              "        812.65000863,  110.34139928,  988.22716096,  -76.94089654,\n",
              "        383.46141403,  356.14941255])"
            ]
          },
          "metadata": {},
          "execution_count": 42
        }
      ]
    },
    {
      "cell_type": "code",
      "source": [
        "y_te # 테스트 셋 실제값"
      ],
      "metadata": {
        "colab": {
          "base_uri": "https://localhost:8080/"
        },
        "id": "RskRLN4QQBv7",
        "outputId": "c3c0ed28-cf49-4a72-89b2-b948d81e44fa"
      },
      "execution_count": 43,
      "outputs": [
        {
          "output_type": "execute_result",
          "data": {
            "text/plain": [
              "array([   5.9,  100. ,  250. ,  130. ,  130. ,  820. ,  320. ,  188. ,\n",
              "        900. ,  125. , 1000. ,   51.5,  250. ,  300. ])"
            ]
          },
          "metadata": {},
          "execution_count": 43
        }
      ]
    },
    {
      "cell_type": "code",
      "source": [
        "r2_score(y_te, te_pred) # KNN 결과보다 나쁨"
      ],
      "metadata": {
        "colab": {
          "base_uri": "https://localhost:8080/"
        },
        "id": "wQQ_BRgmQDSC",
        "outputId": "9f822451-ba4a-4451-d4ea-7ac714c06b79"
      },
      "execution_count": 44,
      "outputs": [
        {
          "output_type": "execute_result",
          "data": {
            "text/plain": [
              "0.8247503123313558"
            ]
          },
          "metadata": {},
          "execution_count": 44
        }
      ]
    },
    {
      "cell_type": "code",
      "source": [
        "# 훈련 셋 산점도\n",
        "plt.scatter(X_tr, y_tr, alpha=0.5)\n",
        "\n",
        "# y = ax + b : 선형 회귀식(직선의 방정식) - 선 그래프\n",
        "a = lin_reg.coef_[0] # 직선의 기울기\n",
        "b = lin_reg.intercept_ # 직선의 y절편\n",
        "x = np.arange(10, 51, 0.001)\n",
        "y = a * x + b\n",
        "plt.plot(x, y, 'r-')\n",
        "\n",
        "plt.xlabel('Length (cm)')\n",
        "plt.ylabel('Weight (g)')\n",
        "plt.grid()\n",
        "plt.show()"
      ],
      "metadata": {
        "colab": {
          "base_uri": "https://localhost:8080/",
          "height": 279
        },
        "id": "Um-UGStvQhIS",
        "outputId": "5d62040d-27d2-47eb-ed70-ab268af0a192"
      },
      "execution_count": 45,
      "outputs": [
        {
          "output_type": "display_data",
          "data": {
            "text/plain": [
              "<Figure size 432x288 with 1 Axes>"
            ],
            "image/png": "[encoded data removed]"
          },
          "metadata": {
            "needs_background": "light"
          }
        }
      ]
    },
    {
      "cell_type": "code",
      "source": [
        "Xb = np.c_[X_tr, np.ones(len(X_tr))]"
      ],
      "metadata": {
        "id": "jQUjAMG3UiPp"
      },
      "execution_count": 46,
      "outputs": []
    },
    {
      "cell_type": "code",
      "source": [
        "Xb.shape"
      ],
      "metadata": {
        "colab": {
          "base_uri": "https://localhost:8080/"
        },
        "id": "MsKU9D3DUsdr",
        "outputId": "1f97b67c-8926-4ddc-fd87-3ecd956c7883"
      },
      "execution_count": 47,
      "outputs": [
        {
          "output_type": "execute_result",
          "data": {
            "text/plain": [
              "(42, 2)"
            ]
          },
          "metadata": {},
          "execution_count": 47
        }
      ]
    },
    {
      "cell_type": "code",
      "source": [
        "Xb[:5]"
      ],
      "metadata": {
        "colab": {
          "base_uri": "https://localhost:8080/"
        },
        "id": "SHRIrwS3VEwt",
        "outputId": "d09ab98e-7244-4350-ca6e-c3eff578796b"
      },
      "execution_count": 48,
      "outputs": [
        {
          "output_type": "execute_result",
          "data": {
            "text/plain": [
              "array([[19.6,  1. ],\n",
              "       [22. ,  1. ],\n",
              "       [18.7,  1. ],\n",
              "       [17.4,  1. ],\n",
              "       [36. ,  1. ]])"
            ]
          },
          "metadata": {},
          "execution_count": 48
        }
      ]
    },
    {
      "cell_type": "code",
      "source": [
        "Xb[-5:]"
      ],
      "metadata": {
        "colab": {
          "base_uri": "https://localhost:8080/"
        },
        "id": "LOAhyOuPVGEy",
        "outputId": "f39c8e26-8075-4547-b5af-ee1529f55d7b"
      },
      "execution_count": 49,
      "outputs": [
        {
          "output_type": "execute_result",
          "data": {
            "text/plain": [
              "array([[37. ,  1. ],\n",
              "       [22. ,  1. ],\n",
              "       [25.6,  1. ],\n",
              "       [42. ,  1. ],\n",
              "       [34.5,  1. ]])"
            ]
          },
          "metadata": {},
          "execution_count": 49
        }
      ]
    },
    {
      "cell_type": "markdown",
      "source": [
        "선형 회귀의 목적은 선형 회귀 방정식에서 예측하는 값과 실제값 사이의 오차들이 가장 작은 방정식을 찾는 것.\n",
        "$$ y = X \\cdot w $$\n",
        "정규 방정식(Normal Equation)을 풀면 RMSE를 최소로 만드는 선형회귀식의 coefficients와 intercept를 계산할 수 있음.\n",
        "$$ w = (X^{T} \\cdot X)^{-1} \\cdot X^{T} \\cdot y$$\n",
        "그래서, Linear Regression 알고리즘은 훈련 셋 데이터와 레이블을 사용해서 정규 방정식을 풀고 선형 회귀식(직선의 방정식)의 계수들을 찾음."
      ],
      "metadata": {
        "id": "q_OLjbJsjHcL"
      }
    },
    {
      "cell_type": "code",
      "source": [
        "# Linear Regression 알고리즘은 훈련 셋 데이터와 레이블을 사용해서\n",
        "# 정규 방정식을 풀고 선형 회귀식(직선의 방정식)의 계수들을 찾음.\n",
        "# 정규 방정식(Normal Equation)을 풀면 선형 회귀식의 Coefficients와 intercept를 계산할 수 있음.\n",
        "np.linalg.inv(Xb.T @ Xb) @ Xb.T @ y_tr"
      ],
      "metadata": {
        "colab": {
          "base_uri": "https://localhost:8080/"
        },
        "id": "-kJw_GFLVvKu",
        "outputId": "3a969a07-b94f-42a0-bee3-ac325fc57fd3"
      },
      "execution_count": 50,
      "outputs": [
        {
          "output_type": "execute_result",
          "data": {
            "text/plain": [
              "array([  39.01714496, -709.01864495])"
            ]
          },
          "metadata": {},
          "execution_count": 50
        }
      ]
    },
    {
      "cell_type": "markdown",
      "source": [
        "# 2차항을 포함하는 선형 회귀"
      ],
      "metadata": {
        "id": "wG3UPi3NunED"
      }
    },
    {
      "cell_type": "code",
      "source": [
        "X_tr.shape, y_tr.shape"
      ],
      "metadata": {
        "colab": {
          "base_uri": "https://localhost:8080/"
        },
        "id": "daKbrqomjG7I",
        "outputId": "dbe60acd-1731-4ec5-b528-647239675c24"
      },
      "execution_count": 51,
      "outputs": [
        {
          "output_type": "execute_result",
          "data": {
            "text/plain": [
              "((42, 1), (42,))"
            ]
          },
          "metadata": {},
          "execution_count": 51
        }
      ]
    },
    {
      "cell_type": "code",
      "source": [
        "X_tr[:5]"
      ],
      "metadata": {
        "colab": {
          "base_uri": "https://localhost:8080/"
        },
        "id": "whyfrEqMvbLg",
        "outputId": "9259ed2f-49c9-4cba-83d4-12a58878ac59"
      },
      "execution_count": 52,
      "outputs": [
        {
          "output_type": "execute_result",
          "data": {
            "text/plain": [
              "array([[19.6],\n",
              "       [22. ],\n",
              "       [18.7],\n",
              "       [17.4],\n",
              "       [36. ]])"
            ]
          },
          "metadata": {},
          "execution_count": 52
        }
      ]
    },
    {
      "cell_type": "code",
      "source": [
        "# 2차항을 추가한 훈련 셋\n",
        "X_tr_poly = np.c_[X_tr ** 2, X_tr]\n",
        "X_tr_poly.shape"
      ],
      "metadata": {
        "colab": {
          "base_uri": "https://localhost:8080/"
        },
        "id": "2xROaeb-vQVT",
        "outputId": "dacd35f3-4899-40f3-e623-fdbc6ac8c431"
      },
      "execution_count": 53,
      "outputs": [
        {
          "output_type": "execute_result",
          "data": {
            "text/plain": [
              "(42, 2)"
            ]
          },
          "metadata": {},
          "execution_count": 53
        }
      ]
    },
    {
      "cell_type": "code",
      "source": [
        "X_tr_poly[:5] # Length와 Length^2을 컬럼으로 갖는 2차원 배열 → 2차 선형 회귀에서 학습시킬 데이터"
      ],
      "metadata": {
        "colab": {
          "base_uri": "https://localhost:8080/"
        },
        "id": "ItxLtD8Yva3g",
        "outputId": "5a01729f-16ab-48eb-815d-76c3a2c13dec"
      },
      "execution_count": 54,
      "outputs": [
        {
          "output_type": "execute_result",
          "data": {
            "text/plain": [
              "array([[ 384.16,   19.6 ],\n",
              "       [ 484.  ,   22.  ],\n",
              "       [ 349.69,   18.7 ],\n",
              "       [ 302.76,   17.4 ],\n",
              "       [1296.  ,   36.  ]])"
            ]
          },
          "metadata": {},
          "execution_count": 54
        }
      ]
    },
    {
      "cell_type": "code",
      "source": [
        "lin_reg.fit(X_tr_poly, y_tr) # 2차항을 가지고 있는 데이터로 회귀 모델을 학습시킴."
      ],
      "metadata": {
        "colab": {
          "base_uri": "https://localhost:8080/"
        },
        "id": "00xFJielwS5f",
        "outputId": "fde12ed7-b3d1-43fc-c93d-baf10263afa9"
      },
      "execution_count": 55,
      "outputs": [
        {
          "output_type": "execute_result",
          "data": {
            "text/plain": [
              "LinearRegression()"
            ]
          },
          "metadata": {},
          "execution_count": 55
        }
      ]
    },
    {
      "cell_type": "code",
      "source": [
        "lin_reg.coef_"
      ],
      "metadata": {
        "colab": {
          "base_uri": "https://localhost:8080/"
        },
        "id": "gc2MdjNIwoOH",
        "outputId": "e2492a37-6359-4b0b-8df2-09d04c9cc1f8"
      },
      "execution_count": 56,
      "outputs": [
        {
          "output_type": "execute_result",
          "data": {
            "text/plain": [
              "array([  1.01433211, -21.55792498])"
            ]
          },
          "metadata": {},
          "execution_count": 56
        }
      ]
    },
    {
      "cell_type": "code",
      "source": [
        "lin_reg.intercept_"
      ],
      "metadata": {
        "colab": {
          "base_uri": "https://localhost:8080/"
        },
        "id": "eA4NZ8sRwsme",
        "outputId": "5d831cf5-a1ee-4cdc-b900-1cdaeab835b4"
      },
      "execution_count": 57,
      "outputs": [
        {
          "output_type": "execute_result",
          "data": {
            "text/plain": [
              "116.0502107827827"
            ]
          },
          "metadata": {},
          "execution_count": 57
        }
      ]
    },
    {
      "cell_type": "code",
      "source": [
        "# 훈련 셋 산점도\n",
        "plt.scatter(X_tr, y_tr, alpha=0.5)\n",
        "# 테스트 셋 산점도\n",
        "plt.scatter(X_te, y_te, alpha=0.5)\n",
        "\n",
        "# 2차항을 포함하는 선형 회귀식 : y = ax^2 + bx + c\n",
        "x = np.arange(10, 51, 0.001)\n",
        "Xb = np.c_[x**2, x]\n",
        "y = Xb @ lin_reg.coef_ + lin_reg.intercept_\n",
        "plt.plot(x, y, 'r-')\n",
        "\n",
        "plt.grid()\n",
        "plt.show()"
      ],
      "metadata": {
        "colab": {
          "base_uri": "https://localhost:8080/",
          "height": 265
        },
        "id": "ncm8TDepxwiV",
        "outputId": "045c6dfa-1222-4be0-e3b4-06201c7cb604"
      },
      "execution_count": 58,
      "outputs": [
        {
          "output_type": "display_data",
          "data": {
            "text/plain": [
              "<Figure size 432x288 with 1 Axes>"
            ],
            "image/png": "[encoded data removed]"
          },
          "metadata": {
            "needs_background": "light"
          }
        }
      ]
    },
    {
      "cell_type": "markdown",
      "source": [
        "# 비교"
      ],
      "metadata": {
        "id": "ZC8J4-Pc729i"
      }
    },
    {
      "cell_type": "markdown",
      "source": [
        "훈련 셋에서 RMSE, R2 score\n",
        "\n",
        "테스트 셋에서 RMSE, R2 score\n",
        "\n",
        "1차항만 있는 경우와 비교, KNN Regressor와 비교"
      ],
      "metadata": {
        "id": "pdeV-WDf0QUG"
      }
    },
    {
      "cell_type": "code",
      "source": [
        "# KNN Regressor\n",
        "knn_reg = KNeighborsRegressor()\n",
        "knn_reg.fit(X_tr, y_tr)\n",
        "tr_pred_kn = knn_reg.predict(X_tr)\n",
        "print('RMSE :', round( np.sqrt(mean_squared_error(y_tr, tr_pred_kn)) , 4))\n",
        "print('R2 score :', round( r2_score(y_tr, tr_pred_kn), 4))"
      ],
      "metadata": {
        "colab": {
          "base_uri": "https://localhost:8080/"
        },
        "id": "L1frBaDS0Wru",
        "outputId": "b9a7c244-ccad-409f-f2a5-27cc6ffeb813"
      },
      "execution_count": 59,
      "outputs": [
        {
          "output_type": "stream",
          "name": "stdout",
          "text": [
            "RMSE : 60.9632\n",
            "R2 score : 0.9699\n"
          ]
        }
      ]
    },
    {
      "cell_type": "code",
      "source": [
        "# 1차항\n",
        "lin_reg = LinearRegression()\n",
        "lin_reg.fit(X_tr, y_tr)\n",
        "tr_pred_1 = lin_reg.predict(X_tr)\n",
        "print('RMSE :', round( np.sqrt(mean_squared_error(y_tr, tr_pred_1)), 4))\n",
        "print('R2 score :', round(r2_score(y_tr, tr_pred_1), 4))"
      ],
      "metadata": {
        "colab": {
          "base_uri": "https://localhost:8080/"
        },
        "id": "vtVSzxt62jJK",
        "outputId": "5dd2581f-13c7-4f6f-bac3-ca21c775bf18"
      },
      "execution_count": 60,
      "outputs": [
        {
          "output_type": "stream",
          "name": "stdout",
          "text": [
            "RMSE : 86.1566\n",
            "R2 score : 0.9398\n"
          ]
        }
      ]
    },
    {
      "cell_type": "code",
      "source": [
        "# 2차항\n",
        "lin_reg2 = LinearRegression()\n",
        "X_tr_poly = np.c_[X_tr ** 2, X_tr]\n",
        "lin_reg2.fit(X_tr_poly, y_tr)\n",
        "tr_pred_2 = lin_reg2.predict(X_tr_poly)\n",
        "print('RMSE :', round( np.sqrt(mean_squared_error(y_tr, tr_pred_2)), 4))\n",
        "print('R2 score :', round(r2_score(y_tr, tr_pred_2), 4))"
      ],
      "metadata": {
        "colab": {
          "base_uri": "https://localhost:8080/"
        },
        "id": "9zYDz4mw27Zm",
        "outputId": "88e93d7a-8384-4f80-e954-7e46ee4df210"
      },
      "execution_count": 61,
      "outputs": [
        {
          "output_type": "stream",
          "name": "stdout",
          "text": [
            "RMSE : 60.1497\n",
            "R2 score : 0.9707\n"
          ]
        }
      ]
    },
    {
      "cell_type": "code",
      "source": [
        "# KNN Regressor - Test\n",
        "te_pred_kn = knn_reg.predict(X_te)\n",
        "print('RMSE :', round(np.sqrt(mean_squared_error(y_te, te_pred_kn)), 4))\n",
        "print('R2 score :', round(r2_score(y_te, te_pred_kn), 4))"
      ],
      "metadata": {
        "colab": {
          "base_uri": "https://localhost:8080/"
        },
        "id": "6H5rAwHN43av",
        "outputId": "6a1f9d4e-ab4b-4d80-9168-6c9da9b55ba3"
      },
      "execution_count": 62,
      "outputs": [
        {
          "output_type": "stream",
          "name": "stdout",
          "text": [
            "RMSE : 26.8652\n",
            "R2 score : 0.9928\n"
          ]
        }
      ]
    },
    {
      "cell_type": "code",
      "source": [
        "# 1차항 - Test\n",
        "te_pred_1 =lin_reg.predict(X_te)\n",
        "print('RMSE :', round(np.sqrt(mean_squared_error(y_te, te_pred_1)), 4))\n",
        "print('R2 score :', round(r2_score(y_te, te_pred_1), 4))"
      ],
      "metadata": {
        "colab": {
          "base_uri": "https://localhost:8080/"
        },
        "id": "wnyjbqy05fIZ",
        "outputId": "9b9f34e5-919e-4f25-dfb6-804147c26116"
      },
      "execution_count": 63,
      "outputs": [
        {
          "output_type": "stream",
          "name": "stdout",
          "text": [
            "RMSE : 132.6283\n",
            "R2 score : 0.8248\n"
          ]
        }
      ]
    },
    {
      "cell_type": "code",
      "source": [
        "# 2차항 - Test\n",
        "X_te_poly = np.c_[X_te ** 2, X_te]\n",
        "te_pred_2 = lin_reg2.predict(X_te_poly)\n",
        "print('RMSE :', round(np.sqrt(mean_squared_error(y_te, te_pred_2)), 4))\n",
        "print('R2 score :', round(r2_score(y_te, te_pred_2), 4))\n",
        "# RMSE : KNN보다 오차 큼, R2 : KNN보다 작음"
      ],
      "metadata": {
        "colab": {
          "base_uri": "https://localhost:8080/"
        },
        "id": "Lu45I6xu56jj",
        "outputId": "950632ab-b39e-4ec9-c2f6-4882e4dcf053"
      },
      "execution_count": 64,
      "outputs": [
        {
          "output_type": "stream",
          "name": "stdout",
          "text": [
            "RMSE : 47.4236\n",
            "R2 score : 0.9776\n"
          ]
        }
      ]
    },
    {
      "cell_type": "markdown",
      "source": [
        "# Pipeline : PolynomialFeatures + LinearRegression"
      ],
      "metadata": {
        "id": "VRtY_4OOBDa8"
      }
    },
    {
      "cell_type": "code",
      "source": [
        "X_tr.shape, X_te.shape"
      ],
      "metadata": {
        "colab": {
          "base_uri": "https://localhost:8080/"
        },
        "id": "HmiHCTcoBJBO",
        "outputId": "6eab5cb1-ab7a-4042-a14f-bd2ef427f801"
      },
      "execution_count": 65,
      "outputs": [
        {
          "output_type": "execute_result",
          "data": {
            "text/plain": [
              "((42, 1), (14, 1))"
            ]
          },
          "metadata": {},
          "execution_count": 65
        }
      ]
    },
    {
      "cell_type": "code",
      "source": [
        "# Pipeline으로 연결할 변환기(Transformer)와 예측기(Estimator) 객체를 생성.\n",
        "poly = PolynomialFeatures(degree=2, include_bias=False) # 변환기\n",
        "lin_reg = LinearRegression() # 예측기"
      ],
      "metadata": {
        "id": "ambeNwRBBM4Z"
      },
      "execution_count": 66,
      "outputs": []
    },
    {
      "cell_type": "code",
      "source": [
        "# 변환기 → 예측기 순서로 Pipeline 객체 생성\n",
        "model = Pipeline([('poly', poly), ('reg', lin_reg)])"
      ],
      "metadata": {
        "id": "laZSM6rbB73O"
      },
      "execution_count": 67,
      "outputs": []
    },
    {
      "cell_type": "code",
      "source": [
        "# 모델 훈련(fit) (1) poly.fit_transform() → (2) reg.fit()\n",
        "model.fit(X_tr, y_tr)"
      ],
      "metadata": {
        "colab": {
          "base_uri": "https://localhost:8080/"
        },
        "id": "u4B9QGu5DnJN",
        "outputId": "6442da85-47f0-45ab-b3d4-50d040cee2dc"
      },
      "execution_count": 68,
      "outputs": [
        {
          "output_type": "execute_result",
          "data": {
            "text/plain": [
              "Pipeline(steps=[('poly', PolynomialFeatures(include_bias=False)),\n",
              "                ('reg', LinearRegression())])"
            ]
          },
          "metadata": {},
          "execution_count": 68
        }
      ]
    },
    {
      "cell_type": "code",
      "source": [
        "# 훈련 셋 예측(predict) (1) poly.transform() → (2) reg.predict()\n",
        "tr_pred = model.predict(X_tr)\n",
        "tr_pred[:4]"
      ],
      "metadata": {
        "colab": {
          "base_uri": "https://localhost:8080/"
        },
        "id": "P0JpxgMKDrIq",
        "outputId": "9d2ab73e-28ed-427e-bfca-9aa964077cc7"
      },
      "execution_count": 69,
      "outputs": [
        {
          "output_type": "execute_result",
          "data": {
            "text/plain": [
              "array([ 83.18070434, 132.71260219,  67.61880901,  48.04150559])"
            ]
          },
          "metadata": {},
          "execution_count": 69
        }
      ]
    },
    {
      "cell_type": "code",
      "source": [
        "tr_pred_2[:4]"
      ],
      "metadata": {
        "colab": {
          "base_uri": "https://localhost:8080/"
        },
        "id": "OPXQRvCGD4wz",
        "outputId": "a71ca729-43c8-4e97-855b-837db3c13411"
      },
      "execution_count": 70,
      "outputs": [
        {
          "output_type": "execute_result",
          "data": {
            "text/plain": [
              "array([ 83.18070434, 132.71260219,  67.61880901,  48.04150559])"
            ]
          },
          "metadata": {},
          "execution_count": 70
        }
      ]
    },
    {
      "cell_type": "code",
      "source": [
        "# 테스트 셋 예측\n",
        "te_pred = model.predict(X_te)\n",
        "te_pred[:4]"
      ],
      "metadata": {
        "colab": {
          "base_uri": "https://localhost:8080/"
        },
        "id": "cV60qSGCEewU",
        "outputId": "d79f9bff-a968-4421-c1c7-dc4d6a9b1d22"
      },
      "execution_count": 71,
      "outputs": [
        {
          "output_type": "execute_result",
          "data": {
            "text/plain": [
              "array([  6.5349146 ,  56.6511646 , 290.29593158, 117.05874344])"
            ]
          },
          "metadata": {},
          "execution_count": 71
        }
      ]
    },
    {
      "cell_type": "code",
      "source": [
        "te_pred_2[:4]"
      ],
      "metadata": {
        "colab": {
          "base_uri": "https://localhost:8080/"
        },
        "id": "e_2SpxCxElQh",
        "outputId": "aa530532-c6f8-49f9-d26e-f925c0232c8b"
      },
      "execution_count": 72,
      "outputs": [
        {
          "output_type": "execute_result",
          "data": {
            "text/plain": [
              "array([  6.5349146 ,  56.6511646 , 290.29593158, 117.05874344])"
            ]
          },
          "metadata": {},
          "execution_count": 72
        }
      ]
    },
    {
      "cell_type": "markdown",
      "source": [
        "# 농어의 모든 특성을 사용한 KNN Regression"
      ],
      "metadata": {
        "id": "Bfq1piZPOU66"
      }
    },
    {
      "cell_type": "markdown",
      "source": [
        "* perch → X(2차원 배열), y(1차원 배열)\n",
        "* train_test_split\n",
        "* KNN 생성, 훈련, 예측, 평가\n",
        "* LinearRegression 생성, 훈련, 예측, 평가\n",
        "* 모든 특성들의 2차항까지 고려한 LinearRegression 훈련, 평가"
      ],
      "metadata": {
        "id": "RflejOS1OYu1"
      }
    },
    {
      "cell_type": "code",
      "source": [
        "X = perch[['Length', 'Diagonal', 'Height', 'Width']].values.copy()\n",
        "y = perch['Weight'].values.copy()"
      ],
      "metadata": {
        "id": "WaKrXHgHOYIK"
      },
      "execution_count": 73,
      "outputs": []
    },
    {
      "cell_type": "code",
      "source": [
        "# train_test_split\n",
        "X_tr, X_te, y_tr, y_te = train_test_split(X, y,\n",
        "                                          test_size=0.25,\n",
        "                                          random_state=42)"
      ],
      "metadata": {
        "id": "xAKQOoAtz_Ep"
      },
      "execution_count": 74,
      "outputs": []
    },
    {
      "cell_type": "code",
      "source": [
        "X_tr.shape, X_te.shape, y_tr.shape, y_te.shape"
      ],
      "metadata": {
        "colab": {
          "base_uri": "https://localhost:8080/"
        },
        "id": "RgyAMQY_0HPm",
        "outputId": "7217b3df-eb82-43d7-912d-88eeded392fe"
      },
      "execution_count": 75,
      "outputs": [
        {
          "output_type": "execute_result",
          "data": {
            "text/plain": [
              "((42, 4), (14, 4), (42,), (14,))"
            ]
          },
          "metadata": {},
          "execution_count": 75
        }
      ]
    },
    {
      "cell_type": "code",
      "source": [
        "# KNN\n",
        "knn_reg = KNeighborsRegressor()\n",
        "knn_reg.fit(X_tr, y_tr)\n",
        "tr_pred = knn_reg.predict(X_tr)\n",
        "te_pred = knn_reg.predict(X_te)"
      ],
      "metadata": {
        "id": "4fuMy7V00pjz"
      },
      "execution_count": 76,
      "outputs": []
    },
    {
      "cell_type": "code",
      "source": [
        "print(\"=== KNN Regression (Train) ===\")\n",
        "print(\"RMSE :\", round(np.sqrt(mean_squared_error(y_tr, tr_pred)), 4))\n",
        "print(\"R2 score :\", round(knn_reg.score(X_tr, y_tr), 4))\n",
        "print(\"\\n=== KNN Regression (Test) ===\")\n",
        "print(\"RMSE :\", round(np.sqrt(mean_squared_error(y_te, te_pred)), 4))\n",
        "print(\"R2 score :\", round(knn_reg.score(X_te, y_te), 4))\n",
        "# Train < Test : 과소적합(Underfitting)"
      ],
      "metadata": {
        "colab": {
          "base_uri": "https://localhost:8080/"
        },
        "id": "q5lXyV7x1F30",
        "outputId": "fbf178b7-1df0-4cbd-9046-675cf4eaf84a"
      },
      "execution_count": 77,
      "outputs": [
        {
          "output_type": "stream",
          "name": "stdout",
          "text": [
            "=== KNN Regression (Train) ===\n",
            "RMSE : 54.6495\n",
            "R2 score : 0.9758\n",
            "\n",
            "=== KNN Regression (Test) ===\n",
            "RMSE : 28.9363\n",
            "R2 score : 0.9917\n"
          ]
        }
      ]
    },
    {
      "cell_type": "code",
      "source": [
        "# LinearRegression\n",
        "lin_reg = LinearRegression()\n",
        "lin_reg.fit(X_tr, y_tr)\n",
        "tr_pred_1 = lin_reg.predict(X_tr)\n",
        "te_pred_1 = lin_reg.predict(X_te)"
      ],
      "metadata": {
        "id": "AjH4zUqN1h9R"
      },
      "execution_count": 78,
      "outputs": []
    },
    {
      "cell_type": "code",
      "source": [
        "print(\"=== Linear Regression (Train) ===\")\n",
        "print(\"RMSE :\", round(np.sqrt(mean_squared_error(y_tr, tr_pred_1)),4))\n",
        "print(\"R2 score :\", round(lin_reg.score(X_tr, y_tr), 4))\n",
        "print(\"\\n=== Linear Regression (Test) ===\")\n",
        "print(\"RMSE :\", round(np.sqrt(mean_squared_error(y_te, te_pred_1)), 4))\n",
        "print(\"R2 score :\", round(lin_reg.score(X_te, y_te),4))"
      ],
      "metadata": {
        "colab": {
          "base_uri": "https://localhost:8080/"
        },
        "id": "4SjFJm4V2OK3",
        "outputId": "f13ee34f-953b-4859-8095-cefdab6ec6fa"
      },
      "execution_count": 79,
      "outputs": [
        {
          "output_type": "stream",
          "name": "stdout",
          "text": [
            "=== Linear Regression (Train) ===\n",
            "RMSE : 73.0765\n",
            "R2 score : 0.9567\n",
            "\n",
            "=== Linear Regression (Test) ===\n",
            "RMSE : 110.1835\n",
            "R2 score : 0.879\n"
          ]
        }
      ]
    },
    {
      "cell_type": "code",
      "source": [
        "# 2차항을 포함한 훈련 셋\n",
        "poly = PolynomialFeatures(degree=2, include_bias=False)\n",
        "lin_reg = LinearRegression()\n",
        "model = Pipeline([('poly', poly), ('reg', lin_reg)])\n",
        "model.fit(X_tr, y_tr) # 모델 훈련"
      ],
      "metadata": {
        "id": "sYqcpPvW16fS",
        "colab": {
          "base_uri": "https://localhost:8080/"
        },
        "outputId": "261c0ed3-9aa6-434f-e606-d59c7e3731fc"
      },
      "execution_count": 80,
      "outputs": [
        {
          "output_type": "execute_result",
          "data": {
            "text/plain": [
              "Pipeline(steps=[('poly', PolynomialFeatures(include_bias=False)),\n",
              "                ('reg', LinearRegression())])"
            ]
          },
          "metadata": {},
          "execution_count": 80
        }
      ]
    },
    {
      "cell_type": "code",
      "source": [
        "poly.get_feature_names_out()"
      ],
      "metadata": {
        "colab": {
          "base_uri": "https://localhost:8080/"
        },
        "id": "WkzhDj4_xTzl",
        "outputId": "d5da99bd-31e2-42a9-afd2-ad63ea229682"
      },
      "execution_count": 81,
      "outputs": [
        {
          "output_type": "execute_result",
          "data": {
            "text/plain": [
              "array(['x0', 'x1', 'x2', 'x3', 'x0^2', 'x0 x1', 'x0 x2', 'x0 x3', 'x1^2',\n",
              "       'x1 x2', 'x1 x3', 'x2^2', 'x2 x3', 'x3^2'], dtype=object)"
            ]
          },
          "metadata": {},
          "execution_count": 81
        }
      ]
    },
    {
      "cell_type": "code",
      "source": [
        "tr_pred_2 = model.predict(X_tr) # 훈련 셋 예측값\n",
        "tr_pred_2[:4]"
      ],
      "metadata": {
        "colab": {
          "base_uri": "https://localhost:8080/"
        },
        "id": "kE_ZNS9d24Bi",
        "outputId": "97881a46-a888-439f-a083-2b8173b987c6"
      },
      "execution_count": 82,
      "outputs": [
        {
          "output_type": "execute_result",
          "data": {
            "text/plain": [
              "array([ 86.22462498, 117.8371985 ,  65.36623277,  51.32036181])"
            ]
          },
          "metadata": {},
          "execution_count": 82
        }
      ]
    },
    {
      "cell_type": "code",
      "source": [
        "te_pred_2 = model.predict(X_te)"
      ],
      "metadata": {
        "id": "LRqSJICN4axw"
      },
      "execution_count": 83,
      "outputs": []
    },
    {
      "cell_type": "code",
      "source": [
        "print(\"=== Linear Regression(2nd) (Train) ===\")\n",
        "print('RMSE :', round(np.sqrt(mean_squared_error(y_tr, tr_pred_2)), 4))\n",
        "print('R2 score :', round(r2_score(y_tr, tr_pred_2), 4))\n",
        "print(\"=== Linear Regression(2nd) (Test) ===\")\n",
        "print('RMSE :', round(np.sqrt(mean_squared_error(y_te, te_pred_2)), 4))\n",
        "print('R2 score :', round(r2_score(y_te, te_pred_2), 4))"
      ],
      "metadata": {
        "colab": {
          "base_uri": "https://localhost:8080/"
        },
        "id": "9Y399qz93C06",
        "outputId": "6bc557f7-e847-4b6d-cbfb-4b25882aa423"
      },
      "execution_count": 84,
      "outputs": [
        {
          "output_type": "stream",
          "name": "stdout",
          "text": [
            "=== Linear Regression(2nd) (Train) ===\n",
            "RMSE : 31.4088\n",
            "R2 score : 0.992\n",
            "=== Linear Regression(2nd) (Test) ===\n",
            "RMSE : 71.3639\n",
            "R2 score : 0.9493\n"
          ]
        }
      ]
    }
  ]
}