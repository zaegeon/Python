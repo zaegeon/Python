{
  "nbformat": 4,
  "nbformat_minor": 0,
  "metadata": {
    "colab": {
      "name": "20220517_15_oop.ipynb",
      "provenance": [],
      "collapsed_sections": [],
      "toc_visible": true,
      "authorship_tag": "ABX9TyOk2dBEKUQER0+swBddcVcV",
      "include_colab_link": true
    },
    "kernelspec": {
      "name": "python3",
      "display_name": "Python 3"
    },
    "language_info": {
      "name": "python"
    }
  },
  "cells": [
    {
      "cell_type": "markdown",
      "metadata": {
        "id": "view-in-github",
        "colab_type": "text"
      },
      "source": [
        "<a href=\"https://colab.research.google.com/github/zaegeon/Python/blob/main/20220517_15_oop.ipynb\" target=\"_parent\"><img src=\"https://colab.research.google.com/assets/colab-badge.svg\" alt=\"Open In Colab\"/></a>"
      ]
    },
    {
      "cell_type": "markdown",
      "source": [
        "# 배경 설명"
      ],
      "metadata": {
        "id": "nkuHxuLXlICK"
      }
    },
    {
      "cell_type": "markdown",
      "source": [
        "## list, dict, 반복문 사용"
      ],
      "metadata": {
        "id": "bc_NuQFWlKFh"
      }
    },
    {
      "cell_type": "code",
      "execution_count": null,
      "metadata": {
        "id": "0FwTZS3jeb4D"
      },
      "outputs": [],
      "source": [
        "students = [\n",
        "            {'name' : 'Aaa', 'korean' : 100, 'english' : 95, 'math' : 90},\n",
        "            {'name' : 'Bbb', 'korean' : 50, 'english' : 100, 'math' : 70},\n",
        "            {'name' : 'Ccc', 'korean' : 80, 'english' : 88, 'math' : 20},\n",
        "            {'name' : 'Ddd', 'korean' : 100, 'english' : 100, 'math' : 100}\n",
        "]"
      ]
    },
    {
      "cell_type": "code",
      "source": [
        "# students에 있는 각 학생들의 총점과 평균을 출력\n",
        "for s in students:\n",
        "    total = s['korean'] + s['english'] + s['math'] # 학생의 세 과목 총점\n",
        "    mean = round(total / 3, 2) # 학생의 세 과목 평균 점수\n",
        "    print(f'이름 : {s[\"name\"]}, 총점 : {total}, 평균 : {mean}')"
      ],
      "metadata": {
        "colab": {
          "base_uri": "https://localhost:8080/"
        },
        "id": "UjwqseWLmBBA",
        "outputId": "ad16a102-875f-4755-f3f0-63847bb2877f"
      },
      "execution_count": null,
      "outputs": [
        {
          "output_type": "stream",
          "name": "stdout",
          "text": [
            "이름 : Aaa, 총점 : 285, 평균 : 95.0\n",
            "이름 : Bbb, 총점 : 220, 평균 : 73.33\n",
            "이름 : Ccc, 총점 : 188, 평균 : 62.67\n",
            "이름 : Ddd, 총점 : 300, 평균 : 100.0\n"
          ]
        }
      ]
    },
    {
      "cell_type": "markdown",
      "source": [
        "위 코드의 문제점은 dict의 key가 학생마다 다르게 들어간 경우 에러가 발생할 수 있음.\n",
        "\n",
        "학생 한 명에 대한 dict를 함수를 사용해서 항상 동일한 key를 갖도록 만들면 되지 않을까?"
      ],
      "metadata": {
        "id": "oFuVPl7dqObk"
      }
    },
    {
      "cell_type": "markdown",
      "source": [
        "# 함수형 프로그래밍(Functional Programming)"
      ],
      "metadata": {
        "id": "keUZusqRqtWJ"
      }
    },
    {
      "cell_type": "code",
      "source": [
        "def create_student(name, korean, english, math):\n",
        "    student = {'name' : name,\n",
        "               'korean' : korean,\n",
        "               'english' : english,\n",
        "               'math' : math}\n",
        "    return student"
      ],
      "metadata": {
        "id": "rhQ3sSrHvnMu"
      },
      "execution_count": null,
      "outputs": []
    },
    {
      "cell_type": "code",
      "source": [
        "stu1 = create_student('오쌤', 50, 70, 100)\n",
        "stu1"
      ],
      "metadata": {
        "colab": {
          "base_uri": "https://localhost:8080/"
        },
        "id": "KoSi55CPwEcO",
        "outputId": "cac12c3b-38b3-4a55-e3b2-450e0291ae4e"
      },
      "execution_count": null,
      "outputs": [
        {
          "output_type": "execute_result",
          "data": {
            "text/plain": [
              "{'english': 70, 'korean': 50, 'math': 100, 'name': '오쌤'}"
            ]
          },
          "metadata": {},
          "execution_count": 16
        }
      ]
    },
    {
      "cell_type": "code",
      "source": [
        "def calc_total(student):\n",
        "    total = student['korean'] + student['english'] + student['math']\n",
        "    return total"
      ],
      "metadata": {
        "id": "a0uZGjIxxKPV"
      },
      "execution_count": null,
      "outputs": []
    },
    {
      "cell_type": "code",
      "source": [
        "calc_total(stu1)"
      ],
      "metadata": {
        "colab": {
          "base_uri": "https://localhost:8080/"
        },
        "id": "0-iPA02jyTBB",
        "outputId": "25f6f577-23b2-45fa-fbe3-1f6fa143108a"
      },
      "execution_count": null,
      "outputs": [
        {
          "output_type": "execute_result",
          "data": {
            "text/plain": [
              "220"
            ]
          },
          "metadata": {},
          "execution_count": 22
        }
      ]
    },
    {
      "cell_type": "code",
      "source": [
        "def calc_mean(student):\n",
        "    mean = calc_total(student) / 3\n",
        "    return round(mean, 2)"
      ],
      "metadata": {
        "id": "4NWMdFp_yucl"
      },
      "execution_count": null,
      "outputs": []
    },
    {
      "cell_type": "code",
      "source": [
        "calc_mean(stu1)"
      ],
      "metadata": {
        "colab": {
          "base_uri": "https://localhost:8080/"
        },
        "id": "t5uyMsw8zZvx",
        "outputId": "0486a9aa-73cb-4086-92e0-c9757d2e4b0d"
      },
      "execution_count": null,
      "outputs": [
        {
          "output_type": "execute_result",
          "data": {
            "text/plain": [
              "73.33"
            ]
          },
          "metadata": {},
          "execution_count": 26
        }
      ]
    },
    {
      "cell_type": "code",
      "source": [
        "students = [\n",
        "            create_student('Aaa', 100, 90, 80),\n",
        "            create_student('Bbb', 50, 60, 70),\n",
        "            create_student('Ccc', 90, 92, 98)\n",
        "]\n",
        "students"
      ],
      "metadata": {
        "colab": {
          "base_uri": "https://localhost:8080/"
        },
        "id": "jnK0fEk50a7g",
        "outputId": "a9c8e70d-d0b4-47f5-c0e6-ff5cb146057f"
      },
      "execution_count": null,
      "outputs": [
        {
          "output_type": "execute_result",
          "data": {
            "text/plain": [
              "[{'english': 90, 'korean': 100, 'math': 80, 'name': 'Aaa'},\n",
              " {'english': 60, 'korean': 50, 'math': 70, 'name': 'Bbb'},\n",
              " {'english': 92, 'korean': 90, 'math': 98, 'name': 'Ccc'}]"
            ]
          },
          "metadata": {},
          "execution_count": 27
        }
      ]
    },
    {
      "cell_type": "code",
      "source": [
        "for s in students:\n",
        "    total = calc_total(s)\n",
        "    mean = calc_mean(s)\n",
        "    print(f'이름: {s[\"name\"]}, 총점: {total}, 평균: {mean}')"
      ],
      "metadata": {
        "colab": {
          "base_uri": "https://localhost:8080/"
        },
        "id": "b3lkh81r1NhT",
        "outputId": "60c0bd51-b910-4170-a0dd-05d42b38846e"
      },
      "execution_count": null,
      "outputs": [
        {
          "output_type": "stream",
          "name": "stdout",
          "text": [
            "이름: Aaa, 총점: 270, 평균: 90.0\n",
            "이름: Bbb, 총점: 180, 평균: 60.0\n",
            "이름: Ccc, 총점: 280, 평균: 93.33\n"
          ]
        }
      ]
    },
    {
      "cell_type": "markdown",
      "source": [
        "함수형 프로그래밍 방식의 문제점은 총점, 평균을 계산하는 함수들이 학생 dict(국어, 영어, 수학 점수)와 매우 밀접한 관계를 맺고 있다는 점.\n",
        "\n",
        "서로 밀접한 관계를 가지고 있는 데이터(이름, 국어, 영어, 수학)들과 기능(함수: 평균, 총점 계산)들을 하나의 객체로 묶을 수 없을까?"
      ],
      "metadata": {
        "id": "tZVX5frr3wdi"
      }
    },
    {
      "cell_type": "markdown",
      "source": [
        "# OOP(Object-Oriented Programming, 객체 지향 프로그래밍)"
      ],
      "metadata": {
        "id": "zEziDtGT4S_u"
      }
    },
    {
      "cell_type": "markdown",
      "source": [
        "* 객체(Object) : 프로그램으로 구현할 대상. 데이터 + 기능 ⇒ 자료구조.\n",
        "* 클래스(Class) : 객체를 구현하기 위한 설계도. 프로그램 코드.\n",
        "    * 특성, 속성(Attribute, Property) : 객체가 가져야 하는 데이터. 변수에 저장되는 값.\n",
        "    * 메서드(Method) : 객체가 가져야 하는 기능. 클래스 내부에서 정의하는 함수.\n",
        "    * class = property + method\n",
        "* 인스턴스(Instance) : 설계도인 클래스에 따라서 메모리에 생성된 객체.\n",
        "* 인스턴스 생성(Instanciate) : 클래스의 인스턴스를 메모리에 적재하는 과정.\n",
        "* 생성자(Constructor) : 인스턴스를 생성해주는 함수. 클래스 이름과 동일.\n",
        "    * 생성자를 호출하면 클래스에서 정의된 `__init()__` 메서드가 자동으로 호출됨."
      ],
      "metadata": {
        "id": "YKy6L4DI4cCW"
      }
    },
    {
      "cell_type": "code",
      "source": [
        "# 클래스 정의\n",
        "class Student:\n",
        "    # 객체의 속성들을 초기화(저장)하는 함수 - 생성자를 호출하면 자동으로 호출되는 메서드.\n",
        "    def __init__(self, name, korean, english, math):\n",
        "        self.name = name\n",
        "        self.korean = korean\n",
        "        self.english = english\n",
        "        self.math = math\n",
        "\n",
        "    # 학생(Student) 객체의 기능 - 메서드로 정의\n",
        "    def calc_total(self):\n",
        "        total = self.korean + self.english + self.math\n",
        "        return total\n",
        "    \n",
        "    def calc_mean(self):\n",
        "        mean = round(self.calc_total() / 3, 2)\n",
        "        return mean"
      ],
      "metadata": {
        "id": "hcgQsBMs5fQp"
      },
      "execution_count": null,
      "outputs": []
    },
    {
      "cell_type": "code",
      "source": [
        "gildong = Student('홍길동', 100, 50, 90) # 생성자 호출\n",
        "print(gildong) # gildong 변수 : 생성된 인스턴스의 주소값을 저장.\n",
        "print(type(gildong))"
      ],
      "metadata": {
        "colab": {
          "base_uri": "https://localhost:8080/"
        },
        "id": "wFhhJRSbEvFZ",
        "outputId": "8484b476-668f-459d-9f8f-9db388e54973"
      },
      "execution_count": null,
      "outputs": [
        {
          "output_type": "stream",
          "name": "stdout",
          "text": [
            "<__main__.Student object at 0x7fb57d9741d0>\n",
            "<class '__main__.Student'>\n"
          ]
        }
      ]
    },
    {
      "cell_type": "code",
      "source": [
        "# 객체(인스턴스) 참조(reference) : 인스턴스가 저장된 메모리 주소로 객체를 찾아가는 것.\n",
        "print(gildong.name)         # 참조 연산자(reference operator) : \".\"\n",
        "print(gildong.korean)\n",
        "print(gildong.english)\n",
        "print(gildong.math)"
      ],
      "metadata": {
        "colab": {
          "base_uri": "https://localhost:8080/"
        },
        "id": "vvjgmwOZIjN7",
        "outputId": "eb8f2ebc-64b1-4946-eaab-692176211fec"
      },
      "execution_count": null,
      "outputs": [
        {
          "output_type": "stream",
          "name": "stdout",
          "text": [
            "홍길동\n",
            "100\n",
            "50\n",
            "90\n"
          ]
        }
      ]
    },
    {
      "cell_type": "code",
      "source": [
        "print(gildong.calc_total())\n",
        "print(gildong.calc_mean())"
      ],
      "metadata": {
        "colab": {
          "base_uri": "https://localhost:8080/"
        },
        "id": "A0oywf3jTEY_",
        "outputId": "aee2f38b-7791-4e31-bf34-edfb97e2e028"
      },
      "execution_count": null,
      "outputs": [
        {
          "output_type": "stream",
          "name": "stdout",
          "text": [
            "240\n",
            "80.0\n"
          ]
        }
      ]
    },
    {
      "cell_type": "code",
      "source": [
        "Oh_ssam = Student('오쌤', 20, 30, 27)"
      ],
      "metadata": {
        "id": "x-GxF43_tM_x"
      },
      "execution_count": null,
      "outputs": []
    },
    {
      "cell_type": "code",
      "source": [
        "print(Oh_ssam.name, Oh_ssam.korean)"
      ],
      "metadata": {
        "colab": {
          "base_uri": "https://localhost:8080/"
        },
        "id": "icggyl0NuGcL",
        "outputId": "50ae7b61-f29f-459f-fbfa-bf555aff8562"
      },
      "execution_count": null,
      "outputs": [
        {
          "output_type": "stream",
          "name": "stdout",
          "text": [
            "오쌤 20\n"
          ]
        }
      ]
    },
    {
      "cell_type": "code",
      "source": [
        "print(Oh_ssam.calc_total())\n",
        "print(Oh_ssam.calc_mean())"
      ],
      "metadata": {
        "colab": {
          "base_uri": "https://localhost:8080/"
        },
        "id": "sms8imXCuz7Q",
        "outputId": "a79723e4-90f2-4018-f409-5a9747c1bfb0"
      },
      "execution_count": null,
      "outputs": [
        {
          "output_type": "stream",
          "name": "stdout",
          "text": [
            "77\n",
            "25.67\n"
          ]
        }
      ]
    },
    {
      "cell_type": "markdown",
      "source": [
        "# 클래스 작성 연습"
      ],
      "metadata": {
        "id": "nSolSQVs4Ik0"
      }
    },
    {
      "cell_type": "code",
      "source": [
        "import math # math 모듈을 임포트(사용) - sqrt() 함수를 사용하기 위해서"
      ],
      "metadata": {
        "id": "QT60V2w64L72"
      },
      "execution_count": null,
      "outputs": []
    },
    {
      "cell_type": "code",
      "source": [
        "class Point:\n",
        "    \"\"\"\n",
        "    2차원 평면 상의 점의 좌표를 표현하는 클래스\n",
        "    \"\"\"\n",
        "    def __init__(self, x=0, y=0):\n",
        "        self.x = x\n",
        "        self.y = y\n",
        "    def move(self, dx, dy):\n",
        "        \"\"\"\n",
        "        점의 좌표를 원래 위치에서 x축의 방향으로 dx만큼, y축의 방향으로 dy만큼 이동시키는 메서드\n",
        "        \"\"\"\n",
        "        self.x += dx\n",
        "        self.y += dy\n",
        "\n",
        "    def distance(self, other):\n",
        "        \"\"\"\n",
        "        현재 위치에서 다른 Point 객체 other 까지의 거리를 리턴하는 메서드\n",
        "        \"\"\"\n",
        "        d = math.sqrt((self.x - other.x) ** 2 + (self.y - other.y) ** 2)\n",
        "        return d"
      ],
      "metadata": {
        "id": "YEkxAIP546B6"
      },
      "execution_count": null,
      "outputs": []
    },
    {
      "cell_type": "code",
      "source": [
        "pt1 = Point() # default argument를 사용한 생성자 호출\n",
        "print(f'pt1 = ({pt1.x}, {pt1.y})')"
      ],
      "metadata": {
        "colab": {
          "base_uri": "https://localhost:8080/"
        },
        "id": "GprxvC9n4uTR",
        "outputId": "1e838ee8-3bef-4baa-ecc0-d6a296e7aa34"
      },
      "execution_count": null,
      "outputs": [
        {
          "output_type": "stream",
          "name": "stdout",
          "text": [
            "pt1 = (0, 0)\n"
          ]
        }
      ]
    },
    {
      "cell_type": "code",
      "source": [
        "pt2 = Point(x=3, y=4)\n",
        "print(f'pt2 = ({pt2.x}, {pt2.y})')"
      ],
      "metadata": {
        "colab": {
          "base_uri": "https://localhost:8080/"
        },
        "id": "Qss39S0L_kNA",
        "outputId": "ee456f4e-df6f-4506-fc17-aa5342af0428"
      },
      "execution_count": null,
      "outputs": [
        {
          "output_type": "stream",
          "name": "stdout",
          "text": [
            "pt2 = (3, 4)\n"
          ]
        }
      ]
    },
    {
      "cell_type": "code",
      "source": [
        "# pt1과 pt2 사이의 거리\n",
        "print(pt1.distance(pt2))\n",
        "print(pt2.distance(pt1))\n",
        "print(Point.distance(pt1, pt2))"
      ],
      "metadata": {
        "colab": {
          "base_uri": "https://localhost:8080/"
        },
        "id": "ePOAoLNOAEwI",
        "outputId": "bbb1514c-3b95-4075-a8b8-d5cc5f535035"
      },
      "execution_count": null,
      "outputs": [
        {
          "output_type": "stream",
          "name": "stdout",
          "text": [
            "5.0\n",
            "5.0\n",
            "5.0\n"
          ]
        }
      ]
    },
    {
      "cell_type": "code",
      "source": [
        "# pt1(0,0)을 (1,2)로 옮김\n",
        "pt1.move(1, 2)\n",
        "print(f'pt1 = ({pt1.x}, {pt1.y})')"
      ],
      "metadata": {
        "colab": {
          "base_uri": "https://localhost:8080/"
        },
        "id": "yjRsGG_-FyiL",
        "outputId": "56882b88-6510-4e5c-a935-bdab235ba0dd"
      },
      "execution_count": null,
      "outputs": [
        {
          "output_type": "stream",
          "name": "stdout",
          "text": [
            "pt1 = (1, 2)\n"
          ]
        }
      ]
    },
    {
      "cell_type": "markdown",
      "source": [
        ""
      ],
      "metadata": {
        "id": "oyP9b6qNJEwF"
      }
    },
    {
      "cell_type": "code",
      "source": [
        "class Rectangle:\n",
        "    \"\"\"2차원 평면에서 직사각형을 표현하는 클래스\"\"\"\n",
        "\n",
        "    def __init__(self, x=0, y=0, width=0, height=0):\n",
        "        \"\"\"\n",
        "        직사각형 객체의 속성들을 초기화\n",
        "\n",
        "        x, y = 직사각형의 좌하단의 꼭짓점의 x, y좌표.\n",
        "        width = 직사각형의 가로 길이.\n",
        "        height = 직사각형의 세로 길이.\n",
        "        \"\"\"\n",
        "        self.x = x\n",
        "        self.y = y\n",
        "        self.width = width\n",
        "        self.height = height\n",
        "\n",
        "    def area(self):\n",
        "        \"\"\"직사각형의 넓이를 리턴하는 메서드\"\"\"\n",
        "        a = self.width * self.height\n",
        "        return a\n",
        "\n",
        "    def perimeter(self):\n",
        "        \"\"\"직사각형의 둘레의 길이를 리턴하는 메서드\"\"\"\n",
        "        p = self.width * 2 + self.height * 2\n",
        "        return p\n",
        "\n",
        "    def resize(self, dw, dh):\n",
        "        \"\"\"직사각형의 가로 길이를 dw만큼, 세로 길이를 dh만큼 변경하는 메서드\"\"\"\n",
        "        self.width += dw\n",
        "        self.height += dh\n",
        "\n",
        "        return self\n",
        "    \n",
        "    def center(self):\n",
        "        \"\"\"직사각형 중심의 x, y 좌표를 리턴하는 메서드\"\"\"\n",
        "        xc = (self.x + self.width) / 2\n",
        "        yc = (self.y + self.height) / 2\n",
        "        return xc, yc"
      ],
      "metadata": {
        "id": "qK2rxiuhJDPL"
      },
      "execution_count": null,
      "outputs": []
    },
    {
      "cell_type": "code",
      "source": [
        "# 꼭짓점의 좌표가 (0, 0)이고, 가로/세로 길이가 각각 3,4인 직사각형\n",
        "rect1 = Rectangle(width=3, height=4)\n",
        "print(f'rect1: (x={rect1.x}, y={rect1.y}, w={rect1.width}, h={rect1.height})')"
      ],
      "metadata": {
        "colab": {
          "base_uri": "https://localhost:8080/"
        },
        "id": "nTDc5u1JjPgm",
        "outputId": "b1ce54cd-0b4f-4ecf-98a4-a160e0b2dd0e"
      },
      "execution_count": null,
      "outputs": [
        {
          "output_type": "stream",
          "name": "stdout",
          "text": [
            "rect1: (x=0, y=0, w=3, h=4)\n"
          ]
        }
      ]
    },
    {
      "cell_type": "code",
      "source": [
        "# 꼭짓점의 좌표가 (1,1)이고, 가로/세로 길이가 각각 40,30인 직사각형\n",
        "rect2 = Rectangle(x=1, y=1, width=40, height=30)\n",
        "print(f'rect2: (x={rect2.x}, y={rect2.y}, w={rect2.width}, h={rect2.height})')"
      ],
      "metadata": {
        "colab": {
          "base_uri": "https://localhost:8080/"
        },
        "id": "k5NIX5dalU0C",
        "outputId": "23b84d22-31a5-4a16-aaaa-63dee456325b"
      },
      "execution_count": null,
      "outputs": [
        {
          "output_type": "stream",
          "name": "stdout",
          "text": [
            "rect2: (x=1, y=1, w=40, h=30)\n"
          ]
        }
      ]
    },
    {
      "cell_type": "code",
      "source": [
        "print(rect1.area())\n",
        "print(rect2.area())"
      ],
      "metadata": {
        "colab": {
          "base_uri": "https://localhost:8080/"
        },
        "id": "u6NgnMOinIoC",
        "outputId": "76af89d4-463b-40b0-b9d0-6506b0188cdb"
      },
      "execution_count": null,
      "outputs": [
        {
          "output_type": "stream",
          "name": "stdout",
          "text": [
            "12\n",
            "1200\n"
          ]
        }
      ]
    },
    {
      "cell_type": "code",
      "source": [
        "rect1.perimeter()"
      ],
      "metadata": {
        "colab": {
          "base_uri": "https://localhost:8080/"
        },
        "id": "SnSvMBJinWtA",
        "outputId": "f01115db-b77c-4291-a5fc-c59ddb015ea8"
      },
      "execution_count": null,
      "outputs": [
        {
          "output_type": "execute_result",
          "data": {
            "text/plain": [
              "14"
            ]
          },
          "metadata": {},
          "execution_count": 50
        }
      ]
    },
    {
      "cell_type": "code",
      "source": [
        "center = rect1.center()\n",
        "print(center)\n",
        "x, y = rect1.center() # tuple decomposition(분해)\n",
        "print(x, y)"
      ],
      "metadata": {
        "colab": {
          "base_uri": "https://localhost:8080/"
        },
        "id": "N6ldv5t_nyoV",
        "outputId": "597d9318-750a-48f7-cb12-c23c53a17b3f"
      },
      "execution_count": null,
      "outputs": [
        {
          "output_type": "stream",
          "name": "stdout",
          "text": [
            "(1.5, 2.0)\n",
            "1.5 2.0\n"
          ]
        }
      ]
    },
    {
      "cell_type": "code",
      "source": [
        "Rectangle()\n",
        "Rectangle(0, 0, 100, 200) # position\n",
        "Rectangle(x=0, y=0, width=100, height=200) # keyword\n",
        "Rectangle(3, 4) # x=3, y=4, w=0, h=0\n",
        "Rectangle(width=3, height=4) # x=0, y=0, w=3, h=4"
      ],
      "metadata": {
        "colab": {
          "base_uri": "https://localhost:8080/"
        },
        "id": "wPCtpMYZuu4N",
        "outputId": "4fd8ee29-080f-430b-b0bb-5429a9012d5d"
      },
      "execution_count": null,
      "outputs": [
        {
          "output_type": "execute_result",
          "data": {
            "text/plain": [
              "<__main__.Rectangle at 0x7f13b1362890>"
            ]
          },
          "metadata": {},
          "execution_count": 53
        }
      ]
    },
    {
      "cell_type": "code",
      "source": [
        "# 가로 길이 1 증가, 세로 길이 1 감소\n",
        "result = rect1.resize(1, -1)\n",
        "print(result) # return이 없으므로 None\n",
        "\n",
        "# def resize()의 마지막에 \"return self\" 구문을 추가하면 주소값이 출력됨.\n",
        "\n",
        "print(f'rect1 : (x={rect1.x}, y={rect1.y}, w={rect1.width}, h={rect1.height})')"
      ],
      "metadata": {
        "colab": {
          "base_uri": "https://localhost:8080/"
        },
        "id": "z_Gf2QhBwHJl",
        "outputId": "7b4ca6a0-d899-459d-a7e6-6373981cf6bc"
      },
      "execution_count": null,
      "outputs": [
        {
          "output_type": "stream",
          "name": "stdout",
          "text": [
            "<__main__.Rectangle object at 0x7f13b132b290>\n",
            "rect1 : (x=0, y=0, w=4, h=3)\n"
          ]
        }
      ]
    },
    {
      "cell_type": "code",
      "source": [
        "result.x = 100\n",
        "print(result.x)\n",
        "print(rect1.x) # 동일 결과(100). 주소값이 같으므로 같은 주소를 참조."
      ],
      "metadata": {
        "colab": {
          "base_uri": "https://localhost:8080/"
        },
        "id": "O6DVvCfdzlju",
        "outputId": "d56bd1bf-67ec-451c-9e9c-acc7a2d4bbd6"
      },
      "execution_count": null,
      "outputs": [
        {
          "output_type": "stream",
          "name": "stdout",
          "text": [
            "100\n",
            "100\n"
          ]
        }
      ]
    },
    {
      "cell_type": "code",
      "source": [
        "rect1.resize(1, 2).area() # 25 (5x5). 메서드 연쇄 호출(chain invoke)"
      ],
      "metadata": {
        "colab": {
          "base_uri": "https://localhost:8080/"
        },
        "id": "hWuA9ome0WDU",
        "outputId": "1cc58cc3-8022-4474-9679-8236c559a611"
      },
      "execution_count": null,
      "outputs": [
        {
          "output_type": "execute_result",
          "data": {
            "text/plain": [
              "25"
            ]
          },
          "metadata": {},
          "execution_count": 71
        }
      ]
    }
  ]
}