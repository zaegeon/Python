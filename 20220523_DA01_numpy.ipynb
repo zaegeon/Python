{
  "nbformat": 4,
  "nbformat_minor": 0,
  "metadata": {
    "colab": {
      "name": "20220523_DA01_numpy.ipynb",
      "provenance": [],
      "collapsed_sections": [],
      "authorship_tag": "ABX9TyO0qAP3bdGBPYEymVBXt09l",
      "include_colab_link": true
    },
    "kernelspec": {
      "name": "python3",
      "display_name": "Python 3"
    },
    "language_info": {
      "name": "python"
    }
  },
  "cells": [
    {
      "cell_type": "markdown",
      "metadata": {
        "id": "view-in-github",
        "colab_type": "text"
      },
      "source": [
        "<a href=\"https://colab.research.google.com/github/zaegeon/Python/blob/main/20220523_DA01_numpy.ipynb\" target=\"_parent\"><img src=\"https://colab.research.google.com/assets/colab-badge.svg\" alt=\"Open In Colab\"/></a>"
      ]
    },
    {
      "cell_type": "markdown",
      "source": [
        "# 데이터 분석 패키지"
      ],
      "metadata": {
        "id": "yEbueDCzZYjN"
      }
    },
    {
      "cell_type": "markdown",
      "source": [
        "* NumPy : 다차원 배열을 다루는 패키지. 머신 러닝에서 중요하게 사용됨.\n",
        "* pandas : 데이터프레임(DataFrame)과 시리즈(Series)를 다루는 패키지. 데이터 분석에서 가장 기본이 되는 패키지.\n",
        "* matplotlib, seaborn : 데이터 시각화(그래프).\n",
        "* scikit-learn : 머신 러닝에서 기본이 되는 패키지.\n",
        "* keras, tensorflow : 딥러닝에서 사용되는 패키지.\n",
        "\n",
        "Google Colab은 데이터 분석과 머신 러닝에 필요한 대부분의 패키지들이 이미 설치되어 있음."
      ],
      "metadata": {
        "id": "3_vwkEaPZoWC"
      }
    },
    {
      "cell_type": "code",
      "execution_count": null,
      "metadata": {
        "id": "B0JMalB3ZTGH"
      },
      "outputs": [],
      "source": [
        "import numpy as np\n",
        "import pandas as pd\n",
        "import matplotlib\n",
        "import seaborn\n",
        "import sklearn\n",
        "import keras\n",
        "import tensorflow as tf"
      ]
    },
    {
      "cell_type": "code",
      "source": [
        "# Google Colab에 설치된 패키지 버전 확인\n",
        "print('NumPy version : ', np.__version__)\n",
        "print('pandas version : ', pd.__version__)\n",
        "print('matplotlib version : ', matplotlib.__version__)\n",
        "print('seaborn version : ', seaborn.__version__)\n",
        "print('scikit-learn version : ', sklearn.__version__)\n",
        "print('keras version : ', keras.__version__)\n",
        "print('tensorflow version : ', tf.__version__)"
      ],
      "metadata": {
        "colab": {
          "base_uri": "https://localhost:8080/"
        },
        "id": "cAAk-q_6cjAV",
        "outputId": "d41c3c0e-4307-4be2-ef94-98895cf69667"
      },
      "execution_count": null,
      "outputs": [
        {
          "output_type": "stream",
          "name": "stdout",
          "text": [
            "NumPy version :  1.21.6\n",
            "pandas version :  1.3.5\n",
            "matplotlib version :  3.2.2\n",
            "seaborn version :  0.11.2\n",
            "scikit-learn version :  1.0.2\n",
            "keras version :  2.8.0\n",
            "tensorflow version :  2.8.0\n"
          ]
        }
      ]
    },
    {
      "cell_type": "markdown",
      "source": [
        "# Python list"
      ],
      "metadata": {
        "id": "aLaZFa6Gj2WE"
      }
    },
    {
      "cell_type": "markdown",
      "source": [
        "* 여러 개의 값들을 저장할 수 있는 데이터 타입.\n",
        "* 인덱스를 기반으로 값들을 저장하는 데이터 타입.\n",
        "    * indexing\n",
        "    * slicing\n",
        "* 연산\n",
        "    * `list + list`\n",
        "    * `list * int` 또는 `int * list`\n",
        "    "
      ],
      "metadata": {
        "id": "_ynAwEgHj6AV"
      }
    },
    {
      "cell_type": "code",
      "source": [
        "num_list1 = [1, 2, 3]\n",
        "num_list2 = [10, 20, 30]"
      ],
      "metadata": {
        "id": "EuLfbMblklDl"
      },
      "execution_count": null,
      "outputs": []
    },
    {
      "cell_type": "code",
      "source": [
        "# indexing\n",
        "print(num_list1[0]) # 리스트의 첫 번째 원소 참조\n",
        "print(num_list1[-1]) # 리스트의 마지막 원소 참조"
      ],
      "metadata": {
        "colab": {
          "base_uri": "https://localhost:8080/"
        },
        "id": "gPeVoRsLkpaz",
        "outputId": "0d1407ce-bd84-4f9b-bca4-30f44eb93703"
      },
      "execution_count": null,
      "outputs": [
        {
          "output_type": "stream",
          "name": "stdout",
          "text": [
            "1\n",
            "3\n"
          ]
        }
      ]
    },
    {
      "cell_type": "code",
      "source": [
        "# slicing\n",
        "print(num_list1[:2]) # 리스트에서 첫 2개 원소로 이루어진 부분집합(리스트)\n",
        "print(num_list1[-2:]) # 리스트에서 마지막 2개 원소로 이루어진 부분집합(리스트)"
      ],
      "metadata": {
        "colab": {
          "base_uri": "https://localhost:8080/"
        },
        "id": "1VjNSdlIlCFY",
        "outputId": "2d799435-141b-4c94-9053-0c6708295202"
      },
      "execution_count": null,
      "outputs": [
        {
          "output_type": "stream",
          "name": "stdout",
          "text": [
            "[1, 2]\n",
            "[2, 3]\n"
          ]
        }
      ]
    },
    {
      "cell_type": "code",
      "source": [
        "num_list1 + num_list2 # num_list1.extend(num_list2)"
      ],
      "metadata": {
        "colab": {
          "base_uri": "https://localhost:8080/"
        },
        "id": "OqXqQl-SlR9X",
        "outputId": "e7456d9e-6caf-4eea-a5ab-1ee834852ce0"
      },
      "execution_count": null,
      "outputs": [
        {
          "output_type": "execute_result",
          "data": {
            "text/plain": [
              "[1, 2, 3, 10, 20, 30]"
            ]
          },
          "metadata": {},
          "execution_count": 7
        }
      ]
    },
    {
      "cell_type": "code",
      "source": [
        "3 * num_list1"
      ],
      "metadata": {
        "colab": {
          "base_uri": "https://localhost:8080/"
        },
        "id": "2JICRSbLlv-y",
        "outputId": "56693547-267c-4182-8625-2ef086ae8a16"
      },
      "execution_count": null,
      "outputs": [
        {
          "output_type": "execute_result",
          "data": {
            "text/plain": [
              "[1, 2, 3, 1, 2, 3, 1, 2, 3]"
            ]
          },
          "metadata": {},
          "execution_count": 8
        }
      ]
    },
    {
      "cell_type": "code",
      "source": [
        "# num_list1과 num_list2의 같은 인덱스의 원소들끼리의 덧셈으로 만들어진 리스트\n",
        "plus = []\n",
        "for x,y in zip(num_list1, num_list2):\n",
        "    plus.append(x+y)\n",
        "print(plus)"
      ],
      "metadata": {
        "colab": {
          "base_uri": "https://localhost:8080/"
        },
        "id": "8MgZYbq5l7MW",
        "outputId": "1c370dbc-0389-457b-bd51-1d8fb049b822"
      },
      "execution_count": null,
      "outputs": [
        {
          "output_type": "stream",
          "name": "stdout",
          "text": [
            "[11, 22, 33]\n"
          ]
        }
      ]
    },
    {
      "cell_type": "code",
      "source": [
        "[x + y for x, y in zip(num_list1, num_list2)]"
      ],
      "metadata": {
        "colab": {
          "base_uri": "https://localhost:8080/"
        },
        "id": "nx2iDA5Mnh3t",
        "outputId": "da5628ab-f8dd-4b52-e33f-1f947ef32ee5"
      },
      "execution_count": null,
      "outputs": [
        {
          "output_type": "execute_result",
          "data": {
            "text/plain": [
              "[11, 22, 33]"
            ]
          },
          "metadata": {},
          "execution_count": 14
        }
      ]
    },
    {
      "cell_type": "code",
      "source": [
        "# num_list1의 각각의 원소에 3을 곱한 값들로 이루어진 리스트\n",
        "multiple = []\n",
        "for x in num_list1:\n",
        "    multiple.append(3 * x)\n",
        "print(multiple)"
      ],
      "metadata": {
        "colab": {
          "base_uri": "https://localhost:8080/"
        },
        "id": "b3h0wMxMmWSM",
        "outputId": "4c64a5ea-31d3-4c15-81a5-f88778b80e9f"
      },
      "execution_count": null,
      "outputs": [
        {
          "output_type": "stream",
          "name": "stdout",
          "text": [
            "[3, 6, 9]\n"
          ]
        }
      ]
    },
    {
      "cell_type": "code",
      "source": [
        "[3 * x for x in num_list1]"
      ],
      "metadata": {
        "colab": {
          "base_uri": "https://localhost:8080/"
        },
        "id": "7gwoWOVon0Yg",
        "outputId": "dab9191c-28a5-4689-f217-29c20c68c31d"
      },
      "execution_count": null,
      "outputs": [
        {
          "output_type": "execute_result",
          "data": {
            "text/plain": [
              "[3, 6, 9]"
            ]
          },
          "metadata": {},
          "execution_count": 16
        }
      ]
    },
    {
      "cell_type": "markdown",
      "source": [
        "# NumPy (Numerical Python)"
      ],
      "metadata": {
        "id": "RgRPkLxsoTJ0"
      }
    },
    {
      "cell_type": "markdown",
      "source": [
        "* 배열(array)을 쉽고 빠르게 연산(`+, -, *, /, ...`)하기 위한 라이브러리.\n",
        "* NumPy 패키지의 대부분의 기능(함수, 메서드)들은 반복문의 기능을 가지고 있음.\n",
        "* `np.ndarray` 클래스 : NumPy 패키지의 기본 데이터 타입. n-dimensional array (n차원 배열).\n",
        "    * `ndarray`는 같은 인덱스의 원소들끼리 연산을 수행함."
      ],
      "metadata": {
        "id": "kY0JeyrZoYG5"
      }
    },
    {
      "cell_type": "code",
      "source": [
        "num_arr1 = np.array([1, 2, 3])\n",
        "print(num_arr1)\n",
        "num_arr1"
      ],
      "metadata": {
        "colab": {
          "base_uri": "https://localhost:8080/"
        },
        "id": "HEWHebQQoXfc",
        "outputId": "561aae4c-773f-42dc-f9dc-ce60470c2ccd"
      },
      "execution_count": null,
      "outputs": [
        {
          "output_type": "stream",
          "name": "stdout",
          "text": [
            "[1 2 3]\n"
          ]
        },
        {
          "output_type": "execute_result",
          "data": {
            "text/plain": [
              "array([1, 2, 3])"
            ]
          },
          "metadata": {},
          "execution_count": 18
        }
      ]
    },
    {
      "cell_type": "code",
      "source": [
        "type(num_arr1)"
      ],
      "metadata": {
        "colab": {
          "base_uri": "https://localhost:8080/"
        },
        "id": "4fmmcRrZqM5s",
        "outputId": "d9034d46-7363-4a62-8283-457559685f16"
      },
      "execution_count": null,
      "outputs": [
        {
          "output_type": "execute_result",
          "data": {
            "text/plain": [
              "numpy.ndarray"
            ]
          },
          "metadata": {},
          "execution_count": 19
        }
      ]
    },
    {
      "cell_type": "code",
      "source": [
        "num_arr2 = np.array([10, 20, 30])\n",
        "print(num_arr2)"
      ],
      "metadata": {
        "colab": {
          "base_uri": "https://localhost:8080/"
        },
        "id": "22NvkWS7qOvq",
        "outputId": "c996906b-c2f4-4106-b421-4c3fdbf0ec9a"
      },
      "execution_count": null,
      "outputs": [
        {
          "output_type": "stream",
          "name": "stdout",
          "text": [
            "[10 20 30]\n"
          ]
        }
      ]
    },
    {
      "cell_type": "code",
      "source": [
        "# np.ndarray의 사칙 연산 - 배열은 element-wise(같은 인덱스의 원소들끼리) 연산 수행\n",
        "print(num_arr1 + num_arr2)\n",
        "print(num_arr1 - num_arr2)\n",
        "print(num_arr1 * num_arr2)\n",
        "print(num_arr1 / num_arr2)"
      ],
      "metadata": {
        "colab": {
          "base_uri": "https://localhost:8080/"
        },
        "id": "vUEgsHPnqsC8",
        "outputId": "4a5ed0a0-11a6-45bb-893b-3fab316fea7b"
      },
      "execution_count": null,
      "outputs": [
        {
          "output_type": "stream",
          "name": "stdout",
          "text": [
            "[11 22 33]\n",
            "[ -9 -18 -27]\n",
            "[10 40 90]\n",
            "[0.1 0.1 0.1]\n"
          ]
        }
      ]
    },
    {
      "cell_type": "code",
      "source": [
        "print(num_arr1 * 3)"
      ],
      "metadata": {
        "colab": {
          "base_uri": "https://localhost:8080/"
        },
        "id": "gobm5Xy9ryaR",
        "outputId": "cb05e000-013d-4c39-cd43-a1da9af8757e"
      },
      "execution_count": null,
      "outputs": [
        {
          "output_type": "stream",
          "name": "stdout",
          "text": [
            "[3 6 9]\n"
          ]
        }
      ]
    },
    {
      "cell_type": "markdown",
      "source": [
        "# `np.ndarray` 클래스의 속성들"
      ],
      "metadata": {
        "id": "ubhd2fuQxqB1"
      }
    },
    {
      "cell_type": "code",
      "source": [
        "print(num_arr1)\n",
        "print('ndim : ', num_arr1.ndim) # 차원(dimension)\n",
        "print('size : ', num_arr1.size) # 배열의 원소의 개수(정수)\n",
        "print('shape : ', num_arr1.shape) # 배열의 각 차원에서의 원소의 개수(튜플)\n",
        "print('dtype : ', num_arr1.dtype) # 배열의 원소의 데이터 타입"
      ],
      "metadata": {
        "colab": {
          "base_uri": "https://localhost:8080/"
        },
        "id": "RCfBh5gHxtxs",
        "outputId": "7a695bc9-4bf9-4f19-d515-ca445c2a401a"
      },
      "execution_count": null,
      "outputs": [
        {
          "output_type": "stream",
          "name": "stdout",
          "text": [
            "[1 2 3]\n",
            "ndim :  1\n",
            "size :  3\n",
            "shape :  (3,)\n",
            "dtype :  int64\n"
          ]
        }
      ]
    },
    {
      "cell_type": "markdown",
      "source": [
        "* Python의 숫자 타입 : \n",
        "    * 정수 : `int`\n",
        "    * 실수 : `float`\n",
        "* np.ndarray의 숫자 타입 :\n",
        "    * 정수 : `int8, int16, int32, int64, ...`\n",
        "    * 실수 : `float16, float32, float64, ... `"
      ],
      "metadata": {
        "id": "fFu44qXlzSnB"
      }
    },
    {
      "cell_type": "code",
      "source": [
        "# 2차원 배열\n",
        "array = np.array([[1, 2, 3],\n",
        "                  [4, 5, 6]])\n",
        "print(array)"
      ],
      "metadata": {
        "colab": {
          "base_uri": "https://localhost:8080/"
        },
        "id": "WgEQUnbWzqU-",
        "outputId": "1fb1e275-a3ce-4e4f-9579-e300061dd279"
      },
      "execution_count": null,
      "outputs": [
        {
          "output_type": "stream",
          "name": "stdout",
          "text": [
            "[[1 2 3]\n",
            " [4 5 6]]\n"
          ]
        }
      ]
    },
    {
      "cell_type": "code",
      "source": [
        "print('ndim : ', array.ndim)\n",
        "print('size : ', array.size)\n",
        "print('shape : ', array.shape)"
      ],
      "metadata": {
        "colab": {
          "base_uri": "https://localhost:8080/"
        },
        "id": "ej4XOVDn0LTB",
        "outputId": "365171d5-41c8-43c4-e13c-ac606898d311"
      },
      "execution_count": null,
      "outputs": [
        {
          "output_type": "stream",
          "name": "stdout",
          "text": [
            "ndim :  2\n",
            "size :  6\n",
            "shape :  (2, 3)\n"
          ]
        }
      ]
    },
    {
      "cell_type": "markdown",
      "source": [
        "# np.array 객체 생성 함수"
      ],
      "metadata": {
        "id": "jE1TVvY-1Yov"
      }
    },
    {
      "cell_type": "code",
      "source": [
        "evens = np.array([0, 2, 4, 6, 8, 10])\n",
        "print(evens)"
      ],
      "metadata": {
        "colab": {
          "base_uri": "https://localhost:8080/"
        },
        "id": "_yHp7JPm1f1F",
        "outputId": "4ea89179-2991-4760-829a-01e12b7fdec6"
      },
      "execution_count": null,
      "outputs": [
        {
          "output_type": "stream",
          "name": "stdout",
          "text": [
            "[ 0  2  4  6  8 10]\n"
          ]
        }
      ]
    },
    {
      "cell_type": "code",
      "source": [
        "evens = np.array(range(0, 11, 2))\n",
        "print(evens)"
      ],
      "metadata": {
        "colab": {
          "base_uri": "https://localhost:8080/"
        },
        "id": "VZbgjH3Y12Ka",
        "outputId": "5c9e1f24-36de-432c-d00e-9888fe4f3029"
      },
      "execution_count": null,
      "outputs": [
        {
          "output_type": "stream",
          "name": "stdout",
          "text": [
            "[ 0  2  4  6  8 10]\n"
          ]
        }
      ]
    },
    {
      "cell_type": "code",
      "source": [
        "evens = np.arange(0, 11, 2)\n",
        "print(evens)"
      ],
      "metadata": {
        "colab": {
          "base_uri": "https://localhost:8080/"
        },
        "id": "cf6ko-vG2M4R",
        "outputId": "289f5acb-42b1-4ddd-dfbf-cba15a199b86"
      },
      "execution_count": null,
      "outputs": [
        {
          "output_type": "stream",
          "name": "stdout",
          "text": [
            "[ 0  2  4  6  8 10]\n"
          ]
        }
      ]
    },
    {
      "cell_type": "code",
      "source": [
        "# np.ndarray.reshape()\n",
        "array = evens.reshape((2, 3))\n",
        "print(array)"
      ],
      "metadata": {
        "colab": {
          "base_uri": "https://localhost:8080/"
        },
        "id": "qxJqoyXn2iUg",
        "outputId": "771e76d0-de59-409d-e2a7-d6ddabc215c0"
      },
      "execution_count": null,
      "outputs": [
        {
          "output_type": "stream",
          "name": "stdout",
          "text": [
            "[[ 0  2  4]\n",
            " [ 6  8 10]]\n"
          ]
        }
      ]
    },
    {
      "cell_type": "code",
      "source": [
        "array = evens.reshape((3,2))\n",
        "print(array)"
      ],
      "metadata": {
        "colab": {
          "base_uri": "https://localhost:8080/"
        },
        "id": "50ueirqC3WCa",
        "outputId": "c83c8c24-e0d2-4e52-efa3-a8a598a81cf9"
      },
      "execution_count": null,
      "outputs": [
        {
          "output_type": "stream",
          "name": "stdout",
          "text": [
            "[[ 0  2]\n",
            " [ 4  6]\n",
            " [ 8 10]]\n"
          ]
        }
      ]
    },
    {
      "cell_type": "code",
      "source": [
        "# 메서드(함수) 연쇄 호출\n",
        "array = np.arange(12).reshape((3,4))\n",
        "print(array)"
      ],
      "metadata": {
        "colab": {
          "base_uri": "https://localhost:8080/"
        },
        "id": "7W1le-ec4k1V",
        "outputId": "00628c36-698d-4e70-8b4b-6bec391138f1"
      },
      "execution_count": null,
      "outputs": [
        {
          "output_type": "stream",
          "name": "stdout",
          "text": [
            "[[ 0  1  2  3]\n",
            " [ 4  5  6  7]\n",
            " [ 8  9 10 11]]\n"
          ]
        }
      ]
    },
    {
      "cell_type": "code",
      "source": [
        "array = np.random.randint(0, 10, size=10) # [0,10) 범위의 정수 난수 10개로 이루어진 배열.\n",
        "print(array)"
      ],
      "metadata": {
        "colab": {
          "base_uri": "https://localhost:8080/"
        },
        "id": "tHGTKOXS5A2H",
        "outputId": "e70638eb-a792-4492-b405-eb2a18a11863"
      },
      "execution_count": null,
      "outputs": [
        {
          "output_type": "stream",
          "name": "stdout",
          "text": [
            "[4 7 1 8 2 5 0 3 2 4]\n"
          ]
        }
      ]
    },
    {
      "cell_type": "code",
      "source": [
        "array = np.random.randint(0, 10, size=(3,4)) # [0,10) 범위의 (3,4) 모양(shape)의 2차원 배열.\n",
        "print(array)"
      ],
      "metadata": {
        "colab": {
          "base_uri": "https://localhost:8080/"
        },
        "id": "zMxz3p8k5u3u",
        "outputId": "21ddd0e0-9f87-4b79-d947-343d9210bd65"
      },
      "execution_count": null,
      "outputs": [
        {
          "output_type": "stream",
          "name": "stdout",
          "text": [
            "[[9 0 0 1]\n",
            " [2 4 2 7]\n",
            " [2 7 4 1]]\n"
          ]
        }
      ]
    },
    {
      "cell_type": "code",
      "source": [
        "array = np.random.rand(5) # [0,1) 범위의 균등 분포를 만족하는 실수 난수 5개로 이루어진 배열.\n",
        "print(array)"
      ],
      "metadata": {
        "colab": {
          "base_uri": "https://localhost:8080/"
        },
        "id": "lsS-g9Yl6X-S",
        "outputId": "e996e6c9-9ab9-4190-e443-06d62d76c70d"
      },
      "execution_count": null,
      "outputs": [
        {
          "output_type": "stream",
          "name": "stdout",
          "text": [
            "[0.29754483 0.7210544  0.62799444 0.34760347 0.58906156]\n"
          ]
        }
      ]
    },
    {
      "cell_type": "code",
      "source": [
        "array = np.random.rand(3, 4) # [0,1) 범위의 균등 분포를 만족하는 난수들로 이루어진 (3,4) 모양의 2차원 배열.\n",
        "print(array)"
      ],
      "metadata": {
        "colab": {
          "base_uri": "https://localhost:8080/"
        },
        "id": "s7JNZRY966Dg",
        "outputId": "e89318fd-5ba0-4dca-93bc-8bc2649f8876"
      },
      "execution_count": null,
      "outputs": [
        {
          "output_type": "stream",
          "name": "stdout",
          "text": [
            "[[0.20520927 0.60705306 0.51636026 0.39718184]\n",
            " [0.03929245 0.53525759 0.81306553 0.92657712]\n",
            " [0.37987156 0.54351838 0.60918529 0.19437337]]\n"
          ]
        }
      ]
    },
    {
      "cell_type": "code",
      "source": [
        "array = np.random.randn(5) # 표준 정규 분포(N(0,1))를 따르는 난수 5개로 이루어진 배열.\n",
        "print(array)"
      ],
      "metadata": {
        "colab": {
          "base_uri": "https://localhost:8080/"
        },
        "id": "F82JQZQa74kp",
        "outputId": "ec9fb2dc-c71e-4a25-d656-648edfab30db"
      },
      "execution_count": null,
      "outputs": [
        {
          "output_type": "stream",
          "name": "stdout",
          "text": [
            "[ 2.21107925 -2.32314033 -0.13664356 -0.41785352  0.11403218]\n"
          ]
        }
      ]
    },
    {
      "cell_type": "code",
      "source": [
        "array = np.random.randn(3,4) # 표준 정규 분포를 따르는 난수들로 이루어진 (3,4) 모양의 2차원 배열.\n",
        "print(array)"
      ],
      "metadata": {
        "colab": {
          "base_uri": "https://localhost:8080/"
        },
        "id": "suMR0diA8FpN",
        "outputId": "bf85136a-388a-4824-9b1e-4806e9f23e36"
      },
      "execution_count": null,
      "outputs": [
        {
          "output_type": "stream",
          "name": "stdout",
          "text": [
            "[[ 0.06095458 -0.37391462  0.48542327  1.60161773]\n",
            " [ 0.44856522  0.26004845  0.5711043   1.70164324]\n",
            " [ 1.93807924  0.57063527  0.46249021  0.0574794 ]]\n"
          ]
        }
      ]
    }
  ]
}