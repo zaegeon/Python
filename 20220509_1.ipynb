{
  "nbformat": 4,
  "nbformat_minor": 0,
  "metadata": {
    "colab": {
      "name": "20220509_1.ipynb",
      "provenance": [],
      "collapsed_sections": []
    },
    "kernelspec": {
      "name": "python3",
      "display_name": "Python 3"
    },
    "language_info": {
      "name": "python"
    }
  },
  "cells": [
    {
      "cell_type": "markdown",
      "source": [
        "# Colab Notebook -- \"#\" : 목차 만들기"
      ],
      "metadata": {
        "id": "mIlZcOtrZLYZ"
      }
    },
    {
      "cell_type": "code",
      "execution_count": null,
      "metadata": {
        "colab": {
          "base_uri": "https://localhost:8080/"
        },
        "id": "GgUJnqkNXsiF",
        "outputId": "d8605518-266f-4383-bd8d-bd9ef2e1d9f6"
      },
      "outputs": [
        {
          "output_type": "stream",
          "name": "stdout",
          "text": [
            "안녕하세요!\n"
          ]
        }
      ],
      "source": [
        "print('안녕하세요!')"
      ]
    },
    {
      "cell_type": "markdown",
      "source": [
        "# Python 버전 확인"
      ],
      "metadata": {
        "id": "3kvLctuffDXz"
      }
    },
    {
      "cell_type": "code",
      "source": [
        "import sys # sys 모듈 사용\n",
        "\n",
        "print(sys.version) # 3.7.13"
      ],
      "metadata": {
        "colab": {
          "base_uri": "https://localhost:8080/"
        },
        "id": "Qnbo_aF4fN1Z",
        "outputId": "a4ba2540-a0ca-4d21-ba17-8b308b5d0ce4"
      },
      "execution_count": null,
      "outputs": [
        {
          "output_type": "stream",
          "name": "stdout",
          "text": [
            "3.7.13 (default, Apr 24 2022, 01:04:09) \n",
            "[GCC 7.5.0]\n"
          ]
        }
      ]
    },
    {
      "cell_type": "markdown",
      "source": [
        "# 여러 가지 print 방법"
      ],
      "metadata": {
        "id": "BqNt8W1BgySS"
      }
    },
    {
      "cell_type": "code",
      "source": [
        "print('Hello, Python!') # in Python - 문자열 : '', \"\" 상관 X (SQL : ''만 가능)"
      ],
      "metadata": {
        "colab": {
          "base_uri": "https://localhost:8080/"
        },
        "id": "1eWXRaZQg4_r",
        "outputId": "162144ab-480e-413d-d24d-16e568c2fbef"
      },
      "execution_count": null,
      "outputs": [
        {
          "output_type": "stream",
          "name": "stdout",
          "text": [
            "Hello, Python!\n"
          ]
        }
      ]
    },
    {
      "cell_type": "markdown",
      "source": [
        "`print()` 함수에 argument(인수)를 여러 개 전달하면, 각각의 argument들을 공백으로 연결해서 한 줄에 출력."
      ],
      "metadata": {
        "id": "C39UrN4rjoLZ"
      }
    },
    {
      "cell_type": "code",
      "source": [
        "print('Hello', '안녕', 'Bon Jour')"
      ],
      "metadata": {
        "colab": {
          "base_uri": "https://localhost:8080/"
        },
        "id": "m_GpdO6GkUUq",
        "outputId": "a05f2776-cb06-4321-faa6-7c36bae1b3d4"
      },
      "execution_count": null,
      "outputs": [
        {
          "output_type": "stream",
          "name": "stdout",
          "text": [
            "Hello 안녕 Bon Jour\n"
          ]
        }
      ]
    },
    {
      "cell_type": "code",
      "source": [
        "print('Hello', '안녕', 'Bon Jour', sep='\\n')\n",
        "# print 함수의 sep argument 값을 바꿔주면 출력 값들의 구분자(separator) 설정 가능"
      ],
      "metadata": {
        "colab": {
          "base_uri": "https://localhost:8080/"
        },
        "id": "oJ_tGO9QlJtL",
        "outputId": "af004755-1312-4680-bb2d-f0fd6683eb48"
      },
      "execution_count": null,
      "outputs": [
        {
          "output_type": "stream",
          "name": "stdout",
          "text": [
            "Hello\n",
            "안녕\n",
            "Bon Jour\n"
          ]
        }
      ]
    },
    {
      "cell_type": "code",
      "source": [
        "print(1, '+', 2, \"=\", 3)\n",
        "print(1, '+', 2, '=', 1+2)"
      ],
      "metadata": {
        "colab": {
          "base_uri": "https://localhost:8080/"
        },
        "id": "Sn_iocY2mE_S",
        "outputId": "16fdc023-b214-4b43-8649-854a194f3a58"
      },
      "execution_count": null,
      "outputs": [
        {
          "output_type": "stream",
          "name": "stdout",
          "text": [
            "1 + 2 = 3\n",
            "1 + 2 = 3\n"
          ]
        }
      ]
    },
    {
      "cell_type": "markdown",
      "source": [
        "placeholder 문자열과 `format()` 매서드(함수)를 사용해서 출력하는 방법: "
      ],
      "metadata": {
        "id": "FPXC6IIIm-SD"
      }
    },
    {
      "cell_type": "code",
      "source": [
        "print('{} + {} = {}'.format(1, 2, (1+2))) "
      ],
      "metadata": {
        "colab": {
          "base_uri": "https://localhost:8080/"
        },
        "id": "KdSnb6AHnXbq",
        "outputId": "f5e7d38d-17a2-4f07-fd27-69ea3868d421"
      },
      "execution_count": null,
      "outputs": [
        {
          "output_type": "stream",
          "name": "stdout",
          "text": [
            "1 + 2 = 3\n"
          ]
        }
      ]
    },
    {
      "cell_type": "code",
      "source": [
        "# 변수 (variable) : 값을 저장하는 메모리 공간.\n",
        "x = 10 # 변수 x에 숫자 10 저장.\n",
        "y = 20"
      ],
      "metadata": {
        "id": "CzM25Vr1rovc"
      },
      "execution_count": null,
      "outputs": []
    },
    {
      "cell_type": "code",
      "source": [
        "print('{} + {} = {}'.format(x, y, (x+y)))"
      ],
      "metadata": {
        "colab": {
          "base_uri": "https://localhost:8080/"
        },
        "id": "W7P0WO79sO_L",
        "outputId": "32fb452b-8ea9-44a8-e466-e26134d874fe"
      },
      "execution_count": null,
      "outputs": [
        {
          "output_type": "stream",
          "name": "stdout",
          "text": [
            "100 + 20 = 120\n"
          ]
        }
      ]
    },
    {
      "cell_type": "markdown",
      "source": [
        "파이썬 3.6 버전부터 formatted string 기능이 새로 추가됨."
      ],
      "metadata": {
        "id": "0wh83rL0tH5k"
      }
    },
    {
      "cell_type": "code",
      "source": [
        "print(f'{x} + {y} = {x+y}')"
      ],
      "metadata": {
        "colab": {
          "base_uri": "https://localhost:8080/"
        },
        "id": "uhDiJn8Lti58",
        "outputId": "ff606aed-43f9-49a2-837e-2cfa4dd5c8fd"
      },
      "execution_count": null,
      "outputs": [
        {
          "output_type": "stream",
          "name": "stdout",
          "text": [
            "10 + 20 = 30\n"
          ]
        }
      ]
    },
    {
      "cell_type": "code",
      "source": [
        "name = 'NAME'\n",
        "print(f'안녕하세요, {name}')"
      ],
      "metadata": {
        "colab": {
          "base_uri": "https://localhost:8080/"
        },
        "id": "6zwvo1FcubAT",
        "outputId": "9bfec2f6-0768-4d41-d72b-1fcee6eb0ce7"
      },
      "execution_count": 1,
      "outputs": [
        {
          "output_type": "stream",
          "name": "stdout",
          "text": [
            "안녕하세요, NAME\n"
          ]
        }
      ]
    },
    {
      "cell_type": "markdown",
      "source": [
        "키보드로 문자열을 입력받아서, 화면에 입력받은 내용을 출력."
      ],
      "metadata": {
        "id": "PUnVzxfWu_-U"
      }
    },
    {
      "cell_type": "code",
      "source": [
        "name = input('이름을 입력하세요>>>')\n",
        "print(f'안녕하세요, {name}님!')"
      ],
      "metadata": {
        "colab": {
          "base_uri": "https://localhost:8080/"
        },
        "id": "WFqd9RMrvEr8",
        "outputId": "cd987237-c7b0-4c25-822f-c441f5655d1e"
      },
      "execution_count": 2,
      "outputs": [
        {
          "output_type": "stream",
          "name": "stdout",
          "text": [
            "이름을 입력하세요>>>MAN\n",
            "안녕하세요, MAN님!\n"
          ]
        }
      ]
    }
  ]
}