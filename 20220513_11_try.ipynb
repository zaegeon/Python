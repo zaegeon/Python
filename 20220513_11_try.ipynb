{
  "nbformat": 4,
  "nbformat_minor": 0,
  "metadata": {
    "colab": {
      "name": "20220513_11_try.ipynb",
      "provenance": [],
      "collapsed_sections": [],
      "authorship_tag": "ABX9TyOFKDmm4vSM5//JLA5J7FuU",
      "include_colab_link": true
    },
    "kernelspec": {
      "name": "python3",
      "display_name": "Python 3"
    },
    "language_info": {
      "name": "python"
    }
  },
  "cells": [
    {
      "cell_type": "markdown",
      "metadata": {
        "id": "view-in-github",
        "colab_type": "text"
      },
      "source": [
        "<a href=\"https://colab.research.google.com/github/zaegeon/Python/blob/main/20220513_11_try.ipynb\" target=\"_parent\"><img src=\"https://colab.research.google.com/assets/colab-badge.svg\" alt=\"Open In Colab\"/></a>"
      ]
    },
    {
      "cell_type": "markdown",
      "source": [
        "# 오류(Error)의 종류"
      ],
      "metadata": {
        "id": "C295CFvhtzCz"
      }
    },
    {
      "cell_type": "code",
      "execution_count": 3,
      "metadata": {
        "colab": {
          "base_uri": "https://localhost:8080/"
        },
        "id": "uqOuP-hStoWE",
        "outputId": "428c75fb-a33f-4e21-a48c-47ee2bba3ca1"
      },
      "outputs": [
        {
          "output_type": "stream",
          "name": "stdout",
          "text": [
            "안녕하세요!\n"
          ]
        }
      ],
      "source": [
        "# prnt('안녕하세요!') # NameError : 'prnt' 이름의 함수가 정의되어 있지 않음\n",
        "print('안녕하세요!')"
      ]
    },
    {
      "cell_type": "code",
      "source": [
        "# n = int('100.') # ValueError : 문자열 literal(값)은 정수로 변환할 수 없음\n",
        "n = int('100')\n",
        "n"
      ],
      "metadata": {
        "colab": {
          "base_uri": "https://localhost:8080/"
        },
        "id": "F7qbVTa2vb4Q",
        "outputId": "1df7ab49-95e9-4ffe-cb2c-32cc8a90f1d2"
      },
      "execution_count": 5,
      "outputs": [
        {
          "output_type": "execute_result",
          "data": {
            "text/plain": [
              "100"
            ]
          },
          "metadata": {},
          "execution_count": 5
        }
      ]
    },
    {
      "cell_type": "code",
      "source": [
        "# print(100 + '200') # TypeError : '숫자 + 문자열'은 제공되지 않는 연산\n",
        "print(100 + 200) # 300\n",
        "print('100' + '200') # 100200"
      ],
      "metadata": {
        "colab": {
          "base_uri": "https://localhost:8080/"
        },
        "id": "CZExttUIwl92",
        "outputId": "ffe2fc56-e64e-4037-b4f1-643c17f41629"
      },
      "execution_count": 9,
      "outputs": [
        {
          "output_type": "stream",
          "name": "stdout",
          "text": [
            "300\n",
            "100200\n"
          ]
        }
      ]
    },
    {
      "cell_type": "code",
      "source": [
        "numbers = [1, 2, 3]\n",
        "# numbers[3] # IndexError : 리스트의 인덱스가 범위를 벗어났기 때문\n",
        "numbers[2]"
      ],
      "metadata": {
        "colab": {
          "base_uri": "https://localhost:8080/"
        },
        "id": "0jjAYCo-x8KY",
        "outputId": "c500bf2f-e3dc-445e-c529-4b9ff5e9d06e"
      },
      "execution_count": 8,
      "outputs": [
        {
          "output_type": "execute_result",
          "data": {
            "text/plain": [
              "3"
            ]
          },
          "metadata": {},
          "execution_count": 8
        }
      ]
    },
    {
      "cell_type": "markdown",
      "source": [
        "# 프로그램 실행 중에 오류(error)가 발생하는 경우 해결 방법 :\n",
        "\n",
        "* 오류가 발생한 위치와 원인을 파악해서 오류가 발생하지 않도록 코드를 수정.\n",
        "* 오류가 발생하더라도 프로그램이 (비정상적으로) 종료되지 않고 계속 실행될 수 있도록 처리."
      ],
      "metadata": {
        "id": "ob2hJfD2y6QS"
      }
    },
    {
      "cell_type": "markdown",
      "source": [
        "# try-except 구문\n",
        "\n",
        "```\n",
        "try:\n",
        "    (1) 실행할 코드 블록\n",
        "except [에러 이름 [as 변수]]:\n",
        "    (2) 에러가 발생했을 때 실행 코드 블록\n",
        "[else:\n",
        "    (3) try 블록이 에러 없이 정상적으로 모두 실행됐을 때 실행할 코드 블록]\n",
        "[finally:\n",
        "    (4) try 블록 실행 중에 에러 발생 여부에 상관없이 항상 실행할 코드 블록]\n",
        "```\n",
        "\n",
        "* except에서 에러 이름을 생략하면 모든 종류의 에러를 처리할 수 있음.\n",
        "* except에서 에러 이름을 지정하면 지정한 이름의 에러만 처리할 수 있음.\n",
        "* 처리해야 할 에러의 종류가 여러 개이면 except 구문을 여러 개 사용할 수 있음.\n",
        "* try 구문 실행 순서\n",
        "    * 에러가 발생하지 않은 경우 : (1) → (3) → (4)\n",
        "    * 에러가 발생한 경우 : (1) → (2) → (4)"
      ],
      "metadata": {
        "id": "yIBlzzWky3Zu"
      }
    },
    {
      "cell_type": "code",
      "source": [
        "x = float(input('숫자 입력>>> '))\n",
        "y = float(input('숫자 입력>>> '))\n",
        "print(f'{x} + {y} = {x + y}')\n",
        "print(f'{x} - {y} = {x - y}')\n",
        "print(f'{x} × {y} = {x * y}')\n",
        "print(f'{x} ÷ {y} = {x / y}')"
      ],
      "metadata": {
        "colab": {
          "base_uri": "https://localhost:8080/"
        },
        "id": "Zr2-eamu2F-b",
        "outputId": "6d1e9b2c-9a50-4d79-a1f3-6f456990bbb1"
      },
      "execution_count": 13,
      "outputs": [
        {
          "output_type": "stream",
          "name": "stdout",
          "text": [
            "숫자 입력>>> 1.0\n",
            "숫자 입력>>> 2.0\n",
            "1.0 + 2.0 = 3.0\n",
            "1.0 - 2.0 = -1.0\n",
            "1.0 × 2.0 = 2.0\n",
            "1.0 ÷ 2.0 = 0.5\n"
          ]
        }
      ]
    },
    {
      "cell_type": "code",
      "source": [
        "try:\n",
        "    x = float(input('숫자 입력>>> '))\n",
        "    y = float(input('숫자 입력>>> '))\n",
        "    print(f'{x} + {y} = {x + y}')\n",
        "    print(f'{x} - {y} = {x - y}')\n",
        "    print(f'{x} × {y} = {x * y}')\n",
        "    print(f'{x} ÷ {y} = {x / y}')\n",
        "except:\n",
        "    print('에러 발생!')"
      ],
      "metadata": {
        "colab": {
          "base_uri": "https://localhost:8080/"
        },
        "id": "FtlxUyfa8V36",
        "outputId": "8ca2d882-28f6-4b69-d868-ba8e91ff293c"
      },
      "execution_count": 12,
      "outputs": [
        {
          "output_type": "stream",
          "name": "stdout",
          "text": [
            "숫자 입력>>> 9\n",
            "숫자 입력>>> 0\n",
            "9.0 + 0.0 = 9.0\n",
            "9.0 - 0.0 = 9.0\n",
            "9.0 × 0.0 = 0.0\n",
            "에러 발생!\n"
          ]
        }
      ]
    },
    {
      "cell_type": "code",
      "source": [
        "try:\n",
        "    x = float(input('숫자 입력>>> '))\n",
        "    y = float(input('숫자 입력>>> '))\n",
        "    print(f'{x} + {y} = {x + y}')\n",
        "    print(f'{x} - {y} = {x - y}')\n",
        "    print(f'{x} × {y} = {x * y}')\n",
        "    print(f'{x} ÷ {y} = {x / y}')\n",
        "except ValueError as e:\n",
        "    print(e)\n",
        "    print('입력값은 숫자여야 합니다.')\n",
        "except ZeroDivisionError as e:\n",
        "    print(e)\n",
        "    print('0으로 나눌 수 없습니다.')"
      ],
      "metadata": {
        "colab": {
          "base_uri": "https://localhost:8080/"
        },
        "id": "xwyHJZpG-Yke",
        "outputId": "b35d379c-00a4-43f1-d085-533ec0388f98"
      },
      "execution_count": 16,
      "outputs": [
        {
          "output_type": "stream",
          "name": "stdout",
          "text": [
            "숫자 입력>>> 9\n",
            "숫자 입력>>> 0\n",
            "9.0 + 0.0 = 9.0\n",
            "9.0 - 0.0 = 9.0\n",
            "9.0 × 0.0 = 0.0\n",
            "float division by zero\n",
            "0으로 나눌 수 없습니다.\n"
          ]
        }
      ]
    },
    {
      "cell_type": "markdown",
      "source": [
        "## try-except 응용\n",
        "\n",
        "사용자에게 숫자를 입력하라고 알려주고 숫자로 변환할 수 있는 문자열이면 변환 후에 정상 종료시키고, 에러가 발생하면 다시 입력하도록 코드 작성"
      ],
      "metadata": {
        "id": "GXsGBH8IAtT8"
      }
    },
    {
      "cell_type": "code",
      "source": [
        "while True: # 무한 반복문\n",
        "    try:\n",
        "        x = float(input('숫자 입력>>> '))\n",
        "        print(f'x = {x}')\n",
        "        break # while 반복문 종료\n",
        "    except Exception: # 모든 종류의 예외(exception) 처리\n",
        "        print('입력한 값은 숫자로 변환할 수 없습니다.')"
      ],
      "metadata": {
        "colab": {
          "base_uri": "https://localhost:8080/"
        },
        "id": "vFfCn1H9AssK",
        "outputId": "9093eb2c-208d-484e-8082-dc6daee8af07"
      },
      "execution_count": null,
      "outputs": [
        {
          "output_type": "stream",
          "name": "stdout",
          "text": [
            "숫자 입력>>> 0.ㅂ\n",
            "입력한 값은 숫자로 변환할 수 없습니다.\n",
            "숫자 입력>>> 0.01\n",
            "x = 0.01\n"
          ]
        }
      ]
    }
  ]
}