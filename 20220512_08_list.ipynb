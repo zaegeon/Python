{
  "nbformat": 4,
  "nbformat_minor": 0,
  "metadata": {
    "colab": {
      "name": "20220512_08_list.ipynb",
      "provenance": [],
      "collapsed_sections": [],
      "authorship_tag": "ABX9TyN8Jp+gjYi55N8tC6awZObc",
      "include_colab_link": true
    },
    "kernelspec": {
      "name": "python3",
      "display_name": "Python 3"
    },
    "language_info": {
      "name": "python"
    }
  },
  "cells": [
    {
      "cell_type": "markdown",
      "metadata": {
        "id": "view-in-github",
        "colab_type": "text"
      },
      "source": [
        "<a href=\"https://colab.research.google.com/github/zaegeon/Python/blob/main/20220512_08_list.ipynb\" target=\"_parent\"><img src=\"https://colab.research.google.com/assets/colab-badge.svg\" alt=\"Open In Colab\"/></a>"
      ]
    },
    {
      "cell_type": "markdown",
      "source": [
        "# list와 for 반복문"
      ],
      "metadata": {
        "id": "X1QbpQPeA28m"
      }
    },
    {
      "cell_type": "code",
      "execution_count": null,
      "metadata": {
        "colab": {
          "base_uri": "https://localhost:8080/"
        },
        "id": "PfT_pbzLAqU3",
        "outputId": "cfaf731e-91b7-4a9e-f72e-27d0ffd3a1c4"
      },
      "outputs": [
        {
          "output_type": "stream",
          "name": "stdout",
          "text": [
            "1\n",
            "10\n",
            "100\n",
            "1000\n"
          ]
        }
      ],
      "source": [
        "numbers = [1, 10, 100, 1000]\n",
        "for x in numbers:\n",
        "    print(x)"
      ]
    },
    {
      "cell_type": "code",
      "source": [
        "# list의 index와 값들을 함께 순회 (iteration)\n",
        "for index, value in enumerate(numbers):\n",
        "    print(index, ':', value)"
      ],
      "metadata": {
        "colab": {
          "base_uri": "https://localhost:8080/"
        },
        "id": "KmdhEOgtBtFp",
        "outputId": "697be795-50b5-4f0e-b948-f8d905c875a4"
      },
      "execution_count": null,
      "outputs": [
        {
          "output_type": "stream",
          "name": "stdout",
          "text": [
            "0 : 1\n",
            "1 : 10\n",
            "2 : 100\n",
            "3 : 1000\n"
          ]
        }
      ]
    },
    {
      "cell_type": "markdown",
      "source": [
        "* 빈 리스트(empty list)를 만듦.\n",
        "* 리스트에 정수 난수 10개를 저장.\n",
        "* 리스트에서 짝수들로만 이루어진 새로운 리스트 생성.\n",
        "* 리스트에서 홀수들로만 이루어진 새로운 리스트 생성."
      ],
      "metadata": {
        "id": "PdJYQvdZDmMB"
      }
    },
    {
      "cell_type": "code",
      "source": [
        "import random as rd # 난수 사용하기 위한 모듈"
      ],
      "metadata": {
        "id": "jr2eRpScDxcW"
      },
      "execution_count": null,
      "outputs": []
    },
    {
      "cell_type": "code",
      "source": [
        "numbers = [] # empty list\n",
        "for _ in range(10):                     # 10번 반복\n",
        "    numbers.append(rd.randrange(100))   # 0 이상 100 미만 정수 난수를 리스트 numbers의 가장 마지막에 추가\n",
        "print(numbers)"
      ],
      "metadata": {
        "colab": {
          "base_uri": "https://localhost:8080/"
        },
        "id": "O6Rp-CrCD2XQ",
        "outputId": "460be314-29b5-457e-aad1-735e9ba20913"
      },
      "execution_count": null,
      "outputs": [
        {
          "output_type": "stream",
          "name": "stdout",
          "text": [
            "[52, 35, 41, 56, 31, 20, 8, 89, 87, 17]\n"
          ]
        }
      ]
    },
    {
      "cell_type": "code",
      "source": [
        "evens = [] # 짝수들만 저장할 리스트\n",
        "odds = [] # 홀수들만 저장할 리스트\n",
        "for x in numbers:       # 리스트 numbers의 원소들을 순회(iteration)하면서 \n",
        "    if x % 2 == 0:      # 리스트에서 꺼낸 원소가 짝수이면\n",
        "        evens.append(x) # evens 리스트에 append\n",
        "    else:               # 리스트에서 꺼낸 원소가 홀수이면\n",
        "        odds.append(x)  # odds 리스트에 append\n",
        "print(evens)\n",
        "print(odds)"
      ],
      "metadata": {
        "colab": {
          "base_uri": "https://localhost:8080/"
        },
        "id": "TR-o18apJ4Rz",
        "outputId": "c2f87c6b-460a-4104-8414-d4d6a31fab1f"
      },
      "execution_count": null,
      "outputs": [
        {
          "output_type": "stream",
          "name": "stdout",
          "text": [
            "[52, 56, 20, 8]\n",
            "[35, 41, 31, 89, 87, 17]\n"
          ]
        }
      ]
    },
    {
      "cell_type": "markdown",
      "source": [
        "*    integers 이름의 빈 리스트를 만듦.\n",
        "*    리스트 integers에 -10 이상 10 이하의 정수 난수 10개를 저장.\n",
        "*    positives 이름의 빈 리스트를 만듦.\n",
        "*    positives에는 integers의 원소가 양수이면 True, 그렇지 않으면 False 저장.\n",
        "*    positives를 출력."
      ],
      "metadata": {
        "id": "s3cG2Hy0K73a"
      }
    },
    {
      "cell_type": "code",
      "source": [
        "integers = []\n",
        "for _ in range(10):\n",
        "    integers.append(rd.randrange(-10,11))\n",
        "print(integers)\n",
        "\n",
        "positives = []\n",
        "for x in integers:\n",
        "    if x > 0:\n",
        "        positives.append(True)\n",
        "    else:\n",
        "        positives.append(False)\n",
        "print(positives)"
      ],
      "metadata": {
        "colab": {
          "base_uri": "https://localhost:8080/"
        },
        "id": "iGu04jsmLWZ5",
        "outputId": "a6d25c47-f511-4ea3-ec72-f1001858895e"
      },
      "execution_count": null,
      "outputs": [
        {
          "output_type": "stream",
          "name": "stdout",
          "text": [
            "[5, -10, 9, -6, -9, -1, -6, -8, 7, -1]\n",
            "[True, False, True, False, False, False, False, False, True, False]\n"
          ]
        }
      ]
    },
    {
      "cell_type": "markdown",
      "source": [
        "* gender_codes 이름의 빈 리스트를 만듦.\n",
        "* gender_codes에 0 또는 1을 무작위로(랜덤하게) 10개를 저장.\n",
        "* gender 이름의 빈 리스트를 만듦.\n",
        "* gender에는 gender_codes의 값이 0이면 'Male', 1이면 'Female'을 저장.\n",
        "* gender를 출력."
      ],
      "metadata": {
        "id": "4JgIdLk1LiXr"
      }
    },
    {
      "cell_type": "code",
      "source": [
        "gender_codes = []\n",
        "for _ in range(10):\n",
        "    gender_codes.append(rd.randrange(0,2))\n",
        "print(gender_codes)\n",
        "\n",
        "gender = []\n",
        "for x in gender_codes:\n",
        "    if x == 0:\n",
        "        gender.append('Male')\n",
        "    else:\n",
        "        gender.append('Female')\n",
        "print(gender)"
      ],
      "metadata": {
        "colab": {
          "base_uri": "https://localhost:8080/"
        },
        "id": "cy5grVW2NZro",
        "outputId": "d9f35b06-8854-48c1-baba-55d5e171f61c"
      },
      "execution_count": null,
      "outputs": [
        {
          "output_type": "stream",
          "name": "stdout",
          "text": [
            "[1, 0, 1, 0, 1, 1, 0, 0, 0, 0]\n",
            "['Female', 'Male', 'Female', 'Male', 'Female', 'Female', 'Male', 'Male', 'Male', 'Male']\n"
          ]
        }
      ]
    },
    {
      "cell_type": "markdown",
      "source": [
        "# list comprehension (리스트 내포)"
      ],
      "metadata": {
        "id": "EyJL0xo0lm7d"
      }
    },
    {
      "cell_type": "markdown",
      "source": [
        "* 빈 리스트에 1부터 10까지 정수를 오름차순으로 저장.\n"
      ],
      "metadata": {
        "id": "53duw9e8l39S"
      }
    },
    {
      "cell_type": "code",
      "source": [
        "numbers = []\n",
        "for x in range(1, 11):\n",
        "    numbers.append(x)\n",
        "print(numbers)"
      ],
      "metadata": {
        "colab": {
          "base_uri": "https://localhost:8080/"
        },
        "id": "IRhU2SwMmWU6",
        "outputId": "48950779-2ca7-4209-ab1c-831219f03002"
      },
      "execution_count": null,
      "outputs": [
        {
          "output_type": "stream",
          "name": "stdout",
          "text": [
            "[1, 2, 3, 4, 5, 6, 7, 8, 9, 10]\n"
          ]
        }
      ]
    },
    {
      "cell_type": "code",
      "source": [
        "numbers2 = [x for x in range(1,11)]\n",
        "print(numbers2)"
      ],
      "metadata": {
        "colab": {
          "base_uri": "https://localhost:8080/"
        },
        "id": "Q9rM4R4gmsY6",
        "outputId": "0c5b6379-d23d-41b7-bb1e-473522876cf5"
      },
      "execution_count": null,
      "outputs": [
        {
          "output_type": "stream",
          "name": "stdout",
          "text": [
            "[1, 2, 3, 4, 5, 6, 7, 8, 9, 10]\n"
          ]
        }
      ]
    },
    {
      "cell_type": "markdown",
      "source": [
        "* `[1, 4, 9, ... , 81, 100]` : 1~10 정수들의 제곱으로 이루어진 리스트"
      ],
      "metadata": {
        "id": "OdKdC5STnjYo"
      }
    },
    {
      "cell_type": "code",
      "source": [
        "numbers3 = []\n",
        "for x in range(1, 11):\n",
        "    numbers3.append(x ** 2)\n",
        "print(numbers3)\n",
        "\n",
        "numbers3 = [x ** 2 for x in range(1,11)]\n",
        "print(numbers3)"
      ],
      "metadata": {
        "colab": {
          "base_uri": "https://localhost:8080/"
        },
        "id": "nyJmLDKHnVcL",
        "outputId": "da984022-7294-4baf-f9cb-a2ce29ee96d8"
      },
      "execution_count": null,
      "outputs": [
        {
          "output_type": "stream",
          "name": "stdout",
          "text": [
            "[1, 4, 9, 16, 25, 36, 49, 64, 81, 100]\n",
            "[1, 4, 9, 16, 25, 36, 49, 64, 81, 100]\n"
          ]
        }
      ]
    },
    {
      "cell_type": "markdown",
      "source": [
        "* numbers 리스트에 [0, 100) 범위의 난수 10개를 저장."
      ],
      "metadata": {
        "id": "iVyMFI4KpX6R"
      }
    },
    {
      "cell_type": "code",
      "source": [
        "numbers = [rd.randrange(100) for _ in range(10)]\n",
        "print(numbers)"
      ],
      "metadata": {
        "colab": {
          "base_uri": "https://localhost:8080/"
        },
        "id": "swrYV2_uq7FD",
        "outputId": "bc176122-8a71-477b-97d8-49e1773df7a8"
      },
      "execution_count": null,
      "outputs": [
        {
          "output_type": "stream",
          "name": "stdout",
          "text": [
            "[80, 74, 1, 47, 21, 78, 26, 21, 51, 32]\n"
          ]
        }
      ]
    },
    {
      "cell_type": "markdown",
      "source": [
        "* numbers에 저장된 숫자들 중 짝수들로만 이루어진 리스트"
      ],
      "metadata": {
        "id": "-dTkQ44irFVs"
      }
    },
    {
      "cell_type": "code",
      "source": [
        "evens = [x for x in numbers if x % 2 == 0]\n",
        "print(evens)"
      ],
      "metadata": {
        "colab": {
          "base_uri": "https://localhost:8080/"
        },
        "id": "BUsuVvQOrEft",
        "outputId": "ac1aa28e-dc19-49ca-d77c-450797131ec9"
      },
      "execution_count": null,
      "outputs": [
        {
          "output_type": "stream",
          "name": "stdout",
          "text": [
            "[80, 74, 78, 26, 32]\n"
          ]
        }
      ]
    },
    {
      "cell_type": "code",
      "source": [
        "# 문자열들의 리스트\n",
        "fruits = ['apple', 'banana', 'cherry', 'durian', 'watermelon']\n",
        "# 문자열의 길이를 저장하는 리스트\n",
        "fruits_lengths = [len(x) for x in fruits]\n",
        "print(fruits_lengths)"
      ],
      "metadata": {
        "colab": {
          "base_uri": "https://localhost:8080/"
        },
        "id": "CRPRTO0Hsenk",
        "outputId": "b3b3e021-6693-48aa-ad2f-11eaab83cb0b"
      },
      "execution_count": null,
      "outputs": [
        {
          "output_type": "stream",
          "name": "stdout",
          "text": [
            "[5, 6, 6, 6, 10]\n"
          ]
        }
      ]
    },
    {
      "cell_type": "markdown",
      "source": [
        "*  [0, 100) 범위의 정수 난수 10개를 갖는 리스트를 만듦.\n",
        "*  리스트의 원소가 짝수이면 'even', 홀수이면 'odd'를 갖는 리스트를 만듦.\n"
      ],
      "metadata": {
        "id": "4snLBLg_yHMd"
      }
    },
    {
      "cell_type": "code",
      "source": [
        "# if-else expression(표현식)\n",
        "n = 99\n",
        "is_even = 'even' if n % 2 == 0 else 'odd'\n",
        "print(is_even)"
      ],
      "metadata": {
        "colab": {
          "base_uri": "https://localhost:8080/"
        },
        "id": "MiLqOFqJy_BN",
        "outputId": "cb801eb7-95cb-435e-961e-13f95cb059e5"
      },
      "execution_count": null,
      "outputs": [
        {
          "output_type": "stream",
          "name": "stdout",
          "text": [
            "odd\n"
          ]
        }
      ]
    },
    {
      "cell_type": "code",
      "source": [
        "numbers = [rd.randrange(100) for _ in range(10)]\n",
        "print(numbers)\n",
        "result = ['even' if x % 2 == 0 else 'odd'\n",
        "          for x in numbers]\n",
        "print(result)"
      ],
      "metadata": {
        "colab": {
          "base_uri": "https://localhost:8080/"
        },
        "id": "FQViCNW00wK5",
        "outputId": "f834b2c3-e1d6-42e8-f1f0-b521ade35ee7"
      },
      "execution_count": null,
      "outputs": [
        {
          "output_type": "stream",
          "name": "stdout",
          "text": [
            "[99, 78, 90, 5, 81, 49, 30, 19, 68, 25]\n",
            "['odd', 'even', 'even', 'odd', 'odd', 'odd', 'even', 'odd', 'even', 'odd']\n"
          ]
        }
      ]
    },
    {
      "cell_type": "markdown",
      "source": [
        "* 0과 1이 랜덤하게 10개 저장된 리스트 만듦.\n",
        "* 0이면 'Male', 1이면 'Female'을 저장하는 리스트를 만듦."
      ],
      "metadata": {
        "id": "FquFCzB63GE2"
      }
    },
    {
      "cell_type": "code",
      "source": [
        "num = [rd.randrange(0,2) for _ in range(10)]\n",
        "print(num)\n",
        "gender = ['Male' if x == 0 else 'Female'\n",
        "          for x in num]\n",
        "print(gender)"
      ],
      "metadata": {
        "colab": {
          "base_uri": "https://localhost:8080/"
        },
        "id": "4ec69HAg3OHx",
        "outputId": "8ee3a64c-b5ed-4474-c385-6566d1c29658"
      },
      "execution_count": null,
      "outputs": [
        {
          "output_type": "stream",
          "name": "stdout",
          "text": [
            "[0, 0, 0, 1, 0, 0, 0, 0, 0, 0]\n",
            "['Male', 'Male', 'Male', 'Female', 'Male', 'Male', 'Male', 'Male', 'Male', 'Male']\n"
          ]
        }
      ]
    },
    {
      "cell_type": "markdown",
      "source": [
        "* numbers1 : 10 미만의 0 또는 양의 정수 10개를 저장하고 있는 리스트.\n",
        "* numbers2 : 10 미만의 0 또는 양의 정수 10개를 저장하고 있는 리스트.\n",
        "* adds : numbers1과 numbers2의 같은 인덱스에 있는 원소들끼리의 합을 저장하는 리스트."
      ],
      "metadata": {
        "id": "0nQjto_45oeP"
      }
    },
    {
      "cell_type": "code",
      "source": [
        "numbers1 = [rd.randrange(0, 10) for _ in range(10)]\n",
        "numbers2 = [rd.randrange(0, 10) for _ in range(10)]\n",
        "adds = [numbers1[a] + numbers2[a] for a in range(10)]\n",
        "print(numbers1)\n",
        "print(numbers2)\n",
        "print(adds)"
      ],
      "metadata": {
        "colab": {
          "base_uri": "https://localhost:8080/"
        },
        "id": "RN2e02Xb6IiL",
        "outputId": "24341a94-b40f-4053-8be0-d6f879804efa"
      },
      "execution_count": null,
      "outputs": [
        {
          "output_type": "stream",
          "name": "stdout",
          "text": [
            "[2, 8, 7, 0, 1, 9, 2, 6, 2, 6]\n",
            "[6, 0, 1, 5, 9, 8, 9, 6, 9, 2]\n",
            "[8, 8, 8, 5, 10, 17, 11, 12, 11, 8]\n"
          ]
        }
      ]
    },
    {
      "cell_type": "code",
      "source": [
        "print(numbers1)\n",
        "print(numbers2)\n",
        "for x,y in zip(numbers1, numbers2):\n",
        "    print(x+y, x*y)"
      ],
      "metadata": {
        "colab": {
          "base_uri": "https://localhost:8080/"
        },
        "id": "hUIGp61TDXlc",
        "outputId": "e8610f21-f00a-4b04-e595-fce5b9fc17c1"
      },
      "execution_count": null,
      "outputs": [
        {
          "output_type": "stream",
          "name": "stdout",
          "text": [
            "[2, 8, 7, 0, 1, 9, 2, 6, 2, 6]\n",
            "[6, 0, 1, 5, 9, 8, 9, 6, 9, 2]\n",
            "8 12\n",
            "8 0\n",
            "8 7\n",
            "5 0\n",
            "10 9\n",
            "17 72\n",
            "11 18\n",
            "12 36\n",
            "11 18\n",
            "8 12\n"
          ]
        }
      ]
    },
    {
      "cell_type": "code",
      "source": [
        "adds = []\n",
        "for x, y in zip(numbers1, numbers2):\n",
        "    adds.append(x + y)\n",
        "print(adds)\n",
        "\n",
        "# list comprehension\n",
        "adds = [x + y for x, y in zip(numbers1, numbers2)]\n",
        "print(adds)"
      ],
      "metadata": {
        "colab": {
          "base_uri": "https://localhost:8080/"
        },
        "id": "yxYonGdcEzBX",
        "outputId": "1817ae3a-4104-4bc8-cda2-e8d93790e262"
      },
      "execution_count": null,
      "outputs": [
        {
          "output_type": "stream",
          "name": "stdout",
          "text": [
            "[8, 8, 8, 5, 10, 17, 11, 12, 11, 8]\n",
            "[8, 8, 8, 5, 10, 17, 11, 12, 11, 8]\n"
          ]
        }
      ]
    },
    {
      "cell_type": "markdown",
      "source": [
        "# 다차원 리스트"
      ],
      "metadata": {
        "id": "z6tK56uOGBsf"
      }
    },
    {
      "cell_type": "code",
      "source": [
        "# 2차원 리스트 : 1차원 리스트들을 원소로 갖는 리스트.\n",
        "matrix = [[1, 2, 3],\n",
        "          [4, 5, 6],\n",
        "          [7, 8, 9]]\n",
        "print(matrix)\n",
        "matrix[0] # [1, 2, 3]\n",
        "matrix[0][0] # 1"
      ],
      "metadata": {
        "colab": {
          "base_uri": "https://localhost:8080/"
        },
        "id": "mR3BESxxGD75",
        "outputId": "0d8a8092-c26d-4683-ec74-67b07a80ef69"
      },
      "execution_count": null,
      "outputs": [
        {
          "output_type": "stream",
          "name": "stdout",
          "text": [
            "[[1, 2, 3], [4, 5, 6], [7, 8, 9]]\n"
          ]
        },
        {
          "output_type": "execute_result",
          "data": {
            "text/plain": [
              "1"
            ]
          },
          "metadata": {},
          "execution_count": 73
        }
      ]
    },
    {
      "cell_type": "markdown",
      "source": [
        "## 2차원 리스트에서 for 반복문"
      ],
      "metadata": {
        "id": "SJnguOkHHkQS"
      }
    },
    {
      "cell_type": "code",
      "source": [
        "for row in matrix:\n",
        "    for x in row:\n",
        "        print(x, end = '\\t')\n",
        "    print()"
      ],
      "metadata": {
        "colab": {
          "base_uri": "https://localhost:8080/"
        },
        "id": "JjAB6hajHm9G",
        "outputId": "b31313ff-e77d-4899-ed35-29a9aa063cf7"
      },
      "execution_count": null,
      "outputs": [
        {
          "output_type": "stream",
          "name": "stdout",
          "text": [
            "1\t2\t3\t\n",
            "4\t5\t6\t\n",
            "7\t8\t9\t\n"
          ]
        }
      ]
    },
    {
      "cell_type": "code",
      "source": [
        "m1 = [[1, 2, 3],\n",
        "      [4, 5, 6]]\n",
        "m2 = [[1, 1, 1],\n",
        "      [2, 2, 2]]\n",
        "print(m1); print(m2)"
      ],
      "metadata": {
        "colab": {
          "base_uri": "https://localhost:8080/"
        },
        "id": "wN85jXESI9YO",
        "outputId": "61ff3dab-81ab-4c0d-f12d-8bc4b315f54a"
      },
      "execution_count": null,
      "outputs": [
        {
          "output_type": "stream",
          "name": "stdout",
          "text": [
            "[[1, 2, 3], [4, 5, 6]]\n",
            "[[1, 1, 1], [2, 2, 2]]\n"
          ]
        }
      ]
    },
    {
      "cell_type": "code",
      "source": [
        "adds = [] # 리스트들을 저장하기 위한 빈 리스트\n",
        "for row1, row2 in zip(m1, m2):\n",
        "    plus = [] # 1차원 리스트 row1, row2에서 같은 인덱스에 있는 원소들끼리 더한 값을 저장할 리스트\n",
        "    for x, y in zip(row1, row2):\n",
        "        plus.append(x+y)\n",
        "    adds.append(plus)\n",
        "print(adds)"
      ],
      "metadata": {
        "colab": {
          "base_uri": "https://localhost:8080/"
        },
        "id": "6KtZhK_vJi_5",
        "outputId": "341fa945-b1b9-4d2d-d24c-0cbcaf249c3f"
      },
      "execution_count": null,
      "outputs": [
        {
          "output_type": "stream",
          "name": "stdout",
          "text": [
            "[[2, 3, 4], [6, 7, 8]]\n"
          ]
        }
      ]
    },
    {
      "cell_type": "code",
      "source": [
        "adds = []\n",
        "for row1, row2 in zip(m1, m2):\n",
        "    plus = [x+y for x, y in zip(row1, row2)]\n",
        "    adds.append(plus)\n",
        "print(adds)"
      ],
      "metadata": {
        "colab": {
          "base_uri": "https://localhost:8080/"
        },
        "id": "IsRl3rAYUGWt",
        "outputId": "2011de49-ab2e-40e0-9bff-fe364032cfe4"
      },
      "execution_count": null,
      "outputs": [
        {
          "output_type": "stream",
          "name": "stdout",
          "text": [
            "[[2, 3, 4], [6, 7, 8]]\n"
          ]
        }
      ]
    },
    {
      "cell_type": "code",
      "source": [
        "adds = [[x + y for x, y in zip(row1, row2)]\n",
        "        for row1, row2 in zip(m1, m2)]\n",
        "print(adds)"
      ],
      "metadata": {
        "colab": {
          "base_uri": "https://localhost:8080/"
        },
        "id": "JSTLsxTkUj-A",
        "outputId": "02cd72fe-603c-4469-d52e-d8e465f58788"
      },
      "execution_count": null,
      "outputs": [
        {
          "output_type": "stream",
          "name": "stdout",
          "text": [
            "[[2, 3, 4], [6, 7, 8]]\n"
          ]
        }
      ]
    }
  ]
}