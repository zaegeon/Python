{
  "nbformat": 4,
  "nbformat_minor": 0,
  "metadata": {
    "colab": {
      "name": "20220511_07_list.ipynb",
      "provenance": [],
      "collapsed_sections": [],
      "toc_visible": true,
      "authorship_tag": "ABX9TyPaRXDbWf3IMxLBBUtJpDPm",
      "include_colab_link": true
    },
    "kernelspec": {
      "name": "python3",
      "display_name": "Python 3"
    },
    "language_info": {
      "name": "python"
    }
  },
  "cells": [
    {
      "cell_type": "markdown",
      "metadata": {
        "id": "view-in-github",
        "colab_type": "text"
      },
      "source": [
        "<a href=\"https://colab.research.google.com/github/zaegeon/Python/blob/main/20220511_07_list.ipynb\" target=\"_parent\"><img src=\"https://colab.research.google.com/assets/colab-badge.svg\" alt=\"Open In Colab\"/></a>"
      ]
    },
    {
      "cell_type": "markdown",
      "source": [
        "# List(리스트)"
      ],
      "metadata": {
        "id": "NpQXW1EzKQo9"
      }
    },
    {
      "cell_type": "markdown",
      "source": [
        "* list(리스트) : 여러 개의 값들을 하나의 변수에 저장하기 위한 데이터 타입.\n",
        "* element(원소, 요소) : 리스트에 저장된 각각의 값.\n",
        "* index(인덱스) : 리스트에서 각각의 원소들이 저장된 위치(번호).\n",
        "    * 리스트의 인덱스는 **0**부터 시작!\n",
        "    * 리스트의 마지막 원소의 인덱스는 (원소 개수 -1).\n",
        "* 리스트는 원소들을 변경(추가, 삭제)할 수 있음.\n",
        "    * 튜플(tuple)과 다른 점!"
      ],
      "metadata": {
        "id": "s6nA765ZKapX"
      }
    },
    {
      "cell_type": "code",
      "execution_count": null,
      "metadata": {
        "colab": {
          "base_uri": "https://localhost:8080/"
        },
        "id": "QC3mUCPuKM48",
        "outputId": "97695048-1b77-4cd7-c44f-8f7eb43b8a50"
      },
      "outputs": [
        {
          "output_type": "stream",
          "name": "stdout",
          "text": [
            "[1, 2, 10, 20, 100]\n",
            "<class 'list'>\n"
          ]
        }
      ],
      "source": [
        "# 숫자들을 저장하는 list\n",
        "numbers = [1, 2, 10, 20, 100]\n",
        "print(numbers)\n",
        "print(type(numbers)) # <class 'list'>"
      ]
    },
    {
      "cell_type": "markdown",
      "source": [
        "## indexing\n",
        "\n",
        "인덱스를 사용해서 리스트의 원소를 사용하는 방법.\n"
      ],
      "metadata": {
        "id": "LgbML4QtNOPD"
      }
    },
    {
      "cell_type": "code",
      "source": [
        "print(numbers[0]) # 리스트 첫 번째 원소\n",
        "print(numbers[4]) # 리스트 마지막 원소\n",
        "# print(numbers[5]) # IndexError 발생 (out of range)\n",
        "print(numbers[-1]) # 음수 인덱스를 사용해서 가장 마지막 원소를 찾을 수도 있음\n",
        "\n",
        "# 리스트에서 끝에서 두 번째 원소\n",
        "print(numbers[-2])"
      ],
      "metadata": {
        "colab": {
          "base_uri": "https://localhost:8080/"
        },
        "id": "iVL9WemIOnsJ",
        "outputId": "b5541519-79d4-406e-a103-6fbf8ba41b09"
      },
      "execution_count": null,
      "outputs": [
        {
          "output_type": "stream",
          "name": "stdout",
          "text": [
            "1\n",
            "100\n",
            "100\n",
            "20\n"
          ]
        }
      ]
    },
    {
      "cell_type": "markdown",
      "source": [
        "```\n",
        "list_name[start:end]\n",
        "```\n",
        "\n",
        "* 리스트에서 start ≤ index < end 범위의 원소들을 선택.\n",
        "* start를 생략하면 인덱스 0번 원소(리스트의 첫 번째 원소)부터 선택.\n",
        "* end를 생략하면 리스트의 마지막 원소까지 선택.\n",
        "* slicing의 결과는 **새로운 리스트!**"
      ],
      "metadata": {
        "id": "iGrYn4pLS6dI"
      }
    },
    {
      "cell_type": "code",
      "source": [
        "print(numbers) # [1, 2, 10, 20, 100]\n",
        "print(numbers[1:4]) # [2, 10, 20]\n",
        "print(numbers[2:5]) # [10, 20, 100]\n",
        "\n",
        "print(numbers[2:]) # [10, 20, 100]. end를 생략하면 리스트의 끝까지 slicing.\n",
        "print(numbers[:2]) # [1, 2]. start를 생략하면 리스트의 처음부터 end index까지 slicing."
      ],
      "metadata": {
        "colab": {
          "base_uri": "https://localhost:8080/"
        },
        "id": "frhl4w4HTdMg",
        "outputId": "1bee99a7-c0ab-4d7d-8c0e-d4c7e3b6f903"
      },
      "execution_count": null,
      "outputs": [
        {
          "output_type": "stream",
          "name": "stdout",
          "text": [
            "[1, 2, 10, 20, 100]\n",
            "[2, 10, 20]\n",
            "[10, 20, 100]\n",
            "[10, 20, 100]\n",
            "[1, 2]\n"
          ]
        }
      ]
    },
    {
      "cell_type": "code",
      "source": [
        "print(numbers[-2:]) # [20, 100]. 리스트에서 끝에서 2개 원소 선택."
      ],
      "metadata": {
        "colab": {
          "base_uri": "https://localhost:8080/"
        },
        "id": "CTBfZeiKWGyl",
        "outputId": "c599d305-201b-436f-e044-1cb1b4cbf772"
      },
      "execution_count": null,
      "outputs": [
        {
          "output_type": "stream",
          "name": "stdout",
          "text": [
            "[20, 100]\n"
          ]
        }
      ]
    },
    {
      "cell_type": "code",
      "source": [
        "print(numbers[0:1]) # [1]. slicing → 리스트\n",
        "print(numbers[0]) # 1. indexing → 숫자"
      ],
      "metadata": {
        "colab": {
          "base_uri": "https://localhost:8080/"
        },
        "id": "dOilg5AzWNV5",
        "outputId": "96fb39ff-9c4f-4066-d6d3-96e799af6a04"
      },
      "execution_count": null,
      "outputs": [
        {
          "output_type": "stream",
          "name": "stdout",
          "text": [
            "[1]\n",
            "1\n"
          ]
        }
      ]
    },
    {
      "cell_type": "markdown",
      "source": [
        "## 문자열\n",
        "\n",
        "문자들의 리스트.\n",
        "* 인덱스를 사용할 수 있음.\n",
        "* indexing : 인덱스를 사용해서 특정 위치에 있는 문자 한 개를 선택할 수 있음.\n",
        "* slicing : 인덱스를 사용해서 문자열을 잘라낼 수 있음."
      ],
      "metadata": {
        "id": "-l3ECnqgwAQ6"
      }
    },
    {
      "cell_type": "code",
      "source": [
        "message = '안녕하세요, Python!' # 14개의 문자를 가지고 있는 문자열.\n",
        "len(message) # 문자열의 길이 출력."
      ],
      "metadata": {
        "colab": {
          "base_uri": "https://localhost:8080/",
          "height": 35
        },
        "id": "mVDSYaLMwnEU",
        "outputId": "3fc455d6-b255-4732-c534-f98155a679df"
      },
      "execution_count": null,
      "outputs": [
        {
          "output_type": "execute_result",
          "data": {
            "text/plain": [
              "'하'"
            ],
            "application/vnd.google.colaboratory.intrinsic+json": {
              "type": "string"
            }
          },
          "metadata": {},
          "execution_count": 6
        }
      ]
    },
    {
      "cell_type": "code",
      "source": [
        "# message 문자열에서 첫 번째 문자 한 개를 출력\n",
        "print(message[0]) # 안\n",
        "\n",
        "# 문자열에서 마지막 문자 한 개를 선택\n",
        "print(message[-1]) # !"
      ],
      "metadata": {
        "colab": {
          "base_uri": "https://localhost:8080/"
        },
        "id": "duViCoPgxKNb",
        "outputId": "c705fe18-6699-4011-cbd3-888ce44516b7"
      },
      "execution_count": null,
      "outputs": [
        {
          "output_type": "stream",
          "name": "stdout",
          "text": [
            "안\n",
            "!\n"
          ]
        }
      ]
    },
    {
      "cell_type": "code",
      "source": [
        "# 문자열에서 첫 5개 문자들을 선택\n",
        "print(message[:5]) # 안녕하세요\n",
        "\n",
        "# 문자열에서 마지막 5개 문자들을 선택\n",
        "print(message[-5:]) # thon!"
      ],
      "metadata": {
        "colab": {
          "base_uri": "https://localhost:8080/"
        },
        "id": "ObR5swLcxn1u",
        "outputId": "aeeeadbd-f481-4bf7-bc35-65dace9047c6"
      },
      "execution_count": null,
      "outputs": [
        {
          "output_type": "stream",
          "name": "stdout",
          "text": [
            "안녕하세요\n",
            "thon!\n"
          ]
        }
      ]
    },
    {
      "cell_type": "markdown",
      "source": [
        "## list의 산술 연산 : +, *"
      ],
      "metadata": {
        "id": "kGOt5ZrQy6BI"
      }
    },
    {
      "cell_type": "code",
      "source": [
        "# 문자열에서의 +\n",
        "'Hello' + 'Python' # 'HelloPython'"
      ],
      "metadata": {
        "colab": {
          "base_uri": "https://localhost:8080/",
          "height": 35
        },
        "id": "LEjwFo9Yy-e6",
        "outputId": "9e5d46f3-7f9b-4365-8b0d-bdb35b8ae4f7"
      },
      "execution_count": null,
      "outputs": [
        {
          "output_type": "execute_result",
          "data": {
            "text/plain": [
              "'HelloPython'"
            ],
            "application/vnd.google.colaboratory.intrinsic+json": {
              "type": "string"
            }
          },
          "metadata": {},
          "execution_count": 18
        }
      ]
    },
    {
      "cell_type": "code",
      "source": [
        "# list에서의 +\n",
        "[1, 2, 3] + [10, 20, 30] # [1, 2, 3, 10, 20, 30]"
      ],
      "metadata": {
        "colab": {
          "base_uri": "https://localhost:8080/"
        },
        "id": "8vOoJURxzO-d",
        "outputId": "820a891c-e0ec-46f4-a0f4-d5f831327a01"
      },
      "execution_count": null,
      "outputs": [
        {
          "output_type": "execute_result",
          "data": {
            "text/plain": [
              "[1, 2, 3, 10, 20, 30]"
            ]
          },
          "metadata": {},
          "execution_count": 17
        }
      ]
    },
    {
      "cell_type": "code",
      "source": [
        "# 문자열에서의 *\n",
        "'Hello' * 3 # 'HelloHelloHello'"
      ],
      "metadata": {
        "colab": {
          "base_uri": "https://localhost:8080/",
          "height": 35
        },
        "id": "j9O0U-ZrzVrJ",
        "outputId": "103f0585-c9aa-4547-9889-fdb98a9c38ec"
      },
      "execution_count": null,
      "outputs": [
        {
          "output_type": "execute_result",
          "data": {
            "text/plain": [
              "'HelloHelloHello'"
            ],
            "application/vnd.google.colaboratory.intrinsic+json": {
              "type": "string"
            }
          },
          "metadata": {},
          "execution_count": 19
        }
      ]
    },
    {
      "cell_type": "code",
      "source": [
        "# list에서의 *\n",
        "[1, 2, 3] * 3 # [1, 2, 3, 1, 2, 3, 1, 2, 3]"
      ],
      "metadata": {
        "colab": {
          "base_uri": "https://localhost:8080/"
        },
        "id": "ZFIjjf7FzcAW",
        "outputId": "d966d1ad-c8ed-4e16-93b8-1c3b0514e722"
      },
      "execution_count": null,
      "outputs": [
        {
          "output_type": "execute_result",
          "data": {
            "text/plain": [
              "[1, 2, 3, 1, 2, 3, 1, 2, 3]"
            ]
          },
          "metadata": {},
          "execution_count": 20
        }
      ]
    },
    {
      "cell_type": "markdown",
      "source": [
        "## list의 기능들 - 함수 (메서드, method)"
      ],
      "metadata": {
        "id": "fb5vWfYCz1xe"
      }
    },
    {
      "cell_type": "markdown",
      "source": [
        "### 원소(element) 추가 "
      ],
      "metadata": {
        "id": "2TdbJQKnz_CC"
      }
    },
    {
      "cell_type": "code",
      "source": [
        "numbers = [1, 2, 3, 4, 5]\n",
        "numbers.append(100)\n",
        "print(numbers) # [1, 2, 3, 4, 5, 100]"
      ],
      "metadata": {
        "colab": {
          "base_uri": "https://localhost:8080/"
        },
        "id": "_GgfzBinz1CG",
        "outputId": "f88e9b4a-ffd7-4128-db75-96d1987eca7c"
      },
      "execution_count": null,
      "outputs": [
        {
          "output_type": "stream",
          "name": "stdout",
          "text": [
            "[1, 2, 3, 4, 5, 100]\n"
          ]
        }
      ]
    },
    {
      "cell_type": "code",
      "source": [
        "# list.insert(index, object) : list의 index 위치에 object(값) 추가.\n",
        "numbers.insert(0, 123) # numbers 리스트의 인덱스 0번 위치에 123을 추가.\n",
        "print(numbers) # [123, 1, 2, 3, 4, 5, 100]"
      ],
      "metadata": {
        "colab": {
          "base_uri": "https://localhost:8080/"
        },
        "id": "SIKNyJBf10yD",
        "outputId": "1d510a7a-882f-4c5f-d17b-1823e13733d5"
      },
      "execution_count": null,
      "outputs": [
        {
          "output_type": "stream",
          "name": "stdout",
          "text": [
            "[123, 1, 2, 3, 4, 5, 100]\n"
          ]
        }
      ]
    },
    {
      "cell_type": "code",
      "source": [
        "# list.extend(iterable) : 리스트 이어붙이기(concatenate). + 연산과 동일.\n",
        "numbers1 = [1, 2, 3]\n",
        "numbers2 = [10, 20, 30]\n",
        "numbers1.extend(numbers2) # (= numbers1 + numbers2)\n",
        "print(numbers1) # [1, 2, 3, 10, 20, 30]\n",
        "\n",
        "# numbers1.extend(0) # numbers + 0 / ERROR"
      ],
      "metadata": {
        "colab": {
          "base_uri": "https://localhost:8080/"
        },
        "id": "89_C2z-e2s3X",
        "outputId": "1bee1981-1416-4353-f2e3-c05e38558c00"
      },
      "execution_count": null,
      "outputs": [
        {
          "output_type": "stream",
          "name": "stdout",
          "text": [
            "[1, 2, 3, 10, 20, 30]\n"
          ]
        }
      ]
    },
    {
      "cell_type": "code",
      "source": [
        "numbers1 = [1, 2, 3]\n",
        "numbers2 = [10, 20, 30]\n",
        "numbers1.append(numbers2)\n",
        "print(numbers1) # [1, 2, 3, [10, 20, 30]]"
      ],
      "metadata": {
        "colab": {
          "base_uri": "https://localhost:8080/"
        },
        "id": "es2Viu8P4GBR",
        "outputId": "6ffb9cb7-1d65-4884-8e2b-ce15898d51c2"
      },
      "execution_count": null,
      "outputs": [
        {
          "output_type": "stream",
          "name": "stdout",
          "text": [
            "[1, 2, 3, [10, 20, 30]]\n"
          ]
        }
      ]
    },
    {
      "cell_type": "markdown",
      "source": [
        "### 원소 삭제"
      ],
      "metadata": {
        "id": "lCjM1D0f8wSl"
      }
    },
    {
      "cell_type": "code",
      "source": [
        "# list.remove(value) : 리스트에서 처음 등장하는 값 한 개를 삭제.\n",
        "numbers = [1, 2, 3, 1, 2, 10, 20]\n",
        "numbers.remove(2)\n",
        "print(numbers) # [1, 3, 1, 2, 10, 20]"
      ],
      "metadata": {
        "colab": {
          "base_uri": "https://localhost:8080/"
        },
        "id": "8nsDRmte8x0J",
        "outputId": "48b89e01-28ef-4f04-9da5-1683ab65bec7"
      },
      "execution_count": null,
      "outputs": [
        {
          "output_type": "stream",
          "name": "stdout",
          "text": [
            "[1, 3, 1, 2, 10, 20]\n"
          ]
        }
      ]
    },
    {
      "cell_type": "code",
      "source": [
        "# list.pop(index) : 인덱스 위치의 원소를 삭제. index를 전달하지 않으면 가장 마지막 원소를 삭제.\n",
        "numbers = [1, 2, 10, 20, 100, 200]\n",
        "numbers.pop(0) # 리스트의 첫 번째 원소(인덱스 0번 원소)를 삭제\n",
        "print(numbers) # [2, 10, 100, 200]"
      ],
      "metadata": {
        "colab": {
          "base_uri": "https://localhost:8080/"
        },
        "id": "cez941_V9eLo",
        "outputId": "8fb507ca-3645-4e61-9126-ca3781d49cf3"
      },
      "execution_count": null,
      "outputs": [
        {
          "output_type": "stream",
          "name": "stdout",
          "text": [
            "[2, 10, 20, 100, 200]\n"
          ]
        }
      ]
    },
    {
      "cell_type": "code",
      "source": [
        "numbers.pop() # 가장 마지막 원소 삭제.\n",
        "print(numbers) # [2, 10, 20, 100]"
      ],
      "metadata": {
        "colab": {
          "base_uri": "https://localhost:8080/"
        },
        "id": "d0cjWXiR-TxJ",
        "outputId": "82a7ed4c-59c5-407f-bd21-701f9895555f"
      },
      "execution_count": null,
      "outputs": [
        {
          "output_type": "stream",
          "name": "stdout",
          "text": [
            "[2, 10, 20, 100]\n"
          ]
        }
      ]
    },
    {
      "cell_type": "code",
      "source": [
        "# list.clear() : 리스트의 모든 원소를 삭제.\n",
        "numbers.clear()\n",
        "print(numbers) # []"
      ],
      "metadata": {
        "colab": {
          "base_uri": "https://localhost:8080/"
        },
        "id": "DEqQ8T7b-gZa",
        "outputId": "a377e87f-2050-4256-c652-cab9a35a1f10"
      },
      "execution_count": null,
      "outputs": [
        {
          "output_type": "stream",
          "name": "stdout",
          "text": [
            "[]\n"
          ]
        }
      ]
    },
    {
      "cell_type": "code",
      "source": [
        "len(numbers) # 리스트의 원소의 개수. 0."
      ],
      "metadata": {
        "colab": {
          "base_uri": "https://localhost:8080/"
        },
        "id": "11C3BlC2_QJU",
        "outputId": "d83bf8de-7feb-4ea4-e794-77203be9e80f"
      },
      "execution_count": null,
      "outputs": [
        {
          "output_type": "execute_result",
          "data": {
            "text/plain": [
              "0"
            ]
          },
          "metadata": {},
          "execution_count": 42
        }
      ]
    },
    {
      "cell_type": "code",
      "source": [
        "numbers = [1, 2, 3]\n",
        "numbers[1] = 100 # 리스트에서 특정 위치(인덱스)의 원소 값을 변경.\n",
        "print(numbers) # [1, 100, 3]"
      ],
      "metadata": {
        "colab": {
          "base_uri": "https://localhost:8080/"
        },
        "id": "D87BpLIJ_U7J",
        "outputId": "4df9842f-8f6f-4da8-df29-a19427b806fc"
      },
      "execution_count": null,
      "outputs": [
        {
          "output_type": "stream",
          "name": "stdout",
          "text": [
            "[1, 100, 3]\n"
          ]
        }
      ]
    }
  ]
}