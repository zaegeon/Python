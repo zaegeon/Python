{
  "nbformat": 4,
  "nbformat_minor": 0,
  "metadata": {
    "colab": {
      "name": "20220512_09_tuple.ipynb",
      "provenance": [],
      "collapsed_sections": [],
      "authorship_tag": "ABX9TyOxOo/HuvUtEmxUmuFJ3hp0",
      "include_colab_link": true
    },
    "kernelspec": {
      "name": "python3",
      "display_name": "Python 3"
    },
    "language_info": {
      "name": "python"
    }
  },
  "cells": [
    {
      "cell_type": "markdown",
      "metadata": {
        "id": "view-in-github",
        "colab_type": "text"
      },
      "source": [
        "<a href=\"https://colab.research.google.com/github/zaegeon/Python/blob/main/20220512_09_tuple.ipynb\" target=\"_parent\"><img src=\"https://colab.research.google.com/assets/colab-badge.svg\" alt=\"Open In Colab\"/></a>"
      ]
    },
    {
      "cell_type": "markdown",
      "source": [
        "# 튜플 (tuple)"
      ],
      "metadata": {
        "id": "nr3Vh4TTaCVw"
      }
    },
    {
      "cell_type": "markdown",
      "source": [
        "* tuple : 저장된 원소들을 변경할 수 없는 리스트.\n",
        "* 인덱스 기반의 데이터 타입.\n",
        "    * 인덱스를 사용해서 저장된 원소를 참조.\n",
        "    * indexing, slicing\n",
        "* append, remove 등과 같은 메서드들이 제공되지 않음."
      ],
      "metadata": {
        "id": "HYK398I6aoWF"
      }
    },
    {
      "cell_type": "code",
      "execution_count": null,
      "metadata": {
        "colab": {
          "base_uri": "https://localhost:8080/"
        },
        "id": "OR6HLH9jZ_Zn",
        "outputId": "ccd74ef6-aa05-47ad-9186-b8876741d3c6"
      },
      "outputs": [
        {
          "output_type": "stream",
          "name": "stdout",
          "text": [
            "(1, 2, 3, 1, 2, 3, 1, 2)\n",
            "<class 'tuple'>\n"
          ]
        }
      ],
      "source": [
        "numbers = (1, 2, 3, 1, 2, 3, 1, 2)\n",
        "print(numbers)\n",
        "print(type(numbers)) # <class 'tuple'>"
      ]
    },
    {
      "cell_type": "code",
      "source": [
        "numbers.count(1) # tuple numbers에서 값 1이 몇 번 등장하는지 return"
      ],
      "metadata": {
        "colab": {
          "base_uri": "https://localhost:8080/"
        },
        "id": "3PUkbZgdb4T1",
        "outputId": "c08bf367-2985-4f94-b18e-be6fcafb35e7"
      },
      "execution_count": null,
      "outputs": [
        {
          "output_type": "execute_result",
          "data": {
            "text/plain": [
              "3"
            ]
          },
          "metadata": {},
          "execution_count": 8
        }
      ]
    },
    {
      "cell_type": "code",
      "source": [
        "numbers.index(1) # tuple numbers에서 값 1이 가장 처음 등장하는 인덱스를 return"
      ],
      "metadata": {
        "colab": {
          "base_uri": "https://localhost:8080/"
        },
        "id": "dbeUgFYKceTJ",
        "outputId": "b5458aaa-9897-4d75-f342-82e55d02c1a0"
      },
      "execution_count": null,
      "outputs": [
        {
          "output_type": "execute_result",
          "data": {
            "text/plain": [
              "0"
            ]
          },
          "metadata": {},
          "execution_count": 12
        }
      ]
    },
    {
      "cell_type": "markdown",
      "source": [
        "## indexing"
      ],
      "metadata": {
        "id": "4mouwm3tc_oF"
      }
    },
    {
      "cell_type": "code",
      "source": [
        "print(numbers)\n",
        "print(numbers[0]) # tuple에서 첫 번째 원소 참조. 1.\n",
        "print(numbers[-1]) # tuple에서 마지막 원소 참조. 2."
      ],
      "metadata": {
        "colab": {
          "base_uri": "https://localhost:8080/"
        },
        "id": "fO3L9LkGdEGY",
        "outputId": "8615a2ed-ff3c-4e26-9138-459cc12119b8"
      },
      "execution_count": null,
      "outputs": [
        {
          "output_type": "stream",
          "name": "stdout",
          "text": [
            "(1, 2, 3, 1, 2, 3, 1, 2)\n",
            "1\n",
            "2\n"
          ]
        }
      ]
    },
    {
      "cell_type": "markdown",
      "source": [
        "## slicing"
      ],
      "metadata": {
        "id": "lVuPA1_sduBP"
      }
    },
    {
      "cell_type": "code",
      "source": [
        "numbers[:3] # tuple에서 앞에서 3개 slicing. (1,2,3).\n",
        "numbers[-3:] # tuple에서 뒤에서 3개 slicing. (3,1,2)."
      ],
      "metadata": {
        "colab": {
          "base_uri": "https://localhost:8080/"
        },
        "id": "8fAPHIhTdv6W",
        "outputId": "062e476c-e79b-40fb-cdf7-720a1307b81d"
      },
      "execution_count": null,
      "outputs": [
        {
          "output_type": "execute_result",
          "data": {
            "text/plain": [
              "(3, 1, 2)"
            ]
          },
          "metadata": {},
          "execution_count": 20
        }
      ]
    },
    {
      "cell_type": "markdown",
      "source": [
        "## decomposition (분해)"
      ],
      "metadata": {
        "id": "PwfbSOIxef37"
      }
    },
    {
      "cell_type": "code",
      "source": [
        "a, b = (1, 2) # 튜플의 원소 개수만큼 변수를 선언.\n",
        "print(a); print(b);    # 1 / 2"
      ],
      "metadata": {
        "colab": {
          "base_uri": "https://localhost:8080/"
        },
        "id": "EAyavu2kei6n",
        "outputId": "cf1820e5-3ff4-4828-a328-36b194734f7e"
      },
      "execution_count": null,
      "outputs": [
        {
          "output_type": "stream",
          "name": "stdout",
          "text": [
            "1\n",
            "2\n"
          ]
        }
      ]
    },
    {
      "cell_type": "code",
      "source": [
        "x, y, z = [1, 2, 3]\n",
        "print(x, y, z) # 1 2 3"
      ],
      "metadata": {
        "colab": {
          "base_uri": "https://localhost:8080/"
        },
        "id": "-0Qt_0AUfVG-",
        "outputId": "44411c18-be06-4bf5-d945-60e38b42d566"
      },
      "execution_count": null,
      "outputs": [
        {
          "output_type": "stream",
          "name": "stdout",
          "text": [
            "1 2 3\n"
          ]
        }
      ]
    },
    {
      "cell_type": "markdown",
      "source": [
        "## tuple과 for 반복문"
      ],
      "metadata": {
        "id": "8lukRX3wfzmV"
      }
    },
    {
      "cell_type": "code",
      "source": [
        "for x in (1, 2, 10, 20):\n",
        "    print(x)"
      ],
      "metadata": {
        "colab": {
          "base_uri": "https://localhost:8080/"
        },
        "id": "c43ziprCf12Q",
        "outputId": "3c98c7c3-6dfb-4806-e12c-76463728e649"
      },
      "execution_count": null,
      "outputs": [
        {
          "output_type": "stream",
          "name": "stdout",
          "text": [
            "1\n",
            "2\n",
            "10\n",
            "20\n"
          ]
        }
      ]
    },
    {
      "cell_type": "code",
      "source": [
        "mat_tuple = ((1, 2),\n",
        "             (3, 4),\n",
        "             (5, 6))\n",
        "for row in mat_tuple:\n",
        "    for x in row:\n",
        "        print(x, end='\\t')\n",
        "    print()"
      ],
      "metadata": {
        "colab": {
          "base_uri": "https://localhost:8080/"
        },
        "id": "RcTyvYDPf8Zw",
        "outputId": "826003aa-3cef-4918-c019-95393ebca856"
      },
      "execution_count": null,
      "outputs": [
        {
          "output_type": "stream",
          "name": "stdout",
          "text": [
            "1\t2\t\n",
            "3\t4\t\n",
            "5\t6\t\n"
          ]
        }
      ]
    },
    {
      "cell_type": "code",
      "source": [
        "for x, y in mat_tuple:\n",
        "    print(x, y, sep='\\t')"
      ],
      "metadata": {
        "colab": {
          "base_uri": "https://localhost:8080/"
        },
        "id": "quL6W5Eii0Ml",
        "outputId": "b92dcb52-cbbe-4920-c735-64b49a7bc8a9"
      },
      "execution_count": null,
      "outputs": [
        {
          "output_type": "stream",
          "name": "stdout",
          "text": [
            "1\t2\n",
            "3\t4\n",
            "5\t6\n"
          ]
        }
      ]
    }
  ]
}